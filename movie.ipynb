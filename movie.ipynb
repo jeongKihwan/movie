{
 "cells": [
  {
   "cell_type": "markdown",
   "metadata": {},
   "source": [
    "# 영화 관객수는 어떤것에 영향을 받나"
   ]
  },
  {
   "cell_type": "markdown",
   "metadata": {},
   "source": [
    "## 패키지"
   ]
  },
  {
   "cell_type": "code",
   "execution_count": 891,
   "metadata": {
    "ExecuteTime": {
     "end_time": "2021-01-29T11:01:31.605685Z",
     "start_time": "2021-01-29T11:01:31.593720Z"
    }
   },
   "outputs": [],
   "source": [
    "import pandas as pd\n",
    "import numpy as np\n",
    "import matplotlib.pyplot as plt\n",
    "import seaborn as sns"
   ]
  },
  {
   "cell_type": "code",
   "execution_count": 892,
   "metadata": {
    "ExecuteTime": {
     "end_time": "2021-01-29T11:01:36.251885Z",
     "start_time": "2021-01-29T11:01:36.204014Z"
    }
   },
   "outputs": [],
   "source": [
    "import matplotlib as mpl\n",
    "import matplotlib.font_manager as fm\n",
    "mpl.rcParams['axes.unicode_minus']= False\n",
    "path = 'C:/Windows/Fonts/malgun.ttf'\n",
    "font_name = fm.FontProperties(fname = path, size = 50).get_name()\n",
    "plt.rc('font', family=font_name)"
   ]
  },
  {
   "cell_type": "markdown",
   "metadata": {},
   "source": [
    "## 전처리"
   ]
  },
  {
   "cell_type": "code",
   "execution_count": 893,
   "metadata": {
    "ExecuteTime": {
     "end_time": "2021-01-29T11:01:57.444383Z",
     "start_time": "2021-01-29T11:01:40.448500Z"
    }
   },
   "outputs": [],
   "source": [
    "df = pd.read_excel('data/영화개봉.xlsx')"
   ]
  },
  {
   "cell_type": "code",
   "execution_count": 894,
   "metadata": {
    "ExecuteTime": {
     "end_time": "2021-01-29T11:02:02.015053Z",
     "start_time": "2021-01-29T11:02:01.969176Z"
    }
   },
   "outputs": [
    {
     "data": {
      "text/html": [
       "<div>\n",
       "<style scoped>\n",
       "    .dataframe tbody tr th:only-of-type {\n",
       "        vertical-align: middle;\n",
       "    }\n",
       "\n",
       "    .dataframe tbody tr th {\n",
       "        vertical-align: top;\n",
       "    }\n",
       "\n",
       "    .dataframe thead th {\n",
       "        text-align: right;\n",
       "    }\n",
       "</style>\n",
       "<table border=\"1\" class=\"dataframe\">\n",
       "  <thead>\n",
       "    <tr style=\"text-align: right;\">\n",
       "      <th></th>\n",
       "      <th>순번</th>\n",
       "      <th>영화명</th>\n",
       "      <th>감독</th>\n",
       "      <th>제작사</th>\n",
       "      <th>수입사</th>\n",
       "      <th>배급사</th>\n",
       "      <th>개봉일</th>\n",
       "      <th>영화유형</th>\n",
       "      <th>영화형태</th>\n",
       "      <th>국적</th>\n",
       "      <th>전국</th>\n",
       "      <th>전국.1</th>\n",
       "      <th>전국.2</th>\n",
       "      <th>서울</th>\n",
       "      <th>서울.1</th>\n",
       "      <th>장르</th>\n",
       "      <th>등급</th>\n",
       "      <th>영화구분</th>\n",
       "    </tr>\n",
       "  </thead>\n",
       "  <tbody>\n",
       "    <tr>\n",
       "      <th>0</th>\n",
       "      <td>NaN</td>\n",
       "      <td>NaN</td>\n",
       "      <td>NaN</td>\n",
       "      <td>NaN</td>\n",
       "      <td>NaN</td>\n",
       "      <td>NaN</td>\n",
       "      <td>NaT</td>\n",
       "      <td>NaN</td>\n",
       "      <td>NaN</td>\n",
       "      <td>NaN</td>\n",
       "      <td>스크린수</td>\n",
       "      <td>매출액</td>\n",
       "      <td>관객수</td>\n",
       "      <td>매출액</td>\n",
       "      <td>관객수</td>\n",
       "      <td>NaN</td>\n",
       "      <td>NaN</td>\n",
       "      <td>NaN</td>\n",
       "    </tr>\n",
       "    <tr>\n",
       "      <th>1</th>\n",
       "      <td>1.0</td>\n",
       "      <td>명량</td>\n",
       "      <td>김한민</td>\n",
       "      <td>(주)빅스톤픽쳐스</td>\n",
       "      <td>NaN</td>\n",
       "      <td>씨제이이앤엠(주)</td>\n",
       "      <td>2014-07-30</td>\n",
       "      <td>개봉영화</td>\n",
       "      <td>장편</td>\n",
       "      <td>한국</td>\n",
       "      <td>1587</td>\n",
       "      <td>135748398910</td>\n",
       "      <td>17613682</td>\n",
       "      <td>33121225810</td>\n",
       "      <td>4163666</td>\n",
       "      <td>사극</td>\n",
       "      <td>15세이상관람가</td>\n",
       "      <td>일반영화</td>\n",
       "    </tr>\n",
       "    <tr>\n",
       "      <th>2</th>\n",
       "      <td>2.0</td>\n",
       "      <td>극한직업</td>\n",
       "      <td>이병헌</td>\n",
       "      <td>(주)어바웃필름,영화사 해그림 주식회사,씨제이이앤엠(주)</td>\n",
       "      <td>NaN</td>\n",
       "      <td>씨제이이앤엠(주)</td>\n",
       "      <td>2019-01-23</td>\n",
       "      <td>개봉영화</td>\n",
       "      <td>장편</td>\n",
       "      <td>한국</td>\n",
       "      <td>1978</td>\n",
       "      <td>139647979516</td>\n",
       "      <td>16264944</td>\n",
       "      <td>31858660536</td>\n",
       "      <td>3638287</td>\n",
       "      <td>코미디</td>\n",
       "      <td>15세이상관람가</td>\n",
       "      <td>일반영화</td>\n",
       "    </tr>\n",
       "  </tbody>\n",
       "</table>\n",
       "</div>"
      ],
      "text/plain": [
       "    순번   영화명   감독                              제작사  수입사        배급사        개봉일  \\\n",
       "0  NaN   NaN  NaN                              NaN  NaN        NaN        NaT   \n",
       "1  1.0    명량  김한민                        (주)빅스톤픽쳐스  NaN  씨제이이앤엠(주) 2014-07-30   \n",
       "2  2.0  극한직업  이병헌  (주)어바웃필름,영화사 해그림 주식회사,씨제이이앤엠(주)  NaN  씨제이이앤엠(주) 2019-01-23   \n",
       "\n",
       "   영화유형 영화형태   국적    전국          전국.1      전국.2           서울     서울.1   장르  \\\n",
       "0   NaN  NaN  NaN  스크린수           매출액       관객수          매출액      관객수  NaN   \n",
       "1  개봉영화   장편   한국  1587  135748398910  17613682  33121225810  4163666   사극   \n",
       "2  개봉영화   장편   한국  1978  139647979516  16264944  31858660536  3638287  코미디   \n",
       "\n",
       "         등급  영화구분  \n",
       "0       NaN   NaN  \n",
       "1  15세이상관람가  일반영화  \n",
       "2  15세이상관람가  일반영화  "
      ]
     },
     "execution_count": 894,
     "metadata": {},
     "output_type": "execute_result"
    }
   ],
   "source": [
    "df.head(3)"
   ]
  },
  {
   "cell_type": "code",
   "execution_count": 895,
   "metadata": {
    "ExecuteTime": {
     "end_time": "2021-01-29T11:02:05.881833Z",
     "start_time": "2021-01-29T11:02:05.798056Z"
    }
   },
   "outputs": [
    {
     "name": "stdout",
     "output_type": "stream",
     "text": [
      "<class 'pandas.core.frame.DataFrame'>\n",
      "RangeIndex: 16786 entries, 0 to 16785\n",
      "Data columns (total 18 columns):\n",
      " #   Column  Non-Null Count  Dtype         \n",
      "---  ------  --------------  -----         \n",
      " 0   순번      16785 non-null  float64       \n",
      " 1   영화명     16785 non-null  object        \n",
      " 2   감독      16100 non-null  object        \n",
      " 3   제작사     5896 non-null   object        \n",
      " 4   수입사     11506 non-null  object        \n",
      " 5   배급사     16226 non-null  object        \n",
      " 6   개봉일     16775 non-null  datetime64[ns]\n",
      " 7   영화유형    16785 non-null  object        \n",
      " 8   영화형태    16784 non-null  object        \n",
      " 9   국적      16784 non-null  object        \n",
      " 10  전국      16786 non-null  object        \n",
      " 11  전국.1    16664 non-null  object        \n",
      " 12  전국.2    16786 non-null  object        \n",
      " 13  서울      16658 non-null  object        \n",
      " 14  서울.1    16786 non-null  object        \n",
      " 15  장르      16705 non-null  object        \n",
      " 16  등급      16769 non-null  object        \n",
      " 17  영화구분    16785 non-null  object        \n",
      "dtypes: datetime64[ns](1), float64(1), object(16)\n",
      "memory usage: 2.3+ MB\n"
     ]
    }
   ],
   "source": [
    "df.info()"
   ]
  },
  {
   "cell_type": "code",
   "execution_count": 896,
   "metadata": {
    "ExecuteTime": {
     "end_time": "2021-01-29T11:02:13.840583Z",
     "start_time": "2021-01-29T11:02:09.647169Z"
    }
   },
   "outputs": [],
   "source": [
    "df1 = pd.read_excel('data/영화정보.xlsx')"
   ]
  },
  {
   "cell_type": "code",
   "execution_count": 897,
   "metadata": {
    "ExecuteTime": {
     "end_time": "2021-01-29T11:02:17.655764Z",
     "start_time": "2021-01-29T11:02:17.627839Z"
    }
   },
   "outputs": [
    {
     "data": {
      "text/html": [
       "<div>\n",
       "<style scoped>\n",
       "    .dataframe tbody tr th:only-of-type {\n",
       "        vertical-align: middle;\n",
       "    }\n",
       "\n",
       "    .dataframe tbody tr th {\n",
       "        vertical-align: top;\n",
       "    }\n",
       "\n",
       "    .dataframe thead th {\n",
       "        text-align: right;\n",
       "    }\n",
       "</style>\n",
       "<table border=\"1\" class=\"dataframe\">\n",
       "  <thead>\n",
       "    <tr style=\"text-align: right;\">\n",
       "      <th></th>\n",
       "      <th>영화명</th>\n",
       "      <th>영화명(영문)</th>\n",
       "      <th>제작연도</th>\n",
       "      <th>제작국가</th>\n",
       "      <th>유형</th>\n",
       "      <th>장르</th>\n",
       "      <th>제작상태</th>\n",
       "      <th>감독</th>\n",
       "      <th>제작사</th>\n",
       "    </tr>\n",
       "  </thead>\n",
       "  <tbody>\n",
       "    <tr>\n",
       "      <th>0</th>\n",
       "      <td>엽기적인 그녀</td>\n",
       "      <td>My Sassy Girl</td>\n",
       "      <td>2001.0</td>\n",
       "      <td>한국</td>\n",
       "      <td>장편</td>\n",
       "      <td>코미디</td>\n",
       "      <td>개봉</td>\n",
       "      <td>곽재용</td>\n",
       "      <td>(주)신씨네</td>\n",
       "    </tr>\n",
       "    <tr>\n",
       "      <th>1</th>\n",
       "      <td>이웃사촌</td>\n",
       "      <td>Best Friend</td>\n",
       "      <td>2020.0</td>\n",
       "      <td>한국</td>\n",
       "      <td>장편</td>\n",
       "      <td>드라마,코미디</td>\n",
       "      <td>개봉</td>\n",
       "      <td>이환경</td>\n",
       "      <td>(주)시네마허브,환타지엔터테인먼트</td>\n",
       "    </tr>\n",
       "    <tr>\n",
       "      <th>2</th>\n",
       "      <td>다시 만난 날들</td>\n",
       "      <td>Da Capo</td>\n",
       "      <td>2019.0</td>\n",
       "      <td>한국</td>\n",
       "      <td>장편</td>\n",
       "      <td>뮤지컬,드라마,멜로/로맨스</td>\n",
       "      <td>개봉</td>\n",
       "      <td>심찬양</td>\n",
       "      <td>(주)푸른나무픽쳐스</td>\n",
       "    </tr>\n",
       "  </tbody>\n",
       "</table>\n",
       "</div>"
      ],
      "text/plain": [
       "        영화명        영화명(영문)    제작연도 제작국가  유형              장르 제작상태   감독  \\\n",
       "0   엽기적인 그녀  My Sassy Girl  2001.0   한국  장편             코미디   개봉  곽재용   \n",
       "1      이웃사촌    Best Friend  2020.0   한국  장편         드라마,코미디   개봉  이환경   \n",
       "2  다시 만난 날들        Da Capo  2019.0   한국  장편  뮤지컬,드라마,멜로/로맨스   개봉  심찬양   \n",
       "\n",
       "                  제작사  \n",
       "0              (주)신씨네  \n",
       "1  (주)시네마허브,환타지엔터테인먼트  \n",
       "2          (주)푸른나무픽쳐스  "
      ]
     },
     "execution_count": 897,
     "metadata": {},
     "output_type": "execute_result"
    }
   ],
   "source": [
    "df1.head(3)"
   ]
  },
  {
   "cell_type": "code",
   "execution_count": 898,
   "metadata": {
    "ExecuteTime": {
     "end_time": "2021-01-29T11:02:21.503654Z",
     "start_time": "2021-01-29T11:02:21.471738Z"
    }
   },
   "outputs": [
    {
     "name": "stdout",
     "output_type": "stream",
     "text": [
      "<class 'pandas.core.frame.DataFrame'>\n",
      "RangeIndex: 18072 entries, 0 to 18071\n",
      "Data columns (total 9 columns):\n",
      " #   Column   Non-Null Count  Dtype  \n",
      "---  ------   --------------  -----  \n",
      " 0   영화명      18072 non-null  object \n",
      " 1   영화명(영문)  15325 non-null  object \n",
      " 2   제작연도     17494 non-null  float64\n",
      " 3   제작국가     18039 non-null  object \n",
      " 4   유형       18069 non-null  object \n",
      " 5   장르       17879 non-null  object \n",
      " 6   제작상태     17927 non-null  object \n",
      " 7   감독       16427 non-null  object \n",
      " 8   제작사      5966 non-null   object \n",
      "dtypes: float64(1), object(8)\n",
      "memory usage: 1.2+ MB\n"
     ]
    }
   ],
   "source": [
    "df1.info()"
   ]
  },
  {
   "cell_type": "code",
   "execution_count": 899,
   "metadata": {
    "ExecuteTime": {
     "end_time": "2021-01-29T11:02:25.358735Z",
     "start_time": "2021-01-29T11:02:25.346766Z"
    }
   },
   "outputs": [
    {
     "data": {
      "text/plain": [
       "Index(['순번', '영화명', '감독_x', '제작사_x', '수입사', '배급사', '개봉일', '영화유형', '영화형태', '국적',\n",
       "       '전국', '전국.1', '전국.2', '서울', '서울.1', '장르_x', '등급', '영화구분', '영화명(영문)',\n",
       "       '제작연도', '제작국가', '유형', '장르_y', '제작상태', '감독_y', '제작사_y'],\n",
       "      dtype='object')"
      ]
     },
     "execution_count": 899,
     "metadata": {},
     "output_type": "execute_result"
    }
   ],
   "source": [
    "movie.columns"
   ]
  },
  {
   "cell_type": "code",
   "execution_count": 900,
   "metadata": {
    "ExecuteTime": {
     "end_time": "2021-01-29T11:02:29.330038Z",
     "start_time": "2021-01-29T11:02:29.131402Z"
    }
   },
   "outputs": [],
   "source": [
    "movie = pd.merge(df,df1,how='outer',on='영화명')\n",
    "movie.drop(['순번','감독_y','제작사_y','배급사','영화유형','영화형태','전국.1','서울','서울.1','장르_x','영화구분','제작연도','유형','제작상태','영화명(영문)','제작국가','수입사'],axis=1,inplace=True)"
   ]
  },
  {
   "cell_type": "code",
   "execution_count": 901,
   "metadata": {
    "ExecuteTime": {
     "end_time": "2021-01-29T11:02:33.867466Z",
     "start_time": "2021-01-29T11:02:33.825578Z"
    }
   },
   "outputs": [
    {
     "data": {
      "text/html": [
       "<div>\n",
       "<style scoped>\n",
       "    .dataframe tbody tr th:only-of-type {\n",
       "        vertical-align: middle;\n",
       "    }\n",
       "\n",
       "    .dataframe tbody tr th {\n",
       "        vertical-align: top;\n",
       "    }\n",
       "\n",
       "    .dataframe thead th {\n",
       "        text-align: right;\n",
       "    }\n",
       "</style>\n",
       "<table border=\"1\" class=\"dataframe\">\n",
       "  <thead>\n",
       "    <tr style=\"text-align: right;\">\n",
       "      <th></th>\n",
       "      <th>영화명</th>\n",
       "      <th>감독_x</th>\n",
       "      <th>제작사_x</th>\n",
       "      <th>개봉일</th>\n",
       "      <th>국적</th>\n",
       "      <th>전국</th>\n",
       "      <th>전국.2</th>\n",
       "      <th>등급</th>\n",
       "      <th>장르_y</th>\n",
       "    </tr>\n",
       "  </thead>\n",
       "  <tbody>\n",
       "    <tr>\n",
       "      <th>0</th>\n",
       "      <td>NaN</td>\n",
       "      <td>NaN</td>\n",
       "      <td>NaN</td>\n",
       "      <td>NaT</td>\n",
       "      <td>NaN</td>\n",
       "      <td>스크린수</td>\n",
       "      <td>관객수</td>\n",
       "      <td>NaN</td>\n",
       "      <td>NaN</td>\n",
       "    </tr>\n",
       "    <tr>\n",
       "      <th>1</th>\n",
       "      <td>명량</td>\n",
       "      <td>김한민</td>\n",
       "      <td>(주)빅스톤픽쳐스</td>\n",
       "      <td>2014-07-30</td>\n",
       "      <td>한국</td>\n",
       "      <td>1587</td>\n",
       "      <td>17613682</td>\n",
       "      <td>15세이상관람가</td>\n",
       "      <td>사극,액션</td>\n",
       "    </tr>\n",
       "    <tr>\n",
       "      <th>2</th>\n",
       "      <td>극한직업</td>\n",
       "      <td>이병헌</td>\n",
       "      <td>(주)어바웃필름,영화사 해그림 주식회사,씨제이이앤엠(주)</td>\n",
       "      <td>2019-01-23</td>\n",
       "      <td>한국</td>\n",
       "      <td>1978</td>\n",
       "      <td>16264944</td>\n",
       "      <td>15세이상관람가</td>\n",
       "      <td>코미디</td>\n",
       "    </tr>\n",
       "  </tbody>\n",
       "</table>\n",
       "</div>"
      ],
      "text/plain": [
       "    영화명 감독_x                            제작사_x        개봉일   국적    전국      전국.2  \\\n",
       "0   NaN  NaN                              NaN        NaT  NaN  스크린수       관객수   \n",
       "1    명량  김한민                        (주)빅스톤픽쳐스 2014-07-30   한국  1587  17613682   \n",
       "2  극한직업  이병헌  (주)어바웃필름,영화사 해그림 주식회사,씨제이이앤엠(주) 2019-01-23   한국  1978  16264944   \n",
       "\n",
       "         등급   장르_y  \n",
       "0       NaN    NaN  \n",
       "1  15세이상관람가  사극,액션  \n",
       "2  15세이상관람가    코미디  "
      ]
     },
     "execution_count": 901,
     "metadata": {},
     "output_type": "execute_result"
    }
   ],
   "source": [
    "movie.head(3)"
   ]
  },
  {
   "cell_type": "code",
   "execution_count": 902,
   "metadata": {
    "ExecuteTime": {
     "end_time": "2021-01-29T11:02:38.302722Z",
     "start_time": "2021-01-29T11:02:38.294742Z"
    }
   },
   "outputs": [],
   "source": [
    "movie.rename(columns={'감독_x':'감독','제작사_x':'제작사','국적':'국가','전국':'스크린수','전국.2':'관객수','장르_y':'장르'},inplace=True)"
   ]
  },
  {
   "cell_type": "code",
   "execution_count": 903,
   "metadata": {
    "ExecuteTime": {
     "end_time": "2021-01-29T11:02:41.894238Z",
     "start_time": "2021-01-29T11:02:41.880275Z"
    }
   },
   "outputs": [],
   "source": [
    "movie.drop(0,inplace=True)"
   ]
  },
  {
   "cell_type": "code",
   "execution_count": 904,
   "metadata": {
    "ExecuteTime": {
     "end_time": "2021-01-29T11:02:45.438026Z",
     "start_time": "2021-01-29T11:02:45.411100Z"
    }
   },
   "outputs": [
    {
     "data": {
      "text/plain": [
       "영화명         0\n",
       "감독       2330\n",
       "제작사     13151\n",
       "개봉일      1564\n",
       "국가       1555\n",
       "스크린수     1554\n",
       "관객수      1554\n",
       "등급       1578\n",
       "장르        475\n",
       "dtype: int64"
      ]
     },
     "execution_count": 904,
     "metadata": {},
     "output_type": "execute_result"
    }
   ],
   "source": [
    "movie.isnull().sum()"
   ]
  },
  {
   "cell_type": "code",
   "execution_count": 905,
   "metadata": {
    "ExecuteTime": {
     "end_time": "2021-01-29T11:02:48.904095Z",
     "start_time": "2021-01-29T11:02:48.869103Z"
    }
   },
   "outputs": [],
   "source": [
    "movie = movie.dropna()"
   ]
  },
  {
   "cell_type": "code",
   "execution_count": 906,
   "metadata": {
    "ExecuteTime": {
     "end_time": "2021-01-29T11:02:52.811529Z",
     "start_time": "2021-01-29T11:02:52.786595Z"
    }
   },
   "outputs": [
    {
     "data": {
      "text/html": [
       "<div>\n",
       "<style scoped>\n",
       "    .dataframe tbody tr th:only-of-type {\n",
       "        vertical-align: middle;\n",
       "    }\n",
       "\n",
       "    .dataframe tbody tr th {\n",
       "        vertical-align: top;\n",
       "    }\n",
       "\n",
       "    .dataframe thead th {\n",
       "        text-align: right;\n",
       "    }\n",
       "</style>\n",
       "<table border=\"1\" class=\"dataframe\">\n",
       "  <thead>\n",
       "    <tr style=\"text-align: right;\">\n",
       "      <th></th>\n",
       "      <th>영화명</th>\n",
       "      <th>감독</th>\n",
       "      <th>제작사</th>\n",
       "      <th>개봉일</th>\n",
       "      <th>국가</th>\n",
       "      <th>스크린수</th>\n",
       "      <th>관객수</th>\n",
       "      <th>등급</th>\n",
       "      <th>장르</th>\n",
       "    </tr>\n",
       "  </thead>\n",
       "  <tbody>\n",
       "    <tr>\n",
       "      <th>1</th>\n",
       "      <td>명량</td>\n",
       "      <td>김한민</td>\n",
       "      <td>(주)빅스톤픽쳐스</td>\n",
       "      <td>2014-07-30</td>\n",
       "      <td>한국</td>\n",
       "      <td>1587</td>\n",
       "      <td>17613682</td>\n",
       "      <td>15세이상관람가</td>\n",
       "      <td>사극,액션</td>\n",
       "    </tr>\n",
       "    <tr>\n",
       "      <th>2</th>\n",
       "      <td>극한직업</td>\n",
       "      <td>이병헌</td>\n",
       "      <td>(주)어바웃필름,영화사 해그림 주식회사,씨제이이앤엠(주)</td>\n",
       "      <td>2019-01-23</td>\n",
       "      <td>한국</td>\n",
       "      <td>1978</td>\n",
       "      <td>16264944</td>\n",
       "      <td>15세이상관람가</td>\n",
       "      <td>코미디</td>\n",
       "    </tr>\n",
       "    <tr>\n",
       "      <th>3</th>\n",
       "      <td>신과함께-죄와 벌</td>\n",
       "      <td>김용화</td>\n",
       "      <td>리얼라이즈픽쳐스(주),(주)덱스터스튜디오</td>\n",
       "      <td>2017-12-20</td>\n",
       "      <td>한국</td>\n",
       "      <td>1912</td>\n",
       "      <td>14410754</td>\n",
       "      <td>12세이상관람가</td>\n",
       "      <td>판타지,드라마</td>\n",
       "    </tr>\n",
       "  </tbody>\n",
       "</table>\n",
       "</div>"
      ],
      "text/plain": [
       "         영화명   감독                              제작사        개봉일  국가  스크린수  \\\n",
       "1         명량  김한민                        (주)빅스톤픽쳐스 2014-07-30  한국  1587   \n",
       "2       극한직업  이병헌  (주)어바웃필름,영화사 해그림 주식회사,씨제이이앤엠(주) 2019-01-23  한국  1978   \n",
       "3  신과함께-죄와 벌  김용화           리얼라이즈픽쳐스(주),(주)덱스터스튜디오 2017-12-20  한국  1912   \n",
       "\n",
       "        관객수        등급       장르  \n",
       "1  17613682  15세이상관람가    사극,액션  \n",
       "2  16264944  15세이상관람가      코미디  \n",
       "3  14410754  12세이상관람가  판타지,드라마  "
      ]
     },
     "execution_count": 906,
     "metadata": {},
     "output_type": "execute_result"
    }
   ],
   "source": [
    "movie.head(3)"
   ]
  },
  {
   "cell_type": "code",
   "execution_count": 907,
   "metadata": {
    "ExecuteTime": {
     "end_time": "2021-01-29T11:02:56.432519Z",
     "start_time": "2021-01-29T11:02:56.418520Z"
    }
   },
   "outputs": [],
   "source": [
    "movie.drop('제작사',axis=1,inplace=True)"
   ]
  },
  {
   "cell_type": "code",
   "execution_count": 908,
   "metadata": {
    "ExecuteTime": {
     "end_time": "2021-01-29T11:02:59.904872Z",
     "start_time": "2021-01-29T11:02:59.863984Z"
    }
   },
   "outputs": [
    {
     "name": "stdout",
     "output_type": "stream",
     "text": [
      "<class 'pandas.core.frame.DataFrame'>\n",
      "Int64Index: 5968 entries, 1 to 17746\n",
      "Data columns (total 8 columns):\n",
      " #   Column  Non-Null Count  Dtype         \n",
      "---  ------  --------------  -----         \n",
      " 0   영화명     5968 non-null   object        \n",
      " 1   감독      5968 non-null   object        \n",
      " 2   개봉일     5968 non-null   datetime64[ns]\n",
      " 3   국가      5968 non-null   object        \n",
      " 4   스크린수    5968 non-null   object        \n",
      " 5   관객수     5968 non-null   object        \n",
      " 6   등급      5968 non-null   object        \n",
      " 7   장르      5968 non-null   object        \n",
      "dtypes: datetime64[ns](1), object(7)\n",
      "memory usage: 419.6+ KB\n"
     ]
    }
   ],
   "source": [
    "movie.info()"
   ]
  },
  {
   "cell_type": "code",
   "execution_count": 909,
   "metadata": {
    "ExecuteTime": {
     "end_time": "2021-01-29T11:03:03.421649Z",
     "start_time": "2021-01-29T11:03:03.405681Z"
    }
   },
   "outputs": [],
   "source": [
    "movie = movie.astype({'스크린수':'int','관객수':'int'})"
   ]
  },
  {
   "cell_type": "code",
   "execution_count": 910,
   "metadata": {
    "ExecuteTime": {
     "end_time": "2021-01-29T11:03:06.868171Z",
     "start_time": "2021-01-29T11:03:06.858200Z"
    }
   },
   "outputs": [],
   "source": [
    "movie.rename(columns={'등급':'관람가'},inplace=True)"
   ]
  },
  {
   "cell_type": "code",
   "execution_count": 911,
   "metadata": {
    "ExecuteTime": {
     "end_time": "2021-01-29T11:03:10.467226Z",
     "start_time": "2021-01-29T11:03:10.426332Z"
    }
   },
   "outputs": [
    {
     "data": {
      "text/html": [
       "<div>\n",
       "<style scoped>\n",
       "    .dataframe tbody tr th:only-of-type {\n",
       "        vertical-align: middle;\n",
       "    }\n",
       "\n",
       "    .dataframe tbody tr th {\n",
       "        vertical-align: top;\n",
       "    }\n",
       "\n",
       "    .dataframe thead th {\n",
       "        text-align: right;\n",
       "    }\n",
       "</style>\n",
       "<table border=\"1\" class=\"dataframe\">\n",
       "  <thead>\n",
       "    <tr style=\"text-align: right;\">\n",
       "      <th></th>\n",
       "      <th>영화명</th>\n",
       "      <th>감독</th>\n",
       "      <th>개봉일</th>\n",
       "      <th>국가</th>\n",
       "      <th>스크린수</th>\n",
       "      <th>관객수</th>\n",
       "      <th>관람가</th>\n",
       "      <th>장르</th>\n",
       "    </tr>\n",
       "  </thead>\n",
       "  <tbody>\n",
       "    <tr>\n",
       "      <th>1</th>\n",
       "      <td>명량</td>\n",
       "      <td>김한민</td>\n",
       "      <td>2014-07-30</td>\n",
       "      <td>한국</td>\n",
       "      <td>1587</td>\n",
       "      <td>17613682</td>\n",
       "      <td>15세이상관람가</td>\n",
       "      <td>사극,액션</td>\n",
       "    </tr>\n",
       "    <tr>\n",
       "      <th>2</th>\n",
       "      <td>극한직업</td>\n",
       "      <td>이병헌</td>\n",
       "      <td>2019-01-23</td>\n",
       "      <td>한국</td>\n",
       "      <td>1978</td>\n",
       "      <td>16264944</td>\n",
       "      <td>15세이상관람가</td>\n",
       "      <td>코미디</td>\n",
       "    </tr>\n",
       "    <tr>\n",
       "      <th>3</th>\n",
       "      <td>신과함께-죄와 벌</td>\n",
       "      <td>김용화</td>\n",
       "      <td>2017-12-20</td>\n",
       "      <td>한국</td>\n",
       "      <td>1912</td>\n",
       "      <td>14410754</td>\n",
       "      <td>12세이상관람가</td>\n",
       "      <td>판타지,드라마</td>\n",
       "    </tr>\n",
       "  </tbody>\n",
       "</table>\n",
       "</div>"
      ],
      "text/plain": [
       "         영화명   감독        개봉일  국가  스크린수       관객수       관람가       장르\n",
       "1         명량  김한민 2014-07-30  한국  1587  17613682  15세이상관람가    사극,액션\n",
       "2       극한직업  이병헌 2019-01-23  한국  1978  16264944  15세이상관람가      코미디\n",
       "3  신과함께-죄와 벌  김용화 2017-12-20  한국  1912  14410754  12세이상관람가  판타지,드라마"
      ]
     },
     "execution_count": 911,
     "metadata": {},
     "output_type": "execute_result"
    }
   ],
   "source": [
    "movie.head(3)"
   ]
  },
  {
   "cell_type": "code",
   "execution_count": 912,
   "metadata": {
    "ExecuteTime": {
     "end_time": "2021-01-29T11:03:13.949871Z",
     "start_time": "2021-01-29T11:03:13.850187Z"
    }
   },
   "outputs": [
    {
     "data": {
      "text/plain": [
       "array(['15세이상관람가', '12세이상관람가', '12세관람가', '15세관람가', '청소년관람불가', '18세관람가',\n",
       "       '전체관람가', '12세이상관람가,12세관람가', '15세관람가,15세이상관람가', '18세관람가,청소년관람불가',\n",
       "       '12세이상관람가,전체관람가', '청소년관람불가,15세이상관람가', '제한상영가',\n",
       "       '모든 관람객이 관람할 수 있는 등급', '18세 미만인 자는 관람할 수 없는 등급',\n",
       "       '12세 미만인 자는 관람할 수 없는 등급'], dtype=object)"
      ]
     },
     "execution_count": 912,
     "metadata": {},
     "output_type": "execute_result"
    }
   ],
   "source": [
    "movie.관람가.unique()"
   ]
  },
  {
   "cell_type": "code",
   "execution_count": 913,
   "metadata": {
    "ExecuteTime": {
     "end_time": "2021-01-29T11:03:21.407674Z",
     "start_time": "2021-01-29T11:03:21.214522Z"
    }
   },
   "outputs": [],
   "source": [
    "movie.관람가 = movie.관람가.replace({'12세 미만인 자는 관람할 수 없는 등급':'12세이상관람가','모든 관람객이 관람할 수 있는 등급':'전체관람가','18세 미만인 자는 관람할 수 없는 등급':'18세이상관람가'})\n",
    "movie.관람가 = movie.관람가.replace({'청소년관람불가':'19세이상관람가','12세이상관람가,12세관람가':'12세이상관람가','15세관람가,15세이상관람가':'15세이상관람가'})\n",
    "movie.관람가 = movie.관람가.replace({'15세관람가':'15세이상관람가','18세관람가,청소년관람불가':'18세이상관람가','18세관람가':'18세이상관람가','12세이상관람가,전체관람가':'전체관람가','청소년관람불가,15세이상관람가':'15세이상관람가'})\n",
    "movie.관람가 = movie.관람가.apply(lambda x:x.split('관')[0])"
   ]
  },
  {
   "cell_type": "code",
   "execution_count": 914,
   "metadata": {
    "ExecuteTime": {
     "end_time": "2021-01-29T11:03:25.878807Z",
     "start_time": "2021-01-29T11:03:25.825947Z"
    }
   },
   "outputs": [
    {
     "data": {
      "text/html": [
       "<div>\n",
       "<style scoped>\n",
       "    .dataframe tbody tr th:only-of-type {\n",
       "        vertical-align: middle;\n",
       "    }\n",
       "\n",
       "    .dataframe tbody tr th {\n",
       "        vertical-align: top;\n",
       "    }\n",
       "\n",
       "    .dataframe thead th {\n",
       "        text-align: right;\n",
       "    }\n",
       "</style>\n",
       "<table border=\"1\" class=\"dataframe\">\n",
       "  <thead>\n",
       "    <tr style=\"text-align: right;\">\n",
       "      <th></th>\n",
       "      <th>영화명</th>\n",
       "      <th>감독</th>\n",
       "      <th>개봉일</th>\n",
       "      <th>국가</th>\n",
       "      <th>스크린수</th>\n",
       "      <th>관객수</th>\n",
       "      <th>관람가</th>\n",
       "      <th>장르</th>\n",
       "    </tr>\n",
       "  </thead>\n",
       "  <tbody>\n",
       "    <tr>\n",
       "      <th>8384</th>\n",
       "      <td>허스</td>\n",
       "      <td>김정중</td>\n",
       "      <td>2007-08-02</td>\n",
       "      <td>한국</td>\n",
       "      <td>0</td>\n",
       "      <td>597</td>\n",
       "      <td>제한상영가</td>\n",
       "      <td>드라마,멜로/로맨스</td>\n",
       "    </tr>\n",
       "  </tbody>\n",
       "</table>\n",
       "</div>"
      ],
      "text/plain": [
       "     영화명   감독        개봉일  국가  스크린수  관객수    관람가          장르\n",
       "8384  허스  김정중 2007-08-02  한국     0  597  제한상영가  드라마,멜로/로맨스"
      ]
     },
     "execution_count": 914,
     "metadata": {},
     "output_type": "execute_result"
    }
   ],
   "source": [
    "movie[movie.관람가 == '제한상영가']"
   ]
  },
  {
   "cell_type": "code",
   "execution_count": 915,
   "metadata": {
    "ExecuteTime": {
     "end_time": "2021-01-29T11:03:30.592960Z",
     "start_time": "2021-01-29T11:03:30.580799Z"
    }
   },
   "outputs": [],
   "source": [
    "movie.drop(8384,axis=0,inplace=True)"
   ]
  },
  {
   "cell_type": "code",
   "execution_count": 916,
   "metadata": {
    "ExecuteTime": {
     "end_time": "2021-01-29T11:03:34.708656Z",
     "start_time": "2021-01-29T11:03:34.693694Z"
    }
   },
   "outputs": [],
   "source": [
    "movie.관람가 = movie.관람가.apply(lambda x:x.split('관')[0])"
   ]
  },
  {
   "cell_type": "code",
   "execution_count": 917,
   "metadata": {
    "ExecuteTime": {
     "end_time": "2021-01-29T11:03:38.254955Z",
     "start_time": "2021-01-29T11:03:38.233051Z"
    }
   },
   "outputs": [
    {
     "data": {
      "text/html": [
       "<div>\n",
       "<style scoped>\n",
       "    .dataframe tbody tr th:only-of-type {\n",
       "        vertical-align: middle;\n",
       "    }\n",
       "\n",
       "    .dataframe tbody tr th {\n",
       "        vertical-align: top;\n",
       "    }\n",
       "\n",
       "    .dataframe thead th {\n",
       "        text-align: right;\n",
       "    }\n",
       "</style>\n",
       "<table border=\"1\" class=\"dataframe\">\n",
       "  <thead>\n",
       "    <tr style=\"text-align: right;\">\n",
       "      <th></th>\n",
       "      <th>영화명</th>\n",
       "      <th>감독</th>\n",
       "      <th>개봉일</th>\n",
       "      <th>국가</th>\n",
       "      <th>스크린수</th>\n",
       "      <th>관객수</th>\n",
       "      <th>관람가</th>\n",
       "      <th>장르</th>\n",
       "    </tr>\n",
       "  </thead>\n",
       "  <tbody>\n",
       "    <tr>\n",
       "      <th>1</th>\n",
       "      <td>명량</td>\n",
       "      <td>김한민</td>\n",
       "      <td>2014-07-30</td>\n",
       "      <td>한국</td>\n",
       "      <td>1587</td>\n",
       "      <td>17613682</td>\n",
       "      <td>15세이상</td>\n",
       "      <td>사극,액션</td>\n",
       "    </tr>\n",
       "    <tr>\n",
       "      <th>2</th>\n",
       "      <td>극한직업</td>\n",
       "      <td>이병헌</td>\n",
       "      <td>2019-01-23</td>\n",
       "      <td>한국</td>\n",
       "      <td>1978</td>\n",
       "      <td>16264944</td>\n",
       "      <td>15세이상</td>\n",
       "      <td>코미디</td>\n",
       "    </tr>\n",
       "    <tr>\n",
       "      <th>3</th>\n",
       "      <td>신과함께-죄와 벌</td>\n",
       "      <td>김용화</td>\n",
       "      <td>2017-12-20</td>\n",
       "      <td>한국</td>\n",
       "      <td>1912</td>\n",
       "      <td>14410754</td>\n",
       "      <td>12세이상</td>\n",
       "      <td>판타지,드라마</td>\n",
       "    </tr>\n",
       "  </tbody>\n",
       "</table>\n",
       "</div>"
      ],
      "text/plain": [
       "         영화명   감독        개봉일  국가  스크린수       관객수    관람가       장르\n",
       "1         명량  김한민 2014-07-30  한국  1587  17613682  15세이상    사극,액션\n",
       "2       극한직업  이병헌 2019-01-23  한국  1978  16264944  15세이상      코미디\n",
       "3  신과함께-죄와 벌  김용화 2017-12-20  한국  1912  14410754  12세이상  판타지,드라마"
      ]
     },
     "execution_count": 917,
     "metadata": {},
     "output_type": "execute_result"
    }
   ],
   "source": [
    "movie.head(3)"
   ]
  },
  {
   "cell_type": "code",
   "execution_count": 918,
   "metadata": {
    "ExecuteTime": {
     "end_time": "2021-01-29T11:03:41.942863Z",
     "start_time": "2021-01-29T11:03:41.924911Z"
    }
   },
   "outputs": [],
   "source": [
    "movie.장르 = movie.장르.apply(lambda x:x.split(',')[0])"
   ]
  },
  {
   "cell_type": "code",
   "execution_count": 919,
   "metadata": {
    "ExecuteTime": {
     "end_time": "2021-01-29T11:03:46.728674Z",
     "start_time": "2021-01-29T11:03:46.533496Z"
    }
   },
   "outputs": [],
   "source": [
    "movie['개봉연도'] = movie.개봉일.dt.year\n",
    "movie['개봉달'] = movie.개봉일.dt.month"
   ]
  },
  {
   "cell_type": "code",
   "execution_count": 920,
   "metadata": {
    "ExecuteTime": {
     "end_time": "2021-01-29T11:03:50.548160Z",
     "start_time": "2021-01-29T11:03:50.515022Z"
    }
   },
   "outputs": [],
   "source": [
    "movie.loc[(movie['관객수'] >= 10000000),'등급'] = '1'\n",
    "movie.loc[(movie['관객수'] <= 10000000) & (movie['관객수'] >= 5000000),'등급'] = '2'\n",
    "movie.loc[(movie['관객수'] <= 5000000) & (movie['관객수'] >= 1000000),'등급'] = '3'\n",
    "movie.loc[(movie['관객수'] <= 1000000) & (movie['관객수'] >= 100000),'등급'] = '4'\n",
    "movie.loc[(movie['관객수'] <= 100000) & (movie['관객수'] >= 1),'등급'] = '5'"
   ]
  },
  {
   "cell_type": "code",
   "execution_count": 921,
   "metadata": {
    "ExecuteTime": {
     "end_time": "2021-01-29T11:03:54.968806Z",
     "start_time": "2021-01-29T11:03:54.944871Z"
    }
   },
   "outputs": [],
   "source": [
    "movie.drop_duplicates(['관객수'],keep='first',inplace=True)"
   ]
  },
  {
   "cell_type": "code",
   "execution_count": 922,
   "metadata": {
    "ExecuteTime": {
     "end_time": "2021-01-29T11:03:58.781967Z",
     "start_time": "2021-01-29T11:03:58.727411Z"
    }
   },
   "outputs": [],
   "source": [
    "movie = pd.merge(movie3,movie4,how='outer',on='관객수')"
   ]
  },
  {
   "cell_type": "code",
   "execution_count": 923,
   "metadata": {
    "ExecuteTime": {
     "end_time": "2021-01-29T11:04:02.395023Z",
     "start_time": "2021-01-29T11:04:02.346833Z"
    }
   },
   "outputs": [
    {
     "data": {
      "text/html": [
       "<div>\n",
       "<style scoped>\n",
       "    .dataframe tbody tr th:only-of-type {\n",
       "        vertical-align: middle;\n",
       "    }\n",
       "\n",
       "    .dataframe tbody tr th {\n",
       "        vertical-align: top;\n",
       "    }\n",
       "\n",
       "    .dataframe thead th {\n",
       "        text-align: right;\n",
       "    }\n",
       "</style>\n",
       "<table border=\"1\" class=\"dataframe\">\n",
       "  <thead>\n",
       "    <tr style=\"text-align: right;\">\n",
       "      <th></th>\n",
       "      <th>영화명</th>\n",
       "      <th>감독</th>\n",
       "      <th>개봉일</th>\n",
       "      <th>국가</th>\n",
       "      <th>스크린수</th>\n",
       "      <th>관객수</th>\n",
       "      <th>관람가</th>\n",
       "      <th>장르</th>\n",
       "      <th>개봉연도</th>\n",
       "      <th>개봉달</th>\n",
       "      <th>등급</th>\n",
       "      <th>index_x</th>\n",
       "      <th>index_y</th>\n",
       "    </tr>\n",
       "  </thead>\n",
       "  <tbody>\n",
       "    <tr>\n",
       "      <th>0</th>\n",
       "      <td>명량</td>\n",
       "      <td>김한민</td>\n",
       "      <td>2014-07-30</td>\n",
       "      <td>한국</td>\n",
       "      <td>1587</td>\n",
       "      <td>17613682</td>\n",
       "      <td>15세이상</td>\n",
       "      <td>사극</td>\n",
       "      <td>2014</td>\n",
       "      <td>7</td>\n",
       "      <td>1</td>\n",
       "      <td>1</td>\n",
       "      <td>0</td>\n",
       "    </tr>\n",
       "    <tr>\n",
       "      <th>1</th>\n",
       "      <td>극한직업</td>\n",
       "      <td>이병헌</td>\n",
       "      <td>2019-01-23</td>\n",
       "      <td>한국</td>\n",
       "      <td>1978</td>\n",
       "      <td>16264944</td>\n",
       "      <td>15세이상</td>\n",
       "      <td>코미디</td>\n",
       "      <td>2019</td>\n",
       "      <td>1</td>\n",
       "      <td>1</td>\n",
       "      <td>2</td>\n",
       "      <td>1</td>\n",
       "    </tr>\n",
       "    <tr>\n",
       "      <th>2</th>\n",
       "      <td>신과함께-죄와 벌</td>\n",
       "      <td>김용화</td>\n",
       "      <td>2017-12-20</td>\n",
       "      <td>한국</td>\n",
       "      <td>1912</td>\n",
       "      <td>14410754</td>\n",
       "      <td>12세이상</td>\n",
       "      <td>판타지</td>\n",
       "      <td>2017</td>\n",
       "      <td>12</td>\n",
       "      <td>1</td>\n",
       "      <td>3</td>\n",
       "      <td>2</td>\n",
       "    </tr>\n",
       "    <tr>\n",
       "      <th>3</th>\n",
       "      <td>국제시장</td>\n",
       "      <td>윤제균</td>\n",
       "      <td>2014-12-17</td>\n",
       "      <td>한국</td>\n",
       "      <td>966</td>\n",
       "      <td>14245998</td>\n",
       "      <td>12세이상</td>\n",
       "      <td>드라마</td>\n",
       "      <td>2014</td>\n",
       "      <td>12</td>\n",
       "      <td>1</td>\n",
       "      <td>4</td>\n",
       "      <td>3</td>\n",
       "    </tr>\n",
       "    <tr>\n",
       "      <th>4</th>\n",
       "      <td>어벤져스: 엔드게임</td>\n",
       "      <td>안소니 루소,조 루소</td>\n",
       "      <td>2019-04-24</td>\n",
       "      <td>미국</td>\n",
       "      <td>2835</td>\n",
       "      <td>13934592</td>\n",
       "      <td>12세이상</td>\n",
       "      <td>액션</td>\n",
       "      <td>2019</td>\n",
       "      <td>4</td>\n",
       "      <td>1</td>\n",
       "      <td>5</td>\n",
       "      <td>4</td>\n",
       "    </tr>\n",
       "    <tr>\n",
       "      <th>...</th>\n",
       "      <td>...</td>\n",
       "      <td>...</td>\n",
       "      <td>...</td>\n",
       "      <td>...</td>\n",
       "      <td>...</td>\n",
       "      <td>...</td>\n",
       "      <td>...</td>\n",
       "      <td>...</td>\n",
       "      <td>...</td>\n",
       "      <td>...</td>\n",
       "      <td>...</td>\n",
       "      <td>...</td>\n",
       "      <td>...</td>\n",
       "    </tr>\n",
       "    <tr>\n",
       "      <th>4284</th>\n",
       "      <td>이니셜 D</td>\n",
       "      <td>유위강,맥조휘</td>\n",
       "      <td>2006-03-01</td>\n",
       "      <td>홍콩</td>\n",
       "      <td>0</td>\n",
       "      <td>10036</td>\n",
       "      <td>15세이상</td>\n",
       "      <td>액션</td>\n",
       "      <td>2006</td>\n",
       "      <td>3</td>\n",
       "      <td>5</td>\n",
       "      <td>4994</td>\n",
       "      <td>4284</td>\n",
       "    </tr>\n",
       "    <tr>\n",
       "      <th>4285</th>\n",
       "      <td>나의 어머니</td>\n",
       "      <td>난니 모레티</td>\n",
       "      <td>2015-08-20</td>\n",
       "      <td>이탈리아</td>\n",
       "      <td>30</td>\n",
       "      <td>10031</td>\n",
       "      <td>12세이상</td>\n",
       "      <td>드라마</td>\n",
       "      <td>2015</td>\n",
       "      <td>8</td>\n",
       "      <td>5</td>\n",
       "      <td>4995</td>\n",
       "      <td>4285</td>\n",
       "    </tr>\n",
       "    <tr>\n",
       "      <th>4286</th>\n",
       "      <td>타이페이 카페 스토리</td>\n",
       "      <td>샤오 야 췐</td>\n",
       "      <td>2011-07-07</td>\n",
       "      <td>대만</td>\n",
       "      <td>10</td>\n",
       "      <td>10023</td>\n",
       "      <td>전체</td>\n",
       "      <td>드라마</td>\n",
       "      <td>2011</td>\n",
       "      <td>7</td>\n",
       "      <td>5</td>\n",
       "      <td>4996</td>\n",
       "      <td>4286</td>\n",
       "    </tr>\n",
       "    <tr>\n",
       "      <th>4287</th>\n",
       "      <td>글로리아 벨</td>\n",
       "      <td>세바스찬 렐리오</td>\n",
       "      <td>2019-06-06</td>\n",
       "      <td>미국</td>\n",
       "      <td>48</td>\n",
       "      <td>10021</td>\n",
       "      <td>15세이상</td>\n",
       "      <td>드라마</td>\n",
       "      <td>2019</td>\n",
       "      <td>6</td>\n",
       "      <td>5</td>\n",
       "      <td>4998</td>\n",
       "      <td>4287</td>\n",
       "    </tr>\n",
       "    <tr>\n",
       "      <th>4288</th>\n",
       "      <td>미 앤 유 앤 에브리원</td>\n",
       "      <td>미란다 줄라이</td>\n",
       "      <td>2006-01-27</td>\n",
       "      <td>미국</td>\n",
       "      <td>0</td>\n",
       "      <td>10018</td>\n",
       "      <td>15세이상</td>\n",
       "      <td>코미디</td>\n",
       "      <td>2006</td>\n",
       "      <td>1</td>\n",
       "      <td>5</td>\n",
       "      <td>4999</td>\n",
       "      <td>4288</td>\n",
       "    </tr>\n",
       "  </tbody>\n",
       "</table>\n",
       "<p>4289 rows × 13 columns</p>\n",
       "</div>"
      ],
      "text/plain": [
       "               영화명           감독        개봉일    국가  스크린수       관객수    관람가   장르  \\\n",
       "0               명량          김한민 2014-07-30    한국  1587  17613682  15세이상   사극   \n",
       "1             극한직업          이병헌 2019-01-23    한국  1978  16264944  15세이상  코미디   \n",
       "2        신과함께-죄와 벌          김용화 2017-12-20    한국  1912  14410754  12세이상  판타지   \n",
       "3             국제시장          윤제균 2014-12-17    한국   966  14245998  12세이상  드라마   \n",
       "4       어벤져스: 엔드게임  안소니 루소,조 루소 2019-04-24    미국  2835  13934592  12세이상   액션   \n",
       "...            ...          ...        ...   ...   ...       ...    ...  ...   \n",
       "4284         이니셜 D      유위강,맥조휘 2006-03-01    홍콩     0     10036  15세이상   액션   \n",
       "4285        나의 어머니       난니 모레티 2015-08-20  이탈리아    30     10031  12세이상  드라마   \n",
       "4286   타이페이 카페 스토리       샤오 야 췐 2011-07-07    대만    10     10023     전체  드라마   \n",
       "4287        글로리아 벨     세바스찬 렐리오 2019-06-06    미국    48     10021  15세이상  드라마   \n",
       "4288  미 앤 유 앤 에브리원      미란다 줄라이 2006-01-27    미국     0     10018  15세이상  코미디   \n",
       "\n",
       "      개봉연도  개봉달 등급  index_x  index_y  \n",
       "0     2014    7  1        1        0  \n",
       "1     2019    1  1        2        1  \n",
       "2     2017   12  1        3        2  \n",
       "3     2014   12  1        4        3  \n",
       "4     2019    4  1        5        4  \n",
       "...    ...  ... ..      ...      ...  \n",
       "4284  2006    3  5     4994     4284  \n",
       "4285  2015    8  5     4995     4285  \n",
       "4286  2011    7  5     4996     4286  \n",
       "4287  2019    6  5     4998     4287  \n",
       "4288  2006    1  5     4999     4288  \n",
       "\n",
       "[4289 rows x 13 columns]"
      ]
     },
     "execution_count": 923,
     "metadata": {},
     "output_type": "execute_result"
    }
   ],
   "source": [
    "movie3.drop_duplicates(['관객수'],keep='first')"
   ]
  },
  {
   "cell_type": "code",
   "execution_count": 924,
   "metadata": {
    "ExecuteTime": {
     "end_time": "2021-01-29T11:04:05.929350Z",
     "start_time": "2021-01-29T11:04:05.914107Z"
    }
   },
   "outputs": [],
   "source": [
    "movie4 = movie3.관객수.reset_index()"
   ]
  },
  {
   "cell_type": "code",
   "execution_count": 925,
   "metadata": {
    "ExecuteTime": {
     "end_time": "2021-01-29T11:04:09.414469Z",
     "start_time": "2021-01-29T11:04:09.396481Z"
    }
   },
   "outputs": [],
   "source": [
    "movie.drop(['index_x','index_y'],axis=1,inplace=True)"
   ]
  },
  {
   "cell_type": "code",
   "execution_count": 926,
   "metadata": {
    "ExecuteTime": {
     "end_time": "2021-01-29T11:04:13.672721Z",
     "start_time": "2021-01-29T11:04:13.608891Z"
    }
   },
   "outputs": [
    {
     "data": {
      "text/html": [
       "<div>\n",
       "<style scoped>\n",
       "    .dataframe tbody tr th:only-of-type {\n",
       "        vertical-align: middle;\n",
       "    }\n",
       "\n",
       "    .dataframe tbody tr th {\n",
       "        vertical-align: top;\n",
       "    }\n",
       "\n",
       "    .dataframe thead th {\n",
       "        text-align: right;\n",
       "    }\n",
       "</style>\n",
       "<table border=\"1\" class=\"dataframe\">\n",
       "  <thead>\n",
       "    <tr style=\"text-align: right;\">\n",
       "      <th></th>\n",
       "      <th>영화명</th>\n",
       "      <th>감독</th>\n",
       "      <th>개봉</th>\n",
       "      <th>국가</th>\n",
       "      <th>스크린수</th>\n",
       "      <th>관객수</th>\n",
       "      <th>관람가</th>\n",
       "      <th>장르</th>\n",
       "      <th>개봉연도</th>\n",
       "      <th>개봉월</th>\n",
       "      <th>등급</th>\n",
       "      <th>순위</th>\n",
       "    </tr>\n",
       "  </thead>\n",
       "  <tbody>\n",
       "    <tr>\n",
       "      <th>0</th>\n",
       "      <td>명량</td>\n",
       "      <td>김한민</td>\n",
       "      <td>2014-07-30</td>\n",
       "      <td>한국</td>\n",
       "      <td>1587</td>\n",
       "      <td>17613682</td>\n",
       "      <td>15세이상</td>\n",
       "      <td>사극</td>\n",
       "      <td>2014</td>\n",
       "      <td>7</td>\n",
       "      <td>1</td>\n",
       "      <td>0</td>\n",
       "    </tr>\n",
       "    <tr>\n",
       "      <th>1</th>\n",
       "      <td>극한직업</td>\n",
       "      <td>이병헌</td>\n",
       "      <td>2019-01-23</td>\n",
       "      <td>한국</td>\n",
       "      <td>1978</td>\n",
       "      <td>16264944</td>\n",
       "      <td>15세이상</td>\n",
       "      <td>코미디</td>\n",
       "      <td>2019</td>\n",
       "      <td>1</td>\n",
       "      <td>1</td>\n",
       "      <td>1</td>\n",
       "    </tr>\n",
       "    <tr>\n",
       "      <th>2</th>\n",
       "      <td>신과함께-죄와 벌</td>\n",
       "      <td>김용화</td>\n",
       "      <td>2017-12-20</td>\n",
       "      <td>한국</td>\n",
       "      <td>1912</td>\n",
       "      <td>14410754</td>\n",
       "      <td>12세이상</td>\n",
       "      <td>판타지</td>\n",
       "      <td>2017</td>\n",
       "      <td>12</td>\n",
       "      <td>1</td>\n",
       "      <td>2</td>\n",
       "    </tr>\n",
       "    <tr>\n",
       "      <th>3</th>\n",
       "      <td>국제시장</td>\n",
       "      <td>윤제균</td>\n",
       "      <td>2014-12-17</td>\n",
       "      <td>한국</td>\n",
       "      <td>966</td>\n",
       "      <td>14245998</td>\n",
       "      <td>12세이상</td>\n",
       "      <td>드라마</td>\n",
       "      <td>2014</td>\n",
       "      <td>12</td>\n",
       "      <td>1</td>\n",
       "      <td>3</td>\n",
       "    </tr>\n",
       "    <tr>\n",
       "      <th>4</th>\n",
       "      <td>어벤져스: 엔드게임</td>\n",
       "      <td>안소니 루소,조 루소</td>\n",
       "      <td>2019-04-24</td>\n",
       "      <td>미국</td>\n",
       "      <td>2835</td>\n",
       "      <td>13934592</td>\n",
       "      <td>12세이상</td>\n",
       "      <td>액션</td>\n",
       "      <td>2019</td>\n",
       "      <td>4</td>\n",
       "      <td>1</td>\n",
       "      <td>4</td>\n",
       "    </tr>\n",
       "    <tr>\n",
       "      <th>...</th>\n",
       "      <td>...</td>\n",
       "      <td>...</td>\n",
       "      <td>...</td>\n",
       "      <td>...</td>\n",
       "      <td>...</td>\n",
       "      <td>...</td>\n",
       "      <td>...</td>\n",
       "      <td>...</td>\n",
       "      <td>...</td>\n",
       "      <td>...</td>\n",
       "      <td>...</td>\n",
       "      <td>...</td>\n",
       "    </tr>\n",
       "    <tr>\n",
       "      <th>4284</th>\n",
       "      <td>이니셜 D</td>\n",
       "      <td>유위강,맥조휘</td>\n",
       "      <td>2006-03-01</td>\n",
       "      <td>홍콩</td>\n",
       "      <td>0</td>\n",
       "      <td>10036</td>\n",
       "      <td>15세이상</td>\n",
       "      <td>액션</td>\n",
       "      <td>2006</td>\n",
       "      <td>3</td>\n",
       "      <td>5</td>\n",
       "      <td>4284</td>\n",
       "    </tr>\n",
       "    <tr>\n",
       "      <th>4285</th>\n",
       "      <td>나의 어머니</td>\n",
       "      <td>난니 모레티</td>\n",
       "      <td>2015-08-20</td>\n",
       "      <td>이탈리아</td>\n",
       "      <td>30</td>\n",
       "      <td>10031</td>\n",
       "      <td>12세이상</td>\n",
       "      <td>드라마</td>\n",
       "      <td>2015</td>\n",
       "      <td>8</td>\n",
       "      <td>5</td>\n",
       "      <td>4285</td>\n",
       "    </tr>\n",
       "    <tr>\n",
       "      <th>4286</th>\n",
       "      <td>타이페이 카페 스토리</td>\n",
       "      <td>샤오 야 췐</td>\n",
       "      <td>2011-07-07</td>\n",
       "      <td>대만</td>\n",
       "      <td>10</td>\n",
       "      <td>10023</td>\n",
       "      <td>전체</td>\n",
       "      <td>드라마</td>\n",
       "      <td>2011</td>\n",
       "      <td>7</td>\n",
       "      <td>5</td>\n",
       "      <td>4286</td>\n",
       "    </tr>\n",
       "    <tr>\n",
       "      <th>4287</th>\n",
       "      <td>글로리아 벨</td>\n",
       "      <td>세바스찬 렐리오</td>\n",
       "      <td>2019-06-06</td>\n",
       "      <td>미국</td>\n",
       "      <td>48</td>\n",
       "      <td>10021</td>\n",
       "      <td>15세이상</td>\n",
       "      <td>드라마</td>\n",
       "      <td>2019</td>\n",
       "      <td>6</td>\n",
       "      <td>5</td>\n",
       "      <td>4287</td>\n",
       "    </tr>\n",
       "    <tr>\n",
       "      <th>4288</th>\n",
       "      <td>미 앤 유 앤 에브리원</td>\n",
       "      <td>미란다 줄라이</td>\n",
       "      <td>2006-01-27</td>\n",
       "      <td>미국</td>\n",
       "      <td>0</td>\n",
       "      <td>10018</td>\n",
       "      <td>15세이상</td>\n",
       "      <td>코미디</td>\n",
       "      <td>2006</td>\n",
       "      <td>1</td>\n",
       "      <td>5</td>\n",
       "      <td>4288</td>\n",
       "    </tr>\n",
       "  </tbody>\n",
       "</table>\n",
       "<p>4289 rows × 12 columns</p>\n",
       "</div>"
      ],
      "text/plain": [
       "               영화명           감독         개봉    국가  스크린수       관객수    관람가   장르  \\\n",
       "0               명량          김한민 2014-07-30    한국  1587  17613682  15세이상   사극   \n",
       "1             극한직업          이병헌 2019-01-23    한국  1978  16264944  15세이상  코미디   \n",
       "2        신과함께-죄와 벌          김용화 2017-12-20    한국  1912  14410754  12세이상  판타지   \n",
       "3             국제시장          윤제균 2014-12-17    한국   966  14245998  12세이상  드라마   \n",
       "4       어벤져스: 엔드게임  안소니 루소,조 루소 2019-04-24    미국  2835  13934592  12세이상   액션   \n",
       "...            ...          ...        ...   ...   ...       ...    ...  ...   \n",
       "4284         이니셜 D      유위강,맥조휘 2006-03-01    홍콩     0     10036  15세이상   액션   \n",
       "4285        나의 어머니       난니 모레티 2015-08-20  이탈리아    30     10031  12세이상  드라마   \n",
       "4286   타이페이 카페 스토리       샤오 야 췐 2011-07-07    대만    10     10023     전체  드라마   \n",
       "4287        글로리아 벨     세바스찬 렐리오 2019-06-06    미국    48     10021  15세이상  드라마   \n",
       "4288  미 앤 유 앤 에브리원      미란다 줄라이 2006-01-27    미국     0     10018  15세이상  코미디   \n",
       "\n",
       "      개봉연도  개봉월 등급    순위  \n",
       "0     2014    7  1     0  \n",
       "1     2019    1  1     1  \n",
       "2     2017   12  1     2  \n",
       "3     2014   12  1     3  \n",
       "4     2019    4  1     4  \n",
       "...    ...  ... ..   ...  \n",
       "4284  2006    3  5  4284  \n",
       "4285  2015    8  5  4285  \n",
       "4286  2011    7  5  4286  \n",
       "4287  2019    6  5  4287  \n",
       "4288  2006    1  5  4288  \n",
       "\n",
       "[4289 rows x 12 columns]"
      ]
     },
     "execution_count": 926,
     "metadata": {},
     "output_type": "execute_result"
    }
   ],
   "source": [
    "movie = movie.rename(columns={'index':'순위','개봉일':'개봉','개봉달':'개봉월'})\n",
    "movie"
   ]
  },
  {
   "cell_type": "code",
   "execution_count": 927,
   "metadata": {
    "ExecuteTime": {
     "end_time": "2021-01-29T11:04:18.395082Z",
     "start_time": "2021-01-29T11:04:18.380124Z"
    }
   },
   "outputs": [],
   "source": [
    "movie = movie[['순위','영화명','감독','국가','스크린수','관객수','장르','관람가','등급','개봉','개봉연도','개봉월']]"
   ]
  },
  {
   "cell_type": "code",
   "execution_count": 928,
   "metadata": {
    "ExecuteTime": {
     "end_time": "2021-01-29T11:04:24.528874Z",
     "start_time": "2021-01-29T11:04:24.511751Z"
    }
   },
   "outputs": [],
   "source": [
    "movie.순위 = movie.순위.apply(lambda x:x+1)"
   ]
  },
  {
   "cell_type": "code",
   "execution_count": 929,
   "metadata": {
    "ExecuteTime": {
     "end_time": "2021-01-29T11:04:30.273140Z",
     "start_time": "2021-01-29T11:04:30.212303Z"
    }
   },
   "outputs": [
    {
     "data": {
      "text/html": [
       "<div>\n",
       "<style scoped>\n",
       "    .dataframe tbody tr th:only-of-type {\n",
       "        vertical-align: middle;\n",
       "    }\n",
       "\n",
       "    .dataframe tbody tr th {\n",
       "        vertical-align: top;\n",
       "    }\n",
       "\n",
       "    .dataframe thead th {\n",
       "        text-align: right;\n",
       "    }\n",
       "</style>\n",
       "<table border=\"1\" class=\"dataframe\">\n",
       "  <thead>\n",
       "    <tr style=\"text-align: right;\">\n",
       "      <th></th>\n",
       "      <th>순위</th>\n",
       "      <th>영화명</th>\n",
       "      <th>감독</th>\n",
       "      <th>국가</th>\n",
       "      <th>스크린수</th>\n",
       "      <th>관객수</th>\n",
       "      <th>장르</th>\n",
       "      <th>관람가</th>\n",
       "      <th>등급</th>\n",
       "      <th>개봉</th>\n",
       "      <th>개봉연도</th>\n",
       "      <th>개봉월</th>\n",
       "    </tr>\n",
       "  </thead>\n",
       "  <tbody>\n",
       "    <tr>\n",
       "      <th>0</th>\n",
       "      <td>1</td>\n",
       "      <td>명량</td>\n",
       "      <td>김한민</td>\n",
       "      <td>한국</td>\n",
       "      <td>1587</td>\n",
       "      <td>17613682</td>\n",
       "      <td>사극</td>\n",
       "      <td>15세이상</td>\n",
       "      <td>1</td>\n",
       "      <td>2014-07-30</td>\n",
       "      <td>2014</td>\n",
       "      <td>7</td>\n",
       "    </tr>\n",
       "    <tr>\n",
       "      <th>1</th>\n",
       "      <td>2</td>\n",
       "      <td>극한직업</td>\n",
       "      <td>이병헌</td>\n",
       "      <td>한국</td>\n",
       "      <td>1978</td>\n",
       "      <td>16264944</td>\n",
       "      <td>코미디</td>\n",
       "      <td>15세이상</td>\n",
       "      <td>1</td>\n",
       "      <td>2019-01-23</td>\n",
       "      <td>2019</td>\n",
       "      <td>1</td>\n",
       "    </tr>\n",
       "    <tr>\n",
       "      <th>2</th>\n",
       "      <td>3</td>\n",
       "      <td>신과함께-죄와 벌</td>\n",
       "      <td>김용화</td>\n",
       "      <td>한국</td>\n",
       "      <td>1912</td>\n",
       "      <td>14410754</td>\n",
       "      <td>판타지</td>\n",
       "      <td>12세이상</td>\n",
       "      <td>1</td>\n",
       "      <td>2017-12-20</td>\n",
       "      <td>2017</td>\n",
       "      <td>12</td>\n",
       "    </tr>\n",
       "    <tr>\n",
       "      <th>3</th>\n",
       "      <td>4</td>\n",
       "      <td>국제시장</td>\n",
       "      <td>윤제균</td>\n",
       "      <td>한국</td>\n",
       "      <td>966</td>\n",
       "      <td>14245998</td>\n",
       "      <td>드라마</td>\n",
       "      <td>12세이상</td>\n",
       "      <td>1</td>\n",
       "      <td>2014-12-17</td>\n",
       "      <td>2014</td>\n",
       "      <td>12</td>\n",
       "    </tr>\n",
       "    <tr>\n",
       "      <th>4</th>\n",
       "      <td>5</td>\n",
       "      <td>어벤져스: 엔드게임</td>\n",
       "      <td>안소니 루소,조 루소</td>\n",
       "      <td>미국</td>\n",
       "      <td>2835</td>\n",
       "      <td>13934592</td>\n",
       "      <td>액션</td>\n",
       "      <td>12세이상</td>\n",
       "      <td>1</td>\n",
       "      <td>2019-04-24</td>\n",
       "      <td>2019</td>\n",
       "      <td>4</td>\n",
       "    </tr>\n",
       "    <tr>\n",
       "      <th>...</th>\n",
       "      <td>...</td>\n",
       "      <td>...</td>\n",
       "      <td>...</td>\n",
       "      <td>...</td>\n",
       "      <td>...</td>\n",
       "      <td>...</td>\n",
       "      <td>...</td>\n",
       "      <td>...</td>\n",
       "      <td>...</td>\n",
       "      <td>...</td>\n",
       "      <td>...</td>\n",
       "      <td>...</td>\n",
       "    </tr>\n",
       "    <tr>\n",
       "      <th>4284</th>\n",
       "      <td>4285</td>\n",
       "      <td>이니셜 D</td>\n",
       "      <td>유위강,맥조휘</td>\n",
       "      <td>홍콩</td>\n",
       "      <td>0</td>\n",
       "      <td>10036</td>\n",
       "      <td>액션</td>\n",
       "      <td>15세이상</td>\n",
       "      <td>5</td>\n",
       "      <td>2006-03-01</td>\n",
       "      <td>2006</td>\n",
       "      <td>3</td>\n",
       "    </tr>\n",
       "    <tr>\n",
       "      <th>4285</th>\n",
       "      <td>4286</td>\n",
       "      <td>나의 어머니</td>\n",
       "      <td>난니 모레티</td>\n",
       "      <td>이탈리아</td>\n",
       "      <td>30</td>\n",
       "      <td>10031</td>\n",
       "      <td>드라마</td>\n",
       "      <td>12세이상</td>\n",
       "      <td>5</td>\n",
       "      <td>2015-08-20</td>\n",
       "      <td>2015</td>\n",
       "      <td>8</td>\n",
       "    </tr>\n",
       "    <tr>\n",
       "      <th>4286</th>\n",
       "      <td>4287</td>\n",
       "      <td>타이페이 카페 스토리</td>\n",
       "      <td>샤오 야 췐</td>\n",
       "      <td>대만</td>\n",
       "      <td>10</td>\n",
       "      <td>10023</td>\n",
       "      <td>드라마</td>\n",
       "      <td>전체</td>\n",
       "      <td>5</td>\n",
       "      <td>2011-07-07</td>\n",
       "      <td>2011</td>\n",
       "      <td>7</td>\n",
       "    </tr>\n",
       "    <tr>\n",
       "      <th>4287</th>\n",
       "      <td>4288</td>\n",
       "      <td>글로리아 벨</td>\n",
       "      <td>세바스찬 렐리오</td>\n",
       "      <td>미국</td>\n",
       "      <td>48</td>\n",
       "      <td>10021</td>\n",
       "      <td>드라마</td>\n",
       "      <td>15세이상</td>\n",
       "      <td>5</td>\n",
       "      <td>2019-06-06</td>\n",
       "      <td>2019</td>\n",
       "      <td>6</td>\n",
       "    </tr>\n",
       "    <tr>\n",
       "      <th>4288</th>\n",
       "      <td>4289</td>\n",
       "      <td>미 앤 유 앤 에브리원</td>\n",
       "      <td>미란다 줄라이</td>\n",
       "      <td>미국</td>\n",
       "      <td>0</td>\n",
       "      <td>10018</td>\n",
       "      <td>코미디</td>\n",
       "      <td>15세이상</td>\n",
       "      <td>5</td>\n",
       "      <td>2006-01-27</td>\n",
       "      <td>2006</td>\n",
       "      <td>1</td>\n",
       "    </tr>\n",
       "  </tbody>\n",
       "</table>\n",
       "<p>4289 rows × 12 columns</p>\n",
       "</div>"
      ],
      "text/plain": [
       "        순위           영화명           감독    국가  스크린수       관객수   장르    관람가 등급  \\\n",
       "0        1            명량          김한민    한국  1587  17613682   사극  15세이상  1   \n",
       "1        2          극한직업          이병헌    한국  1978  16264944  코미디  15세이상  1   \n",
       "2        3     신과함께-죄와 벌          김용화    한국  1912  14410754  판타지  12세이상  1   \n",
       "3        4          국제시장          윤제균    한국   966  14245998  드라마  12세이상  1   \n",
       "4        5    어벤져스: 엔드게임  안소니 루소,조 루소    미국  2835  13934592   액션  12세이상  1   \n",
       "...    ...           ...          ...   ...   ...       ...  ...    ... ..   \n",
       "4284  4285         이니셜 D      유위강,맥조휘    홍콩     0     10036   액션  15세이상  5   \n",
       "4285  4286        나의 어머니       난니 모레티  이탈리아    30     10031  드라마  12세이상  5   \n",
       "4286  4287   타이페이 카페 스토리       샤오 야 췐    대만    10     10023  드라마     전체  5   \n",
       "4287  4288        글로리아 벨     세바스찬 렐리오    미국    48     10021  드라마  15세이상  5   \n",
       "4288  4289  미 앤 유 앤 에브리원      미란다 줄라이    미국     0     10018  코미디  15세이상  5   \n",
       "\n",
       "             개봉  개봉연도  개봉월  \n",
       "0    2014-07-30  2014    7  \n",
       "1    2019-01-23  2019    1  \n",
       "2    2017-12-20  2017   12  \n",
       "3    2014-12-17  2014   12  \n",
       "4    2019-04-24  2019    4  \n",
       "...         ...   ...  ...  \n",
       "4284 2006-03-01  2006    3  \n",
       "4285 2015-08-20  2015    8  \n",
       "4286 2011-07-07  2011    7  \n",
       "4287 2019-06-06  2019    6  \n",
       "4288 2006-01-27  2006    1  \n",
       "\n",
       "[4289 rows x 12 columns]"
      ]
     },
     "execution_count": 929,
     "metadata": {},
     "output_type": "execute_result"
    }
   ],
   "source": [
    "movie"
   ]
  },
  {
   "cell_type": "code",
   "execution_count": 930,
   "metadata": {
    "ExecuteTime": {
     "end_time": "2021-01-29T11:04:35.465369Z",
     "start_time": "2021-01-29T11:04:35.411225Z"
    }
   },
   "outputs": [
    {
     "data": {
      "text/html": [
       "<div>\n",
       "<style scoped>\n",
       "    .dataframe tbody tr th:only-of-type {\n",
       "        vertical-align: middle;\n",
       "    }\n",
       "\n",
       "    .dataframe tbody tr th {\n",
       "        vertical-align: top;\n",
       "    }\n",
       "\n",
       "    .dataframe thead th {\n",
       "        text-align: right;\n",
       "    }\n",
       "</style>\n",
       "<table border=\"1\" class=\"dataframe\">\n",
       "  <thead>\n",
       "    <tr style=\"text-align: right;\">\n",
       "      <th></th>\n",
       "      <th>순위</th>\n",
       "      <th>영화명</th>\n",
       "      <th>감독</th>\n",
       "      <th>국가</th>\n",
       "      <th>스크린수</th>\n",
       "      <th>관객수</th>\n",
       "      <th>장르</th>\n",
       "      <th>관람가</th>\n",
       "      <th>등급</th>\n",
       "      <th>개봉</th>\n",
       "      <th>개봉연도</th>\n",
       "      <th>개봉월</th>\n",
       "    </tr>\n",
       "  </thead>\n",
       "  <tbody>\n",
       "    <tr>\n",
       "      <th>83</th>\n",
       "      <td>84</td>\n",
       "      <td>숨바꼭질</td>\n",
       "      <td>존 폴슨</td>\n",
       "      <td>미국</td>\n",
       "      <td>0</td>\n",
       "      <td>779200</td>\n",
       "      <td>스릴러</td>\n",
       "      <td>15세이상</td>\n",
       "      <td>4</td>\n",
       "      <td>2005-02-25</td>\n",
       "      <td>2005</td>\n",
       "      <td>2</td>\n",
       "    </tr>\n",
       "    <tr>\n",
       "      <th>104</th>\n",
       "      <td>105</td>\n",
       "      <td>미녀와 야수</td>\n",
       "      <td>크리스토프 갱스</td>\n",
       "      <td>프랑스</td>\n",
       "      <td>387</td>\n",
       "      <td>315348</td>\n",
       "      <td>멜로/로맨스</td>\n",
       "      <td>전체</td>\n",
       "      <td>4</td>\n",
       "      <td>2014-06-18</td>\n",
       "      <td>2014</td>\n",
       "      <td>6</td>\n",
       "    </tr>\n",
       "    <tr>\n",
       "      <th>114</th>\n",
       "      <td>115</td>\n",
       "      <td>마스터</td>\n",
       "      <td>폴 토마스 앤더슨</td>\n",
       "      <td>미국</td>\n",
       "      <td>38</td>\n",
       "      <td>33505</td>\n",
       "      <td>액션</td>\n",
       "      <td>19세이상</td>\n",
       "      <td>5</td>\n",
       "      <td>2013-07-11</td>\n",
       "      <td>2013</td>\n",
       "      <td>7</td>\n",
       "    </tr>\n",
       "    <tr>\n",
       "      <th>193</th>\n",
       "      <td>194</td>\n",
       "      <td>귀향</td>\n",
       "      <td>페드로 알모도바르</td>\n",
       "      <td>스페인</td>\n",
       "      <td>0</td>\n",
       "      <td>26830</td>\n",
       "      <td>드라마</td>\n",
       "      <td>15세이상</td>\n",
       "      <td>5</td>\n",
       "      <td>2006-09-21</td>\n",
       "      <td>2006</td>\n",
       "      <td>9</td>\n",
       "    </tr>\n",
       "    <tr>\n",
       "      <th>207</th>\n",
       "      <td>208</td>\n",
       "      <td>스파이</td>\n",
       "      <td>폴 페이그</td>\n",
       "      <td>미국</td>\n",
       "      <td>665</td>\n",
       "      <td>2315882</td>\n",
       "      <td>액션</td>\n",
       "      <td>15세이상</td>\n",
       "      <td>3</td>\n",
       "      <td>2015-05-21</td>\n",
       "      <td>2015</td>\n",
       "      <td>5</td>\n",
       "    </tr>\n",
       "    <tr>\n",
       "      <th>345</th>\n",
       "      <td>346</td>\n",
       "      <td>히트맨</td>\n",
       "      <td>자비에르 젠스</td>\n",
       "      <td>미국</td>\n",
       "      <td>0</td>\n",
       "      <td>170240</td>\n",
       "      <td>코미디</td>\n",
       "      <td>19세이상</td>\n",
       "      <td>4</td>\n",
       "      <td>2007-11-29</td>\n",
       "      <td>2007</td>\n",
       "      <td>11</td>\n",
       "    </tr>\n",
       "    <tr>\n",
       "      <th>495</th>\n",
       "      <td>496</td>\n",
       "      <td>나를 찾아줘</td>\n",
       "      <td>김승우</td>\n",
       "      <td>한국</td>\n",
       "      <td>875</td>\n",
       "      <td>645082</td>\n",
       "      <td>스릴러</td>\n",
       "      <td>15세이상</td>\n",
       "      <td>4</td>\n",
       "      <td>2019-11-27</td>\n",
       "      <td>2019</td>\n",
       "      <td>11</td>\n",
       "    </tr>\n",
       "    <tr>\n",
       "      <th>612</th>\n",
       "      <td>613</td>\n",
       "      <td>잃어버린 세계를 찾아서</td>\n",
       "      <td>크리스 버틀러</td>\n",
       "      <td>미국</td>\n",
       "      <td>279</td>\n",
       "      <td>21252</td>\n",
       "      <td>애니메이션</td>\n",
       "      <td>전체</td>\n",
       "      <td>5</td>\n",
       "      <td>2019-10-09</td>\n",
       "      <td>2019</td>\n",
       "      <td>10</td>\n",
       "    </tr>\n",
       "    <tr>\n",
       "      <th>710</th>\n",
       "      <td>711</td>\n",
       "      <td>몬스터 하우스</td>\n",
       "      <td>피터 레페니오티스</td>\n",
       "      <td>캐나다</td>\n",
       "      <td>202</td>\n",
       "      <td>63784</td>\n",
       "      <td>애니메이션</td>\n",
       "      <td>전체</td>\n",
       "      <td>5</td>\n",
       "      <td>2019-10-03</td>\n",
       "      <td>2019</td>\n",
       "      <td>10</td>\n",
       "    </tr>\n",
       "    <tr>\n",
       "      <th>831</th>\n",
       "      <td>832</td>\n",
       "      <td>내 사랑</td>\n",
       "      <td>에이슬링 월쉬</td>\n",
       "      <td>아일랜드</td>\n",
       "      <td>233</td>\n",
       "      <td>334423</td>\n",
       "      <td>드라마</td>\n",
       "      <td>12세이상</td>\n",
       "      <td>4</td>\n",
       "      <td>2017-07-12</td>\n",
       "      <td>2017</td>\n",
       "      <td>7</td>\n",
       "    </tr>\n",
       "    <tr>\n",
       "      <th>928</th>\n",
       "      <td>929</td>\n",
       "      <td>데자뷰</td>\n",
       "      <td>고경민</td>\n",
       "      <td>한국</td>\n",
       "      <td>536</td>\n",
       "      <td>48279</td>\n",
       "      <td>미스터리</td>\n",
       "      <td>15세이상</td>\n",
       "      <td>5</td>\n",
       "      <td>2018-05-30</td>\n",
       "      <td>2018</td>\n",
       "      <td>5</td>\n",
       "    </tr>\n",
       "    <tr>\n",
       "      <th>1002</th>\n",
       "      <td>1003</td>\n",
       "      <td>신데렐라</td>\n",
       "      <td>봉만대</td>\n",
       "      <td>한국</td>\n",
       "      <td>0</td>\n",
       "      <td>659122</td>\n",
       "      <td>공연</td>\n",
       "      <td>15세이상</td>\n",
       "      <td>4</td>\n",
       "      <td>2006-08-17</td>\n",
       "      <td>2006</td>\n",
       "      <td>8</td>\n",
       "    </tr>\n",
       "    <tr>\n",
       "      <th>1112</th>\n",
       "      <td>1113</td>\n",
       "      <td>일루셔니스트</td>\n",
       "      <td>실뱅 쇼메</td>\n",
       "      <td>프랑스</td>\n",
       "      <td>17</td>\n",
       "      <td>15589</td>\n",
       "      <td>애니메이션</td>\n",
       "      <td>전체</td>\n",
       "      <td>5</td>\n",
       "      <td>2011-06-16</td>\n",
       "      <td>2011</td>\n",
       "      <td>6</td>\n",
       "    </tr>\n",
       "    <tr>\n",
       "      <th>1202</th>\n",
       "      <td>1203</td>\n",
       "      <td>몬스터</td>\n",
       "      <td>팻티 젠킨스</td>\n",
       "      <td>독일</td>\n",
       "      <td>0</td>\n",
       "      <td>92535</td>\n",
       "      <td>드라마</td>\n",
       "      <td>18세이상</td>\n",
       "      <td>5</td>\n",
       "      <td>2004-06-18</td>\n",
       "      <td>2004</td>\n",
       "      <td>6</td>\n",
       "    </tr>\n",
       "    <tr>\n",
       "      <th>1297</th>\n",
       "      <td>1298</td>\n",
       "      <td>너의 췌장을 먹고 싶어</td>\n",
       "      <td>우시지마 신이치로</td>\n",
       "      <td>일본</td>\n",
       "      <td>319</td>\n",
       "      <td>52161</td>\n",
       "      <td>애니메이션</td>\n",
       "      <td>12세이상</td>\n",
       "      <td>5</td>\n",
       "      <td>2018-11-15</td>\n",
       "      <td>2018</td>\n",
       "      <td>11</td>\n",
       "    </tr>\n",
       "    <tr>\n",
       "      <th>1307</th>\n",
       "      <td>1308</td>\n",
       "      <td>라이프</td>\n",
       "      <td>안톤 코르빈</td>\n",
       "      <td>캐나다</td>\n",
       "      <td>99</td>\n",
       "      <td>19596</td>\n",
       "      <td>SF</td>\n",
       "      <td>15세이상</td>\n",
       "      <td>5</td>\n",
       "      <td>2015-10-15</td>\n",
       "      <td>2015</td>\n",
       "      <td>10</td>\n",
       "    </tr>\n",
       "    <tr>\n",
       "      <th>1461</th>\n",
       "      <td>1462</td>\n",
       "      <td>환생</td>\n",
       "      <td>시오타 아키히코</td>\n",
       "      <td>일본</td>\n",
       "      <td>0</td>\n",
       "      <td>41853</td>\n",
       "      <td>멜로/로맨스</td>\n",
       "      <td>전체</td>\n",
       "      <td>5</td>\n",
       "      <td>2003-10-31</td>\n",
       "      <td>2003</td>\n",
       "      <td>10</td>\n",
       "    </tr>\n",
       "    <tr>\n",
       "      <th>1537</th>\n",
       "      <td>1538</td>\n",
       "      <td>헬보이</td>\n",
       "      <td>길예르모 델 토로</td>\n",
       "      <td>미국</td>\n",
       "      <td>0</td>\n",
       "      <td>205284</td>\n",
       "      <td>액션</td>\n",
       "      <td>15세이상</td>\n",
       "      <td>4</td>\n",
       "      <td>2004-08-20</td>\n",
       "      <td>2004</td>\n",
       "      <td>8</td>\n",
       "    </tr>\n",
       "    <tr>\n",
       "      <th>1693</th>\n",
       "      <td>1694</td>\n",
       "      <td>킹덤</td>\n",
       "      <td>사토 신스케</td>\n",
       "      <td>일본</td>\n",
       "      <td>186</td>\n",
       "      <td>17663</td>\n",
       "      <td>액션</td>\n",
       "      <td>15세이상</td>\n",
       "      <td>5</td>\n",
       "      <td>2020-04-29</td>\n",
       "      <td>2020</td>\n",
       "      <td>4</td>\n",
       "    </tr>\n",
       "    <tr>\n",
       "      <th>1717</th>\n",
       "      <td>1718</td>\n",
       "      <td>히어로</td>\n",
       "      <td>김봉한</td>\n",
       "      <td>한국</td>\n",
       "      <td>179</td>\n",
       "      <td>22617</td>\n",
       "      <td>드라마</td>\n",
       "      <td>전체</td>\n",
       "      <td>5</td>\n",
       "      <td>2013-10-08</td>\n",
       "      <td>2013</td>\n",
       "      <td>10</td>\n",
       "    </tr>\n",
       "    <tr>\n",
       "      <th>1807</th>\n",
       "      <td>1808</td>\n",
       "      <td>마마</td>\n",
       "      <td>안드레스 무시에티</td>\n",
       "      <td>미국</td>\n",
       "      <td>164</td>\n",
       "      <td>91143</td>\n",
       "      <td>드라마</td>\n",
       "      <td>15세이상</td>\n",
       "      <td>5</td>\n",
       "      <td>2013-01-23</td>\n",
       "      <td>2013</td>\n",
       "      <td>1</td>\n",
       "    </tr>\n",
       "    <tr>\n",
       "      <th>1984</th>\n",
       "      <td>1985</td>\n",
       "      <td>부활</td>\n",
       "      <td>구수환</td>\n",
       "      <td>한국</td>\n",
       "      <td>83</td>\n",
       "      <td>14437</td>\n",
       "      <td>다큐멘터리</td>\n",
       "      <td>전체</td>\n",
       "      <td>5</td>\n",
       "      <td>2020-07-09</td>\n",
       "      <td>2020</td>\n",
       "      <td>7</td>\n",
       "    </tr>\n",
       "    <tr>\n",
       "      <th>2010</th>\n",
       "      <td>2011</td>\n",
       "      <td>렛 미 인</td>\n",
       "      <td>토마스 알프레드슨</td>\n",
       "      <td>스웨덴</td>\n",
       "      <td>50</td>\n",
       "      <td>87908</td>\n",
       "      <td>공포(호러)</td>\n",
       "      <td>15세이상</td>\n",
       "      <td>5</td>\n",
       "      <td>2008-11-13</td>\n",
       "      <td>2008</td>\n",
       "      <td>11</td>\n",
       "    </tr>\n",
       "    <tr>\n",
       "      <th>2201</th>\n",
       "      <td>2202</td>\n",
       "      <td>슈퍼히어로</td>\n",
       "      <td>에두와르도 슐츠</td>\n",
       "      <td>페루</td>\n",
       "      <td>74</td>\n",
       "      <td>11469</td>\n",
       "      <td>애니메이션</td>\n",
       "      <td>전체</td>\n",
       "      <td>5</td>\n",
       "      <td>2013-07-31</td>\n",
       "      <td>2013</td>\n",
       "      <td>7</td>\n",
       "    </tr>\n",
       "    <tr>\n",
       "      <th>2429</th>\n",
       "      <td>2430</td>\n",
       "      <td>사일런스</td>\n",
       "      <td>존 R. 레오네티</td>\n",
       "      <td>미국</td>\n",
       "      <td>456</td>\n",
       "      <td>54158</td>\n",
       "      <td>공포(호러)</td>\n",
       "      <td>15세이상</td>\n",
       "      <td>5</td>\n",
       "      <td>2019-07-17</td>\n",
       "      <td>2019</td>\n",
       "      <td>7</td>\n",
       "    </tr>\n",
       "    <tr>\n",
       "      <th>2469</th>\n",
       "      <td>2470</td>\n",
       "      <td>더 보이</td>\n",
       "      <td>윌리엄 브렌트 벨</td>\n",
       "      <td>미국</td>\n",
       "      <td>186</td>\n",
       "      <td>55875</td>\n",
       "      <td>공포(호러)</td>\n",
       "      <td>15세이상</td>\n",
       "      <td>5</td>\n",
       "      <td>2016-06-01</td>\n",
       "      <td>2016</td>\n",
       "      <td>6</td>\n",
       "    </tr>\n",
       "    <tr>\n",
       "      <th>2518</th>\n",
       "      <td>2519</td>\n",
       "      <td>와일드</td>\n",
       "      <td>스티브 스파즈 윌리엄스</td>\n",
       "      <td>미국</td>\n",
       "      <td>0</td>\n",
       "      <td>48094</td>\n",
       "      <td>드라마</td>\n",
       "      <td>전체</td>\n",
       "      <td>5</td>\n",
       "      <td>2006-04-20</td>\n",
       "      <td>2006</td>\n",
       "      <td>4</td>\n",
       "    </tr>\n",
       "    <tr>\n",
       "      <th>2703</th>\n",
       "      <td>2704</td>\n",
       "      <td>돌이킬 수 없는</td>\n",
       "      <td>박수영</td>\n",
       "      <td>한국</td>\n",
       "      <td>205</td>\n",
       "      <td>65414</td>\n",
       "      <td>미스터리</td>\n",
       "      <td>15세이상</td>\n",
       "      <td>5</td>\n",
       "      <td>2010-11-04</td>\n",
       "      <td>2010</td>\n",
       "      <td>11</td>\n",
       "    </tr>\n",
       "    <tr>\n",
       "      <th>2839</th>\n",
       "      <td>2840</td>\n",
       "      <td>살인소설</td>\n",
       "      <td>김진묵</td>\n",
       "      <td>한국</td>\n",
       "      <td>434</td>\n",
       "      <td>49682</td>\n",
       "      <td>스릴러</td>\n",
       "      <td>15세이상</td>\n",
       "      <td>5</td>\n",
       "      <td>2018-04-25</td>\n",
       "      <td>2018</td>\n",
       "      <td>4</td>\n",
       "    </tr>\n",
       "    <tr>\n",
       "      <th>2949</th>\n",
       "      <td>2950</td>\n",
       "      <td>에코</td>\n",
       "      <td>데이브 그린</td>\n",
       "      <td>미국</td>\n",
       "      <td>154</td>\n",
       "      <td>19142</td>\n",
       "      <td>SF</td>\n",
       "      <td>전체</td>\n",
       "      <td>5</td>\n",
       "      <td>2014-10-08</td>\n",
       "      <td>2014</td>\n",
       "      <td>10</td>\n",
       "    </tr>\n",
       "    <tr>\n",
       "      <th>3094</th>\n",
       "      <td>3095</td>\n",
       "      <td>비상</td>\n",
       "      <td>박정훈</td>\n",
       "      <td>한국</td>\n",
       "      <td>160</td>\n",
       "      <td>29223</td>\n",
       "      <td>액션</td>\n",
       "      <td>19세이상</td>\n",
       "      <td>5</td>\n",
       "      <td>2009-12-03</td>\n",
       "      <td>2009</td>\n",
       "      <td>12</td>\n",
       "    </tr>\n",
       "    <tr>\n",
       "      <th>3482</th>\n",
       "      <td>3483</td>\n",
       "      <td>사이코패스</td>\n",
       "      <td>미키 키팅</td>\n",
       "      <td>미국</td>\n",
       "      <td>1</td>\n",
       "      <td>21603</td>\n",
       "      <td>공포(호러)</td>\n",
       "      <td>19세이상</td>\n",
       "      <td>5</td>\n",
       "      <td>2019-09-18</td>\n",
       "      <td>2019</td>\n",
       "      <td>9</td>\n",
       "    </tr>\n",
       "    <tr>\n",
       "      <th>3731</th>\n",
       "      <td>3732</td>\n",
       "      <td>스톤</td>\n",
       "      <td>존 커랜</td>\n",
       "      <td>미국</td>\n",
       "      <td>77</td>\n",
       "      <td>15241</td>\n",
       "      <td>액션</td>\n",
       "      <td>19세이상</td>\n",
       "      <td>5</td>\n",
       "      <td>2011-10-06</td>\n",
       "      <td>2011</td>\n",
       "      <td>10</td>\n",
       "    </tr>\n",
       "    <tr>\n",
       "      <th>4250</th>\n",
       "      <td>4251</td>\n",
       "      <td>폴라로이드</td>\n",
       "      <td>주호성</td>\n",
       "      <td>한국</td>\n",
       "      <td>27</td>\n",
       "      <td>10094</td>\n",
       "      <td>공포(호러)</td>\n",
       "      <td>전체</td>\n",
       "      <td>5</td>\n",
       "      <td>2015-07-16</td>\n",
       "      <td>2015</td>\n",
       "      <td>7</td>\n",
       "    </tr>\n",
       "  </tbody>\n",
       "</table>\n",
       "</div>"
      ],
      "text/plain": [
       "        순위           영화명            감독    국가  스크린수      관객수      장르    관람가 등급  \\\n",
       "83      84          숨바꼭질          존 폴슨    미국     0   779200     스릴러  15세이상  4   \n",
       "104    105        미녀와 야수      크리스토프 갱스   프랑스   387   315348  멜로/로맨스     전체  4   \n",
       "114    115           마스터     폴 토마스 앤더슨    미국    38    33505      액션  19세이상  5   \n",
       "193    194            귀향     페드로 알모도바르   스페인     0    26830     드라마  15세이상  5   \n",
       "207    208           스파이         폴 페이그    미국   665  2315882      액션  15세이상  3   \n",
       "345    346           히트맨       자비에르 젠스    미국     0   170240     코미디  19세이상  4   \n",
       "495    496        나를 찾아줘           김승우    한국   875   645082     스릴러  15세이상  4   \n",
       "612    613  잃어버린 세계를 찾아서       크리스 버틀러    미국   279    21252   애니메이션     전체  5   \n",
       "710    711       몬스터 하우스     피터 레페니오티스   캐나다   202    63784   애니메이션     전체  5   \n",
       "831    832          내 사랑       에이슬링 월쉬  아일랜드   233   334423     드라마  12세이상  4   \n",
       "928    929           데자뷰           고경민    한국   536    48279    미스터리  15세이상  5   \n",
       "1002  1003          신데렐라           봉만대    한국     0   659122      공연  15세이상  4   \n",
       "1112  1113        일루셔니스트         실뱅 쇼메   프랑스    17    15589   애니메이션     전체  5   \n",
       "1202  1203           몬스터        팻티 젠킨스    독일     0    92535     드라마  18세이상  5   \n",
       "1297  1298  너의 췌장을 먹고 싶어     우시지마 신이치로    일본   319    52161   애니메이션  12세이상  5   \n",
       "1307  1308           라이프        안톤 코르빈   캐나다    99    19596      SF  15세이상  5   \n",
       "1461  1462            환생      시오타 아키히코    일본     0    41853  멜로/로맨스     전체  5   \n",
       "1537  1538           헬보이     길예르모 델 토로    미국     0   205284      액션  15세이상  4   \n",
       "1693  1694            킹덤        사토 신스케    일본   186    17663      액션  15세이상  5   \n",
       "1717  1718           히어로           김봉한    한국   179    22617     드라마     전체  5   \n",
       "1807  1808            마마     안드레스 무시에티    미국   164    91143     드라마  15세이상  5   \n",
       "1984  1985            부활           구수환    한국    83    14437   다큐멘터리     전체  5   \n",
       "2010  2011         렛 미 인     토마스 알프레드슨   스웨덴    50    87908  공포(호러)  15세이상  5   \n",
       "2201  2202         슈퍼히어로      에두와르도 슐츠    페루    74    11469   애니메이션     전체  5   \n",
       "2429  2430          사일런스     존 R. 레오네티    미국   456    54158  공포(호러)  15세이상  5   \n",
       "2469  2470          더 보이     윌리엄 브렌트 벨    미국   186    55875  공포(호러)  15세이상  5   \n",
       "2518  2519           와일드  스티브 스파즈 윌리엄스    미국     0    48094     드라마     전체  5   \n",
       "2703  2704      돌이킬 수 없는           박수영    한국   205    65414    미스터리  15세이상  5   \n",
       "2839  2840          살인소설           김진묵    한국   434    49682     스릴러  15세이상  5   \n",
       "2949  2950            에코        데이브 그린    미국   154    19142      SF     전체  5   \n",
       "3094  3095            비상           박정훈    한국   160    29223      액션  19세이상  5   \n",
       "3482  3483         사이코패스         미키 키팅    미국     1    21603  공포(호러)  19세이상  5   \n",
       "3731  3732            스톤          존 커랜    미국    77    15241      액션  19세이상  5   \n",
       "4250  4251         폴라로이드           주호성    한국    27    10094  공포(호러)     전체  5   \n",
       "\n",
       "             개봉  개봉연도  개봉월  \n",
       "83   2005-02-25  2005    2  \n",
       "104  2014-06-18  2014    6  \n",
       "114  2013-07-11  2013    7  \n",
       "193  2006-09-21  2006    9  \n",
       "207  2015-05-21  2015    5  \n",
       "345  2007-11-29  2007   11  \n",
       "495  2019-11-27  2019   11  \n",
       "612  2019-10-09  2019   10  \n",
       "710  2019-10-03  2019   10  \n",
       "831  2017-07-12  2017    7  \n",
       "928  2018-05-30  2018    5  \n",
       "1002 2006-08-17  2006    8  \n",
       "1112 2011-06-16  2011    6  \n",
       "1202 2004-06-18  2004    6  \n",
       "1297 2018-11-15  2018   11  \n",
       "1307 2015-10-15  2015   10  \n",
       "1461 2003-10-31  2003   10  \n",
       "1537 2004-08-20  2004    8  \n",
       "1693 2020-04-29  2020    4  \n",
       "1717 2013-10-08  2013   10  \n",
       "1807 2013-01-23  2013    1  \n",
       "1984 2020-07-09  2020    7  \n",
       "2010 2008-11-13  2008   11  \n",
       "2201 2013-07-31  2013    7  \n",
       "2429 2019-07-17  2019    7  \n",
       "2469 2016-06-01  2016    6  \n",
       "2518 2006-04-20  2006    4  \n",
       "2703 2010-11-04  2010   11  \n",
       "2839 2018-04-25  2018    4  \n",
       "2949 2014-10-08  2014   10  \n",
       "3094 2009-12-03  2009   12  \n",
       "3482 2019-09-18  2019    9  \n",
       "3731 2011-10-06  2011   10  \n",
       "4250 2015-07-16  2015    7  "
      ]
     },
     "execution_count": 930,
     "metadata": {},
     "output_type": "execute_result"
    }
   ],
   "source": [
    "movie[movie.duplicated(['영화명'])]"
   ]
  },
  {
   "cell_type": "code",
   "execution_count": 931,
   "metadata": {
    "ExecuteTime": {
     "end_time": "2021-01-29T11:04:40.542350Z",
     "start_time": "2021-01-29T11:04:40.527394Z"
    }
   },
   "outputs": [],
   "source": [
    "movie['영화명2'] = movie[movie.국가 != '한국'].영화명 + ('(외국)') "
   ]
  },
  {
   "cell_type": "code",
   "execution_count": 932,
   "metadata": {
    "ExecuteTime": {
     "end_time": "2021-01-29T11:04:45.385016Z",
     "start_time": "2021-01-29T11:04:45.376040Z"
    }
   },
   "outputs": [],
   "source": [
    "movie['영화명'] = np.where(pd.notnull(movie['영화명2']) == True, movie['영화명2'],movie['영화명'])"
   ]
  },
  {
   "cell_type": "code",
   "execution_count": 933,
   "metadata": {
    "ExecuteTime": {
     "end_time": "2021-01-29T11:04:49.183972Z",
     "start_time": "2021-01-29T11:04:49.166020Z"
    }
   },
   "outputs": [],
   "source": [
    "movie.drop('영화명2',axis=1,inplace=True)"
   ]
  },
  {
   "cell_type": "code",
   "execution_count": 934,
   "metadata": {
    "ExecuteTime": {
     "end_time": "2021-01-29T11:04:52.878761Z",
     "start_time": "2021-01-29T11:04:52.859300Z"
    }
   },
   "outputs": [],
   "source": [
    "movie['영화명1'] = movie[(movie.영화명.duplicated()) & (movie.국가 != '한국')].영화명 +('(외)')"
   ]
  },
  {
   "cell_type": "code",
   "execution_count": 951,
   "metadata": {
    "ExecuteTime": {
     "end_time": "2021-01-29T12:05:26.595248Z",
     "start_time": "2021-01-29T12:05:26.564330Z"
    }
   },
   "outputs": [],
   "source": [
    "# movie영화명1 = movie.영화명1.apply(lambda x:x.split('(외국)')[0] +('(외)'))"
   ]
  },
  {
   "cell_type": "code",
   "execution_count": 937,
   "metadata": {
    "ExecuteTime": {
     "end_time": "2021-01-29T11:28:20.165403Z",
     "start_time": "2021-01-29T11:28:20.157428Z"
    }
   },
   "outputs": [],
   "source": [
    "movie['영화명'] = np.where(pd.notnull(movie['영화명1']) == True, movie['영화명1'],movie['영화명'])"
   ]
  },
  {
   "cell_type": "code",
   "execution_count": 938,
   "metadata": {
    "ExecuteTime": {
     "end_time": "2021-01-29T11:28:23.927401Z",
     "start_time": "2021-01-29T11:28:23.898476Z"
    }
   },
   "outputs": [
    {
     "data": {
      "text/html": [
       "<div>\n",
       "<style scoped>\n",
       "    .dataframe tbody tr th:only-of-type {\n",
       "        vertical-align: middle;\n",
       "    }\n",
       "\n",
       "    .dataframe tbody tr th {\n",
       "        vertical-align: top;\n",
       "    }\n",
       "\n",
       "    .dataframe thead th {\n",
       "        text-align: right;\n",
       "    }\n",
       "</style>\n",
       "<table border=\"1\" class=\"dataframe\">\n",
       "  <thead>\n",
       "    <tr style=\"text-align: right;\">\n",
       "      <th></th>\n",
       "      <th>순위</th>\n",
       "      <th>영화명</th>\n",
       "      <th>감독</th>\n",
       "      <th>국가</th>\n",
       "      <th>스크린수</th>\n",
       "      <th>관객수</th>\n",
       "      <th>장르</th>\n",
       "      <th>관람가</th>\n",
       "      <th>등급</th>\n",
       "      <th>개봉</th>\n",
       "      <th>개봉연도</th>\n",
       "      <th>개봉월</th>\n",
       "      <th>영화명1</th>\n",
       "    </tr>\n",
       "  </thead>\n",
       "  <tbody>\n",
       "    <tr>\n",
       "      <th>3094</th>\n",
       "      <td>3095</td>\n",
       "      <td>비상</td>\n",
       "      <td>박정훈</td>\n",
       "      <td>한국</td>\n",
       "      <td>160</td>\n",
       "      <td>29223</td>\n",
       "      <td>액션</td>\n",
       "      <td>19세이상</td>\n",
       "      <td>5</td>\n",
       "      <td>2009-12-03</td>\n",
       "      <td>2009</td>\n",
       "      <td>12</td>\n",
       "      <td>NaN</td>\n",
       "    </tr>\n",
       "  </tbody>\n",
       "</table>\n",
       "</div>"
      ],
      "text/plain": [
       "        순위 영화명   감독  국가  스크린수    관객수  장르    관람가 등급         개봉  개봉연도  개봉월 영화명1\n",
       "3094  3095  비상  박정훈  한국   160  29223  액션  19세이상  5 2009-12-03  2009   12  NaN"
      ]
     },
     "execution_count": 938,
     "metadata": {},
     "output_type": "execute_result"
    }
   ],
   "source": [
    "movie[movie.영화명.duplicated()]"
   ]
  },
  {
   "cell_type": "code",
   "execution_count": 939,
   "metadata": {
    "ExecuteTime": {
     "end_time": "2021-01-29T11:28:27.707390Z",
     "start_time": "2021-01-29T11:28:27.681460Z"
    }
   },
   "outputs": [
    {
     "data": {
      "text/html": [
       "<div>\n",
       "<style scoped>\n",
       "    .dataframe tbody tr th:only-of-type {\n",
       "        vertical-align: middle;\n",
       "    }\n",
       "\n",
       "    .dataframe tbody tr th {\n",
       "        vertical-align: top;\n",
       "    }\n",
       "\n",
       "    .dataframe thead th {\n",
       "        text-align: right;\n",
       "    }\n",
       "</style>\n",
       "<table border=\"1\" class=\"dataframe\">\n",
       "  <thead>\n",
       "    <tr style=\"text-align: right;\">\n",
       "      <th></th>\n",
       "      <th>순위</th>\n",
       "      <th>영화명</th>\n",
       "      <th>감독</th>\n",
       "      <th>국가</th>\n",
       "      <th>스크린수</th>\n",
       "      <th>관객수</th>\n",
       "      <th>장르</th>\n",
       "      <th>관람가</th>\n",
       "      <th>등급</th>\n",
       "      <th>개봉</th>\n",
       "      <th>개봉연도</th>\n",
       "      <th>개봉월</th>\n",
       "      <th>영화명1</th>\n",
       "    </tr>\n",
       "  </thead>\n",
       "  <tbody>\n",
       "    <tr>\n",
       "      <th>3093</th>\n",
       "      <td>3094</td>\n",
       "      <td>비상</td>\n",
       "      <td>임유철</td>\n",
       "      <td>한국</td>\n",
       "      <td>0</td>\n",
       "      <td>39072</td>\n",
       "      <td>액션</td>\n",
       "      <td>전체</td>\n",
       "      <td>5</td>\n",
       "      <td>2006-12-14</td>\n",
       "      <td>2006</td>\n",
       "      <td>12</td>\n",
       "      <td>NaN</td>\n",
       "    </tr>\n",
       "    <tr>\n",
       "      <th>3094</th>\n",
       "      <td>3095</td>\n",
       "      <td>비상</td>\n",
       "      <td>박정훈</td>\n",
       "      <td>한국</td>\n",
       "      <td>160</td>\n",
       "      <td>29223</td>\n",
       "      <td>액션</td>\n",
       "      <td>19세이상</td>\n",
       "      <td>5</td>\n",
       "      <td>2009-12-03</td>\n",
       "      <td>2009</td>\n",
       "      <td>12</td>\n",
       "      <td>NaN</td>\n",
       "    </tr>\n",
       "  </tbody>\n",
       "</table>\n",
       "</div>"
      ],
      "text/plain": [
       "        순위 영화명   감독  국가  스크린수    관객수  장르    관람가 등급         개봉  개봉연도  개봉월 영화명1\n",
       "3093  3094  비상  임유철  한국     0  39072  액션     전체  5 2006-12-14  2006   12  NaN\n",
       "3094  3095  비상  박정훈  한국   160  29223  액션  19세이상  5 2009-12-03  2009   12  NaN"
      ]
     },
     "execution_count": 939,
     "metadata": {},
     "output_type": "execute_result"
    }
   ],
   "source": [
    "movie[movie.영화명 == '비상']"
   ]
  },
  {
   "cell_type": "code",
   "execution_count": 940,
   "metadata": {
    "ExecuteTime": {
     "end_time": "2021-01-29T11:28:31.427729Z",
     "start_time": "2021-01-29T11:28:31.417756Z"
    }
   },
   "outputs": [],
   "source": [
    "movie.loc[(movie.순위 == 3094),'영화명'] = '비상(1)'"
   ]
  },
  {
   "cell_type": "code",
   "execution_count": 941,
   "metadata": {
    "ExecuteTime": {
     "end_time": "2021-01-29T11:28:35.076528Z",
     "start_time": "2021-01-29T11:28:35.048606Z"
    }
   },
   "outputs": [
    {
     "data": {
      "text/html": [
       "<div>\n",
       "<style scoped>\n",
       "    .dataframe tbody tr th:only-of-type {\n",
       "        vertical-align: middle;\n",
       "    }\n",
       "\n",
       "    .dataframe tbody tr th {\n",
       "        vertical-align: top;\n",
       "    }\n",
       "\n",
       "    .dataframe thead th {\n",
       "        text-align: right;\n",
       "    }\n",
       "</style>\n",
       "<table border=\"1\" class=\"dataframe\">\n",
       "  <thead>\n",
       "    <tr style=\"text-align: right;\">\n",
       "      <th></th>\n",
       "      <th>순위</th>\n",
       "      <th>영화명</th>\n",
       "      <th>감독</th>\n",
       "      <th>국가</th>\n",
       "      <th>스크린수</th>\n",
       "      <th>관객수</th>\n",
       "      <th>장르</th>\n",
       "      <th>관람가</th>\n",
       "      <th>등급</th>\n",
       "      <th>개봉</th>\n",
       "      <th>개봉연도</th>\n",
       "      <th>개봉월</th>\n",
       "      <th>영화명1</th>\n",
       "    </tr>\n",
       "  </thead>\n",
       "  <tbody>\n",
       "  </tbody>\n",
       "</table>\n",
       "</div>"
      ],
      "text/plain": [
       "Empty DataFrame\n",
       "Columns: [순위, 영화명, 감독, 국가, 스크린수, 관객수, 장르, 관람가, 등급, 개봉, 개봉연도, 개봉월, 영화명1]\n",
       "Index: []"
      ]
     },
     "execution_count": 941,
     "metadata": {},
     "output_type": "execute_result"
    }
   ],
   "source": [
    "movie[movie.영화명.duplicated()]"
   ]
  },
  {
   "cell_type": "code",
   "execution_count": 942,
   "metadata": {
    "ExecuteTime": {
     "end_time": "2021-01-29T11:28:38.890063Z",
     "start_time": "2021-01-29T11:28:38.880091Z"
    }
   },
   "outputs": [],
   "source": [
    "movie.drop('영화명1',axis=1,inplace=True)"
   ]
  },
  {
   "cell_type": "code",
   "execution_count": 943,
   "metadata": {
    "ExecuteTime": {
     "end_time": "2021-01-29T11:28:42.576560Z",
     "start_time": "2021-01-29T11:28:42.563596Z"
    }
   },
   "outputs": [],
   "source": [
    "movie = movie.astype({'등급':'int'})"
   ]
  },
  {
   "cell_type": "code",
   "execution_count": null,
   "metadata": {
    "ExecuteTime": {
     "end_time": "2021-01-29T11:04:58.362511Z",
     "start_time": "2021-01-29T11:01:57.360Z"
    }
   },
   "outputs": [],
   "source": [
    "movie.to_csv('data/최종영화.csv')"
   ]
  },
  {
   "cell_type": "code",
   "execution_count": 944,
   "metadata": {
    "ExecuteTime": {
     "end_time": "2021-01-29T11:28:46.272822Z",
     "start_time": "2021-01-29T11:28:46.252872Z"
    }
   },
   "outputs": [
    {
     "data": {
      "text/plain": [
       "711421.1678712986"
      ]
     },
     "execution_count": 944,
     "metadata": {},
     "output_type": "execute_result"
    }
   ],
   "source": [
    "movie.관객수.mean()"
   ]
  },
  {
   "cell_type": "code",
   "execution_count": 945,
   "metadata": {
    "ExecuteTime": {
     "end_time": "2021-01-29T11:28:50.429817Z",
     "start_time": "2021-01-29T11:28:50.418843Z"
    }
   },
   "outputs": [],
   "source": [
    "movie.loc[(movie.관객수 >= 5000000),'흥행'] = '500만이상'"
   ]
  },
  {
   "cell_type": "code",
   "execution_count": 946,
   "metadata": {
    "ExecuteTime": {
     "end_time": "2021-01-29T11:28:53.899246Z",
     "start_time": "2021-01-29T11:28:53.887279Z"
    }
   },
   "outputs": [],
   "source": [
    "movie.loc[(movie.관객수 <= 5000000),'흥행'] = '500만이하'"
   ]
  },
  {
   "cell_type": "code",
   "execution_count": 947,
   "metadata": {
    "ExecuteTime": {
     "end_time": "2021-01-29T11:28:57.307803Z",
     "start_time": "2021-01-29T11:28:57.295834Z"
    }
   },
   "outputs": [],
   "source": [
    "movie.drop('등급',axis=1,inplace=True)"
   ]
  },
  {
   "cell_type": "code",
   "execution_count": 948,
   "metadata": {
    "ExecuteTime": {
     "end_time": "2021-01-29T11:29:01.417777Z",
     "start_time": "2021-01-29T11:29:01.405807Z"
    }
   },
   "outputs": [],
   "source": [
    "movie.loc[(movie.관람가 == '18세'), '관람가'] = '18세이상'"
   ]
  },
  {
   "cell_type": "code",
   "execution_count": 949,
   "metadata": {
    "ExecuteTime": {
     "end_time": "2021-01-29T11:29:05.174367Z",
     "start_time": "2021-01-29T11:29:05.142453Z"
    }
   },
   "outputs": [
    {
     "data": {
      "text/html": [
       "<div>\n",
       "<style scoped>\n",
       "    .dataframe tbody tr th:only-of-type {\n",
       "        vertical-align: middle;\n",
       "    }\n",
       "\n",
       "    .dataframe tbody tr th {\n",
       "        vertical-align: top;\n",
       "    }\n",
       "\n",
       "    .dataframe thead th {\n",
       "        text-align: right;\n",
       "    }\n",
       "</style>\n",
       "<table border=\"1\" class=\"dataframe\">\n",
       "  <thead>\n",
       "    <tr style=\"text-align: right;\">\n",
       "      <th></th>\n",
       "      <th>순위</th>\n",
       "      <th>영화명</th>\n",
       "      <th>감독</th>\n",
       "      <th>국가</th>\n",
       "      <th>스크린수</th>\n",
       "      <th>관객수</th>\n",
       "      <th>장르</th>\n",
       "      <th>관람가</th>\n",
       "      <th>개봉</th>\n",
       "      <th>개봉연도</th>\n",
       "      <th>개봉월</th>\n",
       "      <th>흥행</th>\n",
       "    </tr>\n",
       "  </thead>\n",
       "  <tbody>\n",
       "    <tr>\n",
       "      <th>0</th>\n",
       "      <td>1</td>\n",
       "      <td>명량</td>\n",
       "      <td>김한민</td>\n",
       "      <td>한국</td>\n",
       "      <td>1587</td>\n",
       "      <td>17613682</td>\n",
       "      <td>사극</td>\n",
       "      <td>15세이상</td>\n",
       "      <td>2014-07-30</td>\n",
       "      <td>2014</td>\n",
       "      <td>7</td>\n",
       "      <td>500만이상</td>\n",
       "    </tr>\n",
       "    <tr>\n",
       "      <th>1</th>\n",
       "      <td>2</td>\n",
       "      <td>극한직업</td>\n",
       "      <td>이병헌</td>\n",
       "      <td>한국</td>\n",
       "      <td>1978</td>\n",
       "      <td>16264944</td>\n",
       "      <td>코미디</td>\n",
       "      <td>15세이상</td>\n",
       "      <td>2019-01-23</td>\n",
       "      <td>2019</td>\n",
       "      <td>1</td>\n",
       "      <td>500만이상</td>\n",
       "    </tr>\n",
       "    <tr>\n",
       "      <th>2</th>\n",
       "      <td>3</td>\n",
       "      <td>신과함께-죄와 벌</td>\n",
       "      <td>김용화</td>\n",
       "      <td>한국</td>\n",
       "      <td>1912</td>\n",
       "      <td>14410754</td>\n",
       "      <td>판타지</td>\n",
       "      <td>12세이상</td>\n",
       "      <td>2017-12-20</td>\n",
       "      <td>2017</td>\n",
       "      <td>12</td>\n",
       "      <td>500만이상</td>\n",
       "    </tr>\n",
       "  </tbody>\n",
       "</table>\n",
       "</div>"
      ],
      "text/plain": [
       "   순위        영화명   감독  국가  스크린수       관객수   장르    관람가         개봉  개봉연도  개봉월  \\\n",
       "0   1         명량  김한민  한국  1587  17613682   사극  15세이상 2014-07-30  2014    7   \n",
       "1   2       극한직업  이병헌  한국  1978  16264944  코미디  15세이상 2019-01-23  2019    1   \n",
       "2   3  신과함께-죄와 벌  김용화  한국  1912  14410754  판타지  12세이상 2017-12-20  2017   12   \n",
       "\n",
       "       흥행  \n",
       "0  500만이상  \n",
       "1  500만이상  \n",
       "2  500만이상  "
      ]
     },
     "execution_count": 949,
     "metadata": {},
     "output_type": "execute_result"
    }
   ],
   "source": [
    "movie.head(3)"
   ]
  },
  {
   "cell_type": "markdown",
   "metadata": {},
   "source": [
    "# 각 컬럼간의 상관관계 확인"
   ]
  },
  {
   "cell_type": "code",
   "execution_count": 317,
   "metadata": {
    "ExecuteTime": {
     "end_time": "2021-01-26T05:51:05.039394Z",
     "start_time": "2021-01-26T05:51:04.162391Z"
    }
   },
   "outputs": [
    {
     "data": {
      "image/png": "[encoded data removed]",
      "text/plain": [
       "<Figure size 1440x432 with 2 Axes>"
      ]
     },
     "metadata": {
      "needs_background": "light"
     },
     "output_type": "display_data"
    }
   ],
   "source": [
    "plt.figure(figsize=(20,6))\n",
    "plt.title('상관관계')\n",
    "sns.heatmap(movie.corr(),annot=True)\n",
    "pass"
   ]
  },
  {
   "cell_type": "markdown",
   "metadata": {},
   "source": [
    "## 흥행확인"
   ]
  },
  {
   "cell_type": "code",
   "execution_count": 507,
   "metadata": {
    "ExecuteTime": {
     "end_time": "2021-01-28T06:35:17.597175Z",
     "start_time": "2021-01-28T06:35:16.380225Z"
    },
    "scrolled": false
   },
   "outputs": [
    {
     "name": "stderr",
     "output_type": "stream",
     "text": [
      "C:\\ProgramData\\Anaconda3\\lib\\site-packages\\seaborn\\_decorators.py:36: FutureWarning: Pass the following variable as a keyword arg: x. From version 0.12, the only valid positional argument will be `data`, and passing other arguments without an explicit keyword will result in an error or misinterpretation.\n",
      "  warnings.warn(\n"
     ]
    },
    {
     "data": {
      "image/png": "[encoded data removed]",
      "text/plain": [
       "<Figure size 432x288 with 1 Axes>"
      ]
     },
     "metadata": {
      "needs_background": "light"
     },
     "output_type": "display_data"
    }
   ],
   "source": [
    "sns.countplot(movie.흥행)\n",
    "pass"
   ]
  },
  {
   "cell_type": "code",
   "execution_count": 950,
   "metadata": {
    "ExecuteTime": {
     "end_time": "2021-01-29T11:29:10.273911Z",
     "start_time": "2021-01-29T11:29:09.279822Z"
    }
   },
   "outputs": [
    {
     "data": {
      "text/plain": [
       "<matplotlib.legend.Legend at 0x20d07fb6460>"
      ]
     },
     "execution_count": 950,
     "metadata": {},
     "output_type": "execute_result"
    },
    {
     "data": {
      "image/png": "[encoded data removed]",
      "text/plain": [
       "<Figure size 864x720 with 1 Axes>"
      ]
     },
     "metadata": {
      "needs_background": "light"
     },
     "output_type": "display_data"
    }
   ],
   "source": [
    "plt.figure(figsize=(12,10))\n",
    "sns.histplot(x='개봉연도',hue='흥행',data=movie)\n",
    "plt.legend(['흥행 = No','흥행 = Yes'])"
   ]
  },
  {
   "cell_type": "code",
   "execution_count": 530,
   "metadata": {
    "ExecuteTime": {
     "end_time": "2021-01-28T06:55:23.480684Z",
     "start_time": "2021-01-28T06:55:23.475695Z"
    }
   },
   "outputs": [],
   "source": [
    "# 500만이상 작품이 생각보다 작아서 500만이상인 데이터들로 시각화"
   ]
  },
  {
   "cell_type": "code",
   "execution_count": 594,
   "metadata": {
    "ExecuteTime": {
     "end_time": "2021-01-28T07:42:06.658264Z",
     "start_time": "2021-01-28T07:42:06.653953Z"
    }
   },
   "outputs": [],
   "source": [
    "# mo500 = movie[movie.흥행 == '500만이상']\n",
    "# fig,ax = plt.subplot(2,3,figsize=(16,10))\n",
    "# sns.countplot(mo500.개봉연도,hue=mo500.흥행,ax=ax[0][0])\n",
    "# sns.countplot(mo500.국가,hue=mo500.흥행,ax=ax[0][1])\n",
    "# sns.countplot(mo500.장르,hue=mo500.흥행,ax=ax[0][2])\n",
    "# sns.countplot(mo500.관람가,hue=mo500.흥행,ax=ax[1][0])\n",
    "# sns.countplot(mo500.개봉월,hue=mo500.흥행,ax=ax[1][1])\n",
    "# plt.xticks(rotation=50)\n",
    "# pass"
   ]
  },
  {
   "cell_type": "code",
   "execution_count": 590,
   "metadata": {
    "ExecuteTime": {
     "end_time": "2021-01-28T07:39:54.855877Z",
     "start_time": "2021-01-28T07:39:54.653724Z"
    }
   },
   "outputs": [
    {
     "data": {
      "image/png": "[encoded data removed]",
      "text/plain": [
       "<Figure size 720x72 with 1 Axes>"
      ]
     },
     "metadata": {
      "needs_background": "light"
     },
     "output_type": "display_data"
    }
   ],
   "source": [
    "palette1 = sns.color_palette('deep',10)\n",
    "sns.palplot(palette1)"
   ]
  },
  {
   "cell_type": "code",
   "execution_count": 592,
   "metadata": {
    "ExecuteTime": {
     "end_time": "2021-01-28T07:40:15.663673Z",
     "start_time": "2021-01-28T07:40:08.845323Z"
    }
   },
   "outputs": [
    {
     "name": "stderr",
     "output_type": "stream",
     "text": [
      "C:\\ProgramData\\Anaconda3\\lib\\site-packages\\seaborn\\_decorators.py:36: FutureWarning: Pass the following variable as a keyword arg: x. From version 0.12, the only valid positional argument will be `data`, and passing other arguments without an explicit keyword will result in an error or misinterpretation.\n",
      "  warnings.warn(\n",
      "C:\\ProgramData\\Anaconda3\\lib\\site-packages\\seaborn\\_decorators.py:36: FutureWarning: Pass the following variable as a keyword arg: x. From version 0.12, the only valid positional argument will be `data`, and passing other arguments without an explicit keyword will result in an error or misinterpretation.\n",
      "  warnings.warn(\n",
      "C:\\ProgramData\\Anaconda3\\lib\\site-packages\\seaborn\\_decorators.py:36: FutureWarning: Pass the following variable as a keyword arg: x. From version 0.12, the only valid positional argument will be `data`, and passing other arguments without an explicit keyword will result in an error or misinterpretation.\n",
      "  warnings.warn(\n"
     ]
    },
    {
     "data": {
      "image/png": "[encoded data removed]",
      "text/plain": [
       "<Figure size 1152x720 with 4 Axes>"
      ]
     },
     "metadata": {
      "needs_background": "light"
     },
     "output_type": "display_data"
    }
   ],
   "source": [
    "fig,ax = plt.subplots(2,2,figsize=(16,10))\n",
    "sns.countplot(mo500.국가, hue = mo500.흥행,ax=ax[0][0],palette=palette1) \n",
    "sns.countplot(mo500.관람가, hue = mo500.흥행,ax=ax[0][1],palette=palette1)\n",
    "sns.countplot(mo500.개봉월, hue = mo500.흥행,ax=ax[1][0],palette =palette1)\n",
    "pass"
   ]
  },
  {
   "cell_type": "code",
   "execution_count": 589,
   "metadata": {
    "ExecuteTime": {
     "end_time": "2021-01-28T07:39:12.870152Z",
     "start_time": "2021-01-28T07:39:12.141260Z"
    }
   },
   "outputs": [
    {
     "name": "stderr",
     "output_type": "stream",
     "text": [
      "C:\\ProgramData\\Anaconda3\\lib\\site-packages\\seaborn\\_decorators.py:36: FutureWarning: Pass the following variable as a keyword arg: x. From version 0.12, the only valid positional argument will be `data`, and passing other arguments without an explicit keyword will result in an error or misinterpretation.\n",
      "  warnings.warn(\n"
     ]
    },
    {
     "data": {
      "image/png": "[encoded data removed]",
      "text/plain": [
       "<Figure size 1440x432 with 1 Axes>"
      ]
     },
     "metadata": {
      "needs_background": "light"
     },
     "output_type": "display_data"
    }
   ],
   "source": [
    "plt.figure(figsize=(20,6))\n",
    "sns.countplot(mo500.개봉연도,hue=mo500.흥행,palette=palette1)\n",
    "plt.xticks(rotation=50)\n",
    "pass"
   ]
  },
  {
   "cell_type": "code",
   "execution_count": 597,
   "metadata": {
    "ExecuteTime": {
     "end_time": "2021-01-28T08:10:41.972078Z",
     "start_time": "2021-01-28T08:10:41.247548Z"
    }
   },
   "outputs": [
    {
     "name": "stderr",
     "output_type": "stream",
     "text": [
      "C:\\ProgramData\\Anaconda3\\lib\\site-packages\\seaborn\\_decorators.py:36: FutureWarning: Pass the following variable as a keyword arg: x. From version 0.12, the only valid positional argument will be `data`, and passing other arguments without an explicit keyword will result in an error or misinterpretation.\n",
      "  warnings.warn(\n"
     ]
    },
    {
     "data": {
      "image/png": "[encoded data removed]",
      "text/plain": [
       "<Figure size 1440x432 with 1 Axes>"
      ]
     },
     "metadata": {
      "needs_background": "light"
     },
     "output_type": "display_data"
    }
   ],
   "source": [
    "plt.figure(figsize=(20,6))\n",
    "sns.countplot(mo500.장르,hue=mo500.흥행,palette='Paired')\n",
    "plt.xticks(rotation=50)\n",
    "pass"
   ]
  },
  {
   "cell_type": "code",
   "execution_count": 612,
   "metadata": {
    "ExecuteTime": {
     "end_time": "2021-01-28T08:29:41.277883Z",
     "start_time": "2021-01-28T08:29:40.883424Z"
    }
   },
   "outputs": [
    {
     "data": {
      "image/png": "[encoded data removed]",
      "text/plain": [
       "<Figure size 432x288 with 1 Axes>"
      ]
     },
     "metadata": {
      "needs_background": "light"
     },
     "output_type": "display_data"
    }
   ],
   "source": [
    "# 스크린수 흥행\n",
    "sns.boxplot(x = movie.흥행,y=movie.스크린수)\n",
    "pass"
   ]
  },
  {
   "cell_type": "markdown",
   "metadata": {},
   "source": [
    "## 각 컬럼들 관객수관계"
   ]
  },
  {
   "cell_type": "code",
   "execution_count": 595,
   "metadata": {
    "ExecuteTime": {
     "end_time": "2021-01-28T07:43:04.178940Z",
     "start_time": "2021-01-28T07:43:03.004924Z"
    },
    "scrolled": true
   },
   "outputs": [
    {
     "data": {
      "image/png": "[encoded data removed]",
      "text/plain": [
       "<Figure size 1440x432 with 1 Axes>"
      ]
     },
     "metadata": {
      "needs_background": "light"
     },
     "output_type": "display_data"
    }
   ],
   "source": [
    "# 관람가 관객수\n",
    "plt.figure(figsize=(20,6))\n",
    "sns.barplot(x=movie.관람가,y=movie.관객수)\n",
    "pass"
   ]
  },
  {
   "cell_type": "code",
   "execution_count": 421,
   "metadata": {
    "ExecuteTime": {
     "end_time": "2021-01-27T14:09:44.464797Z",
     "start_time": "2021-01-27T14:09:44.220036Z"
    }
   },
   "outputs": [
    {
     "data": {
      "image/png": "[encoded data removed]",
      "text/plain": [
       "<Figure size 864x864 with 1 Axes>"
      ]
     },
     "metadata": {},
     "output_type": "display_data"
    }
   ],
   "source": [
    "# 관람가\n",
    "bar, ax = plt.subplots(figsize = (12,12))\n",
    "plt.pie(movie['관람가'].value_counts(), labels = movie['관람가'].value_counts().index, autopct=\"%.1f%%\")\n",
    "pass"
   ]
  },
  {
   "cell_type": "code",
   "execution_count": 601,
   "metadata": {
    "ExecuteTime": {
     "end_time": "2021-01-28T08:18:03.887452Z",
     "start_time": "2021-01-28T08:18:01.786746Z"
    }
   },
   "outputs": [
    {
     "data": {
      "image/png": "[encoded data removed]",
      "text/plain": [
       "<Figure size 1440x432 with 1 Axes>"
      ]
     },
     "metadata": {
      "needs_background": "light"
     },
     "output_type": "display_data"
    }
   ],
   "source": [
    "# 장르, 관객수\n",
    "plt.figure(figsize=(20,6))\n",
    "sns.barplot(x=movie['장르'],y=movie['관객수'])\n",
    "plt.xticks(rotation=50)\n",
    "pass"
   ]
  },
  {
   "cell_type": "code",
   "execution_count": 412,
   "metadata": {
    "ExecuteTime": {
     "end_time": "2021-01-27T14:02:09.380684Z",
     "start_time": "2021-01-27T14:02:08.987770Z"
    },
    "scrolled": true
   },
   "outputs": [
    {
     "data": {
      "image/png": "[encoded data removed]",
      "text/plain": [
       "<Figure size 1440x432 with 1 Axes>"
      ]
     },
     "metadata": {
      "needs_background": "light"
     },
     "output_type": "display_data"
    }
   ],
   "source": [
    "# 장르 관객수 상위10\n",
    "plt.figure(figsize=(20,6))\n",
    "sns.barplot(x=movie['장르'].value_counts().index[:10],y=movie['관객수'].value_counts().index[:10])\n",
    "plt.xticks(rotation=50)\n",
    "pass"
   ]
  },
  {
   "cell_type": "code",
   "execution_count": 602,
   "metadata": {
    "ExecuteTime": {
     "end_time": "2021-01-28T08:20:20.255582Z",
     "start_time": "2021-01-28T08:20:15.778459Z"
    }
   },
   "outputs": [
    {
     "data": {
      "image/png": "[encoded data removed]",
      "text/plain": [
       "<Figure size 1440x432 with 1 Axes>"
      ]
     },
     "metadata": {
      "needs_background": "light"
     },
     "output_type": "display_data"
    }
   ],
   "source": [
    "# 국가 관객수\n",
    "plt.figure(figsize=(20,6))\n",
    "sns.barplot(x=movie['국가'],y=movie['관객수'])\n",
    "plt.xticks(rotation=50)\n",
    "pass"
   ]
  },
  {
   "cell_type": "code",
   "execution_count": 604,
   "metadata": {
    "ExecuteTime": {
     "end_time": "2021-01-28T08:20:59.649671Z",
     "start_time": "2021-01-28T08:20:59.206637Z"
    }
   },
   "outputs": [
    {
     "data": {
      "image/png": "[encoded data removed]",
      "text/plain": [
       "<Figure size 1440x432 with 1 Axes>"
      ]
     },
     "metadata": {
      "needs_background": "light"
     },
     "output_type": "display_data"
    }
   ],
   "source": [
    "# 국가 관객수 상위10\n",
    "plt.figure(figsize=(20,6))\n",
    "sns.barplot(x=movie['국가'].value_counts().index[:10],y=movie['관객수'].value_counts().index[:10])\n",
    "plt.xticks(rotation=50)\n",
    "pass"
   ]
  },
  {
   "cell_type": "code",
   "execution_count": 608,
   "metadata": {
    "ExecuteTime": {
     "end_time": "2021-01-28T08:25:04.456986Z",
     "start_time": "2021-01-28T08:25:02.451903Z"
    },
    "collapsed": true
   },
   "outputs": [
    {
     "data": {
      "image/png": "[encoded data removed]",
      "text/plain": [
       "<Figure size 1440x432 with 1 Axes>"
      ]
     },
     "metadata": {
      "needs_background": "light"
     },
     "output_type": "display_data"
    }
   ],
   "source": [
    "# 개봉연도 관객수\n",
    "plt.figure(figsize=(20,6))\n",
    "sns.barplot(x=movie['개봉연도'],y=movie['관객수'])\n",
    "plt.xticks(rotation=50)\n",
    "pass"
   ]
  },
  {
   "cell_type": "code",
   "execution_count": 609,
   "metadata": {
    "ExecuteTime": {
     "end_time": "2021-01-28T08:25:34.346062Z",
     "start_time": "2021-01-28T08:25:32.900963Z"
    }
   },
   "outputs": [
    {
     "data": {
      "image/png": "[encoded data removed]",
      "text/plain": [
       "<Figure size 1440x432 with 1 Axes>"
      ]
     },
     "metadata": {
      "needs_background": "light"
     },
     "output_type": "display_data"
    }
   ],
   "source": [
    "plt.figure(figsize=(20,6))\n",
    "sns.barplot(x=movie['개봉월'],y=movie['관객수'])\n",
    "plt.xticks(rotation=50)\n",
    "pass"
   ]
  },
  {
   "cell_type": "markdown",
   "metadata": {},
   "source": [
    "## 감독흥행작품수"
   ]
  },
  {
   "cell_type": "code",
   "execution_count": 505,
   "metadata": {
    "ExecuteTime": {
     "end_time": "2021-01-27T14:46:11.572430Z",
     "start_time": "2021-01-27T14:46:11.544506Z"
    }
   },
   "outputs": [],
   "source": [
    "director = movie[['감독','흥행']]\n",
    "director_df = director.value_counts().to_frame()\n",
    "director_df = director_df.reset_index()\n",
    "director_df.rename(columns={0:'작품수'},inplace=True)"
   ]
  },
  {
   "cell_type": "code",
   "execution_count": 506,
   "metadata": {
    "ExecuteTime": {
     "end_time": "2021-01-27T14:46:13.541165Z",
     "start_time": "2021-01-27T14:46:12.608660Z"
    }
   },
   "outputs": [
    {
     "data": {
      "image/png": "[encoded data removed]",
      "text/plain": [
       "<Figure size 720x720 with 1 Axes>"
      ]
     },
     "metadata": {
      "needs_background": "light"
     },
     "output_type": "display_data"
    },
    {
     "data": {
      "image/png": "[encoded data removed]",
      "text/plain": [
       "<Figure size 720x720 with 1 Axes>"
      ]
     },
     "metadata": {
      "needs_background": "light"
     },
     "output_type": "display_data"
    }
   ],
   "source": [
    "for i in director_df['흥행'].unique():\n",
    "    bar, ax = plt.subplots(figsize=(10,10))\n",
    "    sns.barplot(x = '감독', y = '작품수', data = director_df[director_df['흥행'] == i].iloc[:10])\n",
    "    plt.ylabel('작품수')\n",
    "    plt.title('{}작품수'.format(str(i)), size=20)\n",
    "    plt.xticks(rotation=50)"
   ]
  },
  {
   "cell_type": "code",
   "execution_count": 678,
   "metadata": {
    "ExecuteTime": {
     "end_time": "2021-01-28T14:31:00.379268Z",
     "start_time": "2021-01-28T14:31:00.349378Z"
    }
   },
   "outputs": [],
   "source": [
    "# 알고리즘을 위해 int로\n",
    "movie.loc[(movie.관객수 >= 5000000),'흥행'] = '1'\n",
    "movie.loc[(movie.관객수 <= 5000000),'흥행'] = '0'\n",
    "movie = movie.astype({'흥행':'int'})"
   ]
  },
  {
   "cell_type": "code",
   "execution_count": 658,
   "metadata": {
    "ExecuteTime": {
     "end_time": "2021-01-28T14:23:20.349668Z",
     "start_time": "2021-01-28T14:23:20.319748Z"
    },
    "scrolled": true
   },
   "outputs": [
    {
     "data": {
      "text/html": [
       "<div>\n",
       "<style scoped>\n",
       "    .dataframe tbody tr th:only-of-type {\n",
       "        vertical-align: middle;\n",
       "    }\n",
       "\n",
       "    .dataframe tbody tr th {\n",
       "        vertical-align: top;\n",
       "    }\n",
       "\n",
       "    .dataframe thead th {\n",
       "        text-align: right;\n",
       "    }\n",
       "</style>\n",
       "<table border=\"1\" class=\"dataframe\">\n",
       "  <thead>\n",
       "    <tr style=\"text-align: right;\">\n",
       "      <th></th>\n",
       "      <th>순위</th>\n",
       "      <th>영화명</th>\n",
       "      <th>감독</th>\n",
       "      <th>국가</th>\n",
       "      <th>스크린수</th>\n",
       "      <th>관객수</th>\n",
       "      <th>장르</th>\n",
       "      <th>관람가</th>\n",
       "      <th>개봉</th>\n",
       "      <th>개봉연도</th>\n",
       "      <th>개봉월</th>\n",
       "      <th>흥행</th>\n",
       "    </tr>\n",
       "  </thead>\n",
       "  <tbody>\n",
       "    <tr>\n",
       "      <th>0</th>\n",
       "      <td>1</td>\n",
       "      <td>명량</td>\n",
       "      <td>김한민</td>\n",
       "      <td>한국</td>\n",
       "      <td>1587</td>\n",
       "      <td>17613682</td>\n",
       "      <td>사극</td>\n",
       "      <td>15세이상</td>\n",
       "      <td>2014-07-30</td>\n",
       "      <td>2014</td>\n",
       "      <td>7</td>\n",
       "      <td>1</td>\n",
       "    </tr>\n",
       "    <tr>\n",
       "      <th>1</th>\n",
       "      <td>2</td>\n",
       "      <td>극한직업</td>\n",
       "      <td>이병헌</td>\n",
       "      <td>한국</td>\n",
       "      <td>1978</td>\n",
       "      <td>16264944</td>\n",
       "      <td>코미디</td>\n",
       "      <td>15세이상</td>\n",
       "      <td>2019-01-23</td>\n",
       "      <td>2019</td>\n",
       "      <td>1</td>\n",
       "      <td>1</td>\n",
       "    </tr>\n",
       "    <tr>\n",
       "      <th>2</th>\n",
       "      <td>3</td>\n",
       "      <td>신과함께-죄와 벌</td>\n",
       "      <td>김용화</td>\n",
       "      <td>한국</td>\n",
       "      <td>1912</td>\n",
       "      <td>14410754</td>\n",
       "      <td>판타지</td>\n",
       "      <td>12세이상</td>\n",
       "      <td>2017-12-20</td>\n",
       "      <td>2017</td>\n",
       "      <td>12</td>\n",
       "      <td>1</td>\n",
       "    </tr>\n",
       "    <tr>\n",
       "      <th>3</th>\n",
       "      <td>4</td>\n",
       "      <td>국제시장</td>\n",
       "      <td>윤제균</td>\n",
       "      <td>한국</td>\n",
       "      <td>966</td>\n",
       "      <td>14245998</td>\n",
       "      <td>드라마</td>\n",
       "      <td>12세이상</td>\n",
       "      <td>2014-12-17</td>\n",
       "      <td>2014</td>\n",
       "      <td>12</td>\n",
       "      <td>1</td>\n",
       "    </tr>\n",
       "    <tr>\n",
       "      <th>4</th>\n",
       "      <td>5</td>\n",
       "      <td>어벤져스: 엔드게임(외국)</td>\n",
       "      <td>안소니 루소,조 루소</td>\n",
       "      <td>미국</td>\n",
       "      <td>2835</td>\n",
       "      <td>13934592</td>\n",
       "      <td>액션</td>\n",
       "      <td>12세이상</td>\n",
       "      <td>2019-04-24</td>\n",
       "      <td>2019</td>\n",
       "      <td>4</td>\n",
       "      <td>1</td>\n",
       "    </tr>\n",
       "  </tbody>\n",
       "</table>\n",
       "</div>"
      ],
      "text/plain": [
       "   순위             영화명           감독  국가  스크린수       관객수   장르    관람가         개봉  \\\n",
       "0   1              명량          김한민  한국  1587  17613682   사극  15세이상 2014-07-30   \n",
       "1   2            극한직업          이병헌  한국  1978  16264944  코미디  15세이상 2019-01-23   \n",
       "2   3       신과함께-죄와 벌          김용화  한국  1912  14410754  판타지  12세이상 2017-12-20   \n",
       "3   4            국제시장          윤제균  한국   966  14245998  드라마  12세이상 2014-12-17   \n",
       "4   5  어벤져스: 엔드게임(외국)  안소니 루소,조 루소  미국  2835  13934592   액션  12세이상 2019-04-24   \n",
       "\n",
       "   개봉연도  개봉월  흥행  \n",
       "0  2014    7   1  \n",
       "1  2019    1   1  \n",
       "2  2017   12   1  \n",
       "3  2014   12   1  \n",
       "4  2019    4   1  "
      ]
     },
     "execution_count": 658,
     "metadata": {},
     "output_type": "execute_result"
    }
   ],
   "source": [
    "movie.head()"
   ]
  },
  {
   "cell_type": "code",
   "execution_count": 836,
   "metadata": {
    "ExecuteTime": {
     "end_time": "2021-01-29T06:12:58.701805Z",
     "start_time": "2021-01-29T06:12:58.650683Z"
    }
   },
   "outputs": [],
   "source": [
    "movie1 = movie.astype({'개봉연도':'str','개봉월':'str'})"
   ]
  },
  {
   "cell_type": "code",
   "execution_count": 657,
   "metadata": {
    "ExecuteTime": {
     "end_time": "2021-01-28T14:23:02.699941Z",
     "start_time": "2021-01-28T14:23:02.619797Z"
    }
   },
   "outputs": [
    {
     "name": "stdout",
     "output_type": "stream",
     "text": [
      "<class 'pandas.core.frame.DataFrame'>\n",
      "Int64Index: 4289 entries, 0 to 4288\n",
      "Data columns (total 12 columns):\n",
      " #   Column  Non-Null Count  Dtype         \n",
      "---  ------  --------------  -----         \n",
      " 0   순위      4289 non-null   int64         \n",
      " 1   영화명     4289 non-null   object        \n",
      " 2   감독      4289 non-null   object        \n",
      " 3   국가      4289 non-null   object        \n",
      " 4   스크린수    4289 non-null   int32         \n",
      " 5   관객수     4289 non-null   int32         \n",
      " 6   장르      4289 non-null   object        \n",
      " 7   관람가     4289 non-null   object        \n",
      " 8   개봉      4289 non-null   datetime64[ns]\n",
      " 9   개봉연도    4289 non-null   int64         \n",
      " 10  개봉월     4289 non-null   int64         \n",
      " 11  흥행      4289 non-null   int32         \n",
      "dtypes: datetime64[ns](1), int32(3), int64(3), object(5)\n",
      "memory usage: 545.3+ KB\n"
     ]
    }
   ],
   "source": [
    "movie.info()"
   ]
  },
  {
   "cell_type": "markdown",
   "metadata": {},
   "source": [
    "# 머신러닝"
   ]
  },
  {
   "cell_type": "code",
   "execution_count": 845,
   "metadata": {
    "ExecuteTime": {
     "end_time": "2021-01-29T06:14:06.980233Z",
     "start_time": "2021-01-29T06:14:06.948703Z"
    }
   },
   "outputs": [
    {
     "data": {
      "text/html": [
       "<div>\n",
       "<style scoped>\n",
       "    .dataframe tbody tr th:only-of-type {\n",
       "        vertical-align: middle;\n",
       "    }\n",
       "\n",
       "    .dataframe tbody tr th {\n",
       "        vertical-align: top;\n",
       "    }\n",
       "\n",
       "    .dataframe thead th {\n",
       "        text-align: right;\n",
       "    }\n",
       "</style>\n",
       "<table border=\"1\" class=\"dataframe\">\n",
       "  <thead>\n",
       "    <tr style=\"text-align: right;\">\n",
       "      <th></th>\n",
       "      <th>국가</th>\n",
       "      <th>관객수</th>\n",
       "      <th>장르</th>\n",
       "      <th>관람가</th>\n",
       "      <th>개봉연도</th>\n",
       "      <th>개봉월</th>\n",
       "      <th>흥행</th>\n",
       "    </tr>\n",
       "  </thead>\n",
       "  <tbody>\n",
       "    <tr>\n",
       "      <th>0</th>\n",
       "      <td>한국</td>\n",
       "      <td>17613682</td>\n",
       "      <td>사극</td>\n",
       "      <td>15세이상</td>\n",
       "      <td>2014</td>\n",
       "      <td>7</td>\n",
       "      <td>1</td>\n",
       "    </tr>\n",
       "    <tr>\n",
       "      <th>1</th>\n",
       "      <td>한국</td>\n",
       "      <td>16264944</td>\n",
       "      <td>코미디</td>\n",
       "      <td>15세이상</td>\n",
       "      <td>2019</td>\n",
       "      <td>1</td>\n",
       "      <td>1</td>\n",
       "    </tr>\n",
       "    <tr>\n",
       "      <th>2</th>\n",
       "      <td>한국</td>\n",
       "      <td>14410754</td>\n",
       "      <td>판타지</td>\n",
       "      <td>12세이상</td>\n",
       "      <td>2017</td>\n",
       "      <td>12</td>\n",
       "      <td>1</td>\n",
       "    </tr>\n",
       "    <tr>\n",
       "      <th>3</th>\n",
       "      <td>한국</td>\n",
       "      <td>14245998</td>\n",
       "      <td>드라마</td>\n",
       "      <td>12세이상</td>\n",
       "      <td>2014</td>\n",
       "      <td>12</td>\n",
       "      <td>1</td>\n",
       "    </tr>\n",
       "    <tr>\n",
       "      <th>4</th>\n",
       "      <td>미국</td>\n",
       "      <td>13934592</td>\n",
       "      <td>액션</td>\n",
       "      <td>12세이상</td>\n",
       "      <td>2019</td>\n",
       "      <td>4</td>\n",
       "      <td>1</td>\n",
       "    </tr>\n",
       "    <tr>\n",
       "      <th>...</th>\n",
       "      <td>...</td>\n",
       "      <td>...</td>\n",
       "      <td>...</td>\n",
       "      <td>...</td>\n",
       "      <td>...</td>\n",
       "      <td>...</td>\n",
       "      <td>...</td>\n",
       "    </tr>\n",
       "    <tr>\n",
       "      <th>4284</th>\n",
       "      <td>홍콩</td>\n",
       "      <td>10036</td>\n",
       "      <td>액션</td>\n",
       "      <td>15세이상</td>\n",
       "      <td>2006</td>\n",
       "      <td>3</td>\n",
       "      <td>0</td>\n",
       "    </tr>\n",
       "    <tr>\n",
       "      <th>4285</th>\n",
       "      <td>이탈리아</td>\n",
       "      <td>10031</td>\n",
       "      <td>드라마</td>\n",
       "      <td>12세이상</td>\n",
       "      <td>2015</td>\n",
       "      <td>8</td>\n",
       "      <td>0</td>\n",
       "    </tr>\n",
       "    <tr>\n",
       "      <th>4286</th>\n",
       "      <td>대만</td>\n",
       "      <td>10023</td>\n",
       "      <td>드라마</td>\n",
       "      <td>전체</td>\n",
       "      <td>2011</td>\n",
       "      <td>7</td>\n",
       "      <td>0</td>\n",
       "    </tr>\n",
       "    <tr>\n",
       "      <th>4287</th>\n",
       "      <td>미국</td>\n",
       "      <td>10021</td>\n",
       "      <td>드라마</td>\n",
       "      <td>15세이상</td>\n",
       "      <td>2019</td>\n",
       "      <td>6</td>\n",
       "      <td>0</td>\n",
       "    </tr>\n",
       "    <tr>\n",
       "      <th>4288</th>\n",
       "      <td>미국</td>\n",
       "      <td>10018</td>\n",
       "      <td>코미디</td>\n",
       "      <td>15세이상</td>\n",
       "      <td>2006</td>\n",
       "      <td>1</td>\n",
       "      <td>0</td>\n",
       "    </tr>\n",
       "  </tbody>\n",
       "</table>\n",
       "<p>4289 rows × 7 columns</p>\n",
       "</div>"
      ],
      "text/plain": [
       "        국가       관객수   장르    관람가  개봉연도  개봉월  흥행\n",
       "0       한국  17613682   사극  15세이상  2014    7   1\n",
       "1       한국  16264944  코미디  15세이상  2019    1   1\n",
       "2       한국  14410754  판타지  12세이상  2017   12   1\n",
       "3       한국  14245998  드라마  12세이상  2014   12   1\n",
       "4       미국  13934592   액션  12세이상  2019    4   1\n",
       "...    ...       ...  ...    ...   ...  ...  ..\n",
       "4284    홍콩     10036   액션  15세이상  2006    3   0\n",
       "4285  이탈리아     10031  드라마  12세이상  2015    8   0\n",
       "4286    대만     10023  드라마     전체  2011    7   0\n",
       "4287    미국     10021  드라마  15세이상  2019    6   0\n",
       "4288    미국     10018  코미디  15세이상  2006    1   0\n",
       "\n",
       "[4289 rows x 7 columns]"
      ]
     },
     "execution_count": 845,
     "metadata": {},
     "output_type": "execute_result"
    }
   ],
   "source": [
    "movie_df = movie.drop(['순위','개봉','감독','영화명','스크린수'],axis=1)\n",
    "movie_df"
   ]
  },
  {
   "cell_type": "code",
   "execution_count": 846,
   "metadata": {
    "ExecuteTime": {
     "end_time": "2021-01-29T06:14:12.692120Z",
     "start_time": "2021-01-29T06:14:12.622837Z"
    },
    "collapsed": true
   },
   "outputs": [
    {
     "data": {
      "text/html": [
       "<div>\n",
       "<style scoped>\n",
       "    .dataframe tbody tr th:only-of-type {\n",
       "        vertical-align: middle;\n",
       "    }\n",
       "\n",
       "    .dataframe tbody tr th {\n",
       "        vertical-align: top;\n",
       "    }\n",
       "\n",
       "    .dataframe thead th {\n",
       "        text-align: right;\n",
       "    }\n",
       "</style>\n",
       "<table border=\"1\" class=\"dataframe\">\n",
       "  <thead>\n",
       "    <tr style=\"text-align: right;\">\n",
       "      <th></th>\n",
       "      <th>관객수</th>\n",
       "      <th>개봉연도</th>\n",
       "      <th>개봉월</th>\n",
       "      <th>흥행</th>\n",
       "      <th>국가_그리스</th>\n",
       "      <th>국가_기타</th>\n",
       "      <th>국가_남아프리카공화국</th>\n",
       "      <th>국가_네덜란드</th>\n",
       "      <th>국가_노르웨이</th>\n",
       "      <th>국가_뉴질랜드</th>\n",
       "      <th>...</th>\n",
       "      <th>장르_액션</th>\n",
       "      <th>장르_어드벤처</th>\n",
       "      <th>장르_전쟁</th>\n",
       "      <th>장르_코미디</th>\n",
       "      <th>장르_판타지</th>\n",
       "      <th>관람가_12세이상</th>\n",
       "      <th>관람가_15세이상</th>\n",
       "      <th>관람가_18세이상</th>\n",
       "      <th>관람가_19세이상</th>\n",
       "      <th>관람가_전체</th>\n",
       "    </tr>\n",
       "  </thead>\n",
       "  <tbody>\n",
       "    <tr>\n",
       "      <th>0</th>\n",
       "      <td>17613682</td>\n",
       "      <td>2014</td>\n",
       "      <td>7</td>\n",
       "      <td>1</td>\n",
       "      <td>0</td>\n",
       "      <td>0</td>\n",
       "      <td>0</td>\n",
       "      <td>0</td>\n",
       "      <td>0</td>\n",
       "      <td>0</td>\n",
       "      <td>...</td>\n",
       "      <td>0</td>\n",
       "      <td>0</td>\n",
       "      <td>0</td>\n",
       "      <td>0</td>\n",
       "      <td>0</td>\n",
       "      <td>0</td>\n",
       "      <td>1</td>\n",
       "      <td>0</td>\n",
       "      <td>0</td>\n",
       "      <td>0</td>\n",
       "    </tr>\n",
       "    <tr>\n",
       "      <th>1</th>\n",
       "      <td>16264944</td>\n",
       "      <td>2019</td>\n",
       "      <td>1</td>\n",
       "      <td>1</td>\n",
       "      <td>0</td>\n",
       "      <td>0</td>\n",
       "      <td>0</td>\n",
       "      <td>0</td>\n",
       "      <td>0</td>\n",
       "      <td>0</td>\n",
       "      <td>...</td>\n",
       "      <td>0</td>\n",
       "      <td>0</td>\n",
       "      <td>0</td>\n",
       "      <td>1</td>\n",
       "      <td>0</td>\n",
       "      <td>0</td>\n",
       "      <td>1</td>\n",
       "      <td>0</td>\n",
       "      <td>0</td>\n",
       "      <td>0</td>\n",
       "    </tr>\n",
       "    <tr>\n",
       "      <th>2</th>\n",
       "      <td>14410754</td>\n",
       "      <td>2017</td>\n",
       "      <td>12</td>\n",
       "      <td>1</td>\n",
       "      <td>0</td>\n",
       "      <td>0</td>\n",
       "      <td>0</td>\n",
       "      <td>0</td>\n",
       "      <td>0</td>\n",
       "      <td>0</td>\n",
       "      <td>...</td>\n",
       "      <td>0</td>\n",
       "      <td>0</td>\n",
       "      <td>0</td>\n",
       "      <td>0</td>\n",
       "      <td>1</td>\n",
       "      <td>1</td>\n",
       "      <td>0</td>\n",
       "      <td>0</td>\n",
       "      <td>0</td>\n",
       "      <td>0</td>\n",
       "    </tr>\n",
       "    <tr>\n",
       "      <th>3</th>\n",
       "      <td>14245998</td>\n",
       "      <td>2014</td>\n",
       "      <td>12</td>\n",
       "      <td>1</td>\n",
       "      <td>0</td>\n",
       "      <td>0</td>\n",
       "      <td>0</td>\n",
       "      <td>0</td>\n",
       "      <td>0</td>\n",
       "      <td>0</td>\n",
       "      <td>...</td>\n",
       "      <td>0</td>\n",
       "      <td>0</td>\n",
       "      <td>0</td>\n",
       "      <td>0</td>\n",
       "      <td>0</td>\n",
       "      <td>1</td>\n",
       "      <td>0</td>\n",
       "      <td>0</td>\n",
       "      <td>0</td>\n",
       "      <td>0</td>\n",
       "    </tr>\n",
       "    <tr>\n",
       "      <th>4</th>\n",
       "      <td>13934592</td>\n",
       "      <td>2019</td>\n",
       "      <td>4</td>\n",
       "      <td>1</td>\n",
       "      <td>0</td>\n",
       "      <td>0</td>\n",
       "      <td>0</td>\n",
       "      <td>0</td>\n",
       "      <td>0</td>\n",
       "      <td>0</td>\n",
       "      <td>...</td>\n",
       "      <td>1</td>\n",
       "      <td>0</td>\n",
       "      <td>0</td>\n",
       "      <td>0</td>\n",
       "      <td>0</td>\n",
       "      <td>1</td>\n",
       "      <td>0</td>\n",
       "      <td>0</td>\n",
       "      <td>0</td>\n",
       "      <td>0</td>\n",
       "    </tr>\n",
       "    <tr>\n",
       "      <th>...</th>\n",
       "      <td>...</td>\n",
       "      <td>...</td>\n",
       "      <td>...</td>\n",
       "      <td>...</td>\n",
       "      <td>...</td>\n",
       "      <td>...</td>\n",
       "      <td>...</td>\n",
       "      <td>...</td>\n",
       "      <td>...</td>\n",
       "      <td>...</td>\n",
       "      <td>...</td>\n",
       "      <td>...</td>\n",
       "      <td>...</td>\n",
       "      <td>...</td>\n",
       "      <td>...</td>\n",
       "      <td>...</td>\n",
       "      <td>...</td>\n",
       "      <td>...</td>\n",
       "      <td>...</td>\n",
       "      <td>...</td>\n",
       "      <td>...</td>\n",
       "    </tr>\n",
       "    <tr>\n",
       "      <th>4284</th>\n",
       "      <td>10036</td>\n",
       "      <td>2006</td>\n",
       "      <td>3</td>\n",
       "      <td>0</td>\n",
       "      <td>0</td>\n",
       "      <td>0</td>\n",
       "      <td>0</td>\n",
       "      <td>0</td>\n",
       "      <td>0</td>\n",
       "      <td>0</td>\n",
       "      <td>...</td>\n",
       "      <td>1</td>\n",
       "      <td>0</td>\n",
       "      <td>0</td>\n",
       "      <td>0</td>\n",
       "      <td>0</td>\n",
       "      <td>0</td>\n",
       "      <td>1</td>\n",
       "      <td>0</td>\n",
       "      <td>0</td>\n",
       "      <td>0</td>\n",
       "    </tr>\n",
       "    <tr>\n",
       "      <th>4285</th>\n",
       "      <td>10031</td>\n",
       "      <td>2015</td>\n",
       "      <td>8</td>\n",
       "      <td>0</td>\n",
       "      <td>0</td>\n",
       "      <td>0</td>\n",
       "      <td>0</td>\n",
       "      <td>0</td>\n",
       "      <td>0</td>\n",
       "      <td>0</td>\n",
       "      <td>...</td>\n",
       "      <td>0</td>\n",
       "      <td>0</td>\n",
       "      <td>0</td>\n",
       "      <td>0</td>\n",
       "      <td>0</td>\n",
       "      <td>1</td>\n",
       "      <td>0</td>\n",
       "      <td>0</td>\n",
       "      <td>0</td>\n",
       "      <td>0</td>\n",
       "    </tr>\n",
       "    <tr>\n",
       "      <th>4286</th>\n",
       "      <td>10023</td>\n",
       "      <td>2011</td>\n",
       "      <td>7</td>\n",
       "      <td>0</td>\n",
       "      <td>0</td>\n",
       "      <td>0</td>\n",
       "      <td>0</td>\n",
       "      <td>0</td>\n",
       "      <td>0</td>\n",
       "      <td>0</td>\n",
       "      <td>...</td>\n",
       "      <td>0</td>\n",
       "      <td>0</td>\n",
       "      <td>0</td>\n",
       "      <td>0</td>\n",
       "      <td>0</td>\n",
       "      <td>0</td>\n",
       "      <td>0</td>\n",
       "      <td>0</td>\n",
       "      <td>0</td>\n",
       "      <td>1</td>\n",
       "    </tr>\n",
       "    <tr>\n",
       "      <th>4287</th>\n",
       "      <td>10021</td>\n",
       "      <td>2019</td>\n",
       "      <td>6</td>\n",
       "      <td>0</td>\n",
       "      <td>0</td>\n",
       "      <td>0</td>\n",
       "      <td>0</td>\n",
       "      <td>0</td>\n",
       "      <td>0</td>\n",
       "      <td>0</td>\n",
       "      <td>...</td>\n",
       "      <td>0</td>\n",
       "      <td>0</td>\n",
       "      <td>0</td>\n",
       "      <td>0</td>\n",
       "      <td>0</td>\n",
       "      <td>0</td>\n",
       "      <td>1</td>\n",
       "      <td>0</td>\n",
       "      <td>0</td>\n",
       "      <td>0</td>\n",
       "    </tr>\n",
       "    <tr>\n",
       "      <th>4288</th>\n",
       "      <td>10018</td>\n",
       "      <td>2006</td>\n",
       "      <td>1</td>\n",
       "      <td>0</td>\n",
       "      <td>0</td>\n",
       "      <td>0</td>\n",
       "      <td>0</td>\n",
       "      <td>0</td>\n",
       "      <td>0</td>\n",
       "      <td>0</td>\n",
       "      <td>...</td>\n",
       "      <td>0</td>\n",
       "      <td>0</td>\n",
       "      <td>0</td>\n",
       "      <td>1</td>\n",
       "      <td>0</td>\n",
       "      <td>0</td>\n",
       "      <td>1</td>\n",
       "      <td>0</td>\n",
       "      <td>0</td>\n",
       "      <td>0</td>\n",
       "    </tr>\n",
       "  </tbody>\n",
       "</table>\n",
       "<p>4289 rows × 75 columns</p>\n",
       "</div>"
      ],
      "text/plain": [
       "           관객수  개봉연도  개봉월  흥행  국가_그리스  국가_기타  국가_남아프리카공화국  국가_네덜란드  국가_노르웨이  \\\n",
       "0     17613682  2014    7   1       0      0            0        0        0   \n",
       "1     16264944  2019    1   1       0      0            0        0        0   \n",
       "2     14410754  2017   12   1       0      0            0        0        0   \n",
       "3     14245998  2014   12   1       0      0            0        0        0   \n",
       "4     13934592  2019    4   1       0      0            0        0        0   \n",
       "...        ...   ...  ...  ..     ...    ...          ...      ...      ...   \n",
       "4284     10036  2006    3   0       0      0            0        0        0   \n",
       "4285     10031  2015    8   0       0      0            0        0        0   \n",
       "4286     10023  2011    7   0       0      0            0        0        0   \n",
       "4287     10021  2019    6   0       0      0            0        0        0   \n",
       "4288     10018  2006    1   0       0      0            0        0        0   \n",
       "\n",
       "      국가_뉴질랜드  ...  장르_액션  장르_어드벤처  장르_전쟁  장르_코미디  장르_판타지  관람가_12세이상  \\\n",
       "0           0  ...      0        0      0       0       0          0   \n",
       "1           0  ...      0        0      0       1       0          0   \n",
       "2           0  ...      0        0      0       0       1          1   \n",
       "3           0  ...      0        0      0       0       0          1   \n",
       "4           0  ...      1        0      0       0       0          1   \n",
       "...       ...  ...    ...      ...    ...     ...     ...        ...   \n",
       "4284        0  ...      1        0      0       0       0          0   \n",
       "4285        0  ...      0        0      0       0       0          1   \n",
       "4286        0  ...      0        0      0       0       0          0   \n",
       "4287        0  ...      0        0      0       0       0          0   \n",
       "4288        0  ...      0        0      0       1       0          0   \n",
       "\n",
       "      관람가_15세이상  관람가_18세이상  관람가_19세이상  관람가_전체  \n",
       "0             1          0          0       0  \n",
       "1             1          0          0       0  \n",
       "2             0          0          0       0  \n",
       "3             0          0          0       0  \n",
       "4             0          0          0       0  \n",
       "...         ...        ...        ...     ...  \n",
       "4284          1          0          0       0  \n",
       "4285          0          0          0       0  \n",
       "4286          0          0          0       1  \n",
       "4287          1          0          0       0  \n",
       "4288          1          0          0       0  \n",
       "\n",
       "[4289 rows x 75 columns]"
      ]
     },
     "execution_count": 846,
     "metadata": {},
     "output_type": "execute_result"
    }
   ],
   "source": [
    "movie_d = pd.get_dummies(movie_df)\n",
    "movie_d"
   ]
  },
  {
   "cell_type": "code",
   "execution_count": 847,
   "metadata": {
    "ExecuteTime": {
     "end_time": "2021-01-29T06:14:18.677401Z",
     "start_time": "2021-01-29T06:14:18.647452Z"
    }
   },
   "outputs": [],
   "source": [
    "y = movie_d['흥행']\n",
    "x = movie_d.drop('흥행',axis=1)"
   ]
  },
  {
   "cell_type": "markdown",
   "metadata": {},
   "source": [
    "## 패키지"
   ]
  },
  {
   "cell_type": "code",
   "execution_count": 882,
   "metadata": {
    "ExecuteTime": {
     "end_time": "2021-01-29T08:32:22.038329Z",
     "start_time": "2021-01-29T08:32:22.020113Z"
    }
   },
   "outputs": [],
   "source": [
    "from sklearn.model_selection import train_test_split\n",
    "from sklearn.linear_model import LinearRegression\n",
    "from sklearn.linear_model import LogisticRegression\n",
    "from sklearn import metrics\n",
    "from xgboost import XGBClassifier\n",
    "from lightgbm import LGBMClassifier\n",
    "from sklearn.neighbors import KNeighborsClassifier\n",
    "from sklearn.preprocessing import StandardScaler\n",
    "from sklearn.tree import DecisionTreeClassifier\n",
    "from sklearn.ensemble import RandomForestClassifier\n",
    "from sklearn.svm import SVC\n",
    "from sklearn.preprocessing import MaxAbsScaler\n",
    "from sklearn.preprocessing import MinMaxScaler\n",
    "from sklearn.preprocessing import RobustScaler"
   ]
  },
  {
   "cell_type": "code",
   "execution_count": 862,
   "metadata": {
    "ExecuteTime": {
     "end_time": "2021-01-29T06:18:00.039370Z",
     "start_time": "2021-01-29T06:18:00.023307Z"
    }
   },
   "outputs": [],
   "source": [
    "x_train,x_test,y_train,y_test = train_test_split(x,y, test_size=0.3,random_state=111)"
   ]
  },
  {
   "cell_type": "markdown",
   "metadata": {},
   "source": [
    "### StandardScaler"
   ]
  },
  {
   "cell_type": "code",
   "execution_count": 863,
   "metadata": {
    "ExecuteTime": {
     "end_time": "2021-01-29T06:18:05.368284Z",
     "start_time": "2021-01-29T06:18:05.309115Z"
    }
   },
   "outputs": [],
   "source": [
    "scaler = StandardScaler()\n",
    "x_train_s = scaler.fit_transform(x_train)\n",
    "x_test_s = scaler.fit_transform(x_test)"
   ]
  },
  {
   "cell_type": "code",
   "execution_count": 864,
   "metadata": {
    "ExecuteTime": {
     "end_time": "2021-01-29T06:18:10.924507Z",
     "start_time": "2021-01-29T06:18:10.910162Z"
    }
   },
   "outputs": [
    {
     "name": "stdout",
     "output_type": "stream",
     "text": [
      "(3002, 74)\n",
      "(3002, 74)\n"
     ]
    }
   ],
   "source": [
    "print(x_train_s.shape)\n",
    "print(x_train.shape)"
   ]
  },
  {
   "cell_type": "markdown",
   "metadata": {},
   "source": [
    "### LinearRegression"
   ]
  },
  {
   "cell_type": "code",
   "execution_count": 865,
   "metadata": {
    "ExecuteTime": {
     "end_time": "2021-01-29T06:18:15.693252Z",
     "start_time": "2021-01-29T06:18:15.609931Z"
    }
   },
   "outputs": [
    {
     "name": "stdout",
     "output_type": "stream",
     "text": [
      "MSE: 0.00927893209488657\n",
      "RMSE: 0.09632721367758215\n",
      "MAE: 0.04685174472748891\n"
     ]
    }
   ],
   "source": [
    "lr = LinearRegression()\n",
    "lr.fit(x_train, y_train)\n",
    "lr.score(x_test,y_test)\n",
    "pred_lr = lr.predict(x_test)\n",
    "print('MSE:',metrics.mean_squared_error(y_test, pred_lr))  #손실함수\n",
    "print('RMSE:',np.sqrt(metrics.mean_squared_error(y_test, pred_lr)))  #평균제곱근오차\n",
    "print('MAE:',metrics.mean_absolute_error(y_test,pred_lr))   #평균절대오차"
   ]
  },
  {
   "cell_type": "markdown",
   "metadata": {},
   "source": [
    "### LogisticRegression"
   ]
  },
  {
   "cell_type": "code",
   "execution_count": 885,
   "metadata": {
    "ExecuteTime": {
     "end_time": "2021-01-29T08:32:53.022971Z",
     "start_time": "2021-01-29T08:32:52.933014Z"
    }
   },
   "outputs": [
    {
     "name": "stdout",
     "output_type": "stream",
     "text": [
      "train정확도: 0.9996668887408394\n",
      "test정확도: 0.9968919968919969\n",
      "              precision    recall  f1-score   support\n",
      "\n",
      "           0       1.00      1.00      1.00      1257\n",
      "           1       0.91      0.97      0.94        30\n",
      "\n",
      "    accuracy                           1.00      1287\n",
      "   macro avg       0.95      0.98      0.97      1287\n",
      "weighted avg       1.00      1.00      1.00      1287\n",
      "\n"
     ]
    }
   ],
   "source": [
    "log = LogisticRegression()\n",
    "log.fit(x_train_s, y_train)\n",
    "pred_log = log.predict(x_test_s)\n",
    "pred_log_train = log.predict(x_train_s)\n",
    "print('train정확도:',metrics.accuracy_score(pred_log_train, y_train))\n",
    "print('test정확도:',metrics.accuracy_score(pred_log, y_test))\n",
    "print(metrics.classification_report(pred_log, y_test))"
   ]
  },
  {
   "cell_type": "markdown",
   "metadata": {
    "ExecuteTime": {
     "end_time": "2021-01-29T04:40:47.386144Z",
     "start_time": "2021-01-29T04:40:47.374178Z"
    }
   },
   "source": [
    "### KneighborsClassifier"
   ]
  },
  {
   "cell_type": "code",
   "execution_count": 867,
   "metadata": {
    "ExecuteTime": {
     "end_time": "2021-01-29T06:18:31.061203Z",
     "start_time": "2021-01-29T06:18:27.179423Z"
    }
   },
   "outputs": [
    {
     "name": "stdout",
     "output_type": "stream",
     "text": [
      "train정확도: 0.9906728847435043\n",
      "test정확도: 0.9891219891219891\n",
      "              precision    recall  f1-score   support\n",
      "\n",
      "           0       1.00      0.99      0.99      1269\n",
      "           1       0.56      1.00      0.72        18\n",
      "\n",
      "    accuracy                           0.99      1287\n",
      "   macro avg       0.78      0.99      0.86      1287\n",
      "weighted avg       0.99      0.99      0.99      1287\n",
      "\n"
     ]
    }
   ],
   "source": [
    "knn = KNeighborsClassifier()\n",
    "knn.fit(x_train_s,y_train)\n",
    "knn_pred = knn.predict(x_test_s)\n",
    "knn_pred_train = knn.predict(x_train_s)\n",
    "print('train정확도:',metrics.accuracy_score(knn_pred_train,y_train))\n",
    "print('test정확도:',metrics.accuracy_score(knn_pred,y_test))\n",
    "print(metrics.classification_report(knn_pred,y_test))"
   ]
  },
  {
   "cell_type": "markdown",
   "metadata": {
    "ExecuteTime": {
     "end_time": "2021-01-29T04:41:02.758941Z",
     "start_time": "2021-01-29T04:41:02.751995Z"
    }
   },
   "source": [
    "### SVC"
   ]
  },
  {
   "cell_type": "code",
   "execution_count": 868,
   "metadata": {
    "ExecuteTime": {
     "end_time": "2021-01-29T06:18:37.354001Z",
     "start_time": "2021-01-29T06:18:36.875144Z"
    }
   },
   "outputs": [
    {
     "name": "stdout",
     "output_type": "stream",
     "text": [
      "train정확도: 0.9936708860759493\n",
      "test정확도: 0.993006993006993\n",
      "              precision    recall  f1-score   support\n",
      "\n",
      "           0       1.00      0.99      1.00      1264\n",
      "           1       0.72      1.00      0.84        23\n",
      "\n",
      "    accuracy                           0.99      1287\n",
      "   macro avg       0.86      1.00      0.92      1287\n",
      "weighted avg       0.99      0.99      0.99      1287\n",
      "\n"
     ]
    }
   ],
   "source": [
    "svc = SVC()\n",
    "svc.fit(x_train_s,y_train)\n",
    "svc_pred = svc.predict(x_test_s)\n",
    "svc_pred_train = svc.predict(x_train_s)\n",
    "print('train정확도:',metrics.accuracy_score(svc_pred_train,y_train))\n",
    "print('test정확도:',metrics.accuracy_score(svc_pred,y_test))\n",
    "print(metrics.classification_report(svc_pred,y_test))"
   ]
  },
  {
   "cell_type": "markdown",
   "metadata": {
    "ExecuteTime": {
     "end_time": "2021-01-29T04:41:50.083718Z",
     "start_time": "2021-01-29T04:41:50.078736Z"
    }
   },
   "source": [
    "### XGBClassifier"
   ]
  },
  {
   "cell_type": "code",
   "execution_count": 869,
   "metadata": {
    "ExecuteTime": {
     "end_time": "2021-01-29T06:18:43.288060Z",
     "start_time": "2021-01-29T06:18:42.769037Z"
    }
   },
   "outputs": [
    {
     "name": "stderr",
     "output_type": "stream",
     "text": [
      "C:\\ProgramData\\Anaconda3\\lib\\site-packages\\xgboost\\sklearn.py:892: UserWarning: The use of label encoder in XGBClassifier is deprecated and will be removed in a future release. To remove this warning, do the following: 1) Pass option use_label_encoder=False when constructing XGBClassifier object; and 2) Encode your labels (y) as integers starting with 0, i.e. 0, 1, 2, ..., [num_class - 1].\n",
      "  warnings.warn(label_encoder_deprecation_msg, UserWarning)\n"
     ]
    },
    {
     "name": "stdout",
     "output_type": "stream",
     "text": [
      "[15:18:42] WARNING: C:/Users/Administrator/workspace/xgboost-win64_release_1.3.0/src/learner.cc:1061: Starting in XGBoost 1.3.0, the default evaluation metric used with the objective 'binary:logistic' was changed from 'error' to 'logloss'. Explicitly set eval_metric if you'd like to restore the old behavior.\n",
      "train정확도: 1.0\n",
      "test정확도: 0.9984459984459985\n",
      "              precision    recall  f1-score   support\n",
      "\n",
      "           0       1.00      1.00      1.00      1253\n",
      "           1       1.00      0.94      0.97        34\n",
      "\n",
      "    accuracy                           1.00      1287\n",
      "   macro avg       1.00      0.97      0.98      1287\n",
      "weighted avg       1.00      1.00      1.00      1287\n",
      "\n"
     ]
    }
   ],
   "source": [
    "xg = XGBClassifier()\n",
    "xg.fit(x_train_s, y_train)\n",
    "pred_xg_train = xg.predict(x_train_s)\n",
    "pred_xg = xg.predict(x_test_s)\n",
    "print('train정확도:',metrics.accuracy_score(pred_xg_train,y_train))\n",
    "print('test정확도:',metrics.accuracy_score(pred_xg,y_test))\n",
    "print(metrics.classification_report(pred_xg,y_test))"
   ]
  },
  {
   "cell_type": "markdown",
   "metadata": {
    "ExecuteTime": {
     "end_time": "2021-01-29T04:42:29.045204Z",
     "start_time": "2021-01-29T04:42:29.040218Z"
    }
   },
   "source": [
    "### LGBMClassifier"
   ]
  },
  {
   "cell_type": "code",
   "execution_count": 870,
   "metadata": {
    "ExecuteTime": {
     "end_time": "2021-01-29T06:18:49.875348Z",
     "start_time": "2021-01-29T06:18:49.598244Z"
    }
   },
   "outputs": [
    {
     "name": "stdout",
     "output_type": "stream",
     "text": [
      "train정확도: 1.0\n",
      "test정확도: 0.9984459984459985\n",
      "              precision    recall  f1-score   support\n",
      "\n",
      "           0       1.00      1.00      1.00      1255\n",
      "           1       0.97      0.97      0.97        32\n",
      "\n",
      "    accuracy                           1.00      1287\n",
      "   macro avg       0.98      0.98      0.98      1287\n",
      "weighted avg       1.00      1.00      1.00      1287\n",
      "\n"
     ]
    }
   ],
   "source": [
    "lgbm = LGBMClassifier()\n",
    "lgbm.fit(x_train_s, y_train)\n",
    "pred_lgbm=lgbm.predict(x_test_s)\n",
    "pred_lgbm_train=lgbm.predict(x_train_s)\n",
    "print('train정확도:',metrics.accuracy_score(pred_lgbm_train,y_train))\n",
    "print('test정확도:',metrics.accuracy_score(pred_lgbm,y_test))\n",
    "print(metrics.classification_report(y_test,pred_lgbm))"
   ]
  },
  {
   "cell_type": "markdown",
   "metadata": {
    "ExecuteTime": {
     "end_time": "2021-01-29T04:43:13.720821Z",
     "start_time": "2021-01-29T04:43:13.709850Z"
    }
   },
   "source": [
    "### DecisionTreeClassifier"
   ]
  },
  {
   "cell_type": "code",
   "execution_count": 871,
   "metadata": {
    "ExecuteTime": {
     "end_time": "2021-01-29T06:18:54.878068Z",
     "start_time": "2021-01-29T06:18:54.816261Z"
    }
   },
   "outputs": [
    {
     "name": "stdout",
     "output_type": "stream",
     "text": [
      "train정확도 1.0\n",
      "test정확도: 0.9984459984459985\n",
      "              precision    recall  f1-score   support\n",
      "\n",
      "           0       1.00      1.00      1.00      1253\n",
      "           1       1.00      0.94      0.97        34\n",
      "\n",
      "    accuracy                           1.00      1287\n",
      "   macro avg       1.00      0.97      0.98      1287\n",
      "weighted avg       1.00      1.00      1.00      1287\n",
      "\n"
     ]
    }
   ],
   "source": [
    "dt = DecisionTreeClassifier()\n",
    "dt.fit(x_train_s,y_train)\n",
    "dt_pred = dt.predict(x_test_s)\n",
    "dt_pred_train = dt.predict(x_train_s)\n",
    "print('train정확도',metrics.accuracy_score(dt_pred_train,y_train))\n",
    "print('test정확도:',metrics.accuracy_score(dt_pred,y_test))\n",
    "print(metrics.classification_report(dt_pred,y_test))"
   ]
  },
  {
   "cell_type": "markdown",
   "metadata": {
    "ExecuteTime": {
     "end_time": "2021-01-29T04:43:41.361809Z",
     "start_time": "2021-01-29T04:43:41.356827Z"
    }
   },
   "source": [
    "### RandomForestClassifier"
   ]
  },
  {
   "cell_type": "code",
   "execution_count": 872,
   "metadata": {
    "ExecuteTime": {
     "end_time": "2021-01-29T06:19:01.136029Z",
     "start_time": "2021-01-29T06:19:00.469359Z"
    }
   },
   "outputs": [
    {
     "name": "stdout",
     "output_type": "stream",
     "text": [
      "train정확도: 1.0\n",
      "test정확도: 0.9961149961149961\n",
      "              precision    recall  f1-score   support\n",
      "\n",
      "           0       1.00      1.00      1.00      1258\n",
      "           1       0.88      0.97      0.92        29\n",
      "\n",
      "    accuracy                           1.00      1287\n",
      "   macro avg       0.94      0.98      0.96      1287\n",
      "weighted avg       1.00      1.00      1.00      1287\n",
      "\n"
     ]
    }
   ],
   "source": [
    "rfc = RandomForestClassifier()\n",
    "rfc.fit(x_train_s,y_train)\n",
    "rfc_pred = rfc.predict(x_test_s)\n",
    "rfc_pred_train = rfc.predict(x_train_s)\n",
    "print('train정확도:',metrics.accuracy_score(rfc_pred_train,y_train))\n",
    "print('test정확도:',metrics.accuracy_score(rfc_pred,y_test))\n",
    "print(metrics.classification_report(rfc_pred,y_test))"
   ]
  },
  {
   "cell_type": "markdown",
   "metadata": {},
   "source": [
    "### xgboost"
   ]
  },
  {
   "cell_type": "code",
   "execution_count": 873,
   "metadata": {
    "ExecuteTime": {
     "end_time": "2021-01-29T06:19:06.983112Z",
     "start_time": "2021-01-29T06:19:06.502040Z"
    }
   },
   "outputs": [
    {
     "name": "stdout",
     "output_type": "stream",
     "text": [
      "[15:19:06] WARNING: C:/Users/Administrator/workspace/xgboost-win64_release_1.3.0/src/learner.cc:1061: Starting in XGBoost 1.3.0, the default evaluation metric used with the objective 'binary:logistic' was changed from 'error' to 'logloss'. Explicitly set eval_metric if you'd like to restore the old behavior.\n"
     ]
    },
    {
     "name": "stderr",
     "output_type": "stream",
     "text": [
      "C:\\ProgramData\\Anaconda3\\lib\\site-packages\\xgboost\\sklearn.py:892: UserWarning: The use of label encoder in XGBClassifier is deprecated and will be removed in a future release. To remove this warning, do the following: 1) Pass option use_label_encoder=False when constructing XGBClassifier object; and 2) Encode your labels (y) as integers starting with 0, i.e. 0, 1, 2, ..., [num_class - 1].\n",
      "  warnings.warn(label_encoder_deprecation_msg, UserWarning)\n"
     ]
    },
    {
     "name": "stdout",
     "output_type": "stream",
     "text": [
      "train정확도: 1.0\n",
      "test정확도: 0.9984459984459985\n",
      "              precision    recall  f1-score   support\n",
      "\n",
      "           0       1.00      1.00      1.00      1253\n",
      "           1       1.00      0.94      0.97        34\n",
      "\n",
      "    accuracy                           1.00      1287\n",
      "   macro avg       1.00      0.97      0.98      1287\n",
      "weighted avg       1.00      1.00      1.00      1287\n",
      "\n"
     ]
    }
   ],
   "source": [
    "xg = XGBClassifier()\n",
    "xg.fit(x_train_s, y_train)\n",
    "pred_xg_train = xg.predict(x_train_s)\n",
    "pred_xg = xg.predict(x_test_s)\n",
    "print('train정확도:',metrics.accuracy_score(pred_xg_train,y_train))\n",
    "print('test정확도:',metrics.accuracy_score(pred_xg,y_test))\n",
    "print(metrics.classification_report(pred_xg,y_test))"
   ]
  },
  {
   "cell_type": "code",
   "execution_count": null,
   "metadata": {},
   "outputs": [],
   "source": []
  }
 ],
 "metadata": {
  "kernelspec": {
   "display_name": "Python 3",
   "language": "python",
   "name": "python3"
  },
  "language_info": {
   "codemirror_mode": {
    "name": "ipython",
    "version": 3
   },
   "file_extension": ".py",
   "mimetype": "text/x-python",
   "name": "python",
   "nbconvert_exporter": "python",
   "pygments_lexer": "ipython3",
   "version": "3.8.5"
  },
  "toc": {
   "base_numbering": 1,
   "nav_menu": {},
   "number_sections": true,
   "sideBar": true,
   "skip_h1_title": false,
   "title_cell": "Table of Contents",
   "title_sidebar": "Contents",
   "toc_cell": false,
   "toc_position": {},
   "toc_section_display": true,
   "toc_window_display": true
  },
  "varInspector": {
   "cols": {
    "lenName": 16,
    "lenType": 16,
    "lenVar": 40
   },
   "kernels_config": {
    "python": {
     "delete_cmd_postfix": "",
     "delete_cmd_prefix": "del ",
     "library": "var_list.py",
     "varRefreshCmd": "print(var_dic_list())"
    },
    "r": {
     "delete_cmd_postfix": ") ",
     "delete_cmd_prefix": "rm(",
     "library": "var_list.r",
     "varRefreshCmd": "cat(var_dic_list()) "
    }
   },
   "types_to_exclude": [
    "module",
    "function",
    "builtin_function_or_method",
    "instance",
    "_Feature"
   ],
   "window_display": false
  }
 },
 "nbformat": 4,
 "nbformat_minor": 4
}
