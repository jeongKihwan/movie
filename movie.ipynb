{
 "cells": [
  {
   "cell_type": "markdown",
   "metadata": {},
   "source": [
    "# 영화 관객수는 어떤것에 영향을 받나"
   ]
  },
  {
   "cell_type": "markdown",
   "metadata": {},
   "source": [
    "## 패키지"
   ]
  },
  {
   "cell_type": "code",
   "execution_count": 1,
   "metadata": {
    "ExecuteTime": {
     "end_time": "2021-04-15T14:38:40.767149Z",
     "start_time": "2021-04-15T14:38:36.711300Z"
    }
   },
   "outputs": [],
   "source": [
    "import pandas as pd\n",
    "import numpy as np\n",
    "import matplotlib.pyplot as plt\n",
    "import seaborn as sns"
   ]
  },
  {
   "cell_type": "code",
   "execution_count": 2,
   "metadata": {
    "ExecuteTime": {
     "end_time": "2021-04-15T14:38:40.795070Z",
     "start_time": "2021-04-15T14:38:40.772134Z"
    }
   },
   "outputs": [],
   "source": [
    "import matplotlib as mpl\n",
    "import matplotlib.font_manager as fm\n",
    "mpl.rcParams['axes.unicode_minus']= False\n",
    "path = 'C:/Windows/Fonts/malgun.ttf'\n",
    "font_name = fm.FontProperties(fname = path, size = 50).get_name()\n",
    "plt.rc('font', family=font_name)"
   ]
  },
  {
   "cell_type": "markdown",
   "metadata": {},
   "source": [
    "## 전처리"
   ]
  },
  {
   "cell_type": "code",
   "execution_count": 3,
   "metadata": {
    "ExecuteTime": {
     "end_time": "2021-04-15T14:38:47.498360Z",
     "start_time": "2021-04-15T14:38:40.801056Z"
    }
   },
   "outputs": [],
   "source": [
    "df = pd.read_excel('data/영화개봉.xlsx')"
   ]
  },
  {
   "cell_type": "code",
   "execution_count": 4,
   "metadata": {
    "ExecuteTime": {
     "end_time": "2021-04-15T14:38:47.573165Z",
     "start_time": "2021-04-15T14:38:47.501364Z"
    }
   },
   "outputs": [
    {
     "data": {
      "text/html": [
       "<div>\n",
       "<style scoped>\n",
       "    .dataframe tbody tr th:only-of-type {\n",
       "        vertical-align: middle;\n",
       "    }\n",
       "\n",
       "    .dataframe tbody tr th {\n",
       "        vertical-align: top;\n",
       "    }\n",
       "\n",
       "    .dataframe thead th {\n",
       "        text-align: right;\n",
       "    }\n",
       "</style>\n",
       "<table border=\"1\" class=\"dataframe\">\n",
       "  <thead>\n",
       "    <tr style=\"text-align: right;\">\n",
       "      <th></th>\n",
       "      <th>순번</th>\n",
       "      <th>영화명</th>\n",
       "      <th>감독</th>\n",
       "      <th>제작사</th>\n",
       "      <th>수입사</th>\n",
       "      <th>배급사</th>\n",
       "      <th>개봉일</th>\n",
       "      <th>영화유형</th>\n",
       "      <th>영화형태</th>\n",
       "      <th>국적</th>\n",
       "      <th>전국</th>\n",
       "      <th>전국.1</th>\n",
       "      <th>전국.2</th>\n",
       "      <th>서울</th>\n",
       "      <th>서울.1</th>\n",
       "      <th>장르</th>\n",
       "      <th>등급</th>\n",
       "      <th>영화구분</th>\n",
       "    </tr>\n",
       "  </thead>\n",
       "  <tbody>\n",
       "    <tr>\n",
       "      <th>0</th>\n",
       "      <td>NaN</td>\n",
       "      <td>NaN</td>\n",
       "      <td>NaN</td>\n",
       "      <td>NaN</td>\n",
       "      <td>NaN</td>\n",
       "      <td>NaN</td>\n",
       "      <td>NaT</td>\n",
       "      <td>NaN</td>\n",
       "      <td>NaN</td>\n",
       "      <td>NaN</td>\n",
       "      <td>스크린수</td>\n",
       "      <td>매출액</td>\n",
       "      <td>관객수</td>\n",
       "      <td>매출액</td>\n",
       "      <td>관객수</td>\n",
       "      <td>NaN</td>\n",
       "      <td>NaN</td>\n",
       "      <td>NaN</td>\n",
       "    </tr>\n",
       "    <tr>\n",
       "      <th>1</th>\n",
       "      <td>1.0</td>\n",
       "      <td>명량</td>\n",
       "      <td>김한민</td>\n",
       "      <td>(주)빅스톤픽쳐스</td>\n",
       "      <td>NaN</td>\n",
       "      <td>씨제이이앤엠(주)</td>\n",
       "      <td>2014-07-30</td>\n",
       "      <td>개봉영화</td>\n",
       "      <td>장편</td>\n",
       "      <td>한국</td>\n",
       "      <td>1587</td>\n",
       "      <td>135748398910</td>\n",
       "      <td>17613682</td>\n",
       "      <td>33121225810</td>\n",
       "      <td>4163666</td>\n",
       "      <td>사극</td>\n",
       "      <td>15세이상관람가</td>\n",
       "      <td>일반영화</td>\n",
       "    </tr>\n",
       "    <tr>\n",
       "      <th>2</th>\n",
       "      <td>2.0</td>\n",
       "      <td>극한직업</td>\n",
       "      <td>이병헌</td>\n",
       "      <td>(주)어바웃필름,영화사 해그림 주식회사,씨제이이앤엠(주)</td>\n",
       "      <td>NaN</td>\n",
       "      <td>씨제이이앤엠(주)</td>\n",
       "      <td>2019-01-23</td>\n",
       "      <td>개봉영화</td>\n",
       "      <td>장편</td>\n",
       "      <td>한국</td>\n",
       "      <td>1978</td>\n",
       "      <td>139647979516</td>\n",
       "      <td>16264944</td>\n",
       "      <td>31858660536</td>\n",
       "      <td>3638287</td>\n",
       "      <td>코미디</td>\n",
       "      <td>15세이상관람가</td>\n",
       "      <td>일반영화</td>\n",
       "    </tr>\n",
       "  </tbody>\n",
       "</table>\n",
       "</div>"
      ],
      "text/plain": [
       "    순번   영화명   감독                              제작사  수입사        배급사        개봉일  \\\n",
       "0  NaN   NaN  NaN                              NaN  NaN        NaN        NaT   \n",
       "1  1.0    명량  김한민                        (주)빅스톤픽쳐스  NaN  씨제이이앤엠(주) 2014-07-30   \n",
       "2  2.0  극한직업  이병헌  (주)어바웃필름,영화사 해그림 주식회사,씨제이이앤엠(주)  NaN  씨제이이앤엠(주) 2019-01-23   \n",
       "\n",
       "   영화유형 영화형태   국적    전국          전국.1      전국.2           서울     서울.1   장르  \\\n",
       "0   NaN  NaN  NaN  스크린수           매출액       관객수          매출액      관객수  NaN   \n",
       "1  개봉영화   장편   한국  1587  135748398910  17613682  33121225810  4163666   사극   \n",
       "2  개봉영화   장편   한국  1978  139647979516  16264944  31858660536  3638287  코미디   \n",
       "\n",
       "         등급  영화구분  \n",
       "0       NaN   NaN  \n",
       "1  15세이상관람가  일반영화  \n",
       "2  15세이상관람가  일반영화  "
      ]
     },
     "execution_count": 4,
     "metadata": {},
     "output_type": "execute_result"
    }
   ],
   "source": [
    "df.head(3)"
   ]
  },
  {
   "cell_type": "code",
   "execution_count": 5,
   "metadata": {
    "ExecuteTime": {
     "end_time": "2021-04-15T14:38:47.644975Z",
     "start_time": "2021-04-15T14:38:47.578153Z"
    }
   },
   "outputs": [
    {
     "name": "stdout",
     "output_type": "stream",
     "text": [
      "<class 'pandas.core.frame.DataFrame'>\n",
      "RangeIndex: 16786 entries, 0 to 16785\n",
      "Data columns (total 18 columns):\n",
      " #   Column  Non-Null Count  Dtype         \n",
      "---  ------  --------------  -----         \n",
      " 0   순번      16785 non-null  float64       \n",
      " 1   영화명     16785 non-null  object        \n",
      " 2   감독      16100 non-null  object        \n",
      " 3   제작사     5896 non-null   object        \n",
      " 4   수입사     11506 non-null  object        \n",
      " 5   배급사     16226 non-null  object        \n",
      " 6   개봉일     16775 non-null  datetime64[ns]\n",
      " 7   영화유형    16785 non-null  object        \n",
      " 8   영화형태    16784 non-null  object        \n",
      " 9   국적      16784 non-null  object        \n",
      " 10  전국      16786 non-null  object        \n",
      " 11  전국.1    16664 non-null  object        \n",
      " 12  전국.2    16786 non-null  object        \n",
      " 13  서울      16658 non-null  object        \n",
      " 14  서울.1    16786 non-null  object        \n",
      " 15  장르      16705 non-null  object        \n",
      " 16  등급      16769 non-null  object        \n",
      " 17  영화구분    16785 non-null  object        \n",
      "dtypes: datetime64[ns](1), float64(1), object(16)\n",
      "memory usage: 2.3+ MB\n"
     ]
    }
   ],
   "source": [
    "df.info()"
   ]
  },
  {
   "cell_type": "code",
   "execution_count": 6,
   "metadata": {
    "ExecuteTime": {
     "end_time": "2021-04-15T14:38:52.784229Z",
     "start_time": "2021-04-15T14:38:47.647965Z"
    }
   },
   "outputs": [],
   "source": [
    "df1 = pd.read_excel('data/영화정보.xlsx')"
   ]
  },
  {
   "cell_type": "code",
   "execution_count": 7,
   "metadata": {
    "ExecuteTime": {
     "end_time": "2021-04-15T14:38:52.812150Z",
     "start_time": "2021-04-15T14:38:52.789215Z"
    }
   },
   "outputs": [
    {
     "data": {
      "text/html": [
       "<div>\n",
       "<style scoped>\n",
       "    .dataframe tbody tr th:only-of-type {\n",
       "        vertical-align: middle;\n",
       "    }\n",
       "\n",
       "    .dataframe tbody tr th {\n",
       "        vertical-align: top;\n",
       "    }\n",
       "\n",
       "    .dataframe thead th {\n",
       "        text-align: right;\n",
       "    }\n",
       "</style>\n",
       "<table border=\"1\" class=\"dataframe\">\n",
       "  <thead>\n",
       "    <tr style=\"text-align: right;\">\n",
       "      <th></th>\n",
       "      <th>영화명</th>\n",
       "      <th>영화명(영문)</th>\n",
       "      <th>제작연도</th>\n",
       "      <th>제작국가</th>\n",
       "      <th>유형</th>\n",
       "      <th>장르</th>\n",
       "      <th>제작상태</th>\n",
       "      <th>감독</th>\n",
       "      <th>제작사</th>\n",
       "    </tr>\n",
       "  </thead>\n",
       "  <tbody>\n",
       "    <tr>\n",
       "      <th>0</th>\n",
       "      <td>엽기적인 그녀</td>\n",
       "      <td>My Sassy Girl</td>\n",
       "      <td>2001.0</td>\n",
       "      <td>한국</td>\n",
       "      <td>장편</td>\n",
       "      <td>코미디</td>\n",
       "      <td>개봉</td>\n",
       "      <td>곽재용</td>\n",
       "      <td>(주)신씨네</td>\n",
       "    </tr>\n",
       "    <tr>\n",
       "      <th>1</th>\n",
       "      <td>이웃사촌</td>\n",
       "      <td>Best Friend</td>\n",
       "      <td>2020.0</td>\n",
       "      <td>한국</td>\n",
       "      <td>장편</td>\n",
       "      <td>드라마,코미디</td>\n",
       "      <td>개봉</td>\n",
       "      <td>이환경</td>\n",
       "      <td>(주)시네마허브,환타지엔터테인먼트</td>\n",
       "    </tr>\n",
       "    <tr>\n",
       "      <th>2</th>\n",
       "      <td>다시 만난 날들</td>\n",
       "      <td>Da Capo</td>\n",
       "      <td>2019.0</td>\n",
       "      <td>한국</td>\n",
       "      <td>장편</td>\n",
       "      <td>뮤지컬,드라마,멜로/로맨스</td>\n",
       "      <td>개봉</td>\n",
       "      <td>심찬양</td>\n",
       "      <td>(주)푸른나무픽쳐스</td>\n",
       "    </tr>\n",
       "  </tbody>\n",
       "</table>\n",
       "</div>"
      ],
      "text/plain": [
       "        영화명        영화명(영문)    제작연도 제작국가  유형              장르 제작상태   감독  \\\n",
       "0   엽기적인 그녀  My Sassy Girl  2001.0   한국  장편             코미디   개봉  곽재용   \n",
       "1      이웃사촌    Best Friend  2020.0   한국  장편         드라마,코미디   개봉  이환경   \n",
       "2  다시 만난 날들        Da Capo  2019.0   한국  장편  뮤지컬,드라마,멜로/로맨스   개봉  심찬양   \n",
       "\n",
       "                  제작사  \n",
       "0              (주)신씨네  \n",
       "1  (주)시네마허브,환타지엔터테인먼트  \n",
       "2          (주)푸른나무픽쳐스  "
      ]
     },
     "execution_count": 7,
     "metadata": {},
     "output_type": "execute_result"
    }
   ],
   "source": [
    "df1.head(3)"
   ]
  },
  {
   "cell_type": "code",
   "execution_count": 8,
   "metadata": {
    "ExecuteTime": {
     "end_time": "2021-04-15T14:38:52.872986Z",
     "start_time": "2021-04-15T14:38:52.818133Z"
    }
   },
   "outputs": [
    {
     "name": "stdout",
     "output_type": "stream",
     "text": [
      "<class 'pandas.core.frame.DataFrame'>\n",
      "RangeIndex: 18072 entries, 0 to 18071\n",
      "Data columns (total 9 columns):\n",
      " #   Column   Non-Null Count  Dtype  \n",
      "---  ------   --------------  -----  \n",
      " 0   영화명      18072 non-null  object \n",
      " 1   영화명(영문)  15325 non-null  object \n",
      " 2   제작연도     17494 non-null  float64\n",
      " 3   제작국가     18039 non-null  object \n",
      " 4   유형       18069 non-null  object \n",
      " 5   장르       17879 non-null  object \n",
      " 6   제작상태     17927 non-null  object \n",
      " 7   감독       16427 non-null  object \n",
      " 8   제작사      5966 non-null   object \n",
      "dtypes: float64(1), object(8)\n",
      "memory usage: 1.2+ MB\n"
     ]
    }
   ],
   "source": [
    "df1.info()"
   ]
  },
  {
   "cell_type": "code",
   "execution_count": 9,
   "metadata": {
    "ExecuteTime": {
     "end_time": "2021-04-15T14:38:53.040540Z",
     "start_time": "2021-04-15T14:38:52.878969Z"
    }
   },
   "outputs": [],
   "source": [
    "movie = pd.merge(df,df1,how='outer',on='영화명')\n",
    "movie.drop(['순번','감독_y','제작사_y','배급사','영화유형','영화형태','전국.1','서울','서울.1','장르_x','영화구분','제작연도','유형','제작상태','영화명(영문)','제작국가','수입사'],axis=1,inplace=True)"
   ]
  },
  {
   "cell_type": "code",
   "execution_count": 10,
   "metadata": {
    "ExecuteTime": {
     "end_time": "2021-04-15T14:38:53.078437Z",
     "start_time": "2021-04-15T14:38:53.044533Z"
    }
   },
   "outputs": [
    {
     "data": {
      "text/html": [
       "<div>\n",
       "<style scoped>\n",
       "    .dataframe tbody tr th:only-of-type {\n",
       "        vertical-align: middle;\n",
       "    }\n",
       "\n",
       "    .dataframe tbody tr th {\n",
       "        vertical-align: top;\n",
       "    }\n",
       "\n",
       "    .dataframe thead th {\n",
       "        text-align: right;\n",
       "    }\n",
       "</style>\n",
       "<table border=\"1\" class=\"dataframe\">\n",
       "  <thead>\n",
       "    <tr style=\"text-align: right;\">\n",
       "      <th></th>\n",
       "      <th>영화명</th>\n",
       "      <th>감독_x</th>\n",
       "      <th>제작사_x</th>\n",
       "      <th>개봉일</th>\n",
       "      <th>국적</th>\n",
       "      <th>전국</th>\n",
       "      <th>전국.2</th>\n",
       "      <th>등급</th>\n",
       "      <th>장르_y</th>\n",
       "    </tr>\n",
       "  </thead>\n",
       "  <tbody>\n",
       "    <tr>\n",
       "      <th>0</th>\n",
       "      <td>NaN</td>\n",
       "      <td>NaN</td>\n",
       "      <td>NaN</td>\n",
       "      <td>NaT</td>\n",
       "      <td>NaN</td>\n",
       "      <td>스크린수</td>\n",
       "      <td>관객수</td>\n",
       "      <td>NaN</td>\n",
       "      <td>NaN</td>\n",
       "    </tr>\n",
       "    <tr>\n",
       "      <th>1</th>\n",
       "      <td>명량</td>\n",
       "      <td>김한민</td>\n",
       "      <td>(주)빅스톤픽쳐스</td>\n",
       "      <td>2014-07-30</td>\n",
       "      <td>한국</td>\n",
       "      <td>1587</td>\n",
       "      <td>17613682</td>\n",
       "      <td>15세이상관람가</td>\n",
       "      <td>사극,액션</td>\n",
       "    </tr>\n",
       "    <tr>\n",
       "      <th>2</th>\n",
       "      <td>극한직업</td>\n",
       "      <td>이병헌</td>\n",
       "      <td>(주)어바웃필름,영화사 해그림 주식회사,씨제이이앤엠(주)</td>\n",
       "      <td>2019-01-23</td>\n",
       "      <td>한국</td>\n",
       "      <td>1978</td>\n",
       "      <td>16264944</td>\n",
       "      <td>15세이상관람가</td>\n",
       "      <td>코미디</td>\n",
       "    </tr>\n",
       "    <tr>\n",
       "      <th>3</th>\n",
       "      <td>신과함께-죄와 벌</td>\n",
       "      <td>김용화</td>\n",
       "      <td>리얼라이즈픽쳐스(주),(주)덱스터스튜디오</td>\n",
       "      <td>2017-12-20</td>\n",
       "      <td>한국</td>\n",
       "      <td>1912</td>\n",
       "      <td>14410754</td>\n",
       "      <td>12세이상관람가</td>\n",
       "      <td>판타지,드라마</td>\n",
       "    </tr>\n",
       "    <tr>\n",
       "      <th>4</th>\n",
       "      <td>국제시장</td>\n",
       "      <td>윤제균</td>\n",
       "      <td>(주)제이케이필름,씨제이이앤엠(주)</td>\n",
       "      <td>2014-12-17</td>\n",
       "      <td>한국</td>\n",
       "      <td>966</td>\n",
       "      <td>14245998</td>\n",
       "      <td>12세이상관람가</td>\n",
       "      <td>드라마</td>\n",
       "    </tr>\n",
       "    <tr>\n",
       "      <th>5</th>\n",
       "      <td>어벤져스: 엔드게임</td>\n",
       "      <td>안소니 루소,조 루소</td>\n",
       "      <td>NaN</td>\n",
       "      <td>2019-04-24</td>\n",
       "      <td>미국</td>\n",
       "      <td>2835</td>\n",
       "      <td>13934592</td>\n",
       "      <td>12세이상관람가</td>\n",
       "      <td>액션,SF</td>\n",
       "    </tr>\n",
       "    <tr>\n",
       "      <th>6</th>\n",
       "      <td>겨울왕국 2</td>\n",
       "      <td>크리스 벅,제니퍼 리</td>\n",
       "      <td>NaN</td>\n",
       "      <td>2019-11-21</td>\n",
       "      <td>미국</td>\n",
       "      <td>2648</td>\n",
       "      <td>13747792</td>\n",
       "      <td>전체관람가</td>\n",
       "      <td>애니메이션</td>\n",
       "    </tr>\n",
       "    <tr>\n",
       "      <th>7</th>\n",
       "      <td>아바타</td>\n",
       "      <td>제임스 카메론</td>\n",
       "      <td>이십세기폭스필름코퍼레이션</td>\n",
       "      <td>2009-12-17</td>\n",
       "      <td>미국</td>\n",
       "      <td>912</td>\n",
       "      <td>13624328</td>\n",
       "      <td>12세이상관람가</td>\n",
       "      <td>SF,액션,어드벤처</td>\n",
       "    </tr>\n",
       "    <tr>\n",
       "      <th>8</th>\n",
       "      <td>베테랑</td>\n",
       "      <td>류승완</td>\n",
       "      <td>(주)외유내강,(주)필름케이</td>\n",
       "      <td>2015-08-05</td>\n",
       "      <td>한국</td>\n",
       "      <td>1064</td>\n",
       "      <td>13395400</td>\n",
       "      <td>15세이상관람가</td>\n",
       "      <td>액션,드라마</td>\n",
       "    </tr>\n",
       "    <tr>\n",
       "      <th>9</th>\n",
       "      <td>괴물</td>\n",
       "      <td>봉준호</td>\n",
       "      <td>영화사청어람(주)</td>\n",
       "      <td>2006-07-27</td>\n",
       "      <td>한국</td>\n",
       "      <td>0</td>\n",
       "      <td>13019740</td>\n",
       "      <td>12세관람가</td>\n",
       "      <td>SF,가족,드라마</td>\n",
       "    </tr>\n",
       "  </tbody>\n",
       "</table>\n",
       "</div>"
      ],
      "text/plain": [
       "          영화명         감독_x                            제작사_x        개봉일   국적  \\\n",
       "0         NaN          NaN                              NaN        NaT  NaN   \n",
       "1          명량          김한민                        (주)빅스톤픽쳐스 2014-07-30   한국   \n",
       "2        극한직업          이병헌  (주)어바웃필름,영화사 해그림 주식회사,씨제이이앤엠(주) 2019-01-23   한국   \n",
       "3   신과함께-죄와 벌          김용화           리얼라이즈픽쳐스(주),(주)덱스터스튜디오 2017-12-20   한국   \n",
       "4        국제시장          윤제균              (주)제이케이필름,씨제이이앤엠(주) 2014-12-17   한국   \n",
       "5  어벤져스: 엔드게임  안소니 루소,조 루소                              NaN 2019-04-24   미국   \n",
       "6      겨울왕국 2  크리스 벅,제니퍼 리                              NaN 2019-11-21   미국   \n",
       "7         아바타      제임스 카메론                    이십세기폭스필름코퍼레이션 2009-12-17   미국   \n",
       "8         베테랑          류승완                  (주)외유내강,(주)필름케이 2015-08-05   한국   \n",
       "9          괴물          봉준호                        영화사청어람(주) 2006-07-27   한국   \n",
       "\n",
       "     전국      전국.2        등급        장르_y  \n",
       "0  스크린수       관객수       NaN         NaN  \n",
       "1  1587  17613682  15세이상관람가       사극,액션  \n",
       "2  1978  16264944  15세이상관람가         코미디  \n",
       "3  1912  14410754  12세이상관람가     판타지,드라마  \n",
       "4   966  14245998  12세이상관람가         드라마  \n",
       "5  2835  13934592  12세이상관람가       액션,SF  \n",
       "6  2648  13747792     전체관람가       애니메이션  \n",
       "7   912  13624328  12세이상관람가  SF,액션,어드벤처  \n",
       "8  1064  13395400  15세이상관람가      액션,드라마  \n",
       "9     0  13019740    12세관람가   SF,가족,드라마  "
      ]
     },
     "execution_count": 10,
     "metadata": {},
     "output_type": "execute_result"
    }
   ],
   "source": [
    "movie.head(10)"
   ]
  },
  {
   "cell_type": "code",
   "execution_count": 11,
   "metadata": {
    "ExecuteTime": {
     "end_time": "2021-04-15T14:38:53.113345Z",
     "start_time": "2021-04-15T14:38:53.082427Z"
    }
   },
   "outputs": [],
   "source": [
    "movie.rename(columns={'감독_x':'감독','제작사_x':'제작사','국적':'국가','전국':'스크린수','전국.2':'관객수','장르_y':'장르'},inplace=True)"
   ]
  },
  {
   "cell_type": "code",
   "execution_count": 12,
   "metadata": {
    "ExecuteTime": {
     "end_time": "2021-04-15T14:38:53.152239Z",
     "start_time": "2021-04-15T14:38:53.117332Z"
    }
   },
   "outputs": [],
   "source": [
    "movie.drop('제작사',axis=1,inplace=True)"
   ]
  },
  {
   "cell_type": "code",
   "execution_count": 13,
   "metadata": {
    "ExecuteTime": {
     "end_time": "2021-04-15T14:38:53.219061Z",
     "start_time": "2021-04-15T14:38:53.160232Z"
    }
   },
   "outputs": [
    {
     "data": {
      "text/html": [
       "<div>\n",
       "<style scoped>\n",
       "    .dataframe tbody tr th:only-of-type {\n",
       "        vertical-align: middle;\n",
       "    }\n",
       "\n",
       "    .dataframe tbody tr th {\n",
       "        vertical-align: top;\n",
       "    }\n",
       "\n",
       "    .dataframe thead th {\n",
       "        text-align: right;\n",
       "    }\n",
       "</style>\n",
       "<table border=\"1\" class=\"dataframe\">\n",
       "  <thead>\n",
       "    <tr style=\"text-align: right;\">\n",
       "      <th></th>\n",
       "      <th>영화명</th>\n",
       "      <th>감독</th>\n",
       "      <th>개봉일</th>\n",
       "      <th>국가</th>\n",
       "      <th>스크린수</th>\n",
       "      <th>관객수</th>\n",
       "      <th>등급</th>\n",
       "      <th>장르</th>\n",
       "    </tr>\n",
       "  </thead>\n",
       "  <tbody>\n",
       "    <tr>\n",
       "      <th>0</th>\n",
       "      <td>NaN</td>\n",
       "      <td>NaN</td>\n",
       "      <td>NaT</td>\n",
       "      <td>NaN</td>\n",
       "      <td>스크린수</td>\n",
       "      <td>관객수</td>\n",
       "      <td>NaN</td>\n",
       "      <td>NaN</td>\n",
       "    </tr>\n",
       "    <tr>\n",
       "      <th>1</th>\n",
       "      <td>명량</td>\n",
       "      <td>김한민</td>\n",
       "      <td>2014-07-30</td>\n",
       "      <td>한국</td>\n",
       "      <td>1587</td>\n",
       "      <td>17613682</td>\n",
       "      <td>15세이상관람가</td>\n",
       "      <td>사극,액션</td>\n",
       "    </tr>\n",
       "    <tr>\n",
       "      <th>2</th>\n",
       "      <td>극한직업</td>\n",
       "      <td>이병헌</td>\n",
       "      <td>2019-01-23</td>\n",
       "      <td>한국</td>\n",
       "      <td>1978</td>\n",
       "      <td>16264944</td>\n",
       "      <td>15세이상관람가</td>\n",
       "      <td>코미디</td>\n",
       "    </tr>\n",
       "    <tr>\n",
       "      <th>3</th>\n",
       "      <td>신과함께-죄와 벌</td>\n",
       "      <td>김용화</td>\n",
       "      <td>2017-12-20</td>\n",
       "      <td>한국</td>\n",
       "      <td>1912</td>\n",
       "      <td>14410754</td>\n",
       "      <td>12세이상관람가</td>\n",
       "      <td>판타지,드라마</td>\n",
       "    </tr>\n",
       "    <tr>\n",
       "      <th>4</th>\n",
       "      <td>국제시장</td>\n",
       "      <td>윤제균</td>\n",
       "      <td>2014-12-17</td>\n",
       "      <td>한국</td>\n",
       "      <td>966</td>\n",
       "      <td>14245998</td>\n",
       "      <td>12세이상관람가</td>\n",
       "      <td>드라마</td>\n",
       "    </tr>\n",
       "    <tr>\n",
       "      <th>...</th>\n",
       "      <td>...</td>\n",
       "      <td>...</td>\n",
       "      <td>...</td>\n",
       "      <td>...</td>\n",
       "      <td>...</td>\n",
       "      <td>...</td>\n",
       "      <td>...</td>\n",
       "      <td>...</td>\n",
       "    </tr>\n",
       "    <tr>\n",
       "      <th>19296</th>\n",
       "      <td>2005년 미장센 단편영화제</td>\n",
       "      <td>NaN</td>\n",
       "      <td>NaT</td>\n",
       "      <td>NaN</td>\n",
       "      <td>NaN</td>\n",
       "      <td>NaN</td>\n",
       "      <td>NaN</td>\n",
       "      <td>NaN</td>\n",
       "    </tr>\n",
       "    <tr>\n",
       "      <th>19297</th>\n",
       "      <td>서울독립영화제2005</td>\n",
       "      <td>NaN</td>\n",
       "      <td>NaT</td>\n",
       "      <td>NaN</td>\n",
       "      <td>NaN</td>\n",
       "      <td>NaN</td>\n",
       "      <td>NaN</td>\n",
       "      <td>NaN</td>\n",
       "    </tr>\n",
       "    <tr>\n",
       "      <th>19298</th>\n",
       "      <td>제6회 서울유럽영화제[2005.10.26-10.30]</td>\n",
       "      <td>NaN</td>\n",
       "      <td>NaT</td>\n",
       "      <td>NaN</td>\n",
       "      <td>NaN</td>\n",
       "      <td>NaN</td>\n",
       "      <td>NaN</td>\n",
       "      <td>NaN</td>\n",
       "    </tr>\n",
       "    <tr>\n",
       "      <th>19299</th>\n",
       "      <td>CJ 아시아인디영화제[2005.11.3-11.8]</td>\n",
       "      <td>NaN</td>\n",
       "      <td>NaT</td>\n",
       "      <td>NaN</td>\n",
       "      <td>NaN</td>\n",
       "      <td>NaN</td>\n",
       "      <td>NaN</td>\n",
       "      <td>NaN</td>\n",
       "    </tr>\n",
       "    <tr>\n",
       "      <th>19300</th>\n",
       "      <td>제2회 서울환경영화제[2005.9.8-9.14]</td>\n",
       "      <td>NaN</td>\n",
       "      <td>NaT</td>\n",
       "      <td>NaN</td>\n",
       "      <td>NaN</td>\n",
       "      <td>NaN</td>\n",
       "      <td>NaN</td>\n",
       "      <td>NaN</td>\n",
       "    </tr>\n",
       "  </tbody>\n",
       "</table>\n",
       "<p>19301 rows × 8 columns</p>\n",
       "</div>"
      ],
      "text/plain": [
       "                                 영화명   감독        개봉일   국가  스크린수       관객수  \\\n",
       "0                                NaN  NaN        NaT  NaN  스크린수       관객수   \n",
       "1                                 명량  김한민 2014-07-30   한국  1587  17613682   \n",
       "2                               극한직업  이병헌 2019-01-23   한국  1978  16264944   \n",
       "3                          신과함께-죄와 벌  김용화 2017-12-20   한국  1912  14410754   \n",
       "4                               국제시장  윤제균 2014-12-17   한국   966  14245998   \n",
       "...                              ...  ...        ...  ...   ...       ...   \n",
       "19296               2005년 미장센 단편영화제   NaN        NaT  NaN   NaN       NaN   \n",
       "19297                   서울독립영화제2005   NaN        NaT  NaN   NaN       NaN   \n",
       "19298  제6회 서울유럽영화제[2005.10.26-10.30]  NaN        NaT  NaN   NaN       NaN   \n",
       "19299    CJ 아시아인디영화제[2005.11.3-11.8]  NaN        NaT  NaN   NaN       NaN   \n",
       "19300     제2회 서울환경영화제[2005.9.8-9.14]  NaN        NaT  NaN   NaN       NaN   \n",
       "\n",
       "             등급       장르  \n",
       "0           NaN      NaN  \n",
       "1      15세이상관람가    사극,액션  \n",
       "2      15세이상관람가      코미디  \n",
       "3      12세이상관람가  판타지,드라마  \n",
       "4      12세이상관람가      드라마  \n",
       "...         ...      ...  \n",
       "19296       NaN      NaN  \n",
       "19297       NaN      NaN  \n",
       "19298       NaN      NaN  \n",
       "19299       NaN      NaN  \n",
       "19300       NaN      NaN  \n",
       "\n",
       "[19301 rows x 8 columns]"
      ]
     },
     "execution_count": 13,
     "metadata": {},
     "output_type": "execute_result"
    }
   ],
   "source": [
    "movie"
   ]
  },
  {
   "cell_type": "code",
   "execution_count": 14,
   "metadata": {
    "ExecuteTime": {
     "end_time": "2021-04-15T14:38:53.245989Z",
     "start_time": "2021-04-15T14:38:53.225046Z"
    }
   },
   "outputs": [],
   "source": [
    "movie.drop(0,inplace=True)"
   ]
  },
  {
   "cell_type": "code",
   "execution_count": 15,
   "metadata": {
    "ExecuteTime": {
     "end_time": "2021-04-15T14:38:53.286880Z",
     "start_time": "2021-04-15T14:38:53.248981Z"
    }
   },
   "outputs": [
    {
     "data": {
      "text/plain": [
       "영화명        0\n",
       "감독      2330\n",
       "개봉일     1564\n",
       "국가      1555\n",
       "스크린수    1554\n",
       "관객수     1554\n",
       "등급      1578\n",
       "장르       475\n",
       "dtype: int64"
      ]
     },
     "execution_count": 15,
     "metadata": {},
     "output_type": "execute_result"
    }
   ],
   "source": [
    "movie.isnull().sum()"
   ]
  },
  {
   "cell_type": "code",
   "execution_count": 16,
   "metadata": {
    "ExecuteTime": {
     "end_time": "2021-04-15T14:38:53.374644Z",
     "start_time": "2021-04-15T14:38:53.288874Z"
    }
   },
   "outputs": [],
   "source": [
    "movie = movie.dropna()"
   ]
  },
  {
   "cell_type": "code",
   "execution_count": 17,
   "metadata": {
    "ExecuteTime": {
     "end_time": "2021-04-15T14:38:53.408554Z",
     "start_time": "2021-04-15T14:38:53.378635Z"
    }
   },
   "outputs": [
    {
     "data": {
      "text/html": [
       "<div>\n",
       "<style scoped>\n",
       "    .dataframe tbody tr th:only-of-type {\n",
       "        vertical-align: middle;\n",
       "    }\n",
       "\n",
       "    .dataframe tbody tr th {\n",
       "        vertical-align: top;\n",
       "    }\n",
       "\n",
       "    .dataframe thead th {\n",
       "        text-align: right;\n",
       "    }\n",
       "</style>\n",
       "<table border=\"1\" class=\"dataframe\">\n",
       "  <thead>\n",
       "    <tr style=\"text-align: right;\">\n",
       "      <th></th>\n",
       "      <th>영화명</th>\n",
       "      <th>감독</th>\n",
       "      <th>개봉일</th>\n",
       "      <th>국가</th>\n",
       "      <th>스크린수</th>\n",
       "      <th>관객수</th>\n",
       "      <th>등급</th>\n",
       "      <th>장르</th>\n",
       "    </tr>\n",
       "  </thead>\n",
       "  <tbody>\n",
       "    <tr>\n",
       "      <th>1</th>\n",
       "      <td>명량</td>\n",
       "      <td>김한민</td>\n",
       "      <td>2014-07-30</td>\n",
       "      <td>한국</td>\n",
       "      <td>1587</td>\n",
       "      <td>17613682</td>\n",
       "      <td>15세이상관람가</td>\n",
       "      <td>사극,액션</td>\n",
       "    </tr>\n",
       "    <tr>\n",
       "      <th>2</th>\n",
       "      <td>극한직업</td>\n",
       "      <td>이병헌</td>\n",
       "      <td>2019-01-23</td>\n",
       "      <td>한국</td>\n",
       "      <td>1978</td>\n",
       "      <td>16264944</td>\n",
       "      <td>15세이상관람가</td>\n",
       "      <td>코미디</td>\n",
       "    </tr>\n",
       "    <tr>\n",
       "      <th>3</th>\n",
       "      <td>신과함께-죄와 벌</td>\n",
       "      <td>김용화</td>\n",
       "      <td>2017-12-20</td>\n",
       "      <td>한국</td>\n",
       "      <td>1912</td>\n",
       "      <td>14410754</td>\n",
       "      <td>12세이상관람가</td>\n",
       "      <td>판타지,드라마</td>\n",
       "    </tr>\n",
       "    <tr>\n",
       "      <th>4</th>\n",
       "      <td>국제시장</td>\n",
       "      <td>윤제균</td>\n",
       "      <td>2014-12-17</td>\n",
       "      <td>한국</td>\n",
       "      <td>966</td>\n",
       "      <td>14245998</td>\n",
       "      <td>12세이상관람가</td>\n",
       "      <td>드라마</td>\n",
       "    </tr>\n",
       "    <tr>\n",
       "      <th>5</th>\n",
       "      <td>어벤져스: 엔드게임</td>\n",
       "      <td>안소니 루소,조 루소</td>\n",
       "      <td>2019-04-24</td>\n",
       "      <td>미국</td>\n",
       "      <td>2835</td>\n",
       "      <td>13934592</td>\n",
       "      <td>12세이상관람가</td>\n",
       "      <td>액션,SF</td>\n",
       "    </tr>\n",
       "  </tbody>\n",
       "</table>\n",
       "</div>"
      ],
      "text/plain": [
       "          영화명           감독        개봉일  국가  스크린수       관객수        등급       장르\n",
       "1          명량          김한민 2014-07-30  한국  1587  17613682  15세이상관람가    사극,액션\n",
       "2        극한직업          이병헌 2019-01-23  한국  1978  16264944  15세이상관람가      코미디\n",
       "3   신과함께-죄와 벌          김용화 2017-12-20  한국  1912  14410754  12세이상관람가  판타지,드라마\n",
       "4        국제시장          윤제균 2014-12-17  한국   966  14245998  12세이상관람가      드라마\n",
       "5  어벤져스: 엔드게임  안소니 루소,조 루소 2019-04-24  미국  2835  13934592  12세이상관람가    액션,SF"
      ]
     },
     "execution_count": 17,
     "metadata": {},
     "output_type": "execute_result"
    }
   ],
   "source": [
    "movie.head()"
   ]
  },
  {
   "cell_type": "code",
   "execution_count": 18,
   "metadata": {
    "ExecuteTime": {
     "end_time": "2021-04-15T14:38:53.513274Z",
     "start_time": "2021-04-15T14:38:53.412544Z"
    }
   },
   "outputs": [
    {
     "name": "stdout",
     "output_type": "stream",
     "text": [
      "<class 'pandas.core.frame.DataFrame'>\n",
      "Int64Index: 16637 entries, 1 to 17746\n",
      "Data columns (total 8 columns):\n",
      " #   Column  Non-Null Count  Dtype         \n",
      "---  ------  --------------  -----         \n",
      " 0   영화명     16637 non-null  object        \n",
      " 1   감독      16637 non-null  object        \n",
      " 2   개봉일     16637 non-null  datetime64[ns]\n",
      " 3   국가      16637 non-null  object        \n",
      " 4   스크린수    16637 non-null  object        \n",
      " 5   관객수     16637 non-null  object        \n",
      " 6   등급      16637 non-null  object        \n",
      " 7   장르      16637 non-null  object        \n",
      "dtypes: datetime64[ns](1), object(7)\n",
      "memory usage: 1.1+ MB\n"
     ]
    }
   ],
   "source": [
    "movie.info()"
   ]
  },
  {
   "cell_type": "code",
   "execution_count": 19,
   "metadata": {
    "ExecuteTime": {
     "end_time": "2021-04-15T14:38:53.724708Z",
     "start_time": "2021-04-15T14:38:53.518261Z"
    }
   },
   "outputs": [],
   "source": [
    "movie = movie.astype({'스크린수':'int','관객수':'int'})"
   ]
  },
  {
   "cell_type": "code",
   "execution_count": 20,
   "metadata": {
    "ExecuteTime": {
     "end_time": "2021-04-15T14:38:53.817459Z",
     "start_time": "2021-04-15T14:38:53.728699Z"
    }
   },
   "outputs": [],
   "source": [
    "movie.rename(columns={'등급':'관람가'},inplace=True)"
   ]
  },
  {
   "cell_type": "code",
   "execution_count": 21,
   "metadata": {
    "ExecuteTime": {
     "end_time": "2021-04-15T14:38:54.130622Z",
     "start_time": "2021-04-15T14:38:53.820452Z"
    }
   },
   "outputs": [
    {
     "data": {
      "text/html": [
       "<div>\n",
       "<style scoped>\n",
       "    .dataframe tbody tr th:only-of-type {\n",
       "        vertical-align: middle;\n",
       "    }\n",
       "\n",
       "    .dataframe tbody tr th {\n",
       "        vertical-align: top;\n",
       "    }\n",
       "\n",
       "    .dataframe thead th {\n",
       "        text-align: right;\n",
       "    }\n",
       "</style>\n",
       "<table border=\"1\" class=\"dataframe\">\n",
       "  <thead>\n",
       "    <tr style=\"text-align: right;\">\n",
       "      <th></th>\n",
       "      <th>영화명</th>\n",
       "      <th>감독</th>\n",
       "      <th>개봉일</th>\n",
       "      <th>국가</th>\n",
       "      <th>스크린수</th>\n",
       "      <th>관객수</th>\n",
       "      <th>관람가</th>\n",
       "      <th>장르</th>\n",
       "    </tr>\n",
       "  </thead>\n",
       "  <tbody>\n",
       "    <tr>\n",
       "      <th>1</th>\n",
       "      <td>명량</td>\n",
       "      <td>김한민</td>\n",
       "      <td>2014-07-30</td>\n",
       "      <td>한국</td>\n",
       "      <td>1587</td>\n",
       "      <td>17613682</td>\n",
       "      <td>15세이상관람가</td>\n",
       "      <td>사극,액션</td>\n",
       "    </tr>\n",
       "    <tr>\n",
       "      <th>2</th>\n",
       "      <td>극한직업</td>\n",
       "      <td>이병헌</td>\n",
       "      <td>2019-01-23</td>\n",
       "      <td>한국</td>\n",
       "      <td>1978</td>\n",
       "      <td>16264944</td>\n",
       "      <td>15세이상관람가</td>\n",
       "      <td>코미디</td>\n",
       "    </tr>\n",
       "    <tr>\n",
       "      <th>3</th>\n",
       "      <td>신과함께-죄와 벌</td>\n",
       "      <td>김용화</td>\n",
       "      <td>2017-12-20</td>\n",
       "      <td>한국</td>\n",
       "      <td>1912</td>\n",
       "      <td>14410754</td>\n",
       "      <td>12세이상관람가</td>\n",
       "      <td>판타지,드라마</td>\n",
       "    </tr>\n",
       "  </tbody>\n",
       "</table>\n",
       "</div>"
      ],
      "text/plain": [
       "         영화명   감독        개봉일  국가  스크린수       관객수       관람가       장르\n",
       "1         명량  김한민 2014-07-30  한국  1587  17613682  15세이상관람가    사극,액션\n",
       "2       극한직업  이병헌 2019-01-23  한국  1978  16264944  15세이상관람가      코미디\n",
       "3  신과함께-죄와 벌  김용화 2017-12-20  한국  1912  14410754  12세이상관람가  판타지,드라마"
      ]
     },
     "execution_count": 21,
     "metadata": {},
     "output_type": "execute_result"
    }
   ],
   "source": [
    "movie.head(3)"
   ]
  },
  {
   "cell_type": "code",
   "execution_count": 22,
   "metadata": {
    "ExecuteTime": {
     "end_time": "2021-04-15T14:38:54.203428Z",
     "start_time": "2021-04-15T14:38:54.144584Z"
    }
   },
   "outputs": [
    {
     "data": {
      "text/plain": [
       "array(['15세이상관람가', '12세이상관람가', '전체관람가', '12세관람가', '15세관람가', '18세관람가',\n",
       "       '청소년관람불가', '12세이상관람가,12세관람가', '15세관람가,15세이상관람가',\n",
       "       '청소년관람불가,15세이상관람가', '18세 미만인 자는 관람할 수 없는 등급', '18세관람가,15세이상관람가',\n",
       "       '18세관람가,청소년관람불가', '12세이상관람가,전체관람가', '12세이상관람가,15세이상관람가',\n",
       "       '15세이상관람가,전체관람가', '제한상영가', '15세관람가,12세이상관람가',\n",
       "       '15세 미만인 자는 관람할 수 없는 등급', '모든 관람객이 관람할 수 있는 등급',\n",
       "       '12세 미만인 자는 관람할 수 없는 등급'], dtype=object)"
      ]
     },
     "execution_count": 22,
     "metadata": {},
     "output_type": "execute_result"
    }
   ],
   "source": [
    "movie.관람가.unique()"
   ]
  },
  {
   "cell_type": "code",
   "execution_count": 23,
   "metadata": {
    "ExecuteTime": {
     "end_time": "2021-04-15T14:38:54.275236Z",
     "start_time": "2021-04-15T14:38:54.212404Z"
    }
   },
   "outputs": [],
   "source": [
    "movie.관람가 = movie.관람가.replace({'12세 미만인 자는 관람할 수 없는 등급':'12세이상관람가','모든 관람객이 관람할 수 있는 등급':'전체관람가','18세 미만인 자는 관람할 수 없는 등급':'18세이상관람가'})\n",
    "movie.관람가 = movie.관람가.replace({'청소년관람불가':'19세이상관람가','12세이상관람가,12세관람가':'12세이상관람가','15세관람가,15세이상관람가':'15세이상관람가'})\n",
    "movie.관람가 = movie.관람가.replace({'15세관람가':'15세이상관람가','18세관람가,청소년관람불가':'18세이상관람가','18세관람가':'18세이상관람가','12세이상관람가,전체관람가':'전체관람가','청소년관람불가,15세이상관람가':'15세이상관람가'})\n",
    "movie.관람가 = movie.관람가.apply(lambda x:x.split('관')[0])"
   ]
  },
  {
   "cell_type": "code",
   "execution_count": 24,
   "metadata": {
    "ExecuteTime": {
     "end_time": "2021-04-15T14:38:54.318119Z",
     "start_time": "2021-04-15T14:38:54.279227Z"
    }
   },
   "outputs": [
    {
     "data": {
      "text/html": [
       "<div>\n",
       "<style scoped>\n",
       "    .dataframe tbody tr th:only-of-type {\n",
       "        vertical-align: middle;\n",
       "    }\n",
       "\n",
       "    .dataframe tbody tr th {\n",
       "        vertical-align: top;\n",
       "    }\n",
       "\n",
       "    .dataframe thead th {\n",
       "        text-align: right;\n",
       "    }\n",
       "</style>\n",
       "<table border=\"1\" class=\"dataframe\">\n",
       "  <thead>\n",
       "    <tr style=\"text-align: right;\">\n",
       "      <th></th>\n",
       "      <th>영화명</th>\n",
       "      <th>감독</th>\n",
       "      <th>개봉일</th>\n",
       "      <th>국가</th>\n",
       "      <th>스크린수</th>\n",
       "      <th>관객수</th>\n",
       "      <th>관람가</th>\n",
       "      <th>장르</th>\n",
       "    </tr>\n",
       "  </thead>\n",
       "  <tbody>\n",
       "    <tr>\n",
       "      <th>8384</th>\n",
       "      <td>허스</td>\n",
       "      <td>김정중</td>\n",
       "      <td>2007-08-02</td>\n",
       "      <td>한국</td>\n",
       "      <td>0</td>\n",
       "      <td>597</td>\n",
       "      <td>제한상영가</td>\n",
       "      <td>드라마,멜로/로맨스</td>\n",
       "    </tr>\n",
       "  </tbody>\n",
       "</table>\n",
       "</div>"
      ],
      "text/plain": [
       "     영화명   감독        개봉일  국가  스크린수  관객수    관람가          장르\n",
       "8384  허스  김정중 2007-08-02  한국     0  597  제한상영가  드라마,멜로/로맨스"
      ]
     },
     "execution_count": 24,
     "metadata": {},
     "output_type": "execute_result"
    }
   ],
   "source": [
    "movie[movie.관람가 == '제한상영가']"
   ]
  },
  {
   "cell_type": "code",
   "execution_count": 25,
   "metadata": {
    "ExecuteTime": {
     "end_time": "2021-04-15T14:38:54.361009Z",
     "start_time": "2021-04-15T14:38:54.327096Z"
    }
   },
   "outputs": [],
   "source": [
    "movie.drop(8384,axis=0,inplace=True)"
   ]
  },
  {
   "cell_type": "code",
   "execution_count": 26,
   "metadata": {
    "ExecuteTime": {
     "end_time": "2021-04-15T14:38:54.384944Z",
     "start_time": "2021-04-15T14:38:54.363999Z"
    }
   },
   "outputs": [],
   "source": [
    "movie.관람가 = movie.관람가.apply(lambda x:x.split('관')[0])"
   ]
  },
  {
   "cell_type": "code",
   "execution_count": 27,
   "metadata": {
    "ExecuteTime": {
     "end_time": "2021-04-15T14:38:54.416856Z",
     "start_time": "2021-04-15T14:38:54.390926Z"
    }
   },
   "outputs": [
    {
     "data": {
      "text/html": [
       "<div>\n",
       "<style scoped>\n",
       "    .dataframe tbody tr th:only-of-type {\n",
       "        vertical-align: middle;\n",
       "    }\n",
       "\n",
       "    .dataframe tbody tr th {\n",
       "        vertical-align: top;\n",
       "    }\n",
       "\n",
       "    .dataframe thead th {\n",
       "        text-align: right;\n",
       "    }\n",
       "</style>\n",
       "<table border=\"1\" class=\"dataframe\">\n",
       "  <thead>\n",
       "    <tr style=\"text-align: right;\">\n",
       "      <th></th>\n",
       "      <th>영화명</th>\n",
       "      <th>감독</th>\n",
       "      <th>개봉일</th>\n",
       "      <th>국가</th>\n",
       "      <th>스크린수</th>\n",
       "      <th>관객수</th>\n",
       "      <th>관람가</th>\n",
       "      <th>장르</th>\n",
       "    </tr>\n",
       "  </thead>\n",
       "  <tbody>\n",
       "    <tr>\n",
       "      <th>1</th>\n",
       "      <td>명량</td>\n",
       "      <td>김한민</td>\n",
       "      <td>2014-07-30</td>\n",
       "      <td>한국</td>\n",
       "      <td>1587</td>\n",
       "      <td>17613682</td>\n",
       "      <td>15세이상</td>\n",
       "      <td>사극,액션</td>\n",
       "    </tr>\n",
       "    <tr>\n",
       "      <th>2</th>\n",
       "      <td>극한직업</td>\n",
       "      <td>이병헌</td>\n",
       "      <td>2019-01-23</td>\n",
       "      <td>한국</td>\n",
       "      <td>1978</td>\n",
       "      <td>16264944</td>\n",
       "      <td>15세이상</td>\n",
       "      <td>코미디</td>\n",
       "    </tr>\n",
       "    <tr>\n",
       "      <th>3</th>\n",
       "      <td>신과함께-죄와 벌</td>\n",
       "      <td>김용화</td>\n",
       "      <td>2017-12-20</td>\n",
       "      <td>한국</td>\n",
       "      <td>1912</td>\n",
       "      <td>14410754</td>\n",
       "      <td>12세이상</td>\n",
       "      <td>판타지,드라마</td>\n",
       "    </tr>\n",
       "  </tbody>\n",
       "</table>\n",
       "</div>"
      ],
      "text/plain": [
       "         영화명   감독        개봉일  국가  스크린수       관객수    관람가       장르\n",
       "1         명량  김한민 2014-07-30  한국  1587  17613682  15세이상    사극,액션\n",
       "2       극한직업  이병헌 2019-01-23  한국  1978  16264944  15세이상      코미디\n",
       "3  신과함께-죄와 벌  김용화 2017-12-20  한국  1912  14410754  12세이상  판타지,드라마"
      ]
     },
     "execution_count": 27,
     "metadata": {},
     "output_type": "execute_result"
    }
   ],
   "source": [
    "movie.head(3)"
   ]
  },
  {
   "cell_type": "code",
   "execution_count": 28,
   "metadata": {
    "ExecuteTime": {
     "end_time": "2021-04-15T14:38:54.454756Z",
     "start_time": "2021-04-15T14:38:54.420847Z"
    }
   },
   "outputs": [],
   "source": [
    "movie.장르 = movie.장르.apply(lambda x:x.split(',')[0])"
   ]
  },
  {
   "cell_type": "code",
   "execution_count": 29,
   "metadata": {
    "ExecuteTime": {
     "end_time": "2021-04-15T14:38:54.483678Z",
     "start_time": "2021-04-15T14:38:54.460749Z"
    }
   },
   "outputs": [],
   "source": [
    "movie['개봉연도'] = movie.개봉일.dt.year\n",
    "movie['개봉달'] = movie.개봉일.dt.month"
   ]
  },
  {
   "cell_type": "code",
   "execution_count": 30,
   "metadata": {
    "ExecuteTime": {
     "end_time": "2021-04-15T14:38:54.492654Z",
     "start_time": "2021-04-15T14:38:54.486670Z"
    }
   },
   "outputs": [],
   "source": [
    "# movie.loc[(movie['관객수'] >= 10000000),'등급'] = '1'\n",
    "# movie.loc[(movie['관객수'] <= 10000000) & (movie['관객수'] >= 5000000),'등급'] = '2'\n",
    "# movie.loc[(movie['관객수'] <= 5000000) & (movie['관객수'] >= 1000000),'등급'] = '3'\n",
    "# movie.loc[(movie['관객수'] <= 1000000) & (movie['관객수'] >= 100000),'등급'] = '4'\n",
    "# movie.loc[(movie['관객수'] <= 100000) & (movie['관객수'] >= 1),'등급'] = '5'"
   ]
  },
  {
   "cell_type": "code",
   "execution_count": 31,
   "metadata": {
    "ExecuteTime": {
     "end_time": "2021-04-15T14:38:54.513596Z",
     "start_time": "2021-04-15T14:38:54.495646Z"
    }
   },
   "outputs": [],
   "source": [
    "movie = movie[movie.관객수 >= 1000]"
   ]
  },
  {
   "cell_type": "code",
   "execution_count": 32,
   "metadata": {
    "ExecuteTime": {
     "end_time": "2021-04-15T14:38:54.565460Z",
     "start_time": "2021-04-15T14:38:54.517589Z"
    }
   },
   "outputs": [
    {
     "data": {
      "text/html": [
       "<div>\n",
       "<style scoped>\n",
       "    .dataframe tbody tr th:only-of-type {\n",
       "        vertical-align: middle;\n",
       "    }\n",
       "\n",
       "    .dataframe tbody tr th {\n",
       "        vertical-align: top;\n",
       "    }\n",
       "\n",
       "    .dataframe thead th {\n",
       "        text-align: right;\n",
       "    }\n",
       "</style>\n",
       "<table border=\"1\" class=\"dataframe\">\n",
       "  <thead>\n",
       "    <tr style=\"text-align: right;\">\n",
       "      <th></th>\n",
       "      <th>영화명</th>\n",
       "      <th>감독</th>\n",
       "      <th>개봉일</th>\n",
       "      <th>국가</th>\n",
       "      <th>스크린수</th>\n",
       "      <th>관객수</th>\n",
       "      <th>관람가</th>\n",
       "      <th>장르</th>\n",
       "      <th>개봉연도</th>\n",
       "      <th>개봉달</th>\n",
       "    </tr>\n",
       "  </thead>\n",
       "  <tbody>\n",
       "    <tr>\n",
       "      <th>31</th>\n",
       "      <td>엑시트</td>\n",
       "      <td>이상근</td>\n",
       "      <td>2019-07-31</td>\n",
       "      <td>한국</td>\n",
       "      <td>1660</td>\n",
       "      <td>9426051</td>\n",
       "      <td>12세이상</td>\n",
       "      <td>스릴러</td>\n",
       "      <td>2019</td>\n",
       "      <td>7</td>\n",
       "    </tr>\n",
       "    <tr>\n",
       "      <th>63</th>\n",
       "      <td>럭키</td>\n",
       "      <td>이계벽</td>\n",
       "      <td>2016-10-13</td>\n",
       "      <td>한국</td>\n",
       "      <td>1158</td>\n",
       "      <td>6965706</td>\n",
       "      <td>15세이상</td>\n",
       "      <td>가족</td>\n",
       "      <td>2016</td>\n",
       "      <td>10</td>\n",
       "    </tr>\n",
       "    <tr>\n",
       "      <th>69</th>\n",
       "      <td>범죄도시</td>\n",
       "      <td>강윤성</td>\n",
       "      <td>2017-10-03</td>\n",
       "      <td>한국</td>\n",
       "      <td>1315</td>\n",
       "      <td>6851297</td>\n",
       "      <td>19세이상</td>\n",
       "      <td>액션</td>\n",
       "      <td>2017</td>\n",
       "      <td>10</td>\n",
       "    </tr>\n",
       "    <tr>\n",
       "      <th>95</th>\n",
       "      <td>숨바꼭질</td>\n",
       "      <td>허정</td>\n",
       "      <td>2013-08-14</td>\n",
       "      <td>한국</td>\n",
       "      <td>779</td>\n",
       "      <td>5602543</td>\n",
       "      <td>15세이상</td>\n",
       "      <td>드라마</td>\n",
       "      <td>2013</td>\n",
       "      <td>8</td>\n",
       "    </tr>\n",
       "    <tr>\n",
       "      <th>97</th>\n",
       "      <td>숨바꼭질</td>\n",
       "      <td>존 폴슨</td>\n",
       "      <td>2005-02-25</td>\n",
       "      <td>미국</td>\n",
       "      <td>0</td>\n",
       "      <td>779200</td>\n",
       "      <td>15세이상</td>\n",
       "      <td>드라마</td>\n",
       "      <td>2005</td>\n",
       "      <td>2</td>\n",
       "    </tr>\n",
       "    <tr>\n",
       "      <th>...</th>\n",
       "      <td>...</td>\n",
       "      <td>...</td>\n",
       "      <td>...</td>\n",
       "      <td>...</td>\n",
       "      <td>...</td>\n",
       "      <td>...</td>\n",
       "      <td>...</td>\n",
       "      <td>...</td>\n",
       "      <td>...</td>\n",
       "      <td>...</td>\n",
       "    </tr>\n",
       "    <tr>\n",
       "      <th>7952</th>\n",
       "      <td>짐작보다 따뜻하게</td>\n",
       "      <td>이상민</td>\n",
       "      <td>2016-05-19</td>\n",
       "      <td>한국</td>\n",
       "      <td>5</td>\n",
       "      <td>1011</td>\n",
       "      <td>12세이상</td>\n",
       "      <td>드라마</td>\n",
       "      <td>2016</td>\n",
       "      <td>5</td>\n",
       "    </tr>\n",
       "    <tr>\n",
       "      <th>7954</th>\n",
       "      <td>트랜스아메리카</td>\n",
       "      <td>던컨 터커</td>\n",
       "      <td>2006-11-16</td>\n",
       "      <td>미국</td>\n",
       "      <td>0</td>\n",
       "      <td>1010</td>\n",
       "      <td>18세이상</td>\n",
       "      <td>드라마</td>\n",
       "      <td>2006</td>\n",
       "      <td>11</td>\n",
       "    </tr>\n",
       "    <tr>\n",
       "      <th>7958</th>\n",
       "      <td>코인라커</td>\n",
       "      <td>김태경</td>\n",
       "      <td>2015-05-28</td>\n",
       "      <td>한국</td>\n",
       "      <td>13</td>\n",
       "      <td>1008</td>\n",
       "      <td>19세이상</td>\n",
       "      <td>드라마</td>\n",
       "      <td>2015</td>\n",
       "      <td>5</td>\n",
       "    </tr>\n",
       "    <tr>\n",
       "      <th>7969</th>\n",
       "      <td>콜드 인 줄라이</td>\n",
       "      <td>짐 미클</td>\n",
       "      <td>2014-11-27</td>\n",
       "      <td>미국</td>\n",
       "      <td>20</td>\n",
       "      <td>1000</td>\n",
       "      <td>19세이상</td>\n",
       "      <td>드라마</td>\n",
       "      <td>2014</td>\n",
       "      <td>11</td>\n",
       "    </tr>\n",
       "    <tr>\n",
       "      <th>7970</th>\n",
       "      <td>할로우맨 2</td>\n",
       "      <td>클라우디오 파</td>\n",
       "      <td>2006-11-17</td>\n",
       "      <td>미국</td>\n",
       "      <td>0</td>\n",
       "      <td>1000</td>\n",
       "      <td>18세이상</td>\n",
       "      <td>액션</td>\n",
       "      <td>2006</td>\n",
       "      <td>11</td>\n",
       "    </tr>\n",
       "  </tbody>\n",
       "</table>\n",
       "<p>958 rows × 10 columns</p>\n",
       "</div>"
      ],
      "text/plain": [
       "            영화명       감독        개봉일  국가  스크린수      관객수    관람가   장르  개봉연도  개봉달\n",
       "31          엑시트      이상근 2019-07-31  한국  1660  9426051  12세이상  스릴러  2019    7\n",
       "63           럭키      이계벽 2016-10-13  한국  1158  6965706  15세이상   가족  2016   10\n",
       "69         범죄도시      강윤성 2017-10-03  한국  1315  6851297  19세이상   액션  2017   10\n",
       "95         숨바꼭질       허정 2013-08-14  한국   779  5602543  15세이상  드라마  2013    8\n",
       "97         숨바꼭질     존 폴슨 2005-02-25  미국     0   779200  15세이상  드라마  2005    2\n",
       "...         ...      ...        ...  ..   ...      ...    ...  ...   ...  ...\n",
       "7952  짐작보다 따뜻하게      이상민 2016-05-19  한국     5     1011  12세이상  드라마  2016    5\n",
       "7954    트랜스아메리카    던컨 터커 2006-11-16  미국     0     1010  18세이상  드라마  2006   11\n",
       "7958       코인라커      김태경 2015-05-28  한국    13     1008  19세이상  드라마  2015    5\n",
       "7969   콜드 인 줄라이     짐 미클 2014-11-27  미국    20     1000  19세이상  드라마  2014   11\n",
       "7970     할로우맨 2  클라우디오 파 2006-11-17  미국     0     1000  18세이상   액션  2006   11\n",
       "\n",
       "[958 rows x 10 columns]"
      ]
     },
     "execution_count": 32,
     "metadata": {},
     "output_type": "execute_result"
    }
   ],
   "source": [
    "movie[movie.관객수.duplicated()]"
   ]
  },
  {
   "cell_type": "code",
   "execution_count": 33,
   "metadata": {
    "ExecuteTime": {
     "end_time": "2021-04-15T14:38:54.602360Z",
     "start_time": "2021-04-15T14:38:54.568453Z"
    }
   },
   "outputs": [],
   "source": [
    "movie.drop_duplicates(subset='관객수',keep='first',inplace=True)"
   ]
  },
  {
   "cell_type": "code",
   "execution_count": 34,
   "metadata": {
    "ExecuteTime": {
     "end_time": "2021-04-15T14:38:54.628294Z",
     "start_time": "2021-04-15T14:38:54.609345Z"
    }
   },
   "outputs": [],
   "source": [
    "movie.drop_duplicates(subset='영화명',keep='first',inplace=True)"
   ]
  },
  {
   "cell_type": "code",
   "execution_count": 35,
   "metadata": {
    "ExecuteTime": {
     "end_time": "2021-04-15T14:38:54.654222Z",
     "start_time": "2021-04-15T14:38:54.632280Z"
    }
   },
   "outputs": [
    {
     "data": {
      "text/html": [
       "<div>\n",
       "<style scoped>\n",
       "    .dataframe tbody tr th:only-of-type {\n",
       "        vertical-align: middle;\n",
       "    }\n",
       "\n",
       "    .dataframe tbody tr th {\n",
       "        vertical-align: top;\n",
       "    }\n",
       "\n",
       "    .dataframe thead th {\n",
       "        text-align: right;\n",
       "    }\n",
       "</style>\n",
       "<table border=\"1\" class=\"dataframe\">\n",
       "  <thead>\n",
       "    <tr style=\"text-align: right;\">\n",
       "      <th></th>\n",
       "      <th>영화명</th>\n",
       "      <th>감독</th>\n",
       "      <th>개봉일</th>\n",
       "      <th>국가</th>\n",
       "      <th>스크린수</th>\n",
       "      <th>관객수</th>\n",
       "      <th>관람가</th>\n",
       "      <th>장르</th>\n",
       "      <th>개봉연도</th>\n",
       "      <th>개봉달</th>\n",
       "    </tr>\n",
       "  </thead>\n",
       "  <tbody>\n",
       "  </tbody>\n",
       "</table>\n",
       "</div>"
      ],
      "text/plain": [
       "Empty DataFrame\n",
       "Columns: [영화명, 감독, 개봉일, 국가, 스크린수, 관객수, 관람가, 장르, 개봉연도, 개봉달]\n",
       "Index: []"
      ]
     },
     "execution_count": 35,
     "metadata": {},
     "output_type": "execute_result"
    }
   ],
   "source": [
    "movie[movie.영화명.duplicated()]"
   ]
  },
  {
   "cell_type": "code",
   "execution_count": 36,
   "metadata": {
    "ExecuteTime": {
     "end_time": "2021-04-15T14:38:54.679156Z",
     "start_time": "2021-04-15T14:38:54.658212Z"
    }
   },
   "outputs": [
    {
     "name": "stdout",
     "output_type": "stream",
     "text": [
      "<class 'pandas.core.frame.DataFrame'>\n",
      "Int64Index: 6205 entries, 1 to 7968\n",
      "Data columns (total 10 columns):\n",
      " #   Column  Non-Null Count  Dtype         \n",
      "---  ------  --------------  -----         \n",
      " 0   영화명     6205 non-null   object        \n",
      " 1   감독      6205 non-null   object        \n",
      " 2   개봉일     6205 non-null   datetime64[ns]\n",
      " 3   국가      6205 non-null   object        \n",
      " 4   스크린수    6205 non-null   int32         \n",
      " 5   관객수     6205 non-null   int32         \n",
      " 6   관람가     6205 non-null   object        \n",
      " 7   장르      6205 non-null   object        \n",
      " 8   개봉연도    6205 non-null   int64         \n",
      " 9   개봉달     6205 non-null   int64         \n",
      "dtypes: datetime64[ns](1), int32(2), int64(2), object(5)\n",
      "memory usage: 484.8+ KB\n"
     ]
    }
   ],
   "source": [
    "movie.info()"
   ]
  },
  {
   "cell_type": "code",
   "execution_count": 37,
   "metadata": {
    "ExecuteTime": {
     "end_time": "2021-04-15T14:38:54.701097Z",
     "start_time": "2021-04-15T14:38:54.682148Z"
    }
   },
   "outputs": [
    {
     "data": {
      "text/plain": [
       "492020.09347300563"
      ]
     },
     "execution_count": 37,
     "metadata": {},
     "output_type": "execute_result"
    }
   ],
   "source": [
    "movie.관객수.mean()"
   ]
  },
  {
   "cell_type": "code",
   "execution_count": 38,
   "metadata": {
    "ExecuteTime": {
     "end_time": "2021-04-15T14:38:54.716057Z",
     "start_time": "2021-04-15T14:38:54.705087Z"
    }
   },
   "outputs": [],
   "source": [
    "movie.loc[(movie.관객수 >= 1000000),'흥행'] = '100만이상'"
   ]
  },
  {
   "cell_type": "code",
   "execution_count": 39,
   "metadata": {
    "ExecuteTime": {
     "end_time": "2021-04-15T14:38:54.734008Z",
     "start_time": "2021-04-15T14:38:54.720046Z"
    }
   },
   "outputs": [],
   "source": [
    "movie.loc[(movie.관객수 <= 1000000),'흥행'] = '100만이하'"
   ]
  },
  {
   "cell_type": "code",
   "execution_count": 40,
   "metadata": {
    "ExecuteTime": {
     "end_time": "2021-04-15T14:38:54.750962Z",
     "start_time": "2021-04-15T14:38:54.738000Z"
    }
   },
   "outputs": [],
   "source": [
    "movie.loc[(movie.관람가 == '18세'), '관람가'] = '18세이상'\n",
    "movie.loc[(movie.관람가 == '12세'), '관람가'] = '12세이상'"
   ]
  },
  {
   "cell_type": "code",
   "execution_count": 41,
   "metadata": {
    "ExecuteTime": {
     "end_time": "2021-04-15T14:38:54.766922Z",
     "start_time": "2021-04-15T14:38:54.754953Z"
    }
   },
   "outputs": [],
   "source": [
    "movie['감독'] = movie.감독.apply(lambda x:x.split(',')[0])"
   ]
  },
  {
   "cell_type": "code",
   "execution_count": 42,
   "metadata": {
    "ExecuteTime": {
     "end_time": "2021-04-15T14:38:54.779885Z",
     "start_time": "2021-04-15T14:38:54.770909Z"
    }
   },
   "outputs": [],
   "source": [
    "movie.rename(columns={'개봉달':'개봉월'},inplace=True)"
   ]
  },
  {
   "cell_type": "code",
   "execution_count": 43,
   "metadata": {
    "ExecuteTime": {
     "end_time": "2021-04-15T14:38:54.811800Z",
     "start_time": "2021-04-15T14:38:54.783874Z"
    }
   },
   "outputs": [
    {
     "data": {
      "text/html": [
       "<div>\n",
       "<style scoped>\n",
       "    .dataframe tbody tr th:only-of-type {\n",
       "        vertical-align: middle;\n",
       "    }\n",
       "\n",
       "    .dataframe tbody tr th {\n",
       "        vertical-align: top;\n",
       "    }\n",
       "\n",
       "    .dataframe thead th {\n",
       "        text-align: right;\n",
       "    }\n",
       "</style>\n",
       "<table border=\"1\" class=\"dataframe\">\n",
       "  <thead>\n",
       "    <tr style=\"text-align: right;\">\n",
       "      <th></th>\n",
       "      <th>영화명</th>\n",
       "      <th>감독</th>\n",
       "      <th>개봉일</th>\n",
       "      <th>국가</th>\n",
       "      <th>스크린수</th>\n",
       "      <th>관객수</th>\n",
       "      <th>관람가</th>\n",
       "      <th>장르</th>\n",
       "      <th>개봉연도</th>\n",
       "      <th>개봉월</th>\n",
       "      <th>흥행</th>\n",
       "    </tr>\n",
       "  </thead>\n",
       "  <tbody>\n",
       "    <tr>\n",
       "      <th>1</th>\n",
       "      <td>명량</td>\n",
       "      <td>김한민</td>\n",
       "      <td>2014-07-30</td>\n",
       "      <td>한국</td>\n",
       "      <td>1587</td>\n",
       "      <td>17613682</td>\n",
       "      <td>15세이상</td>\n",
       "      <td>사극</td>\n",
       "      <td>2014</td>\n",
       "      <td>7</td>\n",
       "      <td>100만이상</td>\n",
       "    </tr>\n",
       "    <tr>\n",
       "      <th>2</th>\n",
       "      <td>극한직업</td>\n",
       "      <td>이병헌</td>\n",
       "      <td>2019-01-23</td>\n",
       "      <td>한국</td>\n",
       "      <td>1978</td>\n",
       "      <td>16264944</td>\n",
       "      <td>15세이상</td>\n",
       "      <td>코미디</td>\n",
       "      <td>2019</td>\n",
       "      <td>1</td>\n",
       "      <td>100만이상</td>\n",
       "    </tr>\n",
       "    <tr>\n",
       "      <th>3</th>\n",
       "      <td>신과함께-죄와 벌</td>\n",
       "      <td>김용화</td>\n",
       "      <td>2017-12-20</td>\n",
       "      <td>한국</td>\n",
       "      <td>1912</td>\n",
       "      <td>14410754</td>\n",
       "      <td>12세이상</td>\n",
       "      <td>판타지</td>\n",
       "      <td>2017</td>\n",
       "      <td>12</td>\n",
       "      <td>100만이상</td>\n",
       "    </tr>\n",
       "  </tbody>\n",
       "</table>\n",
       "</div>"
      ],
      "text/plain": [
       "         영화명   감독        개봉일  국가  스크린수       관객수    관람가   장르  개봉연도  개봉월  \\\n",
       "1         명량  김한민 2014-07-30  한국  1587  17613682  15세이상   사극  2014    7   \n",
       "2       극한직업  이병헌 2019-01-23  한국  1978  16264944  15세이상  코미디  2019    1   \n",
       "3  신과함께-죄와 벌  김용화 2017-12-20  한국  1912  14410754  12세이상  판타지  2017   12   \n",
       "\n",
       "       흥행  \n",
       "1  100만이상  \n",
       "2  100만이상  \n",
       "3  100만이상  "
      ]
     },
     "execution_count": 43,
     "metadata": {},
     "output_type": "execute_result"
    }
   ],
   "source": [
    "movie.head(3)"
   ]
  },
  {
   "cell_type": "code",
   "execution_count": 44,
   "metadata": {
    "ExecuteTime": {
     "end_time": "2021-04-15T14:38:54.831745Z",
     "start_time": "2021-04-15T14:38:54.816787Z"
    }
   },
   "outputs": [],
   "source": [
    "mo500 = movie[movie.흥행 == '100만이상']"
   ]
  },
  {
   "cell_type": "code",
   "execution_count": 45,
   "metadata": {
    "ExecuteTime": {
     "end_time": "2021-04-15T14:38:55.059139Z",
     "start_time": "2021-04-15T14:38:54.835736Z"
    }
   },
   "outputs": [],
   "source": [
    "movie.to_csv('./data/영화')"
   ]
  },
  {
   "cell_type": "markdown",
   "metadata": {},
   "source": [
    "# 각 컬럼간의 상관관계 확인"
   ]
  },
  {
   "cell_type": "code",
   "execution_count": 46,
   "metadata": {
    "ExecuteTime": {
     "end_time": "2021-04-15T14:38:56.273908Z",
     "start_time": "2021-04-15T14:38:55.062131Z"
    }
   },
   "outputs": [
    {
     "data": {
      "image/png": "[encoded data removed]",
      "text/plain": [
       "<Figure size 1440x432 with 2 Axes>"
      ]
     },
     "metadata": {
      "needs_background": "light"
     },
     "output_type": "display_data"
    }
   ],
   "source": [
    "plt.figure(figsize=(20,6))\n",
    "plt.title('상관관계')\n",
    "sns.heatmap(movie.corr(),annot=True)\n",
    "pass"
   ]
  },
  {
   "cell_type": "markdown",
   "metadata": {},
   "source": [
    "## 흥행확인"
   ]
  },
  {
   "cell_type": "code",
   "execution_count": 47,
   "metadata": {
    "ExecuteTime": {
     "end_time": "2021-04-15T14:38:56.718273Z",
     "start_time": "2021-04-15T14:38:56.278897Z"
    },
    "scrolled": false
   },
   "outputs": [
    {
     "name": "stderr",
     "output_type": "stream",
     "text": [
      "C:\\ProgramData\\Anaconda3\\lib\\site-packages\\seaborn\\_decorators.py:36: FutureWarning: Pass the following variable as a keyword arg: x. From version 0.12, the only valid positional argument will be `data`, and passing other arguments without an explicit keyword will result in an error or misinterpretation.\n",
      "  warnings.warn(\n"
     ]
    },
    {
     "data": {
      "image/png": "[encoded data removed]",
      "text/plain": [
       "<Figure size 432x288 with 1 Axes>"
      ]
     },
     "metadata": {
      "needs_background": "light"
     },
     "output_type": "display_data"
    }
   ],
   "source": [
    "sns.countplot(movie.흥행)\n",
    "pass"
   ]
  },
  {
   "cell_type": "code",
   "execution_count": 48,
   "metadata": {
    "ExecuteTime": {
     "end_time": "2021-04-15T14:38:57.406640Z",
     "start_time": "2021-04-15T14:38:56.723259Z"
    }
   },
   "outputs": [
    {
     "data": {
      "text/plain": [
       "<matplotlib.legend.Legend at 0x226ed3b30a0>"
      ]
     },
     "execution_count": 48,
     "metadata": {},
     "output_type": "execute_result"
    },
    {
     "data": {
      "image/png": "[encoded data removed]",
      "text/plain": [
       "<Figure size 864x720 with 1 Axes>"
      ]
     },
     "metadata": {
      "needs_background": "light"
     },
     "output_type": "display_data"
    }
   ],
   "source": [
    "plt.figure(figsize=(12,10))\n",
    "sns.countplot(x=movie.개봉연도,hue=movie.흥행)\n",
    "plt.legend(['흥행 = No','흥행 = Yes'])"
   ]
  },
  {
   "cell_type": "code",
   "execution_count": 49,
   "metadata": {
    "ExecuteTime": {
     "end_time": "2021-04-15T14:38:57.416610Z",
     "start_time": "2021-04-15T14:38:57.410628Z"
    }
   },
   "outputs": [],
   "source": [
    "# 500만이상 작품이 생각보다 작아서 500만이상인 데이터들로 시각화"
   ]
  },
  {
   "cell_type": "code",
   "execution_count": 50,
   "metadata": {
    "ExecuteTime": {
     "end_time": "2021-04-15T14:38:57.509863Z",
     "start_time": "2021-04-15T14:38:57.419602Z"
    }
   },
   "outputs": [],
   "source": [
    "# mo500 = movie[movie.흥행 == '500만이상']\n",
    "# fig,ax = plt.subplot(2,3,figsize=(16,10))\n",
    "# sns.countplot(mo500.개봉연도,hue=mo500.흥행,ax=ax[0][0])\n",
    "# sns.countplot(mo500.국가,hue=mo500.흥행,ax=ax[0][1])\n",
    "# sns.countplot(mo500.장르,hue=mo500.흥행,ax=ax[0][2])\n",
    "# sns.countplot(mo500.관람가,hue=mo500.흥행,ax=ax[1][0])\n",
    "# sns.countplot(mo500.개봉월,hue=mo500.흥행,ax=ax[1][1])\n",
    "# plt.xticks(rotation=50)\n",
    "# pass"
   ]
  },
  {
   "cell_type": "code",
   "execution_count": 51,
   "metadata": {
    "ExecuteTime": {
     "end_time": "2021-04-15T14:38:57.666448Z",
     "start_time": "2021-04-15T14:38:57.516844Z"
    }
   },
   "outputs": [
    {
     "data": {
      "image/png": "[encoded data removed]",
      "text/plain": [
       "<Figure size 720x72 with 1 Axes>"
      ]
     },
     "metadata": {
      "needs_background": "light"
     },
     "output_type": "display_data"
    }
   ],
   "source": [
    "palette1 = sns.color_palette('deep',10)\n",
    "sns.palplot(palette1)"
   ]
  },
  {
   "cell_type": "code",
   "execution_count": 52,
   "metadata": {
    "ExecuteTime": {
     "end_time": "2021-04-15T14:38:59.662129Z",
     "start_time": "2021-04-15T14:38:57.669439Z"
    }
   },
   "outputs": [
    {
     "name": "stderr",
     "output_type": "stream",
     "text": [
      "C:\\ProgramData\\Anaconda3\\lib\\site-packages\\seaborn\\_decorators.py:36: FutureWarning: Pass the following variable as a keyword arg: x. From version 0.12, the only valid positional argument will be `data`, and passing other arguments without an explicit keyword will result in an error or misinterpretation.\n",
      "  warnings.warn(\n",
      "C:\\ProgramData\\Anaconda3\\lib\\site-packages\\seaborn\\_decorators.py:36: FutureWarning: Pass the following variable as a keyword arg: x. From version 0.12, the only valid positional argument will be `data`, and passing other arguments without an explicit keyword will result in an error or misinterpretation.\n",
      "  warnings.warn(\n",
      "C:\\ProgramData\\Anaconda3\\lib\\site-packages\\seaborn\\_decorators.py:36: FutureWarning: Pass the following variable as a keyword arg: x. From version 0.12, the only valid positional argument will be `data`, and passing other arguments without an explicit keyword will result in an error or misinterpretation.\n",
      "  warnings.warn(\n",
      "C:\\ProgramData\\Anaconda3\\lib\\site-packages\\seaborn\\_decorators.py:36: FutureWarning: Pass the following variable as a keyword arg: x. From version 0.12, the only valid positional argument will be `data`, and passing other arguments without an explicit keyword will result in an error or misinterpretation.\n",
      "  warnings.warn(\n"
     ]
    },
    {
     "data": {
      "image/png": "[encoded data removed]",
      "text/plain": [
       "<Figure size 1152x720 with 4 Axes>"
      ]
     },
     "metadata": {
      "needs_background": "light"
     },
     "output_type": "display_data"
    }
   ],
   "source": [
    "fig,ax = plt.subplots(2,2,figsize=(16,10))\n",
    "sns.countplot(mo500.국가, hue = mo500.흥행,ax=ax[0][0],palette= palette1) \n",
    "sns.countplot(mo500.관람가, hue = mo500.흥행,ax=ax[0][1],palette= palette1)\n",
    "sns.countplot(mo500.개봉월, hue = mo500.흥행,ax=ax[1][0],palette= palette1)\n",
    "sns.countplot(mo500.개봉연도, hue = mo500.흥행,ax=ax[1][1],palette= palette1)\n",
    "pass"
   ]
  },
  {
   "cell_type": "code",
   "execution_count": 53,
   "metadata": {
    "ExecuteTime": {
     "end_time": "2021-04-15T14:39:00.339427Z",
     "start_time": "2021-04-15T14:38:59.665120Z"
    }
   },
   "outputs": [
    {
     "name": "stderr",
     "output_type": "stream",
     "text": [
      "C:\\ProgramData\\Anaconda3\\lib\\site-packages\\seaborn\\_decorators.py:36: FutureWarning: Pass the following variable as a keyword arg: x. From version 0.12, the only valid positional argument will be `data`, and passing other arguments without an explicit keyword will result in an error or misinterpretation.\n",
      "  warnings.warn(\n"
     ]
    },
    {
     "data": {
      "image/png": "[encoded data removed]",
      "text/plain": [
       "<Figure size 1440x432 with 1 Axes>"
      ]
     },
     "metadata": {
      "needs_background": "light"
     },
     "output_type": "display_data"
    }
   ],
   "source": [
    "plt.figure(figsize=(20,6))\n",
    "sns.countplot(mo500.개봉연도,hue=mo500.흥행,palette=palette1)\n",
    "plt.xticks(rotation=50)\n",
    "pass"
   ]
  },
  {
   "cell_type": "code",
   "execution_count": 54,
   "metadata": {
    "ExecuteTime": {
     "end_time": "2021-04-15T14:39:01.005252Z",
     "start_time": "2021-04-15T14:39:00.344410Z"
    }
   },
   "outputs": [
    {
     "name": "stderr",
     "output_type": "stream",
     "text": [
      "C:\\ProgramData\\Anaconda3\\lib\\site-packages\\seaborn\\_decorators.py:36: FutureWarning: Pass the following variable as a keyword arg: x. From version 0.12, the only valid positional argument will be `data`, and passing other arguments without an explicit keyword will result in an error or misinterpretation.\n",
      "  warnings.warn(\n"
     ]
    },
    {
     "data": {
      "image/png": "[encoded data removed]",
      "text/plain": [
       "<Figure size 1440x432 with 1 Axes>"
      ]
     },
     "metadata": {
      "needs_background": "light"
     },
     "output_type": "display_data"
    }
   ],
   "source": [
    "plt.figure(figsize=(20,6))\n",
    "sns.countplot(mo500.장르,hue=mo500.흥행,palette='Paired')\n",
    "plt.xticks(rotation=50)\n",
    "pass"
   ]
  },
  {
   "cell_type": "code",
   "execution_count": 55,
   "metadata": {
    "ExecuteTime": {
     "end_time": "2021-04-15T14:39:01.384238Z",
     "start_time": "2021-04-15T14:39:01.008244Z"
    }
   },
   "outputs": [
    {
     "data": {
      "image/png": "[encoded data removed]",
      "text/plain": [
       "<Figure size 432x288 with 1 Axes>"
      ]
     },
     "metadata": {
      "needs_background": "light"
     },
     "output_type": "display_data"
    }
   ],
   "source": [
    "# 스크린수 흥행\n",
    "sns.boxplot(x = movie.흥행,y=movie.스크린수)\n",
    "pass"
   ]
  },
  {
   "cell_type": "markdown",
   "metadata": {},
   "source": [
    "## 각 컬럼들 관객수관계"
   ]
  },
  {
   "cell_type": "code",
   "execution_count": 56,
   "metadata": {
    "ExecuteTime": {
     "end_time": "2021-04-15T14:39:02.119119Z",
     "start_time": "2021-04-15T14:39:01.387230Z"
    },
    "scrolled": true
   },
   "outputs": [
    {
     "data": {
      "image/png": "[encoded data removed]",
      "text/plain": [
       "<Figure size 1440x432 with 1 Axes>"
      ]
     },
     "metadata": {
      "needs_background": "light"
     },
     "output_type": "display_data"
    }
   ],
   "source": [
    "# 관람가 관객수\n",
    "plt.figure(figsize=(20,6))\n",
    "sns.barplot(x=movie.관람가,y=movie.관객수)\n",
    "pass"
   ]
  },
  {
   "cell_type": "code",
   "execution_count": 57,
   "metadata": {
    "ExecuteTime": {
     "end_time": "2021-04-15T14:39:02.494176Z",
     "start_time": "2021-04-15T14:39:02.122114Z"
    }
   },
   "outputs": [
    {
     "data": {
      "image/png": "[encoded data removed]",
      "text/plain": [
       "<Figure size 864x864 with 1 Axes>"
      ]
     },
     "metadata": {},
     "output_type": "display_data"
    }
   ],
   "source": [
    "# 관람가\n",
    "bar, ax = plt.subplots(figsize = (12,12))\n",
    "plt.pie(movie['관람가'].value_counts(), labels = movie['관람가'].value_counts().index, autopct=\"%.1f%%\")\n",
    "pass"
   ]
  },
  {
   "cell_type": "code",
   "execution_count": 58,
   "metadata": {
    "ExecuteTime": {
     "end_time": "2021-04-15T14:39:04.056816Z",
     "start_time": "2021-04-15T14:39:02.497168Z"
    }
   },
   "outputs": [
    {
     "data": {
      "image/png": "[encoded data removed]",
      "text/plain": [
       "<Figure size 1440x432 with 1 Axes>"
      ]
     },
     "metadata": {
      "needs_background": "light"
     },
     "output_type": "display_data"
    }
   ],
   "source": [
    "# 장르, 관객수\n",
    "plt.figure(figsize=(20,6))\n",
    "sns.barplot(x=movie['장르'],y=movie['관객수'])\n",
    "plt.xticks(rotation=50)\n",
    "pass"
   ]
  },
  {
   "cell_type": "code",
   "execution_count": 59,
   "metadata": {
    "ExecuteTime": {
     "end_time": "2021-04-15T14:39:04.435804Z",
     "start_time": "2021-04-15T14:39:04.060805Z"
    },
    "scrolled": true
   },
   "outputs": [
    {
     "data": {
      "image/png": "[encoded data removed]",
      "text/plain": [
       "<Figure size 1440x432 with 1 Axes>"
      ]
     },
     "metadata": {
      "needs_background": "light"
     },
     "output_type": "display_data"
    }
   ],
   "source": [
    "# 장르 관객수 상위10\n",
    "plt.figure(figsize=(20,6))\n",
    "sns.barplot(x=movie['장르'].value_counts().index[:10],y=movie['관객수'].value_counts().index[:10])\n",
    "plt.xticks(rotation=50)\n",
    "pass"
   ]
  },
  {
   "cell_type": "code",
   "execution_count": 60,
   "metadata": {
    "ExecuteTime": {
     "end_time": "2021-04-15T14:39:09.087428Z",
     "start_time": "2021-04-15T14:39:04.438795Z"
    }
   },
   "outputs": [
    {
     "data": {
      "image/png": "[encoded data removed]",
      "text/plain": [
       "<Figure size 1440x432 with 1 Axes>"
      ]
     },
     "metadata": {
      "needs_background": "light"
     },
     "output_type": "display_data"
    }
   ],
   "source": [
    "# 국가 관객수\n",
    "plt.figure(figsize=(20,6))\n",
    "sns.barplot(x=movie['국가'],y=movie['관객수'])\n",
    "plt.xticks(rotation=50)\n",
    "pass"
   ]
  },
  {
   "cell_type": "code",
   "execution_count": 61,
   "metadata": {
    "ExecuteTime": {
     "end_time": "2021-04-15T14:39:09.453451Z",
     "start_time": "2021-04-15T14:39:09.091421Z"
    }
   },
   "outputs": [
    {
     "data": {
      "image/png": "[encoded data removed]",
      "text/plain": [
       "<Figure size 1440x432 with 1 Axes>"
      ]
     },
     "metadata": {
      "needs_background": "light"
     },
     "output_type": "display_data"
    }
   ],
   "source": [
    "# 국가 관객수 상위10\n",
    "plt.figure(figsize=(20,6))\n",
    "sns.barplot(x=movie['국가'].value_counts().index[:10],y=movie['관객수'].value_counts().index[:10])\n",
    "plt.xticks(rotation=50)\n",
    "pass"
   ]
  },
  {
   "cell_type": "code",
   "execution_count": 62,
   "metadata": {
    "ExecuteTime": {
     "end_time": "2021-04-15T14:39:10.919527Z",
     "start_time": "2021-04-15T14:39:09.457440Z"
    }
   },
   "outputs": [
    {
     "data": {
      "image/png": "[encoded data removed]",
      "text/plain": [
       "<Figure size 1440x432 with 1 Axes>"
      ]
     },
     "metadata": {
      "needs_background": "light"
     },
     "output_type": "display_data"
    }
   ],
   "source": [
    "# 개봉연도 관객수\n",
    "plt.figure(figsize=(20,6))\n",
    "sns.barplot(x=movie['개봉연도'],y=movie['관객수'])\n",
    "plt.xticks(rotation=50)\n",
    "pass"
   ]
  },
  {
   "cell_type": "code",
   "execution_count": 63,
   "metadata": {
    "ExecuteTime": {
     "end_time": "2021-04-15T14:39:12.084411Z",
     "start_time": "2021-04-15T14:39:10.922520Z"
    }
   },
   "outputs": [
    {
     "data": {
      "image/png": "[encoded data removed]",
      "text/plain": [
       "<Figure size 1440x432 with 1 Axes>"
      ]
     },
     "metadata": {
      "needs_background": "light"
     },
     "output_type": "display_data"
    }
   ],
   "source": [
    "plt.figure(figsize=(20,6))\n",
    "sns.barplot(x=movie['개봉월'],y=movie['관객수'])\n",
    "plt.xticks(rotation=50)\n",
    "pass"
   ]
  },
  {
   "cell_type": "markdown",
   "metadata": {},
   "source": [
    "## 감독흥행작품수"
   ]
  },
  {
   "cell_type": "code",
   "execution_count": 64,
   "metadata": {
    "ExecuteTime": {
     "end_time": "2021-04-15T14:39:12.193807Z",
     "start_time": "2021-04-15T14:39:12.087404Z"
    }
   },
   "outputs": [],
   "source": [
    "director = movie[['감독','흥행']]\n",
    "director_df = director.value_counts().to_frame()\n",
    "director_df = director_df.reset_index()\n",
    "director_df.rename(columns={0:'작품수'},inplace=True)"
   ]
  },
  {
   "cell_type": "code",
   "execution_count": 65,
   "metadata": {
    "ExecuteTime": {
     "end_time": "2021-04-15T14:39:13.187318Z",
     "start_time": "2021-04-15T14:39:12.197808Z"
    }
   },
   "outputs": [
    {
     "data": {
      "image/png": "[encoded data removed]",
      "text/plain": [
       "<Figure size 720x720 with 1 Axes>"
      ]
     },
     "metadata": {
      "needs_background": "light"
     },
     "output_type": "display_data"
    },
    {
     "data": {
      "image/png": "[encoded data removed]",
      "text/plain": [
       "<Figure size 720x720 with 1 Axes>"
      ]
     },
     "metadata": {
      "needs_background": "light"
     },
     "output_type": "display_data"
    }
   ],
   "source": [
    "for i in director_df['흥행'].unique():\n",
    "    bar, ax = plt.subplots(figsize=(10,10))\n",
    "    sns.barplot(x = '감독', y = '작품수', data = director_df[director_df['흥행'] == i].iloc[:10])\n",
    "    plt.ylabel('작품수')\n",
    "    plt.title('{}작품수'.format(str(i)), size=20)\n",
    "    plt.xticks(rotation=50)"
   ]
  },
  {
   "cell_type": "code",
   "execution_count": 66,
   "metadata": {
    "ExecuteTime": {
     "end_time": "2021-04-15T14:39:13.212253Z",
     "start_time": "2021-04-15T14:39:13.190310Z"
    }
   },
   "outputs": [],
   "source": [
    "# 알고리즘을 위해 int로\n",
    "movie.loc[(movie.관객수 >= 1000000),'흥행'] = '1'\n",
    "movie.loc[(movie.관객수 <= 1000000),'흥행'] = '0'\n",
    "movie = movie.astype({'흥행':'int'})"
   ]
  },
  {
   "cell_type": "code",
   "execution_count": 67,
   "metadata": {
    "ExecuteTime": {
     "end_time": "2021-04-15T14:39:13.262118Z",
     "start_time": "2021-04-15T14:39:13.231200Z"
    }
   },
   "outputs": [
    {
     "name": "stdout",
     "output_type": "stream",
     "text": [
      "<class 'pandas.core.frame.DataFrame'>\n",
      "Int64Index: 6205 entries, 1 to 7968\n",
      "Data columns (total 11 columns):\n",
      " #   Column  Non-Null Count  Dtype         \n",
      "---  ------  --------------  -----         \n",
      " 0   영화명     6205 non-null   object        \n",
      " 1   감독      6205 non-null   object        \n",
      " 2   개봉일     6205 non-null   datetime64[ns]\n",
      " 3   국가      6205 non-null   object        \n",
      " 4   스크린수    6205 non-null   int32         \n",
      " 5   관객수     6205 non-null   int32         \n",
      " 6   관람가     6205 non-null   object        \n",
      " 7   장르      6205 non-null   object        \n",
      " 8   개봉연도    6205 non-null   int64         \n",
      " 9   개봉월     6205 non-null   int64         \n",
      " 10  흥행      6205 non-null   int32         \n",
      "dtypes: datetime64[ns](1), int32(3), int64(2), object(5)\n",
      "memory usage: 669.0+ KB\n"
     ]
    }
   ],
   "source": [
    "movie.info()"
   ]
  },
  {
   "cell_type": "code",
   "execution_count": 68,
   "metadata": {
    "ExecuteTime": {
     "end_time": "2021-04-15T14:39:13.300017Z",
     "start_time": "2021-04-15T14:39:13.273091Z"
    },
    "scrolled": true
   },
   "outputs": [
    {
     "data": {
      "text/html": [
       "<div>\n",
       "<style scoped>\n",
       "    .dataframe tbody tr th:only-of-type {\n",
       "        vertical-align: middle;\n",
       "    }\n",
       "\n",
       "    .dataframe tbody tr th {\n",
       "        vertical-align: top;\n",
       "    }\n",
       "\n",
       "    .dataframe thead th {\n",
       "        text-align: right;\n",
       "    }\n",
       "</style>\n",
       "<table border=\"1\" class=\"dataframe\">\n",
       "  <thead>\n",
       "    <tr style=\"text-align: right;\">\n",
       "      <th></th>\n",
       "      <th>영화명</th>\n",
       "      <th>감독</th>\n",
       "      <th>개봉일</th>\n",
       "      <th>국가</th>\n",
       "      <th>스크린수</th>\n",
       "      <th>관객수</th>\n",
       "      <th>관람가</th>\n",
       "      <th>장르</th>\n",
       "      <th>개봉연도</th>\n",
       "      <th>개봉월</th>\n",
       "      <th>흥행</th>\n",
       "    </tr>\n",
       "  </thead>\n",
       "  <tbody>\n",
       "    <tr>\n",
       "      <th>1</th>\n",
       "      <td>명량</td>\n",
       "      <td>김한민</td>\n",
       "      <td>2014-07-30</td>\n",
       "      <td>한국</td>\n",
       "      <td>1587</td>\n",
       "      <td>17613682</td>\n",
       "      <td>15세이상</td>\n",
       "      <td>사극</td>\n",
       "      <td>2014</td>\n",
       "      <td>7</td>\n",
       "      <td>1</td>\n",
       "    </tr>\n",
       "    <tr>\n",
       "      <th>2</th>\n",
       "      <td>극한직업</td>\n",
       "      <td>이병헌</td>\n",
       "      <td>2019-01-23</td>\n",
       "      <td>한국</td>\n",
       "      <td>1978</td>\n",
       "      <td>16264944</td>\n",
       "      <td>15세이상</td>\n",
       "      <td>코미디</td>\n",
       "      <td>2019</td>\n",
       "      <td>1</td>\n",
       "      <td>1</td>\n",
       "    </tr>\n",
       "    <tr>\n",
       "      <th>3</th>\n",
       "      <td>신과함께-죄와 벌</td>\n",
       "      <td>김용화</td>\n",
       "      <td>2017-12-20</td>\n",
       "      <td>한국</td>\n",
       "      <td>1912</td>\n",
       "      <td>14410754</td>\n",
       "      <td>12세이상</td>\n",
       "      <td>판타지</td>\n",
       "      <td>2017</td>\n",
       "      <td>12</td>\n",
       "      <td>1</td>\n",
       "    </tr>\n",
       "    <tr>\n",
       "      <th>4</th>\n",
       "      <td>국제시장</td>\n",
       "      <td>윤제균</td>\n",
       "      <td>2014-12-17</td>\n",
       "      <td>한국</td>\n",
       "      <td>966</td>\n",
       "      <td>14245998</td>\n",
       "      <td>12세이상</td>\n",
       "      <td>드라마</td>\n",
       "      <td>2014</td>\n",
       "      <td>12</td>\n",
       "      <td>1</td>\n",
       "    </tr>\n",
       "    <tr>\n",
       "      <th>5</th>\n",
       "      <td>어벤져스: 엔드게임</td>\n",
       "      <td>안소니 루소</td>\n",
       "      <td>2019-04-24</td>\n",
       "      <td>미국</td>\n",
       "      <td>2835</td>\n",
       "      <td>13934592</td>\n",
       "      <td>12세이상</td>\n",
       "      <td>액션</td>\n",
       "      <td>2019</td>\n",
       "      <td>4</td>\n",
       "      <td>1</td>\n",
       "    </tr>\n",
       "  </tbody>\n",
       "</table>\n",
       "</div>"
      ],
      "text/plain": [
       "          영화명      감독        개봉일  국가  스크린수       관객수    관람가   장르  개봉연도  개봉월  \\\n",
       "1          명량     김한민 2014-07-30  한국  1587  17613682  15세이상   사극  2014    7   \n",
       "2        극한직업     이병헌 2019-01-23  한국  1978  16264944  15세이상  코미디  2019    1   \n",
       "3   신과함께-죄와 벌     김용화 2017-12-20  한국  1912  14410754  12세이상  판타지  2017   12   \n",
       "4        국제시장     윤제균 2014-12-17  한국   966  14245998  12세이상  드라마  2014   12   \n",
       "5  어벤져스: 엔드게임  안소니 루소 2019-04-24  미국  2835  13934592  12세이상   액션  2019    4   \n",
       "\n",
       "   흥행  \n",
       "1   1  \n",
       "2   1  \n",
       "3   1  \n",
       "4   1  \n",
       "5   1  "
      ]
     },
     "execution_count": 68,
     "metadata": {},
     "output_type": "execute_result"
    }
   ],
   "source": [
    "movie.head()"
   ]
  },
  {
   "cell_type": "code",
   "execution_count": 69,
   "metadata": {
    "ExecuteTime": {
     "end_time": "2021-04-15T14:39:13.325946Z",
     "start_time": "2021-04-15T14:39:13.304006Z"
    }
   },
   "outputs": [
    {
     "name": "stdout",
     "output_type": "stream",
     "text": [
      "<class 'pandas.core.frame.DataFrame'>\n",
      "Int64Index: 6205 entries, 1 to 7968\n",
      "Data columns (total 11 columns):\n",
      " #   Column  Non-Null Count  Dtype         \n",
      "---  ------  --------------  -----         \n",
      " 0   영화명     6205 non-null   object        \n",
      " 1   감독      6205 non-null   object        \n",
      " 2   개봉일     6205 non-null   datetime64[ns]\n",
      " 3   국가      6205 non-null   object        \n",
      " 4   스크린수    6205 non-null   int32         \n",
      " 5   관객수     6205 non-null   int32         \n",
      " 6   관람가     6205 non-null   object        \n",
      " 7   장르      6205 non-null   object        \n",
      " 8   개봉연도    6205 non-null   int64         \n",
      " 9   개봉월     6205 non-null   int64         \n",
      " 10  흥행      6205 non-null   int32         \n",
      "dtypes: datetime64[ns](1), int32(3), int64(2), object(5)\n",
      "memory usage: 669.0+ KB\n"
     ]
    }
   ],
   "source": [
    "movie.info()"
   ]
  },
  {
   "cell_type": "markdown",
   "metadata": {},
   "source": [
    "# 머신러닝"
   ]
  },
  {
   "cell_type": "code",
   "execution_count": 70,
   "metadata": {
    "ExecuteTime": {
     "end_time": "2021-04-15T14:39:13.362849Z",
     "start_time": "2021-04-15T14:39:13.329937Z"
    }
   },
   "outputs": [
    {
     "data": {
      "text/html": [
       "<div>\n",
       "<style scoped>\n",
       "    .dataframe tbody tr th:only-of-type {\n",
       "        vertical-align: middle;\n",
       "    }\n",
       "\n",
       "    .dataframe tbody tr th {\n",
       "        vertical-align: top;\n",
       "    }\n",
       "\n",
       "    .dataframe thead th {\n",
       "        text-align: right;\n",
       "    }\n",
       "</style>\n",
       "<table border=\"1\" class=\"dataframe\">\n",
       "  <thead>\n",
       "    <tr style=\"text-align: right;\">\n",
       "      <th></th>\n",
       "      <th>국가</th>\n",
       "      <th>스크린수</th>\n",
       "      <th>관람가</th>\n",
       "      <th>장르</th>\n",
       "      <th>개봉연도</th>\n",
       "      <th>개봉월</th>\n",
       "      <th>흥행</th>\n",
       "    </tr>\n",
       "  </thead>\n",
       "  <tbody>\n",
       "    <tr>\n",
       "      <th>1</th>\n",
       "      <td>한국</td>\n",
       "      <td>1587</td>\n",
       "      <td>15세이상</td>\n",
       "      <td>사극</td>\n",
       "      <td>2014</td>\n",
       "      <td>7</td>\n",
       "      <td>1</td>\n",
       "    </tr>\n",
       "    <tr>\n",
       "      <th>2</th>\n",
       "      <td>한국</td>\n",
       "      <td>1978</td>\n",
       "      <td>15세이상</td>\n",
       "      <td>코미디</td>\n",
       "      <td>2019</td>\n",
       "      <td>1</td>\n",
       "      <td>1</td>\n",
       "    </tr>\n",
       "    <tr>\n",
       "      <th>3</th>\n",
       "      <td>한국</td>\n",
       "      <td>1912</td>\n",
       "      <td>12세이상</td>\n",
       "      <td>판타지</td>\n",
       "      <td>2017</td>\n",
       "      <td>12</td>\n",
       "      <td>1</td>\n",
       "    </tr>\n",
       "    <tr>\n",
       "      <th>4</th>\n",
       "      <td>한국</td>\n",
       "      <td>966</td>\n",
       "      <td>12세이상</td>\n",
       "      <td>드라마</td>\n",
       "      <td>2014</td>\n",
       "      <td>12</td>\n",
       "      <td>1</td>\n",
       "    </tr>\n",
       "    <tr>\n",
       "      <th>5</th>\n",
       "      <td>미국</td>\n",
       "      <td>2835</td>\n",
       "      <td>12세이상</td>\n",
       "      <td>액션</td>\n",
       "      <td>2019</td>\n",
       "      <td>4</td>\n",
       "      <td>1</td>\n",
       "    </tr>\n",
       "    <tr>\n",
       "      <th>...</th>\n",
       "      <td>...</td>\n",
       "      <td>...</td>\n",
       "      <td>...</td>\n",
       "      <td>...</td>\n",
       "      <td>...</td>\n",
       "      <td>...</td>\n",
       "      <td>...</td>\n",
       "    </tr>\n",
       "    <tr>\n",
       "      <th>7956</th>\n",
       "      <td>한국</td>\n",
       "      <td>12</td>\n",
       "      <td>19세이상</td>\n",
       "      <td>범죄</td>\n",
       "      <td>2012</td>\n",
       "      <td>11</td>\n",
       "      <td>0</td>\n",
       "    </tr>\n",
       "    <tr>\n",
       "      <th>7960</th>\n",
       "      <td>한국</td>\n",
       "      <td>15</td>\n",
       "      <td>19세이상</td>\n",
       "      <td>드라마</td>\n",
       "      <td>2018</td>\n",
       "      <td>7</td>\n",
       "      <td>0</td>\n",
       "    </tr>\n",
       "    <tr>\n",
       "      <th>7961</th>\n",
       "      <td>한국</td>\n",
       "      <td>2</td>\n",
       "      <td>15세이상</td>\n",
       "      <td>다큐멘터리</td>\n",
       "      <td>2014</td>\n",
       "      <td>6</td>\n",
       "      <td>0</td>\n",
       "    </tr>\n",
       "    <tr>\n",
       "      <th>7967</th>\n",
       "      <td>영국</td>\n",
       "      <td>13</td>\n",
       "      <td>15세이상</td>\n",
       "      <td>드라마</td>\n",
       "      <td>2014</td>\n",
       "      <td>2</td>\n",
       "      <td>0</td>\n",
       "    </tr>\n",
       "    <tr>\n",
       "      <th>7968</th>\n",
       "      <td>미국</td>\n",
       "      <td>11</td>\n",
       "      <td>전체</td>\n",
       "      <td>다큐멘터리</td>\n",
       "      <td>2019</td>\n",
       "      <td>4</td>\n",
       "      <td>0</td>\n",
       "    </tr>\n",
       "  </tbody>\n",
       "</table>\n",
       "<p>6205 rows × 7 columns</p>\n",
       "</div>"
      ],
      "text/plain": [
       "      국가  스크린수    관람가     장르  개봉연도  개봉월  흥행\n",
       "1     한국  1587  15세이상     사극  2014    7   1\n",
       "2     한국  1978  15세이상    코미디  2019    1   1\n",
       "3     한국  1912  12세이상    판타지  2017   12   1\n",
       "4     한국   966  12세이상    드라마  2014   12   1\n",
       "5     미국  2835  12세이상     액션  2019    4   1\n",
       "...   ..   ...    ...    ...   ...  ...  ..\n",
       "7956  한국    12  19세이상     범죄  2012   11   0\n",
       "7960  한국    15  19세이상    드라마  2018    7   0\n",
       "7961  한국     2  15세이상  다큐멘터리  2014    6   0\n",
       "7967  영국    13  15세이상    드라마  2014    2   0\n",
       "7968  미국    11     전체  다큐멘터리  2019    4   0\n",
       "\n",
       "[6205 rows x 7 columns]"
      ]
     },
     "execution_count": 70,
     "metadata": {},
     "output_type": "execute_result"
    }
   ],
   "source": [
    "movie_df = movie.drop(['영화명','개봉일','관객수','감독'],axis=1)\n",
    "movie_df"
   ]
  },
  {
   "cell_type": "code",
   "execution_count": 71,
   "metadata": {
    "ExecuteTime": {
     "end_time": "2021-04-15T14:39:13.446625Z",
     "start_time": "2021-04-15T14:39:13.368833Z"
    }
   },
   "outputs": [
    {
     "data": {
      "text/html": [
       "<div>\n",
       "<style scoped>\n",
       "    .dataframe tbody tr th:only-of-type {\n",
       "        vertical-align: middle;\n",
       "    }\n",
       "\n",
       "    .dataframe tbody tr th {\n",
       "        vertical-align: top;\n",
       "    }\n",
       "\n",
       "    .dataframe thead th {\n",
       "        text-align: right;\n",
       "    }\n",
       "</style>\n",
       "<table border=\"1\" class=\"dataframe\">\n",
       "  <thead>\n",
       "    <tr style=\"text-align: right;\">\n",
       "      <th></th>\n",
       "      <th>스크린수</th>\n",
       "      <th>개봉연도</th>\n",
       "      <th>개봉월</th>\n",
       "      <th>흥행</th>\n",
       "      <th>국가_그리스</th>\n",
       "      <th>국가_기타</th>\n",
       "      <th>국가_남아프리카공화국</th>\n",
       "      <th>국가_네덜란드</th>\n",
       "      <th>국가_노르웨이</th>\n",
       "      <th>국가_뉴질랜드</th>\n",
       "      <th>...</th>\n",
       "      <th>장르_범죄</th>\n",
       "      <th>장르_사극</th>\n",
       "      <th>장르_서부극(웨스턴)</th>\n",
       "      <th>장르_스릴러</th>\n",
       "      <th>장르_애니메이션</th>\n",
       "      <th>장르_액션</th>\n",
       "      <th>장르_어드벤처</th>\n",
       "      <th>장르_전쟁</th>\n",
       "      <th>장르_코미디</th>\n",
       "      <th>장르_판타지</th>\n",
       "    </tr>\n",
       "  </thead>\n",
       "  <tbody>\n",
       "    <tr>\n",
       "      <th>1</th>\n",
       "      <td>1587</td>\n",
       "      <td>2014</td>\n",
       "      <td>7</td>\n",
       "      <td>1</td>\n",
       "      <td>0</td>\n",
       "      <td>0</td>\n",
       "      <td>0</td>\n",
       "      <td>0</td>\n",
       "      <td>0</td>\n",
       "      <td>0</td>\n",
       "      <td>...</td>\n",
       "      <td>0</td>\n",
       "      <td>1</td>\n",
       "      <td>0</td>\n",
       "      <td>0</td>\n",
       "      <td>0</td>\n",
       "      <td>0</td>\n",
       "      <td>0</td>\n",
       "      <td>0</td>\n",
       "      <td>0</td>\n",
       "      <td>0</td>\n",
       "    </tr>\n",
       "    <tr>\n",
       "      <th>2</th>\n",
       "      <td>1978</td>\n",
       "      <td>2019</td>\n",
       "      <td>1</td>\n",
       "      <td>1</td>\n",
       "      <td>0</td>\n",
       "      <td>0</td>\n",
       "      <td>0</td>\n",
       "      <td>0</td>\n",
       "      <td>0</td>\n",
       "      <td>0</td>\n",
       "      <td>...</td>\n",
       "      <td>0</td>\n",
       "      <td>0</td>\n",
       "      <td>0</td>\n",
       "      <td>0</td>\n",
       "      <td>0</td>\n",
       "      <td>0</td>\n",
       "      <td>0</td>\n",
       "      <td>0</td>\n",
       "      <td>1</td>\n",
       "      <td>0</td>\n",
       "    </tr>\n",
       "    <tr>\n",
       "      <th>3</th>\n",
       "      <td>1912</td>\n",
       "      <td>2017</td>\n",
       "      <td>12</td>\n",
       "      <td>1</td>\n",
       "      <td>0</td>\n",
       "      <td>0</td>\n",
       "      <td>0</td>\n",
       "      <td>0</td>\n",
       "      <td>0</td>\n",
       "      <td>0</td>\n",
       "      <td>...</td>\n",
       "      <td>0</td>\n",
       "      <td>0</td>\n",
       "      <td>0</td>\n",
       "      <td>0</td>\n",
       "      <td>0</td>\n",
       "      <td>0</td>\n",
       "      <td>0</td>\n",
       "      <td>0</td>\n",
       "      <td>0</td>\n",
       "      <td>1</td>\n",
       "    </tr>\n",
       "    <tr>\n",
       "      <th>4</th>\n",
       "      <td>966</td>\n",
       "      <td>2014</td>\n",
       "      <td>12</td>\n",
       "      <td>1</td>\n",
       "      <td>0</td>\n",
       "      <td>0</td>\n",
       "      <td>0</td>\n",
       "      <td>0</td>\n",
       "      <td>0</td>\n",
       "      <td>0</td>\n",
       "      <td>...</td>\n",
       "      <td>0</td>\n",
       "      <td>0</td>\n",
       "      <td>0</td>\n",
       "      <td>0</td>\n",
       "      <td>0</td>\n",
       "      <td>0</td>\n",
       "      <td>0</td>\n",
       "      <td>0</td>\n",
       "      <td>0</td>\n",
       "      <td>0</td>\n",
       "    </tr>\n",
       "    <tr>\n",
       "      <th>5</th>\n",
       "      <td>2835</td>\n",
       "      <td>2019</td>\n",
       "      <td>4</td>\n",
       "      <td>1</td>\n",
       "      <td>0</td>\n",
       "      <td>0</td>\n",
       "      <td>0</td>\n",
       "      <td>0</td>\n",
       "      <td>0</td>\n",
       "      <td>0</td>\n",
       "      <td>...</td>\n",
       "      <td>0</td>\n",
       "      <td>0</td>\n",
       "      <td>0</td>\n",
       "      <td>0</td>\n",
       "      <td>0</td>\n",
       "      <td>1</td>\n",
       "      <td>0</td>\n",
       "      <td>0</td>\n",
       "      <td>0</td>\n",
       "      <td>0</td>\n",
       "    </tr>\n",
       "    <tr>\n",
       "      <th>...</th>\n",
       "      <td>...</td>\n",
       "      <td>...</td>\n",
       "      <td>...</td>\n",
       "      <td>...</td>\n",
       "      <td>...</td>\n",
       "      <td>...</td>\n",
       "      <td>...</td>\n",
       "      <td>...</td>\n",
       "      <td>...</td>\n",
       "      <td>...</td>\n",
       "      <td>...</td>\n",
       "      <td>...</td>\n",
       "      <td>...</td>\n",
       "      <td>...</td>\n",
       "      <td>...</td>\n",
       "      <td>...</td>\n",
       "      <td>...</td>\n",
       "      <td>...</td>\n",
       "      <td>...</td>\n",
       "      <td>...</td>\n",
       "      <td>...</td>\n",
       "    </tr>\n",
       "    <tr>\n",
       "      <th>7956</th>\n",
       "      <td>12</td>\n",
       "      <td>2012</td>\n",
       "      <td>11</td>\n",
       "      <td>0</td>\n",
       "      <td>0</td>\n",
       "      <td>0</td>\n",
       "      <td>0</td>\n",
       "      <td>0</td>\n",
       "      <td>0</td>\n",
       "      <td>0</td>\n",
       "      <td>...</td>\n",
       "      <td>1</td>\n",
       "      <td>0</td>\n",
       "      <td>0</td>\n",
       "      <td>0</td>\n",
       "      <td>0</td>\n",
       "      <td>0</td>\n",
       "      <td>0</td>\n",
       "      <td>0</td>\n",
       "      <td>0</td>\n",
       "      <td>0</td>\n",
       "    </tr>\n",
       "    <tr>\n",
       "      <th>7960</th>\n",
       "      <td>15</td>\n",
       "      <td>2018</td>\n",
       "      <td>7</td>\n",
       "      <td>0</td>\n",
       "      <td>0</td>\n",
       "      <td>0</td>\n",
       "      <td>0</td>\n",
       "      <td>0</td>\n",
       "      <td>0</td>\n",
       "      <td>0</td>\n",
       "      <td>...</td>\n",
       "      <td>0</td>\n",
       "      <td>0</td>\n",
       "      <td>0</td>\n",
       "      <td>0</td>\n",
       "      <td>0</td>\n",
       "      <td>0</td>\n",
       "      <td>0</td>\n",
       "      <td>0</td>\n",
       "      <td>0</td>\n",
       "      <td>0</td>\n",
       "    </tr>\n",
       "    <tr>\n",
       "      <th>7961</th>\n",
       "      <td>2</td>\n",
       "      <td>2014</td>\n",
       "      <td>6</td>\n",
       "      <td>0</td>\n",
       "      <td>0</td>\n",
       "      <td>0</td>\n",
       "      <td>0</td>\n",
       "      <td>0</td>\n",
       "      <td>0</td>\n",
       "      <td>0</td>\n",
       "      <td>...</td>\n",
       "      <td>0</td>\n",
       "      <td>0</td>\n",
       "      <td>0</td>\n",
       "      <td>0</td>\n",
       "      <td>0</td>\n",
       "      <td>0</td>\n",
       "      <td>0</td>\n",
       "      <td>0</td>\n",
       "      <td>0</td>\n",
       "      <td>0</td>\n",
       "    </tr>\n",
       "    <tr>\n",
       "      <th>7967</th>\n",
       "      <td>13</td>\n",
       "      <td>2014</td>\n",
       "      <td>2</td>\n",
       "      <td>0</td>\n",
       "      <td>0</td>\n",
       "      <td>0</td>\n",
       "      <td>0</td>\n",
       "      <td>0</td>\n",
       "      <td>0</td>\n",
       "      <td>0</td>\n",
       "      <td>...</td>\n",
       "      <td>0</td>\n",
       "      <td>0</td>\n",
       "      <td>0</td>\n",
       "      <td>0</td>\n",
       "      <td>0</td>\n",
       "      <td>0</td>\n",
       "      <td>0</td>\n",
       "      <td>0</td>\n",
       "      <td>0</td>\n",
       "      <td>0</td>\n",
       "    </tr>\n",
       "    <tr>\n",
       "      <th>7968</th>\n",
       "      <td>11</td>\n",
       "      <td>2019</td>\n",
       "      <td>4</td>\n",
       "      <td>0</td>\n",
       "      <td>0</td>\n",
       "      <td>0</td>\n",
       "      <td>0</td>\n",
       "      <td>0</td>\n",
       "      <td>0</td>\n",
       "      <td>0</td>\n",
       "      <td>...</td>\n",
       "      <td>0</td>\n",
       "      <td>0</td>\n",
       "      <td>0</td>\n",
       "      <td>0</td>\n",
       "      <td>0</td>\n",
       "      <td>0</td>\n",
       "      <td>0</td>\n",
       "      <td>0</td>\n",
       "      <td>0</td>\n",
       "      <td>0</td>\n",
       "    </tr>\n",
       "  </tbody>\n",
       "</table>\n",
       "<p>6205 rows × 88 columns</p>\n",
       "</div>"
      ],
      "text/plain": [
       "      스크린수  개봉연도  개봉월  흥행  국가_그리스  국가_기타  국가_남아프리카공화국  국가_네덜란드  국가_노르웨이  \\\n",
       "1     1587  2014    7   1       0      0            0        0        0   \n",
       "2     1978  2019    1   1       0      0            0        0        0   \n",
       "3     1912  2017   12   1       0      0            0        0        0   \n",
       "4      966  2014   12   1       0      0            0        0        0   \n",
       "5     2835  2019    4   1       0      0            0        0        0   \n",
       "...    ...   ...  ...  ..     ...    ...          ...      ...      ...   \n",
       "7956    12  2012   11   0       0      0            0        0        0   \n",
       "7960    15  2018    7   0       0      0            0        0        0   \n",
       "7961     2  2014    6   0       0      0            0        0        0   \n",
       "7967    13  2014    2   0       0      0            0        0        0   \n",
       "7968    11  2019    4   0       0      0            0        0        0   \n",
       "\n",
       "      국가_뉴질랜드  ...  장르_범죄  장르_사극  장르_서부극(웨스턴)  장르_스릴러  장르_애니메이션  장르_액션  \\\n",
       "1           0  ...      0      1            0       0         0      0   \n",
       "2           0  ...      0      0            0       0         0      0   \n",
       "3           0  ...      0      0            0       0         0      0   \n",
       "4           0  ...      0      0            0       0         0      0   \n",
       "5           0  ...      0      0            0       0         0      1   \n",
       "...       ...  ...    ...    ...          ...     ...       ...    ...   \n",
       "7956        0  ...      1      0            0       0         0      0   \n",
       "7960        0  ...      0      0            0       0         0      0   \n",
       "7961        0  ...      0      0            0       0         0      0   \n",
       "7967        0  ...      0      0            0       0         0      0   \n",
       "7968        0  ...      0      0            0       0         0      0   \n",
       "\n",
       "      장르_어드벤처  장르_전쟁  장르_코미디  장르_판타지  \n",
       "1           0      0       0       0  \n",
       "2           0      0       1       0  \n",
       "3           0      0       0       1  \n",
       "4           0      0       0       0  \n",
       "5           0      0       0       0  \n",
       "...       ...    ...     ...     ...  \n",
       "7956        0      0       0       0  \n",
       "7960        0      0       0       0  \n",
       "7961        0      0       0       0  \n",
       "7967        0      0       0       0  \n",
       "7968        0      0       0       0  \n",
       "\n",
       "[6205 rows x 88 columns]"
      ]
     },
     "execution_count": 71,
     "metadata": {},
     "output_type": "execute_result"
    }
   ],
   "source": [
    "movie_d = pd.get_dummies(movie_df)\n",
    "movie_d"
   ]
  },
  {
   "cell_type": "code",
   "execution_count": 72,
   "metadata": {
    "ExecuteTime": {
     "end_time": "2021-04-15T14:39:13.465573Z",
     "start_time": "2021-04-15T14:39:13.449616Z"
    }
   },
   "outputs": [],
   "source": [
    "y = movie_d['흥행'].values\n",
    "x = movie_d.drop('흥행',axis=1).values"
   ]
  },
  {
   "cell_type": "code",
   "execution_count": 73,
   "metadata": {
    "ExecuteTime": {
     "end_time": "2021-04-15T14:39:13.477541Z",
     "start_time": "2021-04-15T14:39:13.468565Z"
    }
   },
   "outputs": [
    {
     "data": {
      "text/plain": [
       "array([1, 1, 1, ..., 0, 0, 0])"
      ]
     },
     "execution_count": 73,
     "metadata": {},
     "output_type": "execute_result"
    }
   ],
   "source": [
    "y"
   ]
  },
  {
   "cell_type": "code",
   "execution_count": 74,
   "metadata": {
    "ExecuteTime": {
     "end_time": "2021-04-15T14:39:13.490507Z",
     "start_time": "2021-04-15T14:39:13.481531Z"
    }
   },
   "outputs": [
    {
     "name": "stdout",
     "output_type": "stream",
     "text": [
      "(6205, 87)\n",
      "(6205,)\n"
     ]
    }
   ],
   "source": [
    "print(x.shape)\n",
    "print(y.shape)"
   ]
  },
  {
   "cell_type": "code",
   "execution_count": 75,
   "metadata": {
    "ExecuteTime": {
     "end_time": "2021-04-15T14:39:15.343743Z",
     "start_time": "2021-04-15T14:39:13.494495Z"
    }
   },
   "outputs": [],
   "source": [
    "from sklearn.model_selection import train_test_split"
   ]
  },
  {
   "cell_type": "code",
   "execution_count": 76,
   "metadata": {
    "ExecuteTime": {
     "end_time": "2021-04-15T14:39:15.369907Z",
     "start_time": "2021-04-15T14:39:15.347962Z"
    }
   },
   "outputs": [],
   "source": [
    "x_train, x_test, y_train, y_test = train_test_split(x,y,test_size=0.2,random_state=0)"
   ]
  },
  {
   "cell_type": "code",
   "execution_count": 77,
   "metadata": {
    "ExecuteTime": {
     "end_time": "2021-04-15T14:39:15.387856Z",
     "start_time": "2021-04-15T14:39:15.374891Z"
    }
   },
   "outputs": [
    {
     "name": "stdout",
     "output_type": "stream",
     "text": [
      "(4964, 87)\n",
      "(4964,)\n",
      "(1241, 87)\n",
      "(1241,)\n"
     ]
    }
   ],
   "source": [
    "print(x_train.shape)\n",
    "print(y_train.shape)\n",
    "print(x_test.shape)\n",
    "print(y_test.shape)"
   ]
  },
  {
   "cell_type": "code",
   "execution_count": 78,
   "metadata": {
    "ExecuteTime": {
     "end_time": "2021-04-15T14:39:15.402818Z",
     "start_time": "2021-04-15T14:39:15.396831Z"
    }
   },
   "outputs": [],
   "source": [
    "#스케일링"
   ]
  },
  {
   "cell_type": "code",
   "execution_count": 79,
   "metadata": {
    "ExecuteTime": {
     "end_time": "2021-04-15T14:39:15.447695Z",
     "start_time": "2021-04-15T14:39:15.407802Z"
    }
   },
   "outputs": [],
   "source": [
    "from sklearn.preprocessing import StandardScaler\n",
    "sc = StandardScaler()\n",
    "x_train = sc.fit_transform(x_train)\n",
    "x_test = sc.transform(x_test)"
   ]
  },
  {
   "cell_type": "code",
   "execution_count": 80,
   "metadata": {
    "ExecuteTime": {
     "end_time": "2021-04-15T14:39:16.127826Z",
     "start_time": "2021-04-15T14:39:15.450689Z"
    }
   },
   "outputs": [],
   "source": [
    "from imblearn.over_sampling import SMOTE"
   ]
  },
  {
   "cell_type": "code",
   "execution_count": 81,
   "metadata": {
    "ExecuteTime": {
     "end_time": "2021-04-15T14:39:16.196616Z",
     "start_time": "2021-04-15T14:39:16.132785Z"
    }
   },
   "outputs": [
    {
     "name": "stdout",
     "output_type": "stream",
     "text": [
      "과적합전 \"1\": 651\n",
      "과적합전 \"0\": 4313\n"
     ]
    }
   ],
   "source": [
    "print('과적합전 \"1\": {}'.format(sum(y_train==1)))\n",
    "print('과적합전 \"0\": {}'.format(sum(y_train==0)))"
   ]
  },
  {
   "cell_type": "code",
   "execution_count": 82,
   "metadata": {
    "ExecuteTime": {
     "end_time": "2021-04-15T14:39:16.464761Z",
     "start_time": "2021-04-15T14:39:16.202599Z"
    }
   },
   "outputs": [],
   "source": [
    "sm = SMOTE(random_state=0)\n",
    "x_train_sm, y_train_sm = sm.fit_resample(x_train, y_train.ravel())"
   ]
  },
  {
   "cell_type": "code",
   "execution_count": 83,
   "metadata": {
    "ExecuteTime": {
     "end_time": "2021-04-15T14:39:16.556480Z",
     "start_time": "2021-04-15T14:39:16.468712Z"
    }
   },
   "outputs": [
    {
     "name": "stdout",
     "output_type": "stream",
     "text": [
      "과적합후 x_train: (8626, 87)\n",
      "과적합후 y_train: (8626,)\n",
      "과적합후 \"1\": 4313\n",
      "과적합후 \"0\": 4313\n"
     ]
    }
   ],
   "source": [
    "print('과적합후 x_train: {}'.format(x_train_sm.shape))\n",
    "print('과적합후 y_train: {}'.format(y_train_sm.shape))\n",
    "print('과적합후 \"1\": {}'.format(sum(y_train_sm==1)))\n",
    "print('과적합후 \"0\": {}'.format(sum(y_train_sm==0)))"
   ]
  },
  {
   "cell_type": "code",
   "execution_count": 84,
   "metadata": {
    "ExecuteTime": {
     "end_time": "2021-04-15T14:39:17.661921Z",
     "start_time": "2021-04-15T14:39:16.561464Z"
    }
   },
   "outputs": [],
   "source": [
    "from sklearn.linear_model import LogisticRegression\n",
    "from sklearn.neighbors import KNeighborsClassifier\n",
    "from sklearn.svm import SVC\n",
    "from sklearn.tree import DecisionTreeClassifier\n",
    "from sklearn.ensemble import RandomForestClassifier\n",
    "from xgboost import XGBClassifier"
   ]
  },
  {
   "cell_type": "code",
   "execution_count": 100,
   "metadata": {
    "ExecuteTime": {
     "end_time": "2021-04-16T07:27:39.043318Z",
     "start_time": "2021-04-16T07:27:39.037337Z"
    }
   },
   "outputs": [],
   "source": [
    "from sklearn.metrics import accuracy_score, confusion_matrix, roc_auc_score, precision_score, recall_score, f1_score, classification_report, roc_curve, auc\n",
    "from sklearn.model_selection import cross_val_score"
   ]
  },
  {
   "cell_type": "code",
   "execution_count": 86,
   "metadata": {
    "ExecuteTime": {
     "end_time": "2021-04-15T14:39:17.700817Z",
     "start_time": "2021-04-15T14:39:17.686854Z"
    }
   },
   "outputs": [],
   "source": [
    "models = []\n",
    "models.append(['Logistic Regreesion', LogisticRegression(random_state=0)])\n",
    "models.append(['KNeighbors', KNeighborsClassifier()])\n",
    "models.append(['SVM', SVC(random_state=0)])\n",
    "models.append(['Decision Tree', DecisionTreeClassifier(random_state=0)])\n",
    "models.append(['Random Forest', RandomForestClassifier(random_state=0)])\n",
    "models.append(['XGBoost', XGBClassifier(eval_metric='error')])"
   ]
  },
  {
   "cell_type": "code",
   "execution_count": 87,
   "metadata": {
    "ExecuteTime": {
     "end_time": "2021-04-15T14:41:21.134882Z",
     "start_time": "2021-04-15T14:39:17.705804Z"
    }
   },
   "outputs": [
    {
     "name": "stdout",
     "output_type": "stream",
     "text": [
      "Logistic Regreesion :\n",
      "[[945 139]\n",
      " [ 22 135]]\n",
      "Accuracy Score: 0.8702659145850121\n",
      "\n",
      "K-Fold Validation Mean Accuracy: 90.12 %\n",
      "\n",
      "Standard Deviation: 1.29 %\n",
      "\n",
      "ROC AUC Score: 0.87\n",
      "\n",
      "Precision: 0.49\n",
      "\n",
      "Recall: 0.86\n",
      "\n",
      "F1: 0.63\n",
      "-----------------------------------\n",
      "\n",
      "KNeighbors :\n",
      "[[943 141]\n",
      " [ 28 129]]\n",
      "Accuracy Score: 0.8638195004029009\n",
      "\n",
      "K-Fold Validation Mean Accuracy: 91.76 %\n",
      "\n",
      "Standard Deviation: 0.87 %\n",
      "\n",
      "ROC AUC Score: 0.85\n",
      "\n",
      "Precision: 0.48\n",
      "\n",
      "Recall: 0.82\n",
      "\n",
      "F1: 0.60\n",
      "-----------------------------------\n",
      "\n",
      "SVM :\n",
      "[[946 138]\n",
      " [ 18 139]]\n",
      "Accuracy Score: 0.8742949234488316\n",
      "\n",
      "K-Fold Validation Mean Accuracy: 91.66 %\n",
      "\n",
      "Standard Deviation: 0.94 %\n",
      "\n",
      "ROC AUC Score: 0.88\n",
      "\n",
      "Precision: 0.50\n",
      "\n",
      "Recall: 0.89\n",
      "\n",
      "F1: 0.64\n",
      "-----------------------------------\n",
      "\n",
      "Decision Tree :\n",
      "[[1033   51]\n",
      " [  54  103]]\n",
      "Accuracy Score: 0.9153908138597905\n",
      "\n",
      "K-Fold Validation Mean Accuracy: 94.20 %\n",
      "\n",
      "Standard Deviation: 3.63 %\n",
      "\n",
      "ROC AUC Score: 0.80\n",
      "\n",
      "Precision: 0.67\n",
      "\n",
      "Recall: 0.66\n",
      "\n",
      "F1: 0.66\n",
      "-----------------------------------\n",
      "\n",
      "Random Forest :\n",
      "[[1025   59]\n",
      " [  43  114]]\n",
      "Accuracy Score: 0.9178082191780822\n",
      "\n",
      "K-Fold Validation Mean Accuracy: 95.11 %\n",
      "\n",
      "Standard Deviation: 2.48 %\n",
      "\n",
      "ROC AUC Score: 0.84\n",
      "\n",
      "Precision: 0.66\n",
      "\n",
      "Recall: 0.73\n",
      "\n",
      "F1: 0.69\n",
      "-----------------------------------\n",
      "\n"
     ]
    },
    {
     "name": "stderr",
     "output_type": "stream",
     "text": [
      "C:\\ProgramData\\Anaconda3\\lib\\site-packages\\xgboost\\sklearn.py:892: UserWarning: The use of label encoder in XGBClassifier is deprecated and will be removed in a future release. To remove this warning, do the following: 1) Pass option use_label_encoder=False when constructing XGBClassifier object; and 2) Encode your labels (y) as integers starting with 0, i.e. 0, 1, 2, ..., [num_class - 1].\n",
      "  warnings.warn(label_encoder_deprecation_msg, UserWarning)\n",
      "C:\\ProgramData\\Anaconda3\\lib\\site-packages\\xgboost\\sklearn.py:892: UserWarning: The use of label encoder in XGBClassifier is deprecated and will be removed in a future release. To remove this warning, do the following: 1) Pass option use_label_encoder=False when constructing XGBClassifier object; and 2) Encode your labels (y) as integers starting with 0, i.e. 0, 1, 2, ..., [num_class - 1].\n",
      "  warnings.warn(label_encoder_deprecation_msg, UserWarning)\n"
     ]
    },
    {
     "name": "stdout",
     "output_type": "stream",
     "text": [
      "XGBoost :\n",
      "[[1047   37]\n",
      " [  42  115]]\n",
      "Accuracy Score: 0.9363416599516519\n",
      "\n",
      "K-Fold Validation Mean Accuracy: 95.79 %\n",
      "\n",
      "Standard Deviation: 4.80 %\n",
      "\n",
      "ROC AUC Score: 0.85\n",
      "\n",
      "Precision: 0.76\n",
      "\n",
      "Recall: 0.73\n",
      "\n",
      "F1: 0.74\n",
      "-----------------------------------\n",
      "\n"
     ]
    }
   ],
   "source": [
    "ls_1 = []\n",
    "\n",
    "for i in range(len(models)):\n",
    "    ls_2 = []\n",
    "    model = models[i][1]\n",
    "    model.fit(x_train_sm, y_train_sm)\n",
    "    y_pred = model.predict(x_test)\n",
    "    cm = confusion_matrix(y_test, y_pred)\n",
    "    accuracies = cross_val_score(estimator=model, X=x_train_sm, y=y_train_sm, cv=10)\n",
    "    roc = roc_auc_score(y_test, y_pred)\n",
    "    precision = precision_score(y_test, y_pred)\n",
    "    recall = recall_score(y_test, y_pred)\n",
    "    f1 = f1_score(y_test, y_pred)\n",
    "    print(models[i][0],':')\n",
    "    print(cm)\n",
    "    print('Accuracy Score:', accuracy_score(y_test, y_pred))\n",
    "    print('')\n",
    "    print('K-Fold Validation Mean Accuracy: {:.2f} %'.format(accuracies.mean()*100))\n",
    "    print('')\n",
    "    print(\"Standard Deviation: {:.2f} %\".format(accuracies.std()*100))\n",
    "    print('')\n",
    "    print('ROC AUC Score: {:.2f}'.format(roc))\n",
    "    print('')\n",
    "    print('Precision: {:.2f}'.format(precision))\n",
    "    print('')\n",
    "    print('Recall: {:.2f}'.format(recall))\n",
    "    print('')\n",
    "    print('F1: {:.2f}'.format(f1))\n",
    "    print('-----------------------------------')\n",
    "    print('')\n",
    "    ls_2.append(models[i][0])\n",
    "    ls_2.append((accuracy_score(y_test, y_pred))*100) \n",
    "    ls_2.append(accuracies.mean()*100)\n",
    "    ls_2.append(accuracies.std()*100)\n",
    "    ls_2.append(roc)\n",
    "    ls_2.append(precision)\n",
    "    ls_2.append(recall)\n",
    "    ls_2.append(f1)\n",
    "    ls_1.append(ls_2)"
   ]
  },
  {
   "cell_type": "code",
   "execution_count": 88,
   "metadata": {
    "ExecuteTime": {
     "end_time": "2021-04-15T14:41:21.150839Z",
     "start_time": "2021-04-15T14:41:21.139868Z"
    }
   },
   "outputs": [],
   "source": [
    "df = pd.DataFrame(ls_1, columns=['Model','Accuracy','K-Fold Mean Accuracy', 'Std. Deviation', 'ROC AUC', 'Precision', 'Recall','F1'])"
   ]
  },
  {
   "cell_type": "code",
   "execution_count": 89,
   "metadata": {
    "ExecuteTime": {
     "end_time": "2021-04-15T14:41:21.173778Z",
     "start_time": "2021-04-15T14:41:21.154828Z"
    }
   },
   "outputs": [],
   "source": [
    "df.sort_values(by=['Accuracy', 'K-Fold Mean Accuracy'], inplace=True, ascending=False)"
   ]
  },
  {
   "cell_type": "code",
   "execution_count": 90,
   "metadata": {
    "ExecuteTime": {
     "end_time": "2021-04-15T14:41:21.210677Z",
     "start_time": "2021-04-15T14:41:21.177768Z"
    }
   },
   "outputs": [
    {
     "data": {
      "text/html": [
       "<div>\n",
       "<style scoped>\n",
       "    .dataframe tbody tr th:only-of-type {\n",
       "        vertical-align: middle;\n",
       "    }\n",
       "\n",
       "    .dataframe tbody tr th {\n",
       "        vertical-align: top;\n",
       "    }\n",
       "\n",
       "    .dataframe thead th {\n",
       "        text-align: right;\n",
       "    }\n",
       "</style>\n",
       "<table border=\"1\" class=\"dataframe\">\n",
       "  <thead>\n",
       "    <tr style=\"text-align: right;\">\n",
       "      <th></th>\n",
       "      <th>Model</th>\n",
       "      <th>Accuracy</th>\n",
       "      <th>K-Fold Mean Accuracy</th>\n",
       "      <th>Std. Deviation</th>\n",
       "      <th>ROC AUC</th>\n",
       "      <th>Precision</th>\n",
       "      <th>Recall</th>\n",
       "      <th>F1</th>\n",
       "    </tr>\n",
       "  </thead>\n",
       "  <tbody>\n",
       "    <tr>\n",
       "      <th>5</th>\n",
       "      <td>XGBoost</td>\n",
       "      <td>93.634166</td>\n",
       "      <td>95.792788</td>\n",
       "      <td>4.799949</td>\n",
       "      <td>0.849176</td>\n",
       "      <td>0.756579</td>\n",
       "      <td>0.732484</td>\n",
       "      <td>0.744337</td>\n",
       "    </tr>\n",
       "    <tr>\n",
       "      <th>4</th>\n",
       "      <td>Random Forest</td>\n",
       "      <td>91.780822</td>\n",
       "      <td>95.108455</td>\n",
       "      <td>2.484234</td>\n",
       "      <td>0.835843</td>\n",
       "      <td>0.658960</td>\n",
       "      <td>0.726115</td>\n",
       "      <td>0.690909</td>\n",
       "    </tr>\n",
       "    <tr>\n",
       "      <th>3</th>\n",
       "      <td>Decision Tree</td>\n",
       "      <td>91.539081</td>\n",
       "      <td>94.204187</td>\n",
       "      <td>3.631533</td>\n",
       "      <td>0.804501</td>\n",
       "      <td>0.668831</td>\n",
       "      <td>0.656051</td>\n",
       "      <td>0.662379</td>\n",
       "    </tr>\n",
       "    <tr>\n",
       "      <th>2</th>\n",
       "      <td>SVM</td>\n",
       "      <td>87.429492</td>\n",
       "      <td>91.664888</td>\n",
       "      <td>0.938409</td>\n",
       "      <td>0.879022</td>\n",
       "      <td>0.501805</td>\n",
       "      <td>0.885350</td>\n",
       "      <td>0.640553</td>\n",
       "    </tr>\n",
       "    <tr>\n",
       "      <th>0</th>\n",
       "      <td>Logistic Regreesion</td>\n",
       "      <td>87.026591</td>\n",
       "      <td>90.123174</td>\n",
       "      <td>1.294480</td>\n",
       "      <td>0.865822</td>\n",
       "      <td>0.492701</td>\n",
       "      <td>0.859873</td>\n",
       "      <td>0.626450</td>\n",
       "    </tr>\n",
       "    <tr>\n",
       "      <th>1</th>\n",
       "      <td>KNeighbors</td>\n",
       "      <td>86.381950</td>\n",
       "      <td>91.757426</td>\n",
       "      <td>0.873326</td>\n",
       "      <td>0.845791</td>\n",
       "      <td>0.477778</td>\n",
       "      <td>0.821656</td>\n",
       "      <td>0.604215</td>\n",
       "    </tr>\n",
       "  </tbody>\n",
       "</table>\n",
       "</div>"
      ],
      "text/plain": [
       "                 Model   Accuracy  K-Fold Mean Accuracy  Std. Deviation  \\\n",
       "5              XGBoost  93.634166             95.792788        4.799949   \n",
       "4        Random Forest  91.780822             95.108455        2.484234   \n",
       "3        Decision Tree  91.539081             94.204187        3.631533   \n",
       "2                  SVM  87.429492             91.664888        0.938409   \n",
       "0  Logistic Regreesion  87.026591             90.123174        1.294480   \n",
       "1           KNeighbors  86.381950             91.757426        0.873326   \n",
       "\n",
       "    ROC AUC  Precision    Recall        F1  \n",
       "5  0.849176   0.756579  0.732484  0.744337  \n",
       "4  0.835843   0.658960  0.726115  0.690909  \n",
       "3  0.804501   0.668831  0.656051  0.662379  \n",
       "2  0.879022   0.501805  0.885350  0.640553  \n",
       "0  0.865822   0.492701  0.859873  0.626450  \n",
       "1  0.845791   0.477778  0.821656  0.604215  "
      ]
     },
     "execution_count": 90,
     "metadata": {},
     "output_type": "execute_result"
    }
   ],
   "source": [
    "df"
   ]
  },
  {
   "cell_type": "code",
   "execution_count": 91,
   "metadata": {
    "ExecuteTime": {
     "end_time": "2021-04-15T14:41:21.227634Z",
     "start_time": "2021-04-15T14:41:21.219655Z"
    }
   },
   "outputs": [],
   "source": [
    "from sklearn.model_selection import GridSearchCV"
   ]
  },
  {
   "cell_type": "code",
   "execution_count": 92,
   "metadata": {
    "ExecuteTime": {
     "end_time": "2021-04-15T14:41:21.256556Z",
     "start_time": "2021-04-15T14:41:21.238609Z"
    }
   },
   "outputs": [],
   "source": [
    "grid_models = [(LogisticRegression(),[{'C':[0.25,0.5,0.75,1],'random_state':[0]}]), \n",
    "               (KNeighborsClassifier(),[{'n_neighbors':[5,7,8,10], 'metric': ['euclidean', 'manhattan', 'chebyshev', 'minkowski']}]), \n",
    "               (SVC(),[{'C':[0.25,0.5,0.75,1],'kernel':['linear', 'rbf'],'random_state':[0]}]), \n",
    "               (DecisionTreeClassifier(),[{'criterion':['gini','entropy'],'random_state':[0]}]), \n",
    "               (RandomForestClassifier(),[{'n_estimators':[100,150,200],'criterion':['gini','entropy'],'random_state':[0]}]), \n",
    "               (XGBClassifier(), [{'learning_rate': [0.01, 0.05, 0.1], 'eval_metric': ['error']}])]"
   ]
  },
  {
   "cell_type": "code",
   "execution_count": 93,
   "metadata": {
    "ExecuteTime": {
     "end_time": "2021-04-15T15:02:00.687361Z",
     "start_time": "2021-04-15T14:41:21.260545Z"
    }
   },
   "outputs": [
    {
     "name": "stdout",
     "output_type": "stream",
     "text": [
      "LogisticRegression():\n",
      "Best Accuracy:90.16%\n",
      "Best Parameters: {'C': 0.75, 'random_state': 0}\n",
      "\n",
      "------------------\n",
      "\n",
      "KNeighborsClassifier():\n",
      "Best Accuracy:92.07%\n",
      "Best Parameters: {'metric': 'manhattan', 'n_neighbors': 5}\n",
      "\n",
      "------------------\n",
      "\n",
      "SVC():\n",
      "Best Accuracy:91.66%\n",
      "Best Parameters: {'C': 1, 'kernel': 'rbf', 'random_state': 0}\n",
      "\n",
      "------------------\n",
      "\n",
      "DecisionTreeClassifier():\n",
      "Best Accuracy:94.20%\n",
      "Best Parameters: {'criterion': 'gini', 'random_state': 0}\n",
      "\n",
      "------------------\n",
      "\n",
      "RandomForestClassifier():\n",
      "Best Accuracy:95.44%\n",
      "Best Parameters: {'criterion': 'entropy', 'n_estimators': 200, 'random_state': 0}\n",
      "\n",
      "------------------\n",
      "\n"
     ]
    },
    {
     "name": "stderr",
     "output_type": "stream",
     "text": [
      "C:\\ProgramData\\Anaconda3\\lib\\site-packages\\xgboost\\sklearn.py:892: UserWarning: The use of label encoder in XGBClassifier is deprecated and will be removed in a future release. To remove this warning, do the following: 1) Pass option use_label_encoder=False when constructing XGBClassifier object; and 2) Encode your labels (y) as integers starting with 0, i.e. 0, 1, 2, ..., [num_class - 1].\n",
      "  warnings.warn(label_encoder_deprecation_msg, UserWarning)\n"
     ]
    },
    {
     "name": "stdout",
     "output_type": "stream",
     "text": [
      "XGBClassifier(base_score=None, booster=None, colsample_bylevel=None,\n",
      "              colsample_bynode=None, colsample_bytree=None, gamma=None,\n",
      "              gpu_id=None, importance_type='gain', interaction_constraints=None,\n",
      "              learning_rate=None, max_delta_step=None, max_depth=None,\n",
      "              min_child_weight=None, missing=nan, monotone_constraints=None,\n",
      "              n_estimators=100, n_jobs=None, num_parallel_tree=None,\n",
      "              random_state=None, reg_alpha=None, reg_lambda=None,\n",
      "              scale_pos_weight=None, subsample=None, tree_method=None,\n",
      "              validate_parameters=None, verbosity=None):\n",
      "Best Accuracy:95.85%\n",
      "Best Parameters: {'eval_metric': 'error', 'learning_rate': 0.1}\n",
      "\n",
      "------------------\n",
      "\n"
     ]
    }
   ],
   "source": [
    "for i, j in grid_models:\n",
    "    grid = GridSearchCV(estimator=i, param_grid=j, scoring='accuracy', cv=10)\n",
    "    grid.fit(x_train_sm, y_train_sm)\n",
    "    best_accuracy = grid.best_score_\n",
    "    best_param = grid.best_params_\n",
    "    print('{}:\\nBest Accuracy:{:.2f}%'.format(i,best_accuracy*100))\n",
    "    print('Best Parameters:',best_param)\n",
    "    print('')\n",
    "    print('------------------')\n",
    "    print('')"
   ]
  },
  {
   "cell_type": "code",
   "execution_count": 94,
   "metadata": {
    "ExecuteTime": {
     "end_time": "2021-04-16T07:20:12.491448Z",
     "start_time": "2021-04-16T07:20:12.470537Z"
    }
   },
   "outputs": [],
   "source": [
    "# RandomForest"
   ]
  },
  {
   "cell_type": "code",
   "execution_count": 96,
   "metadata": {
    "ExecuteTime": {
     "end_time": "2021-04-16T07:24:18.103820Z",
     "start_time": "2021-04-16T07:24:14.140852Z"
    }
   },
   "outputs": [
    {
     "name": "stdout",
     "output_type": "stream",
     "text": [
      "              precision    recall  f1-score   support\n",
      "\n",
      "           0       0.96      0.95      0.95      1084\n",
      "           1       0.66      0.73      0.69       157\n",
      "\n",
      "    accuracy                           0.92      1241\n",
      "   macro avg       0.81      0.84      0.82      1241\n",
      "weighted avg       0.92      0.92      0.92      1241\n",
      "\n",
      "ROC AUC Score:0.9309675182739088\n",
      "Accuracy Score: 0.9178082191780822\n"
     ]
    }
   ],
   "source": [
    "classifier = RandomForestClassifier(criterion='entropy', n_estimators=200, random_state=0)\n",
    "classifier.fit(x_train_sm, y_train_sm)\n",
    "y_pred = classifier.predict(x_test)\n",
    "y_prob = classifier.predict_proba(x_test)[:,1]\n",
    "cm = confusion_matrix(y_test, y_pred)\n",
    "\n",
    "print(classification_report(y_test, y_pred))\n",
    "print(f'ROC AUC Score:{roc_auc_score(y_test, y_prob)}')\n",
    "print('Accuracy Score:', accuracy_score(y_test, y_pred))"
   ]
  },
  {
   "cell_type": "code",
   "execution_count": 101,
   "metadata": {
    "ExecuteTime": {
     "end_time": "2021-04-16T07:27:46.590415Z",
     "start_time": "2021-04-16T07:27:46.581439Z"
    }
   },
   "outputs": [],
   "source": [
    "false_positive_rate, true_positive_rate, thresholds = roc_curve(y_test, y_prob)\n",
    "roc_auc = auc(false_positive_rate, true_positive_rate)"
   ]
  },
  {
   "cell_type": "code",
   "execution_count": 103,
   "metadata": {
    "ExecuteTime": {
     "end_time": "2021-04-16T07:29:28.363003Z",
     "start_time": "2021-04-16T07:29:27.972588Z"
    }
   },
   "outputs": [
    {
     "data": {
      "text/plain": [
       "[<matplotlib.lines.Line2D at 0x226ed7aa910>]"
      ]
     },
     "execution_count": 103,
     "metadata": {},
     "output_type": "execute_result"
    },
    {
     "data": {
      "image/png": "[encoded data removed]",
      "text/plain": [
       "<Figure size 576x576 with 1 Axes>"
      ]
     },
     "metadata": {
      "needs_background": "light"
     },
     "output_type": "display_data"
    }
   ],
   "source": [
    "plt.figure(figsize=(8,8))\n",
    "plt.plot(false_positive_rate, true_positive_rate)\n",
    "plt.plot([0,1],[0,1],linestyle='--')"
   ]
  },
  {
   "cell_type": "code",
   "execution_count": 104,
   "metadata": {
    "ExecuteTime": {
     "end_time": "2021-04-16T07:35:16.571428Z",
     "start_time": "2021-04-16T07:35:13.765934Z"
    }
   },
   "outputs": [
    {
     "name": "stderr",
     "output_type": "stream",
     "text": [
      "C:\\ProgramData\\Anaconda3\\lib\\site-packages\\xgboost\\sklearn.py:892: UserWarning: The use of label encoder in XGBClassifier is deprecated and will be removed in a future release. To remove this warning, do the following: 1) Pass option use_label_encoder=False when constructing XGBClassifier object; and 2) Encode your labels (y) as integers starting with 0, i.e. 0, 1, 2, ..., [num_class - 1].\n",
      "  warnings.warn(label_encoder_deprecation_msg, UserWarning)\n"
     ]
    },
    {
     "name": "stdout",
     "output_type": "stream",
     "text": [
      "              precision    recall  f1-score   support\n",
      "\n",
      "           0       0.96      0.96      0.96      1084\n",
      "           1       0.71      0.75      0.73       157\n",
      "\n",
      "    accuracy                           0.93      1241\n",
      "   macro avg       0.84      0.85      0.84      1241\n",
      "weighted avg       0.93      0.93      0.93      1241\n",
      "\n",
      "ROC AUC Score: 0.9632641549345431\n",
      "Accuracy Score: 0.9298952457695407\n"
     ]
    }
   ],
   "source": [
    "classifier = XGBClassifier(eval_metric='error', learning_rate=0.1)\n",
    "classifier.fit(x_train_sm, y_train_sm)\n",
    "y_pred = classifier.predict(x_test)\n",
    "y_prob = classifier.predict_proba(x_test)[:,1]\n",
    "cm = confusion_matrix(y_test, y_pred)\n",
    "\n",
    "print(classification_report(y_test, y_pred))\n",
    "print(f'ROC AUC Score: {roc_auc_score(y_test, y_prob)}')\n",
    "print('Accuracy Score:', accuracy_score(y_test, y_pred))"
   ]
  },
  {
   "cell_type": "code",
   "execution_count": 105,
   "metadata": {
    "ExecuteTime": {
     "end_time": "2021-04-16T07:37:11.962538Z",
     "start_time": "2021-04-16T07:37:11.952568Z"
    }
   },
   "outputs": [],
   "source": [
    "false_positive_rate, true_positive_rate, thresholds = roc_curve(y_test, y_prob)\n",
    "roc_auc = auc(false_positive_rate, true_positive_rate)"
   ]
  },
  {
   "cell_type": "code",
   "execution_count": 106,
   "metadata": {
    "ExecuteTime": {
     "end_time": "2021-04-16T07:37:23.155443Z",
     "start_time": "2021-04-16T07:37:22.845277Z"
    }
   },
   "outputs": [
    {
     "data": {
      "text/plain": [
       "[<matplotlib.lines.Line2D at 0x226ee1e94f0>]"
      ]
     },
     "execution_count": 106,
     "metadata": {},
     "output_type": "execute_result"
    },
    {
     "data": {
      "image/png": "[encoded data removed]",
      "text/plain": [
       "<Figure size 576x576 with 1 Axes>"
      ]
     },
     "metadata": {
      "needs_background": "light"
     },
     "output_type": "display_data"
    }
   ],
   "source": [
    "plt.figure(figsize=(8,8))\n",
    "plt.plot(false_positive_rate, true_positive_rate)\n",
    "plt.plot([0,1],[0,1],linestyle='--')"
   ]
  },
  {
   "cell_type": "code",
   "execution_count": null,
   "metadata": {},
   "outputs": [],
   "source": []
  }
 ],
 "metadata": {
  "kernelspec": {
   "display_name": "Python 3",
   "language": "python",
   "name": "python3"
  },
  "language_info": {
   "codemirror_mode": {
    "name": "ipython",
    "version": 3
   },
   "file_extension": ".py",
   "mimetype": "text/x-python",
   "name": "python",
   "nbconvert_exporter": "python",
   "pygments_lexer": "ipython3",
   "version": "3.8.5"
  },
  "toc": {
   "base_numbering": 1,
   "nav_menu": {},
   "number_sections": true,
   "sideBar": true,
   "skip_h1_title": false,
   "title_cell": "Table of Contents",
   "title_sidebar": "Contents",
   "toc_cell": false,
   "toc_position": {
    "height": "calc(100% - 180px)",
    "left": "10px",
    "top": "150px",
    "width": "307.2px"
   },
   "toc_section_display": true,
   "toc_window_display": false
  },
  "varInspector": {
   "cols": {
    "lenName": 16,
    "lenType": 16,
    "lenVar": 40
   },
   "kernels_config": {
    "python": {
     "delete_cmd_postfix": "",
     "delete_cmd_prefix": "del ",
     "library": "var_list.py",
     "varRefreshCmd": "print(var_dic_list())"
    },
    "r": {
     "delete_cmd_postfix": ") ",
     "delete_cmd_prefix": "rm(",
     "library": "var_list.r",
     "varRefreshCmd": "cat(var_dic_list()) "
    }
   },
   "types_to_exclude": [
    "module",
    "function",
    "builtin_function_or_method",
    "instance",
    "_Feature"
   ],
   "window_display": false
  }
 },
 "nbformat": 4,
 "nbformat_minor": 4
}
