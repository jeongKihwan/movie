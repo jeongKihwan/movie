{
 "cells": [
  {
   "cell_type": "markdown",
   "metadata": {},
   "source": [
    "# 영화 관객수는 어떤것에 영향을 받나"
   ]
  },
  {
   "cell_type": "markdown",
   "metadata": {},
   "source": [
    "## 패키지"
   ]
  },
  {
   "cell_type": "code",
   "execution_count": 1,
   "metadata": {
    "ExecuteTime": {
     "end_time": "2021-04-16T14:39:01.965960Z",
     "start_time": "2021-04-16T14:38:58.053763Z"
    }
   },
   "outputs": [],
   "source": [
    "import pandas as pd\n",
    "import numpy as np\n",
    "import matplotlib.pyplot as plt\n",
    "import seaborn as sns"
   ]
  },
  {
   "cell_type": "code",
   "execution_count": 2,
   "metadata": {
    "ExecuteTime": {
     "end_time": "2021-04-16T14:39:01.988907Z",
     "start_time": "2021-04-16T14:39:01.969960Z"
    }
   },
   "outputs": [],
   "source": [
    "import matplotlib as mpl\n",
    "import matplotlib.font_manager as fm\n",
    "mpl.rcParams['axes.unicode_minus']= False\n",
    "path = 'C:/Windows/Fonts/malgun.ttf'\n",
    "font_name = fm.FontProperties(fname = path, size = 50).get_name()\n",
    "plt.rc('font', family=font_name)"
   ]
  },
  {
   "cell_type": "markdown",
   "metadata": {},
   "source": [
    "## 전처리"
   ]
  },
  {
   "cell_type": "code",
   "execution_count": 3,
   "metadata": {
    "ExecuteTime": {
     "end_time": "2021-04-16T14:39:08.665375Z",
     "start_time": "2021-04-16T14:39:01.992898Z"
    }
   },
   "outputs": [],
   "source": [
    "df = pd.read_excel('data/영화개봉.xlsx')"
   ]
  },
  {
   "cell_type": "code",
   "execution_count": 4,
   "metadata": {
    "ExecuteTime": {
     "end_time": "2021-04-16T14:39:08.729203Z",
     "start_time": "2021-04-16T14:39:08.668399Z"
    }
   },
   "outputs": [
    {
     "data": {
      "text/html": [
       "<div>\n",
       "<style scoped>\n",
       "    .dataframe tbody tr th:only-of-type {\n",
       "        vertical-align: middle;\n",
       "    }\n",
       "\n",
       "    .dataframe tbody tr th {\n",
       "        vertical-align: top;\n",
       "    }\n",
       "\n",
       "    .dataframe thead th {\n",
       "        text-align: right;\n",
       "    }\n",
       "</style>\n",
       "<table border=\"1\" class=\"dataframe\">\n",
       "  <thead>\n",
       "    <tr style=\"text-align: right;\">\n",
       "      <th></th>\n",
       "      <th>순번</th>\n",
       "      <th>영화명</th>\n",
       "      <th>감독</th>\n",
       "      <th>제작사</th>\n",
       "      <th>수입사</th>\n",
       "      <th>배급사</th>\n",
       "      <th>개봉일</th>\n",
       "      <th>영화유형</th>\n",
       "      <th>영화형태</th>\n",
       "      <th>국적</th>\n",
       "      <th>전국</th>\n",
       "      <th>전국.1</th>\n",
       "      <th>전국.2</th>\n",
       "      <th>서울</th>\n",
       "      <th>서울.1</th>\n",
       "      <th>장르</th>\n",
       "      <th>등급</th>\n",
       "      <th>영화구분</th>\n",
       "    </tr>\n",
       "  </thead>\n",
       "  <tbody>\n",
       "    <tr>\n",
       "      <th>0</th>\n",
       "      <td>NaN</td>\n",
       "      <td>NaN</td>\n",
       "      <td>NaN</td>\n",
       "      <td>NaN</td>\n",
       "      <td>NaN</td>\n",
       "      <td>NaN</td>\n",
       "      <td>NaT</td>\n",
       "      <td>NaN</td>\n",
       "      <td>NaN</td>\n",
       "      <td>NaN</td>\n",
       "      <td>스크린수</td>\n",
       "      <td>매출액</td>\n",
       "      <td>관객수</td>\n",
       "      <td>매출액</td>\n",
       "      <td>관객수</td>\n",
       "      <td>NaN</td>\n",
       "      <td>NaN</td>\n",
       "      <td>NaN</td>\n",
       "    </tr>\n",
       "    <tr>\n",
       "      <th>1</th>\n",
       "      <td>1.0</td>\n",
       "      <td>명량</td>\n",
       "      <td>김한민</td>\n",
       "      <td>(주)빅스톤픽쳐스</td>\n",
       "      <td>NaN</td>\n",
       "      <td>씨제이이앤엠(주)</td>\n",
       "      <td>2014-07-30</td>\n",
       "      <td>개봉영화</td>\n",
       "      <td>장편</td>\n",
       "      <td>한국</td>\n",
       "      <td>1587</td>\n",
       "      <td>135748398910</td>\n",
       "      <td>17613682</td>\n",
       "      <td>33121225810</td>\n",
       "      <td>4163666</td>\n",
       "      <td>사극</td>\n",
       "      <td>15세이상관람가</td>\n",
       "      <td>일반영화</td>\n",
       "    </tr>\n",
       "    <tr>\n",
       "      <th>2</th>\n",
       "      <td>2.0</td>\n",
       "      <td>극한직업</td>\n",
       "      <td>이병헌</td>\n",
       "      <td>(주)어바웃필름,영화사 해그림 주식회사,씨제이이앤엠(주)</td>\n",
       "      <td>NaN</td>\n",
       "      <td>씨제이이앤엠(주)</td>\n",
       "      <td>2019-01-23</td>\n",
       "      <td>개봉영화</td>\n",
       "      <td>장편</td>\n",
       "      <td>한국</td>\n",
       "      <td>1978</td>\n",
       "      <td>139647979516</td>\n",
       "      <td>16264944</td>\n",
       "      <td>31858660536</td>\n",
       "      <td>3638287</td>\n",
       "      <td>코미디</td>\n",
       "      <td>15세이상관람가</td>\n",
       "      <td>일반영화</td>\n",
       "    </tr>\n",
       "  </tbody>\n",
       "</table>\n",
       "</div>"
      ],
      "text/plain": [
       "    순번   영화명   감독                              제작사  수입사        배급사        개봉일  \\\n",
       "0  NaN   NaN  NaN                              NaN  NaN        NaN        NaT   \n",
       "1  1.0    명량  김한민                        (주)빅스톤픽쳐스  NaN  씨제이이앤엠(주) 2014-07-30   \n",
       "2  2.0  극한직업  이병헌  (주)어바웃필름,영화사 해그림 주식회사,씨제이이앤엠(주)  NaN  씨제이이앤엠(주) 2019-01-23   \n",
       "\n",
       "   영화유형 영화형태   국적    전국          전국.1      전국.2           서울     서울.1   장르  \\\n",
       "0   NaN  NaN  NaN  스크린수           매출액       관객수          매출액      관객수  NaN   \n",
       "1  개봉영화   장편   한국  1587  135748398910  17613682  33121225810  4163666   사극   \n",
       "2  개봉영화   장편   한국  1978  139647979516  16264944  31858660536  3638287  코미디   \n",
       "\n",
       "         등급  영화구분  \n",
       "0       NaN   NaN  \n",
       "1  15세이상관람가  일반영화  \n",
       "2  15세이상관람가  일반영화  "
      ]
     },
     "execution_count": 4,
     "metadata": {},
     "output_type": "execute_result"
    }
   ],
   "source": [
    "df.head(3)"
   ]
  },
  {
   "cell_type": "code",
   "execution_count": 5,
   "metadata": {
    "ExecuteTime": {
     "end_time": "2021-04-16T14:39:08.791039Z",
     "start_time": "2021-04-16T14:39:08.733192Z"
    }
   },
   "outputs": [
    {
     "name": "stdout",
     "output_type": "stream",
     "text": [
      "<class 'pandas.core.frame.DataFrame'>\n",
      "RangeIndex: 16786 entries, 0 to 16785\n",
      "Data columns (total 18 columns):\n",
      " #   Column  Non-Null Count  Dtype         \n",
      "---  ------  --------------  -----         \n",
      " 0   순번      16785 non-null  float64       \n",
      " 1   영화명     16785 non-null  object        \n",
      " 2   감독      16100 non-null  object        \n",
      " 3   제작사     5896 non-null   object        \n",
      " 4   수입사     11506 non-null  object        \n",
      " 5   배급사     16226 non-null  object        \n",
      " 6   개봉일     16775 non-null  datetime64[ns]\n",
      " 7   영화유형    16785 non-null  object        \n",
      " 8   영화형태    16784 non-null  object        \n",
      " 9   국적      16784 non-null  object        \n",
      " 10  전국      16786 non-null  object        \n",
      " 11  전국.1    16664 non-null  object        \n",
      " 12  전국.2    16786 non-null  object        \n",
      " 13  서울      16658 non-null  object        \n",
      " 14  서울.1    16786 non-null  object        \n",
      " 15  장르      16705 non-null  object        \n",
      " 16  등급      16769 non-null  object        \n",
      " 17  영화구분    16785 non-null  object        \n",
      "dtypes: datetime64[ns](1), float64(1), object(16)\n",
      "memory usage: 2.3+ MB\n"
     ]
    }
   ],
   "source": [
    "df.info()"
   ]
  },
  {
   "cell_type": "code",
   "execution_count": 6,
   "metadata": {
    "ExecuteTime": {
     "end_time": "2021-04-16T14:39:13.202274Z",
     "start_time": "2021-04-16T14:39:08.793031Z"
    }
   },
   "outputs": [],
   "source": [
    "df1 = pd.read_excel('data/영화정보.xlsx')"
   ]
  },
  {
   "cell_type": "code",
   "execution_count": 7,
   "metadata": {
    "ExecuteTime": {
     "end_time": "2021-04-16T14:39:13.239881Z",
     "start_time": "2021-04-16T14:39:13.209963Z"
    }
   },
   "outputs": [
    {
     "data": {
      "text/html": [
       "<div>\n",
       "<style scoped>\n",
       "    .dataframe tbody tr th:only-of-type {\n",
       "        vertical-align: middle;\n",
       "    }\n",
       "\n",
       "    .dataframe tbody tr th {\n",
       "        vertical-align: top;\n",
       "    }\n",
       "\n",
       "    .dataframe thead th {\n",
       "        text-align: right;\n",
       "    }\n",
       "</style>\n",
       "<table border=\"1\" class=\"dataframe\">\n",
       "  <thead>\n",
       "    <tr style=\"text-align: right;\">\n",
       "      <th></th>\n",
       "      <th>영화명</th>\n",
       "      <th>영화명(영문)</th>\n",
       "      <th>제작연도</th>\n",
       "      <th>제작국가</th>\n",
       "      <th>유형</th>\n",
       "      <th>장르</th>\n",
       "      <th>제작상태</th>\n",
       "      <th>감독</th>\n",
       "      <th>제작사</th>\n",
       "    </tr>\n",
       "  </thead>\n",
       "  <tbody>\n",
       "    <tr>\n",
       "      <th>0</th>\n",
       "      <td>엽기적인 그녀</td>\n",
       "      <td>My Sassy Girl</td>\n",
       "      <td>2001.0</td>\n",
       "      <td>한국</td>\n",
       "      <td>장편</td>\n",
       "      <td>코미디</td>\n",
       "      <td>개봉</td>\n",
       "      <td>곽재용</td>\n",
       "      <td>(주)신씨네</td>\n",
       "    </tr>\n",
       "    <tr>\n",
       "      <th>1</th>\n",
       "      <td>이웃사촌</td>\n",
       "      <td>Best Friend</td>\n",
       "      <td>2020.0</td>\n",
       "      <td>한국</td>\n",
       "      <td>장편</td>\n",
       "      <td>드라마,코미디</td>\n",
       "      <td>개봉</td>\n",
       "      <td>이환경</td>\n",
       "      <td>(주)시네마허브,환타지엔터테인먼트</td>\n",
       "    </tr>\n",
       "    <tr>\n",
       "      <th>2</th>\n",
       "      <td>다시 만난 날들</td>\n",
       "      <td>Da Capo</td>\n",
       "      <td>2019.0</td>\n",
       "      <td>한국</td>\n",
       "      <td>장편</td>\n",
       "      <td>뮤지컬,드라마,멜로/로맨스</td>\n",
       "      <td>개봉</td>\n",
       "      <td>심찬양</td>\n",
       "      <td>(주)푸른나무픽쳐스</td>\n",
       "    </tr>\n",
       "  </tbody>\n",
       "</table>\n",
       "</div>"
      ],
      "text/plain": [
       "        영화명        영화명(영문)    제작연도 제작국가  유형              장르 제작상태   감독  \\\n",
       "0   엽기적인 그녀  My Sassy Girl  2001.0   한국  장편             코미디   개봉  곽재용   \n",
       "1      이웃사촌    Best Friend  2020.0   한국  장편         드라마,코미디   개봉  이환경   \n",
       "2  다시 만난 날들        Da Capo  2019.0   한국  장편  뮤지컬,드라마,멜로/로맨스   개봉  심찬양   \n",
       "\n",
       "                  제작사  \n",
       "0              (주)신씨네  \n",
       "1  (주)시네마허브,환타지엔터테인먼트  \n",
       "2          (주)푸른나무픽쳐스  "
      ]
     },
     "execution_count": 7,
     "metadata": {},
     "output_type": "execute_result"
    }
   ],
   "source": [
    "df1.head(3)"
   ]
  },
  {
   "cell_type": "code",
   "execution_count": 8,
   "metadata": {
    "ExecuteTime": {
     "end_time": "2021-04-16T14:39:13.307699Z",
     "start_time": "2021-04-16T14:39:13.245867Z"
    }
   },
   "outputs": [
    {
     "name": "stdout",
     "output_type": "stream",
     "text": [
      "<class 'pandas.core.frame.DataFrame'>\n",
      "RangeIndex: 18072 entries, 0 to 18071\n",
      "Data columns (total 9 columns):\n",
      " #   Column   Non-Null Count  Dtype  \n",
      "---  ------   --------------  -----  \n",
      " 0   영화명      18072 non-null  object \n",
      " 1   영화명(영문)  15325 non-null  object \n",
      " 2   제작연도     17494 non-null  float64\n",
      " 3   제작국가     18039 non-null  object \n",
      " 4   유형       18069 non-null  object \n",
      " 5   장르       17879 non-null  object \n",
      " 6   제작상태     17927 non-null  object \n",
      " 7   감독       16427 non-null  object \n",
      " 8   제작사      5966 non-null   object \n",
      "dtypes: float64(1), object(8)\n",
      "memory usage: 1.2+ MB\n"
     ]
    }
   ],
   "source": [
    "df1.info()"
   ]
  },
  {
   "cell_type": "code",
   "execution_count": 9,
   "metadata": {
    "ExecuteTime": {
     "end_time": "2021-04-16T14:39:13.429376Z",
     "start_time": "2021-04-16T14:39:13.310695Z"
    }
   },
   "outputs": [],
   "source": [
    "movie = pd.merge(df,df1,how='outer',on='영화명')\n",
    "movie.drop(['순번','감독_y','제작사_y','배급사','영화유형','영화형태','전국.1','서울','서울.1','장르_x','영화구분','제작연도','유형','제작상태','영화명(영문)','제작국가','수입사'],axis=1,inplace=True)"
   ]
  },
  {
   "cell_type": "code",
   "execution_count": 10,
   "metadata": {
    "ExecuteTime": {
     "end_time": "2021-04-16T14:39:13.463287Z",
     "start_time": "2021-04-16T14:39:13.432368Z"
    }
   },
   "outputs": [
    {
     "data": {
      "text/html": [
       "<div>\n",
       "<style scoped>\n",
       "    .dataframe tbody tr th:only-of-type {\n",
       "        vertical-align: middle;\n",
       "    }\n",
       "\n",
       "    .dataframe tbody tr th {\n",
       "        vertical-align: top;\n",
       "    }\n",
       "\n",
       "    .dataframe thead th {\n",
       "        text-align: right;\n",
       "    }\n",
       "</style>\n",
       "<table border=\"1\" class=\"dataframe\">\n",
       "  <thead>\n",
       "    <tr style=\"text-align: right;\">\n",
       "      <th></th>\n",
       "      <th>영화명</th>\n",
       "      <th>감독_x</th>\n",
       "      <th>제작사_x</th>\n",
       "      <th>개봉일</th>\n",
       "      <th>국적</th>\n",
       "      <th>전국</th>\n",
       "      <th>전국.2</th>\n",
       "      <th>등급</th>\n",
       "      <th>장르_y</th>\n",
       "    </tr>\n",
       "  </thead>\n",
       "  <tbody>\n",
       "    <tr>\n",
       "      <th>0</th>\n",
       "      <td>NaN</td>\n",
       "      <td>NaN</td>\n",
       "      <td>NaN</td>\n",
       "      <td>NaT</td>\n",
       "      <td>NaN</td>\n",
       "      <td>스크린수</td>\n",
       "      <td>관객수</td>\n",
       "      <td>NaN</td>\n",
       "      <td>NaN</td>\n",
       "    </tr>\n",
       "    <tr>\n",
       "      <th>1</th>\n",
       "      <td>명량</td>\n",
       "      <td>김한민</td>\n",
       "      <td>(주)빅스톤픽쳐스</td>\n",
       "      <td>2014-07-30</td>\n",
       "      <td>한국</td>\n",
       "      <td>1587</td>\n",
       "      <td>17613682</td>\n",
       "      <td>15세이상관람가</td>\n",
       "      <td>사극,액션</td>\n",
       "    </tr>\n",
       "    <tr>\n",
       "      <th>2</th>\n",
       "      <td>극한직업</td>\n",
       "      <td>이병헌</td>\n",
       "      <td>(주)어바웃필름,영화사 해그림 주식회사,씨제이이앤엠(주)</td>\n",
       "      <td>2019-01-23</td>\n",
       "      <td>한국</td>\n",
       "      <td>1978</td>\n",
       "      <td>16264944</td>\n",
       "      <td>15세이상관람가</td>\n",
       "      <td>코미디</td>\n",
       "    </tr>\n",
       "    <tr>\n",
       "      <th>3</th>\n",
       "      <td>신과함께-죄와 벌</td>\n",
       "      <td>김용화</td>\n",
       "      <td>리얼라이즈픽쳐스(주),(주)덱스터스튜디오</td>\n",
       "      <td>2017-12-20</td>\n",
       "      <td>한국</td>\n",
       "      <td>1912</td>\n",
       "      <td>14410754</td>\n",
       "      <td>12세이상관람가</td>\n",
       "      <td>판타지,드라마</td>\n",
       "    </tr>\n",
       "    <tr>\n",
       "      <th>4</th>\n",
       "      <td>국제시장</td>\n",
       "      <td>윤제균</td>\n",
       "      <td>(주)제이케이필름,씨제이이앤엠(주)</td>\n",
       "      <td>2014-12-17</td>\n",
       "      <td>한국</td>\n",
       "      <td>966</td>\n",
       "      <td>14245998</td>\n",
       "      <td>12세이상관람가</td>\n",
       "      <td>드라마</td>\n",
       "    </tr>\n",
       "    <tr>\n",
       "      <th>5</th>\n",
       "      <td>어벤져스: 엔드게임</td>\n",
       "      <td>안소니 루소,조 루소</td>\n",
       "      <td>NaN</td>\n",
       "      <td>2019-04-24</td>\n",
       "      <td>미국</td>\n",
       "      <td>2835</td>\n",
       "      <td>13934592</td>\n",
       "      <td>12세이상관람가</td>\n",
       "      <td>액션,SF</td>\n",
       "    </tr>\n",
       "    <tr>\n",
       "      <th>6</th>\n",
       "      <td>겨울왕국 2</td>\n",
       "      <td>크리스 벅,제니퍼 리</td>\n",
       "      <td>NaN</td>\n",
       "      <td>2019-11-21</td>\n",
       "      <td>미국</td>\n",
       "      <td>2648</td>\n",
       "      <td>13747792</td>\n",
       "      <td>전체관람가</td>\n",
       "      <td>애니메이션</td>\n",
       "    </tr>\n",
       "    <tr>\n",
       "      <th>7</th>\n",
       "      <td>아바타</td>\n",
       "      <td>제임스 카메론</td>\n",
       "      <td>이십세기폭스필름코퍼레이션</td>\n",
       "      <td>2009-12-17</td>\n",
       "      <td>미국</td>\n",
       "      <td>912</td>\n",
       "      <td>13624328</td>\n",
       "      <td>12세이상관람가</td>\n",
       "      <td>SF,액션,어드벤처</td>\n",
       "    </tr>\n",
       "    <tr>\n",
       "      <th>8</th>\n",
       "      <td>베테랑</td>\n",
       "      <td>류승완</td>\n",
       "      <td>(주)외유내강,(주)필름케이</td>\n",
       "      <td>2015-08-05</td>\n",
       "      <td>한국</td>\n",
       "      <td>1064</td>\n",
       "      <td>13395400</td>\n",
       "      <td>15세이상관람가</td>\n",
       "      <td>액션,드라마</td>\n",
       "    </tr>\n",
       "    <tr>\n",
       "      <th>9</th>\n",
       "      <td>괴물</td>\n",
       "      <td>봉준호</td>\n",
       "      <td>영화사청어람(주)</td>\n",
       "      <td>2006-07-27</td>\n",
       "      <td>한국</td>\n",
       "      <td>0</td>\n",
       "      <td>13019740</td>\n",
       "      <td>12세관람가</td>\n",
       "      <td>SF,가족,드라마</td>\n",
       "    </tr>\n",
       "  </tbody>\n",
       "</table>\n",
       "</div>"
      ],
      "text/plain": [
       "          영화명         감독_x                            제작사_x        개봉일   국적  \\\n",
       "0         NaN          NaN                              NaN        NaT  NaN   \n",
       "1          명량          김한민                        (주)빅스톤픽쳐스 2014-07-30   한국   \n",
       "2        극한직업          이병헌  (주)어바웃필름,영화사 해그림 주식회사,씨제이이앤엠(주) 2019-01-23   한국   \n",
       "3   신과함께-죄와 벌          김용화           리얼라이즈픽쳐스(주),(주)덱스터스튜디오 2017-12-20   한국   \n",
       "4        국제시장          윤제균              (주)제이케이필름,씨제이이앤엠(주) 2014-12-17   한국   \n",
       "5  어벤져스: 엔드게임  안소니 루소,조 루소                              NaN 2019-04-24   미국   \n",
       "6      겨울왕국 2  크리스 벅,제니퍼 리                              NaN 2019-11-21   미국   \n",
       "7         아바타      제임스 카메론                    이십세기폭스필름코퍼레이션 2009-12-17   미국   \n",
       "8         베테랑          류승완                  (주)외유내강,(주)필름케이 2015-08-05   한국   \n",
       "9          괴물          봉준호                        영화사청어람(주) 2006-07-27   한국   \n",
       "\n",
       "     전국      전국.2        등급        장르_y  \n",
       "0  스크린수       관객수       NaN         NaN  \n",
       "1  1587  17613682  15세이상관람가       사극,액션  \n",
       "2  1978  16264944  15세이상관람가         코미디  \n",
       "3  1912  14410754  12세이상관람가     판타지,드라마  \n",
       "4   966  14245998  12세이상관람가         드라마  \n",
       "5  2835  13934592  12세이상관람가       액션,SF  \n",
       "6  2648  13747792     전체관람가       애니메이션  \n",
       "7   912  13624328  12세이상관람가  SF,액션,어드벤처  \n",
       "8  1064  13395400  15세이상관람가      액션,드라마  \n",
       "9     0  13019740    12세관람가   SF,가족,드라마  "
      ]
     },
     "execution_count": 10,
     "metadata": {},
     "output_type": "execute_result"
    }
   ],
   "source": [
    "movie.head(10)"
   ]
  },
  {
   "cell_type": "code",
   "execution_count": 11,
   "metadata": {
    "ExecuteTime": {
     "end_time": "2021-04-16T14:39:13.489215Z",
     "start_time": "2021-04-16T14:39:13.468271Z"
    }
   },
   "outputs": [],
   "source": [
    "movie.rename(columns={'감독_x':'감독','제작사_x':'제작사','국적':'국가','전국':'스크린수','전국.2':'관객수','장르_y':'장르'},inplace=True)"
   ]
  },
  {
   "cell_type": "code",
   "execution_count": 12,
   "metadata": {
    "ExecuteTime": {
     "end_time": "2021-04-16T14:39:13.514149Z",
     "start_time": "2021-04-16T14:39:13.494202Z"
    }
   },
   "outputs": [],
   "source": [
    "movie.drop('제작사',axis=1,inplace=True)"
   ]
  },
  {
   "cell_type": "code",
   "execution_count": 13,
   "metadata": {
    "ExecuteTime": {
     "end_time": "2021-04-16T14:39:13.569001Z",
     "start_time": "2021-04-16T14:39:13.519134Z"
    }
   },
   "outputs": [
    {
     "data": {
      "text/html": [
       "<div>\n",
       "<style scoped>\n",
       "    .dataframe tbody tr th:only-of-type {\n",
       "        vertical-align: middle;\n",
       "    }\n",
       "\n",
       "    .dataframe tbody tr th {\n",
       "        vertical-align: top;\n",
       "    }\n",
       "\n",
       "    .dataframe thead th {\n",
       "        text-align: right;\n",
       "    }\n",
       "</style>\n",
       "<table border=\"1\" class=\"dataframe\">\n",
       "  <thead>\n",
       "    <tr style=\"text-align: right;\">\n",
       "      <th></th>\n",
       "      <th>영화명</th>\n",
       "      <th>감독</th>\n",
       "      <th>개봉일</th>\n",
       "      <th>국가</th>\n",
       "      <th>스크린수</th>\n",
       "      <th>관객수</th>\n",
       "      <th>등급</th>\n",
       "      <th>장르</th>\n",
       "    </tr>\n",
       "  </thead>\n",
       "  <tbody>\n",
       "    <tr>\n",
       "      <th>0</th>\n",
       "      <td>NaN</td>\n",
       "      <td>NaN</td>\n",
       "      <td>NaT</td>\n",
       "      <td>NaN</td>\n",
       "      <td>스크린수</td>\n",
       "      <td>관객수</td>\n",
       "      <td>NaN</td>\n",
       "      <td>NaN</td>\n",
       "    </tr>\n",
       "    <tr>\n",
       "      <th>1</th>\n",
       "      <td>명량</td>\n",
       "      <td>김한민</td>\n",
       "      <td>2014-07-30</td>\n",
       "      <td>한국</td>\n",
       "      <td>1587</td>\n",
       "      <td>17613682</td>\n",
       "      <td>15세이상관람가</td>\n",
       "      <td>사극,액션</td>\n",
       "    </tr>\n",
       "    <tr>\n",
       "      <th>2</th>\n",
       "      <td>극한직업</td>\n",
       "      <td>이병헌</td>\n",
       "      <td>2019-01-23</td>\n",
       "      <td>한국</td>\n",
       "      <td>1978</td>\n",
       "      <td>16264944</td>\n",
       "      <td>15세이상관람가</td>\n",
       "      <td>코미디</td>\n",
       "    </tr>\n",
       "    <tr>\n",
       "      <th>3</th>\n",
       "      <td>신과함께-죄와 벌</td>\n",
       "      <td>김용화</td>\n",
       "      <td>2017-12-20</td>\n",
       "      <td>한국</td>\n",
       "      <td>1912</td>\n",
       "      <td>14410754</td>\n",
       "      <td>12세이상관람가</td>\n",
       "      <td>판타지,드라마</td>\n",
       "    </tr>\n",
       "    <tr>\n",
       "      <th>4</th>\n",
       "      <td>국제시장</td>\n",
       "      <td>윤제균</td>\n",
       "      <td>2014-12-17</td>\n",
       "      <td>한국</td>\n",
       "      <td>966</td>\n",
       "      <td>14245998</td>\n",
       "      <td>12세이상관람가</td>\n",
       "      <td>드라마</td>\n",
       "    </tr>\n",
       "    <tr>\n",
       "      <th>...</th>\n",
       "      <td>...</td>\n",
       "      <td>...</td>\n",
       "      <td>...</td>\n",
       "      <td>...</td>\n",
       "      <td>...</td>\n",
       "      <td>...</td>\n",
       "      <td>...</td>\n",
       "      <td>...</td>\n",
       "    </tr>\n",
       "    <tr>\n",
       "      <th>19296</th>\n",
       "      <td>2005년 미장센 단편영화제</td>\n",
       "      <td>NaN</td>\n",
       "      <td>NaT</td>\n",
       "      <td>NaN</td>\n",
       "      <td>NaN</td>\n",
       "      <td>NaN</td>\n",
       "      <td>NaN</td>\n",
       "      <td>NaN</td>\n",
       "    </tr>\n",
       "    <tr>\n",
       "      <th>19297</th>\n",
       "      <td>서울독립영화제2005</td>\n",
       "      <td>NaN</td>\n",
       "      <td>NaT</td>\n",
       "      <td>NaN</td>\n",
       "      <td>NaN</td>\n",
       "      <td>NaN</td>\n",
       "      <td>NaN</td>\n",
       "      <td>NaN</td>\n",
       "    </tr>\n",
       "    <tr>\n",
       "      <th>19298</th>\n",
       "      <td>제6회 서울유럽영화제[2005.10.26-10.30]</td>\n",
       "      <td>NaN</td>\n",
       "      <td>NaT</td>\n",
       "      <td>NaN</td>\n",
       "      <td>NaN</td>\n",
       "      <td>NaN</td>\n",
       "      <td>NaN</td>\n",
       "      <td>NaN</td>\n",
       "    </tr>\n",
       "    <tr>\n",
       "      <th>19299</th>\n",
       "      <td>CJ 아시아인디영화제[2005.11.3-11.8]</td>\n",
       "      <td>NaN</td>\n",
       "      <td>NaT</td>\n",
       "      <td>NaN</td>\n",
       "      <td>NaN</td>\n",
       "      <td>NaN</td>\n",
       "      <td>NaN</td>\n",
       "      <td>NaN</td>\n",
       "    </tr>\n",
       "    <tr>\n",
       "      <th>19300</th>\n",
       "      <td>제2회 서울환경영화제[2005.9.8-9.14]</td>\n",
       "      <td>NaN</td>\n",
       "      <td>NaT</td>\n",
       "      <td>NaN</td>\n",
       "      <td>NaN</td>\n",
       "      <td>NaN</td>\n",
       "      <td>NaN</td>\n",
       "      <td>NaN</td>\n",
       "    </tr>\n",
       "  </tbody>\n",
       "</table>\n",
       "<p>19301 rows × 8 columns</p>\n",
       "</div>"
      ],
      "text/plain": [
       "                                 영화명   감독        개봉일   국가  스크린수       관객수  \\\n",
       "0                                NaN  NaN        NaT  NaN  스크린수       관객수   \n",
       "1                                 명량  김한민 2014-07-30   한국  1587  17613682   \n",
       "2                               극한직업  이병헌 2019-01-23   한국  1978  16264944   \n",
       "3                          신과함께-죄와 벌  김용화 2017-12-20   한국  1912  14410754   \n",
       "4                               국제시장  윤제균 2014-12-17   한국   966  14245998   \n",
       "...                              ...  ...        ...  ...   ...       ...   \n",
       "19296               2005년 미장센 단편영화제   NaN        NaT  NaN   NaN       NaN   \n",
       "19297                   서울독립영화제2005   NaN        NaT  NaN   NaN       NaN   \n",
       "19298  제6회 서울유럽영화제[2005.10.26-10.30]  NaN        NaT  NaN   NaN       NaN   \n",
       "19299    CJ 아시아인디영화제[2005.11.3-11.8]  NaN        NaT  NaN   NaN       NaN   \n",
       "19300     제2회 서울환경영화제[2005.9.8-9.14]  NaN        NaT  NaN   NaN       NaN   \n",
       "\n",
       "             등급       장르  \n",
       "0           NaN      NaN  \n",
       "1      15세이상관람가    사극,액션  \n",
       "2      15세이상관람가      코미디  \n",
       "3      12세이상관람가  판타지,드라마  \n",
       "4      12세이상관람가      드라마  \n",
       "...         ...      ...  \n",
       "19296       NaN      NaN  \n",
       "19297       NaN      NaN  \n",
       "19298       NaN      NaN  \n",
       "19299       NaN      NaN  \n",
       "19300       NaN      NaN  \n",
       "\n",
       "[19301 rows x 8 columns]"
      ]
     },
     "execution_count": 13,
     "metadata": {},
     "output_type": "execute_result"
    }
   ],
   "source": [
    "movie"
   ]
  },
  {
   "cell_type": "code",
   "execution_count": 14,
   "metadata": {
    "ExecuteTime": {
     "end_time": "2021-04-16T14:39:13.596925Z",
     "start_time": "2021-04-16T14:39:13.574986Z"
    }
   },
   "outputs": [],
   "source": [
    "movie.drop(0,inplace=True)"
   ]
  },
  {
   "cell_type": "code",
   "execution_count": 15,
   "metadata": {
    "ExecuteTime": {
     "end_time": "2021-04-16T14:39:13.626848Z",
     "start_time": "2021-04-16T14:39:13.600916Z"
    }
   },
   "outputs": [
    {
     "data": {
      "text/plain": [
       "영화명        0\n",
       "감독      2330\n",
       "개봉일     1564\n",
       "국가      1555\n",
       "스크린수    1554\n",
       "관객수     1554\n",
       "등급      1578\n",
       "장르       475\n",
       "dtype: int64"
      ]
     },
     "execution_count": 15,
     "metadata": {},
     "output_type": "execute_result"
    }
   ],
   "source": [
    "movie.isnull().sum()"
   ]
  },
  {
   "cell_type": "code",
   "execution_count": 16,
   "metadata": {
    "ExecuteTime": {
     "end_time": "2021-04-16T14:39:13.692670Z",
     "start_time": "2021-04-16T14:39:13.630838Z"
    }
   },
   "outputs": [],
   "source": [
    "movie = movie.dropna()"
   ]
  },
  {
   "cell_type": "code",
   "execution_count": 17,
   "metadata": {
    "ExecuteTime": {
     "end_time": "2021-04-16T14:39:13.722591Z",
     "start_time": "2021-04-16T14:39:13.695664Z"
    }
   },
   "outputs": [
    {
     "data": {
      "text/html": [
       "<div>\n",
       "<style scoped>\n",
       "    .dataframe tbody tr th:only-of-type {\n",
       "        vertical-align: middle;\n",
       "    }\n",
       "\n",
       "    .dataframe tbody tr th {\n",
       "        vertical-align: top;\n",
       "    }\n",
       "\n",
       "    .dataframe thead th {\n",
       "        text-align: right;\n",
       "    }\n",
       "</style>\n",
       "<table border=\"1\" class=\"dataframe\">\n",
       "  <thead>\n",
       "    <tr style=\"text-align: right;\">\n",
       "      <th></th>\n",
       "      <th>영화명</th>\n",
       "      <th>감독</th>\n",
       "      <th>개봉일</th>\n",
       "      <th>국가</th>\n",
       "      <th>스크린수</th>\n",
       "      <th>관객수</th>\n",
       "      <th>등급</th>\n",
       "      <th>장르</th>\n",
       "    </tr>\n",
       "  </thead>\n",
       "  <tbody>\n",
       "    <tr>\n",
       "      <th>1</th>\n",
       "      <td>명량</td>\n",
       "      <td>김한민</td>\n",
       "      <td>2014-07-30</td>\n",
       "      <td>한국</td>\n",
       "      <td>1587</td>\n",
       "      <td>17613682</td>\n",
       "      <td>15세이상관람가</td>\n",
       "      <td>사극,액션</td>\n",
       "    </tr>\n",
       "    <tr>\n",
       "      <th>2</th>\n",
       "      <td>극한직업</td>\n",
       "      <td>이병헌</td>\n",
       "      <td>2019-01-23</td>\n",
       "      <td>한국</td>\n",
       "      <td>1978</td>\n",
       "      <td>16264944</td>\n",
       "      <td>15세이상관람가</td>\n",
       "      <td>코미디</td>\n",
       "    </tr>\n",
       "    <tr>\n",
       "      <th>3</th>\n",
       "      <td>신과함께-죄와 벌</td>\n",
       "      <td>김용화</td>\n",
       "      <td>2017-12-20</td>\n",
       "      <td>한국</td>\n",
       "      <td>1912</td>\n",
       "      <td>14410754</td>\n",
       "      <td>12세이상관람가</td>\n",
       "      <td>판타지,드라마</td>\n",
       "    </tr>\n",
       "    <tr>\n",
       "      <th>4</th>\n",
       "      <td>국제시장</td>\n",
       "      <td>윤제균</td>\n",
       "      <td>2014-12-17</td>\n",
       "      <td>한국</td>\n",
       "      <td>966</td>\n",
       "      <td>14245998</td>\n",
       "      <td>12세이상관람가</td>\n",
       "      <td>드라마</td>\n",
       "    </tr>\n",
       "    <tr>\n",
       "      <th>5</th>\n",
       "      <td>어벤져스: 엔드게임</td>\n",
       "      <td>안소니 루소,조 루소</td>\n",
       "      <td>2019-04-24</td>\n",
       "      <td>미국</td>\n",
       "      <td>2835</td>\n",
       "      <td>13934592</td>\n",
       "      <td>12세이상관람가</td>\n",
       "      <td>액션,SF</td>\n",
       "    </tr>\n",
       "  </tbody>\n",
       "</table>\n",
       "</div>"
      ],
      "text/plain": [
       "          영화명           감독        개봉일  국가  스크린수       관객수        등급       장르\n",
       "1          명량          김한민 2014-07-30  한국  1587  17613682  15세이상관람가    사극,액션\n",
       "2        극한직업          이병헌 2019-01-23  한국  1978  16264944  15세이상관람가      코미디\n",
       "3   신과함께-죄와 벌          김용화 2017-12-20  한국  1912  14410754  12세이상관람가  판타지,드라마\n",
       "4        국제시장          윤제균 2014-12-17  한국   966  14245998  12세이상관람가      드라마\n",
       "5  어벤져스: 엔드게임  안소니 루소,조 루소 2019-04-24  미국  2835  13934592  12세이상관람가    액션,SF"
      ]
     },
     "execution_count": 17,
     "metadata": {},
     "output_type": "execute_result"
    }
   ],
   "source": [
    "movie.head()"
   ]
  },
  {
   "cell_type": "code",
   "execution_count": 18,
   "metadata": {
    "ExecuteTime": {
     "end_time": "2021-04-16T14:39:13.759492Z",
     "start_time": "2021-04-16T14:39:13.727578Z"
    }
   },
   "outputs": [
    {
     "name": "stdout",
     "output_type": "stream",
     "text": [
      "<class 'pandas.core.frame.DataFrame'>\n",
      "Int64Index: 16637 entries, 1 to 17746\n",
      "Data columns (total 8 columns):\n",
      " #   Column  Non-Null Count  Dtype         \n",
      "---  ------  --------------  -----         \n",
      " 0   영화명     16637 non-null  object        \n",
      " 1   감독      16637 non-null  object        \n",
      " 2   개봉일     16637 non-null  datetime64[ns]\n",
      " 3   국가      16637 non-null  object        \n",
      " 4   스크린수    16637 non-null  object        \n",
      " 5   관객수     16637 non-null  object        \n",
      " 6   등급      16637 non-null  object        \n",
      " 7   장르      16637 non-null  object        \n",
      "dtypes: datetime64[ns](1), object(7)\n",
      "memory usage: 1.1+ MB\n"
     ]
    }
   ],
   "source": [
    "movie.info()"
   ]
  },
  {
   "cell_type": "code",
   "execution_count": 19,
   "metadata": {
    "ExecuteTime": {
     "end_time": "2021-04-16T14:39:13.783427Z",
     "start_time": "2021-04-16T14:39:13.763481Z"
    }
   },
   "outputs": [],
   "source": [
    "movie = movie.astype({'스크린수':'int','관객수':'int'})"
   ]
  },
  {
   "cell_type": "code",
   "execution_count": 20,
   "metadata": {
    "ExecuteTime": {
     "end_time": "2021-04-16T14:39:13.795397Z",
     "start_time": "2021-04-16T14:39:13.786421Z"
    }
   },
   "outputs": [],
   "source": [
    "movie.rename(columns={'등급':'관람가'},inplace=True)"
   ]
  },
  {
   "cell_type": "code",
   "execution_count": 21,
   "metadata": {
    "ExecuteTime": {
     "end_time": "2021-04-16T14:39:13.836286Z",
     "start_time": "2021-04-16T14:39:13.799386Z"
    }
   },
   "outputs": [
    {
     "data": {
      "text/html": [
       "<div>\n",
       "<style scoped>\n",
       "    .dataframe tbody tr th:only-of-type {\n",
       "        vertical-align: middle;\n",
       "    }\n",
       "\n",
       "    .dataframe tbody tr th {\n",
       "        vertical-align: top;\n",
       "    }\n",
       "\n",
       "    .dataframe thead th {\n",
       "        text-align: right;\n",
       "    }\n",
       "</style>\n",
       "<table border=\"1\" class=\"dataframe\">\n",
       "  <thead>\n",
       "    <tr style=\"text-align: right;\">\n",
       "      <th></th>\n",
       "      <th>영화명</th>\n",
       "      <th>감독</th>\n",
       "      <th>개봉일</th>\n",
       "      <th>국가</th>\n",
       "      <th>스크린수</th>\n",
       "      <th>관객수</th>\n",
       "      <th>관람가</th>\n",
       "      <th>장르</th>\n",
       "    </tr>\n",
       "  </thead>\n",
       "  <tbody>\n",
       "    <tr>\n",
       "      <th>1</th>\n",
       "      <td>명량</td>\n",
       "      <td>김한민</td>\n",
       "      <td>2014-07-30</td>\n",
       "      <td>한국</td>\n",
       "      <td>1587</td>\n",
       "      <td>17613682</td>\n",
       "      <td>15세이상관람가</td>\n",
       "      <td>사극,액션</td>\n",
       "    </tr>\n",
       "    <tr>\n",
       "      <th>2</th>\n",
       "      <td>극한직업</td>\n",
       "      <td>이병헌</td>\n",
       "      <td>2019-01-23</td>\n",
       "      <td>한국</td>\n",
       "      <td>1978</td>\n",
       "      <td>16264944</td>\n",
       "      <td>15세이상관람가</td>\n",
       "      <td>코미디</td>\n",
       "    </tr>\n",
       "    <tr>\n",
       "      <th>3</th>\n",
       "      <td>신과함께-죄와 벌</td>\n",
       "      <td>김용화</td>\n",
       "      <td>2017-12-20</td>\n",
       "      <td>한국</td>\n",
       "      <td>1912</td>\n",
       "      <td>14410754</td>\n",
       "      <td>12세이상관람가</td>\n",
       "      <td>판타지,드라마</td>\n",
       "    </tr>\n",
       "  </tbody>\n",
       "</table>\n",
       "</div>"
      ],
      "text/plain": [
       "         영화명   감독        개봉일  국가  스크린수       관객수       관람가       장르\n",
       "1         명량  김한민 2014-07-30  한국  1587  17613682  15세이상관람가    사극,액션\n",
       "2       극한직업  이병헌 2019-01-23  한국  1978  16264944  15세이상관람가      코미디\n",
       "3  신과함께-죄와 벌  김용화 2017-12-20  한국  1912  14410754  12세이상관람가  판타지,드라마"
      ]
     },
     "execution_count": 21,
     "metadata": {},
     "output_type": "execute_result"
    }
   ],
   "source": [
    "movie.head(3)"
   ]
  },
  {
   "cell_type": "code",
   "execution_count": 22,
   "metadata": {
    "ExecuteTime": {
     "end_time": "2021-04-16T14:39:13.861221Z",
     "start_time": "2021-04-16T14:39:13.846262Z"
    }
   },
   "outputs": [
    {
     "data": {
      "text/plain": [
       "array(['15세이상관람가', '12세이상관람가', '전체관람가', '12세관람가', '15세관람가', '18세관람가',\n",
       "       '청소년관람불가', '12세이상관람가,12세관람가', '15세관람가,15세이상관람가',\n",
       "       '청소년관람불가,15세이상관람가', '18세 미만인 자는 관람할 수 없는 등급', '18세관람가,15세이상관람가',\n",
       "       '18세관람가,청소년관람불가', '12세이상관람가,전체관람가', '12세이상관람가,15세이상관람가',\n",
       "       '15세이상관람가,전체관람가', '제한상영가', '15세관람가,12세이상관람가',\n",
       "       '15세 미만인 자는 관람할 수 없는 등급', '모든 관람객이 관람할 수 있는 등급',\n",
       "       '12세 미만인 자는 관람할 수 없는 등급'], dtype=object)"
      ]
     },
     "execution_count": 22,
     "metadata": {},
     "output_type": "execute_result"
    }
   ],
   "source": [
    "movie.관람가.unique()"
   ]
  },
  {
   "cell_type": "code",
   "execution_count": 23,
   "metadata": {
    "ExecuteTime": {
     "end_time": "2021-04-16T14:39:13.917071Z",
     "start_time": "2021-04-16T14:39:13.870195Z"
    }
   },
   "outputs": [],
   "source": [
    "movie.관람가 = movie.관람가.replace({'12세 미만인 자는 관람할 수 없는 등급':'12세이상관람가','모든 관람객이 관람할 수 있는 등급':'전체관람가','18세 미만인 자는 관람할 수 없는 등급':'18세이상관람가'})\n",
    "movie.관람가 = movie.관람가.replace({'청소년관람불가':'19세이상관람가','12세이상관람가,12세관람가':'12세이상관람가','15세관람가,15세이상관람가':'15세이상관람가'})\n",
    "movie.관람가 = movie.관람가.replace({'15세관람가':'15세이상관람가','18세관람가,청소년관람불가':'18세이상관람가','18세관람가':'18세이상관람가','12세이상관람가,전체관람가':'전체관람가','청소년관람불가,15세이상관람가':'15세이상관람가'})\n",
    "movie.관람가 = movie.관람가.apply(lambda x:x.split('관')[0])"
   ]
  },
  {
   "cell_type": "code",
   "execution_count": 24,
   "metadata": {
    "ExecuteTime": {
     "end_time": "2021-04-16T14:39:13.948985Z",
     "start_time": "2021-04-16T14:39:13.920064Z"
    }
   },
   "outputs": [
    {
     "data": {
      "text/html": [
       "<div>\n",
       "<style scoped>\n",
       "    .dataframe tbody tr th:only-of-type {\n",
       "        vertical-align: middle;\n",
       "    }\n",
       "\n",
       "    .dataframe tbody tr th {\n",
       "        vertical-align: top;\n",
       "    }\n",
       "\n",
       "    .dataframe thead th {\n",
       "        text-align: right;\n",
       "    }\n",
       "</style>\n",
       "<table border=\"1\" class=\"dataframe\">\n",
       "  <thead>\n",
       "    <tr style=\"text-align: right;\">\n",
       "      <th></th>\n",
       "      <th>영화명</th>\n",
       "      <th>감독</th>\n",
       "      <th>개봉일</th>\n",
       "      <th>국가</th>\n",
       "      <th>스크린수</th>\n",
       "      <th>관객수</th>\n",
       "      <th>관람가</th>\n",
       "      <th>장르</th>\n",
       "    </tr>\n",
       "  </thead>\n",
       "  <tbody>\n",
       "    <tr>\n",
       "      <th>8384</th>\n",
       "      <td>허스</td>\n",
       "      <td>김정중</td>\n",
       "      <td>2007-08-02</td>\n",
       "      <td>한국</td>\n",
       "      <td>0</td>\n",
       "      <td>597</td>\n",
       "      <td>제한상영가</td>\n",
       "      <td>드라마,멜로/로맨스</td>\n",
       "    </tr>\n",
       "  </tbody>\n",
       "</table>\n",
       "</div>"
      ],
      "text/plain": [
       "     영화명   감독        개봉일  국가  스크린수  관객수    관람가          장르\n",
       "8384  허스  김정중 2007-08-02  한국     0  597  제한상영가  드라마,멜로/로맨스"
      ]
     },
     "execution_count": 24,
     "metadata": {},
     "output_type": "execute_result"
    }
   ],
   "source": [
    "movie[movie.관람가 == '제한상영가']"
   ]
  },
  {
   "cell_type": "code",
   "execution_count": 25,
   "metadata": {
    "ExecuteTime": {
     "end_time": "2021-04-16T14:39:13.965940Z",
     "start_time": "2021-04-16T14:39:13.952976Z"
    }
   },
   "outputs": [],
   "source": [
    "movie.drop(8384,axis=0,inplace=True)"
   ]
  },
  {
   "cell_type": "code",
   "execution_count": 26,
   "metadata": {
    "ExecuteTime": {
     "end_time": "2021-04-16T14:39:13.985886Z",
     "start_time": "2021-04-16T14:39:13.968933Z"
    }
   },
   "outputs": [],
   "source": [
    "movie.관람가 = movie.관람가.apply(lambda x:x.split('관')[0])"
   ]
  },
  {
   "cell_type": "code",
   "execution_count": 27,
   "metadata": {
    "ExecuteTime": {
     "end_time": "2021-04-16T14:39:14.012814Z",
     "start_time": "2021-04-16T14:39:13.990873Z"
    }
   },
   "outputs": [
    {
     "data": {
      "text/html": [
       "<div>\n",
       "<style scoped>\n",
       "    .dataframe tbody tr th:only-of-type {\n",
       "        vertical-align: middle;\n",
       "    }\n",
       "\n",
       "    .dataframe tbody tr th {\n",
       "        vertical-align: top;\n",
       "    }\n",
       "\n",
       "    .dataframe thead th {\n",
       "        text-align: right;\n",
       "    }\n",
       "</style>\n",
       "<table border=\"1\" class=\"dataframe\">\n",
       "  <thead>\n",
       "    <tr style=\"text-align: right;\">\n",
       "      <th></th>\n",
       "      <th>영화명</th>\n",
       "      <th>감독</th>\n",
       "      <th>개봉일</th>\n",
       "      <th>국가</th>\n",
       "      <th>스크린수</th>\n",
       "      <th>관객수</th>\n",
       "      <th>관람가</th>\n",
       "      <th>장르</th>\n",
       "    </tr>\n",
       "  </thead>\n",
       "  <tbody>\n",
       "    <tr>\n",
       "      <th>1</th>\n",
       "      <td>명량</td>\n",
       "      <td>김한민</td>\n",
       "      <td>2014-07-30</td>\n",
       "      <td>한국</td>\n",
       "      <td>1587</td>\n",
       "      <td>17613682</td>\n",
       "      <td>15세이상</td>\n",
       "      <td>사극,액션</td>\n",
       "    </tr>\n",
       "    <tr>\n",
       "      <th>2</th>\n",
       "      <td>극한직업</td>\n",
       "      <td>이병헌</td>\n",
       "      <td>2019-01-23</td>\n",
       "      <td>한국</td>\n",
       "      <td>1978</td>\n",
       "      <td>16264944</td>\n",
       "      <td>15세이상</td>\n",
       "      <td>코미디</td>\n",
       "    </tr>\n",
       "    <tr>\n",
       "      <th>3</th>\n",
       "      <td>신과함께-죄와 벌</td>\n",
       "      <td>김용화</td>\n",
       "      <td>2017-12-20</td>\n",
       "      <td>한국</td>\n",
       "      <td>1912</td>\n",
       "      <td>14410754</td>\n",
       "      <td>12세이상</td>\n",
       "      <td>판타지,드라마</td>\n",
       "    </tr>\n",
       "  </tbody>\n",
       "</table>\n",
       "</div>"
      ],
      "text/plain": [
       "         영화명   감독        개봉일  국가  스크린수       관객수    관람가       장르\n",
       "1         명량  김한민 2014-07-30  한국  1587  17613682  15세이상    사극,액션\n",
       "2       극한직업  이병헌 2019-01-23  한국  1978  16264944  15세이상      코미디\n",
       "3  신과함께-죄와 벌  김용화 2017-12-20  한국  1912  14410754  12세이상  판타지,드라마"
      ]
     },
     "execution_count": 27,
     "metadata": {},
     "output_type": "execute_result"
    }
   ],
   "source": [
    "movie.head(3)"
   ]
  },
  {
   "cell_type": "code",
   "execution_count": 28,
   "metadata": {
    "ExecuteTime": {
     "end_time": "2021-04-16T14:39:14.039743Z",
     "start_time": "2021-04-16T14:39:14.017801Z"
    }
   },
   "outputs": [],
   "source": [
    "movie.장르 = movie.장르.apply(lambda x:x.split(',')[0])"
   ]
  },
  {
   "cell_type": "code",
   "execution_count": 29,
   "metadata": {
    "ExecuteTime": {
     "end_time": "2021-04-16T14:39:14.061682Z",
     "start_time": "2021-04-16T14:39:14.044730Z"
    }
   },
   "outputs": [],
   "source": [
    "movie['개봉연도'] = movie.개봉일.dt.year\n",
    "movie['개봉달'] = movie.개봉일.dt.month"
   ]
  },
  {
   "cell_type": "code",
   "execution_count": 30,
   "metadata": {
    "ExecuteTime": {
     "end_time": "2021-04-16T14:39:14.069662Z",
     "start_time": "2021-04-16T14:39:14.064676Z"
    }
   },
   "outputs": [],
   "source": [
    "# movie.loc[(movie['관객수'] >= 10000000),'등급'] = '1'\n",
    "# movie.loc[(movie['관객수'] <= 10000000) & (movie['관객수'] >= 5000000),'등급'] = '2'\n",
    "# movie.loc[(movie['관객수'] <= 5000000) & (movie['관객수'] >= 1000000),'등급'] = '3'\n",
    "# movie.loc[(movie['관객수'] <= 1000000) & (movie['관객수'] >= 100000),'등급'] = '4'\n",
    "# movie.loc[(movie['관객수'] <= 100000) & (movie['관객수'] >= 1),'등급'] = '5'"
   ]
  },
  {
   "cell_type": "code",
   "execution_count": 31,
   "metadata": {
    "ExecuteTime": {
     "end_time": "2021-04-16T14:39:14.085619Z",
     "start_time": "2021-04-16T14:39:14.074648Z"
    }
   },
   "outputs": [],
   "source": [
    "movie = movie[movie.관객수 >= 1000]"
   ]
  },
  {
   "cell_type": "code",
   "execution_count": 32,
   "metadata": {
    "ExecuteTime": {
     "end_time": "2021-04-16T14:39:14.133491Z",
     "start_time": "2021-04-16T14:39:14.089609Z"
    }
   },
   "outputs": [
    {
     "data": {
      "text/html": [
       "<div>\n",
       "<style scoped>\n",
       "    .dataframe tbody tr th:only-of-type {\n",
       "        vertical-align: middle;\n",
       "    }\n",
       "\n",
       "    .dataframe tbody tr th {\n",
       "        vertical-align: top;\n",
       "    }\n",
       "\n",
       "    .dataframe thead th {\n",
       "        text-align: right;\n",
       "    }\n",
       "</style>\n",
       "<table border=\"1\" class=\"dataframe\">\n",
       "  <thead>\n",
       "    <tr style=\"text-align: right;\">\n",
       "      <th></th>\n",
       "      <th>영화명</th>\n",
       "      <th>감독</th>\n",
       "      <th>개봉일</th>\n",
       "      <th>국가</th>\n",
       "      <th>스크린수</th>\n",
       "      <th>관객수</th>\n",
       "      <th>관람가</th>\n",
       "      <th>장르</th>\n",
       "      <th>개봉연도</th>\n",
       "      <th>개봉달</th>\n",
       "    </tr>\n",
       "  </thead>\n",
       "  <tbody>\n",
       "    <tr>\n",
       "      <th>31</th>\n",
       "      <td>엑시트</td>\n",
       "      <td>이상근</td>\n",
       "      <td>2019-07-31</td>\n",
       "      <td>한국</td>\n",
       "      <td>1660</td>\n",
       "      <td>9426051</td>\n",
       "      <td>12세이상</td>\n",
       "      <td>스릴러</td>\n",
       "      <td>2019</td>\n",
       "      <td>7</td>\n",
       "    </tr>\n",
       "    <tr>\n",
       "      <th>63</th>\n",
       "      <td>럭키</td>\n",
       "      <td>이계벽</td>\n",
       "      <td>2016-10-13</td>\n",
       "      <td>한국</td>\n",
       "      <td>1158</td>\n",
       "      <td>6965706</td>\n",
       "      <td>15세이상</td>\n",
       "      <td>가족</td>\n",
       "      <td>2016</td>\n",
       "      <td>10</td>\n",
       "    </tr>\n",
       "    <tr>\n",
       "      <th>69</th>\n",
       "      <td>범죄도시</td>\n",
       "      <td>강윤성</td>\n",
       "      <td>2017-10-03</td>\n",
       "      <td>한국</td>\n",
       "      <td>1315</td>\n",
       "      <td>6851297</td>\n",
       "      <td>19세이상</td>\n",
       "      <td>액션</td>\n",
       "      <td>2017</td>\n",
       "      <td>10</td>\n",
       "    </tr>\n",
       "    <tr>\n",
       "      <th>95</th>\n",
       "      <td>숨바꼭질</td>\n",
       "      <td>허정</td>\n",
       "      <td>2013-08-14</td>\n",
       "      <td>한국</td>\n",
       "      <td>779</td>\n",
       "      <td>5602543</td>\n",
       "      <td>15세이상</td>\n",
       "      <td>드라마</td>\n",
       "      <td>2013</td>\n",
       "      <td>8</td>\n",
       "    </tr>\n",
       "    <tr>\n",
       "      <th>97</th>\n",
       "      <td>숨바꼭질</td>\n",
       "      <td>존 폴슨</td>\n",
       "      <td>2005-02-25</td>\n",
       "      <td>미국</td>\n",
       "      <td>0</td>\n",
       "      <td>779200</td>\n",
       "      <td>15세이상</td>\n",
       "      <td>드라마</td>\n",
       "      <td>2005</td>\n",
       "      <td>2</td>\n",
       "    </tr>\n",
       "    <tr>\n",
       "      <th>...</th>\n",
       "      <td>...</td>\n",
       "      <td>...</td>\n",
       "      <td>...</td>\n",
       "      <td>...</td>\n",
       "      <td>...</td>\n",
       "      <td>...</td>\n",
       "      <td>...</td>\n",
       "      <td>...</td>\n",
       "      <td>...</td>\n",
       "      <td>...</td>\n",
       "    </tr>\n",
       "    <tr>\n",
       "      <th>7952</th>\n",
       "      <td>짐작보다 따뜻하게</td>\n",
       "      <td>이상민</td>\n",
       "      <td>2016-05-19</td>\n",
       "      <td>한국</td>\n",
       "      <td>5</td>\n",
       "      <td>1011</td>\n",
       "      <td>12세이상</td>\n",
       "      <td>드라마</td>\n",
       "      <td>2016</td>\n",
       "      <td>5</td>\n",
       "    </tr>\n",
       "    <tr>\n",
       "      <th>7954</th>\n",
       "      <td>트랜스아메리카</td>\n",
       "      <td>던컨 터커</td>\n",
       "      <td>2006-11-16</td>\n",
       "      <td>미국</td>\n",
       "      <td>0</td>\n",
       "      <td>1010</td>\n",
       "      <td>18세이상</td>\n",
       "      <td>드라마</td>\n",
       "      <td>2006</td>\n",
       "      <td>11</td>\n",
       "    </tr>\n",
       "    <tr>\n",
       "      <th>7958</th>\n",
       "      <td>코인라커</td>\n",
       "      <td>김태경</td>\n",
       "      <td>2015-05-28</td>\n",
       "      <td>한국</td>\n",
       "      <td>13</td>\n",
       "      <td>1008</td>\n",
       "      <td>19세이상</td>\n",
       "      <td>드라마</td>\n",
       "      <td>2015</td>\n",
       "      <td>5</td>\n",
       "    </tr>\n",
       "    <tr>\n",
       "      <th>7969</th>\n",
       "      <td>콜드 인 줄라이</td>\n",
       "      <td>짐 미클</td>\n",
       "      <td>2014-11-27</td>\n",
       "      <td>미국</td>\n",
       "      <td>20</td>\n",
       "      <td>1000</td>\n",
       "      <td>19세이상</td>\n",
       "      <td>드라마</td>\n",
       "      <td>2014</td>\n",
       "      <td>11</td>\n",
       "    </tr>\n",
       "    <tr>\n",
       "      <th>7970</th>\n",
       "      <td>할로우맨 2</td>\n",
       "      <td>클라우디오 파</td>\n",
       "      <td>2006-11-17</td>\n",
       "      <td>미국</td>\n",
       "      <td>0</td>\n",
       "      <td>1000</td>\n",
       "      <td>18세이상</td>\n",
       "      <td>액션</td>\n",
       "      <td>2006</td>\n",
       "      <td>11</td>\n",
       "    </tr>\n",
       "  </tbody>\n",
       "</table>\n",
       "<p>958 rows × 10 columns</p>\n",
       "</div>"
      ],
      "text/plain": [
       "            영화명       감독        개봉일  국가  스크린수      관객수    관람가   장르  개봉연도  개봉달\n",
       "31          엑시트      이상근 2019-07-31  한국  1660  9426051  12세이상  스릴러  2019    7\n",
       "63           럭키      이계벽 2016-10-13  한국  1158  6965706  15세이상   가족  2016   10\n",
       "69         범죄도시      강윤성 2017-10-03  한국  1315  6851297  19세이상   액션  2017   10\n",
       "95         숨바꼭질       허정 2013-08-14  한국   779  5602543  15세이상  드라마  2013    8\n",
       "97         숨바꼭질     존 폴슨 2005-02-25  미국     0   779200  15세이상  드라마  2005    2\n",
       "...         ...      ...        ...  ..   ...      ...    ...  ...   ...  ...\n",
       "7952  짐작보다 따뜻하게      이상민 2016-05-19  한국     5     1011  12세이상  드라마  2016    5\n",
       "7954    트랜스아메리카    던컨 터커 2006-11-16  미국     0     1010  18세이상  드라마  2006   11\n",
       "7958       코인라커      김태경 2015-05-28  한국    13     1008  19세이상  드라마  2015    5\n",
       "7969   콜드 인 줄라이     짐 미클 2014-11-27  미국    20     1000  19세이상  드라마  2014   11\n",
       "7970     할로우맨 2  클라우디오 파 2006-11-17  미국     0     1000  18세이상   액션  2006   11\n",
       "\n",
       "[958 rows x 10 columns]"
      ]
     },
     "execution_count": 32,
     "metadata": {},
     "output_type": "execute_result"
    }
   ],
   "source": [
    "movie[movie.관객수.duplicated()]"
   ]
  },
  {
   "cell_type": "code",
   "execution_count": 33,
   "metadata": {
    "ExecuteTime": {
     "end_time": "2021-04-16T14:39:14.152440Z",
     "start_time": "2021-04-16T14:39:14.137482Z"
    }
   },
   "outputs": [],
   "source": [
    "movie.drop_duplicates(subset='관객수',keep='first',inplace=True)"
   ]
  },
  {
   "cell_type": "code",
   "execution_count": 34,
   "metadata": {
    "ExecuteTime": {
     "end_time": "2021-04-16T14:39:14.175381Z",
     "start_time": "2021-04-16T14:39:14.156430Z"
    }
   },
   "outputs": [],
   "source": [
    "movie.drop_duplicates(subset='영화명',keep='first',inplace=True)"
   ]
  },
  {
   "cell_type": "code",
   "execution_count": 35,
   "metadata": {
    "ExecuteTime": {
     "end_time": "2021-04-16T14:39:14.200313Z",
     "start_time": "2021-04-16T14:39:14.178372Z"
    }
   },
   "outputs": [
    {
     "data": {
      "text/html": [
       "<div>\n",
       "<style scoped>\n",
       "    .dataframe tbody tr th:only-of-type {\n",
       "        vertical-align: middle;\n",
       "    }\n",
       "\n",
       "    .dataframe tbody tr th {\n",
       "        vertical-align: top;\n",
       "    }\n",
       "\n",
       "    .dataframe thead th {\n",
       "        text-align: right;\n",
       "    }\n",
       "</style>\n",
       "<table border=\"1\" class=\"dataframe\">\n",
       "  <thead>\n",
       "    <tr style=\"text-align: right;\">\n",
       "      <th></th>\n",
       "      <th>영화명</th>\n",
       "      <th>감독</th>\n",
       "      <th>개봉일</th>\n",
       "      <th>국가</th>\n",
       "      <th>스크린수</th>\n",
       "      <th>관객수</th>\n",
       "      <th>관람가</th>\n",
       "      <th>장르</th>\n",
       "      <th>개봉연도</th>\n",
       "      <th>개봉달</th>\n",
       "    </tr>\n",
       "  </thead>\n",
       "  <tbody>\n",
       "  </tbody>\n",
       "</table>\n",
       "</div>"
      ],
      "text/plain": [
       "Empty DataFrame\n",
       "Columns: [영화명, 감독, 개봉일, 국가, 스크린수, 관객수, 관람가, 장르, 개봉연도, 개봉달]\n",
       "Index: []"
      ]
     },
     "execution_count": 35,
     "metadata": {},
     "output_type": "execute_result"
    }
   ],
   "source": [
    "movie[movie.영화명.duplicated()]"
   ]
  },
  {
   "cell_type": "code",
   "execution_count": 36,
   "metadata": {
    "ExecuteTime": {
     "end_time": "2021-04-16T14:39:14.232227Z",
     "start_time": "2021-04-16T14:39:14.205300Z"
    }
   },
   "outputs": [
    {
     "name": "stdout",
     "output_type": "stream",
     "text": [
      "<class 'pandas.core.frame.DataFrame'>\n",
      "Int64Index: 6205 entries, 1 to 7968\n",
      "Data columns (total 10 columns):\n",
      " #   Column  Non-Null Count  Dtype         \n",
      "---  ------  --------------  -----         \n",
      " 0   영화명     6205 non-null   object        \n",
      " 1   감독      6205 non-null   object        \n",
      " 2   개봉일     6205 non-null   datetime64[ns]\n",
      " 3   국가      6205 non-null   object        \n",
      " 4   스크린수    6205 non-null   int32         \n",
      " 5   관객수     6205 non-null   int32         \n",
      " 6   관람가     6205 non-null   object        \n",
      " 7   장르      6205 non-null   object        \n",
      " 8   개봉연도    6205 non-null   int64         \n",
      " 9   개봉달     6205 non-null   int64         \n",
      "dtypes: datetime64[ns](1), int32(2), int64(2), object(5)\n",
      "memory usage: 484.8+ KB\n"
     ]
    }
   ],
   "source": [
    "movie.info()"
   ]
  },
  {
   "cell_type": "code",
   "execution_count": 37,
   "metadata": {
    "ExecuteTime": {
     "end_time": "2021-04-16T14:39:14.254169Z",
     "start_time": "2021-04-16T14:39:14.236217Z"
    }
   },
   "outputs": [
    {
     "data": {
      "text/plain": [
       "492020.09347300563"
      ]
     },
     "execution_count": 37,
     "metadata": {},
     "output_type": "execute_result"
    }
   ],
   "source": [
    "movie.관객수.mean()"
   ]
  },
  {
   "cell_type": "code",
   "execution_count": 38,
   "metadata": {
    "ExecuteTime": {
     "end_time": "2021-04-16T14:39:14.270126Z",
     "start_time": "2021-04-16T14:39:14.259155Z"
    }
   },
   "outputs": [],
   "source": [
    "movie.loc[(movie.관객수 >= 1000000),'흥행'] = '100만이상'"
   ]
  },
  {
   "cell_type": "code",
   "execution_count": 39,
   "metadata": {
    "ExecuteTime": {
     "end_time": "2021-04-16T14:39:14.288078Z",
     "start_time": "2021-04-16T14:39:14.275112Z"
    }
   },
   "outputs": [],
   "source": [
    "movie.loc[(movie.관객수 <= 1000000),'흥행'] = '100만이하'"
   ]
  },
  {
   "cell_type": "code",
   "execution_count": 40,
   "metadata": {
    "ExecuteTime": {
     "end_time": "2021-04-16T14:39:14.312013Z",
     "start_time": "2021-04-16T14:39:14.294061Z"
    }
   },
   "outputs": [],
   "source": [
    "movie.loc[(movie.관람가 == '18세'), '관람가'] = '18세이상'\n",
    "movie.loc[(movie.관람가 == '12세'), '관람가'] = '12세이상'"
   ]
  },
  {
   "cell_type": "code",
   "execution_count": 41,
   "metadata": {
    "ExecuteTime": {
     "end_time": "2021-04-16T14:39:14.333955Z",
     "start_time": "2021-04-16T14:39:14.315005Z"
    }
   },
   "outputs": [],
   "source": [
    "movie['감독'] = movie.감독.apply(lambda x:x.split(',')[0])"
   ]
  },
  {
   "cell_type": "code",
   "execution_count": 42,
   "metadata": {
    "ExecuteTime": {
     "end_time": "2021-04-16T14:39:14.345923Z",
     "start_time": "2021-04-16T14:39:14.337944Z"
    }
   },
   "outputs": [],
   "source": [
    "movie.rename(columns={'개봉달':'개봉월'},inplace=True)"
   ]
  },
  {
   "cell_type": "code",
   "execution_count": 43,
   "metadata": {
    "ExecuteTime": {
     "end_time": "2021-04-16T14:39:14.374846Z",
     "start_time": "2021-04-16T14:39:14.349912Z"
    }
   },
   "outputs": [
    {
     "data": {
      "text/html": [
       "<div>\n",
       "<style scoped>\n",
       "    .dataframe tbody tr th:only-of-type {\n",
       "        vertical-align: middle;\n",
       "    }\n",
       "\n",
       "    .dataframe tbody tr th {\n",
       "        vertical-align: top;\n",
       "    }\n",
       "\n",
       "    .dataframe thead th {\n",
       "        text-align: right;\n",
       "    }\n",
       "</style>\n",
       "<table border=\"1\" class=\"dataframe\">\n",
       "  <thead>\n",
       "    <tr style=\"text-align: right;\">\n",
       "      <th></th>\n",
       "      <th>영화명</th>\n",
       "      <th>감독</th>\n",
       "      <th>개봉일</th>\n",
       "      <th>국가</th>\n",
       "      <th>스크린수</th>\n",
       "      <th>관객수</th>\n",
       "      <th>관람가</th>\n",
       "      <th>장르</th>\n",
       "      <th>개봉연도</th>\n",
       "      <th>개봉월</th>\n",
       "      <th>흥행</th>\n",
       "    </tr>\n",
       "  </thead>\n",
       "  <tbody>\n",
       "    <tr>\n",
       "      <th>1</th>\n",
       "      <td>명량</td>\n",
       "      <td>김한민</td>\n",
       "      <td>2014-07-30</td>\n",
       "      <td>한국</td>\n",
       "      <td>1587</td>\n",
       "      <td>17613682</td>\n",
       "      <td>15세이상</td>\n",
       "      <td>사극</td>\n",
       "      <td>2014</td>\n",
       "      <td>7</td>\n",
       "      <td>100만이상</td>\n",
       "    </tr>\n",
       "    <tr>\n",
       "      <th>2</th>\n",
       "      <td>극한직업</td>\n",
       "      <td>이병헌</td>\n",
       "      <td>2019-01-23</td>\n",
       "      <td>한국</td>\n",
       "      <td>1978</td>\n",
       "      <td>16264944</td>\n",
       "      <td>15세이상</td>\n",
       "      <td>코미디</td>\n",
       "      <td>2019</td>\n",
       "      <td>1</td>\n",
       "      <td>100만이상</td>\n",
       "    </tr>\n",
       "    <tr>\n",
       "      <th>3</th>\n",
       "      <td>신과함께-죄와 벌</td>\n",
       "      <td>김용화</td>\n",
       "      <td>2017-12-20</td>\n",
       "      <td>한국</td>\n",
       "      <td>1912</td>\n",
       "      <td>14410754</td>\n",
       "      <td>12세이상</td>\n",
       "      <td>판타지</td>\n",
       "      <td>2017</td>\n",
       "      <td>12</td>\n",
       "      <td>100만이상</td>\n",
       "    </tr>\n",
       "  </tbody>\n",
       "</table>\n",
       "</div>"
      ],
      "text/plain": [
       "         영화명   감독        개봉일  국가  스크린수       관객수    관람가   장르  개봉연도  개봉월  \\\n",
       "1         명량  김한민 2014-07-30  한국  1587  17613682  15세이상   사극  2014    7   \n",
       "2       극한직업  이병헌 2019-01-23  한국  1978  16264944  15세이상  코미디  2019    1   \n",
       "3  신과함께-죄와 벌  김용화 2017-12-20  한국  1912  14410754  12세이상  판타지  2017   12   \n",
       "\n",
       "       흥행  \n",
       "1  100만이상  \n",
       "2  100만이상  \n",
       "3  100만이상  "
      ]
     },
     "execution_count": 43,
     "metadata": {},
     "output_type": "execute_result"
    }
   ],
   "source": [
    "movie.head(3)"
   ]
  },
  {
   "cell_type": "code",
   "execution_count": 44,
   "metadata": {
    "ExecuteTime": {
     "end_time": "2021-04-16T14:39:14.389806Z",
     "start_time": "2021-04-16T14:39:14.378835Z"
    }
   },
   "outputs": [],
   "source": [
    "mo500 = movie[movie.흥행 == '100만이상']"
   ]
  },
  {
   "cell_type": "code",
   "execution_count": 45,
   "metadata": {
    "ExecuteTime": {
     "end_time": "2021-04-16T14:39:14.569326Z",
     "start_time": "2021-04-16T14:39:14.394792Z"
    }
   },
   "outputs": [],
   "source": [
    "movie.to_csv('./data/영화')"
   ]
  },
  {
   "cell_type": "markdown",
   "metadata": {},
   "source": [
    "# 각 컬럼간의 상관관계 확인"
   ]
  },
  {
   "cell_type": "code",
   "execution_count": 46,
   "metadata": {
    "ExecuteTime": {
     "end_time": "2021-04-16T14:39:15.375169Z",
     "start_time": "2021-04-16T14:39:14.572319Z"
    }
   },
   "outputs": [
    {
     "data": {
      "image/png": "iVBORw0KGgoAAAANSUhEUgAAA/gAAAF0CAYAAACXNpIdAAAAOXRFWHRTb2Z0d2FyZQBNYXRwbG90bGliIHZlcnNpb24zLjMuMiwgaHR0cHM6Ly9tYXRwbG90bGliLm9yZy8vihELAAAACXBIWXMAAAsTAAALEwEAmpwYAAA3+klEQVR4nO3deZhcVbWw8Xcl6YQEMhkSkBDAERUFlKh4kSkhQBiV4QoqIAgBFLzAZUYQ5XIhBkUEUcI8KGBAJhkDCIIQEBARVPyuekUmyURGAt3p9f1RlU6lb6qrk051parfn895qs7Zu06t4vGkep21967ITCRJkiRJUn3rVesAJEmSJElS15ngS5IkSZLUAEzwJUmSJElqACb4kiRJkiQ1ABN8SZLaiYh3R8Q2new7JCI+tALnXqH+xddsFBHrrshrJElSz2OCL0nq0SJiv4g4s93hjYFDOnmKzYGTV+AtO90/Ii6LiO2ArwA7r8B7SJKkHqhPrQOQJKnGBgODOuoQEV8ATml3eANgj1XUfwIwobi7BvCvzBzbcdiSJEnLMsGXJPV02wEfiYjIzFxeh8y8EbgxInoVdjMj4kagmeV8l65E/8nAZICIGAOcEhE7AOutkk8oSZJ6BIfoS5J6rIjYGvgM8DpwfLvmPSLi2WKivcQPgV2LzwcCCyq8xYr2B9gWmEnhxsO7O9FfkiQJMMGXJPVQETEO+DGFBHxvYPuI+H5EDCx2uT0zN8/M+8ucojeFRBxgx4i4v3jDoJyK/SOibzGWQzPzm8DTK/7JJElST+UQfUlSjxMRa1ColI/NzH8Vj+0GfBloBRYDi4rHewP9KNwU7wsMjoiRwJHA0OIpfwecBfxlRfu3C+0U4HpgQESsBfRftZ9ckiQ1MhN8SVKPk5mLgG8CFH+y7kjgwxQS8rHAtZl5RLH7J4ETKST9zcA4CjcHFgGzgIeA6Zk5rXi+LVek/xIRsTuwE4Wh+VcCa1JYcf/SVfrhJUlSwzLBlyT1WBGxOXAD8J/At4C3gU2AiRHxnsy8tJiI7xUR6wMDMvMv7c6xXen+ivYvHvs6cBCwS2a+A3ypePyyrn9KSZLUUzgHX5LUk+0JTM7MOzPzzcx8KzOfAo4Fvtiu7w7LOQbwW+C05RzvVP+IaKIwpH9MZs5Yic8gSZIEmOBLknq2acC/R0TbavURMYDCkP3HOnOCzFyQma909g3b98/M5sz8fmbOX4G4JUmS/g+H6EuSeqzMvLe4av6NxYX3orj9Api4nJccERGfW87x2Zm5/SroL0mStNIiM2sdgyRJ6kDx5kNrcX6+JEnScpngS5IkSZLUAByiL0mSJElSjUTEcOAYCqP1Ti85vhaFn8sdSeGndg/MzLkdnctF9iRJkiRJqp3vUfip3qZ2x48F7sjMbYCpFBYB7pAJviRJkiRJNZKZBwK/Xk7TGGBK8fnNwGcqnavqQ/SbZ/zNSf5SDcw96OBahyD1SLc/O6rWIUg90jFzHq91CFKPNWf+X6PWMVRTV3PavsPfdzgwoeTQ5Myc3ImX9svM5uLzmcDQSi9wDr4kSZIkSeW0Lu7Sy4vJfGcS+v/zzhHRKzNbKST30yu9wCH6kiRJkiStfp4A9iw+3xu4v9ILTPAlSZIkSSonW7u2raCImBgRfYFzgAkR8RCwBXBlpdc6RF+SJEmSpHJaVzxJX1GZ+RDwUPH5ScXDM4DxK3IeE3xJkiRJksrIlajC14pD9CVJkiRJagBW8CVJkiRJKqcbhuivKib4kiRJkiSVU0dD9E3wJUmSJEkqp3VxrSPoNBN8SZIkSZLKqaMKvovsSZIkSZLUAKzgS5IkSZJUjovsSZIkSZJU/7KOhuib4EuSJEmSVI4VfEmSJEmSGkAdVfBdZE+SJEmSpAZgBV+SJEmSpHJaF9c6gk4zwZckSZIkqZw6GqJvgi9JkiRJUjl1tMiec/AlSZIkSWoAVvAlSZIkSSrHIfqSJEmSJDWAOhqib4IvSZIkSVIZma6iL0mSJElS/aujIfousidJkiRJUgOwgi9JkiRJUjnOwZckSZIkqQHU0RB9E3xJkiRJksppdZE9SZIkSZLqXx1V8F1kT5IkSZKkBmAFX5IkSZKkclxkT5IkSZKkBlBHQ/RN8CVJkiRJKqeOKvjOwZckSZIkqQFYwZckSZIkqZw6quCb4Gu5Zs1+k2t/fiu9ohdHTziw1uFIDa3/lw+h6aObQe/eLLjwPBa/9L9tbf12GE+/8btDaysLr7uClt8/U7tApQbw8RP2Yd1Pb0z06c1jJ17Om395BYChH1qfT37rS/Tp34/5L03nkWMvIRe3ssawQfzbxEPoP3wQ81+ZycNf+1GNP4FU37566BfZe9/d6de3L2ecPpHfPPpkW1vv3r2Z9L1vsfGH3k9LcwuHH3Y8r7/+Br169WK33cdx9DcOZdzYfWsYvXqqzMW1DqHTTPC1XJMuuowNRr6bRW+/XetQpIbWZ5NN6TX0Xcw9+T/oveF7GHDIkcw78yQAem+wEX022ZS5x38dMmscqVT/1vnUxvRfexB373M2QzZen09+c3+mHngeAPNems59+08EYKtJhzL84+/jjaf+H6NP24/fnXcTs//8ci1DlxrCqFHrsfP4seyy0/4MHzGMG39+KWO226utfZ99d+eVl1/juGPOYMedtuPEk4/iuGPO4KCvfIGBA9eiqamphtGrR6ujCr5z8LVc55x+PFts/rFahyE1vKaPj+bthx8AYPE//k4MHNjW1m/HXWl943UG/ff5rHXymcSgwbUKU2oI6237Mf522+MAvPniy/QdulZbW8vCwg3t3v2a6DdkTeb94w36Dh5Av6Frsek39mT8L07nfXtvVZO4pUax3fZbcestdwEw/Y2ZzJ49h8GDl37vjRn7WW6acgcAU+97mI9+9MMAXHnF9fzwgktpaWnp/qAlKKyi35WtG61Qgh8RO1QrEEnqiXoNGUrOeXPpgcWLIQKA3uutT+vcOcw95RjeefQh+n/xKzWJUWoU/dcexKKZ89r2s2Xp9QawzUVfY59p5zPrz//krelzGLjBCAa9d12mnXY1933xXDY+YCz9RwypQeRSYxg+fBgzZsxq2581azZDhgxebns6ck1aKZ1K8CPi4Ij4AHBiJ/tPiIinIuKpy665vksBSlIjywULiLUGlhzIpcPxFy+m+alpALzz5GP0GbVhDSKUGsc7cxfSb/CabfvZmstMf/n1URdz4yeOpldTH97/71vTuriVGb/7K2/Pns/iRc288eSLDNponVqELtWtT2yxKb+8+6f88u6f0tS3aZmEfsiQwcsk/HPnzlumvbmluVtjlcpqbe3a1o06W8HfCngZiEodATJzcmaOzszRhx64/0oHJ0mNrvmF5+i71bYA9B61Ia0zpi9t+/MLNI3eEoCmj32clv/9a01ilBrFv558kY12/RQAgz+wHgteW5pYNA3sX3iSyVuvz6ZpwBrM/dtrDPngSPoM6Ef0CoZt9l7m/O21WoQu1a1nnn6O3cZ/id3Gf4k7br+XPfbcGYC1hw+jT5/eLFiwsK3vY489xZ6fK7TvMG5bfvvE72oSs/R/1NEQ/YqL7EXE+4A3M/OtiE7l95KkTmr+7eP0Hb0lgyZeSL61kAUXnceAgw9n4bWXs+jOW1nr2JPp99ntyIULmP+DibUOV6pr/7z/WdYfsxnjf3E6LfPf4rGTr2D0qV/gmUk38Z49tuT9+25Na3ML816azuOnXEnrOy38/oLb2PnGU2hd3MqL1z3Iohlza/0xpLr1xxf+wnPPvcB9909h0aJFnHzSWQAce9zh/PS6m7nmqhv58SWTuHP3ccyYPpNvHHVqjSOWiupokb3oaH5LRBwJ7AQckJnzImIqcG1Jl9cz876O3qB5xt+cQCPVwNyDDq51CFKPdPuzo2odgtQjHTPn8VqHIPVYc+b/taErwW/de1GXctr+Ox3Vbf99KlXwlyxV2dru2JIA6+cHASVJkiRJamAdJviZeWlEPAicCpxWPPaz7ghMkiRJkqSaq6Mh+hXn4GfmXyNiaET0AxxuL0mSJEnqORopwS/6NTCSTq6iL0mSJElSQ+jmlfC7olMJfmbeABAR51Q3HEmSJEmStDI6W8EHIDMfrFYgkiRJkiStdhphiH5EHAsMXF5bZn6n2GdSZp5QpdgkSZIkSaqtBhmi/zjQr8Lrt1iFsUiSJEmStHpphAp+Zk5rfywiDgOmVDUiSZIkSZJWFw1SwScingb+BayRmWOAEcCGwJvVD02SJEmSJHVWrwrtszJzFwpJPsBCoH91Q5IkSZIkaTXR2tq1rRtVWkU/2z22Ar0iYj8K8/PXrVZgkiRJkiTVXB3Nwa9UwY/iY9+I+Hdg8+L+28Ai4NtVikuSJEmSpNrL7NrWjSpV8L9bfPwJMBJ4CPhLZj5WzaAkSZIkSVot1FEFv8MEPzOnFh/v755wJEmSJEnSyqg0RH+5ImLHVR2IJEmSJEmrnSovshcRZ0XEwxHxm4jYpOR434i4MiIejIi7ImJwpXOtVIIPnLySr5MkSZIkqX5ka9e2DkTE1sA6mbktcDgwqaR5Z+CV4k/W/wI4tFKoHQ7Rj4i/A3+isNjee4C/UVhJ/2OVTixJkiRJUt2r7hz8HYHrATLz+Yh4V0nbPGBo8fnawKuVTlZpkb3/ycxdACLirpLnv1rRqCVJkiRJ6mkiYgIwoeTQ5MycXHw+Aphe0tYSEb0ysxV4FDg9Iv4ILAb+rdJ7VUrwS9f071PmuCRJkiRJjamLP3VXTOYnl2mew9IqPUBrMbkH+G/gvMy8KyI2L55j/47eq9Ic/Ch5XulmgCRJkiRJjaW6i+w9AuwDEBEfAV4uadsQeL34/A1gVKWTrWwFX5IkSZKkxlfdOfh3ArtExCMU5twfHhETgdOL28UR0QtoAk6odLJKSXtpBb/vysUrSZIkSVKdqrASfpdOXRiOf2S7wycVH18Exq7I+SoN0T+45PnPSp5H+46SJEmSJKl2OqzgZ+bLJc9/WNJ0TtUikiRJkiRpNZGt9bPGfKUKfpuI+FZErFHcPb5K8UiSJEmStPqo7iJ7q1SnFs6LiLWAjTNz0ZJD1QtJkiRJkqTVRBXn4K9qFRP8iAhgEoXf4FuifsYoSJIkSZK0shpliH5EHAHcBNyemc93T0iSJEmSJGlFdWaIfi9WYK6+JEmSJEkNo5vn0XdFh4l7Zv4E2AvYJSI2656QJEmSJElaTdTRInsVK/OZmRRWzT+p+uFIkiRJkrQayeza1o06NfQ+M98C/hQR/YuHXEVfkiRJkqTVSKd+Jg8gM88q2T2nCrFIkiRJkrR6qaM5+J1O8Etl5oOrOhBJkiRJklY7dfQzeSuV4EuSJEmS1CNkg1fwJUmSJEnqEazgLzX3oIOr/RaSlmPQ1VfWOgSpRzpsva1rHYLUIw0fMLjWIUhSzVnBlyRJkiSpjGz0RfYkSZIkSeoRHKIvSZIkSVIDqKNF9nrVOgBJkiRJktR1VvAlSZIkSSrHIfqSJEmSJDUAF9mTJEmSJKkBWMGXJEmSJKkBuMieJEmSJEnqTlbwJUmSJEkqxyH6kiRJkiTVv3SRPUmSJEmSGoAVfEmSJEmSGkAdJfgusidJkiRJUgOwgi9JkiRJUjl19DN5JviSJEmSJJVTR0P0TfAlSZIkSSoj6yjBdw6+JEmSJEkNwAq+JEmSJEnl1FEF3wRfkiRJkqRyWl1kT5IkSZKk+mcFX5IkSZKkBlBHCb6L7EmSJEmS1ACs4EuSJEmSVEZm/VTwTfAlSZIkSSqnjobom+BLkiRJklSOCb4kSZIkSfUv6yjBd5E9SZIkSZIagBV8SZIkSZLKqaMKvgm+JEmSJEnltNY6gM4zwZckSZIkqQzn4EuSJEmSpG5lBV+SJEmSpHLqqIJvgi9JkiRJUjnOwZckSZIkqf7V0xx8E3xJkiRJksqpowq+i+ypTf8vH8Kgcy9g0KSL6L3BRsu09dthPIO+dzGDJl1En80+UZsApR5g1uw3ueCSq7hw8jW1DkVqOIdPOJBfPXAzjz16B9tsveUybb179+aiC8/hwftv4t67b+Dd714HgNNOPYYnn7iHB6ZO4corLmjrP2rUevzoonM57NAvd+tnkOrNiacdzS/uvJrb7rmOD37o/W3HB6w5gIsvm8Qtd13DlT+9kLUGrglAv3592f+Avbj6hh+19W1qauL8H53NlNuv4Lqf/4SBg9bq9s8h1QsTfAHQZ5NN6TX0Xcw9+T9YcNH3GHDIkW1tvTfYiD6bbMrc47/O3BOOouX3z9QwUqmxTbroMvo2NdGyuKXWoUgNZYMNRrLbrjuw/di9+dxeBzPx3G8u077ffp/j5ZdfZcwO+3DBDy/ltFOPAWDI4EEcethxjB23Lwcf8h9AIdmY9N1v8dbCt4iI7v4oUt349Ge2YPjwYey160GceOyZnPGd49vaDv/agUy95yE+v8uBPPyrxzjokP0AOPLogwmCYcPe1dZ3+x0+y+uv/ot99ziEu+6YyhcP3KfbP4t6tmzNLm3dyQRfADR9fDRvP/wAAIv/8Xdi4MC2tn477krrG68z6L/PZ62TzyQGDa5VmFLDO+f049li84/VOgyp4YwdszU33fxLAN54YwazZr3J4MGD2trH7bAtN9x4KwB33/Mgm236EQAGDxnE7NlvLnOu5uZm9tv/cJ77w5+6JXapXm075t+45ea7AHjxT//DkKFL/4bcaptPc8et9wJw5+1TGf2pzQH4wXmX8LNrb17mPPPnL2DwkML1+q5hQ5k1Y1Y3RC+VaO3i1o1WKMGPiB2qFYhqq9eQoeScN5ceWLwYilWJ3uutT+vcOcw95RjeefQh+n/xKzWJUZKklTVixNrMKEkKZs6azdCSZGPE8GFMnz4TgMyl1ZaI4NqrL+KBqVPYc8+duy9gqQGsvfYwZpZcd4tbWtpGvfTt25eWlsJotdmz3mxL4Jfnycef4QMbv5eHp93BXvvuxl2/vL+6gUvtZGvXtkoi4qyIeDgifhMRm7RrOzgiphXbxlY6V6cS/OJJPwCc2Mn+EyLiqYh46uqXXuvMS1RjuWABsdbAkgNZ2AAWL6b5qWkAvPPkY/QZtWENIpQkacV8cvTmPDB1Cg9MnULfvk3LVA+HDhncltADzJk7j6FDh7TtNzc3A3DYhP9kuzF7sfe+h/LN045l0KCS70pJHZo7dx5Dhiy97loz226gZWtrW7I/eMigZW4EtHfKGcfw4wuvYtstd+foI05m0g++Xd3ApfaqWMGPiK2BdTJzW+BwYFJJ2ybA1sC/ZeZWmflApVA7W8HfCngZ6NREs8ycnJmjM3P0QRu8u5NvoVpqfuE5+m61LQC9R21I64zpS9v+/AJNowuLETV97OO0/O9faxKjJEkr4rdPPcvYcfsydty+3HLr3ez1+V0AGD58GH369GHBgoVtfR999An23mtXAHbeaXumPfE0UFh8D2DevPm8vejtZar7kjr2xONPs9ueOwLwwY3fx6uvvN7W9szTf2DnXccAsOse43jkoWllz7P+qPWY/kbhb9MZ02cycuS6VYxa6nY7AtcDZObzwLtK2r4K/AN4MCJ+HhFrVzpZxZ/Ji4j3AW9m5lsuJNO4mn/7OH1Hb8mgiReSby1kwUXnMeDgw1l47eUsuvNW1jr2ZPp9djty4QLm/2BircOVJGmFPP/8n3n22ed55OHbeOutRRx3/LcAOPGEr3P1NT/n8iuu54rLz+fB+2/ijekzOfyIEwC44vLzGbX+evTp04eLf3IV8+bNr+XHkOrK/fc+zNhx23DrXdcyf/4CTjz2TE478zi+e/aFXPj9yVx4yUQOPeIA/v63lzj1+LPKnue7Z/+Qc753Br16BU19+vCdM87rxk8hdW6YfUciYgIwoeTQ5MycXHw+Aphe0tYSEb0ysxX4AHBPZm4XEfsC3wKO7vC9OroTHRFHAjsBB2TmvIiYClxb0uX1zLyvozeYueu23uqWamDQ1VfWOgSpR+q/3ta1DkHqkYYPcBFgqVZee/OPDV0JnrFT13Late99uOx/n4j4LnBHZj5S3P91Zm5TfH4LcFxm/j0i+gO/zMwO5+FXGqK/5HeaWtsdW1yySZIkSZLUkKq8yN4jwD4AEfERClPjl3gc2KX4fDvguUon63CIfmZeGhEPAqcCpxWP/axiiJIkSZIkqZI7gV0i4hFgHnB4REwETgcuBq4sDs+fAxxS6WQV5+Bn5l8jYmhE9AMcbi9JkiRJ6jG6Oge/w3MX5tof2e7wScXHd4B9V+R8FRP8ol8DI+nkKvqSJEmSJDWCaib4q1qnEvzMvAEgIs6pbjiSJEmSJK1Gsn7q3J2t4AOQmQ9WKxBJkiRJklY3DVHBj4gNgTNZOu8+is/nAQOLx2Zk5onVDFCSJEmSJFXWUQX/FQor5wfwcwqT+wO4Hti/2Kdl+S+VJEmSJKn+ZWsDDNHPzJaIuLy4OwS4jEKCPzIzX+mG2CRJkiRJqqmGGKIPkJnj2x+LiF9VLxxJkiRJklYfWUeL7PXqqDEiXo6IOyJi95LDWfYFkiRJkiQ1kGzt2tadOkzwgT8Bnwc2iYiJxWP1c/tCkiRJkqQeotLP5GVmtgDnRsTBEXEs8LNuiEuSJEmSpJqrp0X2KlXwn1ryJDOvBEYD11U1IkmSJEmSVhOZXdu6U6VF9k4FiIh+wG7AgZm5uDsCkyRJkiSp1hqigh8RGyzZgA8CXwBGFveX9NmxG2KUJEmSJEkVdFTBP73d/hzgmwARcURmtgInA/dVKTZJkiRJkmqqnir4ZRP8zDwsIkYAzcDczFwcEadn5lkl3ernk0qSJEmStIK6ex59V1RaRf9Z4NfAmhHxfWCziOibme8U2+voo0qSJEmStGIaooJf9GJm7rdkJyIOBdYA3in/EkmSJEmSGkNm4yT4CRARE4H1gC2BvtUOSpIkSZIkrZhKCf6SWxXfLfY9H2iKiB8D78ch+pIkSZKkBpattY6g8yol+PcAZOZMgIiYB/TJzCOrHZgkSZIkSbXW2ihD9DNzYrtDVwEzqhaNJEmSJEmrkUaag7+MzHy8WoFIkiRJkrS6qadV9HvVOgBJkiRJktR1K1TBlyRJkiSpJ8k6WlreBF+SJEmSpDLqaYi+Cb4kSZIkSWXU0yr6zsGXJEmSJKkBWMGXJEmSJKmMhv2ZPEmSJEmSehIX2ZMkSZIkqQHU0xx8E3xJkiRJksqopyH6LrInSZIkSVIDsIIvSZIkSVIZzsEvcfuzo6r9FpKW47D1tq51CFKP9Narj9Q6BKlHWnujcbUOQVKDcg6+JEmSJEkNoJ7m4JvgS5IkSZJURj1V8F1kT5IkSZKkBmAFX5IkSZKkMupojT0TfEmSJEmSyqmnIfom+JIkSZIklVFPi+w5B1+SJEmSpAZgBV+SJEmSpDJaax3ACjDBlyRJkiSpjKR+huib4EuSJEmSVEZrHS2jb4IvSZIkSVIZrXVUwXeRPUmSJEmSGoAVfEmSJEmSynAOviRJkiRJDcBV9CVJkiRJagD1VMF3Dr4kSZIkSQ3ACr4kSZIkSWU4RF+SJEmSpAZggi9JkiRJUgOopzn4JviSJEmSJJXRWj/5vYvsSZIkSZJUKxFxVkQ8HBG/iYhNltO+TkQsjIg1Kp3LCr4kSZIkSWW0VnGIfkRsDayTmdtGxEeBScAu7bqdDMzozPlM8CVJkiRJKiOre/odgesBMvP5iHhXaWNEfKIYwt86czKH6EuSJEmSVEZrF7eImBART5VsE0pOPwKYXrLfEhG9KLxuAHAu8O3OxmoFX5IkSZKkMlqja0P0M3MyMLlM8xxgaOnbZeaSX+Y7H5iYmXOikzFYwZckSZIkqTYeAfYBiIiPAC8Xn48AtgAOi4gbgI8AV1U6mRV8SZIkSZLKqPIc/DuBXSLiEWAecHhETAROz8zRSzpFxEPAVyqdzARfkiRJkqQyWit3WWnF4fhHtjt80nL6bdeZ85ngS5IkSZJURmv1fiVvlXMOviRJkiRJDcAKviRJkiRJZbRSPyV8E3xJkiRJksqo8iJ7q5QJviRJkiRJZdTTHHwTfEmSJEmSyqjmKvqrmovsSZIkSZLUAKzgS5IkSZJUhnPwJUmSJElqAPU0B98h+j3cx0/Yh/E3ncYut57BkA+ObDs+9EPrs+P1J7HLrWewzQ+PJHoX/q+yxrBBjLnsGHa97Qy2vfjrtQpbqmuHTziQXz1wM489egfbbL3lMm29e/fmogvP4cH7b+Leu2/g3e9eB4DTTj2GJ5+4hwemTuHKKy5o6z9q1Hr86KJzOezQL3frZ5Aa0azZb3LBJVdx4eRrah2K1FC+eugXueve63ngVzez1Wc/tUxb7969+f4PvsOd9/yM2+64hnXXHQFAr1692GPPnZj6wJRl+q+//rs5/4KzOPiQ/bstfqm1i1t3soLfg63zqY3pv/Yg7t7nbIZsvD6f/Ob+TD3wPADmvTSd+/afCMBWkw5l+MffxxtP/T9Gn7YfvzvvJmb/+eVahi7VrQ02GMluu+7A9mP3ZsSItbntlqv4zFa7tbXvt9/nePnlVznq6FPYZfxYTjv1GI46+hSGDB7EoYcdx3PP/bGtb1NTE5O++y1e/uerRNTRrWVpNTXposvYYOS7WfT227UORWoYo0atx87jx7LLTvszfMQwbvz5pYzZbq+29n323Z1XXn6N4445gx132o4TTz6K4445g4O+8gUGDlyLpqamtr5NTU2cfc6pvPzya/i1p+7UIxbZi4gdV2Ug6n7rbfsx/nbb4wC8+eLL9B26Vltby8LCHze9+zXRb8iazPvHG/QdPIB+Q9di02/syfhfnM779t6qJnFL9WzsmK256eZfAvDGGzOYNetNBg8e1NY+bodtueHGWwG4+54H2WzTjwAweMggZs9+c5lzNTc3s9/+h/PcH/7ULbFLje6c049ni80/VuswpIay3fZbcestdwEw/Y2ZzJ49h8GDB7a1jxn7WW6acgcAU+97mI9+9MMAXHnF9fzwgktpaWlp69vc3MxBBxzNC8+/2I2fQKovK5TgR0S/kt2TO+g3ISKeioinHlrw/1Y6OFVX/7UHsWjmvLb9bFlM6e3QbS76GvtMO59Zf/4nb02fw8ANRjDovesy7bSrue+L57LxAWPpP2JIDSKX6teIEWszY8astv2Zs2YzdOjgpe3DhzF9+kwAMpcu6RIRXHv1RTwwdQp77rlz9wUsSVIXDB8+bJnvvVmzZjNkyODltpd+70mrk4yubd2pwwQ/Im5sd+ju0uZyr8vMyZk5OjNHb7fmB7oSn6ronbkL6Td4zbb9bE0o+Yf110ddzI2fOJpeTX14/79vTeviVmb87q+8PXs+ixc188aTLzJoo3VqEbpUVz45enMemDqFB6ZOoW/fJoaUJPRDhwxuS+gB5sydx9ChQ9r2m5ubAThswn+y3Zi92HvfQ/nmaccyaNDS6ockSauTT2yxKb+8+6f88u6f0tS3aZmEfsiQwcsk/HPnzlumvbmluVtjlTqjnubgV6rgj2i3X5rUe4utzv3ryRfZaNfCQieDP7AeC15b+o9t08D+hSeZvPX6bJoGrMHcv73GkA+OpM+AfkSvYNhm72XO316rRehSXfntU88ydty+jB23L7fcejd7fX4XoFC16NOnDwsWLGzr++ijT7D3XrsCsPNO2zPtiaeBwiJEAPPmzeftRW9b5ZAkrbaeefo5dhv/JXYb/yXuuP1e9iiOPFt7+DD69Om9zPfeY489xZ6fK7TvMG5bfvvE72oSs9SRekrwKy2y1/4vyHUj4kA6qN6rfvzz/mdZf8xmjP/F6bTMf4vHTr6C0ad+gWcm3cR79tiS9++7Na3NLcx7aTqPn3Ilre+08PsLbmPnG0+hdXErL173IItmzK31x5DqyvPP/5lnn32eRx6+jbfeWsRxx38LgBNP+DpXX/NzLr/ieq64/HwevP8m3pg+k8OPOAGAKy4/n1Hrr0efPn24+CdXMW/e/Fp+DEmSOuWPL/yF5557gfvun8KiRYs4+aSzADj2uMP56XU3c81VN/LjSyZx5+7jmDF9Jt846tQaRyzVt+ioChQRD2bmmJL9PwL/RSHB/2ppWzlXjvyyZSapBg6b/qtahyD1SG+9+kitQ5B6pLU3GlfrEKQea878vzZ0AfjCUV3LaY/+53Xd9t9nRX8m71+Z+TOAiPhqFeKRJEmSJGm10VpHty8qJfgjI+K+4vMA3qhyPJIkSZIkrTa6ex59V3SY4Gfmxh0019F9DEmSJEmSVlw9JfiVVtHvyNmrLApJkiRJktQlKzoHv01m3r8qA5EkSZIkaXVTT6vGl03wI+JoYODy2jLzv4t9zs3Mk6sUmyRJkiRJNVVPi+x1NET/t8BvgG2Lj83AgOLzJT5VvdAkSZIkSaqt1i5u3alsBT8zpwFExNeA6cBfgTUy8+Fuik2SJEmSpJpqiCH6ABGxHbARcBCwGfBQtQOSJEmSJEkrrtIie98BtsvMtwAi4ucR0Ssz6+mXAiRJkiRJWimtdVTDr5Tgv70kuS96BRgYEbsCAaxTtcgkSZIkSaqxeqpud7TIHsA/I+ILEbFGRGwJjMzMOUAThZsD3616hJIkSZIk1Uh2cetOlSr4XwNOAG4A/ggcBpCZV1c5LkmSJEmStAI6TPAzcxFwVjfFIkmSJEnSaqWRhui3iYheEfHpagYjSZIkSdLqpDW6tnWnTif4FObdH1StQCRJkiRJWt20kl3aulOHCX5ETI2IaRHxwtJDsW5E/DoinoiIsd0QoyRJkiRJNVFPi+xVquB/GbiWws/jLYntKOB0YHsKC/BJkiRJkqQaW5Eh+gcUHz8CTMvMhVWIR5IkSZKk1UZrF7fuVOln8kotLj6WjjLo7hEHkiRJkiR1m+6eR98VlSr4pZ/k+uLjn4EtI6J/J14vSZIkSVLdqqc5+JUq+NcBA4G1WBrfRcANwBrAqVWNTpIkSZKkGuruYfZd0WGCn5k7LnkeEf2AyMzXgG2rHZgkSZIkSeq8Ts/Bz8y3I+LyagYjSZIkSdLqpJ7m4JdN8CNiDIWV8xOI4iMR0dYFyMw8pMoxSpIkSZJUE/WT3ndcwZ8GvMjSBP+rFBbYe5SShF+SJEmSpEbVEHPwM3NhRNzM0gR/Q2A+8JVilyVJ/i5VjlGSJEmSJFVQaZG98d0ViCRJkiRJq5uso8HrHSb4EfEA8HfgEWBKZi7slqgkSZIkSVoN1NMQ/V4V2luBU4AFwG0RcUzVI5IkSZIkaTXRSnZp606VEnwyc3pm3pSZ44B5EXFTRHT65/UkSZIkSapX2cWtO1VK8J8p3cnMy4HLgYuqFpEkSZIkSVphlRbZO2k5x+6OiCeqF5IkSZIkSauH7h5m3xUrNdQ+M2et6kAkSZIkSVrd1NMie86llyRJkiSpjIb5mTxJkiRJknoyK/gljpnzeLXfQtJyDB8wuNYhSD3S2huNq3UIUo8043+n1joESaq5ij+TJ0mSJElST5Vd/F8lEXFWRDwcEb+JiE1Kjm8aEfdFxCMR8fOI6FvpXCb4kiRJkiSV0drFrSMRsTWwTmZuCxwOTCppTmD3zNwa+AewZ6VYnYMvSZIkSVIZrVnVRfZ2BK4HyMznI+JdSxoy8w8l/WYDCyqdzAq+JEmSJElVEhETIuKpkm1CSfMIYHrJfktE9Gr3+q2ATYB7K72XFXxJkiRJksroav0+MycDk8s0zwGGluy3ZmYrQEQEcBLQBByYmYsrvZcJviRJkiRJZbR2OcXv0CPAPsAjEfER4OWStiOA1zLz6s6ezARfkiRJkqQyOrMSfhfcCewSEY8A84DDI2IicDqwOzAkIg4u9r09M7/f0clM8CVJkiRJKqPSSvhdURyOf2S7wycVH3dZ0fO5yJ4kSZIkSQ3ACr4kSZIkSWVUeQ7+KmWCL0mSJElSGVWeg79KmeBLkiRJklRGNefgr2om+JIkSZIklZFZPxV8F9mTJEmSJKkBWMGXJEmSJKkMF9mTJEmSJKkBOAdfkiRJkqQGUE+r6DsHX5IkSZKkBmAFX5IkSZKkMpyDL0mSJElSA6inn8kzwZckSZIkqQwX2ZMkSZIkqQG4yJ4kSZIkSepWVvAlSZIkSSrDRfYkSZIkSWoALrInSZIkSVIDqKcKvnPwJUmSJElqAFbwJUmSJEkqo55W0TfBlyRJkiSpjFbn4EuSJEmSVP/qJ703wZckSZIkqSwX2ZMkSZIkSd3KCr4kSZIkSWXUUwXfBF+SJEmSpDLSRfYkSZIkSap/VvAlSZIkSWoAWUcJvovsia8e+kXuuvd6HvjVzWz12U8t09a7d2++/4PvcOc9P+O2O65h3XVHANCrVy/22HMnpj4wpRYhS3XpxNOO5hd3Xs1t91zHBz/0/rbjA9YcwMWXTeKWu67hyp9eyFoD1wSgX7++7H/AXlx9w4/a+jY1NXH+j85myu1XcN3Pf8LAQWt1++eQ6tWq/L5bf/13c/4FZ3HwIft3W/xSo5o1+00uuOQqLpx8Ta1DkeqeCX4PN2rUeuw8fiy77LQ/+31hAmf918nLtO+z7+688vJr7LrzF/nRRVdw4slHAXDQV77ARhttQFNTUy3ClurOpz+zBcOHD2OvXQ/ixGPP5IzvHN/WdvjXDmTqPQ/x+V0O5OFfPcZBh+wHwJFHH0wQDBv2rra+2+/wWV5/9V/su8ch3HXHVL544D7d/lmkerQqv++ampo4+5xTWbjwLSK69WNIDWnSRZfRt6mJlsUttQ5FWq7M7NLWnUzwe7jttt+KW2+5C4Dpb8xk9uw5DB48sK19zNjPctOUOwCYet/DfPSjHwbgyiuu54cXXEpLi/8QS52x7Zh/45abC9fai3/6H4YMHdzWttU2n+aOW+8F4M7bpzL6U5sD8IPzLuFn1968zHnmz1/A4CGDAHjXsKHMmjGrG6KX6t+q/L5rbm7moAOO5oXnX+zGTyA1rnNOP54tNv9YrcOQymolu7R1JxP8Hm748GHMKEkQZs2azZAhg5fbXk+rR0qrm7XXHsbMkmttcUsLUSz99e3bty15mD3rzbYEfnmefPwZPrDxe3l42h3ste9u3PXL+6sbuNQg/L6TJK2seqrgl11kLyK+BGwH/+eWw73ArsCfgQ9n5sHLee0EYALAGn3Xpm9T+T9W1f0+scWmfOe/TgLgkV9PW+YPnCFDBi/zB9DcufMYMmQwCxYsBKC5pbl7g5UaxJJraYnWkn/ws7WViCAzGTxk0DI3Ato75Yxj+PGFV/Hg1F+zycc+xKQffJuvHXpC1eOX6pHfd5KknqajCv7dwH8BZwPnABcDvYEtgF8A44GRy3thZk7OzNGZOdrkfvXzzNPPsdv4L7Hb+C9xx+33sseeOwOw9vBh9OnTu+2PG4DHHnuKPT9XaN9h3Lb89onf1SRmqd498fjT7LbnjgB8cOP38eorr7e1PfP0H9h51zEA7LrHOB55aFrZ86w/aj2mvzEdgBnTZzJy5LpVjFqqb37fSZJWhXoaol+2gp+ZsyJiK2AR8ARwDDC32Dy9+qGpO/zxhb/w3HMvcN/9U1i0aBEnn3QWAMcedzg/ve5mrrnqRn58ySTu3H0cM6bP5BtHnVrjiKX6dP+9DzN23Dbcete1zJ+/gBOPPZPTzjyO7559IRd+fzIXXjKRQ484gL//7SVOPf6ssuf57tk/5JzvnUGvXkFTnz5854zzuvFTSPXL7ztJ0sqqp5/Ji3JzAiJiDLAnhar9TykMuT8OOBG4FTgXaM7MHTt6g8Frva9+/mtIDWRAn361DkHqkRa2vF3rEKQeacb/Tq11CFKP1bT2exv6N0U+us6WXcppn//XtG7771O2gg9sDUwE+gF7Ax8CDub/zsmXJEmSJKkh1VMFv6M5+O8A/YvbO8DrwG+BJXcfBhU3SZIkSZJUYx1V8G8DfkghoT8a+GhmPhIRfYGXgdu7IT5JkiRJkmqmtY5+PrWjRfb+GBFHUphn/1pE9Coef6DY5dvdEaAkSZIkSbVST0P0O6rgk5kvlTw/tPrhSJIkSZK0+qinCn5Hc/CXERG9IuLT1QxGkiRJkqTVSXbxf92p0wk+0AQcVK1AJEmSJEnSyuswwY+IqRExLSJeWHoo1o2IX0fEExExthtilCRJkiSpJlozu7R1p0oV/C8D1wKvQNvYgqOA04HtgROqF5okSZIkSbXVqEP0Dyg+fgSYlpkLqxCPJEmSJEmrjczWLm3daUUS/MXFx9JbEPWznKAkSZIkSQ2sUoJfmsBfX3z8M7BlRPTvxOslSZIkSapbrWSXtu7Up0L7dcBAYC0KyX4CFwE3AGsAp1Y1OkmSJEmSaii7eaG8rugwwc/MHZc8j4h+QGTma8C21Q5MkiRJkqRa6+4qfFdUquC3ycy3I+LyagYjSZIkSdLqpCEq+BExhsLK+QlE8ZGIaOsCZGYeUuUYJUmSJElSBR1V8KcBL7I0wf8qhQX2HqUk4ZckSZIkqVG1NkIFPzMXRsTNLE3wNwTmA18pdlmS5O9S5RglSZIkSaqJrKPadqVF9sZ3VyCSJEmSJK1uqj0HPyLOArahkJ9PyMwXisfXAi4FRgKzgAMzc25H5+rwd+wj4oGIuCwiDoqIAaskekmSJEmS6sSK/u59+60jEbE1sE5mbgscDkwqaT4WuCMztwGmAkdWirXDBB9oBU4BFgC3RcQxlU4oSZIkSZI6ZUfgeoDMfB54V0nbGGBK8fnNwGcqnaxSgk9mTs/MmzJzHDAvIm6KiE7/vJ4kSZIkSfUqM7u0RcSEiHiqZJtQcvoRwPSS/ZaIWJKn98vM5uLzmcDQSrFWStSfaffBLo+IV4GLgCMqnVySJEmSpHrW1VX0M3MyMLlM8xyWTdxbM7N1yfOI6FXcH8qyNwKWq8MKfmaetJxjdwOnVjqxJEmSJEn1rqsV/AoeAfYBiIiPAC+XtD0B7Fl8vjdwf6WTVRyivzyZOWtlXidJkiRJktrcCfSNiEeA84CTImJiRPQFzgEmRMRDwBbAlZVO5lx6SZIkSZLKqLQSflcUh9+3Xx1/yUj6GcAK/XS9Cb4kSZIkSWV0Ypj9asMEX5IkSZKkMrq6yF53MsGXJEmSJKmMrOIQ/VVtpRbZkyRJkiRJqxcr+JIkSZIkleEQfUmSJEmSGoCL7EmSJEmS1ADqaQ6+Cb4kSZIkSWXUUwXfRfYkSZIkSWoAVvAlSZIkSSqjnir4JviSJEmSJJVRP+k9RD3djVD3i4gJmTm51nFIPY3XnlQbXntSbXjtSauGc/BVyYRaByD1UF57Um147Um14bUnrQIm+JIkSZIkNQATfEmSJEmSGoAJvipxLpRUG157Um147Um14bUnrQIusidJkiRJUgOwgq+VEhGfiYjjah2HVM8i4rKI2KhCn6ZKfSSVFxFrRsTYVXSuz0TEN1bFuaSeaGWvx4jYJCJOjYhvL3l9RAyLiC+v+iil+tan1gGouiLiSIDM/HG746OAK5fzkg9k5oYl/XYETixpH5aZHwf6AYPKvOcEoE9mXtzF8KWGEBEnAzuXHPoQsHm7PucAnyzufgQYCdwNHAqcCXxlOef1WpOKIuK7wCeKu70zc/uIuIfCNXQA8ECx39TifqnrMnOHknP1By4GRgFrAKdn5q9YzndfRPwFeLXd+aZn5r6r5INJdWgVX48bApOA/wAWAidFxFrA74HtgOuq+FGkumOC38AiohewE5ARcUlmti5py8x/Ajss5zX3lO5n5n3AfeXal/P69wO7Fp7GfZn5P137FFL9y8xzgXOX7EfEz4Hmdn1OKbY1AbdmZkZE2XN6rUnLyswTASJiBCXX23IMBPZpd6z9DesTgPsy8/qIGAA8FBH/AIYAD7fr+1JpMiJplV+PzRRGHfcDFlPIXxatmkilxmOC36CKf5CcB1wOtAI/jojjM3PeCp5nHHAES5OR/mX67Q9sA7wJfJnCP8RnRMRQ4DeZefnKfA6pUUTE2sCJxT961gTmFpsGRcQambnkj5XjWbrQ0AbAFODFkvN4rUkd2xZ4pIP2gcDn2h1rn1BsQeE7lMxcGBEPAdcAawOfXSVRSj1Dl6/HzHw1Io6icFO7L/BT4Hlg2KoLU2ocJvgNKCLOoDDEd2Jm/q547CVgckT8JTO/FRH/AXyRQuLeUtyagfe2O91IYEpm3lDhbZ8EbilJUgD+s3ijYf0ufyip/vUB1is+/15mNhcr9GcANwJTIuIQ4F2ZeVux30sUhjP+V8l5vNakjh3O0oRhQ+Cr0DaqrS+F5B1gfwrX5bXF9jWA5sxcDPwJ2Ax4vNh3MwpTa9p/R0rqWJeuRwpFqsuABIYD6wIfpXCT/Iru+ABSvTHBb0zfy8wFpQcy8w/A/sUkgMy8ALig/QvLDMEfHxHrUqgUDgCms2xFcSywZHjxcgOKiO8Wh/tLPUpE/BuF+fMDgS0j4nqgX0QsqQIeD7wcET8DnmbZNS/an8trTepARBwK3JWZ84uH5lP4vnoPMBo4ZDkv26Lk+dUUkvpzgUsj4lUKN7ofpjAXfzDwVrvXzy5W+NcBAni9eHx8ZrbvK/UYq+J6zMzHWXpTYBvgUxQS+zOAoyncAJBUwgS/AbVP7tu1Lazw8sXt9u8ClsztbaXwh80/gE1LzvkAxcVSAIormvbJzKs6H7XUsH4PnM3SUTLvAIsyc1FEXAaQmS0RcRjwJeBXJcn7hsANwO+K/bzWpDIiYjywC8vO550JPArsnJlPAk9GxHrAUcCHKSTkfwQuysy2hfIy801g3+LUl3mZ2VJ8j+1oN0R/yWJ6Xo/SUqvyeiyebweWrh11IoU5+Iso3BiXVMIEv8GUVvg6MKmDPh8rViLOzcx7MvONYqVxjcz8WUm/h4qbpA4Ub7gtiIifZOYR7ZqPoHhTrdhvMkvn3wMQEeuz7BB9Se1ExDDg88B+pQvKlnED8C3grOL+pylMk9m63Tm/ArRkZtsK3Zn5EH73SR2qxvUI/JnCCIBSw4G9KaxVI6nIBL/BtK/wdeDeFTht3+ImaeW9v/2BJVVBSV2TmTOBCZ3s3h94csnw+Yh4ElgjIiIzs7PvWVyE9rTlHP9Kye65mdnhr89IjaZK1+OhwB4sXaB2Ca8vqR0TfHXWye3+aAF4OjP/czl9/wX0rn5IUl3pXRwd016lBKAFmFGmzWtNWnGnArdExJLkIYBTyyT3pxXnEZd6MjNPzMypwNRqBir1ACtyPS5ZFLrUh6sZnFSPYgVuVkuSJEmSpNVUr1oHIEmSJEmSus4EX5IkSZKkBmCCL0mSJElSAzDBlyRJkiSpAZjgS5IkSZLUAEzwJUmSJElqACb4kiRJkiQ1gP8PLslC5iJWTiUAAAAASUVORK5CYII=\n",
      "text/plain": [
       "<Figure size 1440x432 with 2 Axes>"
      ]
     },
     "metadata": {
      "needs_background": "light"
     },
     "output_type": "display_data"
    }
   ],
   "source": [
    "plt.figure(figsize=(20,6))\n",
    "plt.title('상관관계')\n",
    "sns.heatmap(movie.corr(),annot=True)\n",
    "pass"
   ]
  },
  {
   "cell_type": "markdown",
   "metadata": {},
   "source": [
    "## 흥행확인"
   ]
  },
  {
   "cell_type": "code",
   "execution_count": 47,
   "metadata": {
    "ExecuteTime": {
     "end_time": "2021-04-16T14:39:15.611538Z",
     "start_time": "2021-04-16T14:39:15.379158Z"
    },
    "scrolled": false
   },
   "outputs": [
    {
     "name": "stderr",
     "output_type": "stream",
     "text": [
      "C:\\ProgramData\\Anaconda3\\lib\\site-packages\\seaborn\\_decorators.py:36: FutureWarning: Pass the following variable as a keyword arg: x. From version 0.12, the only valid positional argument will be `data`, and passing other arguments without an explicit keyword will result in an error or misinterpretation.\n",
      "  warnings.warn(\n"
     ]
    },
    {
     "data": {
      "image/png": "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\n",
      "text/plain": [
       "<Figure size 432x288 with 1 Axes>"
      ]
     },
     "metadata": {
      "needs_background": "light"
     },
     "output_type": "display_data"
    }
   ],
   "source": [
    "sns.countplot(movie.흥행)\n",
    "pass"
   ]
  },
  {
   "cell_type": "code",
   "execution_count": 48,
   "metadata": {
    "ExecuteTime": {
     "end_time": "2021-04-16T14:39:16.379488Z",
     "start_time": "2021-04-16T14:39:15.614528Z"
    }
   },
   "outputs": [
    {
     "data": {
      "text/plain": [
       "<matplotlib.legend.Legend at 0x13f56d78040>"
      ]
     },
     "execution_count": 48,
     "metadata": {},
     "output_type": "execute_result"
    },
    {
     "data": {
      "image/png": "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\n",
      "text/plain": [
       "<Figure size 864x720 with 1 Axes>"
      ]
     },
     "metadata": {
      "needs_background": "light"
     },
     "output_type": "display_data"
    }
   ],
   "source": [
    "plt.figure(figsize=(12,10))\n",
    "sns.countplot(x=movie.개봉연도,hue=movie.흥행)\n",
    "plt.legend(['흥행 = No','흥행 = Yes'])"
   ]
  },
  {
   "cell_type": "code",
   "execution_count": 49,
   "metadata": {
    "ExecuteTime": {
     "end_time": "2021-04-16T14:39:16.387462Z",
     "start_time": "2021-04-16T14:39:16.382475Z"
    }
   },
   "outputs": [],
   "source": [
    "# 500만이상 작품이 생각보다 작아서 500만이상인 데이터들로 시각화"
   ]
  },
  {
   "cell_type": "code",
   "execution_count": 50,
   "metadata": {
    "ExecuteTime": {
     "end_time": "2021-04-16T14:39:16.401425Z",
     "start_time": "2021-04-16T14:39:16.392450Z"
    }
   },
   "outputs": [],
   "source": [
    "# mo500 = movie[movie.흥행 == '500만이상']\n",
    "# fig,ax = plt.subplot(2,3,figsize=(16,10))\n",
    "# sns.countplot(mo500.개봉연도,hue=mo500.흥행,ax=ax[0][0])\n",
    "# sns.countplot(mo500.국가,hue=mo500.흥행,ax=ax[0][1])\n",
    "# sns.countplot(mo500.장르,hue=mo500.흥행,ax=ax[0][2])\n",
    "# sns.countplot(mo500.관람가,hue=mo500.흥행,ax=ax[1][0])\n",
    "# sns.countplot(mo500.개봉월,hue=mo500.흥행,ax=ax[1][1])\n",
    "# plt.xticks(rotation=50)\n",
    "# pass"
   ]
  },
  {
   "cell_type": "code",
   "execution_count": 51,
   "metadata": {
    "ExecuteTime": {
     "end_time": "2021-04-16T14:39:16.548032Z",
     "start_time": "2021-04-16T14:39:16.405414Z"
    }
   },
   "outputs": [
    {
     "data": {
      "image/png": "iVBORw0KGgoAAAANSUhEUgAAAj8AAABICAYAAAAZFJRnAAAAOXRFWHRTb2Z0d2FyZQBNYXRwbG90bGliIHZlcnNpb24zLjMuMiwgaHR0cHM6Ly9tYXRwbG90bGliLm9yZy8vihELAAAACXBIWXMAAAsTAAALEwEAmpwYAAACjklEQVR4nO3asWpUQRiG4TlmDUlAF2KSTmzSWmkr2Fl4BWIlXoCtN2FhJ2JlYWdj7wUI9hKwsRBENygEK4WxDxYuZJyc+Z6nPCzh+1kIL5ydaq0FACDFhd4DAAD+J/EDAEQRPwBAFPEDAEQRPwBAFPEDAERZrPPhze3LdWd50GpLd1c3jntPaOrz1sXeE5o5OP7Ve0JTJ1t7vSc0tTF97z2hqeVi7O/vR/nZe0Izl7bH/t/yre72ntDU6uOHVa11//TzteJnZ3lQbt1/cnarzpmnuy97T2jq8eG44fro1dfeE5p6e/ig94Smdjdf957Q1J0rD3tPaOrN9K73hGZuX//Se0JTz37f6z2hqRd3b3z623OvvQCAKOIHAIgifgCAKOIHAIgifgCAKOIHAIgifgCAKOIHAIgifgCAKOIHAIgifgCAKOIHAIgifgCAKOIHAIgifgCAKOIHAIgifgCAKOIHAIgifgCAKOIHAIgifgCAKOIHAIgifgCAKOIHAIgifgCAKOIHAIgifgCAKOIHAIgifgCAKOIHAIgifgCAKOIHAIgifgCAKOIHAIgifgCAKOIHAIgifgCAKOIHAIgifgCAKOIHAIgifgCAKOIHAIgifgCAKOIHAIgifgCAKOIHAIgifgCAKOIHAIgifgCAKOIHAIgifgCAKOIHAIgy1Vr//cPTdFJKOWo3p7u9Usqq94hGRr6tFPfNnfvma+TbSnHf3F2rte6ffrhY848c1VpvntGgc2eapvej3jfybaW4b+7cN18j31aK+0bltRcAEEX8AABR1o2f501WnB8j3zfybaW4b+7cN18j31aK+4a01g+eAQDmzmsvACCK+AEAoogfACCK+AEAoogfACDKH0R9Z2D2NkMfAAAAAElFTkSuQmCC\n",
      "text/plain": [
       "<Figure size 720x72 with 1 Axes>"
      ]
     },
     "metadata": {
      "needs_background": "light"
     },
     "output_type": "display_data"
    }
   ],
   "source": [
    "palette1 = sns.color_palette('deep',10)\n",
    "sns.palplot(palette1)"
   ]
  },
  {
   "cell_type": "code",
   "execution_count": 52,
   "metadata": {
    "ExecuteTime": {
     "end_time": "2021-04-16T14:39:18.752135Z",
     "start_time": "2021-04-16T14:39:16.551025Z"
    }
   },
   "outputs": [
    {
     "name": "stderr",
     "output_type": "stream",
     "text": [
      "C:\\ProgramData\\Anaconda3\\lib\\site-packages\\seaborn\\_decorators.py:36: FutureWarning: Pass the following variable as a keyword arg: x. From version 0.12, the only valid positional argument will be `data`, and passing other arguments without an explicit keyword will result in an error or misinterpretation.\n",
      "  warnings.warn(\n",
      "C:\\ProgramData\\Anaconda3\\lib\\site-packages\\seaborn\\_decorators.py:36: FutureWarning: Pass the following variable as a keyword arg: x. From version 0.12, the only valid positional argument will be `data`, and passing other arguments without an explicit keyword will result in an error or misinterpretation.\n",
      "  warnings.warn(\n",
      "C:\\ProgramData\\Anaconda3\\lib\\site-packages\\seaborn\\_decorators.py:36: FutureWarning: Pass the following variable as a keyword arg: x. From version 0.12, the only valid positional argument will be `data`, and passing other arguments without an explicit keyword will result in an error or misinterpretation.\n",
      "  warnings.warn(\n",
      "C:\\ProgramData\\Anaconda3\\lib\\site-packages\\seaborn\\_decorators.py:36: FutureWarning: Pass the following variable as a keyword arg: x. From version 0.12, the only valid positional argument will be `data`, and passing other arguments without an explicit keyword will result in an error or misinterpretation.\n",
      "  warnings.warn(\n"
     ]
    },
    {
     "data": {
      "image/png": "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\n",
      "text/plain": [
       "<Figure size 1152x720 with 4 Axes>"
      ]
     },
     "metadata": {
      "needs_background": "light"
     },
     "output_type": "display_data"
    }
   ],
   "source": [
    "fig,ax = plt.subplots(2,2,figsize=(16,10))\n",
    "sns.countplot(mo500.국가, hue = mo500.흥행,ax=ax[0][0],palette= palette1) \n",
    "sns.countplot(mo500.관람가, hue = mo500.흥행,ax=ax[0][1],palette= palette1)\n",
    "sns.countplot(mo500.개봉월, hue = mo500.흥행,ax=ax[1][0],palette= palette1)\n",
    "sns.countplot(mo500.개봉연도, hue = mo500.흥행,ax=ax[1][1],palette= palette1)\n",
    "pass"
   ]
  },
  {
   "cell_type": "code",
   "execution_count": 53,
   "metadata": {
    "ExecuteTime": {
     "end_time": "2021-04-16T14:39:19.347542Z",
     "start_time": "2021-04-16T14:39:18.755129Z"
    }
   },
   "outputs": [
    {
     "name": "stderr",
     "output_type": "stream",
     "text": [
      "C:\\ProgramData\\Anaconda3\\lib\\site-packages\\seaborn\\_decorators.py:36: FutureWarning: Pass the following variable as a keyword arg: x. From version 0.12, the only valid positional argument will be `data`, and passing other arguments without an explicit keyword will result in an error or misinterpretation.\n",
      "  warnings.warn(\n"
     ]
    },
    {
     "data": {
      "image/png": "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\n",
      "text/plain": [
       "<Figure size 1440x432 with 1 Axes>"
      ]
     },
     "metadata": {
      "needs_background": "light"
     },
     "output_type": "display_data"
    }
   ],
   "source": [
    "plt.figure(figsize=(20,6))\n",
    "sns.countplot(mo500.개봉연도,hue=mo500.흥행,palette=palette1)\n",
    "plt.xticks(rotation=50)\n",
    "pass"
   ]
  },
  {
   "cell_type": "code",
   "execution_count": 54,
   "metadata": {
    "ExecuteTime": {
     "end_time": "2021-04-16T14:39:19.969291Z",
     "start_time": "2021-04-16T14:39:19.350534Z"
    }
   },
   "outputs": [
    {
     "name": "stderr",
     "output_type": "stream",
     "text": [
      "C:\\ProgramData\\Anaconda3\\lib\\site-packages\\seaborn\\_decorators.py:36: FutureWarning: Pass the following variable as a keyword arg: x. From version 0.12, the only valid positional argument will be `data`, and passing other arguments without an explicit keyword will result in an error or misinterpretation.\n",
      "  warnings.warn(\n"
     ]
    },
    {
     "data": {
      "image/png": "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\n",
      "text/plain": [
       "<Figure size 1440x432 with 1 Axes>"
      ]
     },
     "metadata": {
      "needs_background": "light"
     },
     "output_type": "display_data"
    }
   ],
   "source": [
    "plt.figure(figsize=(20,6))\n",
    "sns.countplot(mo500.장르,hue=mo500.흥행,palette='Paired')\n",
    "plt.xticks(rotation=50)\n",
    "pass"
   ]
  },
  {
   "cell_type": "code",
   "execution_count": 55,
   "metadata": {
    "ExecuteTime": {
     "end_time": "2021-04-16T14:39:20.351234Z",
     "start_time": "2021-04-16T14:39:19.973247Z"
    }
   },
   "outputs": [
    {
     "data": {
      "image/png": "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\n",
      "text/plain": [
       "<Figure size 432x288 with 1 Axes>"
      ]
     },
     "metadata": {
      "needs_background": "light"
     },
     "output_type": "display_data"
    }
   ],
   "source": [
    "# 스크린수 흥행\n",
    "sns.boxplot(x = movie.흥행,y=movie.스크린수)\n",
    "pass"
   ]
  },
  {
   "cell_type": "markdown",
   "metadata": {},
   "source": [
    "## 각 컬럼들 관객수관계"
   ]
  },
  {
   "cell_type": "code",
   "execution_count": 56,
   "metadata": {
    "ExecuteTime": {
     "end_time": "2021-04-16T14:39:21.027426Z",
     "start_time": "2021-04-16T14:39:20.355226Z"
    },
    "scrolled": false
   },
   "outputs": [
    {
     "data": {
      "image/png": "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\n",
      "text/plain": [
       "<Figure size 1440x432 with 1 Axes>"
      ]
     },
     "metadata": {
      "needs_background": "light"
     },
     "output_type": "display_data"
    }
   ],
   "source": [
    "# 관람가 관객수\n",
    "plt.figure(figsize=(20,6))\n",
    "sns.barplot(x=movie.관람가,y=movie.관객수)\n",
    "pass"
   ]
  },
  {
   "cell_type": "code",
   "execution_count": 106,
   "metadata": {
    "ExecuteTime": {
     "end_time": "2021-04-16T15:00:12.398824Z",
     "start_time": "2021-04-16T15:00:12.354941Z"
    }
   },
   "outputs": [
    {
     "data": {
      "text/html": [
       "<div>\n",
       "<style scoped>\n",
       "    .dataframe tbody tr th:only-of-type {\n",
       "        vertical-align: middle;\n",
       "    }\n",
       "\n",
       "    .dataframe tbody tr th {\n",
       "        vertical-align: top;\n",
       "    }\n",
       "\n",
       "    .dataframe thead th {\n",
       "        text-align: right;\n",
       "    }\n",
       "</style>\n",
       "<table border=\"1\" class=\"dataframe\">\n",
       "  <thead>\n",
       "    <tr style=\"text-align: right;\">\n",
       "      <th></th>\n",
       "      <th>영화명</th>\n",
       "      <th>감독</th>\n",
       "      <th>개봉일</th>\n",
       "      <th>국가</th>\n",
       "      <th>스크린수</th>\n",
       "      <th>관객수</th>\n",
       "      <th>관람가</th>\n",
       "      <th>장르</th>\n",
       "      <th>개봉연도</th>\n",
       "      <th>개봉월</th>\n",
       "      <th>흥행</th>\n",
       "    </tr>\n",
       "  </thead>\n",
       "  <tbody>\n",
       "    <tr>\n",
       "      <th>1</th>\n",
       "      <td>명량</td>\n",
       "      <td>김한민</td>\n",
       "      <td>2014-07-30</td>\n",
       "      <td>한국</td>\n",
       "      <td>1587</td>\n",
       "      <td>17613682</td>\n",
       "      <td>15세이상</td>\n",
       "      <td>사극</td>\n",
       "      <td>2014</td>\n",
       "      <td>7</td>\n",
       "      <td>1</td>\n",
       "    </tr>\n",
       "    <tr>\n",
       "      <th>2</th>\n",
       "      <td>극한직업</td>\n",
       "      <td>이병헌</td>\n",
       "      <td>2019-01-23</td>\n",
       "      <td>한국</td>\n",
       "      <td>1978</td>\n",
       "      <td>16264944</td>\n",
       "      <td>15세이상</td>\n",
       "      <td>코미디</td>\n",
       "      <td>2019</td>\n",
       "      <td>1</td>\n",
       "      <td>1</td>\n",
       "    </tr>\n",
       "    <tr>\n",
       "      <th>3</th>\n",
       "      <td>신과함께-죄와 벌</td>\n",
       "      <td>김용화</td>\n",
       "      <td>2017-12-20</td>\n",
       "      <td>한국</td>\n",
       "      <td>1912</td>\n",
       "      <td>14410754</td>\n",
       "      <td>12세이상</td>\n",
       "      <td>판타지</td>\n",
       "      <td>2017</td>\n",
       "      <td>12</td>\n",
       "      <td>1</td>\n",
       "    </tr>\n",
       "    <tr>\n",
       "      <th>4</th>\n",
       "      <td>국제시장</td>\n",
       "      <td>윤제균</td>\n",
       "      <td>2014-12-17</td>\n",
       "      <td>한국</td>\n",
       "      <td>966</td>\n",
       "      <td>14245998</td>\n",
       "      <td>12세이상</td>\n",
       "      <td>드라마</td>\n",
       "      <td>2014</td>\n",
       "      <td>12</td>\n",
       "      <td>1</td>\n",
       "    </tr>\n",
       "    <tr>\n",
       "      <th>5</th>\n",
       "      <td>어벤져스: 엔드게임</td>\n",
       "      <td>안소니 루소</td>\n",
       "      <td>2019-04-24</td>\n",
       "      <td>미국</td>\n",
       "      <td>2835</td>\n",
       "      <td>13934592</td>\n",
       "      <td>12세이상</td>\n",
       "      <td>액션</td>\n",
       "      <td>2019</td>\n",
       "      <td>4</td>\n",
       "      <td>1</td>\n",
       "    </tr>\n",
       "    <tr>\n",
       "      <th>...</th>\n",
       "      <td>...</td>\n",
       "      <td>...</td>\n",
       "      <td>...</td>\n",
       "      <td>...</td>\n",
       "      <td>...</td>\n",
       "      <td>...</td>\n",
       "      <td>...</td>\n",
       "      <td>...</td>\n",
       "      <td>...</td>\n",
       "      <td>...</td>\n",
       "      <td>...</td>\n",
       "    </tr>\n",
       "    <tr>\n",
       "      <th>7956</th>\n",
       "      <td>나쁜 피</td>\n",
       "      <td>강효진</td>\n",
       "      <td>2012-11-01</td>\n",
       "      <td>한국</td>\n",
       "      <td>12</td>\n",
       "      <td>1008</td>\n",
       "      <td>19세이상</td>\n",
       "      <td>범죄</td>\n",
       "      <td>2012</td>\n",
       "      <td>11</td>\n",
       "      <td>0</td>\n",
       "    </tr>\n",
       "    <tr>\n",
       "      <th>7960</th>\n",
       "      <td>행복의 나라</td>\n",
       "      <td>정민규</td>\n",
       "      <td>2018-07-19</td>\n",
       "      <td>한국</td>\n",
       "      <td>15</td>\n",
       "      <td>1006</td>\n",
       "      <td>19세이상</td>\n",
       "      <td>드라마</td>\n",
       "      <td>2018</td>\n",
       "      <td>7</td>\n",
       "      <td>0</td>\n",
       "    </tr>\n",
       "    <tr>\n",
       "      <th>7961</th>\n",
       "      <td>자, 이제 댄스타임</td>\n",
       "      <td>조세영</td>\n",
       "      <td>2014-06-26</td>\n",
       "      <td>한국</td>\n",
       "      <td>2</td>\n",
       "      <td>1005</td>\n",
       "      <td>15세이상</td>\n",
       "      <td>다큐멘터리</td>\n",
       "      <td>2014</td>\n",
       "      <td>6</td>\n",
       "      <td>0</td>\n",
       "    </tr>\n",
       "    <tr>\n",
       "      <th>7967</th>\n",
       "      <td>메콩호텔</td>\n",
       "      <td>아핏차퐁 위라세타쿤</td>\n",
       "      <td>2014-02-13</td>\n",
       "      <td>영국</td>\n",
       "      <td>13</td>\n",
       "      <td>1001</td>\n",
       "      <td>15세이상</td>\n",
       "      <td>드라마</td>\n",
       "      <td>2014</td>\n",
       "      <td>2</td>\n",
       "      <td>0</td>\n",
       "    </tr>\n",
       "    <tr>\n",
       "      <th>7968</th>\n",
       "      <td>발리: 천상의 울림</td>\n",
       "      <td>리비 쳉</td>\n",
       "      <td>2019-04-15</td>\n",
       "      <td>미국</td>\n",
       "      <td>11</td>\n",
       "      <td>1000</td>\n",
       "      <td>전체</td>\n",
       "      <td>다큐멘터리</td>\n",
       "      <td>2019</td>\n",
       "      <td>4</td>\n",
       "      <td>0</td>\n",
       "    </tr>\n",
       "  </tbody>\n",
       "</table>\n",
       "<p>6205 rows × 11 columns</p>\n",
       "</div>"
      ],
      "text/plain": [
       "             영화명          감독        개봉일  국가  스크린수       관객수    관람가     장르  \\\n",
       "1             명량         김한민 2014-07-30  한국  1587  17613682  15세이상     사극   \n",
       "2           극한직업         이병헌 2019-01-23  한국  1978  16264944  15세이상    코미디   \n",
       "3      신과함께-죄와 벌         김용화 2017-12-20  한국  1912  14410754  12세이상    판타지   \n",
       "4           국제시장         윤제균 2014-12-17  한국   966  14245998  12세이상    드라마   \n",
       "5     어벤져스: 엔드게임      안소니 루소 2019-04-24  미국  2835  13934592  12세이상     액션   \n",
       "...          ...         ...        ...  ..   ...       ...    ...    ...   \n",
       "7956        나쁜 피         강효진 2012-11-01  한국    12      1008  19세이상     범죄   \n",
       "7960      행복의 나라         정민규 2018-07-19  한국    15      1006  19세이상    드라마   \n",
       "7961  자, 이제 댄스타임         조세영 2014-06-26  한국     2      1005  15세이상  다큐멘터리   \n",
       "7967        메콩호텔  아핏차퐁 위라세타쿤 2014-02-13  영국    13      1001  15세이상    드라마   \n",
       "7968  발리: 천상의 울림        리비 쳉 2019-04-15  미국    11      1000     전체  다큐멘터리   \n",
       "\n",
       "      개봉연도  개봉월  흥행  \n",
       "1     2014    7   1  \n",
       "2     2019    1   1  \n",
       "3     2017   12   1  \n",
       "4     2014   12   1  \n",
       "5     2019    4   1  \n",
       "...    ...  ...  ..  \n",
       "7956  2012   11   0  \n",
       "7960  2018    7   0  \n",
       "7961  2014    6   0  \n",
       "7967  2014    2   0  \n",
       "7968  2019    4   0  \n",
       "\n",
       "[6205 rows x 11 columns]"
      ]
     },
     "execution_count": 106,
     "metadata": {},
     "output_type": "execute_result"
    }
   ],
   "source": [
    "movie"
   ]
  },
  {
   "cell_type": "code",
   "execution_count": 57,
   "metadata": {
    "ExecuteTime": {
     "end_time": "2021-04-16T14:39:21.338593Z",
     "start_time": "2021-04-16T14:39:21.031416Z"
    }
   },
   "outputs": [
    {
     "data": {
      "image/png": "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\n",
      "text/plain": [
       "<Figure size 864x864 with 1 Axes>"
      ]
     },
     "metadata": {},
     "output_type": "display_data"
    }
   ],
   "source": [
    "# 관람가\n",
    "bar, ax = plt.subplots(figsize = (12,12))\n",
    "plt.pie(movie['관람가'].value_counts(), labels = movie['관람가'].value_counts().index, autopct=\"%.1f%%\")\n",
    "pass"
   ]
  },
  {
   "cell_type": "code",
   "execution_count": 58,
   "metadata": {
    "ExecuteTime": {
     "end_time": "2021-04-16T14:39:22.918702Z",
     "start_time": "2021-04-16T14:39:21.343582Z"
    }
   },
   "outputs": [
    {
     "data": {
      "image/png": "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\n",
      "text/plain": [
       "<Figure size 1440x432 with 1 Axes>"
      ]
     },
     "metadata": {
      "needs_background": "light"
     },
     "output_type": "display_data"
    }
   ],
   "source": [
    "# 장르, 관객수\n",
    "plt.figure(figsize=(20,6))\n",
    "sns.barplot(x=movie['장르'],y=movie['관객수'])\n",
    "plt.xticks(rotation=50)\n",
    "pass"
   ]
  },
  {
   "cell_type": "code",
   "execution_count": 59,
   "metadata": {
    "ExecuteTime": {
     "end_time": "2021-04-16T14:39:23.356532Z",
     "start_time": "2021-04-16T14:39:22.921697Z"
    },
    "scrolled": true
   },
   "outputs": [
    {
     "data": {
      "image/png": "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\n",
      "text/plain": [
       "<Figure size 1440x432 with 1 Axes>"
      ]
     },
     "metadata": {
      "needs_background": "light"
     },
     "output_type": "display_data"
    }
   ],
   "source": [
    "# 장르 관객수 상위10\n",
    "plt.figure(figsize=(20,6))\n",
    "sns.barplot(x=movie['장르'].value_counts().index[:10],y=movie['관객수'].value_counts().index[:10])\n",
    "plt.xticks(rotation=50)\n",
    "pass"
   ]
  },
  {
   "cell_type": "code",
   "execution_count": 60,
   "metadata": {
    "ExecuteTime": {
     "end_time": "2021-04-16T14:39:28.033018Z",
     "start_time": "2021-04-16T14:39:23.361520Z"
    }
   },
   "outputs": [
    {
     "data": {
      "image/png": "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\n",
      "text/plain": [
       "<Figure size 1440x432 with 1 Axes>"
      ]
     },
     "metadata": {
      "needs_background": "light"
     },
     "output_type": "display_data"
    }
   ],
   "source": [
    "# 국가 관객수\n",
    "plt.figure(figsize=(20,6))\n",
    "sns.barplot(x=movie['국가'],y=movie['관객수'])\n",
    "plt.xticks(rotation=50)\n",
    "pass"
   ]
  },
  {
   "cell_type": "code",
   "execution_count": 61,
   "metadata": {
    "ExecuteTime": {
     "end_time": "2021-04-16T14:39:28.392059Z",
     "start_time": "2021-04-16T14:39:28.037010Z"
    }
   },
   "outputs": [
    {
     "data": {
      "image/png": "iVBORw0KGgoAAAANSUhEUgAABH4AAAGCCAYAAACW3QTcAAAAOXRFWHRTb2Z0d2FyZQBNYXRwbG90bGliIHZlcnNpb24zLjMuMiwgaHR0cHM6Ly9tYXRwbG90bGliLm9yZy8vihELAAAACXBIWXMAAAsTAAALEwEAmpwYAAAlcklEQVR4nO3debztZV0v8M8XASc0UI56zQHratcpr0k5omllOV0r1MrUtBLSNNK8UaamoREOiEPOU1rihEOG5owgmYppOeTc1QxNnGcS+d4/nt/O7ZFhH845rL2f836/XvvFWr+19jlfeFjr+f0+v2eo7g4AAAAA89lr1QUAAAAAsHsIfgAAAAAmJfgBAAAAmJTgBwAAAGBSgh8AAACASQl+AAAAACa1kuCnqrZV1aOq6qjzed9tq+ofqurUqrrbhVUfAAAAwAz2XtHf+7gkH0tyiXN7Q1UdmOTeSW7V3d++sAoDAAAAmMVKRvx09z2SnLz2vKp+rKpeX1VvqaqnLIfvmuQjSU6sqhOr6mqrqBUAAABgq9osa/w8Iclvdfctk3y9qg5JcvUke3X3zyR5xPIeAAAAADZoVVO9tnf9JC+oqiTZL8m7k5yV5DVJ0t3vrKptqysPAAAAYOvZLMHP+5Lcqbu/XFUXzQh9Osltk7ylqq6d5PRVFggAAACw1WyW4OchSf6uqs5MckaSeyU5IcnPVtXJSc5MctgK6wMAAADYcqq7V10DAAAAALvBZlncGQAAAIBd7EKd6nXggQf2QQcddGH+lQAAAABTe/e73/357j7HTbEu1ODnoIMOymmnnXZh/pUAAAAAU6uqT57ba6Z6AQAAAExK8AMAAAAwKcEPAAAAwKQEPwAAAACTEvwAAAAATErwAwAAADApwQ8AAADApAQ/AAAAAJMS/AAAAABMSvADAAAAMCnBDwAAAMCkBD8AAAAAkxL8AAAAAExK8AMAAAAwqb1XXQAAu85bb36LVZewR7jFyW9ddQkAALAhRvwAAAAATErwAwAAADApwQ8AAADApAQ/AAAAAJMS/AAAAABMSvADAAAAMCnBDwAAAMCkBD8AAAAAkxL8AAAAAExK8AMAAAAwKcEPAAAAwKQEPwAAAACTEvwAAAAATErwAwAAADApwQ8AAADApAQ/AAAAAJMS/AAAAABMSvADAAAAMCnBDwAAAMCkBD8AAAAAkxL8AAAAAExK8AMAAAAwKcEPAAAAwKQEPwAAAACTEvwAAAAATErwAwAAADApwQ8AAADApAQ/AAAAAJMS/AAAAABM6nyDn6rav6peVFUnVdXJVXW1da/tV1XHL8dfWVWX3r3lAgAAALBRGxnxc4kkD+zun05yTJIHrXvtAUle3d03T/KGJPfZ5RUCAAAAcIGcb/DT3ad39+nL0y8l+ca6l2+V5KXL4xOS3HjXlgcAAADABbXhNX6q6oczRvsct+7wRbv7O8vjLyQ54Bx+77CqOq2qTjvjjDN2plYAAAAAdsCGgp+qun2ShyW597rRP0lydlWt/RkHJPmBZKe7n9HdB3f3wdu2bdvpggEAAADYmI0s7vzjSe7Q3Yd39xe2e/kdSe64PD40yRt3cX0AAAAAXEB7b+A9v5DkkKo6aXn+qSSfSfLQJEcneUFVHZHkY0l+d3cUCQAAAMCOO9/gp7sfneTR5/Ly55PcZpdWBAAAAMAuseHFnQEAAADYWgQ/AAAAAJMS/AAAAABMSvADAAAAMCnBDwAAAMCkBD8AAAAAkxL8AAAAAExK8AMAAAAwKcEPAAAAwKQEPwAAAACTEvwAAAAATErwAwAAADApwQ8AAADApAQ/AAAAAJMS/AAAAABMSvADAAAAMCnBDwAAAMCkBD8AAAAAkxL8AAAAAExK8AMAAAAwKcEPAAAAwKQEPwAAAACTEvwAAAAATErwAwAAADApwQ8AAADApAQ/AAAAAJMS/AAAAABMSvADAAAAMCnBDwAAAMCkBD8AAAAAkxL8AAAAAExK8AMAAAAwKcEPAAAAwKQEPwAAAACTEvwAAAAATErwAwAAADApwQ8AAADApAQ/AAAAAJMS/AAAAABMSvADAAAAMCnBDwAAAMCkBD8AAAAAkxL8AAAAAExK8AMAAAAwKcEPAAAAwKQEPwAAAACTEvwAAAAATErwAwAAADApwQ8AAADApAQ/AAAAAJMS/AAAAABMSvADAAAAMCnBDwAAAMCkBD8AAAAAkxL8AAAAAExK8AMAAAAwKcEPAAAAwKQEPwAAAACTEvwAAAAATErwAwAAADApwQ8AAADApAQ/AAAAAJM63+CnqrZV1aOq6qjtjl+5qk6vqpOWn2vtvjIBAAAA2FF7b+A9j0vysSSX2O74/kle3N0P2NVFAQAAALDzznfET3ffI8nJ5/DS/km+dH6/X1WHVdVpVXXaGWecseMVAgAAAHCB7MwaP5dIcmhVnVpVx1XVPuf0pu5+Rncf3N0Hb9u2bSf+OgAAAAB2xAUOfrr7dd19vSSHJPlaknvvsqoAAAAA2GkXOPipqr2TpLvPTvKFXVYRAAAAALvEDgc/VXVMVe2b5M5V9baqemuS6yd59i6vDgAAAIALbCO7eqW7T0py0vL4yOXw8csPAAAAAJvQzizuDAAAAMAmJvgBAAAAmJTgBwAAAGBSgh8AAACASQl+AAAAACYl+AEAAACYlOAHAAAAYFKCHwAAAIBJCX4AAAAAJiX4AQAAAJiU4AcAAABgUoIfAAAAgEkJfgAAAAAmJfgBAAAAmJTgBwAAAGBSgh8AAACASQl+AAAAACYl+AEAAACYlOAHAAAAYFKCHwAAAIBJCX4AAAAAJiX4AQAAAJiU4AcAAABgUoIfAAAAgEkJfgAAAAAmJfgBAAAAmJTgBwAAAGBSgh8AAACASQl+AAAAACYl+AEAAACYlOAHAAAAYFKCHwAAAIBJCX4AAAAAJiX4AQAAAJiU4AcAAABgUoIfAAAAgEkJfgAAAAAmJfgBAAAAmJTgBwAAAGBSgh8AAACASQl+AAAAACYl+AEAAACYlOAHAAAAYFJ7r7oAAAAAYGu53stet+oSpvfPd/r5XfLnGPEDAAAAMCnBDwAAAMCkBD8AAAAAkxL8AAAAAExK8AMAAAAwKcEPAAAAwKQEPwAAAACTEvwAAAAATErwAwAAADApwQ8AAADApAQ/AAAAAJMS/AAAAABMSvADAAAAMCnBDwAAAMCkBD8AAAAAkxL8AAAAAExK8AMAAAAwqb3P7w1VtS3J7yc5u7sfuu74fkmemeSHk3wxyT26+6u7qU4AAAAAdtBGRvw8LsmZSfbZ7vgDkry6u2+e5A1J7rOLawMAAABgJ5xv8NPd90hy8jm8dKskL10en5DkxruwLgAAAAB20s6s8XPR7v7O8vgLSQ44pzdV1WFVdVpVnXbGGWfsxF8HAAAAwI7YmeDn7Kpa+/0DkpxjqtPdz+jug7v74G3btu3EXwcAAADAjtiZ4OcdSe64PD40yRt3vhwAAAAAdpUdDn6q6piq2jfJ0UkOq6qTktwgyXN3cW0AAAAA7ITz3c49Sbr7pCQnLY+PXA5/PsltdktVAAAAAOy0nZnqBQAAAMAmJvgBAAAAmJTgBwAAAGBSgh8AAACASQl+AAAAACYl+AEAAACYlOAHAAAAYFKCHwAAAIBJCX4AAAAAJiX4AQAAAJiU4AcAAABgUoIfAAAAgEkJfgAAAAAmJfgBAAAAmJTgBwAAAGBSgh8AAACASQl+AAAAACYl+AEAAACYlOAHAAAAYFKCHwAAAIBJCX4AAAAAJiX4AQAAAJiU4AcAAABgUoIfAAAAgEkJfgAAAAAmJfgBAAAAmJTgBwAAAGBSgh8AAACASQl+AAAAACYl+AEAAACYlOAHAAAAYFKCHwAAAIBJCX4AAAAAJiX4AQAAAJiU4AcAAABgUoIfAAAAgEkJfgAAAAAmJfgBAAAAmJTgBwAAAGBSgh8AAACASQl+AAAAACYl+AEAAACYlOAHAAAAYFKCHwAAAIBJCX4AAAAAJiX4AQAAAJiU4AcAAABgUoIfAAAAgEkJfgAAAAAmJfgBAAAAmJTgBwAAAGBSgh8AAACASQl+AAAAACYl+AEAAACYlOAHAAAAYFKCHwAAAIBJCX4AAAAAJiX4AQAAAJiU4AcAAABgUoIfAAAAgEkJfgAAAAAmtaHgp6qOqqq3VtWpVXXtdcevXFWnV9VJy8+1dl+pAAAAAOyIvc/vDVV1SJLLd/ctquo6SR6T5LbLy/sneXF3P2D3lQgAAADABbGRET+3TnJ8knT3+5NcZt1r+yf50q4vCwAAAICdtZHg53JJzlj3/KyqWvu9SyQ5dJkCdlxV7bP9L1fVYVV1WlWddsYZZ2z/MgAAAAC7yUaCn68kOWDd87O7++wk6e7Xdff1khyS5GtJ7r39L3f3M7r74O4+eNu2bbuiZgAAAAA2YCPBzylJ7pQky+LNn157oar2TpIlCPrC7igQAAAAgAtmI8HPiUn2rapTkjw2yZFVdUxV7ZvkzlX1tqp6a5LrJ3n2bqwVAAAAgB1wvrt6LaN57rPd4SOXfx6//AAAAACwyWxkxA8AAAAAW5DgBwAAAGBSgh8AAACASQl+AAAAACYl+AEAAACYlOAHAAAAYFKCHwAAAIBJCX4AAAAAJiX4AQAAAJiU4AcAAABgUoIfAAAAgEntveoCAAAALqiHP/zhqy5hev4bw9ZmxA8AAADApAQ/AAAAAJMS/AAAAABMSvADAAAAMCnBDwAAAMCkBD8AAAAAkxL8AAAAAExK8AMAAAAwKcEPAAAAwKQEPwAAAACTEvwAAAAATErwAwAAADApwQ8AAADApAQ/AAAAAJMS/AAAAABMau9VFwAAAKv0r49686pLmN41/+RWqy4BYI9lxA8AAADApAQ/AAAAAJMS/AAAAABMSvADAAAAMCnBDwAAAMCkBD8AAAAAkxL8AAAAAExK8AMAAAAwKcEPAAAAwKQEPwAAAACTEvwAAAAATErwAwAAADApwQ8AAADApAQ/AAAAAJMS/AAAAABMSvADAAAAMCnBDwAAAMCkBD8AAAAAkxL8AAAAAExK8AMAAAAwKcEPAAAAwKQEPwAAAACTEvwAAAAATErwAwAAADApwQ8AAADApAQ/AAAAAJMS/AAAAABMSvADAAAAMCnBDwAAAMCkBD8AAAAAk9p71QUwp0/92XVXXcL0rvKw9626BAAAuMBe8tKfWnUJe4S73Pmdqy6BFTPiBwAAAGBSgh8AAACASQl+AAAAACa1oeCnqo6qqrdW1alVde11x/erquOr6uSqemVVXXr3lQoAAADAjjjfxZ2r6pAkl+/uW1TVdZI8Jsltl5cfkOTV3f3CqvrdJPdJcsxuqxa4UNz0STdddQnTO/X+p666BDahJ//Bq1ddwvTu97g7rLoEAIALVXX3eb+h6qgkb+7utyzP/7G7b7Q8fkuSW3f3d6rqCkme1t2/uN3vH5bksOXpjyX58K79V9hUDkzy+VUXwQWm/bYubbe1ab+tTfttXdpua9N+W5e229q039Y2c/tdtbu3ndMLG9nO/XJJzlj3/Kyq2qu7z05y0e7+znL8C0kO2P6Xu/sZSZ6xgwVvSVV1WncfvOo6uGC039al7bY27be1ab+tS9ttbdpv69J2W5v229r21PbbyBo/X8n3BzpnL6FPkpxdVWt/xgH5/oAIAAAAgBXaSPBzSpI7JUlVXSvJp9e99o4kd1weH5rkjbu0OgAAAAAusI0EPycm2beqTkny2CRHVtUxVbVvkqOTHFZVJyW5QZLn7rZKt4Y9YkrbxLTf1qXttjbtt7Vpv61L221t2m/r0nZbm/bb2vbI9jvfxZ0BAAAA2Jo2MuIHAAAAgC1I8AMAAAAwKcEPAADAClVVrboGYF6CH/Z423e0Ol4A9iT6va2nqi6z6hrYNarq0knS3e2zuHVpOzY7wc9uUFV7r7oGNq6XFc6r6tprz315b01VdZFV1wB7Iv3e1qTf25qWoOB+VXXbdce03xZUVfskObyq7llVe/ksbi1VtU9VXTX53vUEm19V3aKq9rgcZI/7F96dquruVXXp7j5ree6/7xZRVY9I8raqOnQ5dNOqOmCVNbFxVfVLVbVfd39X+LP1VdW+q66BjdHvbV3r+r07LYf0e1vLPyT5yaq6W1WVi84tq5K8KcmBSe5fVQdoyy3l0kkeXlW/s3agqq6+wno4H1X1e0nekuSBy/P9q+qSq63qwuEEbRepql9J8pgkT6uq/arqZ5IcvOKyOA9rd1Sq6teSXCvJDZPcpKpenuS+3f2lVdbH+VsX8twkyaur6ppL+HPpqrr4Kmtjx1XVlZKku/9reX7Pqtq22qo4N/q9rWu7fu/G+r0t59vd/cYkr0lylSQPFJhvWXsleU+Sv0vy1ST3raofWW1J7IC9kvzfJIdU1R9V1TFJfnTFNXEuqurWSe6e5B+T3LCq7pPk1kmuuSfcuDI0exeoqpskuXeS6ya5QkZHfHaSQ5fX9+rus1dXIdtba5OqunFG292vuz9SVW9PcqUkh2//3lXVyjlb2uW7S4B3+Yy7Zr9eVc9M8pAkRyX51CprZOOq6rpJfr+q3pvxPfrNJJfr7uctrx+U5JPuhG4O+r2tS7+3tVXVUUkuU1Wf7u6jq+qLSQ5Jcr2q+mx3//uKS2SDqur+Sa6R5Mwkb8gyiivJvarqNd399lXWx3lbRo4c2N0Pq6q7J3lcklt295HL6xfp7u+utEj+23Ke+bCM/OM3k3w0yV2TXDbJO5brwqnbbPpka3db7lA/Islju/uMJF9J8l9J7pLkrCRZ/kfy33oTWdrkikmOSXJ0d3+wqm6Q5A+Xn9tV1Yur6oeX95pvvcmsuyh5asZJ0+8keUWSxyb51+4W+mwtX8kYMl1JXpnkL7v7iCSpqiOT/IrQZ3PQ721d59HvHRn93qZXVQ9McuUkf5zkJ6rqOkkukuSHkvxskoearrc1VNXtktw2yYOTnJwxcvlbGSN/3pfEqOVNrKp+MckvZJxzprvP7u4HJDm+ql5YVVdbuznpu3T1quqyGSOUL53k5UkumuSmSb6R5PNJ9q+qK88c+iSCn52yTDN5apKXdPffV9WBSV6a5ClJrp7kpKp6aPLfJ8E++Cu2bnpXJblUxsXlG5YvhKcleUeSX8wYBvjGjCkMN3TBublU1d5V9cdV9fAk+yc5IckdM77UP9zdx66wPC6AJag7Ocm7uvtd3f3lJFnW3bpZxnctK7aEOfq9revSOed+747R721ay7XjFZLcIsmfdvdXMz6H/zPJzyT5QJL/nRHCfrmqbraqWjlvS1vuleTmSZ7b3V/r7r9N8pkkN1z6vtd295uX999uddVyTqrqx5PcP8m9uvurNRboXvP0JH+f5ElVddNerKRQ1rtUkosleVGS5yR5eJLrJLlRRgB7hyRvqaqpp+mZ6rUTliT32O5+y3Lo2Uk+ndER/0GSX09yj6p6apLf6+7vrKhUvudiSb61fAl/ePlJkr9M8uQkl0lynyT/ZxkC/7Ekd6qqf9J+m0d3n7WsZ3DvJI/MONm9c5J/6+6HrL2vqm6Y5LPd/cnVVMpGrBta+7XlZ+34DTKmn9x/ObmaegjuVrCEOfq9Laiq9u7uDyX50HLoL5efA6Lf29SWc5bPVtU7MtaiuEbGaIPPJXl3xmiRMzNGbz064zP5thWVy3lY2rKXKZb7VdXFuvvbSX48yZuX93wtSdbd3DpxNdVyLv5XkkskWft+XNvc4LZJrt/dj6qqjyZ5fFUd2d1vXVGdZGwY0t3/r6r+ICNgvWSSFya5YsYNqyO6++NVdWbGtK+Pr67a3auEkDuuqi6f5NLd/dF1x56c8T/KGzKmmxzR3a9ZXjssI70373rFquq4JF/u7odvd+zbSR6a5NVJju3u1y8nyWdV1T5OfjeHpVOt7j5xeX73jGGaV0ny80nusu6E6X8lOT7JPbr7fSsqmfNQ9b2daJYg71lJntHdb1u+Z5+b5Ljl82jNkRWqsVj6VZfgYO2Yfm+LqKrfzljD4H3L8+MyppU8LPq9Ta2qLt7d31oe3zFj1FZnjNr/XJIfS/JzWULXJNfp7sPP5Y9jRZZRPtfr7vcsz2+Q5J5JPpmxGPB/bndues+MEeh36mXXRDaPGrshHpbkcd39uqq6VsaokX9I8vble/R/JPmcG1arU1WHZ9wUfv0yAvmaGaPtvprklkn+prtPWqbNPivJb3f3+1dX8e4l+NlBy8XJT2cMD3tHd59aVb+c5G7d/cs1dsZ4bXc/c+0EapX1MqxdYC7rGxyV5OvdfURV/USSg7r75VX1G0l+qLufuP53Vlk331NVF80Y5n6TJJ9I8oKlTX86yZ8muefayJ6qukySFyR5Vne/YjUVc25qLC6b7n57VV0qydow6UO6+1VL53x8kjd297NWVSffU1X3TXLjJCd294uW9Q1+o7t/Sb+3udXYfe1e3f0LVXWbjDvVrd/b/Jaw4FVJHtDdH9vutX0zLmKOzlhUNhkjt+6yNs1SW24eS792ZEab/eYya+CqSfbNWKPpExk77b0zY/rJQzM+t59eUcmsU1U3SnJWd5+27tiPJ/nzJG/NuAn5qSQnLyOU3axaoeXc8mYZa2jdv7vfuxz/yYwF1V+RMUr5pRk3sE5I8pzufuUq6r2wCH52UFVdLGNI350zdjL5cMY0k3/MmEZ0eC/ri+h0N5clzf3ZjKHtD8sIEPbp7pufw3u13Sa0nAT/ZJJbZQxr/6skRyR5e5J/zZiq8MSqenaSD7S1fjalZZrCMzLCnRtmLBL8wXWvPyvJ6d39sOW5z+MKLVMmj8mYDnvZJN/NWEvrlKq6RJLf0e9tTksw/swkz8tYQ+u4JJ9NcugyvWT9e7XdJlNVT0nywSQvSfL73f3gqvqFJB/p7k8sNzn+T8bUk59LcofuPl1bbj41tpF+Y0Y49zMZU2E/ve71/5nkt5P8Z8bIrft196mrqJUftIzoeXKSZ3f33yzt+ZYkB2YEr29O8nfd/dkVlkn+++bvERkjei6Vsevo1TPWsbt6knT3+6vqiOXYe5N8vLuPXknBFyKLO++AqvqRJK9LctfuPj6jM756RgB0ye7+xrqT3710uqtXw7Wr6g1JHpTRZhfp7odmjBL51nIR+n203eZSVVepqnsn+dXufkdGQv/djM/fX3f3a5P8R5JrVNVnk3xN6LM5VdVPZewAdWiSg5NccbvQ51pJPr0u9PFdukJVdfWMsODfu/tlSb6Z5PZJDlna5pv6vc2pqq6ScaFyVsaJ7+WTfDEjQPj2uvftlej3Npsai6R/M2Ph9KdnLDx6yyQPyJjile7+YpJTknwsY4rC6T6Hm88ydfmWGeuKvDAjjH3OMookSbKM6Hpmxvojfyr02VyW85R7JLn9Msr1dt39ne7+THffNWMUutBnc9iWcZP4Uhmj7B6fcc1wnYxZO5dPku5+Qsa56JF7QuiTGPGzYctIn7/JWMvgRkk+1t2PXIaM3TwjoX9rW89gU6qqU5L8S8YiiDfOWMT5/hm7YNw544TJHNxNaPnsvSpji+/bJfn77n5yVd0tY4j0dTKmdH1wef/h3f30VdXLuauqmyR5QsYIycdnhHV/mTF66/7L9IRLJPn28thiziu0fPZem+RNGSN9vpTkkIzRWmdmjLS7cnf/08qK5BwtbfeKjG1qX5Ax0uBVSZ6U5NQkN8iY4vXqlRXJuVrWZLphd9+7qp6YsRnLkzK+N++Z5Au9bg2mdWszGemzyVTVIUkemOSXM64fHpfkdzIuRI/N2NnrRevev293/9cqauXcrU3dqqq9M9pwv+7+reU1n7tNosZ6hH+V8Vk7KmNk+d9kXAO+KiP4eXl3f2JVNa6S4GeDquqZST7Y3Y9fnj8pyUUy7rxcOWNh2W8lOa27/2VlhfIDquoRGSe/n8s4eTohya9l7O71olp2VKiqg5N8vrv/3+qqZXtVdWzGmkwPWzrcX0pyesaClkly3yS/kuQb7rZsXlX1wxmBwYsz7mh+JmMRxC9lhK/vS/LN7p52N4WtpqoeleS760ZfPScjTPhQkr/I2Ab8kCQP7+53r6xQfkBV/XzGXc3XJLlSxojXr2f0gz+V5PUZF59/0t0vXVWdfL9lHZiLZtxkfFPG9+MNM25a3SHjnPNKGRcyv9HWsNvUln7vmRn93juSnJ3k5RlLRDwyYz2fpyZ5V3c/ZlV1ct7WbkKtX8Ouqv4sY9T5g7r7P4Q/m0NV/WqSq2Zc7z0uyROTXC1jZ7xLZpyzfDnJP3b3caupcnVM9dqAGivv32gt9EmS7r5/Rof8/IwF2d6Y0VnfbLljzSZQVZfMuLv51xnp78nLEPfvZHS8WUKf62XcTatV1cq5eleSt1fVZZPcKWOE3dUzdsK4bUa7fSvJY6tq28qq5FwtFzMPTfJ3ST6Q5H/ke1sQPzqjTe+e5O+r6rqrqpMf8M9JTlr3/LkZC1g+PskTuvvRGW1qVNbmc3J3Pz9jV6AnJvmnjHV+7pKxC82xGTvSXGpVBfKDevh2kttkLAJ8s2Uayc0yviu/lRHY3SXJ4VV16MqK5TxV1UUyvjNflxHk3TJj+snh3X3TJL+ZEeb9apJrVdWRq6qVc1ZVf15Vl1xCn70ygrtU1S0yRo+8NslTquoQoc+m8druPiZj7aUXZlzvPTFjJ8RbZlwzPCLJ5apqn3P9Uya196oL2Aq6+91VdURVvTTJg7v7o8sXwJeSvKHHqu0frqpvZIyi+uZKC+a/dfc3lvV99s740N+zqv49Y5TWvyTJEhY8Mskju/vfVlYs5+Y9Se6a0WaXz1jE+d+S3CvjYubFy8+zu/uMVRXJuevuXkZuXSxj8cqHZ+xecvuMzvkPu/sjVfXJjHZ+36pq5fu8P8mDq+pqGd+hB2SEdc/v7pOr6oCM6QsfWGGNnINetv/OWEfro919bFX9WpKndPcbquoKSf4o4ySYTWSZUvL1jJGsqao/zbiBdWqSlyU5urvfXFVvT7L/ygrl/ByQEfy8K+PG41czdtS7wrLmzwlJbp3kJ7r7Xm4abx41NoP5UMYyHn9dVX/Y3R9dXrtekt9L8sDufn5V/UeS362qd3b3maurmiTp7rWb+g+oqoMy1vu5Rsa5yokZmxw8L8nz1k+X3VMIfjZo6WQ/meSJy/C+a2fceXnxuvfYcnETWlL471TVgzN2U/hIxsietS2Hj0vymu4+cTUVcl66+0NV9ajuPrOqLpdkv4w1Dvbp7j+vqqdnBLB/u9JCOUdV9VtJ3tfd71wWJr1FxiiEgzLW+HnpEvpcO+NC536rqpXv190frKo/yDhp+nTGuj6VZG072ycneUV3v21FJXL+TshY/DcZIesll8ePS/Iy/d7ms6wjsraeyP2S/EhGn/fKjAVk37xMOflKlpHLbD7d/fkkx9fYresKGW319YzP4XOSHN/dv1lVD6mqHzXNeVO5Usa5yIMzboA8par+pLvfuRw/trs/uXwO31RVp1iXaVO6eMYonzOT/Gt3P7qqnppxzbBHrm9njZ8dVFU/lBH2vD/JMUYYbE1LCvzojC/3k7r7wautiI1apu/dKeML/SYZ237/0Wqr4pwsc63vlbH7xdq8+OtmBAmvT/IbGXfV3pRxgfo8Ad7mtUxdeGCSyyX5oSRf6e7/u9qq2Kjls/ecLNP3tN3mtowsv1WSt2VM+7pDd//Zaqtio9YtuL0Wtv5sxsjzO2fskui8cxOqqtstD7+ZMQ3vMRkDJY7NOO98Wne/eLvfsb7PJlRjZ8urZIwif3mSj2cPP28R/FwAy8nvpbr7y6uuhR239gVdVfsnuXt3G+q+xSzB3e2TXLe7D19xOZyDqvrpjKkkL0ry8e4+par2S3LZ7v7k8p7Dk/xWxgiST3X3X6yoXDaoqq6ZsS7MJbr7pBWXwwatG0FysSR7L1OJ2ILW2nLVdfCDquqKSX6yu1+1TJG9RpKfy5jOfHZV/WHGjnp33X6xYFZv+X780YyQ5+lJ/isjqHtmxvIQP9fdJ6yuQnbUumu+yyfZ1t3vX3VNqyT4YY/kxGnrq6pLZewCZWHZTaaqrpqxg9eDMtZkem7GSdN1kryku09cdyF6pYx2/OLqKob5uSsNu88yQusuSf44yauT7Jux+csp3f2BdaNdT+ruLzgP3Vyq6kcyAp5HZZyvPC1jnaYTMsKgj3T305f37rMnrg+zVen7vkfwA8Aus9wxe1nGrl1/sbbIbFW9J8mJ3f2Q5fmxSf66u/9pZcUCwC5UVUdnLB77sbUbU1V19SR/leS+3f1eF6Kby3Le8uIkr0lyxYzpXd9J8uyMnbz+OGPkz2UzlvkwYpItyXbuAOxKt8rYOeGvkjy7qm5RVb+d5D3rQp+jk1xc6APADKpq3+XhpZJ8Y13oc/GMNSWfIPTZtI5M8rcZ4c8hSe7c3Wd2990yNoQ5JmNdwo9n7HRZK6sUdoIRPwDsMlV1ye7+xvL4aklekuT0JL/W3d9cdqm5cXf/+vIeJ8EATKGqjkryjO7+9+X5szKmCT16tZVxbqrqCkk+l+QJSf45yfWTHLduC/d7JLlHkkdk3MQy4octyXbuAOwya6HP4uyM7WsfuIQ+d0hym4zdvIQ+AEyjqm6eZP91oc9RGWvYPXp5rs/bhLr7s1V1YJL3dvezq+r3M3auXHv9+VX1mSRnC33Yyoz4AWC3WHb2+lp3v7uqrpfksUke1N3/bGFLAGay7Pp7ye7+alXdJ8kh3X3X5TV93hZRVfdMsld3P0dYx0yM+AFgt1jb7ruqLpsxR/4JS+hTToABmMmyrs9Xq+qGSX4lY5cvoc/W8x9JfmrVRcCuZsQPALtVVR2RJN39hFXXAgC7U1VdI8lZ3f0Joc/Ws4zcOrC7/3PVtcCuJPgBYLeqqst09xdXXQcAAOyJBD8AAAAAk9pr1QUAAAAAsHsIfgAAAAAmJfgBAAAAmJTgBwAAAGBSgh8AAACASQl+AAAAACb1/wHNFdqaLkl+agAAAABJRU5ErkJggg==\n",
      "text/plain": [
       "<Figure size 1440x432 with 1 Axes>"
      ]
     },
     "metadata": {
      "needs_background": "light"
     },
     "output_type": "display_data"
    }
   ],
   "source": [
    "# 국가 관객수 상위10\n",
    "plt.figure(figsize=(20,6))\n",
    "sns.barplot(x=movie['국가'].value_counts().index[:10],y=movie['관객수'].value_counts().index[:10])\n",
    "plt.xticks(rotation=50)\n",
    "pass"
   ]
  },
  {
   "cell_type": "code",
   "execution_count": 62,
   "metadata": {
    "ExecuteTime": {
     "end_time": "2021-04-16T14:39:29.869108Z",
     "start_time": "2021-04-16T14:39:28.396052Z"
    }
   },
   "outputs": [
    {
     "data": {
      "image/png": "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\n",
      "text/plain": [
       "<Figure size 1440x432 with 1 Axes>"
      ]
     },
     "metadata": {
      "needs_background": "light"
     },
     "output_type": "display_data"
    }
   ],
   "source": [
    "# 개봉연도 관객수\n",
    "plt.figure(figsize=(20,6))\n",
    "sns.barplot(x=movie['개봉연도'],y=movie['관객수'])\n",
    "plt.xticks(rotation=50)\n",
    "pass"
   ]
  },
  {
   "cell_type": "code",
   "execution_count": 63,
   "metadata": {
    "ExecuteTime": {
     "end_time": "2021-04-16T14:39:31.028010Z",
     "start_time": "2021-04-16T14:39:29.872100Z"
    }
   },
   "outputs": [
    {
     "data": {
      "image/png": "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\n",
      "text/plain": [
       "<Figure size 1440x432 with 1 Axes>"
      ]
     },
     "metadata": {
      "needs_background": "light"
     },
     "output_type": "display_data"
    }
   ],
   "source": [
    "plt.figure(figsize=(20,6))\n",
    "sns.barplot(x=movie['개봉월'],y=movie['관객수'])\n",
    "plt.xticks(rotation=50)\n",
    "pass"
   ]
  },
  {
   "cell_type": "markdown",
   "metadata": {},
   "source": [
    "## 감독흥행작품수"
   ]
  },
  {
   "cell_type": "code",
   "execution_count": 64,
   "metadata": {
    "ExecuteTime": {
     "end_time": "2021-04-16T14:39:31.065905Z",
     "start_time": "2021-04-16T14:39:31.031998Z"
    }
   },
   "outputs": [],
   "source": [
    "director = movie[['감독','흥행']]\n",
    "director_df = director.value_counts().to_frame()\n",
    "director_df = director_df.reset_index()\n",
    "director_df.rename(columns={0:'작품수'},inplace=True)"
   ]
  },
  {
   "cell_type": "code",
   "execution_count": 65,
   "metadata": {
    "ExecuteTime": {
     "end_time": "2021-04-16T14:39:31.952535Z",
     "start_time": "2021-04-16T14:39:31.068901Z"
    }
   },
   "outputs": [
    {
     "data": {
      "image/png": "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\n",
      "text/plain": [
       "<Figure size 720x720 with 1 Axes>"
      ]
     },
     "metadata": {
      "needs_background": "light"
     },
     "output_type": "display_data"
    },
    {
     "data": {
      "image/png": "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\n",
      "text/plain": [
       "<Figure size 720x720 with 1 Axes>"
      ]
     },
     "metadata": {
      "needs_background": "light"
     },
     "output_type": "display_data"
    }
   ],
   "source": [
    "for i in director_df['흥행'].unique():\n",
    "    bar, ax = plt.subplots(figsize=(10,10))\n",
    "    sns.barplot(x = '감독', y = '작품수', data = director_df[director_df['흥행'] == i].iloc[:10])\n",
    "    plt.ylabel('작품수')\n",
    "    plt.title('{}작품수'.format(str(i)), size=20)\n",
    "    plt.xticks(rotation=50)"
   ]
  },
  {
   "cell_type": "code",
   "execution_count": 66,
   "metadata": {
    "ExecuteTime": {
     "end_time": "2021-04-16T14:39:31.976469Z",
     "start_time": "2021-04-16T14:39:31.955530Z"
    }
   },
   "outputs": [],
   "source": [
    "# 알고리즘을 위해 int로\n",
    "movie.loc[(movie.관객수 >= 1000000),'흥행'] = '1'\n",
    "movie.loc[(movie.관객수 <= 1000000),'흥행'] = '0'\n",
    "movie = movie.astype({'흥행':'int'})"
   ]
  },
  {
   "cell_type": "code",
   "execution_count": 67,
   "metadata": {
    "ExecuteTime": {
     "end_time": "2021-04-16T14:39:32.029336Z",
     "start_time": "2021-04-16T14:39:31.999414Z"
    }
   },
   "outputs": [
    {
     "name": "stdout",
     "output_type": "stream",
     "text": [
      "<class 'pandas.core.frame.DataFrame'>\n",
      "Int64Index: 6205 entries, 1 to 7968\n",
      "Data columns (total 11 columns):\n",
      " #   Column  Non-Null Count  Dtype         \n",
      "---  ------  --------------  -----         \n",
      " 0   영화명     6205 non-null   object        \n",
      " 1   감독      6205 non-null   object        \n",
      " 2   개봉일     6205 non-null   datetime64[ns]\n",
      " 3   국가      6205 non-null   object        \n",
      " 4   스크린수    6205 non-null   int32         \n",
      " 5   관객수     6205 non-null   int32         \n",
      " 6   관람가     6205 non-null   object        \n",
      " 7   장르      6205 non-null   object        \n",
      " 8   개봉연도    6205 non-null   int64         \n",
      " 9   개봉월     6205 non-null   int64         \n",
      " 10  흥행      6205 non-null   int32         \n",
      "dtypes: datetime64[ns](1), int32(3), int64(2), object(5)\n",
      "memory usage: 669.0+ KB\n"
     ]
    }
   ],
   "source": [
    "movie.info()"
   ]
  },
  {
   "cell_type": "code",
   "execution_count": 68,
   "metadata": {
    "ExecuteTime": {
     "end_time": "2021-04-16T14:39:32.068225Z",
     "start_time": "2021-04-16T14:39:32.039303Z"
    },
    "scrolled": true
   },
   "outputs": [
    {
     "data": {
      "text/html": [
       "<div>\n",
       "<style scoped>\n",
       "    .dataframe tbody tr th:only-of-type {\n",
       "        vertical-align: middle;\n",
       "    }\n",
       "\n",
       "    .dataframe tbody tr th {\n",
       "        vertical-align: top;\n",
       "    }\n",
       "\n",
       "    .dataframe thead th {\n",
       "        text-align: right;\n",
       "    }\n",
       "</style>\n",
       "<table border=\"1\" class=\"dataframe\">\n",
       "  <thead>\n",
       "    <tr style=\"text-align: right;\">\n",
       "      <th></th>\n",
       "      <th>영화명</th>\n",
       "      <th>감독</th>\n",
       "      <th>개봉일</th>\n",
       "      <th>국가</th>\n",
       "      <th>스크린수</th>\n",
       "      <th>관객수</th>\n",
       "      <th>관람가</th>\n",
       "      <th>장르</th>\n",
       "      <th>개봉연도</th>\n",
       "      <th>개봉월</th>\n",
       "      <th>흥행</th>\n",
       "    </tr>\n",
       "  </thead>\n",
       "  <tbody>\n",
       "    <tr>\n",
       "      <th>1</th>\n",
       "      <td>명량</td>\n",
       "      <td>김한민</td>\n",
       "      <td>2014-07-30</td>\n",
       "      <td>한국</td>\n",
       "      <td>1587</td>\n",
       "      <td>17613682</td>\n",
       "      <td>15세이상</td>\n",
       "      <td>사극</td>\n",
       "      <td>2014</td>\n",
       "      <td>7</td>\n",
       "      <td>1</td>\n",
       "    </tr>\n",
       "    <tr>\n",
       "      <th>2</th>\n",
       "      <td>극한직업</td>\n",
       "      <td>이병헌</td>\n",
       "      <td>2019-01-23</td>\n",
       "      <td>한국</td>\n",
       "      <td>1978</td>\n",
       "      <td>16264944</td>\n",
       "      <td>15세이상</td>\n",
       "      <td>코미디</td>\n",
       "      <td>2019</td>\n",
       "      <td>1</td>\n",
       "      <td>1</td>\n",
       "    </tr>\n",
       "    <tr>\n",
       "      <th>3</th>\n",
       "      <td>신과함께-죄와 벌</td>\n",
       "      <td>김용화</td>\n",
       "      <td>2017-12-20</td>\n",
       "      <td>한국</td>\n",
       "      <td>1912</td>\n",
       "      <td>14410754</td>\n",
       "      <td>12세이상</td>\n",
       "      <td>판타지</td>\n",
       "      <td>2017</td>\n",
       "      <td>12</td>\n",
       "      <td>1</td>\n",
       "    </tr>\n",
       "    <tr>\n",
       "      <th>4</th>\n",
       "      <td>국제시장</td>\n",
       "      <td>윤제균</td>\n",
       "      <td>2014-12-17</td>\n",
       "      <td>한국</td>\n",
       "      <td>966</td>\n",
       "      <td>14245998</td>\n",
       "      <td>12세이상</td>\n",
       "      <td>드라마</td>\n",
       "      <td>2014</td>\n",
       "      <td>12</td>\n",
       "      <td>1</td>\n",
       "    </tr>\n",
       "    <tr>\n",
       "      <th>5</th>\n",
       "      <td>어벤져스: 엔드게임</td>\n",
       "      <td>안소니 루소</td>\n",
       "      <td>2019-04-24</td>\n",
       "      <td>미국</td>\n",
       "      <td>2835</td>\n",
       "      <td>13934592</td>\n",
       "      <td>12세이상</td>\n",
       "      <td>액션</td>\n",
       "      <td>2019</td>\n",
       "      <td>4</td>\n",
       "      <td>1</td>\n",
       "    </tr>\n",
       "  </tbody>\n",
       "</table>\n",
       "</div>"
      ],
      "text/plain": [
       "          영화명      감독        개봉일  국가  스크린수       관객수    관람가   장르  개봉연도  개봉월  \\\n",
       "1          명량     김한민 2014-07-30  한국  1587  17613682  15세이상   사극  2014    7   \n",
       "2        극한직업     이병헌 2019-01-23  한국  1978  16264944  15세이상  코미디  2019    1   \n",
       "3   신과함께-죄와 벌     김용화 2017-12-20  한국  1912  14410754  12세이상  판타지  2017   12   \n",
       "4        국제시장     윤제균 2014-12-17  한국   966  14245998  12세이상  드라마  2014   12   \n",
       "5  어벤져스: 엔드게임  안소니 루소 2019-04-24  미국  2835  13934592  12세이상   액션  2019    4   \n",
       "\n",
       "   흥행  \n",
       "1   1  \n",
       "2   1  \n",
       "3   1  \n",
       "4   1  \n",
       "5   1  "
      ]
     },
     "execution_count": 68,
     "metadata": {},
     "output_type": "execute_result"
    }
   ],
   "source": [
    "movie.head()"
   ]
  },
  {
   "cell_type": "code",
   "execution_count": 69,
   "metadata": {
    "ExecuteTime": {
     "end_time": "2021-04-16T14:39:32.097148Z",
     "start_time": "2021-04-16T14:39:32.073213Z"
    }
   },
   "outputs": [
    {
     "name": "stdout",
     "output_type": "stream",
     "text": [
      "<class 'pandas.core.frame.DataFrame'>\n",
      "Int64Index: 6205 entries, 1 to 7968\n",
      "Data columns (total 11 columns):\n",
      " #   Column  Non-Null Count  Dtype         \n",
      "---  ------  --------------  -----         \n",
      " 0   영화명     6205 non-null   object        \n",
      " 1   감독      6205 non-null   object        \n",
      " 2   개봉일     6205 non-null   datetime64[ns]\n",
      " 3   국가      6205 non-null   object        \n",
      " 4   스크린수    6205 non-null   int32         \n",
      " 5   관객수     6205 non-null   int32         \n",
      " 6   관람가     6205 non-null   object        \n",
      " 7   장르      6205 non-null   object        \n",
      " 8   개봉연도    6205 non-null   int64         \n",
      " 9   개봉월     6205 non-null   int64         \n",
      " 10  흥행      6205 non-null   int32         \n",
      "dtypes: datetime64[ns](1), int32(3), int64(2), object(5)\n",
      "memory usage: 669.0+ KB\n"
     ]
    }
   ],
   "source": [
    "movie.info()"
   ]
  },
  {
   "cell_type": "markdown",
   "metadata": {},
   "source": [
    "# 머신러닝"
   ]
  },
  {
   "cell_type": "code",
   "execution_count": 70,
   "metadata": {
    "ExecuteTime": {
     "end_time": "2021-04-16T14:39:32.142028Z",
     "start_time": "2021-04-16T14:39:32.101136Z"
    }
   },
   "outputs": [
    {
     "data": {
      "text/html": [
       "<div>\n",
       "<style scoped>\n",
       "    .dataframe tbody tr th:only-of-type {\n",
       "        vertical-align: middle;\n",
       "    }\n",
       "\n",
       "    .dataframe tbody tr th {\n",
       "        vertical-align: top;\n",
       "    }\n",
       "\n",
       "    .dataframe thead th {\n",
       "        text-align: right;\n",
       "    }\n",
       "</style>\n",
       "<table border=\"1\" class=\"dataframe\">\n",
       "  <thead>\n",
       "    <tr style=\"text-align: right;\">\n",
       "      <th></th>\n",
       "      <th>국가</th>\n",
       "      <th>스크린수</th>\n",
       "      <th>관람가</th>\n",
       "      <th>장르</th>\n",
       "      <th>개봉연도</th>\n",
       "      <th>개봉월</th>\n",
       "      <th>흥행</th>\n",
       "    </tr>\n",
       "  </thead>\n",
       "  <tbody>\n",
       "    <tr>\n",
       "      <th>1</th>\n",
       "      <td>한국</td>\n",
       "      <td>1587</td>\n",
       "      <td>15세이상</td>\n",
       "      <td>사극</td>\n",
       "      <td>2014</td>\n",
       "      <td>7</td>\n",
       "      <td>1</td>\n",
       "    </tr>\n",
       "    <tr>\n",
       "      <th>2</th>\n",
       "      <td>한국</td>\n",
       "      <td>1978</td>\n",
       "      <td>15세이상</td>\n",
       "      <td>코미디</td>\n",
       "      <td>2019</td>\n",
       "      <td>1</td>\n",
       "      <td>1</td>\n",
       "    </tr>\n",
       "    <tr>\n",
       "      <th>3</th>\n",
       "      <td>한국</td>\n",
       "      <td>1912</td>\n",
       "      <td>12세이상</td>\n",
       "      <td>판타지</td>\n",
       "      <td>2017</td>\n",
       "      <td>12</td>\n",
       "      <td>1</td>\n",
       "    </tr>\n",
       "    <tr>\n",
       "      <th>4</th>\n",
       "      <td>한국</td>\n",
       "      <td>966</td>\n",
       "      <td>12세이상</td>\n",
       "      <td>드라마</td>\n",
       "      <td>2014</td>\n",
       "      <td>12</td>\n",
       "      <td>1</td>\n",
       "    </tr>\n",
       "    <tr>\n",
       "      <th>5</th>\n",
       "      <td>미국</td>\n",
       "      <td>2835</td>\n",
       "      <td>12세이상</td>\n",
       "      <td>액션</td>\n",
       "      <td>2019</td>\n",
       "      <td>4</td>\n",
       "      <td>1</td>\n",
       "    </tr>\n",
       "    <tr>\n",
       "      <th>...</th>\n",
       "      <td>...</td>\n",
       "      <td>...</td>\n",
       "      <td>...</td>\n",
       "      <td>...</td>\n",
       "      <td>...</td>\n",
       "      <td>...</td>\n",
       "      <td>...</td>\n",
       "    </tr>\n",
       "    <tr>\n",
       "      <th>7956</th>\n",
       "      <td>한국</td>\n",
       "      <td>12</td>\n",
       "      <td>19세이상</td>\n",
       "      <td>범죄</td>\n",
       "      <td>2012</td>\n",
       "      <td>11</td>\n",
       "      <td>0</td>\n",
       "    </tr>\n",
       "    <tr>\n",
       "      <th>7960</th>\n",
       "      <td>한국</td>\n",
       "      <td>15</td>\n",
       "      <td>19세이상</td>\n",
       "      <td>드라마</td>\n",
       "      <td>2018</td>\n",
       "      <td>7</td>\n",
       "      <td>0</td>\n",
       "    </tr>\n",
       "    <tr>\n",
       "      <th>7961</th>\n",
       "      <td>한국</td>\n",
       "      <td>2</td>\n",
       "      <td>15세이상</td>\n",
       "      <td>다큐멘터리</td>\n",
       "      <td>2014</td>\n",
       "      <td>6</td>\n",
       "      <td>0</td>\n",
       "    </tr>\n",
       "    <tr>\n",
       "      <th>7967</th>\n",
       "      <td>영국</td>\n",
       "      <td>13</td>\n",
       "      <td>15세이상</td>\n",
       "      <td>드라마</td>\n",
       "      <td>2014</td>\n",
       "      <td>2</td>\n",
       "      <td>0</td>\n",
       "    </tr>\n",
       "    <tr>\n",
       "      <th>7968</th>\n",
       "      <td>미국</td>\n",
       "      <td>11</td>\n",
       "      <td>전체</td>\n",
       "      <td>다큐멘터리</td>\n",
       "      <td>2019</td>\n",
       "      <td>4</td>\n",
       "      <td>0</td>\n",
       "    </tr>\n",
       "  </tbody>\n",
       "</table>\n",
       "<p>6205 rows × 7 columns</p>\n",
       "</div>"
      ],
      "text/plain": [
       "      국가  스크린수    관람가     장르  개봉연도  개봉월  흥행\n",
       "1     한국  1587  15세이상     사극  2014    7   1\n",
       "2     한국  1978  15세이상    코미디  2019    1   1\n",
       "3     한국  1912  12세이상    판타지  2017   12   1\n",
       "4     한국   966  12세이상    드라마  2014   12   1\n",
       "5     미국  2835  12세이상     액션  2019    4   1\n",
       "...   ..   ...    ...    ...   ...  ...  ..\n",
       "7956  한국    12  19세이상     범죄  2012   11   0\n",
       "7960  한국    15  19세이상    드라마  2018    7   0\n",
       "7961  한국     2  15세이상  다큐멘터리  2014    6   0\n",
       "7967  영국    13  15세이상    드라마  2014    2   0\n",
       "7968  미국    11     전체  다큐멘터리  2019    4   0\n",
       "\n",
       "[6205 rows x 7 columns]"
      ]
     },
     "execution_count": 70,
     "metadata": {},
     "output_type": "execute_result"
    }
   ],
   "source": [
    "movie_df = movie.drop(['영화명','개봉일','관객수','감독'],axis=1)\n",
    "movie_df"
   ]
  },
  {
   "cell_type": "code",
   "execution_count": 71,
   "metadata": {
    "ExecuteTime": {
     "end_time": "2021-04-16T14:39:32.220816Z",
     "start_time": "2021-04-16T14:39:32.148013Z"
    }
   },
   "outputs": [
    {
     "data": {
      "text/html": [
       "<div>\n",
       "<style scoped>\n",
       "    .dataframe tbody tr th:only-of-type {\n",
       "        vertical-align: middle;\n",
       "    }\n",
       "\n",
       "    .dataframe tbody tr th {\n",
       "        vertical-align: top;\n",
       "    }\n",
       "\n",
       "    .dataframe thead th {\n",
       "        text-align: right;\n",
       "    }\n",
       "</style>\n",
       "<table border=\"1\" class=\"dataframe\">\n",
       "  <thead>\n",
       "    <tr style=\"text-align: right;\">\n",
       "      <th></th>\n",
       "      <th>스크린수</th>\n",
       "      <th>개봉연도</th>\n",
       "      <th>개봉월</th>\n",
       "      <th>흥행</th>\n",
       "      <th>국가_그리스</th>\n",
       "      <th>국가_기타</th>\n",
       "      <th>국가_남아프리카공화국</th>\n",
       "      <th>국가_네덜란드</th>\n",
       "      <th>국가_노르웨이</th>\n",
       "      <th>국가_뉴질랜드</th>\n",
       "      <th>...</th>\n",
       "      <th>장르_범죄</th>\n",
       "      <th>장르_사극</th>\n",
       "      <th>장르_서부극(웨스턴)</th>\n",
       "      <th>장르_스릴러</th>\n",
       "      <th>장르_애니메이션</th>\n",
       "      <th>장르_액션</th>\n",
       "      <th>장르_어드벤처</th>\n",
       "      <th>장르_전쟁</th>\n",
       "      <th>장르_코미디</th>\n",
       "      <th>장르_판타지</th>\n",
       "    </tr>\n",
       "  </thead>\n",
       "  <tbody>\n",
       "    <tr>\n",
       "      <th>1</th>\n",
       "      <td>1587</td>\n",
       "      <td>2014</td>\n",
       "      <td>7</td>\n",
       "      <td>1</td>\n",
       "      <td>0</td>\n",
       "      <td>0</td>\n",
       "      <td>0</td>\n",
       "      <td>0</td>\n",
       "      <td>0</td>\n",
       "      <td>0</td>\n",
       "      <td>...</td>\n",
       "      <td>0</td>\n",
       "      <td>1</td>\n",
       "      <td>0</td>\n",
       "      <td>0</td>\n",
       "      <td>0</td>\n",
       "      <td>0</td>\n",
       "      <td>0</td>\n",
       "      <td>0</td>\n",
       "      <td>0</td>\n",
       "      <td>0</td>\n",
       "    </tr>\n",
       "    <tr>\n",
       "      <th>2</th>\n",
       "      <td>1978</td>\n",
       "      <td>2019</td>\n",
       "      <td>1</td>\n",
       "      <td>1</td>\n",
       "      <td>0</td>\n",
       "      <td>0</td>\n",
       "      <td>0</td>\n",
       "      <td>0</td>\n",
       "      <td>0</td>\n",
       "      <td>0</td>\n",
       "      <td>...</td>\n",
       "      <td>0</td>\n",
       "      <td>0</td>\n",
       "      <td>0</td>\n",
       "      <td>0</td>\n",
       "      <td>0</td>\n",
       "      <td>0</td>\n",
       "      <td>0</td>\n",
       "      <td>0</td>\n",
       "      <td>1</td>\n",
       "      <td>0</td>\n",
       "    </tr>\n",
       "    <tr>\n",
       "      <th>3</th>\n",
       "      <td>1912</td>\n",
       "      <td>2017</td>\n",
       "      <td>12</td>\n",
       "      <td>1</td>\n",
       "      <td>0</td>\n",
       "      <td>0</td>\n",
       "      <td>0</td>\n",
       "      <td>0</td>\n",
       "      <td>0</td>\n",
       "      <td>0</td>\n",
       "      <td>...</td>\n",
       "      <td>0</td>\n",
       "      <td>0</td>\n",
       "      <td>0</td>\n",
       "      <td>0</td>\n",
       "      <td>0</td>\n",
       "      <td>0</td>\n",
       "      <td>0</td>\n",
       "      <td>0</td>\n",
       "      <td>0</td>\n",
       "      <td>1</td>\n",
       "    </tr>\n",
       "    <tr>\n",
       "      <th>4</th>\n",
       "      <td>966</td>\n",
       "      <td>2014</td>\n",
       "      <td>12</td>\n",
       "      <td>1</td>\n",
       "      <td>0</td>\n",
       "      <td>0</td>\n",
       "      <td>0</td>\n",
       "      <td>0</td>\n",
       "      <td>0</td>\n",
       "      <td>0</td>\n",
       "      <td>...</td>\n",
       "      <td>0</td>\n",
       "      <td>0</td>\n",
       "      <td>0</td>\n",
       "      <td>0</td>\n",
       "      <td>0</td>\n",
       "      <td>0</td>\n",
       "      <td>0</td>\n",
       "      <td>0</td>\n",
       "      <td>0</td>\n",
       "      <td>0</td>\n",
       "    </tr>\n",
       "    <tr>\n",
       "      <th>5</th>\n",
       "      <td>2835</td>\n",
       "      <td>2019</td>\n",
       "      <td>4</td>\n",
       "      <td>1</td>\n",
       "      <td>0</td>\n",
       "      <td>0</td>\n",
       "      <td>0</td>\n",
       "      <td>0</td>\n",
       "      <td>0</td>\n",
       "      <td>0</td>\n",
       "      <td>...</td>\n",
       "      <td>0</td>\n",
       "      <td>0</td>\n",
       "      <td>0</td>\n",
       "      <td>0</td>\n",
       "      <td>0</td>\n",
       "      <td>1</td>\n",
       "      <td>0</td>\n",
       "      <td>0</td>\n",
       "      <td>0</td>\n",
       "      <td>0</td>\n",
       "    </tr>\n",
       "    <tr>\n",
       "      <th>...</th>\n",
       "      <td>...</td>\n",
       "      <td>...</td>\n",
       "      <td>...</td>\n",
       "      <td>...</td>\n",
       "      <td>...</td>\n",
       "      <td>...</td>\n",
       "      <td>...</td>\n",
       "      <td>...</td>\n",
       "      <td>...</td>\n",
       "      <td>...</td>\n",
       "      <td>...</td>\n",
       "      <td>...</td>\n",
       "      <td>...</td>\n",
       "      <td>...</td>\n",
       "      <td>...</td>\n",
       "      <td>...</td>\n",
       "      <td>...</td>\n",
       "      <td>...</td>\n",
       "      <td>...</td>\n",
       "      <td>...</td>\n",
       "      <td>...</td>\n",
       "    </tr>\n",
       "    <tr>\n",
       "      <th>7956</th>\n",
       "      <td>12</td>\n",
       "      <td>2012</td>\n",
       "      <td>11</td>\n",
       "      <td>0</td>\n",
       "      <td>0</td>\n",
       "      <td>0</td>\n",
       "      <td>0</td>\n",
       "      <td>0</td>\n",
       "      <td>0</td>\n",
       "      <td>0</td>\n",
       "      <td>...</td>\n",
       "      <td>1</td>\n",
       "      <td>0</td>\n",
       "      <td>0</td>\n",
       "      <td>0</td>\n",
       "      <td>0</td>\n",
       "      <td>0</td>\n",
       "      <td>0</td>\n",
       "      <td>0</td>\n",
       "      <td>0</td>\n",
       "      <td>0</td>\n",
       "    </tr>\n",
       "    <tr>\n",
       "      <th>7960</th>\n",
       "      <td>15</td>\n",
       "      <td>2018</td>\n",
       "      <td>7</td>\n",
       "      <td>0</td>\n",
       "      <td>0</td>\n",
       "      <td>0</td>\n",
       "      <td>0</td>\n",
       "      <td>0</td>\n",
       "      <td>0</td>\n",
       "      <td>0</td>\n",
       "      <td>...</td>\n",
       "      <td>0</td>\n",
       "      <td>0</td>\n",
       "      <td>0</td>\n",
       "      <td>0</td>\n",
       "      <td>0</td>\n",
       "      <td>0</td>\n",
       "      <td>0</td>\n",
       "      <td>0</td>\n",
       "      <td>0</td>\n",
       "      <td>0</td>\n",
       "    </tr>\n",
       "    <tr>\n",
       "      <th>7961</th>\n",
       "      <td>2</td>\n",
       "      <td>2014</td>\n",
       "      <td>6</td>\n",
       "      <td>0</td>\n",
       "      <td>0</td>\n",
       "      <td>0</td>\n",
       "      <td>0</td>\n",
       "      <td>0</td>\n",
       "      <td>0</td>\n",
       "      <td>0</td>\n",
       "      <td>...</td>\n",
       "      <td>0</td>\n",
       "      <td>0</td>\n",
       "      <td>0</td>\n",
       "      <td>0</td>\n",
       "      <td>0</td>\n",
       "      <td>0</td>\n",
       "      <td>0</td>\n",
       "      <td>0</td>\n",
       "      <td>0</td>\n",
       "      <td>0</td>\n",
       "    </tr>\n",
       "    <tr>\n",
       "      <th>7967</th>\n",
       "      <td>13</td>\n",
       "      <td>2014</td>\n",
       "      <td>2</td>\n",
       "      <td>0</td>\n",
       "      <td>0</td>\n",
       "      <td>0</td>\n",
       "      <td>0</td>\n",
       "      <td>0</td>\n",
       "      <td>0</td>\n",
       "      <td>0</td>\n",
       "      <td>...</td>\n",
       "      <td>0</td>\n",
       "      <td>0</td>\n",
       "      <td>0</td>\n",
       "      <td>0</td>\n",
       "      <td>0</td>\n",
       "      <td>0</td>\n",
       "      <td>0</td>\n",
       "      <td>0</td>\n",
       "      <td>0</td>\n",
       "      <td>0</td>\n",
       "    </tr>\n",
       "    <tr>\n",
       "      <th>7968</th>\n",
       "      <td>11</td>\n",
       "      <td>2019</td>\n",
       "      <td>4</td>\n",
       "      <td>0</td>\n",
       "      <td>0</td>\n",
       "      <td>0</td>\n",
       "      <td>0</td>\n",
       "      <td>0</td>\n",
       "      <td>0</td>\n",
       "      <td>0</td>\n",
       "      <td>...</td>\n",
       "      <td>0</td>\n",
       "      <td>0</td>\n",
       "      <td>0</td>\n",
       "      <td>0</td>\n",
       "      <td>0</td>\n",
       "      <td>0</td>\n",
       "      <td>0</td>\n",
       "      <td>0</td>\n",
       "      <td>0</td>\n",
       "      <td>0</td>\n",
       "    </tr>\n",
       "  </tbody>\n",
       "</table>\n",
       "<p>6205 rows × 88 columns</p>\n",
       "</div>"
      ],
      "text/plain": [
       "      스크린수  개봉연도  개봉월  흥행  국가_그리스  국가_기타  국가_남아프리카공화국  국가_네덜란드  국가_노르웨이  \\\n",
       "1     1587  2014    7   1       0      0            0        0        0   \n",
       "2     1978  2019    1   1       0      0            0        0        0   \n",
       "3     1912  2017   12   1       0      0            0        0        0   \n",
       "4      966  2014   12   1       0      0            0        0        0   \n",
       "5     2835  2019    4   1       0      0            0        0        0   \n",
       "...    ...   ...  ...  ..     ...    ...          ...      ...      ...   \n",
       "7956    12  2012   11   0       0      0            0        0        0   \n",
       "7960    15  2018    7   0       0      0            0        0        0   \n",
       "7961     2  2014    6   0       0      0            0        0        0   \n",
       "7967    13  2014    2   0       0      0            0        0        0   \n",
       "7968    11  2019    4   0       0      0            0        0        0   \n",
       "\n",
       "      국가_뉴질랜드  ...  장르_범죄  장르_사극  장르_서부극(웨스턴)  장르_스릴러  장르_애니메이션  장르_액션  \\\n",
       "1           0  ...      0      1            0       0         0      0   \n",
       "2           0  ...      0      0            0       0         0      0   \n",
       "3           0  ...      0      0            0       0         0      0   \n",
       "4           0  ...      0      0            0       0         0      0   \n",
       "5           0  ...      0      0            0       0         0      1   \n",
       "...       ...  ...    ...    ...          ...     ...       ...    ...   \n",
       "7956        0  ...      1      0            0       0         0      0   \n",
       "7960        0  ...      0      0            0       0         0      0   \n",
       "7961        0  ...      0      0            0       0         0      0   \n",
       "7967        0  ...      0      0            0       0         0      0   \n",
       "7968        0  ...      0      0            0       0         0      0   \n",
       "\n",
       "      장르_어드벤처  장르_전쟁  장르_코미디  장르_판타지  \n",
       "1           0      0       0       0  \n",
       "2           0      0       1       0  \n",
       "3           0      0       0       1  \n",
       "4           0      0       0       0  \n",
       "5           0      0       0       0  \n",
       "...       ...    ...     ...     ...  \n",
       "7956        0      0       0       0  \n",
       "7960        0      0       0       0  \n",
       "7961        0      0       0       0  \n",
       "7967        0      0       0       0  \n",
       "7968        0      0       0       0  \n",
       "\n",
       "[6205 rows x 88 columns]"
      ]
     },
     "execution_count": 71,
     "metadata": {},
     "output_type": "execute_result"
    }
   ],
   "source": [
    "movie_d = pd.get_dummies(movie_df)\n",
    "movie_d"
   ]
  },
  {
   "cell_type": "code",
   "execution_count": 72,
   "metadata": {
    "ExecuteTime": {
     "end_time": "2021-04-16T14:39:32.243754Z",
     "start_time": "2021-04-16T14:39:32.227798Z"
    }
   },
   "outputs": [],
   "source": [
    "y = movie_d['흥행'].values\n",
    "x = movie_d.drop('흥행',axis=1).values"
   ]
  },
  {
   "cell_type": "code",
   "execution_count": 73,
   "metadata": {
    "ExecuteTime": {
     "end_time": "2021-04-16T14:39:32.257719Z",
     "start_time": "2021-04-16T14:39:32.248742Z"
    }
   },
   "outputs": [
    {
     "data": {
      "text/plain": [
       "array([1, 1, 1, ..., 0, 0, 0])"
      ]
     },
     "execution_count": 73,
     "metadata": {},
     "output_type": "execute_result"
    }
   ],
   "source": [
    "y"
   ]
  },
  {
   "cell_type": "code",
   "execution_count": 74,
   "metadata": {
    "ExecuteTime": {
     "end_time": "2021-04-16T14:39:32.270683Z",
     "start_time": "2021-04-16T14:39:32.262704Z"
    }
   },
   "outputs": [
    {
     "name": "stdout",
     "output_type": "stream",
     "text": [
      "(6205, 87)\n",
      "(6205,)\n"
     ]
    }
   ],
   "source": [
    "print(x.shape)\n",
    "print(y.shape)"
   ]
  },
  {
   "cell_type": "code",
   "execution_count": 75,
   "metadata": {
    "ExecuteTime": {
     "end_time": "2021-04-16T14:39:33.823774Z",
     "start_time": "2021-04-16T14:39:32.274673Z"
    }
   },
   "outputs": [],
   "source": [
    "from sklearn.model_selection import train_test_split"
   ]
  },
  {
   "cell_type": "code",
   "execution_count": 76,
   "metadata": {
    "ExecuteTime": {
     "end_time": "2021-04-16T14:39:33.848710Z",
     "start_time": "2021-04-16T14:39:33.826766Z"
    }
   },
   "outputs": [],
   "source": [
    "x_train, x_test, y_train, y_test = train_test_split(x,y,test_size=0.2,random_state=0)"
   ]
  },
  {
   "cell_type": "code",
   "execution_count": 116,
   "metadata": {
    "ExecuteTime": {
     "end_time": "2021-04-16T15:05:13.548404Z",
     "start_time": "2021-04-16T15:05:13.540423Z"
    }
   },
   "outputs": [
    {
     "name": "stdout",
     "output_type": "stream",
     "text": [
      "x_train : (4964, 87)\n",
      "y_train : (4964,)\n",
      "x_test : (1241, 87)\n",
      "y_test : (1241,)\n"
     ]
    }
   ],
   "source": [
    "print('x_train : {}'.format(x_train.shape))\n",
    "print('y_train : {}'.format(y_train.shape))\n",
    "print('x_test : {}'.format(x_test.shape))\n",
    "print('y_test : {}'.format(y_test.shape))"
   ]
  },
  {
   "cell_type": "code",
   "execution_count": 78,
   "metadata": {
    "ExecuteTime": {
     "end_time": "2021-04-16T14:39:33.872643Z",
     "start_time": "2021-04-16T14:39:33.867656Z"
    }
   },
   "outputs": [],
   "source": [
    "#스케일링"
   ]
  },
  {
   "cell_type": "code",
   "execution_count": 79,
   "metadata": {
    "ExecuteTime": {
     "end_time": "2021-04-16T14:39:33.915565Z",
     "start_time": "2021-04-16T14:39:33.877630Z"
    }
   },
   "outputs": [],
   "source": [
    "from sklearn.preprocessing import StandardScaler\n",
    "sc = StandardScaler()\n",
    "x_train = sc.fit_transform(x_train)\n",
    "x_test = sc.transform(x_test)"
   ]
  },
  {
   "cell_type": "code",
   "execution_count": 80,
   "metadata": {
    "ExecuteTime": {
     "end_time": "2021-04-16T14:39:34.537573Z",
     "start_time": "2021-04-16T14:39:33.921511Z"
    }
   },
   "outputs": [],
   "source": [
    "from imblearn.over_sampling import SMOTE"
   ]
  },
  {
   "cell_type": "code",
   "execution_count": 118,
   "metadata": {
    "ExecuteTime": {
     "end_time": "2021-04-16T15:05:47.082193Z",
     "start_time": "2021-04-16T15:05:47.008392Z"
    }
   },
   "outputs": [
    {
     "name": "stdout",
     "output_type": "stream",
     "text": [
      "과적합전 \"흥행\": 651\n",
      "과적합전 \"비흥행\": 4313\n"
     ]
    }
   ],
   "source": [
    "print('과적합전 \"흥행\": {}'.format(sum(y_train==1)))\n",
    "print('과적합전 \"비흥행\": {}'.format(sum(y_train==0)))"
   ]
  },
  {
   "cell_type": "code",
   "execution_count": 82,
   "metadata": {
    "ExecuteTime": {
     "end_time": "2021-04-16T14:39:34.775943Z",
     "start_time": "2021-04-16T14:39:34.606366Z"
    }
   },
   "outputs": [],
   "source": [
    "sm = SMOTE(random_state=0)\n",
    "x_train_sm, y_train_sm = sm.fit_resample(x_train, y_train.ravel())"
   ]
  },
  {
   "cell_type": "code",
   "execution_count": 120,
   "metadata": {
    "ExecuteTime": {
     "end_time": "2021-04-16T15:05:57.825149Z",
     "start_time": "2021-04-16T15:05:57.721424Z"
    }
   },
   "outputs": [
    {
     "name": "stdout",
     "output_type": "stream",
     "text": [
      "과적합후 x_train: (8626, 87)\n",
      "과적합후 y_train: (8626,)\n",
      "과적합후 \"흥행\": 4313\n",
      "과적합후 \"비흥행\": 4313\n"
     ]
    }
   ],
   "source": [
    "print('과적합후 x_train: {}'.format(x_train_sm.shape))\n",
    "print('과적합후 y_train: {}'.format(y_train_sm.shape))\n",
    "print('과적합후 \"흥행\": {}'.format(sum(y_train_sm==1)))\n",
    "print('과적합후 \"비흥행\": {}'.format(sum(y_train_sm==0)))"
   ]
  },
  {
   "cell_type": "code",
   "execution_count": 84,
   "metadata": {
    "ExecuteTime": {
     "end_time": "2021-04-16T14:39:35.456756Z",
     "start_time": "2021-04-16T14:39:34.887611Z"
    }
   },
   "outputs": [],
   "source": [
    "from sklearn.linear_model import LogisticRegression\n",
    "from sklearn.neighbors import KNeighborsClassifier\n",
    "from sklearn.svm import SVC\n",
    "from sklearn.tree import DecisionTreeClassifier\n",
    "from sklearn.ensemble import RandomForestClassifier\n",
    "from xgboost import XGBClassifier"
   ]
  },
  {
   "cell_type": "code",
   "execution_count": 85,
   "metadata": {
    "ExecuteTime": {
     "end_time": "2021-04-16T14:39:35.467578Z",
     "start_time": "2021-04-16T14:39:35.459596Z"
    }
   },
   "outputs": [],
   "source": [
    "from sklearn.metrics import accuracy_score, confusion_matrix, roc_auc_score, precision_score, recall_score, f1_score, classification_report, roc_curve, auc\n",
    "from sklearn.model_selection import cross_val_score"
   ]
  },
  {
   "cell_type": "code",
   "execution_count": 86,
   "metadata": {
    "ExecuteTime": {
     "end_time": "2021-04-16T14:39:35.484529Z",
     "start_time": "2021-04-16T14:39:35.472565Z"
    }
   },
   "outputs": [],
   "source": [
    "models = []\n",
    "models.append(['Logistic Regreesion', LogisticRegression(random_state=0)])\n",
    "models.append(['KNeighbors', KNeighborsClassifier()])\n",
    "models.append(['SVM', SVC(random_state=0)])\n",
    "models.append(['Decision Tree', DecisionTreeClassifier(random_state=0)])\n",
    "models.append(['Random Forest', RandomForestClassifier(random_state=0)])\n",
    "models.append(['XGBoost', XGBClassifier(eval_metric='error')])"
   ]
  },
  {
   "cell_type": "code",
   "execution_count": 87,
   "metadata": {
    "ExecuteTime": {
     "end_time": "2021-04-16T14:41:37.247873Z",
     "start_time": "2021-04-16T14:39:35.488523Z"
    }
   },
   "outputs": [
    {
     "name": "stdout",
     "output_type": "stream",
     "text": [
      "Logistic Regreesion :\n",
      "[[945 139]\n",
      " [ 22 135]]\n",
      "Accuracy Score: 0.8702659145850121\n",
      "\n",
      "K-Fold Validation Mean Accuracy: 90.12 %\n",
      "\n",
      "Standard Deviation: 1.29 %\n",
      "\n",
      "ROC AUC Score: 0.87\n",
      "\n",
      "Precision: 0.49\n",
      "\n",
      "Recall: 0.86\n",
      "\n",
      "F1: 0.63\n",
      "-----------------------------------\n",
      "\n",
      "KNeighbors :\n",
      "[[943 141]\n",
      " [ 28 129]]\n",
      "Accuracy Score: 0.8638195004029009\n",
      "\n",
      "K-Fold Validation Mean Accuracy: 91.76 %\n",
      "\n",
      "Standard Deviation: 0.87 %\n",
      "\n",
      "ROC AUC Score: 0.85\n",
      "\n",
      "Precision: 0.48\n",
      "\n",
      "Recall: 0.82\n",
      "\n",
      "F1: 0.60\n",
      "-----------------------------------\n",
      "\n",
      "SVM :\n",
      "[[946 138]\n",
      " [ 18 139]]\n",
      "Accuracy Score: 0.8742949234488316\n",
      "\n",
      "K-Fold Validation Mean Accuracy: 91.66 %\n",
      "\n",
      "Standard Deviation: 0.94 %\n",
      "\n",
      "ROC AUC Score: 0.88\n",
      "\n",
      "Precision: 0.50\n",
      "\n",
      "Recall: 0.89\n",
      "\n",
      "F1: 0.64\n",
      "-----------------------------------\n",
      "\n",
      "Decision Tree :\n",
      "[[1033   51]\n",
      " [  54  103]]\n",
      "Accuracy Score: 0.9153908138597905\n",
      "\n",
      "K-Fold Validation Mean Accuracy: 94.20 %\n",
      "\n",
      "Standard Deviation: 3.63 %\n",
      "\n",
      "ROC AUC Score: 0.80\n",
      "\n",
      "Precision: 0.67\n",
      "\n",
      "Recall: 0.66\n",
      "\n",
      "F1: 0.66\n",
      "-----------------------------------\n",
      "\n",
      "Random Forest :\n",
      "[[1025   59]\n",
      " [  43  114]]\n",
      "Accuracy Score: 0.9178082191780822\n",
      "\n",
      "K-Fold Validation Mean Accuracy: 95.11 %\n",
      "\n",
      "Standard Deviation: 2.48 %\n",
      "\n",
      "ROC AUC Score: 0.84\n",
      "\n",
      "Precision: 0.66\n",
      "\n",
      "Recall: 0.73\n",
      "\n",
      "F1: 0.69\n",
      "-----------------------------------\n",
      "\n"
     ]
    },
    {
     "name": "stderr",
     "output_type": "stream",
     "text": [
      "C:\\ProgramData\\Anaconda3\\lib\\site-packages\\xgboost\\sklearn.py:892: UserWarning: The use of label encoder in XGBClassifier is deprecated and will be removed in a future release. To remove this warning, do the following: 1) Pass option use_label_encoder=False when constructing XGBClassifier object; and 2) Encode your labels (y) as integers starting with 0, i.e. 0, 1, 2, ..., [num_class - 1].\n",
      "  warnings.warn(label_encoder_deprecation_msg, UserWarning)\n",
      "C:\\ProgramData\\Anaconda3\\lib\\site-packages\\xgboost\\sklearn.py:892: UserWarning: The use of label encoder in XGBClassifier is deprecated and will be removed in a future release. To remove this warning, do the following: 1) Pass option use_label_encoder=False when constructing XGBClassifier object; and 2) Encode your labels (y) as integers starting with 0, i.e. 0, 1, 2, ..., [num_class - 1].\n",
      "  warnings.warn(label_encoder_deprecation_msg, UserWarning)\n"
     ]
    },
    {
     "name": "stdout",
     "output_type": "stream",
     "text": [
      "XGBoost :\n",
      "[[1047   37]\n",
      " [  42  115]]\n",
      "Accuracy Score: 0.9363416599516519\n",
      "\n",
      "K-Fold Validation Mean Accuracy: 95.79 %\n",
      "\n",
      "Standard Deviation: 4.80 %\n",
      "\n",
      "ROC AUC Score: 0.85\n",
      "\n",
      "Precision: 0.76\n",
      "\n",
      "Recall: 0.73\n",
      "\n",
      "F1: 0.74\n",
      "-----------------------------------\n",
      "\n"
     ]
    }
   ],
   "source": [
    "ls_1 = []\n",
    "\n",
    "for i in range(len(models)):\n",
    "    ls_2 = []\n",
    "    model = models[i][1]\n",
    "    model.fit(x_train_sm, y_train_sm)\n",
    "    y_pred = model.predict(x_test)\n",
    "    cm = confusion_matrix(y_test, y_pred)\n",
    "    accuracies = cross_val_score(estimator=model, X=x_train_sm, y=y_train_sm, cv=10)\n",
    "    roc = roc_auc_score(y_test, y_pred)\n",
    "    precision = precision_score(y_test, y_pred)\n",
    "    recall = recall_score(y_test, y_pred)\n",
    "    f1 = f1_score(y_test, y_pred)\n",
    "    print(models[i][0],':')\n",
    "    print(cm)\n",
    "    print('Accuracy Score:', accuracy_score(y_test, y_pred))\n",
    "    print('')\n",
    "    print('K-Fold Validation Mean Accuracy: {:.2f} %'.format(accuracies.mean()*100))\n",
    "    print('')\n",
    "    print(\"Standard Deviation: {:.2f} %\".format(accuracies.std()*100))\n",
    "    print('')\n",
    "    print('ROC AUC Score: {:.2f}'.format(roc))\n",
    "    print('')\n",
    "    print('Precision: {:.2f}'.format(precision))\n",
    "    print('')\n",
    "    print('Recall: {:.2f}'.format(recall))\n",
    "    print('')\n",
    "    print('F1: {:.2f}'.format(f1))\n",
    "    print('-----------------------------------')\n",
    "    print('')\n",
    "    ls_2.append(models[i][0])\n",
    "    ls_2.append((accuracy_score(y_test, y_pred))*100) \n",
    "    ls_2.append(accuracies.mean()*100)\n",
    "    ls_2.append(accuracies.std()*100)\n",
    "    ls_2.append(roc)\n",
    "    ls_2.append(precision)\n",
    "    ls_2.append(recall)\n",
    "    ls_2.append(f1)\n",
    "    ls_1.append(ls_2)"
   ]
  },
  {
   "cell_type": "code",
   "execution_count": 88,
   "metadata": {
    "ExecuteTime": {
     "end_time": "2021-04-16T14:41:37.262832Z",
     "start_time": "2021-04-16T14:41:37.251861Z"
    }
   },
   "outputs": [],
   "source": [
    "df = pd.DataFrame(ls_1, columns=['Model','Accuracy','K-Fold Mean Accuracy', 'Std. Deviation', 'ROC AUC', 'Precision', 'Recall','F1'])"
   ]
  },
  {
   "cell_type": "code",
   "execution_count": 89,
   "metadata": {
    "ExecuteTime": {
     "end_time": "2021-04-16T14:41:37.285770Z",
     "start_time": "2021-04-16T14:41:37.267819Z"
    }
   },
   "outputs": [],
   "source": [
    "df.sort_values(by=['Accuracy', 'K-Fold Mean Accuracy'], inplace=True, ascending=False)"
   ]
  },
  {
   "cell_type": "code",
   "execution_count": 90,
   "metadata": {
    "ExecuteTime": {
     "end_time": "2021-04-16T14:41:37.320677Z",
     "start_time": "2021-04-16T14:41:37.289761Z"
    }
   },
   "outputs": [
    {
     "data": {
      "text/html": [
       "<div>\n",
       "<style scoped>\n",
       "    .dataframe tbody tr th:only-of-type {\n",
       "        vertical-align: middle;\n",
       "    }\n",
       "\n",
       "    .dataframe tbody tr th {\n",
       "        vertical-align: top;\n",
       "    }\n",
       "\n",
       "    .dataframe thead th {\n",
       "        text-align: right;\n",
       "    }\n",
       "</style>\n",
       "<table border=\"1\" class=\"dataframe\">\n",
       "  <thead>\n",
       "    <tr style=\"text-align: right;\">\n",
       "      <th></th>\n",
       "      <th>Model</th>\n",
       "      <th>Accuracy</th>\n",
       "      <th>K-Fold Mean Accuracy</th>\n",
       "      <th>Std. Deviation</th>\n",
       "      <th>ROC AUC</th>\n",
       "      <th>Precision</th>\n",
       "      <th>Recall</th>\n",
       "      <th>F1</th>\n",
       "    </tr>\n",
       "  </thead>\n",
       "  <tbody>\n",
       "    <tr>\n",
       "      <th>5</th>\n",
       "      <td>XGBoost</td>\n",
       "      <td>93.634166</td>\n",
       "      <td>95.792788</td>\n",
       "      <td>4.799949</td>\n",
       "      <td>0.849176</td>\n",
       "      <td>0.756579</td>\n",
       "      <td>0.732484</td>\n",
       "      <td>0.744337</td>\n",
       "    </tr>\n",
       "    <tr>\n",
       "      <th>4</th>\n",
       "      <td>Random Forest</td>\n",
       "      <td>91.780822</td>\n",
       "      <td>95.108455</td>\n",
       "      <td>2.484234</td>\n",
       "      <td>0.835843</td>\n",
       "      <td>0.658960</td>\n",
       "      <td>0.726115</td>\n",
       "      <td>0.690909</td>\n",
       "    </tr>\n",
       "    <tr>\n",
       "      <th>3</th>\n",
       "      <td>Decision Tree</td>\n",
       "      <td>91.539081</td>\n",
       "      <td>94.204187</td>\n",
       "      <td>3.631533</td>\n",
       "      <td>0.804501</td>\n",
       "      <td>0.668831</td>\n",
       "      <td>0.656051</td>\n",
       "      <td>0.662379</td>\n",
       "    </tr>\n",
       "    <tr>\n",
       "      <th>2</th>\n",
       "      <td>SVM</td>\n",
       "      <td>87.429492</td>\n",
       "      <td>91.664888</td>\n",
       "      <td>0.938409</td>\n",
       "      <td>0.879022</td>\n",
       "      <td>0.501805</td>\n",
       "      <td>0.885350</td>\n",
       "      <td>0.640553</td>\n",
       "    </tr>\n",
       "    <tr>\n",
       "      <th>0</th>\n",
       "      <td>Logistic Regreesion</td>\n",
       "      <td>87.026591</td>\n",
       "      <td>90.123174</td>\n",
       "      <td>1.294480</td>\n",
       "      <td>0.865822</td>\n",
       "      <td>0.492701</td>\n",
       "      <td>0.859873</td>\n",
       "      <td>0.626450</td>\n",
       "    </tr>\n",
       "    <tr>\n",
       "      <th>1</th>\n",
       "      <td>KNeighbors</td>\n",
       "      <td>86.381950</td>\n",
       "      <td>91.757426</td>\n",
       "      <td>0.873326</td>\n",
       "      <td>0.845791</td>\n",
       "      <td>0.477778</td>\n",
       "      <td>0.821656</td>\n",
       "      <td>0.604215</td>\n",
       "    </tr>\n",
       "  </tbody>\n",
       "</table>\n",
       "</div>"
      ],
      "text/plain": [
       "                 Model   Accuracy  K-Fold Mean Accuracy  Std. Deviation  \\\n",
       "5              XGBoost  93.634166             95.792788        4.799949   \n",
       "4        Random Forest  91.780822             95.108455        2.484234   \n",
       "3        Decision Tree  91.539081             94.204187        3.631533   \n",
       "2                  SVM  87.429492             91.664888        0.938409   \n",
       "0  Logistic Regreesion  87.026591             90.123174        1.294480   \n",
       "1           KNeighbors  86.381950             91.757426        0.873326   \n",
       "\n",
       "    ROC AUC  Precision    Recall        F1  \n",
       "5  0.849176   0.756579  0.732484  0.744337  \n",
       "4  0.835843   0.658960  0.726115  0.690909  \n",
       "3  0.804501   0.668831  0.656051  0.662379  \n",
       "2  0.879022   0.501805  0.885350  0.640553  \n",
       "0  0.865822   0.492701  0.859873  0.626450  \n",
       "1  0.845791   0.477778  0.821656  0.604215  "
      ]
     },
     "execution_count": 90,
     "metadata": {},
     "output_type": "execute_result"
    }
   ],
   "source": [
    "df"
   ]
  },
  {
   "cell_type": "code",
   "execution_count": 91,
   "metadata": {
    "ExecuteTime": {
     "end_time": "2021-04-16T14:41:37.331649Z",
     "start_time": "2021-04-16T14:41:37.325664Z"
    }
   },
   "outputs": [],
   "source": [
    "from sklearn.model_selection import GridSearchCV"
   ]
  },
  {
   "cell_type": "code",
   "execution_count": 92,
   "metadata": {
    "ExecuteTime": {
     "end_time": "2021-04-16T14:41:37.348603Z",
     "start_time": "2021-04-16T14:41:37.335636Z"
    }
   },
   "outputs": [],
   "source": [
    "grid_models = [(LogisticRegression(),[{'C':[0.25,0.5,0.75,1],'random_state':[0]}]), \n",
    "               (KNeighborsClassifier(),[{'n_neighbors':[5,7,8,10], 'metric': ['euclidean', 'manhattan', 'chebyshev', 'minkowski']}]), \n",
    "               (SVC(),[{'C':[0.25,0.5,0.75,1],'kernel':['linear', 'rbf'],'random_state':[0]}]), \n",
    "               (DecisionTreeClassifier(),[{'criterion':['gini','entropy'],'random_state':[0]}]), \n",
    "               (RandomForestClassifier(),[{'n_estimators':[100,150,200],'criterion':['gini','entropy'],'random_state':[0]}]), \n",
    "               (XGBClassifier(), [{'learning_rate': [0.01, 0.05, 0.1], 'eval_metric': ['error']}])]"
   ]
  },
  {
   "cell_type": "code",
   "execution_count": 93,
   "metadata": {
    "ExecuteTime": {
     "end_time": "2021-04-16T14:57:42.729633Z",
     "start_time": "2021-04-16T14:41:37.353588Z"
    }
   },
   "outputs": [
    {
     "name": "stdout",
     "output_type": "stream",
     "text": [
      "LogisticRegression():\n",
      "Best Accuracy:90.16%\n",
      "Best Parameters: {'C': 0.75, 'random_state': 0}\n",
      "\n",
      "------------------\n",
      "\n",
      "KNeighborsClassifier():\n",
      "Best Accuracy:92.07%\n",
      "Best Parameters: {'metric': 'manhattan', 'n_neighbors': 5}\n",
      "\n",
      "------------------\n",
      "\n",
      "SVC():\n",
      "Best Accuracy:91.66%\n",
      "Best Parameters: {'C': 1, 'kernel': 'rbf', 'random_state': 0}\n",
      "\n",
      "------------------\n",
      "\n",
      "DecisionTreeClassifier():\n",
      "Best Accuracy:94.20%\n",
      "Best Parameters: {'criterion': 'gini', 'random_state': 0}\n",
      "\n",
      "------------------\n",
      "\n",
      "RandomForestClassifier():\n",
      "Best Accuracy:95.44%\n",
      "Best Parameters: {'criterion': 'entropy', 'n_estimators': 200, 'random_state': 0}\n",
      "\n",
      "------------------\n",
      "\n"
     ]
    },
    {
     "name": "stderr",
     "output_type": "stream",
     "text": [
      "C:\\ProgramData\\Anaconda3\\lib\\site-packages\\xgboost\\sklearn.py:892: UserWarning: The use of label encoder in XGBClassifier is deprecated and will be removed in a future release. To remove this warning, do the following: 1) Pass option use_label_encoder=False when constructing XGBClassifier object; and 2) Encode your labels (y) as integers starting with 0, i.e. 0, 1, 2, ..., [num_class - 1].\n",
      "  warnings.warn(label_encoder_deprecation_msg, UserWarning)\n"
     ]
    },
    {
     "name": "stdout",
     "output_type": "stream",
     "text": [
      "XGBClassifier(base_score=None, booster=None, colsample_bylevel=None,\n",
      "              colsample_bynode=None, colsample_bytree=None, gamma=None,\n",
      "              gpu_id=None, importance_type='gain', interaction_constraints=None,\n",
      "              learning_rate=None, max_delta_step=None, max_depth=None,\n",
      "              min_child_weight=None, missing=nan, monotone_constraints=None,\n",
      "              n_estimators=100, n_jobs=None, num_parallel_tree=None,\n",
      "              random_state=None, reg_alpha=None, reg_lambda=None,\n",
      "              scale_pos_weight=None, subsample=None, tree_method=None,\n",
      "              validate_parameters=None, verbosity=None):\n",
      "Best Accuracy:95.85%\n",
      "Best Parameters: {'eval_metric': 'error', 'learning_rate': 0.1}\n",
      "\n",
      "------------------\n",
      "\n"
     ]
    }
   ],
   "source": [
    "for i, j in grid_models:\n",
    "    grid = GridSearchCV(estimator=i, param_grid=j, scoring='accuracy', cv=10)\n",
    "    grid.fit(x_train_sm, y_train_sm)\n",
    "    best_accuracy = grid.best_score_\n",
    "    best_param = grid.best_params_\n",
    "    print('{}:\\nBest Accuracy:{:.2f}%'.format(i,best_accuracy*100))\n",
    "    print('Best Parameters:',best_param)\n",
    "    print('')\n",
    "    print('------------------')\n",
    "    print('')"
   ]
  },
  {
   "cell_type": "code",
   "execution_count": 94,
   "metadata": {
    "ExecuteTime": {
     "end_time": "2021-04-16T14:57:42.743594Z",
     "start_time": "2021-04-16T14:57:42.734620Z"
    }
   },
   "outputs": [],
   "source": [
    "# RandomForest"
   ]
  },
  {
   "cell_type": "code",
   "execution_count": 95,
   "metadata": {
    "ExecuteTime": {
     "end_time": "2021-04-16T14:57:48.908104Z",
     "start_time": "2021-04-16T14:57:42.749580Z"
    }
   },
   "outputs": [
    {
     "name": "stdout",
     "output_type": "stream",
     "text": [
      "              precision    recall  f1-score   support\n",
      "\n",
      "           0       0.96      0.95      0.95      1084\n",
      "           1       0.66      0.73      0.69       157\n",
      "\n",
      "    accuracy                           0.92      1241\n",
      "   macro avg       0.81      0.84      0.82      1241\n",
      "weighted avg       0.92      0.92      0.92      1241\n",
      "\n",
      "ROC AUC Score:0.9309675182739088\n",
      "Accuracy Score: 0.9178082191780822\n"
     ]
    }
   ],
   "source": [
    "classifier = RandomForestClassifier(criterion='entropy', n_estimators=200, random_state=0)\n",
    "classifier.fit(x_train_sm, y_train_sm)\n",
    "y_pred = classifier.predict(x_test)\n",
    "y_prob = classifier.predict_proba(x_test)[:,1]\n",
    "cm = confusion_matrix(y_test, y_pred)\n",
    "\n",
    "print(classification_report(y_test, y_pred))\n",
    "print(f'ROC AUC Score:{roc_auc_score(y_test, y_prob)}')\n",
    "print('Accuracy Score:', accuracy_score(y_test, y_pred))"
   ]
  },
  {
   "cell_type": "code",
   "execution_count": 96,
   "metadata": {
    "ExecuteTime": {
     "end_time": "2021-04-16T14:57:48.927052Z",
     "start_time": "2021-04-16T14:57:48.915085Z"
    }
   },
   "outputs": [],
   "source": [
    "false_positive_rate, true_positive_rate, thresholds = roc_curve(y_test, y_prob)\n",
    "roc_auc = auc(false_positive_rate, true_positive_rate)"
   ]
  },
  {
   "cell_type": "code",
   "execution_count": 97,
   "metadata": {
    "ExecuteTime": {
     "end_time": "2021-04-16T14:57:49.433696Z",
     "start_time": "2021-04-16T14:57:48.935033Z"
    }
   },
   "outputs": [
    {
     "data": {
      "text/plain": [
       "[<matplotlib.lines.Line2D at 0x13f5713c910>]"
      ]
     },
     "execution_count": 97,
     "metadata": {},
     "output_type": "execute_result"
    },
    {
     "data": {
      "image/png": "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\n",
      "text/plain": [
       "<Figure size 576x576 with 1 Axes>"
      ]
     },
     "metadata": {
      "needs_background": "light"
     },
     "output_type": "display_data"
    }
   ],
   "source": [
    "plt.figure(figsize=(8,8))\n",
    "plt.plot(false_positive_rate, true_positive_rate)\n",
    "plt.plot([0,1],[0,1],linestyle='--')"
   ]
  },
  {
   "cell_type": "code",
   "execution_count": 98,
   "metadata": {
    "ExecuteTime": {
     "end_time": "2021-04-16T14:57:52.415719Z",
     "start_time": "2021-04-16T14:57:49.439681Z"
    }
   },
   "outputs": [
    {
     "name": "stderr",
     "output_type": "stream",
     "text": [
      "C:\\ProgramData\\Anaconda3\\lib\\site-packages\\xgboost\\sklearn.py:892: UserWarning: The use of label encoder in XGBClassifier is deprecated and will be removed in a future release. To remove this warning, do the following: 1) Pass option use_label_encoder=False when constructing XGBClassifier object; and 2) Encode your labels (y) as integers starting with 0, i.e. 0, 1, 2, ..., [num_class - 1].\n",
      "  warnings.warn(label_encoder_deprecation_msg, UserWarning)\n"
     ]
    },
    {
     "name": "stdout",
     "output_type": "stream",
     "text": [
      "              precision    recall  f1-score   support\n",
      "\n",
      "           0       0.96      0.96      0.96      1084\n",
      "           1       0.71      0.75      0.73       157\n",
      "\n",
      "    accuracy                           0.93      1241\n",
      "   macro avg       0.84      0.85      0.84      1241\n",
      "weighted avg       0.93      0.93      0.93      1241\n",
      "\n",
      "ROC AUC Score: 0.9632641549345431\n",
      "Accuracy Score: 0.9298952457695407\n"
     ]
    }
   ],
   "source": [
    "classifier = XGBClassifier(eval_metric='error', learning_rate=0.1)\n",
    "classifier.fit(x_train_sm, y_train_sm)\n",
    "y_pred = classifier.predict(x_test)\n",
    "y_prob = classifier.predict_proba(x_test)[:,1]\n",
    "cm = confusion_matrix(y_test, y_pred)\n",
    "\n",
    "print(classification_report(y_test, y_pred))\n",
    "print(f'ROC AUC Score: {roc_auc_score(y_test, y_prob)}')\n",
    "print('Accuracy Score:', accuracy_score(y_test, y_pred))"
   ]
  },
  {
   "cell_type": "code",
   "execution_count": 99,
   "metadata": {
    "ExecuteTime": {
     "end_time": "2021-04-16T14:57:52.431677Z",
     "start_time": "2021-04-16T14:57:52.420707Z"
    }
   },
   "outputs": [],
   "source": [
    "false_positive_rate, true_positive_rate, thresholds = roc_curve(y_test, y_prob)\n",
    "roc_auc = auc(false_positive_rate, true_positive_rate)"
   ]
  },
  {
   "cell_type": "code",
   "execution_count": 100,
   "metadata": {
    "ExecuteTime": {
     "end_time": "2021-04-16T14:57:52.901419Z",
     "start_time": "2021-04-16T14:57:52.436663Z"
    }
   },
   "outputs": [
    {
     "data": {
      "text/plain": [
       "[<matplotlib.lines.Line2D at 0x13f571d4e50>]"
      ]
     },
     "execution_count": 100,
     "metadata": {},
     "output_type": "execute_result"
    },
    {
     "data": {
      "image/png": "iVBORw0KGgoAAAANSUhEUgAAAeEAAAHRCAYAAABdMAGjAAAAOXRFWHRTb2Z0d2FyZQBNYXRwbG90bGliIHZlcnNpb24zLjMuMiwgaHR0cHM6Ly9tYXRwbG90bGliLm9yZy8vihELAAAACXBIWXMAAAsTAAALEwEAmpwYAAAzNUlEQVR4nO3dd5hW1YHH8e+ZgaH3piJNrGAHuwixl1AUFStgTDRmTTFljbtryppsYmKSTdaYqImKDQUrCLESFUtUbASNXVAEKdLrlPfuH3c0SCgzzLzvecv38zw8vGVGflyH+c0599xzQ5IkSJKk3CuLHUCSpFJlCUuSFIklLElSJJawJEmRWMKSJEViCUuSFEmTXP5hnTt3Tnr37p3LP1KSpKhefPHFxUmSdNnUezkt4d69ezNjxoxc/pGSJEUVQpizufecjpYkKRJLWJKkSCxhSZIisYQlSYrEEpYkKRJLWJKkSCxhSZIisYQlSYrEEpYkKRJLWJKkSCxhSZIisYQlSYrEEpYkKRJLWJKkSLZ6K8MQQhfgW0AmSZLLN3i9NXA90B1YAoxOkmRFlnJKklR06jIS/hWwHmi60euXAJOTJDkCeAS4qJGzSZJU1LY6Ek6SZHQIYQhw/EZvHQn8vPbx3cAfGzWZlCUr11WRSWKnkJSvWlaU07Q8N2drt1rCW9AsSZKq2sefAB0aIY+UVRNmfMi/3zUzdgxJeWhY2TM0C5Ucc9Z3OLb/djn5MxtSwpkQQlmSJBnSAl60qQ8KIVwAXADQs2fPBvxxUsPNW7YWgP86aQ9CCJHTSMoXXZe9ykkzruHjDgOo6tYqZ39uQ0r4OWA4cC8wEnh0Ux+UJMl1wHUAAwcOdBJQUSxZXckNT73PM+8uBuD8w/tYwpL+KdMLOv2UHQaMgYrclXC9J71DCFeGECqAnwEXhBAeBwYANzZyNqnRPPHWQq7+6zu8Nm8Fe3VvFzuOpHzx8m2wdDaUlcEhX8tpAUMdR8JJkjwOPF77+NLalxcDJ2QllbQF1TUZapL6TapUVmcAeOSSwfTs1DIbsSQVmmevgYcug4Hnwxd/HSVCQ6ajpZybu3QNx/z6SdZW1WzT55eXOwUtCXjqN/Doj2CPYXD8z7f64dliCaugLFy5nrVVNZw6YEf6dK7ftFHn1hXs0K55lpJJKhhP/AL++lPYcyScfB2Ux6tCS1h57bbn5rBg+brPns+vffzFvbdnyG5dY8WSVKiq1sGbf4F9zoThv4ey8qhxLGHlrSWrK/nPe2cBsOFC5lYV5ezYoUWkVJIKUpJATRU0bQ6j74eK1ulirMgsYeWtTO3iqyuG9+fcQ3rHDSOpcCUJPHgZLH4TzrwTmreNnegzlrCy4vV5Kzjtj89s8wIqgE/XP5eVuZhK0jbKZGDqd2DGDXDw16B849sgxGUJKyvmLl3D6soazjigB13aNNvm/07T8jKOz9H2cZKKTKYGJn8DXr4VDvsWHP2jz5/bygOWsOrsr28u5PV5dbtb5TsLVwFwzsG92NPNMSTF8NB/pAU8+FIYclneFTBYwqqHS++aycKV6+v88S0ryunagFGwJDXI/qOh3Y5w6NdjJ9ksS1h1VpNJOPPAnvxoWL86fXx5CDTJ0e3AJAmA6kp4/T7Y6zTo1j/9lccsYX3mb+99woW3vEhVTWaT76+prKFpeaBZk7jX1UnSJlWtg4lj4K0HoUMf6HFA7ERbZQnrM+8uWsXytVWcdVBPWlX8a9GGEBi5/44RkknSVlSthTvOgnenwUm/LogCBku4KE17YwHvL15T7897ac5SAL511C50bev2jpIKROVquH0UzH4Khl0N+58bO1GdWcJF6IKbX6Q6s223bm7bvAmtm/tlIamAfPC39NfJ18I+o2KnqRe/2xah6kzCVwf35aIhfev9uc2blnnOV1JhSJL0sqOdj4JvvpKuhC4wlnAR+MWDb3DHCx9+7rXmTcto1yK/doaRpEazZgmMPwMO/zbsdnxBFjBYwkXhpQ+W0qQscFztzlLlZYHh+3aPnEqSsmT1J3DLcFj0ZuwkDWYJF5iaTMIDM+exev0/92ReuGI9vTu34ooRe0ZMJkk5sGoh3DwclrwHZ46HnY+OnahBLOECM3PuMr55xyv/8np/t4aUVOzWLoObToLlc+GsCbDT4NiJGswSLjBVNemq5/87cz8O7NPxs9c7taqIFUmScqN5O9j1+PRX78Nip2kUlnCB6tiqgm5eyyupFCydAzVV0HlnOPaK2GkalRv7SpLy15L30inoCaPTewMXGUfCBWTOJ6t58q1FsWNIUm4sfhvGDYXq9XDGbVBWfONGS7iA/GjSa/z1zbSEO7T0HLCkIrbwjbSASWDsA3l/N6RtZQkXkMqaDHt2b8sNYw+gaxvPB0sqYtOugFAGYyZBl91ip8kaS7hA/Hjya7w4Zyl77tDOApZU/Eb8AdYsho47xU6SVcU3wV6kpr2xkE6tmjHm0N6xo0hSdsydAePPTO+K1Lxt0RcwOBLOSy/MXsKiles/99rq9TUcvnMnhu6zQ6RUkpRFc56F206DVp3TTTkqWsVOlBOWcJ5ZurqS0/747Cbfa+9iLEnF6P3p6f2A224PYyZD29IZbFjCeaayJr0O7htH7cJJe23/ufd26lIaPxlKKiHvPZEWcIdeMHoStOkWO1FOWcJ5aru2zdltuzaxY0hSdrXZHnoeDCP/lE5FlxgXZkmScu/jWZAk0GVXGH1fSRYwWMJ5Z+7SNbEjSFJ2vXYvXDcYXvhT7CTRWcJ55nsTZwLQprlnCiQVoZkT4a4vQfeBsPeo2Gmis4TzTCZJ2KVr639ZlCVJBe+V2+Ger0Cvw+Ccu9NrgUucJZxHlq+pYvYna9htuzaUlYXYcSSp8SyfC5O/CTsNgbMmQLPWsRPlBec888g7i1YBuC2lpOLTbkc45x7Y8QBo6ve4T1nCkVRWZ3jlw2VUb3B/zLcXpCU8eLcusWJJUuN69hpo1x36DYc+g2KnyTuWcCR3vPABP7j/tU2+17pZeY7TSFIWTP81PPZj2PPUtIT1LyzhSFavrwHg5i8dSEWTf56ab1lRzl7d28WKJUkNlyTwxC/g8f+BvU6DEX+MnShvWcJZNuuj5Vz54BvUZJLPvT536VoADuzTkeZNHflKKhJJAtN+AtOvgn3PhmH/B2V+j9scSzjLnnl3MdPfXsz+PdtTvsGK525tm3FA7440a+ICdUlFpmY9DBgLJ/0GyvwetyWWcJYkScI/5q/ko9oR7y3nH0SrZh5uSUUqSWDl/PQOSMdckb4WvNRya2yFLHnqncWc++fnAWhaHj43CpakopLJwJRvwxtT4KKnoXXX2IkKhiWcJavWVQNwxYg9OaB3B8/7SipOmRqY9A145VY4/NvQykss68MSbmS/eeQtZn20nIUr1wNwQO8O7L6dW7NJKkI11XDfRfD3CTDkMhh8qVPQ9WQJN7I/P/U+zZqUsX375hy+c2d6dGgZO5IkZcczv00L+MjL4Yjvxk5TkCzhbbRkdSUfL1/3L6/XZBJG7Nedy7/YL0IqScqhg74K7XvBXqfGTlKwLOFtNOzqpz671ndjLTz/K6lYVa2DJ34Og74DzdpYwA1kCW+j5WurOHL3rpw+sMfnXi8LcHDfTpFSSVIWVa6BO8+Gd6dB9wGwx9DYiQqeJbwNHnl9ASvXVdOrU0uO33O72HEkKfsqV8Pto2D2UzD89xZwI7GEt8H1T74HwEF9HPFKKgHrVsDtp8OHz8HJ18I+o2InKhqW8DZ4b/FqTh+4o6NgSaVh7VJY/hGM/DPseUrsNEXFEq6ntZU1LF61nl6dWsWOIknZtX4lVLSGDr3g4hegafPYiYqOO2vXU1UmA+CNFyQVt9WL4YYT4OH/Sp9bwFlhk0iSPm/VQrjpi/DJ29D3yNhpiprT0fW0fE0VAK29I5KkYrRiPtw8DJbPhbMmwE6DYycqajZJPb06dxkAfTp7TlhSkamphltOhhXz4Jy7odehsRMVPUu4HuYvX8vFt78MwE5dWkdOI0mNrLwJHP1DaNkZehwQO01JsITrYenqdCr6zAN70qVNs8hpJKmRfPIufDwT+p8Mu50QO01JsYTr4c4XPgBg8K7eL1NSkVj0FowbCkkGdj4GmjnLl0uujq6HCTPmAtC3i+eDJRWBBa/DTSemBTxmkgUcgSPhOlqxroom5YGxB/Rml25tYseRpIaZPxNuHg7lFTBmMnTZNXaikmQJ18GDs+bz1VtfAqBJWYicRpIawTuPQNOW6Qi4U9/YaUqWJVwH85evA+D7J+zOiH27R04jSQ1QUwXlTeHwb8OA86Blx9iJSpolvBkLVqzjhqffp7om4bV5ywE444AetG9ZETmZJG2jOc/CvRfCWXdC1z0s4DxgCW/GQ699zLVPvEfLinLKQmDXbq1pWeHhklSg3n8yvR9w2+7QvH3sNKplq2xGkqS/P3XpkXRs5ehXUgF75zG44yzo0Cc9B9y6a+xEquUlSpJUzD58HsafAZ12gbEPWMB5xhKWpGK23d5wwJfTEXCrzrHTaCOW8CbMXryaaW8sjB1Dkrbd24/A2mXpfYCP/5mLsPKUJbwJ45//gCfeWkSPji1o1aw8dhxJqp+ZE+D20+GvP42dRFtRpxIOIVwRQngihPB0CKH/Bq9XhBBuDCFMCyFMDSG0y17U3MkkCS0rypn+70fSrIklLKmAvHwr3HMB9DoMjv5R7DTaiq2WcAhhENAtSZLBwIXALzd4+3jgoyRJjgTuAb6clZQ59KuH3+T66e9THtwZS1KBmXED3P9v0PcLcNYEqHCf+3xXl5HwscB4gCRJZgEbnlhYCXSofdwZWNSo6SJ4Z+EqOrWq4MpT944dRZLqrnINPPW/sMtxcMZ4qGgZO5HqoC7XCXfl8+VaHUIoS5IkAzwFXB5CeB2oAQ7d+JNDCBcAFwD07Nmz4YmzJJNJuO25OWkJt67gxL22jx1JkuomSdLSPe8v0KoLNHFvg0JRl5Hwcv452gXI1BYwwP8AVyVJ0g84F7hu409OkuS6JEkGJkkysEuX/L0P73uLV3P5/a/x9sJV7NTZ23lJKhBPXgWTvwGZDLTrbgEXmLqU8HTgVIAQQj9g7gbv9QI+rn28EOjRqOlyKFO7RdbvztyPP5yzf+Q0krQVSQJ//RlMuwKq1qb3BFbBqct09BTgxBDCdNJzwBeGEK4ELq/9dU0IoQxoCnwva0mz7MFZ6c8STcsCwUVZkvJZksBjP4anfgP7ng3D/g/KvJKjEG21hGunni/a6OVLa39/EziqsUPFsGp9NQCH7uyOMpLy3GP/nRbwgPPgpF9DmVs+FCpv4FDr+feX0KQs0K5F09hRJGnLeh8ONZVw7E/AmbuCZgnXemvBSqozSewYkrRpmQx8+DfodSjsfFT6SwXPOYxaFU3KOPPA/L2ESlIJy9Skm3DceCLMfzV2GjUiR8K1ykKgSZnTOpLyTE013PdV+PtEGPIf6V2RVDQsYUnKVzVVcPf58Pr9cNQPYdC3YydSI7OEJSlfvTElLeBjfwqHXhw7jbLAEpakfNV/BLSbBjsOiJ1EWeLCLEnKJ5VrYMJomPdK+twCLmqWMDB78WqWrK78bOtKSYpi/Sq4/XR4fRIsejN2GuWA09HA+4tXA7D79m0jJ5FUstatgNtOg7kvwCnXw96nxU6kHLCEN7BX93axI0gqReuWwy2nwPxX4NQb0nPBKgmWsCTF1qQ5tNkOBt0Mu58UO41yyBKWpFhWLwYCtOoEo251H+gS5MIsSYph5cdw00lwx5nprQkt4JJkCUtSrq2Ylxbwsg/hqB9YwCWs5Kej11XV8PIHS2PHkFQqln0I44amU9Hn3gM9D46dSBGVfAlPemUev5v2DgDtvZewpGyb9HVYswRG3wc7DoydRpGVfAmvr64B4C/fHETvzq0ip5FU9IZfnY6Cd9g3dhLlgZIt4Y+WreXi21/io6VrAejSplnkRJKK1qK34MUb4difQLsd018SJbww660FK3n5g2X06dyKMYf0olOritiRJBWjBa/DTSfC3+9KF2RJGyjZkfCnvn/C7uzXs0PsGJKK0fyZcPNwaNIMxkyG9j1iJ1KeKdmRsCRl1Ucvpaugm7aEsVOg8y6xEykPWcKSlA1Va6DN9nDeVOjUN3Ya5amSn46WpEa1cgG06Qa9D4eLnoay8tiJlMccCUtSY3nvcfjdfukiLLCAtVWWsCQ1hncehdtHQYde0OeI2GlUIEq2hCurMwA0KSvZQyCpsbz5Fxh/Zrr4aswD0Lpr7EQqECXbQB8uWQNAj44tIieRVNCWvA93ngvd+sPoSeltCaU6KsmFWW8tWMlPpvyD9i2b0r6lm3RIaoCOfWD472G346F5u9hpVGBKciT83PtLABixb/fISSQVrJkT4cPn08f7jLKAtU1KsoQ/9W9f2Dl2BEmF6KVb4J6vwNO/jZ1EBa6kS1iS6u2FP8Gki6HvkTDyT7HTqMBZwpJUV3/7A0z5Dux6PJxxOzR1YacapuQWZv320bd5YKZ3MpFUT0kCc56BPYbCyBugiYs61XAlVcI1mYSr//o2nVo149h+3ejQsmnsSJIKQeVqqGgFI/8MIUC53zvUOEpqOvqlD5ZSVZPw7WN25brRA2lSXlJ/fUn1lSQw7adw/ZGwdmk6+rWA1YhKpoWqazKc9sdnAdilW+vIaSTlvSSBR38IT/4CdhwIzdrGTqQiVDLT0TVJAsDhO3dm3x7t44aRlN+SBB68DJ77Aww8H068CtziVllQcl9Vh/TtRAghdgxJ+Wz6r9ICPugiOOlXFrCypmRGwpJUZ/udA+UVcOjX04VYUpaUzI93i1dVxo4gKZ9lauD566GmGtpsB4d9wwJW1pXESHjhynUMunIaAM2alMzPHZLqqqYa7r0AZt2dFvAeQ2MnUokoiRJeua6aTAJfOqwPZxzYM3YcSfmkuhLuPh/+MQmO/rEFrJwq+hL+7aNv8/ePlgGwT492tG5W9H9lSXVVvR4mjoU3p8JxP4NDvhY7kUpMUTdSZXWG3zz6Fu1aNGWXrq3ZfTuv85O0gU/egfenp5cgHfiV2GlUgoq6hD91wRE7edtCSf9UUw3lTaBbf/jGy9C6S+xEKlGuUpJUWtavgpuHw7PXpM8tYEVkCUsqHeuWw62nwAfPQuuusdNIpTEdLUmsXQq3joT5r8JpN0K/4bETSZawpBJQXQk3j4CFr8Ppt8DuJ8ZOJAFFXsJrK2tiR5CUD5pUpFtRdugNuxwTO430maIt4SWrKznkZ48B0LTcreekkrRyASydDT0P8hIk5aWiXZi1bE0l66sznHFAD04b0CN2HEm5tmIe3HQiTDgXqtbGTiNtUtGOhN9btBpIb13YoVVF5DSScmrZBzBuKKz+BM65C5q2iJ1I2qSiLeEX5iwBYKfOrSMnkZRTS95PC3j9Chh9P+w4IHYiabOKtoQBygLstWO72DEk5dLz10HlKhg9CXbYN3YaaYuKtoSvfeK92BEk5VKSpPf/PeYKOPAC6NgndiJpq4p2YVbn1s3o3all7BiScuHjWXDjCbDy43RPaAtYBaJoR8LlZXDwTp1ix5CUbfNegVtGQJMWULk6dhqpXop2JCypBMx9EW4eBhWt4bwp0Klv7ERSvRTtSDiTxE4gKas+ejG9G1KrTjBmMrTvGTuRVG9FORJ+Z+EqFq1cT1WNTSwVrfa9YafBMHaqBayCVZQlPH95ujvOQTt1jJxEUqOb93J6Q4ZWneCM26Bd99iJpG1WlCX8qZ06t4odQVJjevsR+PNxMO2K2EmkRlHUJSypiLwxFe44C7rsBodfEjuN1CgsYUn577X70hsxbLcXjJkELT3VpOJQVKuj73/lI75310xqapdGh+AtDKWCt24FPHAJdB8AZ98FzdvGTiQ1mqIq4bcXrKKyOsPXhvSldfMm7NXdfaOlgte8bTr67dAHmnlDFhWXoiphgPKywL8fv3vsGJIa6sVxsHZJev53u71ip5GywnPCkvLP89fD5G/A7KchUxM7jZQ1lrCk/PLsNTD1u7DrCel1wGXlsRNJWVOnEg4hXBFCeCKE8HQIof9G750XQvhb7XtHZSempJLw9G/hoctgj2Fw+s3QpFnsRFJWbfWccAhhENAtSZLBIYQ9gV8CJ9a+1x8YBByaJEkmq0klFb/m7WDPU+Hka9NbEkpFri4j4WOB8QBJkswCNrxA73xgDjAthDAhhNC58SNKKmpJAp+8mz4eMBZG/skCVsmoSwl3BRZt8Lw6hPDp5+0CLE6SZAgwEfjhxp8cQrgghDAjhDBj0aJFG78tqZQlCTzyA/jDobDwjfQ1r+9XCalLCS8HOmzwPLPB1HM1MLX28QNAv40/OUmS65IkGZgkycAuXbo0KKykIpIk8OBl8MzvYL9zoPOusRNJOVeXEp4OnAoQQugHzN3gvWepPT8MDAFmNma4+rj52dnc8PT7+DO0VAAyGZjyHXjuD3Dw1+DEq6DMizVUeuryVT8FqAghTAeuAi4NIVwZQqgArgGGhBAeB74K/CRrSbfipTlLKQuB/zxpj1gRJNXVzDthxp/hsG/Bcf/jFLRK1lZXP9ROPV+00cuX1v5eCZzW2KG2VafWFZx3WJ/YMSRtzd6nQ0Ur2GOoBayS5vyPpNyoqUrPAS/7MN2Ao98wC1glzxKWlH3VlTBxLPztGnj3sdhppLzhxXiSsqt6PUwYDW89CMdfmV4LLAmwhCVlU9VauOPsdPR70q/hgPNjJ5LyiiUsKXuq18OaT2DY1bD/ubHTSHnHEpbU+NavgrIm0KI9fPkxt6GUNsOFWZIa17rlcMvJcNd56a5YFrC0WUVRwkmScN8r86jJJLGjSKVt7VK4eQTMexn2OdNLkKStKIofUT8t39bNiuKvIxWm1Z/ALcNh0Zsw6lbY7fjYiaS8VxStVVmT3k/ipL22j5xEKlFJAhPHwOK34czxsPPRsRNJBaEoSvjh1xYAUFbm1JcURQhw3E9h7TLYaXDsNFLBKIpzwuurawAYvu8OkZNIJWb5R/Dctenj7fexgKV6KoqR8KfKXAQi5c7SOTBuaLoYa4+h0NYfgqX6KqoSlpQjS96DccNg/QoYfZ8FLG0jS1hS/Sx+Ox0BV6+HMQ/A9nvHTiQVLEtYUv18PDNdDT12CnTrFzuNVNAsYUl1U7UWmraAPUfCLsdBs9axE0kFryhWRz8wc37sCFJxm/cy/HZfePev6XMLWGoURVHCayvTS5S6tmkWOYlUhObOgHHDobwCOvaJnUYqKkVRwiHAoX070aS8KP46Uv6Y82y6F3TLjnDeVOjQO3Yiqah4TljSpi1+G24dCW23hzGTvQxJygJLWNKmdewLh18C+4+GNt1ip5GKkvO3kj7vncfSzTjKymDw9yxgKYssYUn/9MYUuH0UPHx57CRSSbCEJaVeuw8mjE53wBr++9hppJJgCUuCmRPhri9B94Fw7n3Qon3sRFJJcGGWVOoyGXjheuh5CJx1pxtxSDlU8CVcXZPhhdlLObRvp9hRpMKTqYGycjhrQroZR0XL2ImkklLw09EfLVsLQEWTgv+rSLn1/PVwy8npntAt2lvAUgRF01zD9nEjAanOnrkapn4XKlpDKJpvA1LBKfjpaEn1NP3X8NiPod9wGPlnKG8aO5FUsvwRWColz1ydFvBep8HIGyxgKTJLWColfY+Egy6Ck6+FcifCpNgsYanYJQm8+WD6e7d+cMLP0xXRkqKzhKViliTwl0th/Ch466HYaSRtxPkoqVhlMjDlEnjxJjjkYtj1uNiJJG3EEpaKUaYGJn0dXrkNDv82HPUDCCF2KkkbsYSlYvTRS/DqeBhyGQy+1AKW8pQlLBWjHgfARc9A1z1iJ5G0BS7MkopFdSVMHJveExgsYKkAWMJSMahaB3eeA6/dCyvmxU4jqY6cjpYKXeUauPNseHcafPE3MPBLsRNJqiNLWCpkVevg9tNh9lMw/Pew3zmxE0mqB0tYKmRNmsH2+8B+58I+o2KnkVRPlrBUiNYth9WLoVNfOO6nsdNI2kYuzJIKzZolMG4Y3DICqtfHTiOpARwJS4Vk9WK4eQQsfgtG3ZJOR0sqWJawVChWLoCbh8PS9+HM8bDzUbETSWogS1gqFNP+G5bNgbMmwE6DY6eR1AgsYalQHP9zGHg+dN8/dhJJjcSFWVI+Wzob7v4yrF8FzdpYwFKRcSQs5atP3k1XQVeugmUfQLd+sRNJamSWsJSPFr0F44ZCpgrGTLaApSJlCUv5ZuE/0gImwJgHLGCpiHlOWMo3ZU2hbXcYO8UCloqcI2EpXyydA+17Qued4YLHIYTYiSRlmSNhKR98+AL88XCY/qv0uQUslQRLWIptzrPpPtAtO8He3glJKiWWsBTT+0/CradAm+3hvL9A+x6xE0nKIc8JS7GsXQp3nA3te8GYSdC6a+xEknLMEpZiadEBTr0RdtgXWnWOnUZSBJawlGv/mAw1lbDnSNjl6NhpJEXkOWEpl2bdAxPGwPPXQyYTO42kyCxhKVdevRPuPh96HAhnT4Qy//lJpc7vAlIuvHwr3Hsh9DoMzrk7vSOSpJJX8CX8vbtmAu5toDz3yTvQ9wtw1gSoaBU7jaQ8UfALs2YvXg3AoF26RE4ibcKaJdCyIxz1Q6ipgiYVsRNJyiMFPxIuLwucPnBHOrduFjuK9HlP/w5+fyAsnZ1O1VjAkjZS8CUs5aUnr4JHLk/PAbftHjuNpDxV8NPRUl5JEnj85/DEz2Gv02HEH6Dcf2aSNs2RsNSYXrktLeB9z4aT/2gBS9qiOn2HCCFcARxR+/EXJEny2kbvdwPeBzomSbKu0VNKhaL/KbBuBRz0Va8DlrRVW/0uEUIYBHRLkmQwcCHwy0182PeBxY2cTSoMSQLPXA3rlkNFSzjkaxawpDqpy0j4WGA8QJIks0IIHTd8M4SwP5AA7zV+PCnPZTIw5RJ48SZo0gwO/ErsRJIKSF1+XO8KLNrgeXUIoQwghNAS+Dnw4819cgjhghDCjBDCjEWLFm3uw6TCk6mBSRenBTzoO3DAl2MnklRg6lLCy4EOGzzPJEny6c7zvwGuTJJk+eY+OUmS65IkGZgkycAuXdxQQ0WipjrdhvKV22DIf8CRl7ttm6R6q0sJTwdOBQgh9APm1j7uCgwAvhJCuAPoB9yUnZhSnlm9COY8m+6ENeRSC1jSNqnLOeEpwIkhhOnASuDCEMKVwOVJkgz89INCCI8DY7MRUsob1ZVQ1gTabg9fewaat4udSFIB22oJ1049X7TRy5du4uOGNFImKT9VrYMJ50L7nnDSryxgSQ3mdRRSXVSugfGj4O1HoNuesdNIKhJu5yNtzfpVMP4MmP0UDP897Hd27ESSioQlLG1JksAdZ8GcZ+CU62Hv02InklRELGFpS0KAQy6GgV+C/iNip5FUZCxhaVPWLIEPnoXdT4Jdj42dRlKRcmGWtLFVi2DcULj7y7BqYew0koqYI2FpQys/hpuHw9I5cObt0Lpr7ESSipglLH1qxbx0BLxiPpw9EfoMip1IUpGzhKVP/WMyrFwA594DPQ+OnUZSCbCEpUwmvf/vgRekC7Ha7Rg7kaQS4cIslbZP3oVrj4CP/55ejmQBS8qhgh4JL1ldyfzl62LHUKFa9CaMGwaZqthJJJWogi7hf8xfAUDXNs0jJ1HBWfA63DwMCDB2CnTdI3YiSSWoKKajj9i1S+wIKiSL34abTkpvSXjeVAtYUjRFUcJSvbTrAbudmBZw511ip5FUwgp6Olqql49egg69oWVHGPH72GkkyZGwSsTsp9ONOKZ8J3YSSfqMJazi997jcNup0HYHOP5nsdNI0mcsYRW3dx6F20el09Bjp0Cb7WInkqTPeE5YxaumGh78j3Tx1bn3Q6tOsRNJ0udYwipe5U3gnLuholW6GEuS8ozT0So+s+6GSV9P94Ru38MClpS3LGEVl1fvgLu/DIvfgeq1sdNI0hZZwioeL90C934Veh8O59yVTkNLUh6zhFUcXrwJJl0MfY+EsyZYwJIKgiWs4tChN/QbAWfcDk1bxE4jSXVS0KujZ8xeGjuCYvt4Fmy3J+w0JP0lSQWkoEfC7y9eBUCvTi0jJ1EUT/4S/ngYvPdE7CSStE0KeiRcFgI9OragW1vvJ1xSkgQe/xk8cSXsfQb0Oix2IknaJgVdwipBSQKP/gie/l/Y7xwY+jsoK4+dSpK2SUFPR6sEzZ6eFvDA82Ho/1nAkgqaI2EVlj5HwDn3pJcihRA7jSQ1iCNh5b9MBh68DD56MX2+81EWsKSi4EhY+S1TA/f/G7w6Hlp2gu4DYieSpEZjCSt/1VTBvRemN2T4wn/CEd+NnUiSGpUlrPxUXQl3nw//mARH/xgO/1bsRJLU6Cxh5a9MDRz3Mzjka7GTSFJWWMLKL1VroXINtOoEo26FMtcOSipefodT/qhcA7ePgluGp+eDLWBJRc7vcsoP61fBbaelm3Ec/G9Q3jR2IknKOqejFd+65WkBz50Bp1wPe50aO5Ek5YQlrPimfDfdiOO0G6Hf8NhpJClnLGHFd8yPYZ9RsPPRsZNIUk55TlhxrFoEj/13ehlS2x0sYEklyRJW7q38GG46CZ69Bhb+I3YaSYrG6Wjl1vKPYNzQtIjPuQu22zN2IkmKpqBLePo7i6kodzBfMJZ9kBbw6k/g3Huh50GxE0lSVAVbwplMwqKV62nR1Ju6F4wV89M9oUffDzt6NyRJKtgS/tSFg3eKHUFbs245NG+Xjny/8TI0bR47kSTlhYKfyw14c/e8tvANuPpAeHFc+twClqTPFHwJK48teC1dBU0CPTz/K0kbs4SVHfNfhZu+COUVMHYqdN09diJJyjuWsBrf6sUwbhhUtILzpkDnnWMnkqS8VPALs5SHWnWGY/4b+n4B2veMnUaS8pYlrMYz+2koK4eeB8OAMbHTSFLeczpajeO9x+HWkfDQf0KSxE4jSQXBElbDvf0o3D4KOu4EZ94BwcvGJKkuLGE1zJt/gTvOhM67wtgHoHWX2IkkqWBYwmqYWffAdnvBmEnQsmPsNJJUUFyYpW1TUwXlTWHENVC9Dpq1iZ1IkgqOI2HV3yvj4Y+DYNWitIgtYEnaJpaw6uelm+G+i6B1V6hoGTuNJBU0S1h19/z1MOnrsPNRcNad6Y5YkqRtZgmrbl4ZD1O/C7udCGfcDk1bxE4kSQXPElbd7HwUHHIxnDYOmjSLnUaSioIlrC177d50JXTrrnDcT6FJRexEklQ0LGFtWpLAtJ/AxLHpYixJUqPzOmH9qySBR34Az/wO9h8NA86LnUiSipIlrM9LEnjwMnjuD3DAl+GEX0KZEyaSlA1+d9XnLZ0NL98KB38NTrzKApakLHIkrFSSpHc/6tgHLnoa2vf0bkiSlGV1GuaEEK4IITwRQng6hNB/g9f3DiE8HEKYHkKYEEJw6WwhqqmGey+EZ65On3foZQFLUg5stYRDCIOAbkmSDAYuBH65wdsJMDRJkkHAHGB4VlIqe2qq4J6vwMw7oXpt7DSSVFLqMh19LDAeIEmSWSGEz+5XlyTJ3zf4uKXA6saNp6yqroS7zoM3HoBj/hsO+2bsRJJUUuoyHd0VWLTB8+oQwuc+L4RwGNAfeGjjTw4hXBBCmBFCmLFo0aKN31YsSQITx6QFfPzPLWBJiqAuI+HlQIcNnmeSJMkAhBACcCnQFBidJEnNxp+cJMl1wHUAAwcOTBqcWI0jBOh7ZLod5QFfjp1GkkpSXUp4OnAqMD2E0A+Yu8F7XwXmJ0kyLhvhlAWVq2HRG9B9ABz4ldhpJKmk1WU6egpQEUKYDlwFXBpCuLJ2JfRQ4MIQwuO1v76dzbBqoPUr4dZTYdxwWLMkdhpJKnlbHQnXTj1ftNHLl9b+fmKjJ1J2rFueFvBHL8LI66Flx61/jiQpq9ysoxSsXQq3nAIf/x1Ouwn6DYudSJKEJVwanrsWFsyCUbfAbifETiNJqmUJl4Ijvge7Hg877Bs7iSRpA+7OX6xWzIfbTocV86Cs3AKWpDzkSLgYLZ8L44bCqoWw7ENou0PsRJKkTbCEi83SOWkBr10K594LPQ6MnUiStBmWcDFZ8n5awOtXwOj70g05JEl5y3PCxaR5u/R+wGMmW8CSVAAcCReDJe9B2+7pBhxjJsdOI0mqI0fChe7jWfCnY2Dq92InkSTVkyVcyOa9AuO+CE2aeStCSSpAlnChmjsDxg2DijZw3lTo1Dd2IklSPXlOuBBVV8LE8/55Drh9j9iJJEnbwBIuRE0q0n2gW3d1Iw5JKmBORxeSd/8KT/1v+niHfS1gSSpwlnCheOthuH0U/H0iVK2NnUaS1Ags4ULwxhS44yzount6Drhpi9iJJEmNwBLOd6/dBxNGw/Z7w+hJ6WIsSVJRsITzXeUq2PFAOPc+aNE+dhpJUiNydXS+WrkA2nSD/c6Bfc5M7wksSSoqjoTz0Ys3wW/3gbkvps8tYEkqSpZwvnn+epj8TegzCLr1j51GkpRFlnA+eeZqmPpd2O0kGHUrNG0eO5EkKYs8J5wv3n4UHv5P6DccRv4ZypvGTiRJyjJLOF/0PRKG/g72PRvK/d8iSaXA6eiYkgSe/i0snQNlZTBgjAUsSSXEEo4lSeDh/4JHfgAv3xo7jSQpAoddMSQJ/OVSeP5aOOArMOSy2IkkSRFYwrmWycCUS9JrgQ+5GI79CYQQO5UkKQKno3Otag3MfxUOv8QClqQS50g4V2qqIVMFzVrD2KnpnZAsYEkqaY6Ec6GmCu4+H+44GzI1UNHSApYkWcJZV10JE8fC6/dB3y+4D7Qk6TNOR2dT1br0XsBvPwQn/AIOujB2IklSHrGEs2nSxWkBf/F/YeB5sdNIkvKMJZxNh30Tdj4a9jkjdhJJUh7ynHBjW7civQY4SWC7vSxgSdJmORJuTGuXwa0jYd7L0OMg6LpH7ESSpDxmCTeWNUvglpNhwWtw+s0WsCRpqyzhxrB6Mdw8Aha/BWfcBrseFzuRJKkAWMKN4cPnYcl7cOZ42Pmo2GkkSQXCEm6Imur0/r+7nwjfmgmtOsdOJEkqIK6O3lbL58IfD4O3Hk6fW8CSpHpyJLwtls6GcUPT1dAtOsROI0kqUJZwfX3yLowbBpWrYPT90H3/2IkkSQXKEq6PlQvgppOgphLGTIbt946dSJJUwCzh+mjdFfY9C/Y8Fbr1i51GklTgLOG6+Pjv0LQldOoLR/0gdhpJUpFwdfTWzHsZbvoi3HdRuh+0JEmNxBLekg9fgHHDoXlbOOU6CCF2IklSEbGEN2fOs3DLCGjZEcZOhQ69YyeSJBUZzwlvSpLAk7+ANtunq6Dbbh87kSSpCFnCG0uSdNr5tHFQvS5dES1JUhY4Hb2htx6C206FyjXpeWALWJKURZbwp/4xGe44O70tYfW62GkkSSXAEgaYdQ9MGAM77JtuRdmyY+xEkqQS4DnhWffA3edDj4Pg7InQrE3sRJKkEuFIuFt/6DcCzrnbApYk5VTplvAHz6UrobvsBqfdCBWtYieSJJWY0izh566FG46FV8fHTiJJKmGlV8LP/B/85d9h9y+md0OSJCmS0lqY9eRVMO0K6H8ynHI9lDeNnUiSVMJKZyS86E346//AXqfDKX+ygCVJ0ZXOSLjLbvClh6D7/lBWHjuNJElFPhJOEnj4cnh9Uvq8xwEWsCQpbxRvCWcyMPV78Mzv4MPnYqeRJOlfFOd0dCYDD3wLXhoHh34djrkidiJJkv5F8ZVwJgOTLoZXboNB34Uj/yu9NaEkSXmm+Eo4BGjeHob8Bwy5NHYaSZI2q3hKuKYKVsyDDr3guJ86+pUk5b3iWJhVvT69FeGfj4V1yy1gSVJBqFMJhxCuCCE8EUJ4OoTQf4PXW4cQxocQngwh3BdCaJu9qJtWnlkPd54Db06BI74LzdvlOoIkSdtkqyUcQhgEdEuSZDBwIfDLDd6+BJicJMkRwCPARVlJuRnNWc/Q178Nbz8CQ38LB34ll3+8JEkNUpeR8LHAeIAkSWYBHTd470hgYu3ju4FDGjXdVnyryT30XPY8DP89DBibyz9akqQGq0sJdwUWbfC8OoTw6ec1S5KkqvbxJ0CHjT85hHBBCGFGCGHGokWLNn67QR7fbixPHnAN7Hd2o/53JUnKhbqsjl7O58s1kyRJ5tPHIYSy2ucd+HxZA5AkyXXAdQADBw5MGpj3M2VlgTsuPrqx/nOSJOVcXUbC04FTAUII/YC5G7z3HDC89vFI4NFGTSdJUhGrSwlPASpCCNOBq4BLQwhXhhAqgJ8BF4QQHgcGADdmLakkSUVmq9PRtVPNG696/nQrqsXACY0dSpKkUlAcm3VIklSALGFJkiKxhCVJisQSliQpEktYkqRILGFJkiKxhCVJisQSliQpEktYkqRILGFJkiKxhCVJisQSliQpEktYkqRILGFJkiKxhCVJiiQkSZK7PyyERcCcRv7Pdia9r7G2ncew4TyGDecxbDiPYeNo7OPYK0mSLpt6I6clnA0hhBlJkgyMnaOQeQwbzmPYcB7DhvMYNo5cHkenoyVJisQSliQpkmIo4etiBygCHsOG8xg2nMew4TyGjSNnx7HgzwlLklSoimEkLElSQSqYEg4hXBFCeCKE8HQIof8Gr7cOIYwPITwZQrgvhNA2Zs58t4XjuHcI4eEQwvQQwoQQQkXMnPlsc8dwg/e7hRDWhBCax8hXCLZ0DEMI54UQ/lb73lGxMua7Lfxbrggh3BhCmBZCmBpCaBczZz4LIXQJIfw0hHDFRq/nrFcKooRDCIOAbkmSDAYuBH65wduXAJOTJDkCeAS4KELEgrCV45gAQ5MkGUR6LffwCBHz3laO4ae+j9dqbtaWjmFtmQwCDk2S5LAkSR6LFDOvbeXr8HjgoyRJjgTuAb4cIWKh+BWwHmi60es565WCKGHgWGA8QJIks4COG7x3JDCx9vHdwCG5jVZQNnsckyT5e5Ik62ufLgVW5z5eQdjS1yIhhP1Jf6B5L/fRCsaWjuH5pD8ETqudkekcIV8h2NIxXAl0qH3cGViU22iFI0mS0cCTm3grZ71SKCXclc9/IVWHED7N3ixJkqrax5/wzy8+/astHUcAQgiHAf2Bh3IZrIBs9hiGEFoCPwd+HCNYAdnS1+EuwOIkSYaQfhP8YY6zFYotHcOngD1CCK8DZwP35jpcEchZrxRKCS/n8wchkyRJ5tPHG3zxdcCf+rZks8cxpL5P+hPg6CRJamIELABb+lr8DXBlkiTLcx+roGzpGFYDU2sfPwD0y2WwArKlY/g/wFVJkvQDzsXLlrZFznqlUEp4OnAqQAihHzB3g/ee45/nL0cCj+Y2WkHZ0nH8KjA/SZIrLOAt2uQxDCF0BQYAXwkh3EFaHjdFypjvtvR1+CxwYu3jIcDMnCYrHFs6hr2Aj2sfLwR65DZaUchZrxTEdcK1P5H8HtiT9HzHhcDFwOVAW+AWoAXwDvBvG5zb1Aa2chzvA9oDlbUfPilJkl/nPmV+29IxTJKkcoOPexw4PkmSdTFy5rOtfB1WADcCXUhHe19KkuSTSFHz1laOYR/gGtJBVlPge0mSPBspat4LIQwh/bf6/RDCleS4VwqihCVJKkaFMh0tSVLRsYQlSYrEEpYkKRJLWJKkSCxhSZIisYQlSYrEEpYkKRJLWJKkSP4fwdWXt/OBVdkAAAAASUVORK5CYII=\n",
      "text/plain": [
       "<Figure size 576x576 with 1 Axes>"
      ]
     },
     "metadata": {
      "needs_background": "light"
     },
     "output_type": "display_data"
    }
   ],
   "source": [
    "plt.figure(figsize=(8,8))\n",
    "plt.plot(false_positive_rate, true_positive_rate)\n",
    "plt.plot([0,1],[0,1],linestyle='--')"
   ]
  },
  {
   "cell_type": "code",
   "execution_count": null,
   "metadata": {},
   "outputs": [],
   "source": []
  }
 ],
 "metadata": {
  "kernelspec": {
   "display_name": "Python 3",
   "language": "python",
   "name": "python3"
  },
  "language_info": {
   "codemirror_mode": {
    "name": "ipython",
    "version": 3
   },
   "file_extension": ".py",
   "mimetype": "text/x-python",
   "name": "python",
   "nbconvert_exporter": "python",
   "pygments_lexer": "ipython3",
   "version": "3.8.5"
  },
  "toc": {
   "base_numbering": 1,
   "nav_menu": {},
   "number_sections": true,
   "sideBar": true,
   "skip_h1_title": false,
   "title_cell": "Table of Contents",
   "title_sidebar": "Contents",
   "toc_cell": false,
   "toc_position": {
    "height": "calc(100% - 180px)",
    "left": "10px",
    "top": "150px",
    "width": "307.2px"
   },
   "toc_section_display": true,
   "toc_window_display": false
  },
  "varInspector": {
   "cols": {
    "lenName": 16,
    "lenType": 16,
    "lenVar": 40
   },
   "kernels_config": {
    "python": {
     "delete_cmd_postfix": "",
     "delete_cmd_prefix": "del ",
     "library": "var_list.py",
     "varRefreshCmd": "print(var_dic_list())"
    },
    "r": {
     "delete_cmd_postfix": ") ",
     "delete_cmd_prefix": "rm(",
     "library": "var_list.r",
     "varRefreshCmd": "cat(var_dic_list()) "
    }
   },
   "types_to_exclude": [
    "module",
    "function",
    "builtin_function_or_method",
    "instance",
    "_Feature"
   ],
   "window_display": false
  }
 },
 "nbformat": 4,
 "nbformat_minor": 4
}
1
