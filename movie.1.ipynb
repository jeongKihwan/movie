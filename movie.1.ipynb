{
 "cells": [
  {
   "attachments": {},
   "cell_type": "markdown",
   "metadata": {},
   "source": [
    "### 영화"
   ]
  },
  {
   "attachments": {},
   "cell_type": "markdown",
   "metadata": {},
   "source": [
    "## 컬럼\n",
    "- 순번\n",
    "- 영화명\n",
    "- 감독\n",
    "- 제작사 \n",
    "- 수입사 \n",
    "- 배급사\n",
    "- 개봉일\n",
    "- 영화유형\n",
    "- 영화형태\n",
    "- 국적\n",
    "- 스크린수\n",
    "- 매출액\n",
    "- 관객수\n",
    "- 서울_매출액\n",
    "- 서울_관객수\n",
    "- 장르\n",
    "- 등급\n",
    "- 영화구분\n"
   ]
  },
  {
   "cell_type": "code",
   "execution_count": 1,
   "metadata": {},
   "outputs": [],
   "source": [
    "import pandas as pd\n",
    "import numpy as np\n",
    "import matplotlib.pyplot as plt\n",
    "import seaborn as sns"
   ]
  },
  {
   "cell_type": "code",
   "execution_count": 2,
   "metadata": {},
   "outputs": [],
   "source": [
    "import matplotlib as mpl\n",
    "import matplotlib.font_manager as fm\n",
    "mpl.rcParams['axes.unicode_minus']= False\n",
    "path = 'C:/Windows/Fonts/malgun.ttf'\n",
    "font_name = fm.FontProperties(fname = path, size = 50).get_name()\n",
    "plt.rc('font', family=font_name)"
   ]
  },
  {
   "attachments": {},
   "cell_type": "markdown",
   "metadata": {},
   "source": [
    "- 사람들은 제작사나 수입사, 배급사를 보고 영화를 보지않기 때문에 데이터의 영향이 없을 것 이므로 칼럼 제외\n",
    "- 매출액과 관객수는 같은 의미이므로 매출액 제외"
   ]
  },
  {
   "cell_type": "code",
   "execution_count": 3,
   "metadata": {},
   "outputs": [
    {
     "name": "stdout",
     "output_type": "stream",
     "text": [
      "(16785, 12)\n",
      "<class 'pandas.core.frame.DataFrame'>\n",
      "RangeIndex: 16785 entries, 1 to 16785\n",
      "Data columns (total 12 columns):\n",
      " #   Column  Non-Null Count  Dtype         \n",
      "---  ------  --------------  -----         \n",
      " 0   영화명     16785 non-null  object        \n",
      " 1   감독      16100 non-null  object        \n",
      " 2   개봉일     16775 non-null  datetime64[ns]\n",
      " 3   영화유형    16785 non-null  object        \n",
      " 4   영화형태    16784 non-null  object        \n",
      " 5   국적      16784 non-null  object        \n",
      " 6   스크린수    16785 non-null  object        \n",
      " 7   관객수     16785 non-null  object        \n",
      " 8   서울_관객수  16785 non-null  object        \n",
      " 9   장르      16705 non-null  object        \n",
      " 10  등급      16769 non-null  object        \n",
      " 11  영화구분    16785 non-null  object        \n",
      "dtypes: datetime64[ns](1), object(11)\n",
      "memory usage: 1.5+ MB\n",
      "None\n"
     ]
    },
    {
     "data": {
      "text/html": [
       "<div>\n",
       "<style scoped>\n",
       "    .dataframe tbody tr th:only-of-type {\n",
       "        vertical-align: middle;\n",
       "    }\n",
       "\n",
       "    .dataframe tbody tr th {\n",
       "        vertical-align: top;\n",
       "    }\n",
       "\n",
       "    .dataframe thead th {\n",
       "        text-align: right;\n",
       "    }\n",
       "</style>\n",
       "<table border=\"1\" class=\"dataframe\">\n",
       "  <thead>\n",
       "    <tr style=\"text-align: right;\">\n",
       "      <th></th>\n",
       "      <th>영화명</th>\n",
       "      <th>감독</th>\n",
       "      <th>개봉일</th>\n",
       "      <th>영화유형</th>\n",
       "      <th>영화형태</th>\n",
       "      <th>국적</th>\n",
       "      <th>스크린수</th>\n",
       "      <th>관객수</th>\n",
       "      <th>서울_관객수</th>\n",
       "      <th>장르</th>\n",
       "      <th>등급</th>\n",
       "      <th>영화구분</th>\n",
       "    </tr>\n",
       "  </thead>\n",
       "  <tbody>\n",
       "    <tr>\n",
       "      <th>1</th>\n",
       "      <td>명량</td>\n",
       "      <td>김한민</td>\n",
       "      <td>2014-07-30</td>\n",
       "      <td>개봉영화</td>\n",
       "      <td>장편</td>\n",
       "      <td>한국</td>\n",
       "      <td>1587</td>\n",
       "      <td>17613682</td>\n",
       "      <td>4163666</td>\n",
       "      <td>사극</td>\n",
       "      <td>15세이상관람가</td>\n",
       "      <td>일반영화</td>\n",
       "    </tr>\n",
       "    <tr>\n",
       "      <th>2</th>\n",
       "      <td>극한직업</td>\n",
       "      <td>이병헌</td>\n",
       "      <td>2019-01-23</td>\n",
       "      <td>개봉영화</td>\n",
       "      <td>장편</td>\n",
       "      <td>한국</td>\n",
       "      <td>1978</td>\n",
       "      <td>16264944</td>\n",
       "      <td>3638287</td>\n",
       "      <td>코미디</td>\n",
       "      <td>15세이상관람가</td>\n",
       "      <td>일반영화</td>\n",
       "    </tr>\n",
       "    <tr>\n",
       "      <th>3</th>\n",
       "      <td>신과함께-죄와 벌</td>\n",
       "      <td>김용화</td>\n",
       "      <td>2017-12-20</td>\n",
       "      <td>개봉영화</td>\n",
       "      <td>장편</td>\n",
       "      <td>한국</td>\n",
       "      <td>1912</td>\n",
       "      <td>14410754</td>\n",
       "      <td>3346172</td>\n",
       "      <td>판타지</td>\n",
       "      <td>12세이상관람가</td>\n",
       "      <td>일반영화</td>\n",
       "    </tr>\n",
       "  </tbody>\n",
       "</table>\n",
       "</div>"
      ],
      "text/plain": [
       "         영화명   감독        개봉일  영화유형 영화형태  국적  스크린수       관객수   서울_관객수   장르  \\\n",
       "1         명량  김한민 2014-07-30  개봉영화   장편  한국  1587  17613682  4163666   사극   \n",
       "2       극한직업  이병헌 2019-01-23  개봉영화   장편  한국  1978  16264944  3638287  코미디   \n",
       "3  신과함께-죄와 벌  김용화 2017-12-20  개봉영화   장편  한국  1912  14410754  3346172  판타지   \n",
       "\n",
       "         등급  영화구분  \n",
       "1  15세이상관람가  일반영화  \n",
       "2  15세이상관람가  일반영화  \n",
       "3  12세이상관람가  일반영화  "
      ]
     },
     "execution_count": 3,
     "metadata": {},
     "output_type": "execute_result"
    }
   ],
   "source": [
    "df = pd.read_excel('../data/영화개봉.xlsx')\n",
    "df.columns = ['순번', '영화명', '감독', '제작사', '수입사', '배급사', '개봉일', '영화유형', '영화형태', '국적','스크린수', '매출액', '관객수', '서울_매출액', '서울_관객수', '장르', '등급', '영화구분']\n",
    "df = df[['영화명', '감독', '개봉일', '영화유형', '영화형태', '국적', '스크린수', '관객수', '서울_관객수', '장르', '등급', '영화구분']]\n",
    "df = df.drop(index=0)\n",
    "print(df.shape)\n",
    "print(df.info())\n",
    "df.head(3)"
   ]
  },
  {
   "cell_type": "code",
   "execution_count": 4,
   "metadata": {},
   "outputs": [],
   "source": [
    "df = df.astype({'스크린수':'int','관객수':'int','서울_관객수':'int'})\n",
    "#pd.to_numeric(df[['스크린수','관객수','매출액','서울_관객수','서울_매출액']])"
   ]
  },
  {
   "cell_type": "code",
   "execution_count": 5,
   "metadata": {},
   "outputs": [
    {
     "name": "stdout",
     "output_type": "stream",
     "text": [
      "<class 'pandas.core.frame.DataFrame'>\n",
      "RangeIndex: 16785 entries, 1 to 16785\n",
      "Data columns (total 12 columns):\n",
      " #   Column  Non-Null Count  Dtype         \n",
      "---  ------  --------------  -----         \n",
      " 0   영화명     16785 non-null  object        \n",
      " 1   감독      16100 non-null  object        \n",
      " 2   개봉일     16775 non-null  datetime64[ns]\n",
      " 3   영화유형    16785 non-null  object        \n",
      " 4   영화형태    16784 non-null  object        \n",
      " 5   국적      16784 non-null  object        \n",
      " 6   스크린수    16785 non-null  int32         \n",
      " 7   관객수     16785 non-null  int32         \n",
      " 8   서울_관객수  16785 non-null  int32         \n",
      " 9   장르      16705 non-null  object        \n",
      " 10  등급      16769 non-null  object        \n",
      " 11  영화구분    16785 non-null  object        \n",
      "dtypes: datetime64[ns](1), int32(3), object(8)\n",
      "memory usage: 1.3+ MB\n"
     ]
    }
   ],
   "source": [
    "df.info()"
   ]
  },
  {
   "cell_type": "code",
   "execution_count": 6,
   "metadata": {},
   "outputs": [
    {
     "data": {
      "text/plain": [
       "영화명         0\n",
       "감독        685\n",
       "개봉일        10\n",
       "영화유형        0\n",
       "영화형태        1\n",
       "국적          1\n",
       "스크린수        0\n",
       "관객수         0\n",
       "서울_관객수      0\n",
       "장르         80\n",
       "등급         16\n",
       "영화구분        0\n",
       "dtype: int64"
      ]
     },
     "execution_count": 6,
     "metadata": {},
     "output_type": "execute_result"
    }
   ],
   "source": [
    "df.isnull().sum()"
   ]
  },
  {
   "attachments": {},
   "cell_type": "markdown",
   "metadata": {},
   "source": [
    "- 감독 null값들을 확인을 해보니 영향을 끼치는 작품들이 있으므로, 변수 이름 지정, 매출액과 매출액 관객수 null값들은 다른 값으로 대체할시 데이터에 영향을 줄수 있기에 적은데이터니 제외"
   ]
  },
  {
   "cell_type": "code",
   "execution_count": 7,
   "metadata": {},
   "outputs": [
    {
     "data": {
      "text/html": [
       "<div>\n",
       "<style scoped>\n",
       "    .dataframe tbody tr th:only-of-type {\n",
       "        vertical-align: middle;\n",
       "    }\n",
       "\n",
       "    .dataframe tbody tr th {\n",
       "        vertical-align: top;\n",
       "    }\n",
       "\n",
       "    .dataframe thead th {\n",
       "        text-align: right;\n",
       "    }\n",
       "</style>\n",
       "<table border=\"1\" class=\"dataframe\">\n",
       "  <thead>\n",
       "    <tr style=\"text-align: right;\">\n",
       "      <th></th>\n",
       "      <th>영화명</th>\n",
       "      <th>감독</th>\n",
       "      <th>개봉일</th>\n",
       "      <th>영화유형</th>\n",
       "      <th>영화형태</th>\n",
       "      <th>국적</th>\n",
       "      <th>스크린수</th>\n",
       "      <th>관객수</th>\n",
       "      <th>서울_관객수</th>\n",
       "      <th>장르</th>\n",
       "      <th>등급</th>\n",
       "      <th>영화구분</th>\n",
       "    </tr>\n",
       "  </thead>\n",
       "  <tbody>\n",
       "    <tr>\n",
       "      <th>1</th>\n",
       "      <td>명량</td>\n",
       "      <td>김한민</td>\n",
       "      <td>2014-07-30</td>\n",
       "      <td>개봉영화</td>\n",
       "      <td>장편</td>\n",
       "      <td>한국</td>\n",
       "      <td>1587</td>\n",
       "      <td>17613682</td>\n",
       "      <td>4163666</td>\n",
       "      <td>사극</td>\n",
       "      <td>15세이상관람가</td>\n",
       "      <td>일반영화</td>\n",
       "    </tr>\n",
       "    <tr>\n",
       "      <th>2</th>\n",
       "      <td>극한직업</td>\n",
       "      <td>이병헌</td>\n",
       "      <td>2019-01-23</td>\n",
       "      <td>개봉영화</td>\n",
       "      <td>장편</td>\n",
       "      <td>한국</td>\n",
       "      <td>1978</td>\n",
       "      <td>16264944</td>\n",
       "      <td>3638287</td>\n",
       "      <td>코미디</td>\n",
       "      <td>15세이상관람가</td>\n",
       "      <td>일반영화</td>\n",
       "    </tr>\n",
       "    <tr>\n",
       "      <th>3</th>\n",
       "      <td>신과함께-죄와 벌</td>\n",
       "      <td>김용화</td>\n",
       "      <td>2017-12-20</td>\n",
       "      <td>개봉영화</td>\n",
       "      <td>장편</td>\n",
       "      <td>한국</td>\n",
       "      <td>1912</td>\n",
       "      <td>14410754</td>\n",
       "      <td>3346172</td>\n",
       "      <td>판타지</td>\n",
       "      <td>12세이상관람가</td>\n",
       "      <td>일반영화</td>\n",
       "    </tr>\n",
       "  </tbody>\n",
       "</table>\n",
       "</div>"
      ],
      "text/plain": [
       "         영화명   감독        개봉일  영화유형 영화형태  국적  스크린수       관객수   서울_관객수   장르  \\\n",
       "1         명량  김한민 2014-07-30  개봉영화   장편  한국  1587  17613682  4163666   사극   \n",
       "2       극한직업  이병헌 2019-01-23  개봉영화   장편  한국  1978  16264944  3638287  코미디   \n",
       "3  신과함께-죄와 벌  김용화 2017-12-20  개봉영화   장편  한국  1912  14410754  3346172  판타지   \n",
       "\n",
       "         등급  영화구분  \n",
       "1  15세이상관람가  일반영화  \n",
       "2  15세이상관람가  일반영화  \n",
       "3  12세이상관람가  일반영화  "
      ]
     },
     "execution_count": 7,
     "metadata": {},
     "output_type": "execute_result"
    }
   ],
   "source": [
    "df['감독'] = df['감독'].fillna('미정')\n",
    "df.dropna(inplace=True)\n",
    "df.head(3)"
   ]
  },
  {
   "attachments": {},
   "cell_type": "markdown",
   "metadata": {},
   "source": [
    "- 등급과 장르 확인 후 정리"
   ]
  },
  {
   "cell_type": "code",
   "execution_count": 8,
   "metadata": {},
   "outputs": [
    {
     "data": {
      "text/plain": [
       "array(['15세이상관람가', '12세이상관람가', '전체관람가', '12세관람가', '15세관람가', '청소년관람불가',\n",
       "       '18세관람가', '12세이상관람가,12세관람가', '15세관람가,15세이상관람가', '청소년관람불가,15세이상관람가',\n",
       "       '18세관람가,15세이상관람가', '18세관람가,청소년관람불가', '12세이상관람가,전체관람가',\n",
       "       '12세이상관람가,15세이상관람가', '15세이상관람가,전체관람가', '제한상영가', '15세관람가,12세이상관람가',\n",
       "       '중학생이상관람가', '18세 미만인 자는 관람할 수 없는 등급', '모든 관람객이 관람할 수 있는 등급',\n",
       "       '15세 미만인 자는 관람할 수 없는 등급', '연소자관람가,전체관람가', '12세 미만인 자는 관람할 수 없는 등급'],\n",
       "      dtype=object)"
      ]
     },
     "execution_count": 8,
     "metadata": {},
     "output_type": "execute_result"
    }
   ],
   "source": [
    "df['등급'].unique()"
   ]
  },
  {
   "cell_type": "code",
   "execution_count": 9,
   "metadata": {},
   "outputs": [
    {
     "data": {
      "text/plain": [
       "array(['15세이상', '12세이상', '전체', '18세이상'], dtype=object)"
      ]
     },
     "execution_count": 9,
     "metadata": {},
     "output_type": "execute_result"
    }
   ],
   "source": [
    "df['등급'] = df['등급'].apply(lambda x:x.split(',')[0])\n",
    "df['등급'] = df['등급'].apply(lambda x:x.split('관')[0])\n",
    "df['등급'] = df['등급'].replace({'12세':'12세이상', '15세':'15세이상', '청소년':'15세이상', '18세':'18세이상', \n",
    "       '중학생이상':'15세이상', '18세 미만인 자는 ':'18세이상', '모든 ':'전체', '15세 미만인 자는 ':'15세이상', '연소자':'15세이상', '12세 미만인 자는 ':'12세이상'})\n",
    "df.drop(7384, axis=0, inplace=True)\n",
    "df['등급'].unique()"
   ]
  },
  {
   "cell_type": "code",
   "execution_count": 10,
   "metadata": {},
   "outputs": [
    {
     "data": {
      "text/plain": [
       "array(['사극', '코미디', '판타지', '드라마', '액션', '애니메이션', 'SF', '어드벤처', '전쟁', '범죄',\n",
       "       '미스터리', '서부극', '멜로', '스릴러', '다큐멘터리', '공포', '가족', '뮤지컬', '공연', '기타',\n",
       "       '성인물'], dtype=object)"
      ]
     },
     "execution_count": 10,
     "metadata": {},
     "output_type": "execute_result"
    }
   ],
   "source": [
    "df['장르'] = df['장르'].apply(lambda x:x.split('/')[0])\n",
    "df['장르'] = df['장르'].apply(lambda x:x.split('(')[0])\n",
    "df['장르'].unique()"
   ]
  },
  {
   "cell_type": "code",
   "execution_count": 11,
   "metadata": {},
   "outputs": [
    {
     "data": {
      "text/plain": [
       "array(['일반영화', '독립/예술영화'], dtype=object)"
      ]
     },
     "execution_count": 11,
     "metadata": {},
     "output_type": "execute_result"
    }
   ],
   "source": [
    "df['영화구분'].unique()"
   ]
  },
  {
   "attachments": {},
   "cell_type": "markdown",
   "metadata": {},
   "source": [
    "- 관객수, 스크린수 값이 0으로 되어있는 데이터들 정리(스크린수와 관객수가 0인 데이터들이 934개로 중간값이랑 평균값을 넣는것보다 제외시키기로함) 스크린수 10개이하, 관객수, 서울_관객수 10명이하"
   ]
  },
  {
   "cell_type": "code",
   "execution_count": 12,
   "metadata": {},
   "outputs": [
    {
     "name": "stderr",
     "output_type": "stream",
     "text": [
      "C:\\Users\\jkh75\\AppData\\Local\\Temp\\ipykernel_17868\\1134722465.py:1: FutureWarning: The default value of numeric_only in DataFrame.corr is deprecated. In a future version, it will default to False. Select only valid columns or specify the value of numeric_only to silence this warning.\n",
      "  df.corr()\n"
     ]
    },
    {
     "data": {
      "text/html": [
       "<div>\n",
       "<style scoped>\n",
       "    .dataframe tbody tr th:only-of-type {\n",
       "        vertical-align: middle;\n",
       "    }\n",
       "\n",
       "    .dataframe tbody tr th {\n",
       "        vertical-align: top;\n",
       "    }\n",
       "\n",
       "    .dataframe thead th {\n",
       "        text-align: right;\n",
       "    }\n",
       "</style>\n",
       "<table border=\"1\" class=\"dataframe\">\n",
       "  <thead>\n",
       "    <tr style=\"text-align: right;\">\n",
       "      <th></th>\n",
       "      <th>스크린수</th>\n",
       "      <th>관객수</th>\n",
       "      <th>서울_관객수</th>\n",
       "    </tr>\n",
       "  </thead>\n",
       "  <tbody>\n",
       "    <tr>\n",
       "      <th>스크린수</th>\n",
       "      <td>1.000000</td>\n",
       "      <td>0.643566</td>\n",
       "      <td>0.583727</td>\n",
       "    </tr>\n",
       "    <tr>\n",
       "      <th>관객수</th>\n",
       "      <td>0.643566</td>\n",
       "      <td>1.000000</td>\n",
       "      <td>0.950589</td>\n",
       "    </tr>\n",
       "    <tr>\n",
       "      <th>서울_관객수</th>\n",
       "      <td>0.583727</td>\n",
       "      <td>0.950589</td>\n",
       "      <td>1.000000</td>\n",
       "    </tr>\n",
       "  </tbody>\n",
       "</table>\n",
       "</div>"
      ],
      "text/plain": [
       "            스크린수       관객수    서울_관객수\n",
       "스크린수    1.000000  0.643566  0.583727\n",
       "관객수     0.643566  1.000000  0.950589\n",
       "서울_관객수  0.583727  0.950589  1.000000"
      ]
     },
     "execution_count": 12,
     "metadata": {},
     "output_type": "execute_result"
    }
   ],
   "source": [
    "df.corr()"
   ]
  },
  {
   "attachments": {},
   "cell_type": "markdown",
   "metadata": {},
   "source": [
    "- "
   ]
  },
  {
   "cell_type": "code",
   "execution_count": 16,
   "metadata": {},
   "outputs": [],
   "source": [
    "df1 = df[(df['스크린수'] <= 10) & (df['관객수'] <= 10)].index\n",
    "df2 = df[df['서울_관객수'] <= 10].index\n",
    "df.drop(df1, inplace=True)\n",
    "df.drop(df2, inplace=True)"
   ]
  },
  {
   "cell_type": "code",
   "execution_count": 17,
   "metadata": {},
   "outputs": [
    {
     "data": {
      "text/html": [
       "<div>\n",
       "<style scoped>\n",
       "    .dataframe tbody tr th:only-of-type {\n",
       "        vertical-align: middle;\n",
       "    }\n",
       "\n",
       "    .dataframe tbody tr th {\n",
       "        vertical-align: top;\n",
       "    }\n",
       "\n",
       "    .dataframe thead th {\n",
       "        text-align: right;\n",
       "    }\n",
       "</style>\n",
       "<table border=\"1\" class=\"dataframe\">\n",
       "  <thead>\n",
       "    <tr style=\"text-align: right;\">\n",
       "      <th></th>\n",
       "      <th>영화명</th>\n",
       "      <th>감독</th>\n",
       "      <th>개봉일</th>\n",
       "      <th>영화유형</th>\n",
       "      <th>영화형태</th>\n",
       "      <th>국적</th>\n",
       "      <th>스크린수</th>\n",
       "      <th>관객수</th>\n",
       "      <th>서울_관객수</th>\n",
       "      <th>장르</th>\n",
       "      <th>등급</th>\n",
       "      <th>영화구분</th>\n",
       "    </tr>\n",
       "  </thead>\n",
       "  <tbody>\n",
       "    <tr>\n",
       "      <th>1</th>\n",
       "      <td>명량</td>\n",
       "      <td>김한민</td>\n",
       "      <td>2014-07-30</td>\n",
       "      <td>개봉영화</td>\n",
       "      <td>장편</td>\n",
       "      <td>한국</td>\n",
       "      <td>1587</td>\n",
       "      <td>17613682</td>\n",
       "      <td>4163666</td>\n",
       "      <td>사극</td>\n",
       "      <td>15세이상</td>\n",
       "      <td>일반영화</td>\n",
       "    </tr>\n",
       "    <tr>\n",
       "      <th>2</th>\n",
       "      <td>극한직업</td>\n",
       "      <td>이병헌</td>\n",
       "      <td>2019-01-23</td>\n",
       "      <td>개봉영화</td>\n",
       "      <td>장편</td>\n",
       "      <td>한국</td>\n",
       "      <td>1978</td>\n",
       "      <td>16264944</td>\n",
       "      <td>3638287</td>\n",
       "      <td>코미디</td>\n",
       "      <td>15세이상</td>\n",
       "      <td>일반영화</td>\n",
       "    </tr>\n",
       "    <tr>\n",
       "      <th>3</th>\n",
       "      <td>신과함께-죄와 벌</td>\n",
       "      <td>김용화</td>\n",
       "      <td>2017-12-20</td>\n",
       "      <td>개봉영화</td>\n",
       "      <td>장편</td>\n",
       "      <td>한국</td>\n",
       "      <td>1912</td>\n",
       "      <td>14410754</td>\n",
       "      <td>3346172</td>\n",
       "      <td>판타지</td>\n",
       "      <td>12세이상</td>\n",
       "      <td>일반영화</td>\n",
       "    </tr>\n",
       "    <tr>\n",
       "      <th>4</th>\n",
       "      <td>국제시장</td>\n",
       "      <td>윤제균</td>\n",
       "      <td>2014-12-17</td>\n",
       "      <td>개봉영화</td>\n",
       "      <td>장편</td>\n",
       "      <td>한국</td>\n",
       "      <td>966</td>\n",
       "      <td>14245998</td>\n",
       "      <td>3233946</td>\n",
       "      <td>드라마</td>\n",
       "      <td>12세이상</td>\n",
       "      <td>일반영화</td>\n",
       "    </tr>\n",
       "    <tr>\n",
       "      <th>5</th>\n",
       "      <td>어벤져스: 엔드게임</td>\n",
       "      <td>안소니 루소,조 루소</td>\n",
       "      <td>2019-04-24</td>\n",
       "      <td>개봉영화</td>\n",
       "      <td>장편</td>\n",
       "      <td>미국</td>\n",
       "      <td>2835</td>\n",
       "      <td>13934592</td>\n",
       "      <td>3597963</td>\n",
       "      <td>액션</td>\n",
       "      <td>12세이상</td>\n",
       "      <td>일반영화</td>\n",
       "    </tr>\n",
       "  </tbody>\n",
       "</table>\n",
       "</div>"
      ],
      "text/plain": [
       "          영화명           감독        개봉일  영화유형 영화형태  국적  스크린수       관객수   서울_관객수  \\\n",
       "1          명량          김한민 2014-07-30  개봉영화   장편  한국  1587  17613682  4163666   \n",
       "2        극한직업          이병헌 2019-01-23  개봉영화   장편  한국  1978  16264944  3638287   \n",
       "3   신과함께-죄와 벌          김용화 2017-12-20  개봉영화   장편  한국  1912  14410754  3346172   \n",
       "4        국제시장          윤제균 2014-12-17  개봉영화   장편  한국   966  14245998  3233946   \n",
       "5  어벤져스: 엔드게임  안소니 루소,조 루소 2019-04-24  개봉영화   장편  미국  2835  13934592  3597963   \n",
       "\n",
       "    장르     등급  영화구분  \n",
       "1   사극  15세이상  일반영화  \n",
       "2  코미디  15세이상  일반영화  \n",
       "3  판타지  12세이상  일반영화  \n",
       "4  드라마  12세이상  일반영화  \n",
       "5   액션  12세이상  일반영화  "
      ]
     },
     "execution_count": 17,
     "metadata": {},
     "output_type": "execute_result"
    }
   ],
   "source": [
    "df.head()"
   ]
  },
  {
   "attachments": {},
   "cell_type": "markdown",
   "metadata": {},
   "source": [
    "- 개봉일을 년도, 월로 다른 컬럼으로 변경"
   ]
  },
  {
   "cell_type": "code",
   "execution_count": 18,
   "metadata": {},
   "outputs": [],
   "source": [
    "df['개봉연도'] = df['개봉일'].dt.year\n",
    "df['개봉월'] = df['개봉일'].dt.month"
   ]
  },
  {
   "attachments": {},
   "cell_type": "markdown",
   "metadata": {},
   "source": [
    "- 영화명 감독 컬럼으로 중복값 확인 (감독이름이 null값에서 미정으로 변경으로 인한 중복값으로 처리x)"
   ]
  },
  {
   "cell_type": "code",
   "execution_count": 19,
   "metadata": {},
   "outputs": [
    {
     "data": {
      "text/html": [
       "<div>\n",
       "<style scoped>\n",
       "    .dataframe tbody tr th:only-of-type {\n",
       "        vertical-align: middle;\n",
       "    }\n",
       "\n",
       "    .dataframe tbody tr th {\n",
       "        vertical-align: top;\n",
       "    }\n",
       "\n",
       "    .dataframe thead th {\n",
       "        text-align: right;\n",
       "    }\n",
       "</style>\n",
       "<table border=\"1\" class=\"dataframe\">\n",
       "  <thead>\n",
       "    <tr style=\"text-align: right;\">\n",
       "      <th></th>\n",
       "      <th>영화명</th>\n",
       "      <th>감독</th>\n",
       "      <th>개봉일</th>\n",
       "      <th>영화유형</th>\n",
       "      <th>영화형태</th>\n",
       "      <th>국적</th>\n",
       "      <th>스크린수</th>\n",
       "      <th>관객수</th>\n",
       "      <th>서울_관객수</th>\n",
       "      <th>장르</th>\n",
       "      <th>등급</th>\n",
       "      <th>영화구분</th>\n",
       "      <th>개봉연도</th>\n",
       "      <th>개봉월</th>\n",
       "    </tr>\n",
       "  </thead>\n",
       "  <tbody>\n",
       "    <tr>\n",
       "      <th>6304</th>\n",
       "      <td>라 트라비아타</td>\n",
       "      <td>미정</td>\n",
       "      <td>2017-08-05</td>\n",
       "      <td>개봉영화</td>\n",
       "      <td>장편</td>\n",
       "      <td>미국</td>\n",
       "      <td>11</td>\n",
       "      <td>1768</td>\n",
       "      <td>1176</td>\n",
       "      <td>공연</td>\n",
       "      <td>12세이상</td>\n",
       "      <td>일반영화</td>\n",
       "      <td>2017</td>\n",
       "      <td>8</td>\n",
       "    </tr>\n",
       "    <tr>\n",
       "      <th>6578</th>\n",
       "      <td>라 트라비아타</td>\n",
       "      <td>미정</td>\n",
       "      <td>2017-01-22</td>\n",
       "      <td>개봉영화</td>\n",
       "      <td>장편</td>\n",
       "      <td>독일</td>\n",
       "      <td>9</td>\n",
       "      <td>1442</td>\n",
       "      <td>1078</td>\n",
       "      <td>공연</td>\n",
       "      <td>12세이상</td>\n",
       "      <td>일반영화</td>\n",
       "      <td>2017</td>\n",
       "      <td>1</td>\n",
       "    </tr>\n",
       "    <tr>\n",
       "      <th>7156</th>\n",
       "      <td>탄호이저</td>\n",
       "      <td>미정</td>\n",
       "      <td>2017-05-28</td>\n",
       "      <td>개봉영화</td>\n",
       "      <td>장편</td>\n",
       "      <td>독일</td>\n",
       "      <td>11</td>\n",
       "      <td>808</td>\n",
       "      <td>485</td>\n",
       "      <td>공연</td>\n",
       "      <td>15세이상</td>\n",
       "      <td>일반영화</td>\n",
       "      <td>2017</td>\n",
       "      <td>5</td>\n",
       "    </tr>\n",
       "    <tr>\n",
       "      <th>7244</th>\n",
       "      <td>토스카</td>\n",
       "      <td>루크 본디</td>\n",
       "      <td>2013-04-13</td>\n",
       "      <td>개봉영화</td>\n",
       "      <td>장편</td>\n",
       "      <td>독일</td>\n",
       "      <td>2</td>\n",
       "      <td>723</td>\n",
       "      <td>668</td>\n",
       "      <td>공연</td>\n",
       "      <td>전체</td>\n",
       "      <td>독립/예술영화</td>\n",
       "      <td>2013</td>\n",
       "      <td>4</td>\n",
       "    </tr>\n",
       "    <tr>\n",
       "      <th>7436</th>\n",
       "      <td>마담 버터플라이</td>\n",
       "      <td>미정</td>\n",
       "      <td>2020-05-05</td>\n",
       "      <td>개봉영화</td>\n",
       "      <td>장편</td>\n",
       "      <td>미국</td>\n",
       "      <td>6</td>\n",
       "      <td>564</td>\n",
       "      <td>396</td>\n",
       "      <td>공연</td>\n",
       "      <td>전체</td>\n",
       "      <td>일반영화</td>\n",
       "      <td>2020</td>\n",
       "      <td>5</td>\n",
       "    </tr>\n",
       "    <tr>\n",
       "      <th>7846</th>\n",
       "      <td>마농</td>\n",
       "      <td>로랑 펠리</td>\n",
       "      <td>2020-03-31</td>\n",
       "      <td>개봉영화</td>\n",
       "      <td>장편</td>\n",
       "      <td>미국</td>\n",
       "      <td>5</td>\n",
       "      <td>336</td>\n",
       "      <td>284</td>\n",
       "      <td>공연</td>\n",
       "      <td>12세이상</td>\n",
       "      <td>일반영화</td>\n",
       "      <td>2020</td>\n",
       "      <td>3</td>\n",
       "    </tr>\n",
       "    <tr>\n",
       "      <th>7869</th>\n",
       "      <td>사랑의 묘약</td>\n",
       "      <td>미정</td>\n",
       "      <td>2020-06-02</td>\n",
       "      <td>개봉영화</td>\n",
       "      <td>장편</td>\n",
       "      <td>이탈리아</td>\n",
       "      <td>5</td>\n",
       "      <td>319</td>\n",
       "      <td>229</td>\n",
       "      <td>공연</td>\n",
       "      <td>12세이상</td>\n",
       "      <td>일반영화</td>\n",
       "      <td>2020</td>\n",
       "      <td>6</td>\n",
       "    </tr>\n",
       "    <tr>\n",
       "      <th>8171</th>\n",
       "      <td>마농 레스코</td>\n",
       "      <td>미정</td>\n",
       "      <td>2020-08-03</td>\n",
       "      <td>개봉영화</td>\n",
       "      <td>장편</td>\n",
       "      <td>이탈리아</td>\n",
       "      <td>5</td>\n",
       "      <td>228</td>\n",
       "      <td>135</td>\n",
       "      <td>공연</td>\n",
       "      <td>12세이상</td>\n",
       "      <td>일반영화</td>\n",
       "      <td>2020</td>\n",
       "      <td>8</td>\n",
       "    </tr>\n",
       "    <tr>\n",
       "      <th>9998</th>\n",
       "      <td>라 보엠</td>\n",
       "      <td>미정</td>\n",
       "      <td>2020-11-29</td>\n",
       "      <td>개봉영화</td>\n",
       "      <td>장편</td>\n",
       "      <td>독일</td>\n",
       "      <td>7</td>\n",
       "      <td>41</td>\n",
       "      <td>23</td>\n",
       "      <td>공연</td>\n",
       "      <td>전체</td>\n",
       "      <td>일반영화</td>\n",
       "      <td>2020</td>\n",
       "      <td>11</td>\n",
       "    </tr>\n",
       "    <tr>\n",
       "      <th>10064</th>\n",
       "      <td>카르멘</td>\n",
       "      <td>미정</td>\n",
       "      <td>2020-06-03</td>\n",
       "      <td>개봉영화</td>\n",
       "      <td>장편</td>\n",
       "      <td>영국</td>\n",
       "      <td>6</td>\n",
       "      <td>37</td>\n",
       "      <td>20</td>\n",
       "      <td>공연</td>\n",
       "      <td>12세이상</td>\n",
       "      <td>일반영화</td>\n",
       "      <td>2020</td>\n",
       "      <td>6</td>\n",
       "    </tr>\n",
       "  </tbody>\n",
       "</table>\n",
       "</div>"
      ],
      "text/plain": [
       "            영화명     감독        개봉일  영화유형 영화형태    국적  스크린수   관객수  서울_관객수  장르  \\\n",
       "6304    라 트라비아타     미정 2017-08-05  개봉영화   장편    미국    11  1768    1176  공연   \n",
       "6578    라 트라비아타     미정 2017-01-22  개봉영화   장편    독일     9  1442    1078  공연   \n",
       "7156       탄호이저     미정 2017-05-28  개봉영화   장편    독일    11   808     485  공연   \n",
       "7244        토스카  루크 본디 2013-04-13  개봉영화   장편    독일     2   723     668  공연   \n",
       "7436   마담 버터플라이     미정 2020-05-05  개봉영화   장편    미국     6   564     396  공연   \n",
       "7846         마농  로랑 펠리 2020-03-31  개봉영화   장편    미국     5   336     284  공연   \n",
       "7869     사랑의 묘약     미정 2020-06-02  개봉영화   장편  이탈리아     5   319     229  공연   \n",
       "8171     마농 레스코     미정 2020-08-03  개봉영화   장편  이탈리아     5   228     135  공연   \n",
       "9998       라 보엠     미정 2020-11-29  개봉영화   장편    독일     7    41      23  공연   \n",
       "10064       카르멘     미정 2020-06-03  개봉영화   장편    영국     6    37      20  공연   \n",
       "\n",
       "          등급     영화구분  개봉연도  개봉월  \n",
       "6304   12세이상     일반영화  2017    8  \n",
       "6578   12세이상     일반영화  2017    1  \n",
       "7156   15세이상     일반영화  2017    5  \n",
       "7244      전체  독립/예술영화  2013    4  \n",
       "7436      전체     일반영화  2020    5  \n",
       "7846   12세이상     일반영화  2020    3  \n",
       "7869   12세이상     일반영화  2020    6  \n",
       "8171   12세이상     일반영화  2020    8  \n",
       "9998      전체     일반영화  2020   11  \n",
       "10064  12세이상     일반영화  2020    6  "
      ]
     },
     "execution_count": 19,
     "metadata": {},
     "output_type": "execute_result"
    }
   ],
   "source": [
    "df[df[['영화명','감독']].duplicated()]"
   ]
  },
  {
   "attachments": {},
   "cell_type": "markdown",
   "metadata": {},
   "source": [
    "- 관객수 평균값이 30만 이므로 30만 이상이면 흥행 이하면 비흥행으로 컬럼 생성"
   ]
  },
  {
   "cell_type": "code",
   "execution_count": 20,
   "metadata": {},
   "outputs": [],
   "source": [
    "df['관객수'].mean()\n",
    "movie_up = df['관객수'] >= 300000\n",
    "movie_down = df['관객수'] < 300000\n",
    "df.loc[movie_up == True, '흥행'] = '흥행'\n",
    "df.loc[movie_down == True, '흥행'] = '비흥행'"
   ]
  },
  {
   "attachments": {},
   "cell_type": "markdown",
   "metadata": {},
   "source": [
    "- 데이터프레임 이름 변경, 다시 정렬, 저장"
   ]
  },
  {
   "cell_type": "code",
   "execution_count": 21,
   "metadata": {},
   "outputs": [],
   "source": [
    "movie = df[['영화명','감독','개봉연도','개봉월','스크린수','관객수','서울_관객수','등급','장르','국적','영화구분','흥행']]\n",
    "movie.to_csv('../data/영화')"
   ]
  },
  {
   "attachments": {},
   "cell_type": "markdown",
   "metadata": {},
   "source": [
    "### 영화\n",
    "- 영화명\n",
    "- 감독\n",
    "- 개봉연도\n",
    "- 개봉월\n",
    "- 스크린수\n",
    "- 관객수\n",
    "- 서울_관객수\n",
    "- 등급\n",
    "- 장르\n",
    "- 국적\n",
    "- 영화구분\n",
    "- 흥행"
   ]
  },
  {
   "cell_type": "code",
   "execution_count": 22,
   "metadata": {},
   "outputs": [
    {
     "data": {
      "text/html": [
       "<div>\n",
       "<style scoped>\n",
       "    .dataframe tbody tr th:only-of-type {\n",
       "        vertical-align: middle;\n",
       "    }\n",
       "\n",
       "    .dataframe tbody tr th {\n",
       "        vertical-align: top;\n",
       "    }\n",
       "\n",
       "    .dataframe thead th {\n",
       "        text-align: right;\n",
       "    }\n",
       "</style>\n",
       "<table border=\"1\" class=\"dataframe\">\n",
       "  <thead>\n",
       "    <tr style=\"text-align: right;\">\n",
       "      <th></th>\n",
       "      <th>영화명</th>\n",
       "      <th>감독</th>\n",
       "      <th>개봉연도</th>\n",
       "      <th>개봉월</th>\n",
       "      <th>스크린수</th>\n",
       "      <th>관객수</th>\n",
       "      <th>서울_관객수</th>\n",
       "      <th>등급</th>\n",
       "      <th>장르</th>\n",
       "      <th>국적</th>\n",
       "      <th>영화구분</th>\n",
       "      <th>흥행</th>\n",
       "    </tr>\n",
       "  </thead>\n",
       "  <tbody>\n",
       "    <tr>\n",
       "      <th>1</th>\n",
       "      <td>명량</td>\n",
       "      <td>김한민</td>\n",
       "      <td>2014</td>\n",
       "      <td>7</td>\n",
       "      <td>1587</td>\n",
       "      <td>17613682</td>\n",
       "      <td>4163666</td>\n",
       "      <td>15세이상</td>\n",
       "      <td>사극</td>\n",
       "      <td>한국</td>\n",
       "      <td>일반영화</td>\n",
       "      <td>흥행</td>\n",
       "    </tr>\n",
       "    <tr>\n",
       "      <th>2</th>\n",
       "      <td>극한직업</td>\n",
       "      <td>이병헌</td>\n",
       "      <td>2019</td>\n",
       "      <td>1</td>\n",
       "      <td>1978</td>\n",
       "      <td>16264944</td>\n",
       "      <td>3638287</td>\n",
       "      <td>15세이상</td>\n",
       "      <td>코미디</td>\n",
       "      <td>한국</td>\n",
       "      <td>일반영화</td>\n",
       "      <td>흥행</td>\n",
       "    </tr>\n",
       "    <tr>\n",
       "      <th>3</th>\n",
       "      <td>신과함께-죄와 벌</td>\n",
       "      <td>김용화</td>\n",
       "      <td>2017</td>\n",
       "      <td>12</td>\n",
       "      <td>1912</td>\n",
       "      <td>14410754</td>\n",
       "      <td>3346172</td>\n",
       "      <td>12세이상</td>\n",
       "      <td>판타지</td>\n",
       "      <td>한국</td>\n",
       "      <td>일반영화</td>\n",
       "      <td>흥행</td>\n",
       "    </tr>\n",
       "  </tbody>\n",
       "</table>\n",
       "</div>"
      ],
      "text/plain": [
       "         영화명   감독  개봉연도  개봉월  스크린수       관객수   서울_관객수     등급   장르  국적  영화구분  \\\n",
       "1         명량  김한민  2014    7  1587  17613682  4163666  15세이상   사극  한국  일반영화   \n",
       "2       극한직업  이병헌  2019    1  1978  16264944  3638287  15세이상  코미디  한국  일반영화   \n",
       "3  신과함께-죄와 벌  김용화  2017   12  1912  14410754  3346172  12세이상  판타지  한국  일반영화   \n",
       "\n",
       "   흥행  \n",
       "1  흥행  \n",
       "2  흥행  \n",
       "3  흥행  "
      ]
     },
     "execution_count": 22,
     "metadata": {},
     "output_type": "execute_result"
    }
   ],
   "source": [
    "movie.head(3)"
   ]
  },
  {
   "attachments": {},
   "cell_type": "markdown",
   "metadata": {},
   "source": [
    "- 각 컬럼간의 상관 관계"
   ]
  },
  {
   "cell_type": "code",
   "execution_count": 23,
   "metadata": {},
   "outputs": [
    {
     "name": "stderr",
     "output_type": "stream",
     "text": [
      "C:\\Users\\jkh75\\AppData\\Local\\Temp\\ipykernel_17868\\1030335907.py:3: FutureWarning: The default value of numeric_only in DataFrame.corr is deprecated. In a future version, it will default to False. Select only valid columns or specify the value of numeric_only to silence this warning.\n",
      "  sns.heatmap(movie.corr(),annot=True)\n"
     ]
    },
    {
     "data": {
      "image/png": "[encoded data removed]",
      "text/plain": [
       "<Figure size 2000x600 with 2 Axes>"
      ]
     },
     "metadata": {},
     "output_type": "display_data"
    }
   ],
   "source": [
    "plt.figure(figsize=(20,6))\n",
    "plt.title('상관관계')\n",
    "sns.heatmap(movie.corr(),annot=True)\n",
    "pass"
   ]
  },
  {
   "cell_type": "code",
   "execution_count": 24,
   "metadata": {},
   "outputs": [
    {
     "data": {
      "text/html": [
       "<div>\n",
       "<style scoped>\n",
       "    .dataframe tbody tr th:only-of-type {\n",
       "        vertical-align: middle;\n",
       "    }\n",
       "\n",
       "    .dataframe tbody tr th {\n",
       "        vertical-align: top;\n",
       "    }\n",
       "\n",
       "    .dataframe thead th {\n",
       "        text-align: right;\n",
       "    }\n",
       "</style>\n",
       "<table border=\"1\" class=\"dataframe\">\n",
       "  <thead>\n",
       "    <tr style=\"text-align: right;\">\n",
       "      <th></th>\n",
       "      <th>영화명</th>\n",
       "      <th>감독</th>\n",
       "      <th>개봉연도</th>\n",
       "      <th>개봉월</th>\n",
       "      <th>스크린수</th>\n",
       "      <th>관객수</th>\n",
       "      <th>서울_관객수</th>\n",
       "      <th>등급</th>\n",
       "      <th>장르</th>\n",
       "      <th>국적</th>\n",
       "      <th>영화구분</th>\n",
       "      <th>흥행</th>\n",
       "    </tr>\n",
       "  </thead>\n",
       "  <tbody>\n",
       "    <tr>\n",
       "      <th>1</th>\n",
       "      <td>명량</td>\n",
       "      <td>김한민</td>\n",
       "      <td>2014</td>\n",
       "      <td>7</td>\n",
       "      <td>1587</td>\n",
       "      <td>17613682</td>\n",
       "      <td>4163666</td>\n",
       "      <td>15세이상</td>\n",
       "      <td>사극</td>\n",
       "      <td>한국</td>\n",
       "      <td>일반영화</td>\n",
       "      <td>흥행</td>\n",
       "    </tr>\n",
       "    <tr>\n",
       "      <th>2</th>\n",
       "      <td>극한직업</td>\n",
       "      <td>이병헌</td>\n",
       "      <td>2019</td>\n",
       "      <td>1</td>\n",
       "      <td>1978</td>\n",
       "      <td>16264944</td>\n",
       "      <td>3638287</td>\n",
       "      <td>15세이상</td>\n",
       "      <td>코미디</td>\n",
       "      <td>한국</td>\n",
       "      <td>일반영화</td>\n",
       "      <td>흥행</td>\n",
       "    </tr>\n",
       "    <tr>\n",
       "      <th>3</th>\n",
       "      <td>신과함께-죄와 벌</td>\n",
       "      <td>김용화</td>\n",
       "      <td>2017</td>\n",
       "      <td>12</td>\n",
       "      <td>1912</td>\n",
       "      <td>14410754</td>\n",
       "      <td>3346172</td>\n",
       "      <td>12세이상</td>\n",
       "      <td>판타지</td>\n",
       "      <td>한국</td>\n",
       "      <td>일반영화</td>\n",
       "      <td>흥행</td>\n",
       "    </tr>\n",
       "    <tr>\n",
       "      <th>4</th>\n",
       "      <td>국제시장</td>\n",
       "      <td>윤제균</td>\n",
       "      <td>2014</td>\n",
       "      <td>12</td>\n",
       "      <td>966</td>\n",
       "      <td>14245998</td>\n",
       "      <td>3233946</td>\n",
       "      <td>12세이상</td>\n",
       "      <td>드라마</td>\n",
       "      <td>한국</td>\n",
       "      <td>일반영화</td>\n",
       "      <td>흥행</td>\n",
       "    </tr>\n",
       "    <tr>\n",
       "      <th>5</th>\n",
       "      <td>어벤져스: 엔드게임</td>\n",
       "      <td>안소니 루소,조 루소</td>\n",
       "      <td>2019</td>\n",
       "      <td>4</td>\n",
       "      <td>2835</td>\n",
       "      <td>13934592</td>\n",
       "      <td>3597963</td>\n",
       "      <td>12세이상</td>\n",
       "      <td>액션</td>\n",
       "      <td>미국</td>\n",
       "      <td>일반영화</td>\n",
       "      <td>흥행</td>\n",
       "    </tr>\n",
       "  </tbody>\n",
       "</table>\n",
       "</div>"
      ],
      "text/plain": [
       "          영화명           감독  개봉연도  개봉월  스크린수       관객수   서울_관객수     등급   장르  \\\n",
       "1          명량          김한민  2014    7  1587  17613682  4163666  15세이상   사극   \n",
       "2        극한직업          이병헌  2019    1  1978  16264944  3638287  15세이상  코미디   \n",
       "3   신과함께-죄와 벌          김용화  2017   12  1912  14410754  3346172  12세이상  판타지   \n",
       "4        국제시장          윤제균  2014   12   966  14245998  3233946  12세이상  드라마   \n",
       "5  어벤져스: 엔드게임  안소니 루소,조 루소  2019    4  2835  13934592  3597963  12세이상   액션   \n",
       "\n",
       "   국적  영화구분  흥행  \n",
       "1  한국  일반영화  흥행  \n",
       "2  한국  일반영화  흥행  \n",
       "3  한국  일반영화  흥행  \n",
       "4  한국  일반영화  흥행  \n",
       "5  미국  일반영화  흥행  "
      ]
     },
     "execution_count": 24,
     "metadata": {},
     "output_type": "execute_result"
    }
   ],
   "source": [
    "movie.head()"
   ]
  },
  {
   "cell_type": "code",
   "execution_count": 25,
   "metadata": {},
   "outputs": [
    {
     "name": "stdout",
     "output_type": "stream",
     "text": [
      "<class 'pandas.core.frame.DataFrame'>\n",
      "Int64Index: 9789 entries, 1 to 10585\n",
      "Data columns (total 12 columns):\n",
      " #   Column  Non-Null Count  Dtype \n",
      "---  ------  --------------  ----- \n",
      " 0   영화명     9789 non-null   object\n",
      " 1   감독      9789 non-null   object\n",
      " 2   개봉연도    9789 non-null   int64 \n",
      " 3   개봉월     9789 non-null   int64 \n",
      " 4   스크린수    9789 non-null   int32 \n",
      " 5   관객수     9789 non-null   int32 \n",
      " 6   서울_관객수  9789 non-null   int32 \n",
      " 7   등급      9789 non-null   object\n",
      " 8   장르      9789 non-null   object\n",
      " 9   국적      9789 non-null   object\n",
      " 10  영화구분    9789 non-null   object\n",
      " 11  흥행      9789 non-null   object\n",
      "dtypes: int32(3), int64(2), object(7)\n",
      "memory usage: 879.5+ KB\n"
     ]
    }
   ],
   "source": [
    "movie.info()"
   ]
  },
  {
   "cell_type": "code",
   "execution_count": 28,
   "metadata": {},
   "outputs": [
    {
     "data": {
      "text/plain": [
       "<AxesSubplot: xlabel='흥행', ylabel='count'>"
      ]
     },
     "execution_count": 28,
     "metadata": {},
     "output_type": "execute_result"
    },
    {
     "data": {
      "image/png": "[encoded data removed]",
      "text/plain": [
       "<Figure size 640x480 with 1 Axes>"
      ]
     },
     "metadata": {},
     "output_type": "display_data"
    }
   ],
   "source": [
    "sns.countplot(movie, x='흥행')"
   ]
  },
  {
   "cell_type": "code",
   "execution_count": 30,
   "metadata": {},
   "outputs": [
    {
     "data": {
      "text/plain": [
       "<AxesSubplot: xlabel='개봉연도', ylabel='count'>"
      ]
     },
     "execution_count": 30,
     "metadata": {},
     "output_type": "execute_result"
    },
    {
     "data": {
      "image/png": "[encoded data removed]",
      "text/plain": [
       "<Figure size 1200x1000 with 1 Axes>"
      ]
     },
     "metadata": {},
     "output_type": "display_data"
    }
   ],
   "source": [
    "plt.figure(figsize=(12,10))\n",
    "sns.countplot(x=movie['개봉연도'], hue=movie['흥행'])"
   ]
  },
  {
   "attachments": {},
   "cell_type": "markdown",
   "metadata": {},
   "source": [
    "- 감독 상위20 관객수, 흥행한 영화 상위10감독, 작품수"
   ]
  },
  {
   "cell_type": "code",
   "execution_count": 32,
   "metadata": {},
   "outputs": [
    {
     "data": {
      "text/plain": [
       "<AxesSubplot: >"
      ]
     },
     "execution_count": 32,
     "metadata": {},
     "output_type": "execute_result"
    },
    {
     "data": {
      "image/png": "[encoded data removed]",
      "text/plain": [
       "<Figure size 2000x600 with 1 Axes>"
      ]
     },
     "metadata": {},
     "output_type": "display_data"
    }
   ],
   "source": [
    "plt.figure(figsize=(20,6))\n",
    "sns.barplot(x = movie['감독'].value_counts().index[:20],y = movie['관객수'].value_counts().index[:20])"
   ]
  },
  {
   "cell_type": "code",
   "execution_count": 34,
   "metadata": {},
   "outputs": [],
   "source": [
    "director = movie[['감독','흥행']]\n",
    "director_df = director[director['흥행'] == '흥행'].value_counts()[:10].to_frame()"
   ]
  },
  {
   "cell_type": "code",
   "execution_count": 35,
   "metadata": {},
   "outputs": [
    {
     "data": {
      "text/html": [
       "<div>\n",
       "<style scoped>\n",
       "    .dataframe tbody tr th:only-of-type {\n",
       "        vertical-align: middle;\n",
       "    }\n",
       "\n",
       "    .dataframe tbody tr th {\n",
       "        vertical-align: top;\n",
       "    }\n",
       "\n",
       "    .dataframe thead th {\n",
       "        text-align: right;\n",
       "    }\n",
       "</style>\n",
       "<table border=\"1\" class=\"dataframe\">\n",
       "  <thead>\n",
       "    <tr style=\"text-align: right;\">\n",
       "      <th></th>\n",
       "      <th>감독</th>\n",
       "      <th>흥행</th>\n",
       "      <th>작품수</th>\n",
       "    </tr>\n",
       "  </thead>\n",
       "  <tbody>\n",
       "    <tr>\n",
       "      <th>0</th>\n",
       "      <td>이준익</td>\n",
       "      <td>흥행</td>\n",
       "      <td>12</td>\n",
       "    </tr>\n",
       "    <tr>\n",
       "      <th>1</th>\n",
       "      <td>강우석</td>\n",
       "      <td>흥행</td>\n",
       "      <td>8</td>\n",
       "    </tr>\n",
       "    <tr>\n",
       "      <th>2</th>\n",
       "      <td>리들리 스콧</td>\n",
       "      <td>흥행</td>\n",
       "      <td>8</td>\n",
       "    </tr>\n",
       "    <tr>\n",
       "      <th>3</th>\n",
       "      <td>류승완</td>\n",
       "      <td>흥행</td>\n",
       "      <td>8</td>\n",
       "    </tr>\n",
       "    <tr>\n",
       "      <th>4</th>\n",
       "      <td>크리스토퍼 놀란</td>\n",
       "      <td>흥행</td>\n",
       "      <td>8</td>\n",
       "    </tr>\n",
       "    <tr>\n",
       "      <th>5</th>\n",
       "      <td>장진</td>\n",
       "      <td>흥행</td>\n",
       "      <td>8</td>\n",
       "    </tr>\n",
       "    <tr>\n",
       "      <th>6</th>\n",
       "      <td>유야마 쿠니히코</td>\n",
       "      <td>흥행</td>\n",
       "      <td>7</td>\n",
       "    </tr>\n",
       "    <tr>\n",
       "      <th>7</th>\n",
       "      <td>마이클 베이</td>\n",
       "      <td>흥행</td>\n",
       "      <td>7</td>\n",
       "    </tr>\n",
       "    <tr>\n",
       "      <th>8</th>\n",
       "      <td>잭 스나이더</td>\n",
       "      <td>흥행</td>\n",
       "      <td>7</td>\n",
       "    </tr>\n",
       "    <tr>\n",
       "      <th>9</th>\n",
       "      <td>곽경택</td>\n",
       "      <td>흥행</td>\n",
       "      <td>7</td>\n",
       "    </tr>\n",
       "  </tbody>\n",
       "</table>\n",
       "</div>"
      ],
      "text/plain": [
       "         감독  흥행  작품수\n",
       "0       이준익  흥행   12\n",
       "1       강우석  흥행    8\n",
       "2    리들리 스콧  흥행    8\n",
       "3       류승완  흥행    8\n",
       "4  크리스토퍼 놀란  흥행    8\n",
       "5        장진  흥행    8\n",
       "6  유야마 쿠니히코  흥행    7\n",
       "7    마이클 베이  흥행    7\n",
       "8    잭 스나이더  흥행    7\n",
       "9       곽경택  흥행    7"
      ]
     },
     "execution_count": 35,
     "metadata": {},
     "output_type": "execute_result"
    }
   ],
   "source": [
    "director_df = director_df.reset_index()\n",
    "director_df.rename(columns={0:'작품수'},inplace=True)\n",
    "director_df"
   ]
  },
  {
   "cell_type": "code",
   "execution_count": 36,
   "metadata": {},
   "outputs": [
    {
     "data": {
      "text/plain": [
       "<AxesSubplot: xlabel='감독', ylabel='작품수'>"
      ]
     },
     "execution_count": 36,
     "metadata": {},
     "output_type": "execute_result"
    },
    {
     "data": {
      "image/png": "[encoded data removed]",
      "text/plain": [
       "<Figure size 1500x700 with 1 Axes>"
      ]
     },
     "metadata": {},
     "output_type": "display_data"
    }
   ],
   "source": [
    "plt.figure(figsize = (15,7))\n",
    "sns.barplot(x = director_df['감독'], y = director_df['작품수'])"
   ]
  },
  {
   "cell_type": "code",
   "execution_count": 38,
   "metadata": {},
   "outputs": [
    {
     "data": {
      "text/plain": [
       "<AxesSubplot: xlabel='장르', ylabel='count'>"
      ]
     },
     "execution_count": 38,
     "metadata": {},
     "output_type": "execute_result"
    },
    {
     "data": {
      "image/png": "[encoded data removed]",
      "text/plain": [
       "<Figure size 1500x700 with 1 Axes>"
      ]
     },
     "metadata": {},
     "output_type": "display_data"
    }
   ],
   "source": [
    "plt.figure(figsize=(15,7))\n",
    "sns.countplot(x = movie['장르'], hue = movie['흥행'])"
   ]
  },
  {
   "cell_type": "code",
   "execution_count": 41,
   "metadata": {},
   "outputs": [
    {
     "data": {
      "image/png": "[encoded data removed]",
      "text/plain": [
       "<Figure size 1600x1000 with 2 Axes>"
      ]
     },
     "metadata": {},
     "output_type": "display_data"
    }
   ],
   "source": [
    "fig,ax = plt.subplots(ncols=2,figsize=(16,10)) \n",
    "sns.countplot(x = movie['등급'], hue = movie['흥행'],ax=ax[0])\n",
    "sns.countplot(x = movie['개봉월'], hue = movie['흥행'],ax=ax[1])\n",
    "pass"
   ]
  },
  {
   "cell_type": "code",
   "execution_count": null,
   "metadata": {},
   "outputs": [],
   "source": []
  }
 ],
 "metadata": {
  "kernelspec": {
   "display_name": "data",
   "language": "python",
   "name": "python3"
  },
  "language_info": {
   "codemirror_mode": {
    "name": "ipython",
    "version": 3
   },
   "file_extension": ".py",
   "mimetype": "text/x-python",
   "name": "python",
   "nbconvert_exporter": "python",
   "pygments_lexer": "ipython3",
   "version": "3.8.16"
  },
  "orig_nbformat": 4,
  "vscode": {
   "interpreter": {
    "hash": "1941af3c21750f36c3fed46f2164f9d4de632b179d034fbed3d9b87f1144527f"
   }
  }
 },
 "nbformat": 4,
 "nbformat_minor": 2
}
