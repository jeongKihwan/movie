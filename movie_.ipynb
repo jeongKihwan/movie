{
 "cells": [
  {
   "cell_type": "code",
   "execution_count": 36,
   "id": "1f529e94",
   "metadata": {},
   "outputs": [
    {
     "name": "stderr",
     "output_type": "stream",
     "text": [
      "100%|██████████| 17466/17466 [00:12<00:00, 1382.30it/s]"
     ]
    },
    {
     "name": "stdout",
     "output_type": "stream",
     "text": [
      "11828\n"
     ]
    },
    {
     "name": "stderr",
     "output_type": "stream",
     "text": [
      "\n"
     ]
    }
   ],
   "source": [
    "from tqdm import tqdm\n",
    "name_list = []\n",
    "for i in tqdm(range(len(df))):\n",
    "    name_1 = df.loc[i][\"제작사_x\"]\n",
    "    name_2 = df.loc[i][\"제작사_y\"]\n",
    "    if name_1 != name_2:\n",
    "        name_list.append(i)\n",
    "\n",
    "print(len(name_list))    "
   ]
  },
  {
   "cell_type": "markdown",
   "id": "d4097fcd",
   "metadata": {},
   "source": [
    "#   영화 관객수는 어떤것에 영향을 받나"
   ]
  },
  {
   "cell_type": "markdown",
   "id": "80365d3e",
   "metadata": {},
   "source": [
    "### 패키지"
   ]
  },
  {
   "cell_type": "code",
   "execution_count": 1,
   "id": "95e9ec6b",
   "metadata": {},
   "outputs": [],
   "source": [
    "import pandas as pd\n",
    "import numpy as np\n",
    "import matplotlib.pyplot as plt\n",
    "import seaborn as sns"
   ]
  },
  {
   "cell_type": "code",
   "execution_count": 2,
   "id": "16361a51",
   "metadata": {},
   "outputs": [],
   "source": [
    "import matplotlib as mpl\n",
    "import matplotlib.font_manager as fm\n",
    "mpl.rcParams['axes.unicode_minus']= False\n",
    "path = 'C:/Windows/Fonts/malgun.ttf'\n",
    "font_name = fm.FontProperties(fname = path, size = 50).get_name()\n",
    "plt.rc('font', family=font_name)"
   ]
  },
  {
   "attachments": {},
   "cell_type": "markdown",
   "id": "abbaa21d",
   "metadata": {},
   "source": [
    "- 제작사 날린이유: 너무많아서"
   ]
  },
  {
   "cell_type": "markdown",
   "id": "6b476a53",
   "metadata": {},
   "source": []
  },
  {
   "cell_type": "code",
   "execution_count": 124,
   "id": "a8e05f36",
   "metadata": {},
   "outputs": [
    {
     "name": "stdout",
     "output_type": "stream",
     "text": [
      "(16785, 11)\n",
      "<class 'pandas.core.frame.DataFrame'>\n",
      "RangeIndex: 16785 entries, 0 to 16784\n",
      "Data columns (total 11 columns):\n",
      " #   Column  Non-Null Count  Dtype         \n",
      "---  ------  --------------  -----         \n",
      " 0   영화명     16785 non-null  object        \n",
      " 1   감독      16100 non-null  object        \n",
      " 2   개봉일     16775 non-null  datetime64[ns]\n",
      " 3   영화유형    16785 non-null  object        \n",
      " 4   영화형태    16784 non-null  object        \n",
      " 5   국적      16784 non-null  object        \n",
      " 6   스크린수    16785 non-null  object        \n",
      " 7   매출액     16663 non-null  object        \n",
      " 8   관객수     16785 non-null  object        \n",
      " 9   등급      16769 non-null  object        \n",
      " 10  영화구분    16785 non-null  object        \n",
      "dtypes: datetime64[ns](1), object(10)\n",
      "memory usage: 1.4+ MB\n",
      "None\n"
     ]
    },
    {
     "data": {
      "text/html": [
       "<div>\n",
       "<style scoped>\n",
       "    .dataframe tbody tr th:only-of-type {\n",
       "        vertical-align: middle;\n",
       "    }\n",
       "\n",
       "    .dataframe tbody tr th {\n",
       "        vertical-align: top;\n",
       "    }\n",
       "\n",
       "    .dataframe thead th {\n",
       "        text-align: right;\n",
       "    }\n",
       "</style>\n",
       "<table border=\"1\" class=\"dataframe\">\n",
       "  <thead>\n",
       "    <tr style=\"text-align: right;\">\n",
       "      <th></th>\n",
       "      <th>영화명</th>\n",
       "      <th>감독</th>\n",
       "      <th>개봉일</th>\n",
       "      <th>영화유형</th>\n",
       "      <th>영화형태</th>\n",
       "      <th>국적</th>\n",
       "      <th>스크린수</th>\n",
       "      <th>매출액</th>\n",
       "      <th>관객수</th>\n",
       "      <th>등급</th>\n",
       "      <th>영화구분</th>\n",
       "    </tr>\n",
       "  </thead>\n",
       "  <tbody>\n",
       "    <tr>\n",
       "      <th>0</th>\n",
       "      <td>명량</td>\n",
       "      <td>김한민</td>\n",
       "      <td>2014-07-30</td>\n",
       "      <td>개봉영화</td>\n",
       "      <td>장편</td>\n",
       "      <td>한국</td>\n",
       "      <td>1587</td>\n",
       "      <td>135748398910</td>\n",
       "      <td>17613682</td>\n",
       "      <td>15세이상관람가</td>\n",
       "      <td>일반영화</td>\n",
       "    </tr>\n",
       "    <tr>\n",
       "      <th>1</th>\n",
       "      <td>극한직업</td>\n",
       "      <td>이병헌</td>\n",
       "      <td>2019-01-23</td>\n",
       "      <td>개봉영화</td>\n",
       "      <td>장편</td>\n",
       "      <td>한국</td>\n",
       "      <td>1978</td>\n",
       "      <td>139647979516</td>\n",
       "      <td>16264944</td>\n",
       "      <td>15세이상관람가</td>\n",
       "      <td>일반영화</td>\n",
       "    </tr>\n",
       "    <tr>\n",
       "      <th>2</th>\n",
       "      <td>신과함께-죄와 벌</td>\n",
       "      <td>김용화</td>\n",
       "      <td>2017-12-20</td>\n",
       "      <td>개봉영화</td>\n",
       "      <td>장편</td>\n",
       "      <td>한국</td>\n",
       "      <td>1912</td>\n",
       "      <td>115698654137</td>\n",
       "      <td>14410754</td>\n",
       "      <td>12세이상관람가</td>\n",
       "      <td>일반영화</td>\n",
       "    </tr>\n",
       "  </tbody>\n",
       "</table>\n",
       "</div>"
      ],
      "text/plain": [
       "         영화명   감독        개봉일  영화유형 영화형태  국적  스크린수           매출액       관객수  \\\n",
       "0         명량  김한민 2014-07-30  개봉영화   장편  한국  1587  135748398910  17613682   \n",
       "1       극한직업  이병헌 2019-01-23  개봉영화   장편  한국  1978  139647979516  16264944   \n",
       "2  신과함께-죄와 벌  김용화 2017-12-20  개봉영화   장편  한국  1912  115698654137  14410754   \n",
       "\n",
       "         등급  영화구분  \n",
       "0  15세이상관람가  일반영화  \n",
       "1  15세이상관람가  일반영화  \n",
       "2  12세이상관람가  일반영화  "
      ]
     },
     "execution_count": 124,
     "metadata": {},
     "output_type": "execute_result"
    }
   ],
   "source": [
    "df = pd.read_excel('../data/영화개봉.xlsx')\n",
    "df.columns  = ['순번', '영화명', '감독', '제작사', '수입사', '배급사', '개봉일', '영화유형', '영화형태', '국적',\n",
    "       '스크린수', '매출액', '관객수', '매출액_서울', '관객수_서울', '장르', '등급', '영화구분']\n",
    "df = df[['영화명', '감독', '개봉일', '영화유형', '영화형태', '국적','스크린수', '매출액', '관객수', '등급', '영화구분']]\n",
    "df = df.drop(index=0).reset_index(drop=True)\n",
    "print(df.shape)\n",
    "print(df.info())\n",
    "df.head(3)"
   ]
  },
  {
   "cell_type": "code",
   "execution_count": 125,
   "id": "07cc3ccb",
   "metadata": {},
   "outputs": [
    {
     "data": {
      "text/plain": [
       "영화명       0\n",
       "감독      685\n",
       "개봉일      10\n",
       "영화유형      0\n",
       "영화형태      1\n",
       "국적        1\n",
       "스크린수      0\n",
       "매출액     122\n",
       "관객수       0\n",
       "등급       16\n",
       "영화구분      0\n",
       "dtype: int64"
      ]
     },
     "execution_count": 125,
     "metadata": {},
     "output_type": "execute_result"
    }
   ],
   "source": [
    "df.isnull().sum()"
   ]
  },
  {
   "cell_type": "code",
   "execution_count": 126,
   "id": "50f07448",
   "metadata": {},
   "outputs": [
    {
     "data": {
      "text/plain": [
       "Index(['영화명', '제작연도', '제작국가', '유형', '장르', '감독'], dtype='object')"
      ]
     },
     "execution_count": 126,
     "metadata": {},
     "output_type": "execute_result"
    }
   ],
   "source": [
    "df1.columns"
   ]
  },
  {
   "cell_type": "code",
   "execution_count": 137,
   "id": "1147a766",
   "metadata": {},
   "outputs": [
    {
     "name": "stdout",
     "output_type": "stream",
     "text": [
      "(18072, 5)\n",
      "<class 'pandas.core.frame.DataFrame'>\n",
      "RangeIndex: 18072 entries, 0 to 18071\n",
      "Data columns (total 5 columns):\n",
      " #   Column  Non-Null Count  Dtype \n",
      "---  ------  --------------  ----- \n",
      " 0   영화명     18072 non-null  object\n",
      " 1   제작국가    18039 non-null  object\n",
      " 2   유형      18069 non-null  object\n",
      " 3   장르      17879 non-null  object\n",
      " 4   감독      16427 non-null  object\n",
      "dtypes: object(5)\n",
      "memory usage: 706.1+ KB\n",
      "None\n"
     ]
    },
    {
     "data": {
      "text/html": [
       "<div>\n",
       "<style scoped>\n",
       "    .dataframe tbody tr th:only-of-type {\n",
       "        vertical-align: middle;\n",
       "    }\n",
       "\n",
       "    .dataframe tbody tr th {\n",
       "        vertical-align: top;\n",
       "    }\n",
       "\n",
       "    .dataframe thead th {\n",
       "        text-align: right;\n",
       "    }\n",
       "</style>\n",
       "<table border=\"1\" class=\"dataframe\">\n",
       "  <thead>\n",
       "    <tr style=\"text-align: right;\">\n",
       "      <th></th>\n",
       "      <th>영화명</th>\n",
       "      <th>제작국가</th>\n",
       "      <th>유형</th>\n",
       "      <th>장르</th>\n",
       "      <th>감독</th>\n",
       "    </tr>\n",
       "  </thead>\n",
       "  <tbody>\n",
       "    <tr>\n",
       "      <th>0</th>\n",
       "      <td>엽기적인 그녀</td>\n",
       "      <td>한국</td>\n",
       "      <td>장편</td>\n",
       "      <td>코미디</td>\n",
       "      <td>곽재용</td>\n",
       "    </tr>\n",
       "    <tr>\n",
       "      <th>1</th>\n",
       "      <td>이웃사촌</td>\n",
       "      <td>한국</td>\n",
       "      <td>장편</td>\n",
       "      <td>드라마,코미디</td>\n",
       "      <td>이환경</td>\n",
       "    </tr>\n",
       "    <tr>\n",
       "      <th>2</th>\n",
       "      <td>다시 만난 날들</td>\n",
       "      <td>한국</td>\n",
       "      <td>장편</td>\n",
       "      <td>뮤지컬,드라마,멜로/로맨스</td>\n",
       "      <td>심찬양</td>\n",
       "    </tr>\n",
       "    <tr>\n",
       "      <th>3</th>\n",
       "      <td>증발</td>\n",
       "      <td>한국</td>\n",
       "      <td>장편</td>\n",
       "      <td>다큐멘터리</td>\n",
       "      <td>김성민</td>\n",
       "    </tr>\n",
       "    <tr>\n",
       "      <th>4</th>\n",
       "      <td>파수꾼</td>\n",
       "      <td>한국</td>\n",
       "      <td>장편</td>\n",
       "      <td>드라마</td>\n",
       "      <td>윤성현</td>\n",
       "    </tr>\n",
       "  </tbody>\n",
       "</table>\n",
       "</div>"
      ],
      "text/plain": [
       "        영화명 제작국가  유형              장르   감독\n",
       "0   엽기적인 그녀   한국  장편             코미디  곽재용\n",
       "1      이웃사촌   한국  장편         드라마,코미디  이환경\n",
       "2  다시 만난 날들   한국  장편  뮤지컬,드라마,멜로/로맨스  심찬양\n",
       "3        증발   한국  장편           다큐멘터리  김성민\n",
       "4       파수꾼   한국  장편             드라마  윤성현"
      ]
     },
     "execution_count": 137,
     "metadata": {},
     "output_type": "execute_result"
    }
   ],
   "source": [
    "df1 = pd.read_excel('../data/영화정보.xlsx')\n",
    "df1 = df1[['영화명', '제작국가', '유형', '장르','감독']]\n",
    "print(df1.shape)\n",
    "print(df1.info())\n",
    "df1.head()"
   ]
  },
  {
   "cell_type": "code",
   "execution_count": 138,
   "id": "b97107e7",
   "metadata": {},
   "outputs": [
    {
     "data": {
      "text/plain": [
       "영화명        0\n",
       "제작국가      33\n",
       "유형         3\n",
       "장르       193\n",
       "감독      1645\n",
       "dtype: int64"
      ]
     },
     "execution_count": 138,
     "metadata": {},
     "output_type": "execute_result"
    }
   ],
   "source": [
    "df1.isnull().sum()"
   ]
  },
  {
   "cell_type": "code",
   "execution_count": 87,
   "id": "a65cf36a",
   "metadata": {},
   "outputs": [
    {
     "data": {
      "text/html": [
       "<div>\n",
       "<style scoped>\n",
       "    .dataframe tbody tr th:only-of-type {\n",
       "        vertical-align: middle;\n",
       "    }\n",
       "\n",
       "    .dataframe tbody tr th {\n",
       "        vertical-align: top;\n",
       "    }\n",
       "\n",
       "    .dataframe thead th {\n",
       "        text-align: right;\n",
       "    }\n",
       "</style>\n",
       "<table border=\"1\" class=\"dataframe\">\n",
       "  <thead>\n",
       "    <tr style=\"text-align: right;\">\n",
       "      <th></th>\n",
       "      <th>순번</th>\n",
       "      <th>영화명</th>\n",
       "      <th>감독</th>\n",
       "      <th>개봉일</th>\n",
       "      <th>영화유형</th>\n",
       "      <th>영화형태</th>\n",
       "      <th>국적</th>\n",
       "      <th>스크린수</th>\n",
       "      <th>매출액</th>\n",
       "      <th>관객수</th>\n",
       "      <th>등급</th>\n",
       "      <th>영화구분</th>\n",
       "    </tr>\n",
       "  </thead>\n",
       "  <tbody>\n",
       "    <tr>\n",
       "      <th>0</th>\n",
       "      <td>1.0</td>\n",
       "      <td>명량</td>\n",
       "      <td>김한민</td>\n",
       "      <td>2014-07-30</td>\n",
       "      <td>개봉영화</td>\n",
       "      <td>장편</td>\n",
       "      <td>한국</td>\n",
       "      <td>1587</td>\n",
       "      <td>135748398910</td>\n",
       "      <td>17613682</td>\n",
       "      <td>15세이상관람가</td>\n",
       "      <td>일반영화</td>\n",
       "    </tr>\n",
       "    <tr>\n",
       "      <th>1</th>\n",
       "      <td>2.0</td>\n",
       "      <td>극한직업</td>\n",
       "      <td>이병헌</td>\n",
       "      <td>2019-01-23</td>\n",
       "      <td>개봉영화</td>\n",
       "      <td>장편</td>\n",
       "      <td>한국</td>\n",
       "      <td>1978</td>\n",
       "      <td>139647979516</td>\n",
       "      <td>16264944</td>\n",
       "      <td>15세이상관람가</td>\n",
       "      <td>일반영화</td>\n",
       "    </tr>\n",
       "  </tbody>\n",
       "</table>\n",
       "</div>"
      ],
      "text/plain": [
       "    순번   영화명   감독        개봉일  영화유형 영화형태  국적  스크린수           매출액       관객수  \\\n",
       "0  1.0    명량  김한민 2014-07-30  개봉영화   장편  한국  1587  135748398910  17613682   \n",
       "1  2.0  극한직업  이병헌 2019-01-23  개봉영화   장편  한국  1978  139647979516  16264944   \n",
       "\n",
       "         등급  영화구분  \n",
       "0  15세이상관람가  일반영화  \n",
       "1  15세이상관람가  일반영화  "
      ]
     },
     "execution_count": 87,
     "metadata": {},
     "output_type": "execute_result"
    }
   ],
   "source": [
    "df.head(2)"
   ]
  },
  {
   "cell_type": "code",
   "execution_count": 88,
   "id": "a99c5519",
   "metadata": {},
   "outputs": [
    {
     "data": {
      "text/html": [
       "<div>\n",
       "<style scoped>\n",
       "    .dataframe tbody tr th:only-of-type {\n",
       "        vertical-align: middle;\n",
       "    }\n",
       "\n",
       "    .dataframe tbody tr th {\n",
       "        vertical-align: top;\n",
       "    }\n",
       "\n",
       "    .dataframe thead th {\n",
       "        text-align: right;\n",
       "    }\n",
       "</style>\n",
       "<table border=\"1\" class=\"dataframe\">\n",
       "  <thead>\n",
       "    <tr style=\"text-align: right;\">\n",
       "      <th></th>\n",
       "      <th>영화명</th>\n",
       "      <th>제작연도</th>\n",
       "      <th>제작국가</th>\n",
       "      <th>유형</th>\n",
       "      <th>장르</th>\n",
       "      <th>감독</th>\n",
       "    </tr>\n",
       "  </thead>\n",
       "  <tbody>\n",
       "    <tr>\n",
       "      <th>0</th>\n",
       "      <td>엽기적인 그녀</td>\n",
       "      <td>2001.0</td>\n",
       "      <td>한국</td>\n",
       "      <td>장편</td>\n",
       "      <td>코미디</td>\n",
       "      <td>곽재용</td>\n",
       "    </tr>\n",
       "    <tr>\n",
       "      <th>1</th>\n",
       "      <td>이웃사촌</td>\n",
       "      <td>2020.0</td>\n",
       "      <td>한국</td>\n",
       "      <td>장편</td>\n",
       "      <td>드라마,코미디</td>\n",
       "      <td>이환경</td>\n",
       "    </tr>\n",
       "    <tr>\n",
       "      <th>2</th>\n",
       "      <td>다시 만난 날들</td>\n",
       "      <td>2019.0</td>\n",
       "      <td>한국</td>\n",
       "      <td>장편</td>\n",
       "      <td>뮤지컬,드라마,멜로/로맨스</td>\n",
       "      <td>심찬양</td>\n",
       "    </tr>\n",
       "    <tr>\n",
       "      <th>3</th>\n",
       "      <td>증발</td>\n",
       "      <td>2019.0</td>\n",
       "      <td>한국</td>\n",
       "      <td>장편</td>\n",
       "      <td>다큐멘터리</td>\n",
       "      <td>김성민</td>\n",
       "    </tr>\n",
       "    <tr>\n",
       "      <th>4</th>\n",
       "      <td>파수꾼</td>\n",
       "      <td>2010.0</td>\n",
       "      <td>한국</td>\n",
       "      <td>장편</td>\n",
       "      <td>드라마</td>\n",
       "      <td>윤성현</td>\n",
       "    </tr>\n",
       "    <tr>\n",
       "      <th>...</th>\n",
       "      <td>...</td>\n",
       "      <td>...</td>\n",
       "      <td>...</td>\n",
       "      <td>...</td>\n",
       "      <td>...</td>\n",
       "      <td>...</td>\n",
       "    </tr>\n",
       "    <tr>\n",
       "      <th>18067</th>\n",
       "      <td>제6회 서울유럽영화제[2005.10.26-10.30]</td>\n",
       "      <td>2005.0</td>\n",
       "      <td>NaN</td>\n",
       "      <td>기타</td>\n",
       "      <td>NaN</td>\n",
       "      <td>NaN</td>\n",
       "    </tr>\n",
       "    <tr>\n",
       "      <th>18068</th>\n",
       "      <td>CJ 아시아인디영화제[2005.11.3-11.8]</td>\n",
       "      <td>2005.0</td>\n",
       "      <td>NaN</td>\n",
       "      <td>기타</td>\n",
       "      <td>NaN</td>\n",
       "      <td>NaN</td>\n",
       "    </tr>\n",
       "    <tr>\n",
       "      <th>18069</th>\n",
       "      <td>제2회 서울환경영화제[2005.9.8-9.14]</td>\n",
       "      <td>2005.0</td>\n",
       "      <td>NaN</td>\n",
       "      <td>기타</td>\n",
       "      <td>NaN</td>\n",
       "      <td>NaN</td>\n",
       "    </tr>\n",
       "    <tr>\n",
       "      <th>18070</th>\n",
       "      <td>레슨/달이지고 비가 옵니다/저푸른 초원(단편)</td>\n",
       "      <td>2002.0</td>\n",
       "      <td>한국</td>\n",
       "      <td>단편</td>\n",
       "      <td>NaN</td>\n",
       "      <td>NaN</td>\n",
       "    </tr>\n",
       "    <tr>\n",
       "      <th>18071</th>\n",
       "      <td>엔조이/ 특집! 노래자랑(단편)</td>\n",
       "      <td>2001.0</td>\n",
       "      <td>한국</td>\n",
       "      <td>단편</td>\n",
       "      <td>NaN</td>\n",
       "      <td>NaN</td>\n",
       "    </tr>\n",
       "  </tbody>\n",
       "</table>\n",
       "<p>18072 rows × 6 columns</p>\n",
       "</div>"
      ],
      "text/plain": [
       "                                 영화명    제작연도 제작국가  유형              장르   감독\n",
       "0                            엽기적인 그녀  2001.0   한국  장편             코미디  곽재용\n",
       "1                               이웃사촌  2020.0   한국  장편         드라마,코미디  이환경\n",
       "2                           다시 만난 날들  2019.0   한국  장편  뮤지컬,드라마,멜로/로맨스  심찬양\n",
       "3                                 증발  2019.0   한국  장편           다큐멘터리  김성민\n",
       "4                                파수꾼  2010.0   한국  장편             드라마  윤성현\n",
       "...                              ...     ...  ...  ..             ...  ...\n",
       "18067  제6회 서울유럽영화제[2005.10.26-10.30]  2005.0  NaN  기타             NaN  NaN\n",
       "18068    CJ 아시아인디영화제[2005.11.3-11.8]  2005.0  NaN  기타             NaN  NaN\n",
       "18069     제2회 서울환경영화제[2005.9.8-9.14]  2005.0  NaN  기타             NaN  NaN\n",
       "18070      레슨/달이지고 비가 옵니다/저푸른 초원(단편)  2002.0   한국  단편             NaN  NaN\n",
       "18071              엔조이/ 특집! 노래자랑(단편)  2001.0   한국  단편             NaN  NaN\n",
       "\n",
       "[18072 rows x 6 columns]"
      ]
     },
     "execution_count": 88,
     "metadata": {},
     "output_type": "execute_result"
    }
   ],
   "source": [
    "df1"
   ]
  },
  {
   "cell_type": "code",
   "execution_count": 139,
   "id": "bdb26833",
   "metadata": {},
   "outputs": [
    {
     "name": "stderr",
     "output_type": "stream",
     "text": [
      "100%|██████████| 18386/18386 [00:05<00:00, 3530.93it/s]\n"
     ]
    },
    {
     "name": "stdout",
     "output_type": "stream",
     "text": [
      "18386\n"
     ]
    },
    {
     "data": {
      "text/html": [
       "<div>\n",
       "<style scoped>\n",
       "    .dataframe tbody tr th:only-of-type {\n",
       "        vertical-align: middle;\n",
       "    }\n",
       "\n",
       "    .dataframe tbody tr th {\n",
       "        vertical-align: top;\n",
       "    }\n",
       "\n",
       "    .dataframe thead th {\n",
       "        text-align: right;\n",
       "    }\n",
       "</style>\n",
       "<table border=\"1\" class=\"dataframe\">\n",
       "  <thead>\n",
       "    <tr style=\"text-align: right;\">\n",
       "      <th></th>\n",
       "      <th>영화명</th>\n",
       "      <th>감독</th>\n",
       "      <th>개봉일</th>\n",
       "      <th>영화유형</th>\n",
       "      <th>영화형태</th>\n",
       "      <th>국적</th>\n",
       "      <th>스크린수</th>\n",
       "      <th>매출액</th>\n",
       "      <th>관객수</th>\n",
       "      <th>등급</th>\n",
       "      <th>영화구분</th>\n",
       "      <th>제작국가</th>\n",
       "      <th>유형</th>\n",
       "      <th>장르</th>\n",
       "    </tr>\n",
       "  </thead>\n",
       "  <tbody>\n",
       "    <tr>\n",
       "      <th>0</th>\n",
       "      <td>명량</td>\n",
       "      <td>김한민</td>\n",
       "      <td>2014-07-30</td>\n",
       "      <td>개봉영화</td>\n",
       "      <td>장편</td>\n",
       "      <td>한국</td>\n",
       "      <td>1587</td>\n",
       "      <td>135748398910</td>\n",
       "      <td>17613682</td>\n",
       "      <td>15세이상관람가</td>\n",
       "      <td>일반영화</td>\n",
       "      <td>한국</td>\n",
       "      <td>장편</td>\n",
       "      <td>사극</td>\n",
       "    </tr>\n",
       "    <tr>\n",
       "      <th>1</th>\n",
       "      <td>극한직업</td>\n",
       "      <td>이병헌</td>\n",
       "      <td>2019-01-23</td>\n",
       "      <td>개봉영화</td>\n",
       "      <td>장편</td>\n",
       "      <td>한국</td>\n",
       "      <td>1978</td>\n",
       "      <td>139647979516</td>\n",
       "      <td>16264944</td>\n",
       "      <td>15세이상관람가</td>\n",
       "      <td>일반영화</td>\n",
       "      <td>한국</td>\n",
       "      <td>장편</td>\n",
       "      <td>코미디</td>\n",
       "    </tr>\n",
       "    <tr>\n",
       "      <th>2</th>\n",
       "      <td>신과함께-죄와 벌</td>\n",
       "      <td>김용화</td>\n",
       "      <td>2017-12-20</td>\n",
       "      <td>개봉영화</td>\n",
       "      <td>장편</td>\n",
       "      <td>한국</td>\n",
       "      <td>1912</td>\n",
       "      <td>115698654137</td>\n",
       "      <td>14410754</td>\n",
       "      <td>12세이상관람가</td>\n",
       "      <td>일반영화</td>\n",
       "      <td>한국</td>\n",
       "      <td>장편</td>\n",
       "      <td>판타지</td>\n",
       "    </tr>\n",
       "    <tr>\n",
       "      <th>3</th>\n",
       "      <td>국제시장</td>\n",
       "      <td>윤제균</td>\n",
       "      <td>2014-12-17</td>\n",
       "      <td>개봉영화</td>\n",
       "      <td>장편</td>\n",
       "      <td>한국</td>\n",
       "      <td>966</td>\n",
       "      <td>110828014630</td>\n",
       "      <td>14245998</td>\n",
       "      <td>12세이상관람가</td>\n",
       "      <td>일반영화</td>\n",
       "      <td>한국</td>\n",
       "      <td>장편</td>\n",
       "      <td>드라마</td>\n",
       "    </tr>\n",
       "    <tr>\n",
       "      <th>4</th>\n",
       "      <td>어벤져스: 엔드게임</td>\n",
       "      <td>안소니 루소,조 루소</td>\n",
       "      <td>2019-04-24</td>\n",
       "      <td>개봉영화</td>\n",
       "      <td>장편</td>\n",
       "      <td>미국</td>\n",
       "      <td>2835</td>\n",
       "      <td>122182694160</td>\n",
       "      <td>13934592</td>\n",
       "      <td>12세이상관람가</td>\n",
       "      <td>일반영화</td>\n",
       "      <td>미국</td>\n",
       "      <td>장편</td>\n",
       "      <td>액션</td>\n",
       "    </tr>\n",
       "    <tr>\n",
       "      <th>...</th>\n",
       "      <td>...</td>\n",
       "      <td>...</td>\n",
       "      <td>...</td>\n",
       "      <td>...</td>\n",
       "      <td>...</td>\n",
       "      <td>...</td>\n",
       "      <td>...</td>\n",
       "      <td>...</td>\n",
       "      <td>...</td>\n",
       "      <td>...</td>\n",
       "      <td>...</td>\n",
       "      <td>...</td>\n",
       "      <td>...</td>\n",
       "      <td>...</td>\n",
       "    </tr>\n",
       "    <tr>\n",
       "      <th>16684</th>\n",
       "      <td>친구여, 조용히 잠들라</td>\n",
       "      <td>최양일</td>\n",
       "      <td>NaT</td>\n",
       "      <td>NaN</td>\n",
       "      <td>NaN</td>\n",
       "      <td>NaN</td>\n",
       "      <td>NaN</td>\n",
       "      <td>NaN</td>\n",
       "      <td>NaN</td>\n",
       "      <td>NaN</td>\n",
       "      <td>NaN</td>\n",
       "      <td>일본</td>\n",
       "      <td>장편</td>\n",
       "      <td>스릴러</td>\n",
       "    </tr>\n",
       "    <tr>\n",
       "      <th>16685</th>\n",
       "      <td>큐폴라가 있는 거리</td>\n",
       "      <td>우라야마 기리로</td>\n",
       "      <td>NaT</td>\n",
       "      <td>NaN</td>\n",
       "      <td>NaN</td>\n",
       "      <td>NaN</td>\n",
       "      <td>NaN</td>\n",
       "      <td>NaN</td>\n",
       "      <td>NaN</td>\n",
       "      <td>NaN</td>\n",
       "      <td>NaN</td>\n",
       "      <td>일본</td>\n",
       "      <td>장편</td>\n",
       "      <td>드라마</td>\n",
       "    </tr>\n",
       "    <tr>\n",
       "      <th>16686</th>\n",
       "      <td>인디아</td>\n",
       "      <td>로베르토 로셀리니</td>\n",
       "      <td>NaT</td>\n",
       "      <td>NaN</td>\n",
       "      <td>NaN</td>\n",
       "      <td>NaN</td>\n",
       "      <td>NaN</td>\n",
       "      <td>NaN</td>\n",
       "      <td>NaN</td>\n",
       "      <td>NaN</td>\n",
       "      <td>NaN</td>\n",
       "      <td>프랑스,이탈리아</td>\n",
       "      <td>기타</td>\n",
       "      <td>nan</td>\n",
       "    </tr>\n",
       "    <tr>\n",
       "      <th>16687</th>\n",
       "      <td>선거</td>\n",
       "      <td>김지영</td>\n",
       "      <td>NaT</td>\n",
       "      <td>NaN</td>\n",
       "      <td>NaN</td>\n",
       "      <td>NaN</td>\n",
       "      <td>NaN</td>\n",
       "      <td>NaN</td>\n",
       "      <td>NaN</td>\n",
       "      <td>NaN</td>\n",
       "      <td>NaN</td>\n",
       "      <td>일본</td>\n",
       "      <td>장편</td>\n",
       "      <td>다큐멘터리</td>\n",
       "    </tr>\n",
       "    <tr>\n",
       "      <th>16688</th>\n",
       "      <td>점입가경</td>\n",
       "      <td>문성일</td>\n",
       "      <td>NaT</td>\n",
       "      <td>NaN</td>\n",
       "      <td>NaN</td>\n",
       "      <td>NaN</td>\n",
       "      <td>NaN</td>\n",
       "      <td>NaN</td>\n",
       "      <td>NaN</td>\n",
       "      <td>NaN</td>\n",
       "      <td>NaN</td>\n",
       "      <td>한국</td>\n",
       "      <td>장편</td>\n",
       "      <td>nan</td>\n",
       "    </tr>\n",
       "  </tbody>\n",
       "</table>\n",
       "<p>16689 rows × 14 columns</p>\n",
       "</div>"
      ],
      "text/plain": [
       "                영화명           감독        개봉일  영화유형 영화형태   국적  스크린수  \\\n",
       "0                명량          김한민 2014-07-30  개봉영화   장편   한국  1587   \n",
       "1              극한직업          이병헌 2019-01-23  개봉영화   장편   한국  1978   \n",
       "2         신과함께-죄와 벌          김용화 2017-12-20  개봉영화   장편   한국  1912   \n",
       "3              국제시장          윤제균 2014-12-17  개봉영화   장편   한국   966   \n",
       "4        어벤져스: 엔드게임  안소니 루소,조 루소 2019-04-24  개봉영화   장편   미국  2835   \n",
       "...             ...          ...        ...   ...  ...  ...   ...   \n",
       "16684  친구여, 조용히 잠들라          최양일        NaT   NaN  NaN  NaN   NaN   \n",
       "16685    큐폴라가 있는 거리     우라야마 기리로        NaT   NaN  NaN  NaN   NaN   \n",
       "16686           인디아    로베르토 로셀리니        NaT   NaN  NaN  NaN   NaN   \n",
       "16687            선거          김지영        NaT   NaN  NaN  NaN   NaN   \n",
       "16688          점입가경          문성일        NaT   NaN  NaN  NaN   NaN   \n",
       "\n",
       "                매출액       관객수        등급  영화구분      제작국가  유형     장르  \n",
       "0      135748398910  17613682  15세이상관람가  일반영화        한국  장편     사극  \n",
       "1      139647979516  16264944  15세이상관람가  일반영화        한국  장편    코미디  \n",
       "2      115698654137  14410754  12세이상관람가  일반영화        한국  장편    판타지  \n",
       "3      110828014630  14245998  12세이상관람가  일반영화        한국  장편    드라마  \n",
       "4      122182694160  13934592  12세이상관람가  일반영화        미국  장편     액션  \n",
       "...             ...       ...       ...   ...       ...  ..    ...  \n",
       "16684           NaN       NaN       NaN   NaN        일본  장편    스릴러  \n",
       "16685           NaN       NaN       NaN   NaN        일본  장편    드라마  \n",
       "16686           NaN       NaN       NaN   NaN  프랑스,이탈리아  기타    nan  \n",
       "16687           NaN       NaN       NaN   NaN        일본  장편  다큐멘터리  \n",
       "16688           NaN       NaN       NaN   NaN        한국  장편    nan  \n",
       "\n",
       "[16689 rows x 14 columns]"
      ]
     },
     "execution_count": 139,
     "metadata": {},
     "output_type": "execute_result"
    }
   ],
   "source": [
    "from tqdm import tqdm\n",
    "movie = pd.merge(df, df1, on=[\"영화명\", \"감독\"], how=\"outer\").reset_index(drop=True)\n",
    "movie[\"장르\"] = movie[\"장르\"].fillna(\"nan\")\n",
    "new_name = []\n",
    "for i in tqdm(range(len(movie))):\n",
    "    str_name = movie.loc[i][\"장르\"]\n",
    "    str_name_2 = str_name.split(',')\n",
    "    new_name.append(str_name_2[0])\n",
    "print(len(new_name))\n",
    "movie['장르'] = new_name\n",
    "movie\n",
    "movie = movie.dropna(subset=[\"감독\"]).reset_index(drop=True)\n",
    "movie"
   ]
  },
  {
   "cell_type": "code",
   "execution_count": 132,
   "id": "bfe752e6",
   "metadata": {},
   "outputs": [],
   "source": [
    "# movie.to_csv('NEW_DataFrame_MOVIES_DATAFRAME.csv',encoding=\"utf-8-sig\", index=False)"
   ]
  },
  {
   "cell_type": "code",
   "execution_count": 140,
   "id": "4ec23989",
   "metadata": {},
   "outputs": [
    {
     "data": {
      "text/plain": [
       "영화명       0\n",
       "감독        0\n",
       "개봉일     595\n",
       "영화유형    585\n",
       "영화형태    586\n",
       "국적      585\n",
       "스크린수    585\n",
       "매출액     707\n",
       "관객수     585\n",
       "등급      599\n",
       "영화구분    585\n",
       "제작국가    258\n",
       "유형      259\n",
       "장르        0\n",
       "dtype: int64"
      ]
     },
     "execution_count": 140,
     "metadata": {},
     "output_type": "execute_result"
    }
   ],
   "source": [
    "movie.isnull().sum()"
   ]
  },
  {
   "cell_type": "code",
   "execution_count": 141,
   "id": "6236fd60",
   "metadata": {},
   "outputs": [
    {
     "name": "stdout",
     "output_type": "stream",
     "text": [
      "<class 'pandas.core.frame.DataFrame'>\n",
      "RangeIndex: 16689 entries, 0 to 16688\n",
      "Data columns (total 14 columns):\n",
      " #   Column  Non-Null Count  Dtype         \n",
      "---  ------  --------------  -----         \n",
      " 0   영화명     16689 non-null  object        \n",
      " 1   감독      16689 non-null  object        \n",
      " 2   개봉일     16094 non-null  datetime64[ns]\n",
      " 3   영화유형    16104 non-null  object        \n",
      " 4   영화형태    16103 non-null  object        \n",
      " 5   국적      16104 non-null  object        \n",
      " 6   스크린수    16104 non-null  object        \n",
      " 7   매출액     15982 non-null  object        \n",
      " 8   관객수     16104 non-null  object        \n",
      " 9   등급      16090 non-null  object        \n",
      " 10  영화구분    16104 non-null  object        \n",
      " 11  제작국가    16431 non-null  object        \n",
      " 12  유형      16430 non-null  object        \n",
      " 13  장르      16689 non-null  object        \n",
      "dtypes: datetime64[ns](1), object(13)\n",
      "memory usage: 1.8+ MB\n"
     ]
    }
   ],
   "source": [
    "tmovie.info()"
   ]
  },
  {
   "cell_type": "code",
   "execution_count": 149,
   "id": "4a31d311",
   "metadata": {},
   "outputs": [],
   "source": [
    "movie = movie.dropna()"
   ]
  },
  {
   "cell_type": "code",
   "execution_count": 150,
   "id": "51fb8fec",
   "metadata": {},
   "outputs": [
    {
     "data": {
      "text/html": [
       "<div>\n",
       "<style scoped>\n",
       "    .dataframe tbody tr th:only-of-type {\n",
       "        vertical-align: middle;\n",
       "    }\n",
       "\n",
       "    .dataframe tbody tr th {\n",
       "        vertical-align: top;\n",
       "    }\n",
       "\n",
       "    .dataframe thead th {\n",
       "        text-align: right;\n",
       "    }\n",
       "</style>\n",
       "<table border=\"1\" class=\"dataframe\">\n",
       "  <thead>\n",
       "    <tr style=\"text-align: right;\">\n",
       "      <th></th>\n",
       "      <th>영화명</th>\n",
       "      <th>감독</th>\n",
       "      <th>개봉일</th>\n",
       "      <th>영화유형</th>\n",
       "      <th>영화형태</th>\n",
       "      <th>국적</th>\n",
       "      <th>스크린수</th>\n",
       "      <th>매출액</th>\n",
       "      <th>관객수</th>\n",
       "      <th>등급</th>\n",
       "      <th>영화구분</th>\n",
       "      <th>제작국가</th>\n",
       "      <th>유형</th>\n",
       "      <th>장르</th>\n",
       "    </tr>\n",
       "  </thead>\n",
       "  <tbody>\n",
       "    <tr>\n",
       "      <th>0</th>\n",
       "      <td>명량</td>\n",
       "      <td>김한민</td>\n",
       "      <td>2014-07-30</td>\n",
       "      <td>개봉영화</td>\n",
       "      <td>장편</td>\n",
       "      <td>한국</td>\n",
       "      <td>1587</td>\n",
       "      <td>135748398910</td>\n",
       "      <td>17613682</td>\n",
       "      <td>15세이상관람가</td>\n",
       "      <td>일반영화</td>\n",
       "      <td>한국</td>\n",
       "      <td>장편</td>\n",
       "      <td>사극</td>\n",
       "    </tr>\n",
       "    <tr>\n",
       "      <th>1</th>\n",
       "      <td>극한직업</td>\n",
       "      <td>이병헌</td>\n",
       "      <td>2019-01-23</td>\n",
       "      <td>개봉영화</td>\n",
       "      <td>장편</td>\n",
       "      <td>한국</td>\n",
       "      <td>1978</td>\n",
       "      <td>139647979516</td>\n",
       "      <td>16264944</td>\n",
       "      <td>15세이상관람가</td>\n",
       "      <td>일반영화</td>\n",
       "      <td>한국</td>\n",
       "      <td>장편</td>\n",
       "      <td>코미디</td>\n",
       "    </tr>\n",
       "    <tr>\n",
       "      <th>2</th>\n",
       "      <td>신과함께-죄와 벌</td>\n",
       "      <td>김용화</td>\n",
       "      <td>2017-12-20</td>\n",
       "      <td>개봉영화</td>\n",
       "      <td>장편</td>\n",
       "      <td>한국</td>\n",
       "      <td>1912</td>\n",
       "      <td>115698654137</td>\n",
       "      <td>14410754</td>\n",
       "      <td>12세이상관람가</td>\n",
       "      <td>일반영화</td>\n",
       "      <td>한국</td>\n",
       "      <td>장편</td>\n",
       "      <td>판타지</td>\n",
       "    </tr>\n",
       "    <tr>\n",
       "      <th>3</th>\n",
       "      <td>국제시장</td>\n",
       "      <td>윤제균</td>\n",
       "      <td>2014-12-17</td>\n",
       "      <td>개봉영화</td>\n",
       "      <td>장편</td>\n",
       "      <td>한국</td>\n",
       "      <td>966</td>\n",
       "      <td>110828014630</td>\n",
       "      <td>14245998</td>\n",
       "      <td>12세이상관람가</td>\n",
       "      <td>일반영화</td>\n",
       "      <td>한국</td>\n",
       "      <td>장편</td>\n",
       "      <td>드라마</td>\n",
       "    </tr>\n",
       "    <tr>\n",
       "      <th>4</th>\n",
       "      <td>어벤져스: 엔드게임</td>\n",
       "      <td>안소니 루소,조 루소</td>\n",
       "      <td>2019-04-24</td>\n",
       "      <td>개봉영화</td>\n",
       "      <td>장편</td>\n",
       "      <td>미국</td>\n",
       "      <td>2835</td>\n",
       "      <td>122182694160</td>\n",
       "      <td>13934592</td>\n",
       "      <td>12세이상관람가</td>\n",
       "      <td>일반영화</td>\n",
       "      <td>미국</td>\n",
       "      <td>장편</td>\n",
       "      <td>액션</td>\n",
       "    </tr>\n",
       "    <tr>\n",
       "      <th>...</th>\n",
       "      <td>...</td>\n",
       "      <td>...</td>\n",
       "      <td>...</td>\n",
       "      <td>...</td>\n",
       "      <td>...</td>\n",
       "      <td>...</td>\n",
       "      <td>...</td>\n",
       "      <td>...</td>\n",
       "      <td>...</td>\n",
       "      <td>...</td>\n",
       "      <td>...</td>\n",
       "      <td>...</td>\n",
       "      <td>...</td>\n",
       "      <td>...</td>\n",
       "    </tr>\n",
       "    <tr>\n",
       "      <th>16097</th>\n",
       "      <td>ABC 아프리카</td>\n",
       "      <td>압바스 키아로스타미</td>\n",
       "      <td>2002-03-01</td>\n",
       "      <td>개봉영화</td>\n",
       "      <td>장편</td>\n",
       "      <td>이란</td>\n",
       "      <td>0</td>\n",
       "      <td>0</td>\n",
       "      <td>0</td>\n",
       "      <td>전체관람가</td>\n",
       "      <td>일반영화</td>\n",
       "      <td>이란</td>\n",
       "      <td>장편</td>\n",
       "      <td>다큐멘터리</td>\n",
       "    </tr>\n",
       "    <tr>\n",
       "      <th>16098</th>\n",
       "      <td>AD2000</td>\n",
       "      <td>진가상</td>\n",
       "      <td>2000-09-23</td>\n",
       "      <td>개봉영화</td>\n",
       "      <td>장편</td>\n",
       "      <td>홍콩</td>\n",
       "      <td>0</td>\n",
       "      <td>0</td>\n",
       "      <td>0</td>\n",
       "      <td>15세관람가</td>\n",
       "      <td>일반영화</td>\n",
       "      <td>홍콩,싱가포르</td>\n",
       "      <td>장편</td>\n",
       "      <td>액션</td>\n",
       "    </tr>\n",
       "    <tr>\n",
       "      <th>16099</th>\n",
       "      <td>D-13</td>\n",
       "      <td>로저 도널드슨</td>\n",
       "      <td>2001-06-01</td>\n",
       "      <td>개봉영화</td>\n",
       "      <td>장편</td>\n",
       "      <td>미국</td>\n",
       "      <td>0</td>\n",
       "      <td>0</td>\n",
       "      <td>0</td>\n",
       "      <td>전체관람가</td>\n",
       "      <td>일반영화</td>\n",
       "      <td>미국</td>\n",
       "      <td>장편</td>\n",
       "      <td>드라마</td>\n",
       "    </tr>\n",
       "    <tr>\n",
       "      <th>16101</th>\n",
       "      <td>GO(고)</td>\n",
       "      <td>유키사다 이사오</td>\n",
       "      <td>2001-11-23</td>\n",
       "      <td>개봉영화</td>\n",
       "      <td>장편</td>\n",
       "      <td>한국</td>\n",
       "      <td>0</td>\n",
       "      <td>0</td>\n",
       "      <td>0</td>\n",
       "      <td>15세관람가</td>\n",
       "      <td>독립/예술영화</td>\n",
       "      <td>한국,일본,미국</td>\n",
       "      <td>장편</td>\n",
       "      <td>드라마</td>\n",
       "    </tr>\n",
       "    <tr>\n",
       "      <th>16102</th>\n",
       "      <td>K-19</td>\n",
       "      <td>캐서린 비글로우</td>\n",
       "      <td>2002-10-03</td>\n",
       "      <td>개봉영화</td>\n",
       "      <td>장편</td>\n",
       "      <td>미국</td>\n",
       "      <td>0</td>\n",
       "      <td>0</td>\n",
       "      <td>0</td>\n",
       "      <td>12세관람가</td>\n",
       "      <td>일반영화</td>\n",
       "      <td>미국</td>\n",
       "      <td>장편</td>\n",
       "      <td>드라마</td>\n",
       "    </tr>\n",
       "  </tbody>\n",
       "</table>\n",
       "<p>15716 rows × 14 columns</p>\n",
       "</div>"
      ],
      "text/plain": [
       "              영화명           감독        개봉일  영화유형 영화형태  국적  스크린수           매출액  \\\n",
       "0              명량          김한민 2014-07-30  개봉영화   장편  한국  1587  135748398910   \n",
       "1            극한직업          이병헌 2019-01-23  개봉영화   장편  한국  1978  139647979516   \n",
       "2       신과함께-죄와 벌          김용화 2017-12-20  개봉영화   장편  한국  1912  115698654137   \n",
       "3            국제시장          윤제균 2014-12-17  개봉영화   장편  한국   966  110828014630   \n",
       "4      어벤져스: 엔드게임  안소니 루소,조 루소 2019-04-24  개봉영화   장편  미국  2835  122182694160   \n",
       "...           ...          ...        ...   ...  ...  ..   ...           ...   \n",
       "16097    ABC 아프리카   압바스 키아로스타미 2002-03-01  개봉영화   장편  이란     0             0   \n",
       "16098      AD2000          진가상 2000-09-23  개봉영화   장편  홍콩     0             0   \n",
       "16099        D-13      로저 도널드슨 2001-06-01  개봉영화   장편  미국     0             0   \n",
       "16101       GO(고)     유키사다 이사오 2001-11-23  개봉영화   장편  한국     0             0   \n",
       "16102        K-19     캐서린 비글로우 2002-10-03  개봉영화   장편  미국     0             0   \n",
       "\n",
       "            관객수        등급     영화구분      제작국가  유형     장르  \n",
       "0      17613682  15세이상관람가     일반영화        한국  장편     사극  \n",
       "1      16264944  15세이상관람가     일반영화        한국  장편    코미디  \n",
       "2      14410754  12세이상관람가     일반영화        한국  장편    판타지  \n",
       "3      14245998  12세이상관람가     일반영화        한국  장편    드라마  \n",
       "4      13934592  12세이상관람가     일반영화        미국  장편     액션  \n",
       "...         ...       ...      ...       ...  ..    ...  \n",
       "16097         0     전체관람가     일반영화        이란  장편  다큐멘터리  \n",
       "16098         0    15세관람가     일반영화   홍콩,싱가포르  장편     액션  \n",
       "16099         0     전체관람가     일반영화        미국  장편    드라마  \n",
       "16101         0    15세관람가  독립/예술영화  한국,일본,미국  장편    드라마  \n",
       "16102         0    12세관람가     일반영화        미국  장편    드라마  \n",
       "\n",
       "[15716 rows x 14 columns]"
      ]
     },
     "execution_count": 150,
     "metadata": {},
     "output_type": "execute_result"
    }
   ],
   "source": [
    "movie"
   ]
  },
  {
   "cell_type": "code",
   "execution_count": 173,
   "metadata": {},
   "outputs": [
    {
     "data": {
      "text/html": [
       "<div>\n",
       "<style scoped>\n",
       "    .dataframe tbody tr th:only-of-type {\n",
       "        vertical-align: middle;\n",
       "    }\n",
       "\n",
       "    .dataframe tbody tr th {\n",
       "        vertical-align: top;\n",
       "    }\n",
       "\n",
       "    .dataframe thead th {\n",
       "        text-align: right;\n",
       "    }\n",
       "</style>\n",
       "<table border=\"1\" class=\"dataframe\">\n",
       "  <thead>\n",
       "    <tr style=\"text-align: right;\">\n",
       "      <th></th>\n",
       "      <th>영화명</th>\n",
       "      <th>감독</th>\n",
       "      <th>개봉일</th>\n",
       "      <th>영화유형</th>\n",
       "      <th>영화형태</th>\n",
       "      <th>국적</th>\n",
       "      <th>스크린수</th>\n",
       "      <th>매출액</th>\n",
       "      <th>관객수</th>\n",
       "      <th>등급</th>\n",
       "      <th>영화구분</th>\n",
       "      <th>제작국가</th>\n",
       "      <th>유형</th>\n",
       "      <th>장르</th>\n",
       "    </tr>\n",
       "  </thead>\n",
       "  <tbody>\n",
       "    <tr>\n",
       "      <th>0</th>\n",
       "      <td>명량</td>\n",
       "      <td>김한민</td>\n",
       "      <td>2014-07-30</td>\n",
       "      <td>개봉영화</td>\n",
       "      <td>장편</td>\n",
       "      <td>한국</td>\n",
       "      <td>1587</td>\n",
       "      <td>135748398910</td>\n",
       "      <td>17613682</td>\n",
       "      <td>15세이상관람가</td>\n",
       "      <td>일반영화</td>\n",
       "      <td>한국</td>\n",
       "      <td>장편</td>\n",
       "      <td>사극</td>\n",
       "    </tr>\n",
       "    <tr>\n",
       "      <th>1</th>\n",
       "      <td>극한직업</td>\n",
       "      <td>이병헌</td>\n",
       "      <td>2019-01-23</td>\n",
       "      <td>개봉영화</td>\n",
       "      <td>장편</td>\n",
       "      <td>한국</td>\n",
       "      <td>1978</td>\n",
       "      <td>139647979516</td>\n",
       "      <td>16264944</td>\n",
       "      <td>15세이상관람가</td>\n",
       "      <td>일반영화</td>\n",
       "      <td>한국</td>\n",
       "      <td>장편</td>\n",
       "      <td>코미디</td>\n",
       "    </tr>\n",
       "    <tr>\n",
       "      <th>2</th>\n",
       "      <td>신과함께-죄와 벌</td>\n",
       "      <td>김용화</td>\n",
       "      <td>2017-12-20</td>\n",
       "      <td>개봉영화</td>\n",
       "      <td>장편</td>\n",
       "      <td>한국</td>\n",
       "      <td>1912</td>\n",
       "      <td>115698654137</td>\n",
       "      <td>14410754</td>\n",
       "      <td>12세이상관람가</td>\n",
       "      <td>일반영화</td>\n",
       "      <td>한국</td>\n",
       "      <td>장편</td>\n",
       "      <td>판타지</td>\n",
       "    </tr>\n",
       "    <tr>\n",
       "      <th>3</th>\n",
       "      <td>국제시장</td>\n",
       "      <td>윤제균</td>\n",
       "      <td>2014-12-17</td>\n",
       "      <td>개봉영화</td>\n",
       "      <td>장편</td>\n",
       "      <td>한국</td>\n",
       "      <td>966</td>\n",
       "      <td>110828014630</td>\n",
       "      <td>14245998</td>\n",
       "      <td>12세이상관람가</td>\n",
       "      <td>일반영화</td>\n",
       "      <td>한국</td>\n",
       "      <td>장편</td>\n",
       "      <td>드라마</td>\n",
       "    </tr>\n",
       "    <tr>\n",
       "      <th>4</th>\n",
       "      <td>어벤져스: 엔드게임</td>\n",
       "      <td>안소니 루소,조 루소</td>\n",
       "      <td>2019-04-24</td>\n",
       "      <td>개봉영화</td>\n",
       "      <td>장편</td>\n",
       "      <td>미국</td>\n",
       "      <td>2835</td>\n",
       "      <td>122182694160</td>\n",
       "      <td>13934592</td>\n",
       "      <td>12세이상관람가</td>\n",
       "      <td>일반영화</td>\n",
       "      <td>미국</td>\n",
       "      <td>장편</td>\n",
       "      <td>액션</td>\n",
       "    </tr>\n",
       "    <tr>\n",
       "      <th>...</th>\n",
       "      <td>...</td>\n",
       "      <td>...</td>\n",
       "      <td>...</td>\n",
       "      <td>...</td>\n",
       "      <td>...</td>\n",
       "      <td>...</td>\n",
       "      <td>...</td>\n",
       "      <td>...</td>\n",
       "      <td>...</td>\n",
       "      <td>...</td>\n",
       "      <td>...</td>\n",
       "      <td>...</td>\n",
       "      <td>...</td>\n",
       "      <td>...</td>\n",
       "    </tr>\n",
       "    <tr>\n",
       "      <th>14872</th>\n",
       "      <td>S걸의 덫</td>\n",
       "      <td>그레고리 하타나카</td>\n",
       "      <td>2018-04-10</td>\n",
       "      <td>개봉영화</td>\n",
       "      <td>장편</td>\n",
       "      <td>브라질</td>\n",
       "      <td>1</td>\n",
       "      <td>1000</td>\n",
       "      <td>1</td>\n",
       "      <td>청소년관람불가</td>\n",
       "      <td>일반영화</td>\n",
       "      <td>브라질</td>\n",
       "      <td>장편</td>\n",
       "      <td>멜로/로맨스</td>\n",
       "    </tr>\n",
       "    <tr>\n",
       "      <th>14873</th>\n",
       "      <td>T-34</td>\n",
       "      <td>알렉세이 시도로프</td>\n",
       "      <td>2019-06-27</td>\n",
       "      <td>개봉영화</td>\n",
       "      <td>장편</td>\n",
       "      <td>러시아</td>\n",
       "      <td>1</td>\n",
       "      <td>5000</td>\n",
       "      <td>1</td>\n",
       "      <td>12세이상관람가</td>\n",
       "      <td>독립/예술영화</td>\n",
       "      <td>러시아</td>\n",
       "      <td>장편</td>\n",
       "      <td>전쟁</td>\n",
       "    </tr>\n",
       "    <tr>\n",
       "      <th>14874</th>\n",
       "      <td>VIP전용 여자</td>\n",
       "      <td>카네다 사토시</td>\n",
       "      <td>2016-12-01</td>\n",
       "      <td>개봉영화</td>\n",
       "      <td>장편</td>\n",
       "      <td>일본</td>\n",
       "      <td>1</td>\n",
       "      <td>8000</td>\n",
       "      <td>1</td>\n",
       "      <td>청소년관람불가</td>\n",
       "      <td>일반영화</td>\n",
       "      <td>일본</td>\n",
       "      <td>장편</td>\n",
       "      <td>성인물(에로)</td>\n",
       "    </tr>\n",
       "    <tr>\n",
       "      <th>14875</th>\n",
       "      <td>VJ의 은밀한 사생활</td>\n",
       "      <td>오카다 히로</td>\n",
       "      <td>2017-12-25</td>\n",
       "      <td>개봉영화</td>\n",
       "      <td>장편</td>\n",
       "      <td>일본</td>\n",
       "      <td>1</td>\n",
       "      <td>6000</td>\n",
       "      <td>1</td>\n",
       "      <td>청소년관람불가</td>\n",
       "      <td>일반영화</td>\n",
       "      <td>일본</td>\n",
       "      <td>장편</td>\n",
       "      <td>멜로/로맨스</td>\n",
       "    </tr>\n",
       "    <tr>\n",
       "      <th>14876</th>\n",
       "      <td>av감독의 아내</td>\n",
       "      <td>쿠도 마사노리</td>\n",
       "      <td>2016-12-22</td>\n",
       "      <td>개봉영화</td>\n",
       "      <td>장편</td>\n",
       "      <td>일본</td>\n",
       "      <td>1</td>\n",
       "      <td>8000</td>\n",
       "      <td>1</td>\n",
       "      <td>청소년관람불가</td>\n",
       "      <td>일반영화</td>\n",
       "      <td>일본</td>\n",
       "      <td>장편</td>\n",
       "      <td>성인물(에로)</td>\n",
       "    </tr>\n",
       "  </tbody>\n",
       "</table>\n",
       "<p>14877 rows × 14 columns</p>\n",
       "</div>"
      ],
      "text/plain": [
       "               영화명           감독        개봉일  영화유형 영화형태   국적  스크린수  \\\n",
       "0               명량          김한민 2014-07-30  개봉영화   장편   한국  1587   \n",
       "1             극한직업          이병헌 2019-01-23  개봉영화   장편   한국  1978   \n",
       "2        신과함께-죄와 벌          김용화 2017-12-20  개봉영화   장편   한국  1912   \n",
       "3             국제시장          윤제균 2014-12-17  개봉영화   장편   한국   966   \n",
       "4       어벤져스: 엔드게임  안소니 루소,조 루소 2019-04-24  개봉영화   장편   미국  2835   \n",
       "...            ...          ...        ...   ...  ...  ...   ...   \n",
       "14872        S걸의 덫    그레고리 하타나카 2018-04-10  개봉영화   장편  브라질     1   \n",
       "14873         T-34    알렉세이 시도로프 2019-06-27  개봉영화   장편  러시아     1   \n",
       "14874     VIP전용 여자      카네다 사토시 2016-12-01  개봉영화   장편   일본     1   \n",
       "14875  VJ의 은밀한 사생활       오카다 히로 2017-12-25  개봉영화   장편   일본     1   \n",
       "14876     av감독의 아내      쿠도 마사노리 2016-12-22  개봉영화   장편   일본     1   \n",
       "\n",
       "                매출액       관객수        등급     영화구분 제작국가  유형       장르  \n",
       "0      135748398910  17613682  15세이상관람가     일반영화   한국  장편       사극  \n",
       "1      139647979516  16264944  15세이상관람가     일반영화   한국  장편      코미디  \n",
       "2      115698654137  14410754  12세이상관람가     일반영화   한국  장편      판타지  \n",
       "3      110828014630  14245998  12세이상관람가     일반영화   한국  장편      드라마  \n",
       "4      122182694160  13934592  12세이상관람가     일반영화   미국  장편       액션  \n",
       "...             ...       ...       ...      ...  ...  ..      ...  \n",
       "14872          1000         1   청소년관람불가     일반영화  브라질  장편   멜로/로맨스  \n",
       "14873          5000         1  12세이상관람가  독립/예술영화  러시아  장편       전쟁  \n",
       "14874          8000         1   청소년관람불가     일반영화   일본  장편  성인물(에로)  \n",
       "14875          6000         1   청소년관람불가     일반영화   일본  장편   멜로/로맨스  \n",
       "14876          8000         1   청소년관람불가     일반영화   일본  장편  성인물(에로)  \n",
       "\n",
       "[14877 rows x 14 columns]"
      ]
     },
     "execution_count": 173,
     "metadata": {},
     "output_type": "execute_result"
    }
   ],
   "source": [
    "df = movie[movie[\"관객수\"]!= 0].reset_index(drop=True)\n",
    "df"
   ]
  },
  {
   "cell_type": "code",
   "execution_count": 168,
   "id": "bbbb39c9",
   "metadata": {},
   "outputs": [
    {
     "data": {
      "text/plain": [
       "멜로/로맨스      1856\n",
       "성인물(에로)      988\n",
       "드라마          359\n",
       "액션           257\n",
       "공포(호러)       170\n",
       "스릴러           59\n",
       "SF            48\n",
       "nan           46\n",
       "코미디           44\n",
       "기타            43\n",
       "범죄            35\n",
       "전쟁            23\n",
       "미스터리          12\n",
       "어드벤처          12\n",
       "판타지            9\n",
       "애니메이션          8\n",
       "서부극(웨스턴)       5\n",
       "다큐멘터리          3\n",
       "가족             2\n",
       "Name: 장르, dtype: int64"
      ]
     },
     "execution_count": 168,
     "metadata": {},
     "output_type": "execute_result"
    }
   ],
   "source": [
    "df[df[\"관객수\"]==1].reset_index(drop=True)[\"장르\"].value_counts()"
   ]
  },
  {
   "cell_type": "code",
   "execution_count": 169,
   "id": "3c3219d0",
   "metadata": {},
   "outputs": [
    {
     "data": {
      "text/plain": [
       "멜로/로맨스     165\n",
       "성인물(에로)     88\n",
       "액션          38\n",
       "드라마         27\n",
       "공포(호러)      16\n",
       "코미디         14\n",
       "스릴러         13\n",
       "SF          12\n",
       "미스터리         5\n",
       "범죄           4\n",
       "어드벤처         4\n",
       "애니메이션        3\n",
       "전쟁           3\n",
       "기타           2\n",
       "판타지          2\n",
       "사극           1\n",
       "nan          1\n",
       "Name: 장르, dtype: int64"
      ]
     },
     "execution_count": 169,
     "metadata": {},
     "output_type": "execute_result"
    }
   ],
   "source": [
    "df[df[\"관객수\"]==10].reset_index(drop=True)[\"장르\"].value_counts()"
   ]
  },
  {
   "cell_type": "code",
   "execution_count": 170,
   "id": "b45238fd",
   "metadata": {},
   "outputs": [
    {
     "data": {
      "text/plain": [
       "멜로/로맨스     103\n",
       "성인물(에로)     29\n",
       "드라마         16\n",
       "액션           6\n",
       "공포(호러)       5\n",
       "SF           3\n",
       "미스터리         2\n",
       "기타           2\n",
       "범죄           2\n",
       "스릴러          2\n",
       "어드벤처         1\n",
       "코미디          1\n",
       "판타지          1\n",
       "Name: 장르, dtype: int64"
      ]
     },
     "execution_count": 170,
     "metadata": {},
     "output_type": "execute_result"
    }
   ],
   "source": [
    "df[df[\"관객수\"]==20].reset_index(drop=True)[\"장르\"].value_counts()"
   ]
  },
  {
   "cell_type": "markdown",
   "id": "212698ff",
   "metadata": {},
   "source": [
    "# 관개수 기준 10개 이상 본유저와 10개 미만"
   ]
  },
  {
   "cell_type": "code",
   "execution_count": 171,
   "id": "57aa47b0",
   "metadata": {},
   "outputs": [
    {
     "name": "stdout",
     "output_type": "stream",
     "text": [
      "(4242, 14)\n",
      "(10635, 14)\n"
     ]
    }
   ],
   "source": [
    "# df_9  = df[df[\"관객수\"]<5].reset_index(drop=True)\n",
    "# df = df[df[\"관객수\"]>=5].reset_index(drop=True)\n",
    "\n",
    "# print(df_9.shape)\n",
    "# print(df.shape)"
   ]
  },
  {
   "cell_type": "code",
   "execution_count": 172,
   "id": "e8386879",
   "metadata": {},
   "outputs": [
    {
     "data": {
      "text/html": [
       "<div>\n",
       "<style scoped>\n",
       "    .dataframe tbody tr th:only-of-type {\n",
       "        vertical-align: middle;\n",
       "    }\n",
       "\n",
       "    .dataframe tbody tr th {\n",
       "        vertical-align: top;\n",
       "    }\n",
       "\n",
       "    .dataframe thead th {\n",
       "        text-align: right;\n",
       "    }\n",
       "</style>\n",
       "<table border=\"1\" class=\"dataframe\">\n",
       "  <thead>\n",
       "    <tr style=\"text-align: right;\">\n",
       "      <th></th>\n",
       "      <th>영화명</th>\n",
       "      <th>감독</th>\n",
       "      <th>개봉일</th>\n",
       "      <th>영화유형</th>\n",
       "      <th>영화형태</th>\n",
       "      <th>국적</th>\n",
       "      <th>스크린수</th>\n",
       "      <th>매출액</th>\n",
       "      <th>관객수</th>\n",
       "      <th>등급</th>\n",
       "      <th>영화구분</th>\n",
       "      <th>제작국가</th>\n",
       "      <th>유형</th>\n",
       "      <th>장르</th>\n",
       "    </tr>\n",
       "  </thead>\n",
       "  <tbody>\n",
       "    <tr>\n",
       "      <th>0</th>\n",
       "      <td>가자! 장미여관으로 3 - 방황 무삭제 감독판</td>\n",
       "      <td>김봉은</td>\n",
       "      <td>2015-01-15</td>\n",
       "      <td>개봉영화</td>\n",
       "      <td>장편</td>\n",
       "      <td>한국</td>\n",
       "      <td>2</td>\n",
       "      <td>28000</td>\n",
       "      <td>4</td>\n",
       "      <td>청소년관람불가</td>\n",
       "      <td>일반영화</td>\n",
       "      <td>한국</td>\n",
       "      <td>장편</td>\n",
       "      <td>멜로/로맨스</td>\n",
       "    </tr>\n",
       "    <tr>\n",
       "      <th>1</th>\n",
       "      <td>거유형수는 치과의사</td>\n",
       "      <td>와타나베 고로</td>\n",
       "      <td>2017-09-14</td>\n",
       "      <td>개봉영화</td>\n",
       "      <td>장편</td>\n",
       "      <td>일본</td>\n",
       "      <td>1</td>\n",
       "      <td>20000</td>\n",
       "      <td>4</td>\n",
       "      <td>청소년관람불가</td>\n",
       "      <td>일반영화</td>\n",
       "      <td>일본</td>\n",
       "      <td>장편</td>\n",
       "      <td>성인물(에로)</td>\n",
       "    </tr>\n",
       "    <tr>\n",
       "      <th>2</th>\n",
       "      <td>깨끗한 유부녀</td>\n",
       "      <td>쿠로사와 다이스케</td>\n",
       "      <td>2017-08-31</td>\n",
       "      <td>개봉영화</td>\n",
       "      <td>장편</td>\n",
       "      <td>일본</td>\n",
       "      <td>1</td>\n",
       "      <td>24000</td>\n",
       "      <td>4</td>\n",
       "      <td>청소년관람불가</td>\n",
       "      <td>일반영화</td>\n",
       "      <td>일본</td>\n",
       "      <td>장편</td>\n",
       "      <td>드라마</td>\n",
       "    </tr>\n",
       "    <tr>\n",
       "      <th>3</th>\n",
       "      <td>남편을 위해 산 속옷이지만</td>\n",
       "      <td>아카바네 키쿠지로</td>\n",
       "      <td>2017-11-09</td>\n",
       "      <td>개봉영화</td>\n",
       "      <td>장편</td>\n",
       "      <td>일본</td>\n",
       "      <td>1</td>\n",
       "      <td>24000</td>\n",
       "      <td>4</td>\n",
       "      <td>청소년관람불가</td>\n",
       "      <td>일반영화</td>\n",
       "      <td>일본</td>\n",
       "      <td>장편</td>\n",
       "      <td>성인물(에로)</td>\n",
       "    </tr>\n",
       "    <tr>\n",
       "      <th>4</th>\n",
       "      <td>네 무덤에 침을 뱉어라</td>\n",
       "      <td>스티븐 R. 몬로</td>\n",
       "      <td>2012-06-28</td>\n",
       "      <td>개봉영화</td>\n",
       "      <td>장편</td>\n",
       "      <td>미국</td>\n",
       "      <td>1</td>\n",
       "      <td>28000</td>\n",
       "      <td>4</td>\n",
       "      <td>청소년관람불가</td>\n",
       "      <td>일반영화</td>\n",
       "      <td>미국</td>\n",
       "      <td>장편</td>\n",
       "      <td>공포(호러)</td>\n",
       "    </tr>\n",
       "    <tr>\n",
       "      <th>...</th>\n",
       "      <td>...</td>\n",
       "      <td>...</td>\n",
       "      <td>...</td>\n",
       "      <td>...</td>\n",
       "      <td>...</td>\n",
       "      <td>...</td>\n",
       "      <td>...</td>\n",
       "      <td>...</td>\n",
       "      <td>...</td>\n",
       "      <td>...</td>\n",
       "      <td>...</td>\n",
       "      <td>...</td>\n",
       "      <td>...</td>\n",
       "      <td>...</td>\n",
       "    </tr>\n",
       "    <tr>\n",
       "      <th>4237</th>\n",
       "      <td>S걸의 덫</td>\n",
       "      <td>그레고리 하타나카</td>\n",
       "      <td>2018-04-10</td>\n",
       "      <td>개봉영화</td>\n",
       "      <td>장편</td>\n",
       "      <td>브라질</td>\n",
       "      <td>1</td>\n",
       "      <td>1000</td>\n",
       "      <td>1</td>\n",
       "      <td>청소년관람불가</td>\n",
       "      <td>일반영화</td>\n",
       "      <td>브라질</td>\n",
       "      <td>장편</td>\n",
       "      <td>멜로/로맨스</td>\n",
       "    </tr>\n",
       "    <tr>\n",
       "      <th>4238</th>\n",
       "      <td>T-34</td>\n",
       "      <td>알렉세이 시도로프</td>\n",
       "      <td>2019-06-27</td>\n",
       "      <td>개봉영화</td>\n",
       "      <td>장편</td>\n",
       "      <td>러시아</td>\n",
       "      <td>1</td>\n",
       "      <td>5000</td>\n",
       "      <td>1</td>\n",
       "      <td>12세이상관람가</td>\n",
       "      <td>독립/예술영화</td>\n",
       "      <td>러시아</td>\n",
       "      <td>장편</td>\n",
       "      <td>전쟁</td>\n",
       "    </tr>\n",
       "    <tr>\n",
       "      <th>4239</th>\n",
       "      <td>VIP전용 여자</td>\n",
       "      <td>카네다 사토시</td>\n",
       "      <td>2016-12-01</td>\n",
       "      <td>개봉영화</td>\n",
       "      <td>장편</td>\n",
       "      <td>일본</td>\n",
       "      <td>1</td>\n",
       "      <td>8000</td>\n",
       "      <td>1</td>\n",
       "      <td>청소년관람불가</td>\n",
       "      <td>일반영화</td>\n",
       "      <td>일본</td>\n",
       "      <td>장편</td>\n",
       "      <td>성인물(에로)</td>\n",
       "    </tr>\n",
       "    <tr>\n",
       "      <th>4240</th>\n",
       "      <td>VJ의 은밀한 사생활</td>\n",
       "      <td>오카다 히로</td>\n",
       "      <td>2017-12-25</td>\n",
       "      <td>개봉영화</td>\n",
       "      <td>장편</td>\n",
       "      <td>일본</td>\n",
       "      <td>1</td>\n",
       "      <td>6000</td>\n",
       "      <td>1</td>\n",
       "      <td>청소년관람불가</td>\n",
       "      <td>일반영화</td>\n",
       "      <td>일본</td>\n",
       "      <td>장편</td>\n",
       "      <td>멜로/로맨스</td>\n",
       "    </tr>\n",
       "    <tr>\n",
       "      <th>4241</th>\n",
       "      <td>av감독의 아내</td>\n",
       "      <td>쿠도 마사노리</td>\n",
       "      <td>2016-12-22</td>\n",
       "      <td>개봉영화</td>\n",
       "      <td>장편</td>\n",
       "      <td>일본</td>\n",
       "      <td>1</td>\n",
       "      <td>8000</td>\n",
       "      <td>1</td>\n",
       "      <td>청소년관람불가</td>\n",
       "      <td>일반영화</td>\n",
       "      <td>일본</td>\n",
       "      <td>장편</td>\n",
       "      <td>성인물(에로)</td>\n",
       "    </tr>\n",
       "  </tbody>\n",
       "</table>\n",
       "<p>4242 rows × 14 columns</p>\n",
       "</div>"
      ],
      "text/plain": [
       "                            영화명         감독        개봉일  영화유형 영화형태   국적 스크린수  \\\n",
       "0     가자! 장미여관으로 3 - 방황 무삭제 감독판        김봉은 2015-01-15  개봉영화   장편   한국    2   \n",
       "1                    거유형수는 치과의사    와타나베 고로 2017-09-14  개봉영화   장편   일본    1   \n",
       "2                       깨끗한 유부녀  쿠로사와 다이스케 2017-08-31  개봉영화   장편   일본    1   \n",
       "3                남편을 위해 산 속옷이지만  아카바네 키쿠지로 2017-11-09  개봉영화   장편   일본    1   \n",
       "4                  네 무덤에 침을 뱉어라  스티븐 R. 몬로 2012-06-28  개봉영화   장편   미국    1   \n",
       "...                         ...        ...        ...   ...  ...  ...  ...   \n",
       "4237                      S걸의 덫  그레고리 하타나카 2018-04-10  개봉영화   장편  브라질    1   \n",
       "4238                       T-34  알렉세이 시도로프 2019-06-27  개봉영화   장편  러시아    1   \n",
       "4239                   VIP전용 여자    카네다 사토시 2016-12-01  개봉영화   장편   일본    1   \n",
       "4240                VJ의 은밀한 사생활     오카다 히로 2017-12-25  개봉영화   장편   일본    1   \n",
       "4241                   av감독의 아내    쿠도 마사노리 2016-12-22  개봉영화   장편   일본    1   \n",
       "\n",
       "        매출액 관객수        등급     영화구분 제작국가  유형       장르  \n",
       "0     28000   4   청소년관람불가     일반영화   한국  장편   멜로/로맨스  \n",
       "1     20000   4   청소년관람불가     일반영화   일본  장편  성인물(에로)  \n",
       "2     24000   4   청소년관람불가     일반영화   일본  장편      드라마  \n",
       "3     24000   4   청소년관람불가     일반영화   일본  장편  성인물(에로)  \n",
       "4     28000   4   청소년관람불가     일반영화   미국  장편   공포(호러)  \n",
       "...     ...  ..       ...      ...  ...  ..      ...  \n",
       "4237   1000   1   청소년관람불가     일반영화  브라질  장편   멜로/로맨스  \n",
       "4238   5000   1  12세이상관람가  독립/예술영화  러시아  장편       전쟁  \n",
       "4239   8000   1   청소년관람불가     일반영화   일본  장편  성인물(에로)  \n",
       "4240   6000   1   청소년관람불가     일반영화   일본  장편   멜로/로맨스  \n",
       "4241   8000   1   청소년관람불가     일반영화   일본  장편  성인물(에로)  \n",
       "\n",
       "[4242 rows x 14 columns]"
      ]
     },
     "execution_count": 172,
     "metadata": {},
     "output_type": "execute_result"
    }
   ],
   "source": [
    "df_9"
   ]
  },
  {
   "cell_type": "code",
   "execution_count": 174,
   "id": "c47129d4",
   "metadata": {},
   "outputs": [
    {
     "data": {
      "text/html": [
       "<div>\n",
       "<style scoped>\n",
       "    .dataframe tbody tr th:only-of-type {\n",
       "        vertical-align: middle;\n",
       "    }\n",
       "\n",
       "    .dataframe tbody tr th {\n",
       "        vertical-align: top;\n",
       "    }\n",
       "\n",
       "    .dataframe thead th {\n",
       "        text-align: right;\n",
       "    }\n",
       "</style>\n",
       "<table border=\"1\" class=\"dataframe\">\n",
       "  <thead>\n",
       "    <tr style=\"text-align: right;\">\n",
       "      <th></th>\n",
       "      <th>영화명</th>\n",
       "      <th>감독</th>\n",
       "      <th>개봉일</th>\n",
       "      <th>영화유형</th>\n",
       "      <th>영화형태</th>\n",
       "      <th>국적</th>\n",
       "      <th>스크린수</th>\n",
       "      <th>매출액</th>\n",
       "      <th>관객수</th>\n",
       "      <th>등급</th>\n",
       "      <th>영화구분</th>\n",
       "      <th>제작국가</th>\n",
       "      <th>유형</th>\n",
       "      <th>장르</th>\n",
       "    </tr>\n",
       "  </thead>\n",
       "  <tbody>\n",
       "    <tr>\n",
       "      <th>0</th>\n",
       "      <td>명량</td>\n",
       "      <td>김한민</td>\n",
       "      <td>2014-07-30</td>\n",
       "      <td>개봉영화</td>\n",
       "      <td>장편</td>\n",
       "      <td>한국</td>\n",
       "      <td>1587</td>\n",
       "      <td>135748398910</td>\n",
       "      <td>17613682</td>\n",
       "      <td>15세이상관람가</td>\n",
       "      <td>일반영화</td>\n",
       "      <td>한국</td>\n",
       "      <td>장편</td>\n",
       "      <td>사극</td>\n",
       "    </tr>\n",
       "    <tr>\n",
       "      <th>1</th>\n",
       "      <td>극한직업</td>\n",
       "      <td>이병헌</td>\n",
       "      <td>2019-01-23</td>\n",
       "      <td>개봉영화</td>\n",
       "      <td>장편</td>\n",
       "      <td>한국</td>\n",
       "      <td>1978</td>\n",
       "      <td>139647979516</td>\n",
       "      <td>16264944</td>\n",
       "      <td>15세이상관람가</td>\n",
       "      <td>일반영화</td>\n",
       "      <td>한국</td>\n",
       "      <td>장편</td>\n",
       "      <td>코미디</td>\n",
       "    </tr>\n",
       "    <tr>\n",
       "      <th>2</th>\n",
       "      <td>신과함께-죄와 벌</td>\n",
       "      <td>김용화</td>\n",
       "      <td>2017-12-20</td>\n",
       "      <td>개봉영화</td>\n",
       "      <td>장편</td>\n",
       "      <td>한국</td>\n",
       "      <td>1912</td>\n",
       "      <td>115698654137</td>\n",
       "      <td>14410754</td>\n",
       "      <td>12세이상관람가</td>\n",
       "      <td>일반영화</td>\n",
       "      <td>한국</td>\n",
       "      <td>장편</td>\n",
       "      <td>판타지</td>\n",
       "    </tr>\n",
       "    <tr>\n",
       "      <th>3</th>\n",
       "      <td>국제시장</td>\n",
       "      <td>윤제균</td>\n",
       "      <td>2014-12-17</td>\n",
       "      <td>개봉영화</td>\n",
       "      <td>장편</td>\n",
       "      <td>한국</td>\n",
       "      <td>966</td>\n",
       "      <td>110828014630</td>\n",
       "      <td>14245998</td>\n",
       "      <td>12세이상관람가</td>\n",
       "      <td>일반영화</td>\n",
       "      <td>한국</td>\n",
       "      <td>장편</td>\n",
       "      <td>드라마</td>\n",
       "    </tr>\n",
       "    <tr>\n",
       "      <th>4</th>\n",
       "      <td>어벤져스: 엔드게임</td>\n",
       "      <td>안소니 루소,조 루소</td>\n",
       "      <td>2019-04-24</td>\n",
       "      <td>개봉영화</td>\n",
       "      <td>장편</td>\n",
       "      <td>미국</td>\n",
       "      <td>2835</td>\n",
       "      <td>122182694160</td>\n",
       "      <td>13934592</td>\n",
       "      <td>12세이상관람가</td>\n",
       "      <td>일반영화</td>\n",
       "      <td>미국</td>\n",
       "      <td>장편</td>\n",
       "      <td>액션</td>\n",
       "    </tr>\n",
       "    <tr>\n",
       "      <th>...</th>\n",
       "      <td>...</td>\n",
       "      <td>...</td>\n",
       "      <td>...</td>\n",
       "      <td>...</td>\n",
       "      <td>...</td>\n",
       "      <td>...</td>\n",
       "      <td>...</td>\n",
       "      <td>...</td>\n",
       "      <td>...</td>\n",
       "      <td>...</td>\n",
       "      <td>...</td>\n",
       "      <td>...</td>\n",
       "      <td>...</td>\n",
       "      <td>...</td>\n",
       "    </tr>\n",
       "    <tr>\n",
       "      <th>14872</th>\n",
       "      <td>S걸의 덫</td>\n",
       "      <td>그레고리 하타나카</td>\n",
       "      <td>2018-04-10</td>\n",
       "      <td>개봉영화</td>\n",
       "      <td>장편</td>\n",
       "      <td>브라질</td>\n",
       "      <td>1</td>\n",
       "      <td>1000</td>\n",
       "      <td>1</td>\n",
       "      <td>청소년관람불가</td>\n",
       "      <td>일반영화</td>\n",
       "      <td>브라질</td>\n",
       "      <td>장편</td>\n",
       "      <td>멜로/로맨스</td>\n",
       "    </tr>\n",
       "    <tr>\n",
       "      <th>14873</th>\n",
       "      <td>T-34</td>\n",
       "      <td>알렉세이 시도로프</td>\n",
       "      <td>2019-06-27</td>\n",
       "      <td>개봉영화</td>\n",
       "      <td>장편</td>\n",
       "      <td>러시아</td>\n",
       "      <td>1</td>\n",
       "      <td>5000</td>\n",
       "      <td>1</td>\n",
       "      <td>12세이상관람가</td>\n",
       "      <td>독립/예술영화</td>\n",
       "      <td>러시아</td>\n",
       "      <td>장편</td>\n",
       "      <td>전쟁</td>\n",
       "    </tr>\n",
       "    <tr>\n",
       "      <th>14874</th>\n",
       "      <td>VIP전용 여자</td>\n",
       "      <td>카네다 사토시</td>\n",
       "      <td>2016-12-01</td>\n",
       "      <td>개봉영화</td>\n",
       "      <td>장편</td>\n",
       "      <td>일본</td>\n",
       "      <td>1</td>\n",
       "      <td>8000</td>\n",
       "      <td>1</td>\n",
       "      <td>청소년관람불가</td>\n",
       "      <td>일반영화</td>\n",
       "      <td>일본</td>\n",
       "      <td>장편</td>\n",
       "      <td>성인물(에로)</td>\n",
       "    </tr>\n",
       "    <tr>\n",
       "      <th>14875</th>\n",
       "      <td>VJ의 은밀한 사생활</td>\n",
       "      <td>오카다 히로</td>\n",
       "      <td>2017-12-25</td>\n",
       "      <td>개봉영화</td>\n",
       "      <td>장편</td>\n",
       "      <td>일본</td>\n",
       "      <td>1</td>\n",
       "      <td>6000</td>\n",
       "      <td>1</td>\n",
       "      <td>청소년관람불가</td>\n",
       "      <td>일반영화</td>\n",
       "      <td>일본</td>\n",
       "      <td>장편</td>\n",
       "      <td>멜로/로맨스</td>\n",
       "    </tr>\n",
       "    <tr>\n",
       "      <th>14876</th>\n",
       "      <td>av감독의 아내</td>\n",
       "      <td>쿠도 마사노리</td>\n",
       "      <td>2016-12-22</td>\n",
       "      <td>개봉영화</td>\n",
       "      <td>장편</td>\n",
       "      <td>일본</td>\n",
       "      <td>1</td>\n",
       "      <td>8000</td>\n",
       "      <td>1</td>\n",
       "      <td>청소년관람불가</td>\n",
       "      <td>일반영화</td>\n",
       "      <td>일본</td>\n",
       "      <td>장편</td>\n",
       "      <td>성인물(에로)</td>\n",
       "    </tr>\n",
       "  </tbody>\n",
       "</table>\n",
       "<p>14877 rows × 14 columns</p>\n",
       "</div>"
      ],
      "text/plain": [
       "               영화명           감독        개봉일  영화유형 영화형태   국적  스크린수  \\\n",
       "0               명량          김한민 2014-07-30  개봉영화   장편   한국  1587   \n",
       "1             극한직업          이병헌 2019-01-23  개봉영화   장편   한국  1978   \n",
       "2        신과함께-죄와 벌          김용화 2017-12-20  개봉영화   장편   한국  1912   \n",
       "3             국제시장          윤제균 2014-12-17  개봉영화   장편   한국   966   \n",
       "4       어벤져스: 엔드게임  안소니 루소,조 루소 2019-04-24  개봉영화   장편   미국  2835   \n",
       "...            ...          ...        ...   ...  ...  ...   ...   \n",
       "14872        S걸의 덫    그레고리 하타나카 2018-04-10  개봉영화   장편  브라질     1   \n",
       "14873         T-34    알렉세이 시도로프 2019-06-27  개봉영화   장편  러시아     1   \n",
       "14874     VIP전용 여자      카네다 사토시 2016-12-01  개봉영화   장편   일본     1   \n",
       "14875  VJ의 은밀한 사생활       오카다 히로 2017-12-25  개봉영화   장편   일본     1   \n",
       "14876     av감독의 아내      쿠도 마사노리 2016-12-22  개봉영화   장편   일본     1   \n",
       "\n",
       "                매출액       관객수        등급     영화구분 제작국가  유형       장르  \n",
       "0      135748398910  17613682  15세이상관람가     일반영화   한국  장편       사극  \n",
       "1      139647979516  16264944  15세이상관람가     일반영화   한국  장편      코미디  \n",
       "2      115698654137  14410754  12세이상관람가     일반영화   한국  장편      판타지  \n",
       "3      110828014630  14245998  12세이상관람가     일반영화   한국  장편      드라마  \n",
       "4      122182694160  13934592  12세이상관람가     일반영화   미국  장편       액션  \n",
       "...             ...       ...       ...      ...  ...  ..      ...  \n",
       "14872          1000         1   청소년관람불가     일반영화  브라질  장편   멜로/로맨스  \n",
       "14873          5000         1  12세이상관람가  독립/예술영화  러시아  장편       전쟁  \n",
       "14874          8000         1   청소년관람불가     일반영화   일본  장편  성인물(에로)  \n",
       "14875          6000         1   청소년관람불가     일반영화   일본  장편   멜로/로맨스  \n",
       "14876          8000         1   청소년관람불가     일반영화   일본  장편  성인물(에로)  \n",
       "\n",
       "[14877 rows x 14 columns]"
      ]
     },
     "execution_count": 174,
     "metadata": {},
     "output_type": "execute_result"
    }
   ],
   "source": [
    "df"
   ]
  },
  {
   "cell_type": "code",
   "execution_count": 175,
   "id": "66637b3f",
   "metadata": {},
   "outputs": [
    {
     "data": {
      "text/plain": [
       "일반영화       10493\n",
       "독립/예술영화     4384\n",
       "Name: 영화구분, dtype: int64"
      ]
     },
     "execution_count": 175,
     "metadata": {},
     "output_type": "execute_result"
    }
   ],
   "source": [
    "df[\"영화구분\"].value_counts()"
   ]
  },
  {
   "cell_type": "code",
   "execution_count": null,
   "id": "e2bdb785",
   "metadata": {},
   "outputs": [],
   "source": []
  },
  {
   "cell_type": "code",
   "execution_count": null,
   "id": "b2c92f18",
   "metadata": {},
   "outputs": [],
   "source": []
  },
  {
   "cell_type": "code",
   "execution_count": null,
   "id": "5617488d",
   "metadata": {},
   "outputs": [],
   "source": []
  },
  {
   "cell_type": "code",
   "execution_count": null,
   "id": "773922be",
   "metadata": {},
   "outputs": [],
   "source": []
  },
  {
   "cell_type": "code",
   "execution_count": null,
   "id": "102b6171",
   "metadata": {},
   "outputs": [],
   "source": [
    "movie"
   ]
  },
  {
   "cell_type": "code",
   "execution_count": 70,
   "id": "5852caf7",
   "metadata": {},
   "outputs": [
    {
     "data": {
      "text/plain": [
       "순번        0\n",
       "영화명       0\n",
       "감독_x    744\n",
       "개봉일       2\n",
       "영화유형      0\n",
       "영화형태      1\n",
       "국적        1\n",
       "스크린수      0\n",
       "매출액     126\n",
       "관객수       0\n",
       "장르_x     79\n",
       "등급       18\n",
       "영화구분      0\n",
       "제작연도     12\n",
       "제작국가      0\n",
       "유형        1\n",
       "장르_y     82\n",
       "감독_y    744\n",
       "dtype: int64"
      ]
     },
     "execution_count": 70,
     "metadata": {},
     "output_type": "execute_result"
    }
   ],
   "source": [
    "movie.isnull().sum()"
   ]
  },
  {
   "cell_type": "code",
   "execution_count": null,
   "id": "024f0578",
   "metadata": {},
   "outputs": [],
   "source": []
  },
  {
   "cell_type": "code",
   "execution_count": null,
   "id": "b98a519b",
   "metadata": {},
   "outputs": [],
   "source": []
  },
  {
   "cell_type": "code",
   "execution_count": null,
   "metadata": {},
   "outputs": [],
   "source": []
  },
  {
   "cell_type": "code",
   "execution_count": null,
   "metadata": {},
   "outputs": [],
   "source": []
  },
  {
   "cell_type": "code",
   "execution_count": null,
   "id": "3e9075ae",
   "metadata": {},
   "outputs": [],
   "source": []
  },
  {
   "cell_type": "code",
   "execution_count": null,
   "id": "9a159ffa",
   "metadata": {},
   "outputs": [],
   "source": []
  },
  {
   "cell_type": "code",
   "execution_count": null,
   "id": "fb8d9d87",
   "metadata": {},
   "outputs": [],
   "source": []
  },
  {
   "cell_type": "markdown",
   "id": "57cd070a",
   "metadata": {},
   "source": [
    "## 중복된 컬럼 결측치 확인후 컬럼 삭제 후 컬럼명 변경"
   ]
  },
  {
   "cell_type": "code",
   "execution_count": 433,
   "id": "61673950",
   "metadata": {},
   "outputs": [
    {
     "data": {
      "text/plain": [
       "Index(['순번', '영화명', '감독_x', '제작사_x', '수입사', '배급사', '개봉일', '영화유형', '영화형태', '국적',\n",
       "       '전국', '전국.1', '전국.2', '서울', '서울.1', '장르_x', '등급', '영화구분', '영화명(영문)',\n",
       "       '제작연도', '제작국가', '유형', '장르_y', '제작상태', '감독_y', '제작사_y'],\n",
       "      dtype='object')"
      ]
     },
     "execution_count": 433,
     "metadata": {},
     "output_type": "execute_result"
    }
   ],
   "source": [
    "movie.columns"
   ]
  },
  {
   "cell_type": "code",
   "execution_count": 434,
   "id": "5d23695f",
   "metadata": {},
   "outputs": [],
   "source": [
    "movie.drop(['순번','감독_y','제작사_y','수입사','배급사','수입사','영화유형','영화형태','국적','전국.1','서울','영화구분','영화명(영문)','유형','장르_y','제작상태','제작연도','제작연도','제작국가'],axis = 'columns',inplace=True)"
   ]
  },
  {
   "cell_type": "code",
   "execution_count": 435,
   "id": "bf32d036",
   "metadata": {},
   "outputs": [
    {
     "data": {
      "text/html": [
       "<div>\n",
       "<style scoped>\n",
       "    .dataframe tbody tr th:only-of-type {\n",
       "        vertical-align: middle;\n",
       "    }\n",
       "\n",
       "    .dataframe tbody tr th {\n",
       "        vertical-align: top;\n",
       "    }\n",
       "\n",
       "    .dataframe thead th {\n",
       "        text-align: right;\n",
       "    }\n",
       "</style>\n",
       "<table border=\"1\" class=\"dataframe\">\n",
       "  <thead>\n",
       "    <tr style=\"text-align: right;\">\n",
       "      <th></th>\n",
       "      <th>영화명</th>\n",
       "      <th>감독_x</th>\n",
       "      <th>제작사_x</th>\n",
       "      <th>개봉일</th>\n",
       "      <th>전국</th>\n",
       "      <th>전국.2</th>\n",
       "      <th>서울.1</th>\n",
       "      <th>장르_x</th>\n",
       "      <th>등급</th>\n",
       "    </tr>\n",
       "  </thead>\n",
       "  <tbody>\n",
       "    <tr>\n",
       "      <th>0</th>\n",
       "      <td>NaN</td>\n",
       "      <td>NaN</td>\n",
       "      <td>NaN</td>\n",
       "      <td>NaT</td>\n",
       "      <td>스크린수</td>\n",
       "      <td>관객수</td>\n",
       "      <td>관객수</td>\n",
       "      <td>NaN</td>\n",
       "      <td>NaN</td>\n",
       "    </tr>\n",
       "    <tr>\n",
       "      <th>1</th>\n",
       "      <td>명량</td>\n",
       "      <td>김한민</td>\n",
       "      <td>(주)빅스톤픽쳐스</td>\n",
       "      <td>2014-07-30</td>\n",
       "      <td>1587</td>\n",
       "      <td>17613682</td>\n",
       "      <td>4163666</td>\n",
       "      <td>사극</td>\n",
       "      <td>15세이상관람가</td>\n",
       "    </tr>\n",
       "    <tr>\n",
       "      <th>2</th>\n",
       "      <td>극한직업</td>\n",
       "      <td>이병헌</td>\n",
       "      <td>(주)어바웃필름,영화사 해그림 주식회사,씨제이이앤엠(주)</td>\n",
       "      <td>2019-01-23</td>\n",
       "      <td>1978</td>\n",
       "      <td>16264944</td>\n",
       "      <td>3638287</td>\n",
       "      <td>코미디</td>\n",
       "      <td>15세이상관람가</td>\n",
       "    </tr>\n",
       "    <tr>\n",
       "      <th>3</th>\n",
       "      <td>신과함께-죄와 벌</td>\n",
       "      <td>김용화</td>\n",
       "      <td>리얼라이즈픽쳐스(주),(주)덱스터스튜디오</td>\n",
       "      <td>2017-12-20</td>\n",
       "      <td>1912</td>\n",
       "      <td>14410754</td>\n",
       "      <td>3346172</td>\n",
       "      <td>판타지</td>\n",
       "      <td>12세이상관람가</td>\n",
       "    </tr>\n",
       "    <tr>\n",
       "      <th>4</th>\n",
       "      <td>국제시장</td>\n",
       "      <td>윤제균</td>\n",
       "      <td>(주)제이케이필름,씨제이이앤엠(주)</td>\n",
       "      <td>2014-12-17</td>\n",
       "      <td>966</td>\n",
       "      <td>14245998</td>\n",
       "      <td>3233946</td>\n",
       "      <td>드라마</td>\n",
       "      <td>12세이상관람가</td>\n",
       "    </tr>\n",
       "  </tbody>\n",
       "</table>\n",
       "</div>"
      ],
      "text/plain": [
       "         영화명 감독_x                            제작사_x        개봉일    전국      전국.2  \\\n",
       "0        NaN  NaN                              NaN        NaT  스크린수       관객수   \n",
       "1         명량  김한민                        (주)빅스톤픽쳐스 2014-07-30  1587  17613682   \n",
       "2       극한직업  이병헌  (주)어바웃필름,영화사 해그림 주식회사,씨제이이앤엠(주) 2019-01-23  1978  16264944   \n",
       "3  신과함께-죄와 벌  김용화           리얼라이즈픽쳐스(주),(주)덱스터스튜디오 2017-12-20  1912  14410754   \n",
       "4       국제시장  윤제균              (주)제이케이필름,씨제이이앤엠(주) 2014-12-17   966  14245998   \n",
       "\n",
       "      서울.1 장르_x        등급  \n",
       "0      관객수  NaN       NaN  \n",
       "1  4163666   사극  15세이상관람가  \n",
       "2  3638287  코미디  15세이상관람가  \n",
       "3  3346172  판타지  12세이상관람가  \n",
       "4  3233946  드라마  12세이상관람가  "
      ]
     },
     "execution_count": 435,
     "metadata": {},
     "output_type": "execute_result"
    }
   ],
   "source": [
    "movie.head()"
   ]
  },
  {
   "cell_type": "code",
   "execution_count": 436,
   "id": "8eefa799",
   "metadata": {},
   "outputs": [],
   "source": [
    "movie.rename(columns={'감독_x':'감독','제작사_x':'제작사','전국':'스크린수','전국.2':'관객수(전국)','서울.1':'관객수(서울)','장르_x':'장르','등급':'관람가'},inplace=True)"
   ]
  },
  {
   "cell_type": "code",
   "execution_count": 437,
   "id": "6e3cb7f9",
   "metadata": {},
   "outputs": [],
   "source": [
    "movie.drop(0,inplace=True)"
   ]
  },
  {
   "cell_type": "code",
   "execution_count": 438,
   "id": "ead7d972",
   "metadata": {},
   "outputs": [
    {
     "data": {
      "text/html": [
       "<div>\n",
       "<style scoped>\n",
       "    .dataframe tbody tr th:only-of-type {\n",
       "        vertical-align: middle;\n",
       "    }\n",
       "\n",
       "    .dataframe tbody tr th {\n",
       "        vertical-align: top;\n",
       "    }\n",
       "\n",
       "    .dataframe thead th {\n",
       "        text-align: right;\n",
       "    }\n",
       "</style>\n",
       "<table border=\"1\" class=\"dataframe\">\n",
       "  <thead>\n",
       "    <tr style=\"text-align: right;\">\n",
       "      <th></th>\n",
       "      <th>영화명</th>\n",
       "      <th>감독</th>\n",
       "      <th>제작사</th>\n",
       "      <th>개봉일</th>\n",
       "      <th>스크린수</th>\n",
       "      <th>관객수(전국)</th>\n",
       "      <th>관객수(서울)</th>\n",
       "      <th>장르</th>\n",
       "      <th>관람가</th>\n",
       "    </tr>\n",
       "  </thead>\n",
       "  <tbody>\n",
       "    <tr>\n",
       "      <th>1</th>\n",
       "      <td>명량</td>\n",
       "      <td>김한민</td>\n",
       "      <td>(주)빅스톤픽쳐스</td>\n",
       "      <td>2014-07-30</td>\n",
       "      <td>1587</td>\n",
       "      <td>17613682</td>\n",
       "      <td>4163666</td>\n",
       "      <td>사극</td>\n",
       "      <td>15세이상관람가</td>\n",
       "    </tr>\n",
       "    <tr>\n",
       "      <th>2</th>\n",
       "      <td>극한직업</td>\n",
       "      <td>이병헌</td>\n",
       "      <td>(주)어바웃필름,영화사 해그림 주식회사,씨제이이앤엠(주)</td>\n",
       "      <td>2019-01-23</td>\n",
       "      <td>1978</td>\n",
       "      <td>16264944</td>\n",
       "      <td>3638287</td>\n",
       "      <td>코미디</td>\n",
       "      <td>15세이상관람가</td>\n",
       "    </tr>\n",
       "    <tr>\n",
       "      <th>3</th>\n",
       "      <td>신과함께-죄와 벌</td>\n",
       "      <td>김용화</td>\n",
       "      <td>리얼라이즈픽쳐스(주),(주)덱스터스튜디오</td>\n",
       "      <td>2017-12-20</td>\n",
       "      <td>1912</td>\n",
       "      <td>14410754</td>\n",
       "      <td>3346172</td>\n",
       "      <td>판타지</td>\n",
       "      <td>12세이상관람가</td>\n",
       "    </tr>\n",
       "  </tbody>\n",
       "</table>\n",
       "</div>"
      ],
      "text/plain": [
       "         영화명   감독                              제작사        개봉일  스크린수   관객수(전국)  \\\n",
       "1         명량  김한민                        (주)빅스톤픽쳐스 2014-07-30  1587  17613682   \n",
       "2       극한직업  이병헌  (주)어바웃필름,영화사 해그림 주식회사,씨제이이앤엠(주) 2019-01-23  1978  16264944   \n",
       "3  신과함께-죄와 벌  김용화           리얼라이즈픽쳐스(주),(주)덱스터스튜디오 2017-12-20  1912  14410754   \n",
       "\n",
       "   관객수(서울)   장르       관람가  \n",
       "1  4163666   사극  15세이상관람가  \n",
       "2  3638287  코미디  15세이상관람가  \n",
       "3  3346172  판타지  12세이상관람가  "
      ]
     },
     "execution_count": 438,
     "metadata": {},
     "output_type": "execute_result"
    }
   ],
   "source": [
    "movie.head(3)"
   ]
  },
  {
   "cell_type": "markdown",
   "id": "3c7fafba",
   "metadata": {},
   "source": [
    "### 결측값 "
   ]
  },
  {
   "cell_type": "code",
   "execution_count": 439,
   "id": "61b4aa61",
   "metadata": {},
   "outputs": [
    {
     "data": {
      "text/plain": [
       "영화명            0\n",
       "감독           776\n",
       "제작사        11597\n",
       "개봉일           10\n",
       "스크린수           0\n",
       "관객수(전국)        0\n",
       "관객수(서울)        0\n",
       "장르            82\n",
       "관람가           24\n",
       "dtype: int64"
      ]
     },
     "execution_count": 439,
     "metadata": {},
     "output_type": "execute_result"
    }
   ],
   "source": [
    "movie.isnull().sum()"
   ]
  },
  {
   "cell_type": "code",
   "execution_count": 440,
   "id": "21d49ab9",
   "metadata": {},
   "outputs": [],
   "source": [
    "#처리 감독,장르,등급,제작국가의 결측값은 적기에 지워도 데이터에 큰영향을 끼칠거 같지않지만, 제작사 결측값은 데이터의 영향을 끼치기 때문에 제작사 컬럼 삭제"
   ]
  },
  {
   "cell_type": "code",
   "execution_count": 441,
   "id": "816b50e5",
   "metadata": {},
   "outputs": [],
   "source": [
    "movie.drop('제작사',axis='columns',inplace=True)"
   ]
  },
  {
   "cell_type": "code",
   "execution_count": 442,
   "id": "2d4c0014",
   "metadata": {},
   "outputs": [
    {
     "data": {
      "text/plain": [
       "영화명          0\n",
       "감독         776\n",
       "개봉일         10\n",
       "스크린수         0\n",
       "관객수(전국)      0\n",
       "관객수(서울)      0\n",
       "장르          82\n",
       "관람가         24\n",
       "dtype: int64"
      ]
     },
     "execution_count": 442,
     "metadata": {},
     "output_type": "execute_result"
    }
   ],
   "source": [
    "movie.isnull().sum()"
   ]
  },
  {
   "cell_type": "code",
   "execution_count": 443,
   "id": "67d29447",
   "metadata": {},
   "outputs": [],
   "source": [
    "# 감독,개봉일,장르,관람가,제작국가 결측값 데이터는 영향을 끼치지않으므로 삭제"
   ]
  },
  {
   "cell_type": "code",
   "execution_count": 444,
   "id": "184f961b",
   "metadata": {},
   "outputs": [],
   "source": [
    "movie = movie.dropna()"
   ]
  },
  {
   "cell_type": "code",
   "execution_count": 445,
   "id": "0cb5b226",
   "metadata": {},
   "outputs": [
    {
     "data": {
      "text/html": [
       "<div>\n",
       "<style scoped>\n",
       "    .dataframe tbody tr th:only-of-type {\n",
       "        vertical-align: middle;\n",
       "    }\n",
       "\n",
       "    .dataframe tbody tr th {\n",
       "        vertical-align: top;\n",
       "    }\n",
       "\n",
       "    .dataframe thead th {\n",
       "        text-align: right;\n",
       "    }\n",
       "</style>\n",
       "<table border=\"1\" class=\"dataframe\">\n",
       "  <thead>\n",
       "    <tr style=\"text-align: right;\">\n",
       "      <th></th>\n",
       "      <th>영화명</th>\n",
       "      <th>감독</th>\n",
       "      <th>개봉일</th>\n",
       "      <th>스크린수</th>\n",
       "      <th>관객수(전국)</th>\n",
       "      <th>관객수(서울)</th>\n",
       "      <th>장르</th>\n",
       "      <th>관람가</th>\n",
       "    </tr>\n",
       "  </thead>\n",
       "  <tbody>\n",
       "    <tr>\n",
       "      <th>1</th>\n",
       "      <td>명량</td>\n",
       "      <td>김한민</td>\n",
       "      <td>2014-07-30</td>\n",
       "      <td>1587</td>\n",
       "      <td>17613682</td>\n",
       "      <td>4163666</td>\n",
       "      <td>사극</td>\n",
       "      <td>15세이상관람가</td>\n",
       "    </tr>\n",
       "    <tr>\n",
       "      <th>2</th>\n",
       "      <td>극한직업</td>\n",
       "      <td>이병헌</td>\n",
       "      <td>2019-01-23</td>\n",
       "      <td>1978</td>\n",
       "      <td>16264944</td>\n",
       "      <td>3638287</td>\n",
       "      <td>코미디</td>\n",
       "      <td>15세이상관람가</td>\n",
       "    </tr>\n",
       "    <tr>\n",
       "      <th>3</th>\n",
       "      <td>신과함께-죄와 벌</td>\n",
       "      <td>김용화</td>\n",
       "      <td>2017-12-20</td>\n",
       "      <td>1912</td>\n",
       "      <td>14410754</td>\n",
       "      <td>3346172</td>\n",
       "      <td>판타지</td>\n",
       "      <td>12세이상관람가</td>\n",
       "    </tr>\n",
       "    <tr>\n",
       "      <th>4</th>\n",
       "      <td>국제시장</td>\n",
       "      <td>윤제균</td>\n",
       "      <td>2014-12-17</td>\n",
       "      <td>966</td>\n",
       "      <td>14245998</td>\n",
       "      <td>3233946</td>\n",
       "      <td>드라마</td>\n",
       "      <td>12세이상관람가</td>\n",
       "    </tr>\n",
       "    <tr>\n",
       "      <th>5</th>\n",
       "      <td>어벤져스: 엔드게임</td>\n",
       "      <td>안소니 루소,조 루소</td>\n",
       "      <td>2019-04-24</td>\n",
       "      <td>2835</td>\n",
       "      <td>13934592</td>\n",
       "      <td>3597963</td>\n",
       "      <td>액션</td>\n",
       "      <td>12세이상관람가</td>\n",
       "    </tr>\n",
       "  </tbody>\n",
       "</table>\n",
       "</div>"
      ],
      "text/plain": [
       "          영화명           감독        개봉일  스크린수   관객수(전국)  관객수(서울)   장르       관람가\n",
       "1          명량          김한민 2014-07-30  1587  17613682  4163666   사극  15세이상관람가\n",
       "2        극한직업          이병헌 2019-01-23  1978  16264944  3638287  코미디  15세이상관람가\n",
       "3   신과함께-죄와 벌          김용화 2017-12-20  1912  14410754  3346172  판타지  12세이상관람가\n",
       "4        국제시장          윤제균 2014-12-17   966  14245998  3233946  드라마  12세이상관람가\n",
       "5  어벤져스: 엔드게임  안소니 루소,조 루소 2019-04-24  2835  13934592  3597963   액션  12세이상관람가"
      ]
     },
     "execution_count": 445,
     "metadata": {},
     "output_type": "execute_result"
    }
   ],
   "source": [
    "movie.head()"
   ]
  },
  {
   "cell_type": "code",
   "execution_count": 446,
   "id": "5d6204c6",
   "metadata": {},
   "outputs": [
    {
     "name": "stdout",
     "output_type": "stream",
     "text": [
      "<class 'pandas.core.frame.DataFrame'>\n",
      "Int64Index: 16876 entries, 1 to 17746\n",
      "Data columns (total 8 columns):\n",
      " #   Column   Non-Null Count  Dtype         \n",
      "---  ------   --------------  -----         \n",
      " 0   영화명      16876 non-null  object        \n",
      " 1   감독       16876 non-null  object        \n",
      " 2   개봉일      16876 non-null  datetime64[ns]\n",
      " 3   스크린수     16876 non-null  object        \n",
      " 4   관객수(전국)  16876 non-null  object        \n",
      " 5   관객수(서울)  16876 non-null  object        \n",
      " 6   장르       16876 non-null  object        \n",
      " 7   관람가      16876 non-null  object        \n",
      "dtypes: datetime64[ns](1), object(7)\n",
      "memory usage: 1.2+ MB\n"
     ]
    }
   ],
   "source": [
    "movie.info()"
   ]
  },
  {
   "cell_type": "code",
   "execution_count": 447,
   "id": "be64fcba",
   "metadata": {},
   "outputs": [],
   "source": [
    "# 스크린수, 관객수(전국), 관객수(서울) 타입 변경"
   ]
  },
  {
   "cell_type": "code",
   "execution_count": 448,
   "id": "8f7abd82",
   "metadata": {},
   "outputs": [],
   "source": [
    "movie = movie.astype({'스크린수':'int','관객수(전국)':'int','관객수(서울)':'int'})"
   ]
  },
  {
   "cell_type": "code",
   "execution_count": 449,
   "id": "074c2afb",
   "metadata": {},
   "outputs": [
    {
     "name": "stdout",
     "output_type": "stream",
     "text": [
      "<class 'pandas.core.frame.DataFrame'>\n",
      "Int64Index: 16876 entries, 1 to 17746\n",
      "Data columns (total 8 columns):\n",
      " #   Column   Non-Null Count  Dtype         \n",
      "---  ------   --------------  -----         \n",
      " 0   영화명      16876 non-null  object        \n",
      " 1   감독       16876 non-null  object        \n",
      " 2   개봉일      16876 non-null  datetime64[ns]\n",
      " 3   스크린수     16876 non-null  int32         \n",
      " 4   관객수(전국)  16876 non-null  int32         \n",
      " 5   관객수(서울)  16876 non-null  int32         \n",
      " 6   장르       16876 non-null  object        \n",
      " 7   관람가      16876 non-null  object        \n",
      "dtypes: datetime64[ns](1), int32(3), object(4)\n",
      "memory usage: 988.8+ KB\n"
     ]
    }
   ],
   "source": [
    "movie.info()"
   ]
  },
  {
   "cell_type": "code",
   "execution_count": 450,
   "id": "3fc9f70f",
   "metadata": {},
   "outputs": [],
   "source": [
    "# 관람가,장르 인덱스 확인 후 정리"
   ]
  },
  {
   "cell_type": "code",
   "execution_count": 451,
   "id": "ee44cb44",
   "metadata": {},
   "outputs": [
    {
     "data": {
      "text/plain": [
       "array(['15세이상관람가', '12세이상관람가', '전체관람가', '12세관람가', '15세관람가', '청소년관람불가',\n",
       "       '18세관람가', '12세이상관람가,12세관람가', '15세관람가,15세이상관람가', '청소년관람불가,15세이상관람가',\n",
       "       '18세관람가,15세이상관람가', '18세관람가,청소년관람불가', '12세이상관람가,전체관람가',\n",
       "       '12세이상관람가,15세이상관람가', '15세이상관람가,전체관람가', '제한상영가', '15세관람가,12세이상관람가',\n",
       "       '중학생이상관람가', '18세 미만인 자는 관람할 수 없는 등급', '모든 관람객이 관람할 수 있는 등급',\n",
       "       '15세 미만인 자는 관람할 수 없는 등급', '연소자관람가,전체관람가', '12세 미만인 자는 관람할 수 없는 등급'],\n",
       "      dtype=object)"
      ]
     },
     "execution_count": 451,
     "metadata": {},
     "output_type": "execute_result"
    }
   ],
   "source": [
    "movie['관람가'].unique()"
   ]
  },
  {
   "cell_type": "code",
   "execution_count": 60,
   "id": "487d55a5",
   "metadata": {},
   "outputs": [
    {
     "ename": "KeyError",
     "evalue": "'관람가'",
     "output_type": "error",
     "traceback": [
      "\u001b[1;31m---------------------------------------------------------------------------\u001b[0m",
      "\u001b[1;31mKeyError\u001b[0m                                  Traceback (most recent call last)",
      "File \u001b[1;32m~\\AppData\\Roaming\\Python\\Python38\\site-packages\\pandas\\core\\indexes\\base.py:3802\u001b[0m, in \u001b[0;36mIndex.get_loc\u001b[1;34m(self, key, method, tolerance)\u001b[0m\n\u001b[0;32m   3801\u001b[0m \u001b[39mtry\u001b[39;00m:\n\u001b[1;32m-> 3802\u001b[0m     \u001b[39mreturn\u001b[39;00m \u001b[39mself\u001b[39;49m\u001b[39m.\u001b[39;49m_engine\u001b[39m.\u001b[39;49mget_loc(casted_key)\n\u001b[0;32m   3803\u001b[0m \u001b[39mexcept\u001b[39;00m \u001b[39mKeyError\u001b[39;00m \u001b[39mas\u001b[39;00m err:\n",
      "File \u001b[1;32m~\\AppData\\Roaming\\Python\\Python38\\site-packages\\pandas\\_libs\\index.pyx:138\u001b[0m, in \u001b[0;36mpandas._libs.index.IndexEngine.get_loc\u001b[1;34m()\u001b[0m\n",
      "File \u001b[1;32m~\\AppData\\Roaming\\Python\\Python38\\site-packages\\pandas\\_libs\\index.pyx:165\u001b[0m, in \u001b[0;36mpandas._libs.index.IndexEngine.get_loc\u001b[1;34m()\u001b[0m\n",
      "File \u001b[1;32mpandas\\_libs\\hashtable_class_helper.pxi:5745\u001b[0m, in \u001b[0;36mpandas._libs.hashtable.PyObjectHashTable.get_item\u001b[1;34m()\u001b[0m\n",
      "File \u001b[1;32mpandas\\_libs\\hashtable_class_helper.pxi:5753\u001b[0m, in \u001b[0;36mpandas._libs.hashtable.PyObjectHashTable.get_item\u001b[1;34m()\u001b[0m\n",
      "\u001b[1;31mKeyError\u001b[0m: '관람가'",
      "\nThe above exception was the direct cause of the following exception:\n",
      "\u001b[1;31mKeyError\u001b[0m                                  Traceback (most recent call last)",
      "Cell \u001b[1;32mIn[60], line 1\u001b[0m\n\u001b[1;32m----> 1\u001b[0m movie[\u001b[39m'\u001b[39m\u001b[39m관람가\u001b[39m\u001b[39m'\u001b[39m] \u001b[39m=\u001b[39m movie[\u001b[39m'\u001b[39;49m\u001b[39m관람가\u001b[39;49m\u001b[39m'\u001b[39;49m]\u001b[39m.\u001b[39mapply(\u001b[39mlambda\u001b[39;00m x:x\u001b[39m.\u001b[39msplit(\u001b[39m'\u001b[39m\u001b[39m,\u001b[39m\u001b[39m'\u001b[39m)[\u001b[39m0\u001b[39m])\n",
      "File \u001b[1;32m~\\AppData\\Roaming\\Python\\Python38\\site-packages\\pandas\\core\\frame.py:3807\u001b[0m, in \u001b[0;36mDataFrame.__getitem__\u001b[1;34m(self, key)\u001b[0m\n\u001b[0;32m   3805\u001b[0m \u001b[39mif\u001b[39;00m \u001b[39mself\u001b[39m\u001b[39m.\u001b[39mcolumns\u001b[39m.\u001b[39mnlevels \u001b[39m>\u001b[39m \u001b[39m1\u001b[39m:\n\u001b[0;32m   3806\u001b[0m     \u001b[39mreturn\u001b[39;00m \u001b[39mself\u001b[39m\u001b[39m.\u001b[39m_getitem_multilevel(key)\n\u001b[1;32m-> 3807\u001b[0m indexer \u001b[39m=\u001b[39m \u001b[39mself\u001b[39;49m\u001b[39m.\u001b[39;49mcolumns\u001b[39m.\u001b[39;49mget_loc(key)\n\u001b[0;32m   3808\u001b[0m \u001b[39mif\u001b[39;00m is_integer(indexer):\n\u001b[0;32m   3809\u001b[0m     indexer \u001b[39m=\u001b[39m [indexer]\n",
      "File \u001b[1;32m~\\AppData\\Roaming\\Python\\Python38\\site-packages\\pandas\\core\\indexes\\base.py:3804\u001b[0m, in \u001b[0;36mIndex.get_loc\u001b[1;34m(self, key, method, tolerance)\u001b[0m\n\u001b[0;32m   3802\u001b[0m     \u001b[39mreturn\u001b[39;00m \u001b[39mself\u001b[39m\u001b[39m.\u001b[39m_engine\u001b[39m.\u001b[39mget_loc(casted_key)\n\u001b[0;32m   3803\u001b[0m \u001b[39mexcept\u001b[39;00m \u001b[39mKeyError\u001b[39;00m \u001b[39mas\u001b[39;00m err:\n\u001b[1;32m-> 3804\u001b[0m     \u001b[39mraise\u001b[39;00m \u001b[39mKeyError\u001b[39;00m(key) \u001b[39mfrom\u001b[39;00m \u001b[39merr\u001b[39;00m\n\u001b[0;32m   3805\u001b[0m \u001b[39mexcept\u001b[39;00m \u001b[39mTypeError\u001b[39;00m:\n\u001b[0;32m   3806\u001b[0m     \u001b[39m# If we have a listlike key, _check_indexing_error will raise\u001b[39;00m\n\u001b[0;32m   3807\u001b[0m     \u001b[39m#  InvalidIndexError. Otherwise we fall through and re-raise\u001b[39;00m\n\u001b[0;32m   3808\u001b[0m     \u001b[39m#  the TypeError.\u001b[39;00m\n\u001b[0;32m   3809\u001b[0m     \u001b[39mself\u001b[39m\u001b[39m.\u001b[39m_check_indexing_error(key)\n",
      "\u001b[1;31mKeyError\u001b[0m: '관람가'"
     ]
    }
   ],
   "source": [
    "movie['관람가'] = movie['관람가'].apply(lambda x:x.split(',')[0])"
   ]
  },
  {
   "cell_type": "code",
   "execution_count": 453,
   "id": "3d0dc368",
   "metadata": {},
   "outputs": [
    {
     "data": {
      "text/plain": [
       "array(['15세이상관람가', '12세이상관람가', '전체관람가', '12세관람가', '15세관람가', '청소년관람불가',\n",
       "       '18세관람가', '제한상영가', '중학생이상관람가', '18세 미만인 자는 관람할 수 없는 등급',\n",
       "       '모든 관람객이 관람할 수 있는 등급', '15세 미만인 자는 관람할 수 없는 등급', '연소자관람가',\n",
       "       '12세 미만인 자는 관람할 수 없는 등급'], dtype=object)"
      ]
     },
     "execution_count": 453,
     "metadata": {},
     "output_type": "execute_result"
    }
   ],
   "source": [
    "movie['관람가'].unique()"
   ]
  },
  {
   "cell_type": "code",
   "execution_count": 454,
   "id": "3567ed61",
   "metadata": {},
   "outputs": [],
   "source": [
    "movie['관람가'] = movie['관람가'].replace({'15세이상관람가':'15세관람가','12세이상관람가':'12세관람가','청소년관람불가':'18세관람가','18세 미만인 자는 관람할 수 없는 등급':'18세관람가','모든 관람객이 관람할 수 있는 등급':'전체관람가','15세 미만인 자는 관람할 수 없는 등급':'15세관람가','12세 미만인 자는 관람할 수 없는 등급':'12세관람가','중학생이상관람가':'15세관람가','연소자관람가':'15세관람가'})"
   ]
  },
  {
   "cell_type": "code",
   "execution_count": 455,
   "id": "2c4e5383",
   "metadata": {},
   "outputs": [
    {
     "data": {
      "text/plain": [
       "array(['15세관람가', '12세관람가', '전체관람가', '18세관람가', '제한상영가'], dtype=object)"
      ]
     },
     "execution_count": 455,
     "metadata": {},
     "output_type": "execute_result"
    }
   ],
   "source": [
    "movie['관람가'].unique()"
   ]
  },
  {
   "cell_type": "code",
   "execution_count": 456,
   "id": "b893c248",
   "metadata": {},
   "outputs": [
    {
     "data": {
      "text/html": [
       "<div>\n",
       "<style scoped>\n",
       "    .dataframe tbody tr th:only-of-type {\n",
       "        vertical-align: middle;\n",
       "    }\n",
       "\n",
       "    .dataframe tbody tr th {\n",
       "        vertical-align: top;\n",
       "    }\n",
       "\n",
       "    .dataframe thead th {\n",
       "        text-align: right;\n",
       "    }\n",
       "</style>\n",
       "<table border=\"1\" class=\"dataframe\">\n",
       "  <thead>\n",
       "    <tr style=\"text-align: right;\">\n",
       "      <th></th>\n",
       "      <th>영화명</th>\n",
       "      <th>감독</th>\n",
       "      <th>개봉일</th>\n",
       "      <th>스크린수</th>\n",
       "      <th>관객수(전국)</th>\n",
       "      <th>관객수(서울)</th>\n",
       "      <th>장르</th>\n",
       "      <th>관람가</th>\n",
       "    </tr>\n",
       "  </thead>\n",
       "  <tbody>\n",
       "    <tr>\n",
       "      <th>8016</th>\n",
       "      <td>허스</td>\n",
       "      <td>김정중</td>\n",
       "      <td>2007-08-02</td>\n",
       "      <td>0</td>\n",
       "      <td>597</td>\n",
       "      <td>569</td>\n",
       "      <td>드라마</td>\n",
       "      <td>제한상영가</td>\n",
       "    </tr>\n",
       "  </tbody>\n",
       "</table>\n",
       "</div>"
      ],
      "text/plain": [
       "     영화명   감독        개봉일  스크린수  관객수(전국)  관객수(서울)   장르    관람가\n",
       "8016  허스  김정중 2007-08-02     0      597      569  드라마  제한상영가"
      ]
     },
     "execution_count": 456,
     "metadata": {},
     "output_type": "execute_result"
    }
   ],
   "source": [
    "movie[movie['관람가'] == '제한상영가']"
   ]
  },
  {
   "cell_type": "code",
   "execution_count": 457,
   "id": "68151949",
   "metadata": {},
   "outputs": [],
   "source": [
    "movie.drop(8016, axis=0, inplace=True)"
   ]
  },
  {
   "cell_type": "code",
   "execution_count": 458,
   "id": "c9219731",
   "metadata": {},
   "outputs": [
    {
     "data": {
      "text/plain": [
       "array(['15세관람가', '12세관람가', '전체관람가', '18세관람가'], dtype=object)"
      ]
     },
     "execution_count": 458,
     "metadata": {},
     "output_type": "execute_result"
    }
   ],
   "source": [
    "movie['관람가'].unique()"
   ]
  },
  {
   "cell_type": "code",
   "execution_count": 459,
   "id": "c1b3c828",
   "metadata": {},
   "outputs": [
    {
     "data": {
      "text/plain": [
       "array(['사극', '코미디', '판타지', '드라마', '액션', '애니메이션', 'SF', '어드벤처', '전쟁', '범죄',\n",
       "       '미스터리', '서부극(웨스턴)', '멜로/로맨스', '스릴러', '다큐멘터리', '공포(호러)', '가족',\n",
       "       '뮤지컬', '기타', '공연', '성인물(에로)'], dtype=object)"
      ]
     },
     "execution_count": 459,
     "metadata": {},
     "output_type": "execute_result"
    }
   ],
   "source": [
    "movie['장르'].unique()"
   ]
  },
  {
   "cell_type": "code",
   "execution_count": 460,
   "id": "6bbe3ef5",
   "metadata": {},
   "outputs": [],
   "source": [
    "movie['장르'] = movie['장르'].apply(lambda x:x.split('/')[0])\n",
    "movie['장르'] = movie['장르'].apply(lambda x:x.split('(')[0])"
   ]
  },
  {
   "cell_type": "code",
   "execution_count": 461,
   "id": "3ad8b840",
   "metadata": {},
   "outputs": [
    {
     "data": {
      "text/plain": [
       "array(['사극', '코미디', '판타지', '드라마', '액션', '애니메이션', 'SF', '어드벤처', '전쟁', '범죄',\n",
       "       '미스터리', '서부극', '멜로', '스릴러', '다큐멘터리', '공포', '가족', '뮤지컬', '기타', '공연',\n",
       "       '성인물'], dtype=object)"
      ]
     },
     "execution_count": 461,
     "metadata": {},
     "output_type": "execute_result"
    }
   ],
   "source": [
    "movie['장르'].unique()"
   ]
  },
  {
   "cell_type": "code",
   "execution_count": 462,
   "id": "49537fa4",
   "metadata": {
    "scrolled": true
   },
   "outputs": [
    {
     "data": {
      "text/html": [
       "<div>\n",
       "<style scoped>\n",
       "    .dataframe tbody tr th:only-of-type {\n",
       "        vertical-align: middle;\n",
       "    }\n",
       "\n",
       "    .dataframe tbody tr th {\n",
       "        vertical-align: top;\n",
       "    }\n",
       "\n",
       "    .dataframe thead th {\n",
       "        text-align: right;\n",
       "    }\n",
       "</style>\n",
       "<table border=\"1\" class=\"dataframe\">\n",
       "  <thead>\n",
       "    <tr style=\"text-align: right;\">\n",
       "      <th></th>\n",
       "      <th>영화명</th>\n",
       "      <th>감독</th>\n",
       "      <th>개봉일</th>\n",
       "      <th>스크린수</th>\n",
       "      <th>관객수(전국)</th>\n",
       "      <th>관객수(서울)</th>\n",
       "      <th>장르</th>\n",
       "      <th>관람가</th>\n",
       "    </tr>\n",
       "  </thead>\n",
       "  <tbody>\n",
       "    <tr>\n",
       "      <th>1</th>\n",
       "      <td>명량</td>\n",
       "      <td>김한민</td>\n",
       "      <td>2014-07-30</td>\n",
       "      <td>1587</td>\n",
       "      <td>17613682</td>\n",
       "      <td>4163666</td>\n",
       "      <td>사극</td>\n",
       "      <td>15세관람가</td>\n",
       "    </tr>\n",
       "    <tr>\n",
       "      <th>2</th>\n",
       "      <td>극한직업</td>\n",
       "      <td>이병헌</td>\n",
       "      <td>2019-01-23</td>\n",
       "      <td>1978</td>\n",
       "      <td>16264944</td>\n",
       "      <td>3638287</td>\n",
       "      <td>코미디</td>\n",
       "      <td>15세관람가</td>\n",
       "    </tr>\n",
       "    <tr>\n",
       "      <th>3</th>\n",
       "      <td>신과함께-죄와 벌</td>\n",
       "      <td>김용화</td>\n",
       "      <td>2017-12-20</td>\n",
       "      <td>1912</td>\n",
       "      <td>14410754</td>\n",
       "      <td>3346172</td>\n",
       "      <td>판타지</td>\n",
       "      <td>12세관람가</td>\n",
       "    </tr>\n",
       "    <tr>\n",
       "      <th>4</th>\n",
       "      <td>국제시장</td>\n",
       "      <td>윤제균</td>\n",
       "      <td>2014-12-17</td>\n",
       "      <td>966</td>\n",
       "      <td>14245998</td>\n",
       "      <td>3233946</td>\n",
       "      <td>드라마</td>\n",
       "      <td>12세관람가</td>\n",
       "    </tr>\n",
       "    <tr>\n",
       "      <th>5</th>\n",
       "      <td>어벤져스: 엔드게임</td>\n",
       "      <td>안소니 루소,조 루소</td>\n",
       "      <td>2019-04-24</td>\n",
       "      <td>2835</td>\n",
       "      <td>13934592</td>\n",
       "      <td>3597963</td>\n",
       "      <td>액션</td>\n",
       "      <td>12세관람가</td>\n",
       "    </tr>\n",
       "  </tbody>\n",
       "</table>\n",
       "</div>"
      ],
      "text/plain": [
       "          영화명           감독        개봉일  스크린수   관객수(전국)  관객수(서울)   장르     관람가\n",
       "1          명량          김한민 2014-07-30  1587  17613682  4163666   사극  15세관람가\n",
       "2        극한직업          이병헌 2019-01-23  1978  16264944  3638287  코미디  15세관람가\n",
       "3   신과함께-죄와 벌          김용화 2017-12-20  1912  14410754  3346172  판타지  12세관람가\n",
       "4        국제시장          윤제균 2014-12-17   966  14245998  3233946  드라마  12세관람가\n",
       "5  어벤져스: 엔드게임  안소니 루소,조 루소 2019-04-24  2835  13934592  3597963   액션  12세관람가"
      ]
     },
     "execution_count": 462,
     "metadata": {},
     "output_type": "execute_result"
    }
   ],
   "source": [
    "movie.head()"
   ]
  },
  {
   "cell_type": "code",
   "execution_count": 463,
   "id": "1a4ec0a8",
   "metadata": {},
   "outputs": [
    {
     "name": "stdout",
     "output_type": "stream",
     "text": [
      "<class 'pandas.core.frame.DataFrame'>\n",
      "Int64Index: 16875 entries, 1 to 17746\n",
      "Data columns (total 8 columns):\n",
      " #   Column   Non-Null Count  Dtype         \n",
      "---  ------   --------------  -----         \n",
      " 0   영화명      16875 non-null  object        \n",
      " 1   감독       16875 non-null  object        \n",
      " 2   개봉일      16875 non-null  datetime64[ns]\n",
      " 3   스크린수     16875 non-null  int32         \n",
      " 4   관객수(전국)  16875 non-null  int32         \n",
      " 5   관객수(서울)  16875 non-null  int32         \n",
      " 6   장르       16875 non-null  object        \n",
      " 7   관람가      16875 non-null  object        \n",
      "dtypes: datetime64[ns](1), int32(3), object(4)\n",
      "memory usage: 988.8+ KB\n"
     ]
    }
   ],
   "source": [
    "movie.info()"
   ]
  },
  {
   "cell_type": "code",
   "execution_count": 464,
   "id": "cef48956",
   "metadata": {},
   "outputs": [],
   "source": [
    "# 개봉일을 년도, 월로 다른 컬럼만들기"
   ]
  },
  {
   "cell_type": "code",
   "execution_count": 465,
   "id": "f4a8039e",
   "metadata": {},
   "outputs": [],
   "source": [
    "movie['개봉연도'] = movie['개봉일'].dt.year\n",
    "movie['개봉월'] = movie['개봉일'].dt.month"
   ]
  },
  {
   "cell_type": "code",
   "execution_count": 466,
   "id": "422f400a",
   "metadata": {},
   "outputs": [],
   "source": [
    "movie.drop('개봉일', axis='columns',inplace=True)"
   ]
  },
  {
   "cell_type": "code",
   "execution_count": 467,
   "id": "22dbc43c",
   "metadata": {},
   "outputs": [],
   "source": [
    "# 흥행 비흥행을 비교하기 위해 관객수 평균값을 잡고 평균값이상이면 흥행 이하면 비흥행"
   ]
  },
  {
   "cell_type": "code",
   "execution_count": 468,
   "id": "21d8886b",
   "metadata": {},
   "outputs": [
    {
     "data": {
      "text/plain": [
       "192420.61724444444"
      ]
     },
     "execution_count": 468,
     "metadata": {},
     "output_type": "execute_result"
    }
   ],
   "source": [
    "movie['관객수(전국)'].mean()"
   ]
  },
  {
   "cell_type": "code",
   "execution_count": 469,
   "id": "d98f44dd",
   "metadata": {},
   "outputs": [],
   "source": [
    "movie_up = movie['관객수(전국)'] >= 200000"
   ]
  },
  {
   "cell_type": "code",
   "execution_count": 470,
   "id": "95572623",
   "metadata": {},
   "outputs": [],
   "source": [
    "movie_down = movie['관객수(전국)'] < 200000"
   ]
  },
  {
   "cell_type": "code",
   "execution_count": 471,
   "id": "460b7802",
   "metadata": {},
   "outputs": [],
   "source": [
    "movie.loc[movie_up == True, '흥행'] = '흥행'\n",
    "movie.loc[movie_down == True, '흥행'] = '비흥행'"
   ]
  },
  {
   "cell_type": "code",
   "execution_count": 472,
   "id": "ed32013b",
   "metadata": {},
   "outputs": [
    {
     "data": {
      "text/html": [
       "<div>\n",
       "<style scoped>\n",
       "    .dataframe tbody tr th:only-of-type {\n",
       "        vertical-align: middle;\n",
       "    }\n",
       "\n",
       "    .dataframe tbody tr th {\n",
       "        vertical-align: top;\n",
       "    }\n",
       "\n",
       "    .dataframe thead th {\n",
       "        text-align: right;\n",
       "    }\n",
       "</style>\n",
       "<table border=\"1\" class=\"dataframe\">\n",
       "  <thead>\n",
       "    <tr style=\"text-align: right;\">\n",
       "      <th></th>\n",
       "      <th>영화명</th>\n",
       "      <th>감독</th>\n",
       "      <th>스크린수</th>\n",
       "      <th>관객수(전국)</th>\n",
       "      <th>관객수(서울)</th>\n",
       "      <th>장르</th>\n",
       "      <th>관람가</th>\n",
       "      <th>개봉연도</th>\n",
       "      <th>개봉월</th>\n",
       "      <th>흥행</th>\n",
       "    </tr>\n",
       "  </thead>\n",
       "  <tbody>\n",
       "    <tr>\n",
       "      <th>1</th>\n",
       "      <td>명량</td>\n",
       "      <td>김한민</td>\n",
       "      <td>1587</td>\n",
       "      <td>17613682</td>\n",
       "      <td>4163666</td>\n",
       "      <td>사극</td>\n",
       "      <td>15세관람가</td>\n",
       "      <td>2014</td>\n",
       "      <td>7</td>\n",
       "      <td>흥행</td>\n",
       "    </tr>\n",
       "    <tr>\n",
       "      <th>2</th>\n",
       "      <td>극한직업</td>\n",
       "      <td>이병헌</td>\n",
       "      <td>1978</td>\n",
       "      <td>16264944</td>\n",
       "      <td>3638287</td>\n",
       "      <td>코미디</td>\n",
       "      <td>15세관람가</td>\n",
       "      <td>2019</td>\n",
       "      <td>1</td>\n",
       "      <td>흥행</td>\n",
       "    </tr>\n",
       "    <tr>\n",
       "      <th>3</th>\n",
       "      <td>신과함께-죄와 벌</td>\n",
       "      <td>김용화</td>\n",
       "      <td>1912</td>\n",
       "      <td>14410754</td>\n",
       "      <td>3346172</td>\n",
       "      <td>판타지</td>\n",
       "      <td>12세관람가</td>\n",
       "      <td>2017</td>\n",
       "      <td>12</td>\n",
       "      <td>흥행</td>\n",
       "    </tr>\n",
       "    <tr>\n",
       "      <th>4</th>\n",
       "      <td>국제시장</td>\n",
       "      <td>윤제균</td>\n",
       "      <td>966</td>\n",
       "      <td>14245998</td>\n",
       "      <td>3233946</td>\n",
       "      <td>드라마</td>\n",
       "      <td>12세관람가</td>\n",
       "      <td>2014</td>\n",
       "      <td>12</td>\n",
       "      <td>흥행</td>\n",
       "    </tr>\n",
       "    <tr>\n",
       "      <th>5</th>\n",
       "      <td>어벤져스: 엔드게임</td>\n",
       "      <td>안소니 루소,조 루소</td>\n",
       "      <td>2835</td>\n",
       "      <td>13934592</td>\n",
       "      <td>3597963</td>\n",
       "      <td>액션</td>\n",
       "      <td>12세관람가</td>\n",
       "      <td>2019</td>\n",
       "      <td>4</td>\n",
       "      <td>흥행</td>\n",
       "    </tr>\n",
       "  </tbody>\n",
       "</table>\n",
       "</div>"
      ],
      "text/plain": [
       "          영화명           감독  스크린수   관객수(전국)  관객수(서울)   장르     관람가  개봉연도  개봉월  \\\n",
       "1          명량          김한민  1587  17613682  4163666   사극  15세관람가  2014    7   \n",
       "2        극한직업          이병헌  1978  16264944  3638287  코미디  15세관람가  2019    1   \n",
       "3   신과함께-죄와 벌          김용화  1912  14410754  3346172  판타지  12세관람가  2017   12   \n",
       "4        국제시장          윤제균   966  14245998  3233946  드라마  12세관람가  2014   12   \n",
       "5  어벤져스: 엔드게임  안소니 루소,조 루소  2835  13934592  3597963   액션  12세관람가  2019    4   \n",
       "\n",
       "   흥행  \n",
       "1  흥행  \n",
       "2  흥행  \n",
       "3  흥행  \n",
       "4  흥행  \n",
       "5  흥행  "
      ]
     },
     "execution_count": 472,
     "metadata": {},
     "output_type": "execute_result"
    }
   ],
   "source": [
    "movie.head()"
   ]
  },
  {
   "cell_type": "code",
   "execution_count": 473,
   "id": "9eb973cf",
   "metadata": {},
   "outputs": [],
   "source": [
    "# 중복값 확인"
   ]
  },
  {
   "cell_type": "code",
   "execution_count": 474,
   "id": "d758d6a6",
   "metadata": {},
   "outputs": [
    {
     "data": {
      "text/html": [
       "<div>\n",
       "<style scoped>\n",
       "    .dataframe tbody tr th:only-of-type {\n",
       "        vertical-align: middle;\n",
       "    }\n",
       "\n",
       "    .dataframe tbody tr th {\n",
       "        vertical-align: top;\n",
       "    }\n",
       "\n",
       "    .dataframe thead th {\n",
       "        text-align: right;\n",
       "    }\n",
       "</style>\n",
       "<table border=\"1\" class=\"dataframe\">\n",
       "  <thead>\n",
       "    <tr style=\"text-align: right;\">\n",
       "      <th></th>\n",
       "      <th>영화명</th>\n",
       "      <th>감독</th>\n",
       "      <th>스크린수</th>\n",
       "      <th>관객수(전국)</th>\n",
       "      <th>관객수(서울)</th>\n",
       "      <th>장르</th>\n",
       "      <th>관람가</th>\n",
       "      <th>개봉연도</th>\n",
       "      <th>개봉월</th>\n",
       "      <th>흥행</th>\n",
       "    </tr>\n",
       "  </thead>\n",
       "  <tbody>\n",
       "    <tr>\n",
       "      <th>31</th>\n",
       "      <td>엑시트</td>\n",
       "      <td>이상근</td>\n",
       "      <td>1660</td>\n",
       "      <td>9426051</td>\n",
       "      <td>2132869</td>\n",
       "      <td>코미디</td>\n",
       "      <td>12세관람가</td>\n",
       "      <td>2019</td>\n",
       "      <td>7</td>\n",
       "      <td>흥행</td>\n",
       "    </tr>\n",
       "    <tr>\n",
       "      <th>61</th>\n",
       "      <td>럭키</td>\n",
       "      <td>이계벽</td>\n",
       "      <td>1158</td>\n",
       "      <td>6965706</td>\n",
       "      <td>1640015</td>\n",
       "      <td>코미디</td>\n",
       "      <td>15세관람가</td>\n",
       "      <td>2016</td>\n",
       "      <td>10</td>\n",
       "      <td>흥행</td>\n",
       "    </tr>\n",
       "    <tr>\n",
       "      <th>65</th>\n",
       "      <td>범죄도시</td>\n",
       "      <td>강윤성</td>\n",
       "      <td>1315</td>\n",
       "      <td>6851297</td>\n",
       "      <td>1670254</td>\n",
       "      <td>범죄</td>\n",
       "      <td>18세관람가</td>\n",
       "      <td>2017</td>\n",
       "      <td>10</td>\n",
       "      <td>흥행</td>\n",
       "    </tr>\n",
       "    <tr>\n",
       "      <th>89</th>\n",
       "      <td>숨바꼭질</td>\n",
       "      <td>허정</td>\n",
       "      <td>779</td>\n",
       "      <td>5602543</td>\n",
       "      <td>1356936</td>\n",
       "      <td>스릴러</td>\n",
       "      <td>15세관람가</td>\n",
       "      <td>2013</td>\n",
       "      <td>8</td>\n",
       "      <td>흥행</td>\n",
       "    </tr>\n",
       "    <tr>\n",
       "      <th>111</th>\n",
       "      <td>미녀와 야수</td>\n",
       "      <td>빌 콘돈</td>\n",
       "      <td>1627</td>\n",
       "      <td>5137993</td>\n",
       "      <td>1531839</td>\n",
       "      <td>멜로</td>\n",
       "      <td>전체관람가</td>\n",
       "      <td>2017</td>\n",
       "      <td>3</td>\n",
       "      <td>흥행</td>\n",
       "    </tr>\n",
       "    <tr>\n",
       "      <th>...</th>\n",
       "      <td>...</td>\n",
       "      <td>...</td>\n",
       "      <td>...</td>\n",
       "      <td>...</td>\n",
       "      <td>...</td>\n",
       "      <td>...</td>\n",
       "      <td>...</td>\n",
       "      <td>...</td>\n",
       "      <td>...</td>\n",
       "      <td>...</td>\n",
       "    </tr>\n",
       "    <tr>\n",
       "      <th>17649</th>\n",
       "      <td>피아니스트</td>\n",
       "      <td>미카엘 하네케</td>\n",
       "      <td>0</td>\n",
       "      <td>0</td>\n",
       "      <td>12564</td>\n",
       "      <td>드라마</td>\n",
       "      <td>18세관람가</td>\n",
       "      <td>2002</td>\n",
       "      <td>12</td>\n",
       "      <td>비흥행</td>\n",
       "    </tr>\n",
       "    <tr>\n",
       "      <th>17659</th>\n",
       "      <td>하루</td>\n",
       "      <td>한지승</td>\n",
       "      <td>0</td>\n",
       "      <td>0</td>\n",
       "      <td>293530</td>\n",
       "      <td>드라마</td>\n",
       "      <td>15세관람가</td>\n",
       "      <td>2001</td>\n",
       "      <td>1</td>\n",
       "      <td>비흥행</td>\n",
       "    </tr>\n",
       "    <tr>\n",
       "      <th>17660</th>\n",
       "      <td>하루</td>\n",
       "      <td>한지승</td>\n",
       "      <td>0</td>\n",
       "      <td>0</td>\n",
       "      <td>293530</td>\n",
       "      <td>드라마</td>\n",
       "      <td>15세관람가</td>\n",
       "      <td>2001</td>\n",
       "      <td>1</td>\n",
       "      <td>비흥행</td>\n",
       "    </tr>\n",
       "    <tr>\n",
       "      <th>17661</th>\n",
       "      <td>하루</td>\n",
       "      <td>한지승</td>\n",
       "      <td>0</td>\n",
       "      <td>0</td>\n",
       "      <td>293530</td>\n",
       "      <td>드라마</td>\n",
       "      <td>15세관람가</td>\n",
       "      <td>2001</td>\n",
       "      <td>1</td>\n",
       "      <td>비흥행</td>\n",
       "    </tr>\n",
       "    <tr>\n",
       "      <th>17667</th>\n",
       "      <td>하치 이야기</td>\n",
       "      <td>코야마 세이지로</td>\n",
       "      <td>0</td>\n",
       "      <td>0</td>\n",
       "      <td>4917</td>\n",
       "      <td>드라마</td>\n",
       "      <td>전체관람가</td>\n",
       "      <td>2002</td>\n",
       "      <td>6</td>\n",
       "      <td>비흥행</td>\n",
       "    </tr>\n",
       "  </tbody>\n",
       "</table>\n",
       "<p>862 rows × 10 columns</p>\n",
       "</div>"
      ],
      "text/plain": [
       "          영화명        감독  스크린수  관객수(전국)  관객수(서울)   장르     관람가  개봉연도  개봉월   흥행\n",
       "31        엑시트       이상근  1660  9426051  2132869  코미디  12세관람가  2019    7   흥행\n",
       "61         럭키       이계벽  1158  6965706  1640015  코미디  15세관람가  2016   10   흥행\n",
       "65       범죄도시       강윤성  1315  6851297  1670254   범죄  18세관람가  2017   10   흥행\n",
       "89       숨바꼭질        허정   779  5602543  1356936  스릴러  15세관람가  2013    8   흥행\n",
       "111    미녀와 야수      빌 콘돈  1627  5137993  1531839   멜로   전체관람가  2017    3   흥행\n",
       "...       ...       ...   ...      ...      ...  ...     ...   ...  ...  ...\n",
       "17649   피아니스트   미카엘 하네케     0        0    12564  드라마  18세관람가  2002   12  비흥행\n",
       "17659      하루       한지승     0        0   293530  드라마  15세관람가  2001    1  비흥행\n",
       "17660      하루       한지승     0        0   293530  드라마  15세관람가  2001    1  비흥행\n",
       "17661      하루       한지승     0        0   293530  드라마  15세관람가  2001    1  비흥행\n",
       "17667  하치 이야기  코야마 세이지로     0        0     4917  드라마   전체관람가  2002    6  비흥행\n",
       "\n",
       "[862 rows x 10 columns]"
      ]
     },
     "execution_count": 474,
     "metadata": {},
     "output_type": "execute_result"
    }
   ],
   "source": [
    "movie[movie[['영화명','감독']].duplicated()]"
   ]
  },
  {
   "cell_type": "code",
   "execution_count": null,
   "id": "e9e4ef03",
   "metadata": {},
   "outputs": [],
   "source": []
  },
  {
   "cell_type": "code",
   "execution_count": 475,
   "id": "f922e7f5",
   "metadata": {},
   "outputs": [],
   "source": [
    "movie.drop_duplicates(['영화명','감독'], keep='first',inplace=True)"
   ]
  },
  {
   "cell_type": "code",
   "execution_count": 476,
   "id": "a6fba38b",
   "metadata": {},
   "outputs": [
    {
     "data": {
      "text/html": [
       "<div>\n",
       "<style scoped>\n",
       "    .dataframe tbody tr th:only-of-type {\n",
       "        vertical-align: middle;\n",
       "    }\n",
       "\n",
       "    .dataframe tbody tr th {\n",
       "        vertical-align: top;\n",
       "    }\n",
       "\n",
       "    .dataframe thead th {\n",
       "        text-align: right;\n",
       "    }\n",
       "</style>\n",
       "<table border=\"1\" class=\"dataframe\">\n",
       "  <thead>\n",
       "    <tr style=\"text-align: right;\">\n",
       "      <th></th>\n",
       "      <th>영화명</th>\n",
       "      <th>감독</th>\n",
       "      <th>스크린수</th>\n",
       "      <th>관객수(전국)</th>\n",
       "      <th>관객수(서울)</th>\n",
       "      <th>장르</th>\n",
       "      <th>관람가</th>\n",
       "      <th>개봉연도</th>\n",
       "      <th>개봉월</th>\n",
       "      <th>흥행</th>\n",
       "    </tr>\n",
       "  </thead>\n",
       "  <tbody>\n",
       "    <tr>\n",
       "      <th>1</th>\n",
       "      <td>명량</td>\n",
       "      <td>김한민</td>\n",
       "      <td>1587</td>\n",
       "      <td>17613682</td>\n",
       "      <td>4163666</td>\n",
       "      <td>사극</td>\n",
       "      <td>15세관람가</td>\n",
       "      <td>2014</td>\n",
       "      <td>7</td>\n",
       "      <td>흥행</td>\n",
       "    </tr>\n",
       "    <tr>\n",
       "      <th>2</th>\n",
       "      <td>극한직업</td>\n",
       "      <td>이병헌</td>\n",
       "      <td>1978</td>\n",
       "      <td>16264944</td>\n",
       "      <td>3638287</td>\n",
       "      <td>코미디</td>\n",
       "      <td>15세관람가</td>\n",
       "      <td>2019</td>\n",
       "      <td>1</td>\n",
       "      <td>흥행</td>\n",
       "    </tr>\n",
       "    <tr>\n",
       "      <th>3</th>\n",
       "      <td>신과함께-죄와 벌</td>\n",
       "      <td>김용화</td>\n",
       "      <td>1912</td>\n",
       "      <td>14410754</td>\n",
       "      <td>3346172</td>\n",
       "      <td>판타지</td>\n",
       "      <td>12세관람가</td>\n",
       "      <td>2017</td>\n",
       "      <td>12</td>\n",
       "      <td>흥행</td>\n",
       "    </tr>\n",
       "    <tr>\n",
       "      <th>4</th>\n",
       "      <td>국제시장</td>\n",
       "      <td>윤제균</td>\n",
       "      <td>966</td>\n",
       "      <td>14245998</td>\n",
       "      <td>3233946</td>\n",
       "      <td>드라마</td>\n",
       "      <td>12세관람가</td>\n",
       "      <td>2014</td>\n",
       "      <td>12</td>\n",
       "      <td>흥행</td>\n",
       "    </tr>\n",
       "    <tr>\n",
       "      <th>5</th>\n",
       "      <td>어벤져스: 엔드게임</td>\n",
       "      <td>안소니 루소,조 루소</td>\n",
       "      <td>2835</td>\n",
       "      <td>13934592</td>\n",
       "      <td>3597963</td>\n",
       "      <td>액션</td>\n",
       "      <td>12세관람가</td>\n",
       "      <td>2019</td>\n",
       "      <td>4</td>\n",
       "      <td>흥행</td>\n",
       "    </tr>\n",
       "  </tbody>\n",
       "</table>\n",
       "</div>"
      ],
      "text/plain": [
       "          영화명           감독  스크린수   관객수(전국)  관객수(서울)   장르     관람가  개봉연도  개봉월  \\\n",
       "1          명량          김한민  1587  17613682  4163666   사극  15세관람가  2014    7   \n",
       "2        극한직업          이병헌  1978  16264944  3638287  코미디  15세관람가  2019    1   \n",
       "3   신과함께-죄와 벌          김용화  1912  14410754  3346172  판타지  12세관람가  2017   12   \n",
       "4        국제시장          윤제균   966  14245998  3233946  드라마  12세관람가  2014   12   \n",
       "5  어벤져스: 엔드게임  안소니 루소,조 루소  2835  13934592  3597963   액션  12세관람가  2019    4   \n",
       "\n",
       "   흥행  \n",
       "1  흥행  \n",
       "2  흥행  \n",
       "3  흥행  \n",
       "4  흥행  \n",
       "5  흥행  "
      ]
     },
     "execution_count": 476,
     "metadata": {},
     "output_type": "execute_result"
    }
   ],
   "source": [
    "movie.head()"
   ]
  },
  {
   "cell_type": "code",
   "execution_count": 477,
   "id": "717b64b9",
   "metadata": {},
   "outputs": [],
   "source": [
    "movie = movie[['영화명','감독','개봉연도','개봉월','스크린수','관객수(전국)','관객수(서울)','관람가','장르','흥행']]"
   ]
  },
  {
   "cell_type": "code",
   "execution_count": 478,
   "id": "bc4db3ca",
   "metadata": {},
   "outputs": [
    {
     "data": {
      "text/html": [
       "<div>\n",
       "<style scoped>\n",
       "    .dataframe tbody tr th:only-of-type {\n",
       "        vertical-align: middle;\n",
       "    }\n",
       "\n",
       "    .dataframe tbody tr th {\n",
       "        vertical-align: top;\n",
       "    }\n",
       "\n",
       "    .dataframe thead th {\n",
       "        text-align: right;\n",
       "    }\n",
       "</style>\n",
       "<table border=\"1\" class=\"dataframe\">\n",
       "  <thead>\n",
       "    <tr style=\"text-align: right;\">\n",
       "      <th></th>\n",
       "      <th>영화명</th>\n",
       "      <th>감독</th>\n",
       "      <th>개봉연도</th>\n",
       "      <th>개봉월</th>\n",
       "      <th>스크린수</th>\n",
       "      <th>관객수(전국)</th>\n",
       "      <th>관객수(서울)</th>\n",
       "      <th>관람가</th>\n",
       "      <th>장르</th>\n",
       "      <th>흥행</th>\n",
       "    </tr>\n",
       "  </thead>\n",
       "  <tbody>\n",
       "    <tr>\n",
       "      <th>1</th>\n",
       "      <td>명량</td>\n",
       "      <td>김한민</td>\n",
       "      <td>2014</td>\n",
       "      <td>7</td>\n",
       "      <td>1587</td>\n",
       "      <td>17613682</td>\n",
       "      <td>4163666</td>\n",
       "      <td>15세관람가</td>\n",
       "      <td>사극</td>\n",
       "      <td>흥행</td>\n",
       "    </tr>\n",
       "    <tr>\n",
       "      <th>2</th>\n",
       "      <td>극한직업</td>\n",
       "      <td>이병헌</td>\n",
       "      <td>2019</td>\n",
       "      <td>1</td>\n",
       "      <td>1978</td>\n",
       "      <td>16264944</td>\n",
       "      <td>3638287</td>\n",
       "      <td>15세관람가</td>\n",
       "      <td>코미디</td>\n",
       "      <td>흥행</td>\n",
       "    </tr>\n",
       "    <tr>\n",
       "      <th>3</th>\n",
       "      <td>신과함께-죄와 벌</td>\n",
       "      <td>김용화</td>\n",
       "      <td>2017</td>\n",
       "      <td>12</td>\n",
       "      <td>1912</td>\n",
       "      <td>14410754</td>\n",
       "      <td>3346172</td>\n",
       "      <td>12세관람가</td>\n",
       "      <td>판타지</td>\n",
       "      <td>흥행</td>\n",
       "    </tr>\n",
       "    <tr>\n",
       "      <th>4</th>\n",
       "      <td>국제시장</td>\n",
       "      <td>윤제균</td>\n",
       "      <td>2014</td>\n",
       "      <td>12</td>\n",
       "      <td>966</td>\n",
       "      <td>14245998</td>\n",
       "      <td>3233946</td>\n",
       "      <td>12세관람가</td>\n",
       "      <td>드라마</td>\n",
       "      <td>흥행</td>\n",
       "    </tr>\n",
       "    <tr>\n",
       "      <th>5</th>\n",
       "      <td>어벤져스: 엔드게임</td>\n",
       "      <td>안소니 루소,조 루소</td>\n",
       "      <td>2019</td>\n",
       "      <td>4</td>\n",
       "      <td>2835</td>\n",
       "      <td>13934592</td>\n",
       "      <td>3597963</td>\n",
       "      <td>12세관람가</td>\n",
       "      <td>액션</td>\n",
       "      <td>흥행</td>\n",
       "    </tr>\n",
       "  </tbody>\n",
       "</table>\n",
       "</div>"
      ],
      "text/plain": [
       "          영화명           감독  개봉연도  개봉월  스크린수   관객수(전국)  관객수(서울)     관람가   장르  \\\n",
       "1          명량          김한민  2014    7  1587  17613682  4163666  15세관람가   사극   \n",
       "2        극한직업          이병헌  2019    1  1978  16264944  3638287  15세관람가  코미디   \n",
       "3   신과함께-죄와 벌          김용화  2017   12  1912  14410754  3346172  12세관람가  판타지   \n",
       "4        국제시장          윤제균  2014   12   966  14245998  3233946  12세관람가  드라마   \n",
       "5  어벤져스: 엔드게임  안소니 루소,조 루소  2019    4  2835  13934592  3597963  12세관람가   액션   \n",
       "\n",
       "   흥행  \n",
       "1  흥행  \n",
       "2  흥행  \n",
       "3  흥행  \n",
       "4  흥행  \n",
       "5  흥행  "
      ]
     },
     "execution_count": 478,
     "metadata": {},
     "output_type": "execute_result"
    }
   ],
   "source": [
    "movie.head()"
   ]
  },
  {
   "cell_type": "code",
   "execution_count": 479,
   "id": "e526afab",
   "metadata": {},
   "outputs": [],
   "source": [
    "movie.to_csv('./data/영화')"
   ]
  },
  {
   "cell_type": "code",
   "execution_count": 480,
   "id": "6a6c472f",
   "metadata": {},
   "outputs": [],
   "source": [
    "### 각 컬럼간의 상관 관계확인"
   ]
  },
  {
   "cell_type": "code",
   "execution_count": 481,
   "id": "0dd0f917",
   "metadata": {},
   "outputs": [
    {
     "data": {
      "text/plain": [
       "<AxesSubplot:title={'center':'상관관계'}>"
      ]
     },
     "execution_count": 481,
     "metadata": {},
     "output_type": "execute_result"
    },
    {
     "data": {
      "image/png": "[encoded data removed]",
      "text/plain": [
       "<Figure size 2000x600 with 2 Axes>"
      ]
     },
     "metadata": {},
     "output_type": "display_data"
    }
   ],
   "source": [
    "plt.figure(figsize=(20,6))\n",
    "plt.title('상관관계')\n",
    "sns.heatmap(movie.corr(),annot=True)"
   ]
  },
  {
   "cell_type": "code",
   "execution_count": 482,
   "id": "b8a86dff",
   "metadata": {},
   "outputs": [],
   "source": [
    "# 당연한 결과로 스크린수가 많으면 관객수도 많고, 월과 연도는 관객수와 관련이 없다.\n",
    "# 개봉연도, 개봉월도 관객수에 관련이 없다"
   ]
  },
  {
   "cell_type": "code",
   "execution_count": 483,
   "id": "cdb8a4af",
   "metadata": {},
   "outputs": [],
   "source": [
    "### 흥행확인"
   ]
  },
  {
   "cell_type": "code",
   "execution_count": 484,
   "id": "22ea8091",
   "metadata": {},
   "outputs": [
    {
     "name": "stderr",
     "output_type": "stream",
     "text": [
      "C:\\Users\\jkh75\\anaconda3\\lib\\site-packages\\seaborn\\_decorators.py:36: FutureWarning: Pass the following variable as a keyword arg: x. From version 0.12, the only valid positional argument will be `data`, and passing other arguments without an explicit keyword will result in an error or misinterpretation.\n",
      "  warnings.warn(\n"
     ]
    },
    {
     "data": {
      "text/plain": [
       "<AxesSubplot:xlabel='흥행', ylabel='count'>"
      ]
     },
     "execution_count": 484,
     "metadata": {},
     "output_type": "execute_result"
    },
    {
     "data": {
      "image/png": "[encoded data removed]",
      "text/plain": [
       "<Figure size 640x480 with 1 Axes>"
      ]
     },
     "metadata": {},
     "output_type": "display_data"
    }
   ],
   "source": [
    "sns.countplot(movie['흥행'])"
   ]
  },
  {
   "cell_type": "code",
   "execution_count": 485,
   "id": "2a97efa2",
   "metadata": {
    "scrolled": true
   },
   "outputs": [
    {
     "data": {
      "text/plain": [
       "<AxesSubplot:xlabel='개봉연도', ylabel='count'>"
      ]
     },
     "execution_count": 485,
     "metadata": {},
     "output_type": "execute_result"
    },
    {
     "data": {
      "image/png": "[encoded data removed]",
      "text/plain": [
       "<Figure size 1200x1000 with 1 Axes>"
      ]
     },
     "metadata": {},
     "output_type": "display_data"
    }
   ],
   "source": [
    "plt.figure(figsize=(12,10))\n",
    "sns.countplot(x=movie['개봉연도'], hue=movie['흥행'])"
   ]
  },
  {
   "cell_type": "code",
   "execution_count": 486,
   "id": "530d288c",
   "metadata": {
    "scrolled": true
   },
   "outputs": [
    {
     "data": {
      "text/plain": [
       "<AxesSubplot:>"
      ]
     },
     "execution_count": 486,
     "metadata": {},
     "output_type": "execute_result"
    },
    {
     "data": {
      "image/png": "[encoded data removed]",
      "text/plain": [
       "<Figure size 2000x600 with 1 Axes>"
      ]
     },
     "metadata": {},
     "output_type": "display_data"
    }
   ],
   "source": [
    "plt.figure(figsize=(20,6))\n",
    "sns.barplot(x = movie['감독'].value_counts().index[:20],y = movie['관객수(전국)'].value_counts().index[:20])"
   ]
  },
  {
   "cell_type": "code",
   "execution_count": 487,
   "id": "bb67a4a2",
   "metadata": {},
   "outputs": [],
   "source": [
    "# 흥행한 영화 상위10 감독, 작품수"
   ]
  },
  {
   "cell_type": "code",
   "execution_count": 488,
   "id": "5e08ada4",
   "metadata": {
    "scrolled": true
   },
   "outputs": [],
   "source": [
    "director = movie[['감독','흥행']]\n",
    "director_df = director[director['흥행'] == '흥행'].value_counts()[:10].to_frame()"
   ]
  },
  {
   "cell_type": "code",
   "execution_count": 489,
   "id": "f93368ca",
   "metadata": {
    "scrolled": true
   },
   "outputs": [
    {
     "data": {
      "text/html": [
       "<div>\n",
       "<style scoped>\n",
       "    .dataframe tbody tr th:only-of-type {\n",
       "        vertical-align: middle;\n",
       "    }\n",
       "\n",
       "    .dataframe tbody tr th {\n",
       "        vertical-align: top;\n",
       "    }\n",
       "\n",
       "    .dataframe thead th {\n",
       "        text-align: right;\n",
       "    }\n",
       "</style>\n",
       "<table border=\"1\" class=\"dataframe\">\n",
       "  <thead>\n",
       "    <tr style=\"text-align: right;\">\n",
       "      <th></th>\n",
       "      <th>감독</th>\n",
       "      <th>흥행</th>\n",
       "      <th>작품수</th>\n",
       "    </tr>\n",
       "  </thead>\n",
       "  <tbody>\n",
       "    <tr>\n",
       "      <th>0</th>\n",
       "      <td>이준익</td>\n",
       "      <td>흥행</td>\n",
       "      <td>12</td>\n",
       "    </tr>\n",
       "    <tr>\n",
       "      <th>1</th>\n",
       "      <td>유야마 쿠니히코</td>\n",
       "      <td>흥행</td>\n",
       "      <td>10</td>\n",
       "    </tr>\n",
       "    <tr>\n",
       "      <th>2</th>\n",
       "      <td>리들리 스콧</td>\n",
       "      <td>흥행</td>\n",
       "      <td>9</td>\n",
       "    </tr>\n",
       "    <tr>\n",
       "      <th>3</th>\n",
       "      <td>강우석</td>\n",
       "      <td>흥행</td>\n",
       "      <td>8</td>\n",
       "    </tr>\n",
       "    <tr>\n",
       "      <th>4</th>\n",
       "      <td>크리스토퍼 놀란</td>\n",
       "      <td>흥행</td>\n",
       "      <td>8</td>\n",
       "    </tr>\n",
       "    <tr>\n",
       "      <th>5</th>\n",
       "      <td>류승완</td>\n",
       "      <td>흥행</td>\n",
       "      <td>8</td>\n",
       "    </tr>\n",
       "    <tr>\n",
       "      <th>6</th>\n",
       "      <td>장진</td>\n",
       "      <td>흥행</td>\n",
       "      <td>8</td>\n",
       "    </tr>\n",
       "    <tr>\n",
       "      <th>7</th>\n",
       "      <td>피터 잭슨</td>\n",
       "      <td>흥행</td>\n",
       "      <td>7</td>\n",
       "    </tr>\n",
       "    <tr>\n",
       "      <th>8</th>\n",
       "      <td>데이빗 예이츠</td>\n",
       "      <td>흥행</td>\n",
       "      <td>7</td>\n",
       "    </tr>\n",
       "    <tr>\n",
       "      <th>9</th>\n",
       "      <td>팀 버튼</td>\n",
       "      <td>흥행</td>\n",
       "      <td>7</td>\n",
       "    </tr>\n",
       "  </tbody>\n",
       "</table>\n",
       "</div>"
      ],
      "text/plain": [
       "         감독  흥행  작품수\n",
       "0       이준익  흥행   12\n",
       "1  유야마 쿠니히코  흥행   10\n",
       "2    리들리 스콧  흥행    9\n",
       "3       강우석  흥행    8\n",
       "4  크리스토퍼 놀란  흥행    8\n",
       "5       류승완  흥행    8\n",
       "6        장진  흥행    8\n",
       "7     피터 잭슨  흥행    7\n",
       "8   데이빗 예이츠  흥행    7\n",
       "9      팀 버튼  흥행    7"
      ]
     },
     "execution_count": 489,
     "metadata": {},
     "output_type": "execute_result"
    }
   ],
   "source": [
    "#director = movie[['감독','흥행']]\n",
    "#director_df = director.value_counts().to_frame()\n",
    "director_df = director_df.reset_index()\n",
    "director_df.rename(columns={0:'작품수'},inplace=True)\n",
    "director_df"
   ]
  },
  {
   "cell_type": "code",
   "execution_count": 490,
   "id": "a0b92d5d",
   "metadata": {},
   "outputs": [],
   "source": [
    "# 특정 감독들의 다수의 작품이 흥행이 됬다는 걸 볼수 있다."
   ]
  },
  {
   "cell_type": "code",
   "execution_count": 491,
   "id": "522de937",
   "metadata": {
    "scrolled": true
   },
   "outputs": [
    {
     "data": {
      "text/plain": [
       "<AxesSubplot:xlabel='감독', ylabel='작품수'>"
      ]
     },
     "execution_count": 491,
     "metadata": {},
     "output_type": "execute_result"
    },
    {
     "data": {
      "image/png": "[encoded data removed]",
      "text/plain": [
       "<Figure size 1500x700 with 1 Axes>"
      ]
     },
     "metadata": {},
     "output_type": "display_data"
    }
   ],
   "source": [
    "plt.figure(figsize = (15,7))\n",
    "sns.barplot(x = director_df['감독'], y = director_df['작품수'])"
   ]
  },
  {
   "cell_type": "code",
   "execution_count": 492,
   "id": "269dda5a",
   "metadata": {},
   "outputs": [],
   "source": [
    "# 드라마, 코미디, 액션, 애니메이션이 흥행을 했지만 비흥행도 높은 수치를 나타내고 있다. 그러므로 멜로, 드라마, 액션, 코미디, 성인물 장르의\n",
    "# 작품들이 많이 제작되고 있다."
   ]
  },
  {
   "cell_type": "code",
   "execution_count": 493,
   "id": "eba2156c",
   "metadata": {},
   "outputs": [
    {
     "name": "stderr",
     "output_type": "stream",
     "text": [
      "C:\\Users\\jkh75\\anaconda3\\lib\\site-packages\\seaborn\\_decorators.py:36: FutureWarning: Pass the following variable as a keyword arg: x. From version 0.12, the only valid positional argument will be `data`, and passing other arguments without an explicit keyword will result in an error or misinterpretation.\n",
      "  warnings.warn(\n"
     ]
    },
    {
     "data": {
      "text/plain": [
       "<AxesSubplot:xlabel='장르', ylabel='count'>"
      ]
     },
     "execution_count": 493,
     "metadata": {},
     "output_type": "execute_result"
    },
    {
     "data": {
      "image/png": "[encoded data removed]",
      "text/plain": [
       "<Figure size 1500x700 with 1 Axes>"
      ]
     },
     "metadata": {},
     "output_type": "display_data"
    }
   ],
   "source": [
    "plt.figure(figsize=(15,7))\n",
    "sns.countplot(movie['장르'], hue = movie['흥행'])"
   ]
  },
  {
   "cell_type": "code",
   "execution_count": 494,
   "id": "81fbddae",
   "metadata": {},
   "outputs": [],
   "source": [
    "# 15세 관람가가 흥행을 더 많이 했지만, 전체 관람가보다 12세 관람가 관객수가 많은걸 볼수있다."
   ]
  },
  {
   "cell_type": "code",
   "execution_count": 495,
   "id": "2ec12ab3",
   "metadata": {
    "scrolled": false
   },
   "outputs": [
    {
     "name": "stderr",
     "output_type": "stream",
     "text": [
      "C:\\Users\\jkh75\\anaconda3\\lib\\site-packages\\seaborn\\_decorators.py:36: FutureWarning: Pass the following variable as a keyword arg: x. From version 0.12, the only valid positional argument will be `data`, and passing other arguments without an explicit keyword will result in an error or misinterpretation.\n",
      "  warnings.warn(\n",
      "C:\\Users\\jkh75\\anaconda3\\lib\\site-packages\\seaborn\\_decorators.py:36: FutureWarning: Pass the following variable as a keyword arg: x. From version 0.12, the only valid positional argument will be `data`, and passing other arguments without an explicit keyword will result in an error or misinterpretation.\n",
      "  warnings.warn(\n"
     ]
    },
    {
     "data": {
      "image/png": "[encoded data removed]",
      "text/plain": [
       "<Figure size 1600x1000 with 2 Axes>"
      ]
     },
     "metadata": {},
     "output_type": "display_data"
    }
   ],
   "source": [
    "fig,ax = plt.subplots(ncols=2,figsize=(16,10)) \n",
    "sns.countplot(movie['관람가'], hue = movie['흥행'],ax=ax[0])\n",
    "sns.countplot(movie['개봉월'], hue = movie['흥행'],ax=ax[1])\n",
    "pass"
   ]
  },
  {
   "cell_type": "code",
   "execution_count": 496,
   "id": "6fe4f512",
   "metadata": {},
   "outputs": [],
   "source": [
    "# 파이 그래프와 바그래프를 비교하였을때 18세 관람가 영화는 48.6%센트로 많이 제작되지만 관객수가 많지는 않다. 하지만, 15세 관람가는 25.5%에\n",
    "# 비해 흥행수치가 높다는걸 볼수 있다."
   ]
  },
  {
   "cell_type": "code",
   "execution_count": 497,
   "id": "a91df70c",
   "metadata": {
    "scrolled": false
   },
   "outputs": [
    {
     "data": {
      "text/plain": [
       "<AxesSubplot:xlabel='관람가', ylabel='관객수(전국)'>"
      ]
     },
     "execution_count": 497,
     "metadata": {},
     "output_type": "execute_result"
    },
    {
     "data": {
      "image/png": "[encoded data removed]",
      "text/plain": [
       "<Figure size 640x480 with 1 Axes>"
      ]
     },
     "metadata": {},
     "output_type": "display_data"
    }
   ],
   "source": [
    "sns.barplot(x=movie['관람가'],y=movie['관객수(전국)'])"
   ]
  },
  {
   "cell_type": "code",
   "execution_count": 498,
   "id": "b01b4355",
   "metadata": {},
   "outputs": [
    {
     "data": {
      "image/png": "[encoded data removed]",
      "text/plain": [
       "<Figure size 640x480 with 1 Axes>"
      ]
     },
     "metadata": {},
     "output_type": "display_data"
    }
   ],
   "source": [
    "plt.pie(movie['관람가'].value_counts(), labels = movie['관람가'].value_counts().index, autopct=\"%.1f%%\")\n",
    "pass"
   ]
  },
  {
   "cell_type": "code",
   "execution_count": null,
   "id": "7ca32e83",
   "metadata": {},
   "outputs": [],
   "source": []
  }
 ],
 "metadata": {
  "kernelspec": {
   "display_name": "data",
   "language": "python",
   "name": "python3"
  },
  "language_info": {
   "codemirror_mode": {
    "name": "ipython",
    "version": 3
   },
   "file_extension": ".py",
   "mimetype": "text/x-python",
   "name": "python",
   "nbconvert_exporter": "python",
   "pygments_lexer": "ipython3",
   "version": "3.8.16"
  },
  "vscode": {
   "interpreter": {
    "hash": "1941af3c21750f36c3fed46f2164f9d4de632b179d034fbed3d9b87f1144527f"
   }
  }
 },
 "nbformat": 4,
 "nbformat_minor": 5
}
